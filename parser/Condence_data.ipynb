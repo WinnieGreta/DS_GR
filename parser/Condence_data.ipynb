{
 "cells": [
  {
   "cell_type": "code",
   "execution_count": 1,
   "id": "initial_id",
   "metadata": {
    "collapsed": true,
    "ExecuteTime": {
     "end_time": "2023-11-08T18:26:19.185888600Z",
     "start_time": "2023-11-08T18:26:18.858854800Z"
    }
   },
   "outputs": [],
   "source": [
    "import numpy as np\n",
    "import pandas as pd"
   ]
  },
  {
   "cell_type": "code",
   "execution_count": 11,
   "outputs": [],
   "source": [
    "all_records = pd.read_csv(r'C:\\Users\\trush\\Downloads\\Library_Collection_Inventory_20231102.csv', on_bad_lines='skip', nrows=1000)"
   ],
   "metadata": {
    "collapsed": false,
    "ExecuteTime": {
     "end_time": "2023-11-08T12:15:01.263126400Z",
     "start_time": "2023-11-08T12:15:01.231079800Z"
    }
   },
   "id": "63d1544f9197d7d2"
  },
  {
   "cell_type": "code",
   "execution_count": 12,
   "outputs": [
    {
     "data": {
      "text/plain": "    BibNum                                              Title  \\\n0  3479509  Franklin and Luna and the book of fairy tales ...   \n1  2737917  Holiday dinners with Bradley Ogden : 150 festi...   \n2  3435473                     Invasion of privacy / Cardi B.   \n3  3359831  Cuzco, Machu Picchu & the Inca heartland / Rob...   \n4  2638616  Lean-to shelters for family protection in an a...   \n\n                Author                       ISBN PublicationYear  \\\n0        Campbell, Jen  0500651752, 9780500651759           2019.   \n1       Ogden, Bradley  0762439157, 9780762439157          [2011]   \n2       Cardi B, 1992-                        NaN          [2019]   \n3  Kunstaetter, Robert  1911082256, 9781911082255           2017.   \n4                  NaN                        NaN         [1953?]   \n\n                                           Publisher  \\\n0                                 Thames and Hudson,   \n1                                     Running Press,   \n2                                          Atlantic,   \n3                                         Footprint,   \n4  Federal Civil Defense Administration : For sal...   \n\n                                            Subjects ItemType ItemCollection  \\\n0  Dragons Juvenile fiction, Characters and chara...     jcbk          ncnew   \n1                           Cooking, Holiday cooking     acbk           nanf   \n2  Popular music 2011 2020, Rap Music, Popular mu...     accd           nacd   \n3  Peru Guidebooks, Cuzco Peru Guidebooks, Machu ...     acbk           nanf   \n4  Air raid shelters Design and construction, Ato...     acbk          cadoc   \n\n  FloatingItem ItemLocation  ReportDate  ItemCount  \n0          NaN          net  03/01/2020          1  \n1          NaN          swt  12/01/2020          1  \n2          NaN          bea  11/01/2020          1  \n3          NaN          wts  03/01/2020          1  \n4          NaN          cen  03/01/2020          1  ",
      "text/html": "<div>\n<style scoped>\n    .dataframe tbody tr th:only-of-type {\n        vertical-align: middle;\n    }\n\n    .dataframe tbody tr th {\n        vertical-align: top;\n    }\n\n    .dataframe thead th {\n        text-align: right;\n    }\n</style>\n<table border=\"1\" class=\"dataframe\">\n  <thead>\n    <tr style=\"text-align: right;\">\n      <th></th>\n      <th>BibNum</th>\n      <th>Title</th>\n      <th>Author</th>\n      <th>ISBN</th>\n      <th>PublicationYear</th>\n      <th>Publisher</th>\n      <th>Subjects</th>\n      <th>ItemType</th>\n      <th>ItemCollection</th>\n      <th>FloatingItem</th>\n      <th>ItemLocation</th>\n      <th>ReportDate</th>\n      <th>ItemCount</th>\n    </tr>\n  </thead>\n  <tbody>\n    <tr>\n      <th>0</th>\n      <td>3479509</td>\n      <td>Franklin and Luna and the book of fairy tales ...</td>\n      <td>Campbell, Jen</td>\n      <td>0500651752, 9780500651759</td>\n      <td>2019.</td>\n      <td>Thames and Hudson,</td>\n      <td>Dragons Juvenile fiction, Characters and chara...</td>\n      <td>jcbk</td>\n      <td>ncnew</td>\n      <td>NaN</td>\n      <td>net</td>\n      <td>03/01/2020</td>\n      <td>1</td>\n    </tr>\n    <tr>\n      <th>1</th>\n      <td>2737917</td>\n      <td>Holiday dinners with Bradley Ogden : 150 festi...</td>\n      <td>Ogden, Bradley</td>\n      <td>0762439157, 9780762439157</td>\n      <td>[2011]</td>\n      <td>Running Press,</td>\n      <td>Cooking, Holiday cooking</td>\n      <td>acbk</td>\n      <td>nanf</td>\n      <td>NaN</td>\n      <td>swt</td>\n      <td>12/01/2020</td>\n      <td>1</td>\n    </tr>\n    <tr>\n      <th>2</th>\n      <td>3435473</td>\n      <td>Invasion of privacy / Cardi B.</td>\n      <td>Cardi B, 1992-</td>\n      <td>NaN</td>\n      <td>[2019]</td>\n      <td>Atlantic,</td>\n      <td>Popular music 2011 2020, Rap Music, Popular mu...</td>\n      <td>accd</td>\n      <td>nacd</td>\n      <td>NaN</td>\n      <td>bea</td>\n      <td>11/01/2020</td>\n      <td>1</td>\n    </tr>\n    <tr>\n      <th>3</th>\n      <td>3359831</td>\n      <td>Cuzco, Machu Picchu &amp; the Inca heartland / Rob...</td>\n      <td>Kunstaetter, Robert</td>\n      <td>1911082256, 9781911082255</td>\n      <td>2017.</td>\n      <td>Footprint,</td>\n      <td>Peru Guidebooks, Cuzco Peru Guidebooks, Machu ...</td>\n      <td>acbk</td>\n      <td>nanf</td>\n      <td>NaN</td>\n      <td>wts</td>\n      <td>03/01/2020</td>\n      <td>1</td>\n    </tr>\n    <tr>\n      <th>4</th>\n      <td>2638616</td>\n      <td>Lean-to shelters for family protection in an a...</td>\n      <td>NaN</td>\n      <td>NaN</td>\n      <td>[1953?]</td>\n      <td>Federal Civil Defense Administration : For sal...</td>\n      <td>Air raid shelters Design and construction, Ato...</td>\n      <td>acbk</td>\n      <td>cadoc</td>\n      <td>NaN</td>\n      <td>cen</td>\n      <td>03/01/2020</td>\n      <td>1</td>\n    </tr>\n  </tbody>\n</table>\n</div>"
     },
     "execution_count": 12,
     "metadata": {},
     "output_type": "execute_result"
    }
   ],
   "source": [
    "all_records.head()"
   ],
   "metadata": {
    "collapsed": false,
    "ExecuteTime": {
     "end_time": "2023-11-08T12:15:03.382007700Z",
     "start_time": "2023-11-08T12:15:03.363497Z"
    }
   },
   "id": "f3a182070ea42a71"
  },
  {
   "cell_type": "code",
   "execution_count": 6,
   "outputs": [
    {
     "data": {
      "text/plain": "1000"
     },
     "execution_count": 6,
     "metadata": {},
     "output_type": "execute_result"
    }
   ],
   "source": [
    "len(all_records)"
   ],
   "metadata": {
    "collapsed": false,
    "ExecuteTime": {
     "end_time": "2023-11-03T21:48:45.325539200Z",
     "start_time": "2023-11-03T21:48:45.305538300Z"
    }
   },
   "id": "fa19397e917e349"
  },
  {
   "cell_type": "code",
   "execution_count": 31,
   "outputs": [],
   "source": [
    "all_records_2 = pd.read_csv(r'C:\\Users\\trush\\Downloads\\Library_Collection_Inventory_20231102.csv', on_bad_lines='skip', skiprows=1000, nrows=1000, header=None, names=column_names)"
   ],
   "metadata": {
    "collapsed": false,
    "ExecuteTime": {
     "end_time": "2023-11-08T12:29:58.790420Z",
     "start_time": "2023-11-08T12:29:58.766269100Z"
    }
   },
   "id": "684f81ab5fa9eac7"
  },
  {
   "cell_type": "code",
   "execution_count": 32,
   "outputs": [
    {
     "data": {
      "text/plain": "    BibNum                                              Title  \\\n0  2748523  Animals and the kids who love them : extraordi...   \n1   475483                The White House; an historic guide.   \n2   516721  Proceedings of the Washington Pioneer Associat...   \n3  3126772  Around the world : a colorful atlas for kids /...   \n4  3225622  The everything learning Russian book : speak, ...   \n\n                                            Author                       ISBN  \\\n0                           Anderson, Allen, 1954-  1577319591, 9781577319597   \n1                                              NaN                        NaN   \n2  Pioneer Association of the State of Washington.                        NaN   \n3                             Ganeri, Anita, 1961-  0807504432, 9780807504437   \n4                               Stakhnevich, Julia  1598693875, 9781598693874   \n\n  PublicationYear                            Publisher  \\\n0          [2011]                   New World Library,   \n1           1962-  White House Historical Association,   \n2             NaN                      The Association   \n3           2015.            Albert Whitman & Company,   \n4          [2007]                         Adams Media,   \n\n                                            Subjects ItemType ItemCollection  \\\n0  Pets Anecdotes, Pets Psychological aspects Ane...     acbk           canf   \n1                         White House Washington D C     acbk           canf   \n2  Pioneer Association of the State of Washington...     arbk          casea   \n3  Atlases Juvenile literature, Childrens atlases...     jcbk           ncnf   \n4  Russian language Textbooks for foreign speaker...     acbk           naln   \n\n  FloatingItem ItemLocation  ReportDate  ItemCount  \n0          NaN          cen  05/01/2020          1  \n1          NaN          cen  10/01/2020          1  \n2          NaN          cen  02/01/2020          2  \n3          NaN          col  04/01/2020          1  \n4          NaN          bal  06/01/2020          1  ",
      "text/html": "<div>\n<style scoped>\n    .dataframe tbody tr th:only-of-type {\n        vertical-align: middle;\n    }\n\n    .dataframe tbody tr th {\n        vertical-align: top;\n    }\n\n    .dataframe thead th {\n        text-align: right;\n    }\n</style>\n<table border=\"1\" class=\"dataframe\">\n  <thead>\n    <tr style=\"text-align: right;\">\n      <th></th>\n      <th>BibNum</th>\n      <th>Title</th>\n      <th>Author</th>\n      <th>ISBN</th>\n      <th>PublicationYear</th>\n      <th>Publisher</th>\n      <th>Subjects</th>\n      <th>ItemType</th>\n      <th>ItemCollection</th>\n      <th>FloatingItem</th>\n      <th>ItemLocation</th>\n      <th>ReportDate</th>\n      <th>ItemCount</th>\n    </tr>\n  </thead>\n  <tbody>\n    <tr>\n      <th>0</th>\n      <td>2748523</td>\n      <td>Animals and the kids who love them : extraordi...</td>\n      <td>Anderson, Allen, 1954-</td>\n      <td>1577319591, 9781577319597</td>\n      <td>[2011]</td>\n      <td>New World Library,</td>\n      <td>Pets Anecdotes, Pets Psychological aspects Ane...</td>\n      <td>acbk</td>\n      <td>canf</td>\n      <td>NaN</td>\n      <td>cen</td>\n      <td>05/01/2020</td>\n      <td>1</td>\n    </tr>\n    <tr>\n      <th>1</th>\n      <td>475483</td>\n      <td>The White House; an historic guide.</td>\n      <td>NaN</td>\n      <td>NaN</td>\n      <td>1962-</td>\n      <td>White House Historical Association,</td>\n      <td>White House Washington D C</td>\n      <td>acbk</td>\n      <td>canf</td>\n      <td>NaN</td>\n      <td>cen</td>\n      <td>10/01/2020</td>\n      <td>1</td>\n    </tr>\n    <tr>\n      <th>2</th>\n      <td>516721</td>\n      <td>Proceedings of the Washington Pioneer Associat...</td>\n      <td>Pioneer Association of the State of Washington.</td>\n      <td>NaN</td>\n      <td>NaN</td>\n      <td>The Association</td>\n      <td>Pioneer Association of the State of Washington...</td>\n      <td>arbk</td>\n      <td>casea</td>\n      <td>NaN</td>\n      <td>cen</td>\n      <td>02/01/2020</td>\n      <td>2</td>\n    </tr>\n    <tr>\n      <th>3</th>\n      <td>3126772</td>\n      <td>Around the world : a colorful atlas for kids /...</td>\n      <td>Ganeri, Anita, 1961-</td>\n      <td>0807504432, 9780807504437</td>\n      <td>2015.</td>\n      <td>Albert Whitman &amp; Company,</td>\n      <td>Atlases Juvenile literature, Childrens atlases...</td>\n      <td>jcbk</td>\n      <td>ncnf</td>\n      <td>NaN</td>\n      <td>col</td>\n      <td>04/01/2020</td>\n      <td>1</td>\n    </tr>\n    <tr>\n      <th>4</th>\n      <td>3225622</td>\n      <td>The everything learning Russian book : speak, ...</td>\n      <td>Stakhnevich, Julia</td>\n      <td>1598693875, 9781598693874</td>\n      <td>[2007]</td>\n      <td>Adams Media,</td>\n      <td>Russian language Textbooks for foreign speaker...</td>\n      <td>acbk</td>\n      <td>naln</td>\n      <td>NaN</td>\n      <td>bal</td>\n      <td>06/01/2020</td>\n      <td>1</td>\n    </tr>\n  </tbody>\n</table>\n</div>"
     },
     "execution_count": 32,
     "metadata": {},
     "output_type": "execute_result"
    }
   ],
   "source": [
    "all_records_2.head()"
   ],
   "metadata": {
    "collapsed": false,
    "ExecuteTime": {
     "end_time": "2023-11-08T12:30:01.390942Z",
     "start_time": "2023-11-08T12:30:01.371950300Z"
    }
   },
   "id": "7029d5d1f6ca1ae1"
  },
  {
   "cell_type": "code",
   "execution_count": 5,
   "outputs": [],
   "source": [
    "all_headers = pd.read_csv(r'C:\\Users\\trush\\Downloads\\Library_Collection_Inventory_20231102.csv', on_bad_lines='skip', nrows=0)"
   ],
   "metadata": {
    "collapsed": false,
    "ExecuteTime": {
     "end_time": "2023-11-08T12:10:41.495731Z",
     "start_time": "2023-11-08T12:10:41.474731600Z"
    }
   },
   "id": "9135d50580cc50d9"
  },
  {
   "cell_type": "code",
   "execution_count": 6,
   "outputs": [
    {
     "data": {
      "text/plain": "Empty DataFrame\nColumns: [BibNum, Title, Author, ISBN, PublicationYear, Publisher, Subjects, ItemType, ItemCollection, FloatingItem, ItemLocation, ReportDate, ItemCount]\nIndex: []",
      "text/html": "<div>\n<style scoped>\n    .dataframe tbody tr th:only-of-type {\n        vertical-align: middle;\n    }\n\n    .dataframe tbody tr th {\n        vertical-align: top;\n    }\n\n    .dataframe thead th {\n        text-align: right;\n    }\n</style>\n<table border=\"1\" class=\"dataframe\">\n  <thead>\n    <tr style=\"text-align: right;\">\n      <th></th>\n      <th>BibNum</th>\n      <th>Title</th>\n      <th>Author</th>\n      <th>ISBN</th>\n      <th>PublicationYear</th>\n      <th>Publisher</th>\n      <th>Subjects</th>\n      <th>ItemType</th>\n      <th>ItemCollection</th>\n      <th>FloatingItem</th>\n      <th>ItemLocation</th>\n      <th>ReportDate</th>\n      <th>ItemCount</th>\n    </tr>\n  </thead>\n  <tbody>\n  </tbody>\n</table>\n</div>"
     },
     "execution_count": 6,
     "metadata": {},
     "output_type": "execute_result"
    }
   ],
   "source": [
    "all_headers"
   ],
   "metadata": {
    "collapsed": false,
    "ExecuteTime": {
     "end_time": "2023-11-08T12:10:43.564470400Z",
     "start_time": "2023-11-08T12:10:43.550928100Z"
    }
   },
   "id": "e79a102e03ac3a08"
  },
  {
   "cell_type": "code",
   "execution_count": 30,
   "outputs": [],
   "source": [
    "column_names = ['BibNum', 'Title', 'Author', 'ISBN', 'PublicationYear', 'Publisher', 'Subjects', 'ItemType', 'ItemCollection', 'FloatingItem', 'ItemLocation', 'ReportDate', 'ItemCount']"
   ],
   "metadata": {
    "collapsed": false,
    "ExecuteTime": {
     "end_time": "2023-11-08T12:29:24.831690800Z",
     "start_time": "2023-11-08T12:29:24.825690600Z"
    }
   },
   "id": "6ed792e798a3692b"
  },
  {
   "cell_type": "code",
   "execution_count": 28,
   "outputs": [],
   "source": [
    "records2_with_headers = pd.DataFrame(np.row_stack([all_records_2.columns, all_records_2.values]), columns=column_names)"
   ],
   "metadata": {
    "collapsed": false,
    "ExecuteTime": {
     "end_time": "2023-11-08T12:28:03.602963300Z",
     "start_time": "2023-11-08T12:28:03.581391Z"
    }
   },
   "id": "4f1238fdebbba687"
  },
  {
   "cell_type": "code",
   "execution_count": 29,
   "outputs": [
    {
     "data": {
      "text/plain": "       BibNum                                              Title  \\\n0           0                                                  1   \n1     2748523  Animals and the kids who love them : extraordi...   \n2      475483                The White House; an historic guide.   \n3      516721  Proceedings of the Washington Pioneer Associat...   \n4     3126772  Around the world : a colorful atlas for kids /...   \n...       ...                                                ...   \n996   3278696  The big freeze / VanDerKloot Film & Television...   \n997   2372793                   The color purple / Alice Walker.   \n998   1743040  [Confirmation packet for appointment of Ray M....   \n999   3077990  How to pee : potty training for boys / Todd Sp...   \n1000  1996036                          Dreams / Ezra Jack Keats.   \n\n                                               Author  \\\n0                                                   2   \n1                              Anderson, Allen, 1954-   \n2                                                 NaN   \n3     Pioneer Association of the State of Washington.   \n4                                Ganeri, Anita, 1961-   \n...                                               ...   \n996                                               NaN   \n997                              Walker, Alice, 1944-   \n998        Seattle (Wash.). Mayor (1978-1990 : Royer)   \n999                                     Spector, Todd   \n1000                                 Keats, Ezra Jack   \n\n                           ISBN PublicationYear  \\\n0                             3               4   \n1     1577319591, 9781577319597          [2011]   \n2                           NaN           1962-   \n3                           NaN             NaN   \n4     0807504432, 9780807504437           2015.   \n...                         ...             ...   \n996                         NaN          [2015]   \n997   0151191549, 9780151191543          [1982]   \n998                         NaN          [1985]   \n999   0805097732, 9780805097733          [2015]   \n1000     0140567445, 0670892254           2000.   \n\n                                              Publisher  \\\n0                                                     5   \n1                                    New World Library,   \n2                   White House Historical Association,   \n3                                       The Association   \n4                             Albert Whitman & Company,   \n...                                                 ...   \n996   VanDerKloot Film & Television, Inc./Little Mam...   \n997                                           Harcourt,   \n998                                          The Mayor,   \n999                             Henry Holt and Company,   \n1000                                            Viking,   \n\n                                               Subjects ItemType  \\\n0                                                     6        7   \n1     Pets Anecdotes, Pets Psychological aspects Ane...     acbk   \n2                            White House Washington D C     acbk   \n3     Pioneer Association of the State of Washington...     arbk   \n4     Atlases Juvenile literature, Childrens atlases...     jcbk   \n...                                                 ...      ...   \n996   Ice Juvenile films, Glaciers Juvenile films, I...    jcdvd   \n997   African American women Southern States Fiction...     acbk   \n998   Nicola Bud, Seattle King County Department of ...     arbk   \n999   Toilet training Juvenile literature, Urination...     jcbk   \n1000  Night Juvenile fiction, Paper work Juvenile fi...     jcbk   \n\n     ItemCollection FloatingItem ItemLocation  ReportDate ItemCount  \n0                 8            9           10          11        12  \n1              canf          NaN          cen  05/01/2020         1  \n2              canf          NaN          cen  10/01/2020         1  \n3             casea          NaN          cen  02/01/2020         2  \n4              ncnf          NaN          col  04/01/2020         1  \n...             ...          ...          ...         ...       ...  \n996         ncdvdnf     Floating          net  06/01/2020         1  \n997           nafic          NaN          bea  04/01/2020         1  \n998           casea          NaN          cen  12/01/2020         1  \n999           ncenf          NaN          qna  01/01/2020         1  \n1000          ccpic          NaN          cen  02/01/2020         1  \n\n[1001 rows x 13 columns]",
      "text/html": "<div>\n<style scoped>\n    .dataframe tbody tr th:only-of-type {\n        vertical-align: middle;\n    }\n\n    .dataframe tbody tr th {\n        vertical-align: top;\n    }\n\n    .dataframe thead th {\n        text-align: right;\n    }\n</style>\n<table border=\"1\" class=\"dataframe\">\n  <thead>\n    <tr style=\"text-align: right;\">\n      <th></th>\n      <th>BibNum</th>\n      <th>Title</th>\n      <th>Author</th>\n      <th>ISBN</th>\n      <th>PublicationYear</th>\n      <th>Publisher</th>\n      <th>Subjects</th>\n      <th>ItemType</th>\n      <th>ItemCollection</th>\n      <th>FloatingItem</th>\n      <th>ItemLocation</th>\n      <th>ReportDate</th>\n      <th>ItemCount</th>\n    </tr>\n  </thead>\n  <tbody>\n    <tr>\n      <th>0</th>\n      <td>0</td>\n      <td>1</td>\n      <td>2</td>\n      <td>3</td>\n      <td>4</td>\n      <td>5</td>\n      <td>6</td>\n      <td>7</td>\n      <td>8</td>\n      <td>9</td>\n      <td>10</td>\n      <td>11</td>\n      <td>12</td>\n    </tr>\n    <tr>\n      <th>1</th>\n      <td>2748523</td>\n      <td>Animals and the kids who love them : extraordi...</td>\n      <td>Anderson, Allen, 1954-</td>\n      <td>1577319591, 9781577319597</td>\n      <td>[2011]</td>\n      <td>New World Library,</td>\n      <td>Pets Anecdotes, Pets Psychological aspects Ane...</td>\n      <td>acbk</td>\n      <td>canf</td>\n      <td>NaN</td>\n      <td>cen</td>\n      <td>05/01/2020</td>\n      <td>1</td>\n    </tr>\n    <tr>\n      <th>2</th>\n      <td>475483</td>\n      <td>The White House; an historic guide.</td>\n      <td>NaN</td>\n      <td>NaN</td>\n      <td>1962-</td>\n      <td>White House Historical Association,</td>\n      <td>White House Washington D C</td>\n      <td>acbk</td>\n      <td>canf</td>\n      <td>NaN</td>\n      <td>cen</td>\n      <td>10/01/2020</td>\n      <td>1</td>\n    </tr>\n    <tr>\n      <th>3</th>\n      <td>516721</td>\n      <td>Proceedings of the Washington Pioneer Associat...</td>\n      <td>Pioneer Association of the State of Washington.</td>\n      <td>NaN</td>\n      <td>NaN</td>\n      <td>The Association</td>\n      <td>Pioneer Association of the State of Washington...</td>\n      <td>arbk</td>\n      <td>casea</td>\n      <td>NaN</td>\n      <td>cen</td>\n      <td>02/01/2020</td>\n      <td>2</td>\n    </tr>\n    <tr>\n      <th>4</th>\n      <td>3126772</td>\n      <td>Around the world : a colorful atlas for kids /...</td>\n      <td>Ganeri, Anita, 1961-</td>\n      <td>0807504432, 9780807504437</td>\n      <td>2015.</td>\n      <td>Albert Whitman &amp; Company,</td>\n      <td>Atlases Juvenile literature, Childrens atlases...</td>\n      <td>jcbk</td>\n      <td>ncnf</td>\n      <td>NaN</td>\n      <td>col</td>\n      <td>04/01/2020</td>\n      <td>1</td>\n    </tr>\n    <tr>\n      <th>...</th>\n      <td>...</td>\n      <td>...</td>\n      <td>...</td>\n      <td>...</td>\n      <td>...</td>\n      <td>...</td>\n      <td>...</td>\n      <td>...</td>\n      <td>...</td>\n      <td>...</td>\n      <td>...</td>\n      <td>...</td>\n      <td>...</td>\n    </tr>\n    <tr>\n      <th>996</th>\n      <td>3278696</td>\n      <td>The big freeze / VanDerKloot Film &amp; Television...</td>\n      <td>NaN</td>\n      <td>NaN</td>\n      <td>[2015]</td>\n      <td>VanDerKloot Film &amp; Television, Inc./Little Mam...</td>\n      <td>Ice Juvenile films, Glaciers Juvenile films, I...</td>\n      <td>jcdvd</td>\n      <td>ncdvdnf</td>\n      <td>Floating</td>\n      <td>net</td>\n      <td>06/01/2020</td>\n      <td>1</td>\n    </tr>\n    <tr>\n      <th>997</th>\n      <td>2372793</td>\n      <td>The color purple / Alice Walker.</td>\n      <td>Walker, Alice, 1944-</td>\n      <td>0151191549, 9780151191543</td>\n      <td>[1982]</td>\n      <td>Harcourt,</td>\n      <td>African American women Southern States Fiction...</td>\n      <td>acbk</td>\n      <td>nafic</td>\n      <td>NaN</td>\n      <td>bea</td>\n      <td>04/01/2020</td>\n      <td>1</td>\n    </tr>\n    <tr>\n      <th>998</th>\n      <td>1743040</td>\n      <td>[Confirmation packet for appointment of Ray M....</td>\n      <td>Seattle (Wash.). Mayor (1978-1990 : Royer)</td>\n      <td>NaN</td>\n      <td>[1985]</td>\n      <td>The Mayor,</td>\n      <td>Nicola Bud, Seattle King County Department of ...</td>\n      <td>arbk</td>\n      <td>casea</td>\n      <td>NaN</td>\n      <td>cen</td>\n      <td>12/01/2020</td>\n      <td>1</td>\n    </tr>\n    <tr>\n      <th>999</th>\n      <td>3077990</td>\n      <td>How to pee : potty training for boys / Todd Sp...</td>\n      <td>Spector, Todd</td>\n      <td>0805097732, 9780805097733</td>\n      <td>[2015]</td>\n      <td>Henry Holt and Company,</td>\n      <td>Toilet training Juvenile literature, Urination...</td>\n      <td>jcbk</td>\n      <td>ncenf</td>\n      <td>NaN</td>\n      <td>qna</td>\n      <td>01/01/2020</td>\n      <td>1</td>\n    </tr>\n    <tr>\n      <th>1000</th>\n      <td>1996036</td>\n      <td>Dreams / Ezra Jack Keats.</td>\n      <td>Keats, Ezra Jack</td>\n      <td>0140567445, 0670892254</td>\n      <td>2000.</td>\n      <td>Viking,</td>\n      <td>Night Juvenile fiction, Paper work Juvenile fi...</td>\n      <td>jcbk</td>\n      <td>ccpic</td>\n      <td>NaN</td>\n      <td>cen</td>\n      <td>02/01/2020</td>\n      <td>1</td>\n    </tr>\n  </tbody>\n</table>\n<p>1001 rows × 13 columns</p>\n</div>"
     },
     "execution_count": 29,
     "metadata": {},
     "output_type": "execute_result"
    }
   ],
   "source": [
    "records2_with_headers"
   ],
   "metadata": {
    "collapsed": false,
    "ExecuteTime": {
     "end_time": "2023-11-08T12:28:06.703616400Z",
     "start_time": "2023-11-08T12:28:06.677618700Z"
    }
   },
   "id": "7749b518e2d455ff"
  },
  {
   "cell_type": "code",
   "execution_count": 33,
   "outputs": [],
   "source": [
    "frames = [all_records, all_records_2]"
   ],
   "metadata": {
    "collapsed": false,
    "ExecuteTime": {
     "end_time": "2023-11-08T14:29:22.031927400Z",
     "start_time": "2023-11-08T14:29:22.015927700Z"
    }
   },
   "id": "6bcbb85082f31870"
  },
  {
   "cell_type": "code",
   "execution_count": 37,
   "outputs": [],
   "source": [
    "result = pd.concat(frames, ignore_index=True)"
   ],
   "metadata": {
    "collapsed": false,
    "ExecuteTime": {
     "end_time": "2023-11-08T14:36:10.544231500Z",
     "start_time": "2023-11-08T14:36:10.532234100Z"
    }
   },
   "id": "568065dc463f191e"
  },
  {
   "cell_type": "code",
   "execution_count": 38,
   "outputs": [
    {
     "data": {
      "text/plain": "       BibNum                                              Title  \\\n1995  3278696  The big freeze / VanDerKloot Film & Television...   \n1996  2372793                   The color purple / Alice Walker.   \n1997  1743040  [Confirmation packet for appointment of Ray M....   \n1998  3077990  How to pee : potty training for boys / Todd Sp...   \n1999  1996036                          Dreams / Ezra Jack Keats.   \n\n                                          Author                       ISBN  \\\n1995                                         NaN                        NaN   \n1996                        Walker, Alice, 1944-  0151191549, 9780151191543   \n1997  Seattle (Wash.). Mayor (1978-1990 : Royer)                        NaN   \n1998                               Spector, Todd  0805097732, 9780805097733   \n1999                            Keats, Ezra Jack     0140567445, 0670892254   \n\n     PublicationYear                                          Publisher  \\\n1995          [2015]  VanDerKloot Film & Television, Inc./Little Mam...   \n1996          [1982]                                          Harcourt,   \n1997          [1985]                                         The Mayor,   \n1998          [2015]                            Henry Holt and Company,   \n1999           2000.                                            Viking,   \n\n                                               Subjects ItemType  \\\n1995  Ice Juvenile films, Glaciers Juvenile films, I...    jcdvd   \n1996  African American women Southern States Fiction...     acbk   \n1997  Nicola Bud, Seattle King County Department of ...     arbk   \n1998  Toilet training Juvenile literature, Urination...     jcbk   \n1999  Night Juvenile fiction, Paper work Juvenile fi...     jcbk   \n\n     ItemCollection FloatingItem ItemLocation  ReportDate  ItemCount  \n1995        ncdvdnf     Floating          net  06/01/2020          1  \n1996          nafic          NaN          bea  04/01/2020          1  \n1997          casea          NaN          cen  12/01/2020          1  \n1998          ncenf          NaN          qna  01/01/2020          1  \n1999          ccpic          NaN          cen  02/01/2020          1  ",
      "text/html": "<div>\n<style scoped>\n    .dataframe tbody tr th:only-of-type {\n        vertical-align: middle;\n    }\n\n    .dataframe tbody tr th {\n        vertical-align: top;\n    }\n\n    .dataframe thead th {\n        text-align: right;\n    }\n</style>\n<table border=\"1\" class=\"dataframe\">\n  <thead>\n    <tr style=\"text-align: right;\">\n      <th></th>\n      <th>BibNum</th>\n      <th>Title</th>\n      <th>Author</th>\n      <th>ISBN</th>\n      <th>PublicationYear</th>\n      <th>Publisher</th>\n      <th>Subjects</th>\n      <th>ItemType</th>\n      <th>ItemCollection</th>\n      <th>FloatingItem</th>\n      <th>ItemLocation</th>\n      <th>ReportDate</th>\n      <th>ItemCount</th>\n    </tr>\n  </thead>\n  <tbody>\n    <tr>\n      <th>1995</th>\n      <td>3278696</td>\n      <td>The big freeze / VanDerKloot Film &amp; Television...</td>\n      <td>NaN</td>\n      <td>NaN</td>\n      <td>[2015]</td>\n      <td>VanDerKloot Film &amp; Television, Inc./Little Mam...</td>\n      <td>Ice Juvenile films, Glaciers Juvenile films, I...</td>\n      <td>jcdvd</td>\n      <td>ncdvdnf</td>\n      <td>Floating</td>\n      <td>net</td>\n      <td>06/01/2020</td>\n      <td>1</td>\n    </tr>\n    <tr>\n      <th>1996</th>\n      <td>2372793</td>\n      <td>The color purple / Alice Walker.</td>\n      <td>Walker, Alice, 1944-</td>\n      <td>0151191549, 9780151191543</td>\n      <td>[1982]</td>\n      <td>Harcourt,</td>\n      <td>African American women Southern States Fiction...</td>\n      <td>acbk</td>\n      <td>nafic</td>\n      <td>NaN</td>\n      <td>bea</td>\n      <td>04/01/2020</td>\n      <td>1</td>\n    </tr>\n    <tr>\n      <th>1997</th>\n      <td>1743040</td>\n      <td>[Confirmation packet for appointment of Ray M....</td>\n      <td>Seattle (Wash.). Mayor (1978-1990 : Royer)</td>\n      <td>NaN</td>\n      <td>[1985]</td>\n      <td>The Mayor,</td>\n      <td>Nicola Bud, Seattle King County Department of ...</td>\n      <td>arbk</td>\n      <td>casea</td>\n      <td>NaN</td>\n      <td>cen</td>\n      <td>12/01/2020</td>\n      <td>1</td>\n    </tr>\n    <tr>\n      <th>1998</th>\n      <td>3077990</td>\n      <td>How to pee : potty training for boys / Todd Sp...</td>\n      <td>Spector, Todd</td>\n      <td>0805097732, 9780805097733</td>\n      <td>[2015]</td>\n      <td>Henry Holt and Company,</td>\n      <td>Toilet training Juvenile literature, Urination...</td>\n      <td>jcbk</td>\n      <td>ncenf</td>\n      <td>NaN</td>\n      <td>qna</td>\n      <td>01/01/2020</td>\n      <td>1</td>\n    </tr>\n    <tr>\n      <th>1999</th>\n      <td>1996036</td>\n      <td>Dreams / Ezra Jack Keats.</td>\n      <td>Keats, Ezra Jack</td>\n      <td>0140567445, 0670892254</td>\n      <td>2000.</td>\n      <td>Viking,</td>\n      <td>Night Juvenile fiction, Paper work Juvenile fi...</td>\n      <td>jcbk</td>\n      <td>ccpic</td>\n      <td>NaN</td>\n      <td>cen</td>\n      <td>02/01/2020</td>\n      <td>1</td>\n    </tr>\n  </tbody>\n</table>\n</div>"
     },
     "execution_count": 38,
     "metadata": {},
     "output_type": "execute_result"
    }
   ],
   "source": [
    "result.tail()"
   ],
   "metadata": {
    "collapsed": false,
    "ExecuteTime": {
     "end_time": "2023-11-08T14:36:11.890455800Z",
     "start_time": "2023-11-08T14:36:11.865457800Z"
    }
   },
   "id": "91ee4e8537a60243"
  },
  {
   "cell_type": "code",
   "execution_count": 53,
   "outputs": [],
   "source": [
    "all_records1 = all_records.copy()"
   ],
   "metadata": {
    "collapsed": false,
    "ExecuteTime": {
     "end_time": "2023-11-08T14:45:52.729824700Z",
     "start_time": "2023-11-08T14:45:52.720835800Z"
    }
   },
   "id": "7981d5c027d59a93"
  },
  {
   "cell_type": "code",
   "execution_count": 54,
   "outputs": [],
   "source": [
    "for j in range(1000, 5000, 1000):\n",
    "    new_records = pd.read_csv(r'C:\\Users\\trush\\Downloads\\Library_Collection_Inventory_20231102.csv', on_bad_lines='skip', skiprows=j, nrows=1000, header=None, names=column_names)\n",
    "    all_records1 = pd.concat([all_records1, new_records], ignore_index=True)"
   ],
   "metadata": {
    "collapsed": false,
    "ExecuteTime": {
     "end_time": "2023-11-08T14:45:55.230732Z",
     "start_time": "2023-11-08T14:45:55.187632800Z"
    }
   },
   "id": "dfc3a9c875e0327c"
  },
  {
   "cell_type": "code",
   "execution_count": 55,
   "outputs": [
    {
     "data": {
      "text/plain": "       BibNum                                              Title  \\\n0     3479509  Franklin and Luna and the book of fairy tales ...   \n1     2737917  Holiday dinners with Bradley Ogden : 150 festi...   \n2     3435473                     Invasion of privacy / Cardi B.   \n3     3359831  Cuzco, Machu Picchu & the Inca heartland / Rob...   \n4     2638616  Lean-to shelters for family protection in an a...   \n...       ...                                                ...   \n4995  3277403  Super Manny stands up! / written by Kelly DiPu...   \n4996  3468526                      Snack attack! / Terry Border.   \n4997   492251  Twin Falls city directory ... [and] Cassia, Go...   \n4998  3113938  Totally Tardy Marty / word by Erica S. Perl ; ...   \n4999  3172327  They may not mean to, but they do / Cathleen S...   \n\n                    Author                       ISBN PublicationYear  \\\n0            Campbell, Jen  0500651752, 9780500651759           2019.   \n1           Ogden, Bradley  0762439157, 9780762439157          [2011]   \n2           Cardi B, 1992-                        NaN          [2019]   \n3      Kunstaetter, Robert  1911082256, 9781911082255           2017.   \n4                      NaN                        NaN         [1953?]   \n...                    ...                        ...             ...   \n4995      DiPucchio, Kelly  1481459600, 9781481459600          [2017]   \n4996  Border, Terry, 1965-  152474011X, 9781524740115           2019.   \n4997                   NaN                        NaN             NaN   \n4998        Perl, Erica S.  1419716611, 9781419716614           2015.   \n4999      Schine, Cathleen  0374280134, 9780374280130           2016.   \n\n                                              Publisher  \\\n0                                    Thames and Hudson,   \n1                                        Running Press,   \n2                                             Atlantic,   \n3                                            Footprint,   \n4     Federal Civil Defense Administration : For sal...   \n...                                                 ...   \n4995  Atheneum Books for Young Readers, an imprint o...   \n4996                                    Philomel Books,   \n4997                                    R.L. Polk & Co.   \n4998                    Abrams Books for Young Readers,   \n4999    Sarah Crichton Books/Farrar, Straus and Giroux,   \n\n                                               Subjects ItemType  \\\n0     Dragons Juvenile fiction, Characters and chara...     jcbk   \n1                              Cooking, Holiday cooking     acbk   \n2     Popular music 2011 2020, Rap Music, Popular mu...     accd   \n3     Peru Guidebooks, Cuzco Peru Guidebooks, Machu ...     acbk   \n4     Air raid shelters Design and construction, Ato...     acbk   \n...                                                 ...      ...   \n4995  Raccoon Juvenile fiction, Imagination Juvenile...     jcbk   \n4996  Snack foods Juvenile fiction, Monsters Juvenil...     jcbk   \n4997  Twin Falls Idaho Directories, Cassia County Id...     arbk   \n4998  Tardiness Juvenile fiction, Punctuality Juveni...     jcbk   \n4999  Families Fiction, Humorous fiction, Humorous f...     acbk   \n\n     ItemCollection FloatingItem ItemLocation  ReportDate  ItemCount  \n0             ncnew          NaN          net  03/01/2020          1  \n1              nanf          NaN          swt  12/01/2020          1  \n2              nacd          NaN          bea  11/01/2020          1  \n3              nanf          NaN          wts  03/01/2020          1  \n4             cadoc          NaN          cen  03/01/2020          1  \n...             ...          ...          ...         ...        ...  \n4995          ncpic          NaN          idc  03/01/2020          1  \n4996          ncpic          NaN          col  03/01/2020          1  \n4997           cs9g          NaN          cen  02/01/2020          1  \n4998          ncpic          NaN          nga  01/01/2020          1  \n4999          nafic          NaN          idc  03/01/2020          1  \n\n[5000 rows x 13 columns]",
      "text/html": "<div>\n<style scoped>\n    .dataframe tbody tr th:only-of-type {\n        vertical-align: middle;\n    }\n\n    .dataframe tbody tr th {\n        vertical-align: top;\n    }\n\n    .dataframe thead th {\n        text-align: right;\n    }\n</style>\n<table border=\"1\" class=\"dataframe\">\n  <thead>\n    <tr style=\"text-align: right;\">\n      <th></th>\n      <th>BibNum</th>\n      <th>Title</th>\n      <th>Author</th>\n      <th>ISBN</th>\n      <th>PublicationYear</th>\n      <th>Publisher</th>\n      <th>Subjects</th>\n      <th>ItemType</th>\n      <th>ItemCollection</th>\n      <th>FloatingItem</th>\n      <th>ItemLocation</th>\n      <th>ReportDate</th>\n      <th>ItemCount</th>\n    </tr>\n  </thead>\n  <tbody>\n    <tr>\n      <th>0</th>\n      <td>3479509</td>\n      <td>Franklin and Luna and the book of fairy tales ...</td>\n      <td>Campbell, Jen</td>\n      <td>0500651752, 9780500651759</td>\n      <td>2019.</td>\n      <td>Thames and Hudson,</td>\n      <td>Dragons Juvenile fiction, Characters and chara...</td>\n      <td>jcbk</td>\n      <td>ncnew</td>\n      <td>NaN</td>\n      <td>net</td>\n      <td>03/01/2020</td>\n      <td>1</td>\n    </tr>\n    <tr>\n      <th>1</th>\n      <td>2737917</td>\n      <td>Holiday dinners with Bradley Ogden : 150 festi...</td>\n      <td>Ogden, Bradley</td>\n      <td>0762439157, 9780762439157</td>\n      <td>[2011]</td>\n      <td>Running Press,</td>\n      <td>Cooking, Holiday cooking</td>\n      <td>acbk</td>\n      <td>nanf</td>\n      <td>NaN</td>\n      <td>swt</td>\n      <td>12/01/2020</td>\n      <td>1</td>\n    </tr>\n    <tr>\n      <th>2</th>\n      <td>3435473</td>\n      <td>Invasion of privacy / Cardi B.</td>\n      <td>Cardi B, 1992-</td>\n      <td>NaN</td>\n      <td>[2019]</td>\n      <td>Atlantic,</td>\n      <td>Popular music 2011 2020, Rap Music, Popular mu...</td>\n      <td>accd</td>\n      <td>nacd</td>\n      <td>NaN</td>\n      <td>bea</td>\n      <td>11/01/2020</td>\n      <td>1</td>\n    </tr>\n    <tr>\n      <th>3</th>\n      <td>3359831</td>\n      <td>Cuzco, Machu Picchu &amp; the Inca heartland / Rob...</td>\n      <td>Kunstaetter, Robert</td>\n      <td>1911082256, 9781911082255</td>\n      <td>2017.</td>\n      <td>Footprint,</td>\n      <td>Peru Guidebooks, Cuzco Peru Guidebooks, Machu ...</td>\n      <td>acbk</td>\n      <td>nanf</td>\n      <td>NaN</td>\n      <td>wts</td>\n      <td>03/01/2020</td>\n      <td>1</td>\n    </tr>\n    <tr>\n      <th>4</th>\n      <td>2638616</td>\n      <td>Lean-to shelters for family protection in an a...</td>\n      <td>NaN</td>\n      <td>NaN</td>\n      <td>[1953?]</td>\n      <td>Federal Civil Defense Administration : For sal...</td>\n      <td>Air raid shelters Design and construction, Ato...</td>\n      <td>acbk</td>\n      <td>cadoc</td>\n      <td>NaN</td>\n      <td>cen</td>\n      <td>03/01/2020</td>\n      <td>1</td>\n    </tr>\n    <tr>\n      <th>...</th>\n      <td>...</td>\n      <td>...</td>\n      <td>...</td>\n      <td>...</td>\n      <td>...</td>\n      <td>...</td>\n      <td>...</td>\n      <td>...</td>\n      <td>...</td>\n      <td>...</td>\n      <td>...</td>\n      <td>...</td>\n      <td>...</td>\n    </tr>\n    <tr>\n      <th>4995</th>\n      <td>3277403</td>\n      <td>Super Manny stands up! / written by Kelly DiPu...</td>\n      <td>DiPucchio, Kelly</td>\n      <td>1481459600, 9781481459600</td>\n      <td>[2017]</td>\n      <td>Atheneum Books for Young Readers, an imprint o...</td>\n      <td>Raccoon Juvenile fiction, Imagination Juvenile...</td>\n      <td>jcbk</td>\n      <td>ncpic</td>\n      <td>NaN</td>\n      <td>idc</td>\n      <td>03/01/2020</td>\n      <td>1</td>\n    </tr>\n    <tr>\n      <th>4996</th>\n      <td>3468526</td>\n      <td>Snack attack! / Terry Border.</td>\n      <td>Border, Terry, 1965-</td>\n      <td>152474011X, 9781524740115</td>\n      <td>2019.</td>\n      <td>Philomel Books,</td>\n      <td>Snack foods Juvenile fiction, Monsters Juvenil...</td>\n      <td>jcbk</td>\n      <td>ncpic</td>\n      <td>NaN</td>\n      <td>col</td>\n      <td>03/01/2020</td>\n      <td>1</td>\n    </tr>\n    <tr>\n      <th>4997</th>\n      <td>492251</td>\n      <td>Twin Falls city directory ... [and] Cassia, Go...</td>\n      <td>NaN</td>\n      <td>NaN</td>\n      <td>NaN</td>\n      <td>R.L. Polk &amp; Co.</td>\n      <td>Twin Falls Idaho Directories, Cassia County Id...</td>\n      <td>arbk</td>\n      <td>cs9g</td>\n      <td>NaN</td>\n      <td>cen</td>\n      <td>02/01/2020</td>\n      <td>1</td>\n    </tr>\n    <tr>\n      <th>4998</th>\n      <td>3113938</td>\n      <td>Totally Tardy Marty / word by Erica S. Perl ; ...</td>\n      <td>Perl, Erica S.</td>\n      <td>1419716611, 9781419716614</td>\n      <td>2015.</td>\n      <td>Abrams Books for Young Readers,</td>\n      <td>Tardiness Juvenile fiction, Punctuality Juveni...</td>\n      <td>jcbk</td>\n      <td>ncpic</td>\n      <td>NaN</td>\n      <td>nga</td>\n      <td>01/01/2020</td>\n      <td>1</td>\n    </tr>\n    <tr>\n      <th>4999</th>\n      <td>3172327</td>\n      <td>They may not mean to, but they do / Cathleen S...</td>\n      <td>Schine, Cathleen</td>\n      <td>0374280134, 9780374280130</td>\n      <td>2016.</td>\n      <td>Sarah Crichton Books/Farrar, Straus and Giroux,</td>\n      <td>Families Fiction, Humorous fiction, Humorous f...</td>\n      <td>acbk</td>\n      <td>nafic</td>\n      <td>NaN</td>\n      <td>idc</td>\n      <td>03/01/2020</td>\n      <td>1</td>\n    </tr>\n  </tbody>\n</table>\n<p>5000 rows × 13 columns</p>\n</div>"
     },
     "execution_count": 55,
     "metadata": {},
     "output_type": "execute_result"
    }
   ],
   "source": [
    "all_records1"
   ],
   "metadata": {
    "collapsed": false,
    "ExecuteTime": {
     "end_time": "2023-11-08T14:45:57.771528Z",
     "start_time": "2023-11-08T14:45:57.753526900Z"
    }
   },
   "id": "7a5d164a80a8e0cc"
  },
  {
   "cell_type": "code",
   "execution_count": 64,
   "outputs": [],
   "source": [
    "records_new = pd.DataFrame()"
   ],
   "metadata": {
    "collapsed": false,
    "ExecuteTime": {
     "end_time": "2023-11-08T14:52:23.852496100Z",
     "start_time": "2023-11-08T14:52:23.838849200Z"
    }
   },
   "id": "ccb5d75c1fcbb16f"
  },
  {
   "cell_type": "code",
   "execution_count": 65,
   "outputs": [],
   "source": [
    "for j in range(1, 5000, 1000):\n",
    "    records = pd.read_csv(r'C:\\Users\\trush\\Downloads\\Library_Collection_Inventory_20231102.csv', on_bad_lines='skip', skiprows=j, nrows=1000, header=None, names=column_names)\n",
    "    records_new =pd.concat([records_new, records], ignore_index=True)"
   ],
   "metadata": {
    "collapsed": false,
    "ExecuteTime": {
     "end_time": "2023-11-08T14:52:25.851241500Z",
     "start_time": "2023-11-08T14:52:25.796532600Z"
    }
   },
   "id": "229631f1a09b6fb2"
  },
  {
   "cell_type": "code",
   "execution_count": 66,
   "outputs": [
    {
     "data": {
      "text/plain": "       BibNum                                              Title  \\\n0     3479509  Franklin and Luna and the book of fairy tales ...   \n1     2737917  Holiday dinners with Bradley Ogden : 150 festi...   \n2     3435473                     Invasion of privacy / Cardi B.   \n3     3359831  Cuzco, Machu Picchu & the Inca heartland / Rob...   \n4     2638616  Lean-to shelters for family protection in an a...   \n...       ...                                                ...   \n4995  3468526                      Snack attack! / Terry Border.   \n4996   492251  Twin Falls city directory ... [and] Cassia, Go...   \n4997  3113938  Totally Tardy Marty / word by Erica S. Perl ; ...   \n4998  3172327  They may not mean to, but they do / Cathleen S...   \n4999  3469321  Irena. Book one, Wartime ghetto / [written by ...   \n\n                    Author                                      ISBN  \\\n0            Campbell, Jen                 0500651752, 9780500651759   \n1           Ogden, Bradley                 0762439157, 9780762439157   \n2           Cardi B, 1992-                                       NaN   \n3      Kunstaetter, Robert                 1911082256, 9781911082255   \n4                      NaN                                       NaN   \n...                    ...                                       ...   \n4995  Border, Terry, 1965-                 152474011X, 9781524740115   \n4996                   NaN                                       NaN   \n4997        Perl, Erica S.                 1419716611, 9781419716614   \n4998      Schine, Cathleen                 0374280134, 9780374280130   \n4999    Morvan, Jean David  1549306790, 9781549306792, 9781549308260   \n\n     PublicationYear                                          Publisher  \\\n0              2019.                                 Thames and Hudson,   \n1             [2011]                                     Running Press,   \n2             [2019]                                          Atlantic,   \n3              2017.                                         Footprint,   \n4            [1953?]  Federal Civil Defense Administration : For sal...   \n...              ...                                                ...   \n4995           2019.                                    Philomel Books,   \n4996             NaN                                    R.L. Polk & Co.   \n4997           2015.                    Abrams Books for Young Readers,   \n4998           2016.    Sarah Crichton Books/Farrar, Straus and Giroux,   \n4999           2019.                       Lion Forge Comics, Magnetic,   \n\n                                               Subjects ItemType  \\\n0     Dragons Juvenile fiction, Characters and chara...     jcbk   \n1                              Cooking, Holiday cooking     acbk   \n2     Popular music 2011 2020, Rap Music, Popular mu...     accd   \n3     Peru Guidebooks, Cuzco Peru Guidebooks, Machu ...     acbk   \n4     Air raid shelters Design and construction, Ato...     acbk   \n...                                                 ...      ...   \n4995  Snack foods Juvenile fiction, Monsters Juvenil...     jcbk   \n4996  Twin Falls Idaho Directories, Cassia County Id...     arbk   \n4997  Tardiness Juvenile fiction, Punctuality Juveni...     jcbk   \n4998  Families Fiction, Humorous fiction, Humorous f...     acbk   \n4999  Sendlerowa Irena 1910 2008 Comic books strips ...     acbk   \n\n     ItemCollection FloatingItem ItemLocation  ReportDate  ItemCount  \n0             ncnew          NaN          net  03/01/2020          1  \n1              nanf          NaN          swt  12/01/2020          1  \n2              nacd          NaN          bea  11/01/2020          1  \n3              nanf          NaN          wts  03/01/2020          1  \n4             cadoc          NaN          cen  03/01/2020          1  \n...             ...          ...          ...         ...        ...  \n4995          ncpic          NaN          col  03/01/2020          1  \n4996           cs9g          NaN          cen  02/01/2020          1  \n4997          ncpic          NaN          nga  01/01/2020          1  \n4998          nafic          NaN          idc  03/01/2020          1  \n4999        nycomic          NaN          bal  03/01/2020          1  \n\n[5000 rows x 13 columns]",
      "text/html": "<div>\n<style scoped>\n    .dataframe tbody tr th:only-of-type {\n        vertical-align: middle;\n    }\n\n    .dataframe tbody tr th {\n        vertical-align: top;\n    }\n\n    .dataframe thead th {\n        text-align: right;\n    }\n</style>\n<table border=\"1\" class=\"dataframe\">\n  <thead>\n    <tr style=\"text-align: right;\">\n      <th></th>\n      <th>BibNum</th>\n      <th>Title</th>\n      <th>Author</th>\n      <th>ISBN</th>\n      <th>PublicationYear</th>\n      <th>Publisher</th>\n      <th>Subjects</th>\n      <th>ItemType</th>\n      <th>ItemCollection</th>\n      <th>FloatingItem</th>\n      <th>ItemLocation</th>\n      <th>ReportDate</th>\n      <th>ItemCount</th>\n    </tr>\n  </thead>\n  <tbody>\n    <tr>\n      <th>0</th>\n      <td>3479509</td>\n      <td>Franklin and Luna and the book of fairy tales ...</td>\n      <td>Campbell, Jen</td>\n      <td>0500651752, 9780500651759</td>\n      <td>2019.</td>\n      <td>Thames and Hudson,</td>\n      <td>Dragons Juvenile fiction, Characters and chara...</td>\n      <td>jcbk</td>\n      <td>ncnew</td>\n      <td>NaN</td>\n      <td>net</td>\n      <td>03/01/2020</td>\n      <td>1</td>\n    </tr>\n    <tr>\n      <th>1</th>\n      <td>2737917</td>\n      <td>Holiday dinners with Bradley Ogden : 150 festi...</td>\n      <td>Ogden, Bradley</td>\n      <td>0762439157, 9780762439157</td>\n      <td>[2011]</td>\n      <td>Running Press,</td>\n      <td>Cooking, Holiday cooking</td>\n      <td>acbk</td>\n      <td>nanf</td>\n      <td>NaN</td>\n      <td>swt</td>\n      <td>12/01/2020</td>\n      <td>1</td>\n    </tr>\n    <tr>\n      <th>2</th>\n      <td>3435473</td>\n      <td>Invasion of privacy / Cardi B.</td>\n      <td>Cardi B, 1992-</td>\n      <td>NaN</td>\n      <td>[2019]</td>\n      <td>Atlantic,</td>\n      <td>Popular music 2011 2020, Rap Music, Popular mu...</td>\n      <td>accd</td>\n      <td>nacd</td>\n      <td>NaN</td>\n      <td>bea</td>\n      <td>11/01/2020</td>\n      <td>1</td>\n    </tr>\n    <tr>\n      <th>3</th>\n      <td>3359831</td>\n      <td>Cuzco, Machu Picchu &amp; the Inca heartland / Rob...</td>\n      <td>Kunstaetter, Robert</td>\n      <td>1911082256, 9781911082255</td>\n      <td>2017.</td>\n      <td>Footprint,</td>\n      <td>Peru Guidebooks, Cuzco Peru Guidebooks, Machu ...</td>\n      <td>acbk</td>\n      <td>nanf</td>\n      <td>NaN</td>\n      <td>wts</td>\n      <td>03/01/2020</td>\n      <td>1</td>\n    </tr>\n    <tr>\n      <th>4</th>\n      <td>2638616</td>\n      <td>Lean-to shelters for family protection in an a...</td>\n      <td>NaN</td>\n      <td>NaN</td>\n      <td>[1953?]</td>\n      <td>Federal Civil Defense Administration : For sal...</td>\n      <td>Air raid shelters Design and construction, Ato...</td>\n      <td>acbk</td>\n      <td>cadoc</td>\n      <td>NaN</td>\n      <td>cen</td>\n      <td>03/01/2020</td>\n      <td>1</td>\n    </tr>\n    <tr>\n      <th>...</th>\n      <td>...</td>\n      <td>...</td>\n      <td>...</td>\n      <td>...</td>\n      <td>...</td>\n      <td>...</td>\n      <td>...</td>\n      <td>...</td>\n      <td>...</td>\n      <td>...</td>\n      <td>...</td>\n      <td>...</td>\n      <td>...</td>\n    </tr>\n    <tr>\n      <th>4995</th>\n      <td>3468526</td>\n      <td>Snack attack! / Terry Border.</td>\n      <td>Border, Terry, 1965-</td>\n      <td>152474011X, 9781524740115</td>\n      <td>2019.</td>\n      <td>Philomel Books,</td>\n      <td>Snack foods Juvenile fiction, Monsters Juvenil...</td>\n      <td>jcbk</td>\n      <td>ncpic</td>\n      <td>NaN</td>\n      <td>col</td>\n      <td>03/01/2020</td>\n      <td>1</td>\n    </tr>\n    <tr>\n      <th>4996</th>\n      <td>492251</td>\n      <td>Twin Falls city directory ... [and] Cassia, Go...</td>\n      <td>NaN</td>\n      <td>NaN</td>\n      <td>NaN</td>\n      <td>R.L. Polk &amp; Co.</td>\n      <td>Twin Falls Idaho Directories, Cassia County Id...</td>\n      <td>arbk</td>\n      <td>cs9g</td>\n      <td>NaN</td>\n      <td>cen</td>\n      <td>02/01/2020</td>\n      <td>1</td>\n    </tr>\n    <tr>\n      <th>4997</th>\n      <td>3113938</td>\n      <td>Totally Tardy Marty / word by Erica S. Perl ; ...</td>\n      <td>Perl, Erica S.</td>\n      <td>1419716611, 9781419716614</td>\n      <td>2015.</td>\n      <td>Abrams Books for Young Readers,</td>\n      <td>Tardiness Juvenile fiction, Punctuality Juveni...</td>\n      <td>jcbk</td>\n      <td>ncpic</td>\n      <td>NaN</td>\n      <td>nga</td>\n      <td>01/01/2020</td>\n      <td>1</td>\n    </tr>\n    <tr>\n      <th>4998</th>\n      <td>3172327</td>\n      <td>They may not mean to, but they do / Cathleen S...</td>\n      <td>Schine, Cathleen</td>\n      <td>0374280134, 9780374280130</td>\n      <td>2016.</td>\n      <td>Sarah Crichton Books/Farrar, Straus and Giroux,</td>\n      <td>Families Fiction, Humorous fiction, Humorous f...</td>\n      <td>acbk</td>\n      <td>nafic</td>\n      <td>NaN</td>\n      <td>idc</td>\n      <td>03/01/2020</td>\n      <td>1</td>\n    </tr>\n    <tr>\n      <th>4999</th>\n      <td>3469321</td>\n      <td>Irena. Book one, Wartime ghetto / [written by ...</td>\n      <td>Morvan, Jean David</td>\n      <td>1549306790, 9781549306792, 9781549308260</td>\n      <td>2019.</td>\n      <td>Lion Forge Comics, Magnetic,</td>\n      <td>Sendlerowa Irena 1910 2008 Comic books strips ...</td>\n      <td>acbk</td>\n      <td>nycomic</td>\n      <td>NaN</td>\n      <td>bal</td>\n      <td>03/01/2020</td>\n      <td>1</td>\n    </tr>\n  </tbody>\n</table>\n<p>5000 rows × 13 columns</p>\n</div>"
     },
     "execution_count": 66,
     "metadata": {},
     "output_type": "execute_result"
    }
   ],
   "source": [
    "records_new"
   ],
   "metadata": {
    "collapsed": false,
    "ExecuteTime": {
     "end_time": "2023-11-08T14:52:29.531738700Z",
     "start_time": "2023-11-08T14:52:29.503744100Z"
    }
   },
   "id": "4c38a4467cefe1dd"
  },
  {
   "cell_type": "code",
   "execution_count": 72,
   "outputs": [],
   "source": [
    "only_books = records_new.loc[(records_new['ItemType'] == 'bcbk') | (records_new['ItemType'] == 'acbk') | (records_new['ItemType'] == 'ahbk') | (records_new['ItemType'] == 'jcbk') | (records_new['ItemType'] == 'arbk') | (records_new['ItemType'] == 'jrbk')]"
   ],
   "metadata": {
    "collapsed": false,
    "ExecuteTime": {
     "end_time": "2023-11-08T15:09:05.023209600Z",
     "start_time": "2023-11-08T15:09:04.999213100Z"
    }
   },
   "id": "6e366513b9189f2e"
  },
  {
   "cell_type": "code",
   "execution_count": 73,
   "outputs": [
    {
     "data": {
      "text/plain": "       BibNum                                              Title  \\\n0     3479509  Franklin and Luna and the book of fairy tales ...   \n1     2737917  Holiday dinners with Bradley Ogden : 150 festi...   \n3     3359831  Cuzco, Machu Picchu & the Inca heartland / Rob...   \n4     2638616  Lean-to shelters for family protection in an a...   \n5     3298424  Sleeping Beauty / retold by Cynthia Rylant ; p...   \n...       ...                                                ...   \n4995  3468526                      Snack attack! / Terry Border.   \n4996   492251  Twin Falls city directory ... [and] Cassia, Go...   \n4997  3113938  Totally Tardy Marty / word by Erica S. Perl ; ...   \n4998  3172327  They may not mean to, but they do / Cathleen S...   \n4999  3469321  Irena. Book one, Wartime ghetto / [written by ...   \n\n                    Author                                      ISBN  \\\n0            Campbell, Jen                 0500651752, 9780500651759   \n1           Ogden, Bradley                 0762439157, 9780762439157   \n3      Kunstaetter, Robert                 1911082256, 9781911082255   \n4                      NaN                                       NaN   \n5          Rylant, Cynthia                 1423121082, 9781423121084   \n...                    ...                                       ...   \n4995  Border, Terry, 1965-                 152474011X, 9781524740115   \n4996                   NaN                                       NaN   \n4997        Perl, Erica S.                 1419716611, 9781419716614   \n4998      Schine, Cathleen                 0374280134, 9780374280130   \n4999    Morvan, Jean David  1549306790, 9781549306792, 9781549308260   \n\n     PublicationYear                                          Publisher  \\\n0              2019.                                 Thames and Hudson,   \n1             [2011]                                     Running Press,   \n3              2017.                                         Footprint,   \n4            [1953?]  Federal Civil Defense Administration : For sal...   \n5             [2015]                                   Disney Hyperion,   \n...              ...                                                ...   \n4995           2019.                                    Philomel Books,   \n4996             NaN                                    R.L. Polk & Co.   \n4997           2015.                    Abrams Books for Young Readers,   \n4998           2016.    Sarah Crichton Books/Farrar, Straus and Giroux,   \n4999           2019.                       Lion Forge Comics, Magnetic,   \n\n                                               Subjects ItemType  \\\n0     Dragons Juvenile fiction, Characters and chara...     jcbk   \n1                              Cooking, Holiday cooking     acbk   \n3     Peru Guidebooks, Cuzco Peru Guidebooks, Machu ...     acbk   \n4     Air raid shelters Design and construction, Ato...     acbk   \n5     Sleeping Beauty Tale Juvenile literature, Folk...     jcbk   \n...                                                 ...      ...   \n4995  Snack foods Juvenile fiction, Monsters Juvenil...     jcbk   \n4996  Twin Falls Idaho Directories, Cassia County Id...     arbk   \n4997  Tardiness Juvenile fiction, Punctuality Juveni...     jcbk   \n4998  Families Fiction, Humorous fiction, Humorous f...     acbk   \n4999  Sendlerowa Irena 1910 2008 Comic books strips ...     acbk   \n\n     ItemCollection FloatingItem ItemLocation  ReportDate  ItemCount  \n0             ncnew          NaN          net  03/01/2020          1  \n1              nanf          NaN          swt  12/01/2020          1  \n3              nanf          NaN          wts  03/01/2020          1  \n4             cadoc          NaN          cen  03/01/2020          1  \n5             ncfft          NaN          mag  11/01/2020          1  \n...             ...          ...          ...         ...        ...  \n4995          ncpic          NaN          col  03/01/2020          1  \n4996           cs9g          NaN          cen  02/01/2020          1  \n4997          ncpic          NaN          nga  01/01/2020          1  \n4998          nafic          NaN          idc  03/01/2020          1  \n4999        nycomic          NaN          bal  03/01/2020          1  \n\n[4025 rows x 13 columns]",
      "text/html": "<div>\n<style scoped>\n    .dataframe tbody tr th:only-of-type {\n        vertical-align: middle;\n    }\n\n    .dataframe tbody tr th {\n        vertical-align: top;\n    }\n\n    .dataframe thead th {\n        text-align: right;\n    }\n</style>\n<table border=\"1\" class=\"dataframe\">\n  <thead>\n    <tr style=\"text-align: right;\">\n      <th></th>\n      <th>BibNum</th>\n      <th>Title</th>\n      <th>Author</th>\n      <th>ISBN</th>\n      <th>PublicationYear</th>\n      <th>Publisher</th>\n      <th>Subjects</th>\n      <th>ItemType</th>\n      <th>ItemCollection</th>\n      <th>FloatingItem</th>\n      <th>ItemLocation</th>\n      <th>ReportDate</th>\n      <th>ItemCount</th>\n    </tr>\n  </thead>\n  <tbody>\n    <tr>\n      <th>0</th>\n      <td>3479509</td>\n      <td>Franklin and Luna and the book of fairy tales ...</td>\n      <td>Campbell, Jen</td>\n      <td>0500651752, 9780500651759</td>\n      <td>2019.</td>\n      <td>Thames and Hudson,</td>\n      <td>Dragons Juvenile fiction, Characters and chara...</td>\n      <td>jcbk</td>\n      <td>ncnew</td>\n      <td>NaN</td>\n      <td>net</td>\n      <td>03/01/2020</td>\n      <td>1</td>\n    </tr>\n    <tr>\n      <th>1</th>\n      <td>2737917</td>\n      <td>Holiday dinners with Bradley Ogden : 150 festi...</td>\n      <td>Ogden, Bradley</td>\n      <td>0762439157, 9780762439157</td>\n      <td>[2011]</td>\n      <td>Running Press,</td>\n      <td>Cooking, Holiday cooking</td>\n      <td>acbk</td>\n      <td>nanf</td>\n      <td>NaN</td>\n      <td>swt</td>\n      <td>12/01/2020</td>\n      <td>1</td>\n    </tr>\n    <tr>\n      <th>3</th>\n      <td>3359831</td>\n      <td>Cuzco, Machu Picchu &amp; the Inca heartland / Rob...</td>\n      <td>Kunstaetter, Robert</td>\n      <td>1911082256, 9781911082255</td>\n      <td>2017.</td>\n      <td>Footprint,</td>\n      <td>Peru Guidebooks, Cuzco Peru Guidebooks, Machu ...</td>\n      <td>acbk</td>\n      <td>nanf</td>\n      <td>NaN</td>\n      <td>wts</td>\n      <td>03/01/2020</td>\n      <td>1</td>\n    </tr>\n    <tr>\n      <th>4</th>\n      <td>2638616</td>\n      <td>Lean-to shelters for family protection in an a...</td>\n      <td>NaN</td>\n      <td>NaN</td>\n      <td>[1953?]</td>\n      <td>Federal Civil Defense Administration : For sal...</td>\n      <td>Air raid shelters Design and construction, Ato...</td>\n      <td>acbk</td>\n      <td>cadoc</td>\n      <td>NaN</td>\n      <td>cen</td>\n      <td>03/01/2020</td>\n      <td>1</td>\n    </tr>\n    <tr>\n      <th>5</th>\n      <td>3298424</td>\n      <td>Sleeping Beauty / retold by Cynthia Rylant ; p...</td>\n      <td>Rylant, Cynthia</td>\n      <td>1423121082, 9781423121084</td>\n      <td>[2015]</td>\n      <td>Disney Hyperion,</td>\n      <td>Sleeping Beauty Tale Juvenile literature, Folk...</td>\n      <td>jcbk</td>\n      <td>ncfft</td>\n      <td>NaN</td>\n      <td>mag</td>\n      <td>11/01/2020</td>\n      <td>1</td>\n    </tr>\n    <tr>\n      <th>...</th>\n      <td>...</td>\n      <td>...</td>\n      <td>...</td>\n      <td>...</td>\n      <td>...</td>\n      <td>...</td>\n      <td>...</td>\n      <td>...</td>\n      <td>...</td>\n      <td>...</td>\n      <td>...</td>\n      <td>...</td>\n      <td>...</td>\n    </tr>\n    <tr>\n      <th>4995</th>\n      <td>3468526</td>\n      <td>Snack attack! / Terry Border.</td>\n      <td>Border, Terry, 1965-</td>\n      <td>152474011X, 9781524740115</td>\n      <td>2019.</td>\n      <td>Philomel Books,</td>\n      <td>Snack foods Juvenile fiction, Monsters Juvenil...</td>\n      <td>jcbk</td>\n      <td>ncpic</td>\n      <td>NaN</td>\n      <td>col</td>\n      <td>03/01/2020</td>\n      <td>1</td>\n    </tr>\n    <tr>\n      <th>4996</th>\n      <td>492251</td>\n      <td>Twin Falls city directory ... [and] Cassia, Go...</td>\n      <td>NaN</td>\n      <td>NaN</td>\n      <td>NaN</td>\n      <td>R.L. Polk &amp; Co.</td>\n      <td>Twin Falls Idaho Directories, Cassia County Id...</td>\n      <td>arbk</td>\n      <td>cs9g</td>\n      <td>NaN</td>\n      <td>cen</td>\n      <td>02/01/2020</td>\n      <td>1</td>\n    </tr>\n    <tr>\n      <th>4997</th>\n      <td>3113938</td>\n      <td>Totally Tardy Marty / word by Erica S. Perl ; ...</td>\n      <td>Perl, Erica S.</td>\n      <td>1419716611, 9781419716614</td>\n      <td>2015.</td>\n      <td>Abrams Books for Young Readers,</td>\n      <td>Tardiness Juvenile fiction, Punctuality Juveni...</td>\n      <td>jcbk</td>\n      <td>ncpic</td>\n      <td>NaN</td>\n      <td>nga</td>\n      <td>01/01/2020</td>\n      <td>1</td>\n    </tr>\n    <tr>\n      <th>4998</th>\n      <td>3172327</td>\n      <td>They may not mean to, but they do / Cathleen S...</td>\n      <td>Schine, Cathleen</td>\n      <td>0374280134, 9780374280130</td>\n      <td>2016.</td>\n      <td>Sarah Crichton Books/Farrar, Straus and Giroux,</td>\n      <td>Families Fiction, Humorous fiction, Humorous f...</td>\n      <td>acbk</td>\n      <td>nafic</td>\n      <td>NaN</td>\n      <td>idc</td>\n      <td>03/01/2020</td>\n      <td>1</td>\n    </tr>\n    <tr>\n      <th>4999</th>\n      <td>3469321</td>\n      <td>Irena. Book one, Wartime ghetto / [written by ...</td>\n      <td>Morvan, Jean David</td>\n      <td>1549306790, 9781549306792, 9781549308260</td>\n      <td>2019.</td>\n      <td>Lion Forge Comics, Magnetic,</td>\n      <td>Sendlerowa Irena 1910 2008 Comic books strips ...</td>\n      <td>acbk</td>\n      <td>nycomic</td>\n      <td>NaN</td>\n      <td>bal</td>\n      <td>03/01/2020</td>\n      <td>1</td>\n    </tr>\n  </tbody>\n</table>\n<p>4025 rows × 13 columns</p>\n</div>"
     },
     "execution_count": 73,
     "metadata": {},
     "output_type": "execute_result"
    }
   ],
   "source": [
    "only_books"
   ],
   "metadata": {
    "collapsed": false,
    "ExecuteTime": {
     "end_time": "2023-11-08T15:09:06.519348500Z",
     "start_time": "2023-11-08T15:09:06.512349Z"
    }
   },
   "id": "4dd08dd88374df40"
  },
  {
   "cell_type": "code",
   "execution_count": 74,
   "outputs": [],
   "source": [
    "book_codes = ['bcbk', 'acbk', 'ahbk', 'jcbk', 'arbk', 'jrbk']"
   ],
   "metadata": {
    "collapsed": false,
    "ExecuteTime": {
     "end_time": "2023-11-08T15:13:53.188537800Z",
     "start_time": "2023-11-08T15:13:53.174539200Z"
    }
   },
   "id": "a61adcc92bc17556"
  },
  {
   "cell_type": "code",
   "execution_count": 78,
   "outputs": [],
   "source": [
    "only_books_2 = records_new.loc[records_new['ItemType'].isin(book_codes)]"
   ],
   "metadata": {
    "collapsed": false,
    "ExecuteTime": {
     "end_time": "2023-11-08T15:16:42.355872300Z",
     "start_time": "2023-11-08T15:16:42.337253800Z"
    }
   },
   "id": "c67282aaafc8d3f3"
  },
  {
   "cell_type": "code",
   "execution_count": 79,
   "outputs": [
    {
     "data": {
      "text/plain": "       BibNum                                              Title  \\\n0     3479509  Franklin and Luna and the book of fairy tales ...   \n1     2737917  Holiday dinners with Bradley Ogden : 150 festi...   \n3     3359831  Cuzco, Machu Picchu & the Inca heartland / Rob...   \n4     2638616  Lean-to shelters for family protection in an a...   \n5     3298424  Sleeping Beauty / retold by Cynthia Rylant ; p...   \n...       ...                                                ...   \n4995  3468526                      Snack attack! / Terry Border.   \n4996   492251  Twin Falls city directory ... [and] Cassia, Go...   \n4997  3113938  Totally Tardy Marty / word by Erica S. Perl ; ...   \n4998  3172327  They may not mean to, but they do / Cathleen S...   \n4999  3469321  Irena. Book one, Wartime ghetto / [written by ...   \n\n                    Author                                      ISBN  \\\n0            Campbell, Jen                 0500651752, 9780500651759   \n1           Ogden, Bradley                 0762439157, 9780762439157   \n3      Kunstaetter, Robert                 1911082256, 9781911082255   \n4                      NaN                                       NaN   \n5          Rylant, Cynthia                 1423121082, 9781423121084   \n...                    ...                                       ...   \n4995  Border, Terry, 1965-                 152474011X, 9781524740115   \n4996                   NaN                                       NaN   \n4997        Perl, Erica S.                 1419716611, 9781419716614   \n4998      Schine, Cathleen                 0374280134, 9780374280130   \n4999    Morvan, Jean David  1549306790, 9781549306792, 9781549308260   \n\n     PublicationYear                                          Publisher  \\\n0              2019.                                 Thames and Hudson,   \n1             [2011]                                     Running Press,   \n3              2017.                                         Footprint,   \n4            [1953?]  Federal Civil Defense Administration : For sal...   \n5             [2015]                                   Disney Hyperion,   \n...              ...                                                ...   \n4995           2019.                                    Philomel Books,   \n4996             NaN                                    R.L. Polk & Co.   \n4997           2015.                    Abrams Books for Young Readers,   \n4998           2016.    Sarah Crichton Books/Farrar, Straus and Giroux,   \n4999           2019.                       Lion Forge Comics, Magnetic,   \n\n                                               Subjects ItemType  \\\n0     Dragons Juvenile fiction, Characters and chara...     jcbk   \n1                              Cooking, Holiday cooking     acbk   \n3     Peru Guidebooks, Cuzco Peru Guidebooks, Machu ...     acbk   \n4     Air raid shelters Design and construction, Ato...     acbk   \n5     Sleeping Beauty Tale Juvenile literature, Folk...     jcbk   \n...                                                 ...      ...   \n4995  Snack foods Juvenile fiction, Monsters Juvenil...     jcbk   \n4996  Twin Falls Idaho Directories, Cassia County Id...     arbk   \n4997  Tardiness Juvenile fiction, Punctuality Juveni...     jcbk   \n4998  Families Fiction, Humorous fiction, Humorous f...     acbk   \n4999  Sendlerowa Irena 1910 2008 Comic books strips ...     acbk   \n\n     ItemCollection FloatingItem ItemLocation  ReportDate  ItemCount  \n0             ncnew          NaN          net  03/01/2020          1  \n1              nanf          NaN          swt  12/01/2020          1  \n3              nanf          NaN          wts  03/01/2020          1  \n4             cadoc          NaN          cen  03/01/2020          1  \n5             ncfft          NaN          mag  11/01/2020          1  \n...             ...          ...          ...         ...        ...  \n4995          ncpic          NaN          col  03/01/2020          1  \n4996           cs9g          NaN          cen  02/01/2020          1  \n4997          ncpic          NaN          nga  01/01/2020          1  \n4998          nafic          NaN          idc  03/01/2020          1  \n4999        nycomic          NaN          bal  03/01/2020          1  \n\n[4025 rows x 13 columns]",
      "text/html": "<div>\n<style scoped>\n    .dataframe tbody tr th:only-of-type {\n        vertical-align: middle;\n    }\n\n    .dataframe tbody tr th {\n        vertical-align: top;\n    }\n\n    .dataframe thead th {\n        text-align: right;\n    }\n</style>\n<table border=\"1\" class=\"dataframe\">\n  <thead>\n    <tr style=\"text-align: right;\">\n      <th></th>\n      <th>BibNum</th>\n      <th>Title</th>\n      <th>Author</th>\n      <th>ISBN</th>\n      <th>PublicationYear</th>\n      <th>Publisher</th>\n      <th>Subjects</th>\n      <th>ItemType</th>\n      <th>ItemCollection</th>\n      <th>FloatingItem</th>\n      <th>ItemLocation</th>\n      <th>ReportDate</th>\n      <th>ItemCount</th>\n    </tr>\n  </thead>\n  <tbody>\n    <tr>\n      <th>0</th>\n      <td>3479509</td>\n      <td>Franklin and Luna and the book of fairy tales ...</td>\n      <td>Campbell, Jen</td>\n      <td>0500651752, 9780500651759</td>\n      <td>2019.</td>\n      <td>Thames and Hudson,</td>\n      <td>Dragons Juvenile fiction, Characters and chara...</td>\n      <td>jcbk</td>\n      <td>ncnew</td>\n      <td>NaN</td>\n      <td>net</td>\n      <td>03/01/2020</td>\n      <td>1</td>\n    </tr>\n    <tr>\n      <th>1</th>\n      <td>2737917</td>\n      <td>Holiday dinners with Bradley Ogden : 150 festi...</td>\n      <td>Ogden, Bradley</td>\n      <td>0762439157, 9780762439157</td>\n      <td>[2011]</td>\n      <td>Running Press,</td>\n      <td>Cooking, Holiday cooking</td>\n      <td>acbk</td>\n      <td>nanf</td>\n      <td>NaN</td>\n      <td>swt</td>\n      <td>12/01/2020</td>\n      <td>1</td>\n    </tr>\n    <tr>\n      <th>3</th>\n      <td>3359831</td>\n      <td>Cuzco, Machu Picchu &amp; the Inca heartland / Rob...</td>\n      <td>Kunstaetter, Robert</td>\n      <td>1911082256, 9781911082255</td>\n      <td>2017.</td>\n      <td>Footprint,</td>\n      <td>Peru Guidebooks, Cuzco Peru Guidebooks, Machu ...</td>\n      <td>acbk</td>\n      <td>nanf</td>\n      <td>NaN</td>\n      <td>wts</td>\n      <td>03/01/2020</td>\n      <td>1</td>\n    </tr>\n    <tr>\n      <th>4</th>\n      <td>2638616</td>\n      <td>Lean-to shelters for family protection in an a...</td>\n      <td>NaN</td>\n      <td>NaN</td>\n      <td>[1953?]</td>\n      <td>Federal Civil Defense Administration : For sal...</td>\n      <td>Air raid shelters Design and construction, Ato...</td>\n      <td>acbk</td>\n      <td>cadoc</td>\n      <td>NaN</td>\n      <td>cen</td>\n      <td>03/01/2020</td>\n      <td>1</td>\n    </tr>\n    <tr>\n      <th>5</th>\n      <td>3298424</td>\n      <td>Sleeping Beauty / retold by Cynthia Rylant ; p...</td>\n      <td>Rylant, Cynthia</td>\n      <td>1423121082, 9781423121084</td>\n      <td>[2015]</td>\n      <td>Disney Hyperion,</td>\n      <td>Sleeping Beauty Tale Juvenile literature, Folk...</td>\n      <td>jcbk</td>\n      <td>ncfft</td>\n      <td>NaN</td>\n      <td>mag</td>\n      <td>11/01/2020</td>\n      <td>1</td>\n    </tr>\n    <tr>\n      <th>...</th>\n      <td>...</td>\n      <td>...</td>\n      <td>...</td>\n      <td>...</td>\n      <td>...</td>\n      <td>...</td>\n      <td>...</td>\n      <td>...</td>\n      <td>...</td>\n      <td>...</td>\n      <td>...</td>\n      <td>...</td>\n      <td>...</td>\n    </tr>\n    <tr>\n      <th>4995</th>\n      <td>3468526</td>\n      <td>Snack attack! / Terry Border.</td>\n      <td>Border, Terry, 1965-</td>\n      <td>152474011X, 9781524740115</td>\n      <td>2019.</td>\n      <td>Philomel Books,</td>\n      <td>Snack foods Juvenile fiction, Monsters Juvenil...</td>\n      <td>jcbk</td>\n      <td>ncpic</td>\n      <td>NaN</td>\n      <td>col</td>\n      <td>03/01/2020</td>\n      <td>1</td>\n    </tr>\n    <tr>\n      <th>4996</th>\n      <td>492251</td>\n      <td>Twin Falls city directory ... [and] Cassia, Go...</td>\n      <td>NaN</td>\n      <td>NaN</td>\n      <td>NaN</td>\n      <td>R.L. Polk &amp; Co.</td>\n      <td>Twin Falls Idaho Directories, Cassia County Id...</td>\n      <td>arbk</td>\n      <td>cs9g</td>\n      <td>NaN</td>\n      <td>cen</td>\n      <td>02/01/2020</td>\n      <td>1</td>\n    </tr>\n    <tr>\n      <th>4997</th>\n      <td>3113938</td>\n      <td>Totally Tardy Marty / word by Erica S. Perl ; ...</td>\n      <td>Perl, Erica S.</td>\n      <td>1419716611, 9781419716614</td>\n      <td>2015.</td>\n      <td>Abrams Books for Young Readers,</td>\n      <td>Tardiness Juvenile fiction, Punctuality Juveni...</td>\n      <td>jcbk</td>\n      <td>ncpic</td>\n      <td>NaN</td>\n      <td>nga</td>\n      <td>01/01/2020</td>\n      <td>1</td>\n    </tr>\n    <tr>\n      <th>4998</th>\n      <td>3172327</td>\n      <td>They may not mean to, but they do / Cathleen S...</td>\n      <td>Schine, Cathleen</td>\n      <td>0374280134, 9780374280130</td>\n      <td>2016.</td>\n      <td>Sarah Crichton Books/Farrar, Straus and Giroux,</td>\n      <td>Families Fiction, Humorous fiction, Humorous f...</td>\n      <td>acbk</td>\n      <td>nafic</td>\n      <td>NaN</td>\n      <td>idc</td>\n      <td>03/01/2020</td>\n      <td>1</td>\n    </tr>\n    <tr>\n      <th>4999</th>\n      <td>3469321</td>\n      <td>Irena. Book one, Wartime ghetto / [written by ...</td>\n      <td>Morvan, Jean David</td>\n      <td>1549306790, 9781549306792, 9781549308260</td>\n      <td>2019.</td>\n      <td>Lion Forge Comics, Magnetic,</td>\n      <td>Sendlerowa Irena 1910 2008 Comic books strips ...</td>\n      <td>acbk</td>\n      <td>nycomic</td>\n      <td>NaN</td>\n      <td>bal</td>\n      <td>03/01/2020</td>\n      <td>1</td>\n    </tr>\n  </tbody>\n</table>\n<p>4025 rows × 13 columns</p>\n</div>"
     },
     "execution_count": 79,
     "metadata": {},
     "output_type": "execute_result"
    }
   ],
   "source": [
    "only_books_2"
   ],
   "metadata": {
    "collapsed": false,
    "ExecuteTime": {
     "end_time": "2023-11-08T15:16:49.784209Z",
     "start_time": "2023-11-08T15:16:49.755210300Z"
    }
   },
   "id": "c3b32ee123437813"
  },
  {
   "cell_type": "code",
   "execution_count": 83,
   "outputs": [],
   "source": [
    "only_eng_books = only_books_2.loc[(only_books_2['ItemCollection'] != 'caln') & (only_books_2['ItemCollection'] != 'calnr')]"
   ],
   "metadata": {
    "collapsed": false,
    "ExecuteTime": {
     "end_time": "2023-11-08T15:27:27.773046800Z",
     "start_time": "2023-11-08T15:27:27.754018200Z"
    }
   },
   "id": "8b06100ea4762a01"
  },
  {
   "cell_type": "code",
   "execution_count": 84,
   "outputs": [
    {
     "data": {
      "text/plain": "       BibNum                                              Title  \\\n0     3479509  Franklin and Luna and the book of fairy tales ...   \n1     2737917  Holiday dinners with Bradley Ogden : 150 festi...   \n3     3359831  Cuzco, Machu Picchu & the Inca heartland / Rob...   \n4     2638616  Lean-to shelters for family protection in an a...   \n5     3298424  Sleeping Beauty / retold by Cynthia Rylant ; p...   \n...       ...                                                ...   \n4995  3468526                      Snack attack! / Terry Border.   \n4996   492251  Twin Falls city directory ... [and] Cassia, Go...   \n4997  3113938  Totally Tardy Marty / word by Erica S. Perl ; ...   \n4998  3172327  They may not mean to, but they do / Cathleen S...   \n4999  3469321  Irena. Book one, Wartime ghetto / [written by ...   \n\n                    Author                                      ISBN  \\\n0            Campbell, Jen                 0500651752, 9780500651759   \n1           Ogden, Bradley                 0762439157, 9780762439157   \n3      Kunstaetter, Robert                 1911082256, 9781911082255   \n4                      NaN                                       NaN   \n5          Rylant, Cynthia                 1423121082, 9781423121084   \n...                    ...                                       ...   \n4995  Border, Terry, 1965-                 152474011X, 9781524740115   \n4996                   NaN                                       NaN   \n4997        Perl, Erica S.                 1419716611, 9781419716614   \n4998      Schine, Cathleen                 0374280134, 9780374280130   \n4999    Morvan, Jean David  1549306790, 9781549306792, 9781549308260   \n\n     PublicationYear                                          Publisher  \\\n0              2019.                                 Thames and Hudson,   \n1             [2011]                                     Running Press,   \n3              2017.                                         Footprint,   \n4            [1953?]  Federal Civil Defense Administration : For sal...   \n5             [2015]                                   Disney Hyperion,   \n...              ...                                                ...   \n4995           2019.                                    Philomel Books,   \n4996             NaN                                    R.L. Polk & Co.   \n4997           2015.                    Abrams Books for Young Readers,   \n4998           2016.    Sarah Crichton Books/Farrar, Straus and Giroux,   \n4999           2019.                       Lion Forge Comics, Magnetic,   \n\n                                               Subjects ItemType  \\\n0     Dragons Juvenile fiction, Characters and chara...     jcbk   \n1                              Cooking, Holiday cooking     acbk   \n3     Peru Guidebooks, Cuzco Peru Guidebooks, Machu ...     acbk   \n4     Air raid shelters Design and construction, Ato...     acbk   \n5     Sleeping Beauty Tale Juvenile literature, Folk...     jcbk   \n...                                                 ...      ...   \n4995  Snack foods Juvenile fiction, Monsters Juvenil...     jcbk   \n4996  Twin Falls Idaho Directories, Cassia County Id...     arbk   \n4997  Tardiness Juvenile fiction, Punctuality Juveni...     jcbk   \n4998  Families Fiction, Humorous fiction, Humorous f...     acbk   \n4999  Sendlerowa Irena 1910 2008 Comic books strips ...     acbk   \n\n     ItemCollection FloatingItem ItemLocation  ReportDate  ItemCount  \n0             ncnew          NaN          net  03/01/2020          1  \n1              nanf          NaN          swt  12/01/2020          1  \n3              nanf          NaN          wts  03/01/2020          1  \n4             cadoc          NaN          cen  03/01/2020          1  \n5             ncfft          NaN          mag  11/01/2020          1  \n...             ...          ...          ...         ...        ...  \n4995          ncpic          NaN          col  03/01/2020          1  \n4996           cs9g          NaN          cen  02/01/2020          1  \n4997          ncpic          NaN          nga  01/01/2020          1  \n4998          nafic          NaN          idc  03/01/2020          1  \n4999        nycomic          NaN          bal  03/01/2020          1  \n\n[3945 rows x 13 columns]",
      "text/html": "<div>\n<style scoped>\n    .dataframe tbody tr th:only-of-type {\n        vertical-align: middle;\n    }\n\n    .dataframe tbody tr th {\n        vertical-align: top;\n    }\n\n    .dataframe thead th {\n        text-align: right;\n    }\n</style>\n<table border=\"1\" class=\"dataframe\">\n  <thead>\n    <tr style=\"text-align: right;\">\n      <th></th>\n      <th>BibNum</th>\n      <th>Title</th>\n      <th>Author</th>\n      <th>ISBN</th>\n      <th>PublicationYear</th>\n      <th>Publisher</th>\n      <th>Subjects</th>\n      <th>ItemType</th>\n      <th>ItemCollection</th>\n      <th>FloatingItem</th>\n      <th>ItemLocation</th>\n      <th>ReportDate</th>\n      <th>ItemCount</th>\n    </tr>\n  </thead>\n  <tbody>\n    <tr>\n      <th>0</th>\n      <td>3479509</td>\n      <td>Franklin and Luna and the book of fairy tales ...</td>\n      <td>Campbell, Jen</td>\n      <td>0500651752, 9780500651759</td>\n      <td>2019.</td>\n      <td>Thames and Hudson,</td>\n      <td>Dragons Juvenile fiction, Characters and chara...</td>\n      <td>jcbk</td>\n      <td>ncnew</td>\n      <td>NaN</td>\n      <td>net</td>\n      <td>03/01/2020</td>\n      <td>1</td>\n    </tr>\n    <tr>\n      <th>1</th>\n      <td>2737917</td>\n      <td>Holiday dinners with Bradley Ogden : 150 festi...</td>\n      <td>Ogden, Bradley</td>\n      <td>0762439157, 9780762439157</td>\n      <td>[2011]</td>\n      <td>Running Press,</td>\n      <td>Cooking, Holiday cooking</td>\n      <td>acbk</td>\n      <td>nanf</td>\n      <td>NaN</td>\n      <td>swt</td>\n      <td>12/01/2020</td>\n      <td>1</td>\n    </tr>\n    <tr>\n      <th>3</th>\n      <td>3359831</td>\n      <td>Cuzco, Machu Picchu &amp; the Inca heartland / Rob...</td>\n      <td>Kunstaetter, Robert</td>\n      <td>1911082256, 9781911082255</td>\n      <td>2017.</td>\n      <td>Footprint,</td>\n      <td>Peru Guidebooks, Cuzco Peru Guidebooks, Machu ...</td>\n      <td>acbk</td>\n      <td>nanf</td>\n      <td>NaN</td>\n      <td>wts</td>\n      <td>03/01/2020</td>\n      <td>1</td>\n    </tr>\n    <tr>\n      <th>4</th>\n      <td>2638616</td>\n      <td>Lean-to shelters for family protection in an a...</td>\n      <td>NaN</td>\n      <td>NaN</td>\n      <td>[1953?]</td>\n      <td>Federal Civil Defense Administration : For sal...</td>\n      <td>Air raid shelters Design and construction, Ato...</td>\n      <td>acbk</td>\n      <td>cadoc</td>\n      <td>NaN</td>\n      <td>cen</td>\n      <td>03/01/2020</td>\n      <td>1</td>\n    </tr>\n    <tr>\n      <th>5</th>\n      <td>3298424</td>\n      <td>Sleeping Beauty / retold by Cynthia Rylant ; p...</td>\n      <td>Rylant, Cynthia</td>\n      <td>1423121082, 9781423121084</td>\n      <td>[2015]</td>\n      <td>Disney Hyperion,</td>\n      <td>Sleeping Beauty Tale Juvenile literature, Folk...</td>\n      <td>jcbk</td>\n      <td>ncfft</td>\n      <td>NaN</td>\n      <td>mag</td>\n      <td>11/01/2020</td>\n      <td>1</td>\n    </tr>\n    <tr>\n      <th>...</th>\n      <td>...</td>\n      <td>...</td>\n      <td>...</td>\n      <td>...</td>\n      <td>...</td>\n      <td>...</td>\n      <td>...</td>\n      <td>...</td>\n      <td>...</td>\n      <td>...</td>\n      <td>...</td>\n      <td>...</td>\n      <td>...</td>\n    </tr>\n    <tr>\n      <th>4995</th>\n      <td>3468526</td>\n      <td>Snack attack! / Terry Border.</td>\n      <td>Border, Terry, 1965-</td>\n      <td>152474011X, 9781524740115</td>\n      <td>2019.</td>\n      <td>Philomel Books,</td>\n      <td>Snack foods Juvenile fiction, Monsters Juvenil...</td>\n      <td>jcbk</td>\n      <td>ncpic</td>\n      <td>NaN</td>\n      <td>col</td>\n      <td>03/01/2020</td>\n      <td>1</td>\n    </tr>\n    <tr>\n      <th>4996</th>\n      <td>492251</td>\n      <td>Twin Falls city directory ... [and] Cassia, Go...</td>\n      <td>NaN</td>\n      <td>NaN</td>\n      <td>NaN</td>\n      <td>R.L. Polk &amp; Co.</td>\n      <td>Twin Falls Idaho Directories, Cassia County Id...</td>\n      <td>arbk</td>\n      <td>cs9g</td>\n      <td>NaN</td>\n      <td>cen</td>\n      <td>02/01/2020</td>\n      <td>1</td>\n    </tr>\n    <tr>\n      <th>4997</th>\n      <td>3113938</td>\n      <td>Totally Tardy Marty / word by Erica S. Perl ; ...</td>\n      <td>Perl, Erica S.</td>\n      <td>1419716611, 9781419716614</td>\n      <td>2015.</td>\n      <td>Abrams Books for Young Readers,</td>\n      <td>Tardiness Juvenile fiction, Punctuality Juveni...</td>\n      <td>jcbk</td>\n      <td>ncpic</td>\n      <td>NaN</td>\n      <td>nga</td>\n      <td>01/01/2020</td>\n      <td>1</td>\n    </tr>\n    <tr>\n      <th>4998</th>\n      <td>3172327</td>\n      <td>They may not mean to, but they do / Cathleen S...</td>\n      <td>Schine, Cathleen</td>\n      <td>0374280134, 9780374280130</td>\n      <td>2016.</td>\n      <td>Sarah Crichton Books/Farrar, Straus and Giroux,</td>\n      <td>Families Fiction, Humorous fiction, Humorous f...</td>\n      <td>acbk</td>\n      <td>nafic</td>\n      <td>NaN</td>\n      <td>idc</td>\n      <td>03/01/2020</td>\n      <td>1</td>\n    </tr>\n    <tr>\n      <th>4999</th>\n      <td>3469321</td>\n      <td>Irena. Book one, Wartime ghetto / [written by ...</td>\n      <td>Morvan, Jean David</td>\n      <td>1549306790, 9781549306792, 9781549308260</td>\n      <td>2019.</td>\n      <td>Lion Forge Comics, Magnetic,</td>\n      <td>Sendlerowa Irena 1910 2008 Comic books strips ...</td>\n      <td>acbk</td>\n      <td>nycomic</td>\n      <td>NaN</td>\n      <td>bal</td>\n      <td>03/01/2020</td>\n      <td>1</td>\n    </tr>\n  </tbody>\n</table>\n<p>3945 rows × 13 columns</p>\n</div>"
     },
     "execution_count": 84,
     "metadata": {},
     "output_type": "execute_result"
    }
   ],
   "source": [
    "only_eng_books"
   ],
   "metadata": {
    "collapsed": false,
    "ExecuteTime": {
     "end_time": "2023-11-08T15:27:29.844914500Z",
     "start_time": "2023-11-08T15:27:29.829915200Z"
    }
   },
   "id": "40c6d46196d8f708"
  },
  {
   "cell_type": "code",
   "execution_count": 105,
   "outputs": [],
   "source": [
    "books_trial_1 = pd.DataFrame()"
   ],
   "metadata": {
    "collapsed": false,
    "ExecuteTime": {
     "end_time": "2023-11-08T17:01:56.832677800Z",
     "start_time": "2023-11-08T17:01:56.823129600Z"
    }
   },
   "id": "edc5e6795113aa2f"
  },
  {
   "cell_type": "code",
   "execution_count": 106,
   "outputs": [],
   "source": [
    "j = 1\n",
    "book_codes = ['bcbk', 'acbk', 'ahbk', 'jcbk', 'arbk', 'jrbk']\n",
    "while books_trial_1.shape[0] < 10000:\n",
    "    records_trial = pd.read_csv(r'C:\\Users\\trush\\Downloads\\Library_Collection_Inventory_20231102.csv', on_bad_lines='skip', skiprows=j, nrows=1000, header=None, names=column_names)\n",
    "    records_trial = records_trial.loc[records_trial['ItemType'].isin(book_codes)]\n",
    "    records_trial = records_trial.loc[(records_trial['ItemCollection'] != 'caln') & (records_trial['ItemCollection'] != 'calnr')]\n",
    "    books_trial_1 = pd.concat([books_trial_1, records_trial], ignore_index=True)\n",
    "    j += 1000"
   ],
   "metadata": {
    "collapsed": false,
    "ExecuteTime": {
     "end_time": "2023-11-08T17:02:00.120496800Z",
     "start_time": "2023-11-08T17:01:59.899387600Z"
    }
   },
   "id": "2e1f57e63c400555"
  },
  {
   "cell_type": "code",
   "execution_count": 107,
   "outputs": [
    {
     "data": {
      "text/plain": "        BibNum                                              Title  \\\n0      3479509  Franklin and Luna and the book of fairy tales ...   \n1      2737917  Holiday dinners with Bradley Ogden : 150 festi...   \n2      3359831  Cuzco, Machu Picchu & the Inca heartland / Rob...   \n3      2638616  Lean-to shelters for family protection in an a...   \n4      3298424  Sleeping Beauty / retold by Cynthia Rylant ; p...   \n...        ...                                                ...   \n10222  3517116      The secret of White Stone gate / Julia Nobel.   \n10223   526229  Big red barn / Margaret Wise Brown ; pictures ...   \n10224  2240950  Atalanta's race : a Greek myth / retold by Shi...   \n10225  2745234           May B. / a novel by Caroline Starr Rose.   \n10226  3410691  The lighthouse keeper's daughter : a novel / H...   \n\n                                Author  \\\n0                        Campbell, Jen   \n1                       Ogden, Bradley   \n2                  Kunstaetter, Robert   \n3                                  NaN   \n4                      Rylant, Cynthia   \n...                                ...   \n10222                     Nobel, Julia   \n10223  Brown, Margaret Wise, 1910-1952   \n10224                   Climo, Shirley   \n10225             Rose, Caroline Starr   \n10226                    Gaynor, Hazel   \n\n                                                    ISBN PublicationYear  \\\n0                              0500651752, 9780500651759           2019.   \n1                              0762439157, 9780762439157          [2011]   \n2                              1911082256, 9781911082255           2017.   \n3                                                    NaN         [1953?]   \n4                              1423121082, 9781423121084          [2015]   \n...                                                  ...             ...   \n10222                          1492664677, 9781492664673          [2020]   \n10223     0060207485, 0060207493, 0060207507, 0694001597          [1989]   \n10224                                         0395673224          [1995]   \n10225  158246393X, 158246412X, 9781582463933, 9781582...           2012.   \n10226                          0062869302, 9780062869302          [2018]   \n\n                                               Publisher  \\\n0                                     Thames and Hudson,   \n1                                         Running Press,   \n2                                             Footprint,   \n3      Federal Civil Defense Administration : For sal...   \n4                                       Disney Hyperion,   \n...                                                  ...   \n10222                         Sourcebooks Young Readers,   \n10223                                      Harper & Row,   \n10224                                     Clarion Books,   \n10225                             Schwartz & Wade Books,   \n10226  William Morrow, an imprint of HarperCollinsPub...   \n\n                                                Subjects ItemType  \\\n0      Dragons Juvenile fiction, Characters and chara...     jcbk   \n1                               Cooking, Holiday cooking     acbk   \n2      Peru Guidebooks, Cuzco Peru Guidebooks, Machu ...     acbk   \n3      Air raid shelters Design and construction, Ato...     acbk   \n4      Sleeping Beauty Tale Juvenile literature, Folk...     jcbk   \n...                                                  ...      ...   \n10222  Boarding schools Juvenile fiction, Schools Juv...     jcbk   \n10223  Domestic animals Juvenile fiction, Farm life J...     jcbk   \n10224  Atalanta Greek mythological character Juvenile...     jcbk   \n10225  Novels in verse Juvenile fiction, Frontier and...     jcbk   \n10226  Shipwrecks England Northumberland Fiction, Por...     acbk   \n\n      ItemCollection FloatingItem ItemLocation  ReportDate  ItemCount  \n0              ncnew          NaN          net  03/01/2020          1  \n1               nanf          NaN          swt  12/01/2020          1  \n2               nanf          NaN          wts  03/01/2020          1  \n3              cadoc          NaN          cen  03/01/2020          1  \n4              ncfft          NaN          mag  11/01/2020          1  \n...              ...          ...          ...         ...        ...  \n10222          ncfic          NaN          gwd  06/01/2020          1  \n10223          ncpic          NaN          bal  11/01/2020          2  \n10224           ncnf          NaN          dth  01/01/2020          1  \n10225          ccfic          NaN          cen  08/01/2020          1  \n10226          cafic          NaN          cen  08/01/2020          2  \n\n[10227 rows x 13 columns]",
      "text/html": "<div>\n<style scoped>\n    .dataframe tbody tr th:only-of-type {\n        vertical-align: middle;\n    }\n\n    .dataframe tbody tr th {\n        vertical-align: top;\n    }\n\n    .dataframe thead th {\n        text-align: right;\n    }\n</style>\n<table border=\"1\" class=\"dataframe\">\n  <thead>\n    <tr style=\"text-align: right;\">\n      <th></th>\n      <th>BibNum</th>\n      <th>Title</th>\n      <th>Author</th>\n      <th>ISBN</th>\n      <th>PublicationYear</th>\n      <th>Publisher</th>\n      <th>Subjects</th>\n      <th>ItemType</th>\n      <th>ItemCollection</th>\n      <th>FloatingItem</th>\n      <th>ItemLocation</th>\n      <th>ReportDate</th>\n      <th>ItemCount</th>\n    </tr>\n  </thead>\n  <tbody>\n    <tr>\n      <th>0</th>\n      <td>3479509</td>\n      <td>Franklin and Luna and the book of fairy tales ...</td>\n      <td>Campbell, Jen</td>\n      <td>0500651752, 9780500651759</td>\n      <td>2019.</td>\n      <td>Thames and Hudson,</td>\n      <td>Dragons Juvenile fiction, Characters and chara...</td>\n      <td>jcbk</td>\n      <td>ncnew</td>\n      <td>NaN</td>\n      <td>net</td>\n      <td>03/01/2020</td>\n      <td>1</td>\n    </tr>\n    <tr>\n      <th>1</th>\n      <td>2737917</td>\n      <td>Holiday dinners with Bradley Ogden : 150 festi...</td>\n      <td>Ogden, Bradley</td>\n      <td>0762439157, 9780762439157</td>\n      <td>[2011]</td>\n      <td>Running Press,</td>\n      <td>Cooking, Holiday cooking</td>\n      <td>acbk</td>\n      <td>nanf</td>\n      <td>NaN</td>\n      <td>swt</td>\n      <td>12/01/2020</td>\n      <td>1</td>\n    </tr>\n    <tr>\n      <th>2</th>\n      <td>3359831</td>\n      <td>Cuzco, Machu Picchu &amp; the Inca heartland / Rob...</td>\n      <td>Kunstaetter, Robert</td>\n      <td>1911082256, 9781911082255</td>\n      <td>2017.</td>\n      <td>Footprint,</td>\n      <td>Peru Guidebooks, Cuzco Peru Guidebooks, Machu ...</td>\n      <td>acbk</td>\n      <td>nanf</td>\n      <td>NaN</td>\n      <td>wts</td>\n      <td>03/01/2020</td>\n      <td>1</td>\n    </tr>\n    <tr>\n      <th>3</th>\n      <td>2638616</td>\n      <td>Lean-to shelters for family protection in an a...</td>\n      <td>NaN</td>\n      <td>NaN</td>\n      <td>[1953?]</td>\n      <td>Federal Civil Defense Administration : For sal...</td>\n      <td>Air raid shelters Design and construction, Ato...</td>\n      <td>acbk</td>\n      <td>cadoc</td>\n      <td>NaN</td>\n      <td>cen</td>\n      <td>03/01/2020</td>\n      <td>1</td>\n    </tr>\n    <tr>\n      <th>4</th>\n      <td>3298424</td>\n      <td>Sleeping Beauty / retold by Cynthia Rylant ; p...</td>\n      <td>Rylant, Cynthia</td>\n      <td>1423121082, 9781423121084</td>\n      <td>[2015]</td>\n      <td>Disney Hyperion,</td>\n      <td>Sleeping Beauty Tale Juvenile literature, Folk...</td>\n      <td>jcbk</td>\n      <td>ncfft</td>\n      <td>NaN</td>\n      <td>mag</td>\n      <td>11/01/2020</td>\n      <td>1</td>\n    </tr>\n    <tr>\n      <th>...</th>\n      <td>...</td>\n      <td>...</td>\n      <td>...</td>\n      <td>...</td>\n      <td>...</td>\n      <td>...</td>\n      <td>...</td>\n      <td>...</td>\n      <td>...</td>\n      <td>...</td>\n      <td>...</td>\n      <td>...</td>\n      <td>...</td>\n    </tr>\n    <tr>\n      <th>10222</th>\n      <td>3517116</td>\n      <td>The secret of White Stone gate / Julia Nobel.</td>\n      <td>Nobel, Julia</td>\n      <td>1492664677, 9781492664673</td>\n      <td>[2020]</td>\n      <td>Sourcebooks Young Readers,</td>\n      <td>Boarding schools Juvenile fiction, Schools Juv...</td>\n      <td>jcbk</td>\n      <td>ncfic</td>\n      <td>NaN</td>\n      <td>gwd</td>\n      <td>06/01/2020</td>\n      <td>1</td>\n    </tr>\n    <tr>\n      <th>10223</th>\n      <td>526229</td>\n      <td>Big red barn / Margaret Wise Brown ; pictures ...</td>\n      <td>Brown, Margaret Wise, 1910-1952</td>\n      <td>0060207485, 0060207493, 0060207507, 0694001597</td>\n      <td>[1989]</td>\n      <td>Harper &amp; Row,</td>\n      <td>Domestic animals Juvenile fiction, Farm life J...</td>\n      <td>jcbk</td>\n      <td>ncpic</td>\n      <td>NaN</td>\n      <td>bal</td>\n      <td>11/01/2020</td>\n      <td>2</td>\n    </tr>\n    <tr>\n      <th>10224</th>\n      <td>2240950</td>\n      <td>Atalanta's race : a Greek myth / retold by Shi...</td>\n      <td>Climo, Shirley</td>\n      <td>0395673224</td>\n      <td>[1995]</td>\n      <td>Clarion Books,</td>\n      <td>Atalanta Greek mythological character Juvenile...</td>\n      <td>jcbk</td>\n      <td>ncnf</td>\n      <td>NaN</td>\n      <td>dth</td>\n      <td>01/01/2020</td>\n      <td>1</td>\n    </tr>\n    <tr>\n      <th>10225</th>\n      <td>2745234</td>\n      <td>May B. / a novel by Caroline Starr Rose.</td>\n      <td>Rose, Caroline Starr</td>\n      <td>158246393X, 158246412X, 9781582463933, 9781582...</td>\n      <td>2012.</td>\n      <td>Schwartz &amp; Wade Books,</td>\n      <td>Novels in verse Juvenile fiction, Frontier and...</td>\n      <td>jcbk</td>\n      <td>ccfic</td>\n      <td>NaN</td>\n      <td>cen</td>\n      <td>08/01/2020</td>\n      <td>1</td>\n    </tr>\n    <tr>\n      <th>10226</th>\n      <td>3410691</td>\n      <td>The lighthouse keeper's daughter : a novel / H...</td>\n      <td>Gaynor, Hazel</td>\n      <td>0062869302, 9780062869302</td>\n      <td>[2018]</td>\n      <td>William Morrow, an imprint of HarperCollinsPub...</td>\n      <td>Shipwrecks England Northumberland Fiction, Por...</td>\n      <td>acbk</td>\n      <td>cafic</td>\n      <td>NaN</td>\n      <td>cen</td>\n      <td>08/01/2020</td>\n      <td>2</td>\n    </tr>\n  </tbody>\n</table>\n<p>10227 rows × 13 columns</p>\n</div>"
     },
     "execution_count": 107,
     "metadata": {},
     "output_type": "execute_result"
    }
   ],
   "source": [
    "books_trial_1"
   ],
   "metadata": {
    "collapsed": false,
    "ExecuteTime": {
     "end_time": "2023-11-08T17:02:02.534386600Z",
     "start_time": "2023-11-08T17:02:02.518240700Z"
    }
   },
   "id": "ab1ce2e61184b075"
  },
  {
   "cell_type": "code",
   "execution_count": 10,
   "outputs": [],
   "source": [
    "def get_english_books(min_number_of_records = 10000, database_location = r'C:\\Users\\trush\\Downloads\\Library_Collection_Inventory_20231102.csv'):\n",
    "    i = 1\n",
    "    book_codes = ['bcbk', 'acbk', 'ahbk', 'jcbk', 'arbk', 'jrbk']\n",
    "    column_names = ['BibNum', 'Title', 'Author', 'ISBN', 'PublicationYear', 'Publisher', 'Subjects', 'ItemType', 'ItemCollection', 'FloatingItem', 'ItemLocation', 'ReportDate', 'ItemCount']\n",
    "    books = pd.DataFrame()\n",
    "    while books.shape[0] < min_number_of_records:\n",
    "        temp = pd.read_csv(r'C:\\Users\\trush\\Downloads\\Library_Collection_Inventory_20231102.csv', on_bad_lines='skip', skiprows=i, nrows=1000, header=None, names=column_names)\n",
    "        temp = temp.loc[temp['ItemType'].isin(book_codes)]\n",
    "        temp = temp.loc[(temp['ItemCollection'] != 'caln') & (temp['ItemCollection'] != 'calnr')]\n",
    "        books = pd.concat([books, temp], ignore_index=True)\n",
    "        i += 1000\n",
    "    return books"
   ],
   "metadata": {
    "collapsed": false,
    "ExecuteTime": {
     "end_time": "2023-11-08T20:12:54.002485600Z",
     "start_time": "2023-11-08T20:12:53.999781400Z"
    }
   },
   "id": "d810a3bf09346d58"
  },
  {
   "cell_type": "code",
   "execution_count": 108,
   "outputs": [
    {
     "data": {
      "text/plain": "         BibNum                                              Title  \\\n0       3479509  Franklin and Luna and the book of fairy tales ...   \n1       2737917  Holiday dinners with Bradley Ogden : 150 festi...   \n2       3359831  Cuzco, Machu Picchu & the Inca heartland / Rob...   \n3       2638616  Lean-to shelters for family protection in an a...   \n4       3298424  Sleeping Beauty / retold by Cynthia Rylant ; p...   \n...         ...                                                ...   \n100124  1707039  The National Trust guide to great opera houses...   \n100125  3297526  Food wars! = Shokugeki no soma. 14 / story by ...   \n100126  3216667  Salt block cooking : 70 recipes for grilling, ...   \n100127  3401566  There's a dinosaur on the 13th floor / Wade Br...   \n100128  2507658                 Steer toward rock / Fae Myenne Ng.   \n\n                           Author                       ISBN PublicationYear  \\\n0                   Campbell, Jen  0500651752, 9780500651759           2019.   \n1                  Ogden, Bradley  0762439157, 9780762439157          [2011]   \n2             Kunstaetter, Robert  1911082256, 9781911082255           2017.   \n3                             NaN                        NaN         [1953?]   \n4                 Rylant, Cynthia  1423121082, 9781423121084          [2015]   \n...                           ...                        ...             ...   \n100124  Lynn, Karyl Charna, 1943-                 0471144215          [1996]   \n100125       Tsukuda, Yuto, 1989-  142158655X, 9781421586557          [2016]   \n100126            Bitterman, Mark  1449430554, 9781449430559          [2013]   \n100127             Bradford, Wade  0763686654, 9780763686659           2018.   \n100128      Ng, Fae Myenne, 1956-  0786860979, 9780786860975          [2008]   \n\n                                                Publisher  \\\n0                                      Thames and Hudson,   \n1                                          Running Press,   \n2                                              Footprint,   \n3       Federal Civil Defense Administration : For sal...   \n4                                        Disney Hyperion,   \n...                                                   ...   \n100124                       Preservation Press/J. Wiley,   \n100125                                         VIZ Media,   \n100126                               Andrews McMeel Pub.,   \n100127                                  Candlewick Press,   \n100128                                          Hyperion,   \n\n                                                 Subjects ItemType  \\\n0       Dragons Juvenile fiction, Characters and chara...     jcbk   \n1                                Cooking, Holiday cooking     acbk   \n2       Peru Guidebooks, Cuzco Peru Guidebooks, Machu ...     acbk   \n3       Air raid shelters Design and construction, Ato...     acbk   \n4       Sleeping Beauty Tale Juvenile literature, Folk...     jcbk   \n...                                                   ...      ...   \n100124  Theater architecture United States Guidebooks,...     acbk   \n100125  Teenage boys Comic books strips etc, Cooking s...     acbk   \n100126                           Salt, Cooking, Cookbooks     acbk   \n100127  Sleep Juvenile fiction, Hotels Juvenile fictio...     jcbk   \n100128  Butchers Fiction, Noncitizens Fiction, Man wom...     acbk   \n\n       ItemCollection FloatingItem ItemLocation  ReportDate  ItemCount  \n0               ncnew          NaN          net  03/01/2020          1  \n1                nanf          NaN          swt  12/01/2020          1  \n2                nanf          NaN          wts  03/01/2020          1  \n3               cadoc          NaN          cen  03/01/2020          1  \n4               ncfft          NaN          mag  11/01/2020          1  \n...               ...          ...          ...         ...        ...  \n100124           canf          NaN          cen  06/01/2020          1  \n100125        nacomic          NaN          uni  06/01/2020          1  \n100126           canf          NaN          cen  09/01/2020          2  \n100127          ccpic          NaN          cen  12/01/2020          1  \n100128          cafic          NaN          cen  06/01/2020          2  \n\n[100129 rows x 13 columns]",
      "text/html": "<div>\n<style scoped>\n    .dataframe tbody tr th:only-of-type {\n        vertical-align: middle;\n    }\n\n    .dataframe tbody tr th {\n        vertical-align: top;\n    }\n\n    .dataframe thead th {\n        text-align: right;\n    }\n</style>\n<table border=\"1\" class=\"dataframe\">\n  <thead>\n    <tr style=\"text-align: right;\">\n      <th></th>\n      <th>BibNum</th>\n      <th>Title</th>\n      <th>Author</th>\n      <th>ISBN</th>\n      <th>PublicationYear</th>\n      <th>Publisher</th>\n      <th>Subjects</th>\n      <th>ItemType</th>\n      <th>ItemCollection</th>\n      <th>FloatingItem</th>\n      <th>ItemLocation</th>\n      <th>ReportDate</th>\n      <th>ItemCount</th>\n    </tr>\n  </thead>\n  <tbody>\n    <tr>\n      <th>0</th>\n      <td>3479509</td>\n      <td>Franklin and Luna and the book of fairy tales ...</td>\n      <td>Campbell, Jen</td>\n      <td>0500651752, 9780500651759</td>\n      <td>2019.</td>\n      <td>Thames and Hudson,</td>\n      <td>Dragons Juvenile fiction, Characters and chara...</td>\n      <td>jcbk</td>\n      <td>ncnew</td>\n      <td>NaN</td>\n      <td>net</td>\n      <td>03/01/2020</td>\n      <td>1</td>\n    </tr>\n    <tr>\n      <th>1</th>\n      <td>2737917</td>\n      <td>Holiday dinners with Bradley Ogden : 150 festi...</td>\n      <td>Ogden, Bradley</td>\n      <td>0762439157, 9780762439157</td>\n      <td>[2011]</td>\n      <td>Running Press,</td>\n      <td>Cooking, Holiday cooking</td>\n      <td>acbk</td>\n      <td>nanf</td>\n      <td>NaN</td>\n      <td>swt</td>\n      <td>12/01/2020</td>\n      <td>1</td>\n    </tr>\n    <tr>\n      <th>2</th>\n      <td>3359831</td>\n      <td>Cuzco, Machu Picchu &amp; the Inca heartland / Rob...</td>\n      <td>Kunstaetter, Robert</td>\n      <td>1911082256, 9781911082255</td>\n      <td>2017.</td>\n      <td>Footprint,</td>\n      <td>Peru Guidebooks, Cuzco Peru Guidebooks, Machu ...</td>\n      <td>acbk</td>\n      <td>nanf</td>\n      <td>NaN</td>\n      <td>wts</td>\n      <td>03/01/2020</td>\n      <td>1</td>\n    </tr>\n    <tr>\n      <th>3</th>\n      <td>2638616</td>\n      <td>Lean-to shelters for family protection in an a...</td>\n      <td>NaN</td>\n      <td>NaN</td>\n      <td>[1953?]</td>\n      <td>Federal Civil Defense Administration : For sal...</td>\n      <td>Air raid shelters Design and construction, Ato...</td>\n      <td>acbk</td>\n      <td>cadoc</td>\n      <td>NaN</td>\n      <td>cen</td>\n      <td>03/01/2020</td>\n      <td>1</td>\n    </tr>\n    <tr>\n      <th>4</th>\n      <td>3298424</td>\n      <td>Sleeping Beauty / retold by Cynthia Rylant ; p...</td>\n      <td>Rylant, Cynthia</td>\n      <td>1423121082, 9781423121084</td>\n      <td>[2015]</td>\n      <td>Disney Hyperion,</td>\n      <td>Sleeping Beauty Tale Juvenile literature, Folk...</td>\n      <td>jcbk</td>\n      <td>ncfft</td>\n      <td>NaN</td>\n      <td>mag</td>\n      <td>11/01/2020</td>\n      <td>1</td>\n    </tr>\n    <tr>\n      <th>...</th>\n      <td>...</td>\n      <td>...</td>\n      <td>...</td>\n      <td>...</td>\n      <td>...</td>\n      <td>...</td>\n      <td>...</td>\n      <td>...</td>\n      <td>...</td>\n      <td>...</td>\n      <td>...</td>\n      <td>...</td>\n      <td>...</td>\n    </tr>\n    <tr>\n      <th>100124</th>\n      <td>1707039</td>\n      <td>The National Trust guide to great opera houses...</td>\n      <td>Lynn, Karyl Charna, 1943-</td>\n      <td>0471144215</td>\n      <td>[1996]</td>\n      <td>Preservation Press/J. Wiley,</td>\n      <td>Theater architecture United States Guidebooks,...</td>\n      <td>acbk</td>\n      <td>canf</td>\n      <td>NaN</td>\n      <td>cen</td>\n      <td>06/01/2020</td>\n      <td>1</td>\n    </tr>\n    <tr>\n      <th>100125</th>\n      <td>3297526</td>\n      <td>Food wars! = Shokugeki no soma. 14 / story by ...</td>\n      <td>Tsukuda, Yuto, 1989-</td>\n      <td>142158655X, 9781421586557</td>\n      <td>[2016]</td>\n      <td>VIZ Media,</td>\n      <td>Teenage boys Comic books strips etc, Cooking s...</td>\n      <td>acbk</td>\n      <td>nacomic</td>\n      <td>NaN</td>\n      <td>uni</td>\n      <td>06/01/2020</td>\n      <td>1</td>\n    </tr>\n    <tr>\n      <th>100126</th>\n      <td>3216667</td>\n      <td>Salt block cooking : 70 recipes for grilling, ...</td>\n      <td>Bitterman, Mark</td>\n      <td>1449430554, 9781449430559</td>\n      <td>[2013]</td>\n      <td>Andrews McMeel Pub.,</td>\n      <td>Salt, Cooking, Cookbooks</td>\n      <td>acbk</td>\n      <td>canf</td>\n      <td>NaN</td>\n      <td>cen</td>\n      <td>09/01/2020</td>\n      <td>2</td>\n    </tr>\n    <tr>\n      <th>100127</th>\n      <td>3401566</td>\n      <td>There's a dinosaur on the 13th floor / Wade Br...</td>\n      <td>Bradford, Wade</td>\n      <td>0763686654, 9780763686659</td>\n      <td>2018.</td>\n      <td>Candlewick Press,</td>\n      <td>Sleep Juvenile fiction, Hotels Juvenile fictio...</td>\n      <td>jcbk</td>\n      <td>ccpic</td>\n      <td>NaN</td>\n      <td>cen</td>\n      <td>12/01/2020</td>\n      <td>1</td>\n    </tr>\n    <tr>\n      <th>100128</th>\n      <td>2507658</td>\n      <td>Steer toward rock / Fae Myenne Ng.</td>\n      <td>Ng, Fae Myenne, 1956-</td>\n      <td>0786860979, 9780786860975</td>\n      <td>[2008]</td>\n      <td>Hyperion,</td>\n      <td>Butchers Fiction, Noncitizens Fiction, Man wom...</td>\n      <td>acbk</td>\n      <td>cafic</td>\n      <td>NaN</td>\n      <td>cen</td>\n      <td>06/01/2020</td>\n      <td>2</td>\n    </tr>\n  </tbody>\n</table>\n<p>100129 rows × 13 columns</p>\n</div>"
     },
     "execution_count": 108,
     "metadata": {},
     "output_type": "execute_result"
    }
   ],
   "source": [
    "get_english_books(100000)"
   ],
   "metadata": {
    "collapsed": false,
    "ExecuteTime": {
     "end_time": "2023-11-08T17:04:12.522623800Z",
     "start_time": "2023-11-08T17:04:03.236480300Z"
    }
   },
   "id": "fb2408a6118fcd5c"
  },
  {
   "cell_type": "code",
   "execution_count": 3,
   "outputs": [],
   "source": [
    "books_sample = get_english_books(100000)"
   ],
   "metadata": {
    "collapsed": false,
    "ExecuteTime": {
     "end_time": "2023-11-08T18:26:46.441229500Z",
     "start_time": "2023-11-08T18:26:36.335384900Z"
    }
   },
   "id": "2eb4d387f489240e"
  },
  {
   "cell_type": "code",
   "execution_count": 13,
   "outputs": [],
   "source": [
    "books_sample.to_csv('sample1.csv')"
   ],
   "metadata": {
    "collapsed": false,
    "ExecuteTime": {
     "end_time": "2023-11-09T22:27:24.373669100Z",
     "start_time": "2023-11-09T22:27:23.499566900Z"
    }
   },
   "id": "483a0fffb346674f"
  },
  {
   "cell_type": "code",
   "execution_count": 14,
   "outputs": [],
   "source": [],
   "metadata": {
    "collapsed": false,
    "ExecuteTime": {
     "end_time": "2023-11-09T22:27:26.443446300Z",
     "start_time": "2023-11-09T22:27:26.381818700Z"
    }
   },
   "id": "4fbba23f5e4e347d"
  }
 ],
 "metadata": {
  "kernelspec": {
   "display_name": "Python 3",
   "language": "python",
   "name": "python3"
  },
  "language_info": {
   "codemirror_mode": {
    "name": "ipython",
    "version": 2
   },
   "file_extension": ".py",
   "mimetype": "text/x-python",
   "name": "python",
   "nbconvert_exporter": "python",
   "pygments_lexer": "ipython2",
   "version": "2.7.6"
  }
 },
 "nbformat": 4,
 "nbformat_minor": 5
}
