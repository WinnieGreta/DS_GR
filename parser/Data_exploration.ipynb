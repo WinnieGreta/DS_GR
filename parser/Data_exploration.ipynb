{
 "cells": [
  {
   "cell_type": "code",
   "execution_count": 1,
   "id": "initial_id",
   "metadata": {
    "collapsed": true,
    "ExecuteTime": {
     "end_time": "2023-11-08T18:24:38.950121100Z",
     "start_time": "2023-11-08T18:24:38.393177200Z"
    }
   },
   "outputs": [],
   "source": [
    "import numpy as np\n",
    "import pandas as pd"
   ]
  },
  {
   "cell_type": "code",
   "execution_count": 11,
   "outputs": [],
   "source": [
    "books = pd.read_csv('sample1.csv')"
   ],
   "metadata": {
    "collapsed": false,
    "ExecuteTime": {
     "end_time": "2023-11-08T18:38:51.592185800Z",
     "start_time": "2023-11-08T18:38:51.195665600Z"
    }
   },
   "id": "a74916bf5ea61666"
  },
  {
   "cell_type": "code",
   "execution_count": 12,
   "outputs": [
    {
     "data": {
      "text/plain": "         BibNum                                              Title  \\\n0       3479509  Franklin and Luna and the book of fairy tales ...   \n1       2737917  Holiday dinners with Bradley Ogden : 150 festi...   \n2       3359831  Cuzco, Machu Picchu & the Inca heartland / Rob...   \n3       2638616  Lean-to shelters for family protection in an a...   \n4       3298424  Sleeping Beauty / retold by Cynthia Rylant ; p...   \n...         ...                                                ...   \n100021  2702124  The mystery girl / created by Gertrude Chandle...   \n100022  3295422                       Gone to dust / Matt Goldman.   \n100023  2375893  Asterix and the laurel wreath / written by Ren...   \n100024  2479947  T. Rex and the Mother's Day hug / by Lois G. G...   \n100025  2816364  Graphic design : now in production / edited by...   \n\n                                      Author  \\\n0                              Campbell, Jen   \n1                             Ogden, Bradley   \n2                        Kunstaetter, Robert   \n3                                        NaN   \n4                            Rylant, Cynthia   \n...                                      ...   \n100021  Warner, Gertrude Chandler, 1890-1979   \n100022                  Goldman, Matt, 1962-   \n100023                   Goscinny, 1926-1977   \n100024                    Grambling, Lois G.   \n100025                                   NaN   \n\n                                                     ISBN PublicationYear  \\\n0                               0500651752, 9780500651759           2019.   \n1                               0762439157, 9780762439157          [2011]   \n2                               1911082256, 9781911082255           2017.   \n3                                                     NaN         [1953?]   \n4                               1423121082, 9781423121084          [2015]   \n...                                                   ...             ...   \n100021                          0807553719, 9780807553718           1992.   \n100022  0765391287, 0765391295, 9780765391285, 9780765...           2017.   \n100023              0752866362, 0752866370, 9780752866369           2004.   \n100024  0060531266, 0060531274, 9780060531263, 9780060...           2008.   \n100025                          0935640983, 9780935640984          [2011]   \n\n                                                Publisher  \\\n0                                      Thames and Hudson,   \n1                                          Running Press,   \n2                                              Footprint,   \n3       Federal Civil Defense Administration : For sal...   \n4                                        Disney Hyperion,   \n...                                                   ...   \n100021                                  A. Whitman & Co.,   \n100022                                             Forge,   \n100023  Orion Books ; Distributed in the United States...   \n100024                             Katherine Tegen Books,   \n100025                                 Walker Art Center,   \n\n                                                 Subjects ItemType  \\\n0       Dragons Juvenile fiction, Characters and chara...     jcbk   \n1                                Cooking, Holiday cooking     acbk   \n2       Peru Guidebooks, Cuzco Peru Guidebooks, Machu ...     acbk   \n3       Air raid shelters Design and construction, Ato...     acbk   \n4       Sleeping Beauty Tale Juvenile literature, Folk...     jcbk   \n...                                                   ...      ...   \n100021  Boxcar children Fictitious characters Juvenile...     jcbk   \n100022  Private investigators Fiction, Murder Investig...     acbk   \n100023  Ast‚rix Fictitious character Comic books strip...     acbk   \n100024  Tyrannosaurus rex Juvenile fiction, Mothers Da...     jcbk   \n100025  Commercial art History 21st century Exhibition...     acbk   \n\n       ItemCollection FloatingItem ItemLocation  ReportDate  ItemCount  \n0               ncnew          NaN          net  03/01/2020          1  \n1                nanf          NaN          swt  12/01/2020          1  \n2                nanf          NaN          wts  03/01/2020          1  \n3               cadoc          NaN          cen  03/01/2020          1  \n4               ncfft          NaN          mag  11/01/2020          1  \n...               ...          ...          ...         ...        ...  \n100021          ncser          NaN          mag  05/01/2020          1  \n100022          namys     Floating          mag  01/01/2020          2  \n100023        nacomic          NaN          mag  09/01/2020          1  \n100024          nchol          NaN          cap  05/01/2020          1  \n100025           canf          NaN          cen  04/01/2020          1  \n\n[100026 rows x 13 columns]",
      "text/html": "<div>\n<style scoped>\n    .dataframe tbody tr th:only-of-type {\n        vertical-align: middle;\n    }\n\n    .dataframe tbody tr th {\n        vertical-align: top;\n    }\n\n    .dataframe thead th {\n        text-align: right;\n    }\n</style>\n<table border=\"1\" class=\"dataframe\">\n  <thead>\n    <tr style=\"text-align: right;\">\n      <th></th>\n      <th>BibNum</th>\n      <th>Title</th>\n      <th>Author</th>\n      <th>ISBN</th>\n      <th>PublicationYear</th>\n      <th>Publisher</th>\n      <th>Subjects</th>\n      <th>ItemType</th>\n      <th>ItemCollection</th>\n      <th>FloatingItem</th>\n      <th>ItemLocation</th>\n      <th>ReportDate</th>\n      <th>ItemCount</th>\n    </tr>\n  </thead>\n  <tbody>\n    <tr>\n      <th>0</th>\n      <td>3479509</td>\n      <td>Franklin and Luna and the book of fairy tales ...</td>\n      <td>Campbell, Jen</td>\n      <td>0500651752, 9780500651759</td>\n      <td>2019.</td>\n      <td>Thames and Hudson,</td>\n      <td>Dragons Juvenile fiction, Characters and chara...</td>\n      <td>jcbk</td>\n      <td>ncnew</td>\n      <td>NaN</td>\n      <td>net</td>\n      <td>03/01/2020</td>\n      <td>1</td>\n    </tr>\n    <tr>\n      <th>1</th>\n      <td>2737917</td>\n      <td>Holiday dinners with Bradley Ogden : 150 festi...</td>\n      <td>Ogden, Bradley</td>\n      <td>0762439157, 9780762439157</td>\n      <td>[2011]</td>\n      <td>Running Press,</td>\n      <td>Cooking, Holiday cooking</td>\n      <td>acbk</td>\n      <td>nanf</td>\n      <td>NaN</td>\n      <td>swt</td>\n      <td>12/01/2020</td>\n      <td>1</td>\n    </tr>\n    <tr>\n      <th>2</th>\n      <td>3359831</td>\n      <td>Cuzco, Machu Picchu &amp; the Inca heartland / Rob...</td>\n      <td>Kunstaetter, Robert</td>\n      <td>1911082256, 9781911082255</td>\n      <td>2017.</td>\n      <td>Footprint,</td>\n      <td>Peru Guidebooks, Cuzco Peru Guidebooks, Machu ...</td>\n      <td>acbk</td>\n      <td>nanf</td>\n      <td>NaN</td>\n      <td>wts</td>\n      <td>03/01/2020</td>\n      <td>1</td>\n    </tr>\n    <tr>\n      <th>3</th>\n      <td>2638616</td>\n      <td>Lean-to shelters for family protection in an a...</td>\n      <td>NaN</td>\n      <td>NaN</td>\n      <td>[1953?]</td>\n      <td>Federal Civil Defense Administration : For sal...</td>\n      <td>Air raid shelters Design and construction, Ato...</td>\n      <td>acbk</td>\n      <td>cadoc</td>\n      <td>NaN</td>\n      <td>cen</td>\n      <td>03/01/2020</td>\n      <td>1</td>\n    </tr>\n    <tr>\n      <th>4</th>\n      <td>3298424</td>\n      <td>Sleeping Beauty / retold by Cynthia Rylant ; p...</td>\n      <td>Rylant, Cynthia</td>\n      <td>1423121082, 9781423121084</td>\n      <td>[2015]</td>\n      <td>Disney Hyperion,</td>\n      <td>Sleeping Beauty Tale Juvenile literature, Folk...</td>\n      <td>jcbk</td>\n      <td>ncfft</td>\n      <td>NaN</td>\n      <td>mag</td>\n      <td>11/01/2020</td>\n      <td>1</td>\n    </tr>\n    <tr>\n      <th>...</th>\n      <td>...</td>\n      <td>...</td>\n      <td>...</td>\n      <td>...</td>\n      <td>...</td>\n      <td>...</td>\n      <td>...</td>\n      <td>...</td>\n      <td>...</td>\n      <td>...</td>\n      <td>...</td>\n      <td>...</td>\n      <td>...</td>\n    </tr>\n    <tr>\n      <th>100021</th>\n      <td>2702124</td>\n      <td>The mystery girl / created by Gertrude Chandle...</td>\n      <td>Warner, Gertrude Chandler, 1890-1979</td>\n      <td>0807553719, 9780807553718</td>\n      <td>1992.</td>\n      <td>A. Whitman &amp; Co.,</td>\n      <td>Boxcar children Fictitious characters Juvenile...</td>\n      <td>jcbk</td>\n      <td>ncser</td>\n      <td>NaN</td>\n      <td>mag</td>\n      <td>05/01/2020</td>\n      <td>1</td>\n    </tr>\n    <tr>\n      <th>100022</th>\n      <td>3295422</td>\n      <td>Gone to dust / Matt Goldman.</td>\n      <td>Goldman, Matt, 1962-</td>\n      <td>0765391287, 0765391295, 9780765391285, 9780765...</td>\n      <td>2017.</td>\n      <td>Forge,</td>\n      <td>Private investigators Fiction, Murder Investig...</td>\n      <td>acbk</td>\n      <td>namys</td>\n      <td>Floating</td>\n      <td>mag</td>\n      <td>01/01/2020</td>\n      <td>2</td>\n    </tr>\n    <tr>\n      <th>100023</th>\n      <td>2375893</td>\n      <td>Asterix and the laurel wreath / written by Ren...</td>\n      <td>Goscinny, 1926-1977</td>\n      <td>0752866362, 0752866370, 9780752866369</td>\n      <td>2004.</td>\n      <td>Orion Books ; Distributed in the United States...</td>\n      <td>Ast‚rix Fictitious character Comic books strip...</td>\n      <td>acbk</td>\n      <td>nacomic</td>\n      <td>NaN</td>\n      <td>mag</td>\n      <td>09/01/2020</td>\n      <td>1</td>\n    </tr>\n    <tr>\n      <th>100024</th>\n      <td>2479947</td>\n      <td>T. Rex and the Mother's Day hug / by Lois G. G...</td>\n      <td>Grambling, Lois G.</td>\n      <td>0060531266, 0060531274, 9780060531263, 9780060...</td>\n      <td>2008.</td>\n      <td>Katherine Tegen Books,</td>\n      <td>Tyrannosaurus rex Juvenile fiction, Mothers Da...</td>\n      <td>jcbk</td>\n      <td>nchol</td>\n      <td>NaN</td>\n      <td>cap</td>\n      <td>05/01/2020</td>\n      <td>1</td>\n    </tr>\n    <tr>\n      <th>100025</th>\n      <td>2816364</td>\n      <td>Graphic design : now in production / edited by...</td>\n      <td>NaN</td>\n      <td>0935640983, 9780935640984</td>\n      <td>[2011]</td>\n      <td>Walker Art Center,</td>\n      <td>Commercial art History 21st century Exhibition...</td>\n      <td>acbk</td>\n      <td>canf</td>\n      <td>NaN</td>\n      <td>cen</td>\n      <td>04/01/2020</td>\n      <td>1</td>\n    </tr>\n  </tbody>\n</table>\n<p>100026 rows × 13 columns</p>\n</div>"
     },
     "execution_count": 12,
     "metadata": {},
     "output_type": "execute_result"
    }
   ],
   "source": [
    "books"
   ],
   "metadata": {
    "collapsed": false,
    "ExecuteTime": {
     "end_time": "2023-11-08T18:38:54.632891100Z",
     "start_time": "2023-11-08T18:38:54.619281400Z"
    }
   },
   "id": "4be1de4b3c7e716c"
  },
  {
   "cell_type": "code",
   "execution_count": 13,
   "outputs": [
    {
     "data": {
      "text/plain": "BibNum                 0\nTitle                  1\nAuthor              7757\nISBN               15796\nPublicationYear      859\nPublisher            290\nSubjects            1610\nItemType               0\nItemCollection         0\nFloatingItem       96585\nItemLocation           0\nReportDate             0\nItemCount              0\ndtype: int64"
     },
     "execution_count": 13,
     "metadata": {},
     "output_type": "execute_result"
    }
   ],
   "source": [
    "books.isna().sum()"
   ],
   "metadata": {
    "collapsed": false,
    "ExecuteTime": {
     "end_time": "2023-11-08T18:39:00.190632200Z",
     "start_time": "2023-11-08T18:39:00.164548600Z"
    }
   },
   "id": "cb2837aba91a80c5"
  },
  {
   "cell_type": "code",
   "execution_count": 14,
   "outputs": [
    {
     "data": {
      "text/plain": "         BibNum                                              Title Author  \\\n3       2638616  Lean-to shelters for family protection in an a...    NaN   \n7       2919527  Crucial conversations : tools for talking when...    NaN   \n11      3119888                          Art directors ... annual.    NaN   \n12      1995873                             Be here now, remember.    NaN   \n25      2114909                            The rough guide to Goa.    NaN   \n...         ...                                                ...    ...   \n99950   1882334  Draft environmental impact statement : propose...    NaN   \n99953   1277616  Land-Rover 1948-58 series I workshop manual : ...    NaN   \n99969   2290670  National Geographic encyclopedia of space / [c...    NaN   \n99984   2874247  Pete the Cat. Play ball! / created by James Dean.    NaN   \n100025  2816364  Graphic design : now in production / edited by...    NaN   \n\n                                                     ISBN  \\\n3                                                     NaN   \n7       0071771328, 0071775307, 9780071771320, 9780071...   \n11                                                    NaN   \n12                                             0517543052   \n25                                                    NaN   \n...                                                   ...   \n99950                                                 NaN   \n99953                                          0907073980   \n99969                           0792273192, 9780792273196   \n99984   0062110667, 0062110675, 9780062110664, 9780062...   \n100025                          0935640983, 9780935640984   \n\n             PublicationYear  \\\n3                    [1953?]   \n7                     [2012]   \n11                     1942.   \n12                     1978.   \n25                     2005-   \n...                      ...   \n99950                 [1976]   \n99953   [between 1980-1989?]   \n99969                 [2005]   \n99984                 [2013]   \n100025                [2011]   \n\n                                                Publisher  \\\n3       Federal Civil Defense Administration : For sal...   \n7                                            McGraw-Hill,   \n11                           Watson-Guptill Publications,   \n12        Hanuman Foundation : Distributed by Crown Pub.,   \n25       Rough Guides : Distributed by the Penguin Group,   \n...                                                   ...   \n99950   [King County Dept. of Public Works, Solid Wast...   \n99953                                   Brooklands Books,   \n99969                                National Geographic,   \n99984                                             Harper,   \n100025                                 Walker Art Center,   \n\n                                                 Subjects ItemType  \\\n3       Air raid shelters Design and construction, Ato...     acbk   \n7       Interpersonal communication, Interpersonal rel...     acbk   \n11      Art Directors Club New York N Y Exhibitions, C...     arbk   \n12             Ram Dass, Spiritual life, New Age movement     acbk   \n25                             Goa India State Guidebooks     arbk   \n...                                                   ...      ...   \n99950   Refuse and refuse disposal Environmental aspec...     arbk   \n99953   Land Rover trucks Maintenance and repair Handb...     acbk   \n99969    Astronautics, Astronomy, Outer space Exploration     acbk   \n99984   Pete the Cat Fictitious character Juvenile fic...     jcbk   \n100025  Commercial art History 21st century Exhibition...     acbk   \n\n       ItemCollection FloatingItem ItemLocation  ReportDate  ItemCount  \n3               cadoc          NaN          cen  03/01/2020          1  \n7                nanf          NaN          rbe  11/01/2020          1  \n11               cs8r          NaN          cen  06/01/2020          1  \n12               nanf          NaN          mon  11/01/2020          1  \n25               cs8r          NaN          cen  09/01/2020          1  \n...               ...          ...          ...         ...        ...  \n99950           casea          NaN          cen  02/01/2020          1  \n99953            canf          NaN          cen  07/01/2020          1  \n99969            nanf          NaN          swt  02/01/2020          1  \n99984           ncrdr          NaN          qna  12/01/2020          1  \n100025           canf          NaN          cen  04/01/2020          1  \n\n[7757 rows x 13 columns]",
      "text/html": "<div>\n<style scoped>\n    .dataframe tbody tr th:only-of-type {\n        vertical-align: middle;\n    }\n\n    .dataframe tbody tr th {\n        vertical-align: top;\n    }\n\n    .dataframe thead th {\n        text-align: right;\n    }\n</style>\n<table border=\"1\" class=\"dataframe\">\n  <thead>\n    <tr style=\"text-align: right;\">\n      <th></th>\n      <th>BibNum</th>\n      <th>Title</th>\n      <th>Author</th>\n      <th>ISBN</th>\n      <th>PublicationYear</th>\n      <th>Publisher</th>\n      <th>Subjects</th>\n      <th>ItemType</th>\n      <th>ItemCollection</th>\n      <th>FloatingItem</th>\n      <th>ItemLocation</th>\n      <th>ReportDate</th>\n      <th>ItemCount</th>\n    </tr>\n  </thead>\n  <tbody>\n    <tr>\n      <th>3</th>\n      <td>2638616</td>\n      <td>Lean-to shelters for family protection in an a...</td>\n      <td>NaN</td>\n      <td>NaN</td>\n      <td>[1953?]</td>\n      <td>Federal Civil Defense Administration : For sal...</td>\n      <td>Air raid shelters Design and construction, Ato...</td>\n      <td>acbk</td>\n      <td>cadoc</td>\n      <td>NaN</td>\n      <td>cen</td>\n      <td>03/01/2020</td>\n      <td>1</td>\n    </tr>\n    <tr>\n      <th>7</th>\n      <td>2919527</td>\n      <td>Crucial conversations : tools for talking when...</td>\n      <td>NaN</td>\n      <td>0071771328, 0071775307, 9780071771320, 9780071...</td>\n      <td>[2012]</td>\n      <td>McGraw-Hill,</td>\n      <td>Interpersonal communication, Interpersonal rel...</td>\n      <td>acbk</td>\n      <td>nanf</td>\n      <td>NaN</td>\n      <td>rbe</td>\n      <td>11/01/2020</td>\n      <td>1</td>\n    </tr>\n    <tr>\n      <th>11</th>\n      <td>3119888</td>\n      <td>Art directors ... annual.</td>\n      <td>NaN</td>\n      <td>NaN</td>\n      <td>1942.</td>\n      <td>Watson-Guptill Publications,</td>\n      <td>Art Directors Club New York N Y Exhibitions, C...</td>\n      <td>arbk</td>\n      <td>cs8r</td>\n      <td>NaN</td>\n      <td>cen</td>\n      <td>06/01/2020</td>\n      <td>1</td>\n    </tr>\n    <tr>\n      <th>12</th>\n      <td>1995873</td>\n      <td>Be here now, remember.</td>\n      <td>NaN</td>\n      <td>0517543052</td>\n      <td>1978.</td>\n      <td>Hanuman Foundation : Distributed by Crown Pub.,</td>\n      <td>Ram Dass, Spiritual life, New Age movement</td>\n      <td>acbk</td>\n      <td>nanf</td>\n      <td>NaN</td>\n      <td>mon</td>\n      <td>11/01/2020</td>\n      <td>1</td>\n    </tr>\n    <tr>\n      <th>25</th>\n      <td>2114909</td>\n      <td>The rough guide to Goa.</td>\n      <td>NaN</td>\n      <td>NaN</td>\n      <td>2005-</td>\n      <td>Rough Guides : Distributed by the Penguin Group,</td>\n      <td>Goa India State Guidebooks</td>\n      <td>arbk</td>\n      <td>cs8r</td>\n      <td>NaN</td>\n      <td>cen</td>\n      <td>09/01/2020</td>\n      <td>1</td>\n    </tr>\n    <tr>\n      <th>...</th>\n      <td>...</td>\n      <td>...</td>\n      <td>...</td>\n      <td>...</td>\n      <td>...</td>\n      <td>...</td>\n      <td>...</td>\n      <td>...</td>\n      <td>...</td>\n      <td>...</td>\n      <td>...</td>\n      <td>...</td>\n      <td>...</td>\n    </tr>\n    <tr>\n      <th>99950</th>\n      <td>1882334</td>\n      <td>Draft environmental impact statement : propose...</td>\n      <td>NaN</td>\n      <td>NaN</td>\n      <td>[1976]</td>\n      <td>[King County Dept. of Public Works, Solid Wast...</td>\n      <td>Refuse and refuse disposal Environmental aspec...</td>\n      <td>arbk</td>\n      <td>casea</td>\n      <td>NaN</td>\n      <td>cen</td>\n      <td>02/01/2020</td>\n      <td>1</td>\n    </tr>\n    <tr>\n      <th>99953</th>\n      <td>1277616</td>\n      <td>Land-Rover 1948-58 series I workshop manual : ...</td>\n      <td>NaN</td>\n      <td>0907073980</td>\n      <td>[between 1980-1989?]</td>\n      <td>Brooklands Books,</td>\n      <td>Land Rover trucks Maintenance and repair Handb...</td>\n      <td>acbk</td>\n      <td>canf</td>\n      <td>NaN</td>\n      <td>cen</td>\n      <td>07/01/2020</td>\n      <td>1</td>\n    </tr>\n    <tr>\n      <th>99969</th>\n      <td>2290670</td>\n      <td>National Geographic encyclopedia of space / [c...</td>\n      <td>NaN</td>\n      <td>0792273192, 9780792273196</td>\n      <td>[2005]</td>\n      <td>National Geographic,</td>\n      <td>Astronautics, Astronomy, Outer space Exploration</td>\n      <td>acbk</td>\n      <td>nanf</td>\n      <td>NaN</td>\n      <td>swt</td>\n      <td>02/01/2020</td>\n      <td>1</td>\n    </tr>\n    <tr>\n      <th>99984</th>\n      <td>2874247</td>\n      <td>Pete the Cat. Play ball! / created by James Dean.</td>\n      <td>NaN</td>\n      <td>0062110667, 0062110675, 9780062110664, 9780062...</td>\n      <td>[2013]</td>\n      <td>Harper,</td>\n      <td>Pete the Cat Fictitious character Juvenile fic...</td>\n      <td>jcbk</td>\n      <td>ncrdr</td>\n      <td>NaN</td>\n      <td>qna</td>\n      <td>12/01/2020</td>\n      <td>1</td>\n    </tr>\n    <tr>\n      <th>100025</th>\n      <td>2816364</td>\n      <td>Graphic design : now in production / edited by...</td>\n      <td>NaN</td>\n      <td>0935640983, 9780935640984</td>\n      <td>[2011]</td>\n      <td>Walker Art Center,</td>\n      <td>Commercial art History 21st century Exhibition...</td>\n      <td>acbk</td>\n      <td>canf</td>\n      <td>NaN</td>\n      <td>cen</td>\n      <td>04/01/2020</td>\n      <td>1</td>\n    </tr>\n  </tbody>\n</table>\n<p>7757 rows × 13 columns</p>\n</div>"
     },
     "execution_count": 14,
     "metadata": {},
     "output_type": "execute_result"
    }
   ],
   "source": [
    "books[books['Author'].isna()]"
   ],
   "metadata": {
    "collapsed": false,
    "ExecuteTime": {
     "end_time": "2023-11-08T18:39:11.330192500Z",
     "start_time": "2023-11-08T18:39:11.306930500Z"
    }
   },
   "id": "e5ee4112220be4a5"
  },
  {
   "cell_type": "code",
   "execution_count": 15,
   "outputs": [
    {
     "data": {
      "text/plain": "        BibNum Title                                             Author  \\\n44807  1271782   NaN  United States. Congress. House. Committee on E...   \n\n             ISBN PublicationYear  \\\n44807  0160391008           1992.   \n\n                                               Publisher  \\\n44807  U.S. G.P.O. : For sale by the U.S. G.P.O., Sup...   \n\n                                                Subjects ItemType  \\\n44807  Deaf Education United States States, Education...     acbk   \n\n      ItemCollection FloatingItem ItemLocation  ReportDate  ItemCount  \n44807          cadoc          NaN          cen  01/01/2020          1  ",
      "text/html": "<div>\n<style scoped>\n    .dataframe tbody tr th:only-of-type {\n        vertical-align: middle;\n    }\n\n    .dataframe tbody tr th {\n        vertical-align: top;\n    }\n\n    .dataframe thead th {\n        text-align: right;\n    }\n</style>\n<table border=\"1\" class=\"dataframe\">\n  <thead>\n    <tr style=\"text-align: right;\">\n      <th></th>\n      <th>BibNum</th>\n      <th>Title</th>\n      <th>Author</th>\n      <th>ISBN</th>\n      <th>PublicationYear</th>\n      <th>Publisher</th>\n      <th>Subjects</th>\n      <th>ItemType</th>\n      <th>ItemCollection</th>\n      <th>FloatingItem</th>\n      <th>ItemLocation</th>\n      <th>ReportDate</th>\n      <th>ItemCount</th>\n    </tr>\n  </thead>\n  <tbody>\n    <tr>\n      <th>44807</th>\n      <td>1271782</td>\n      <td>NaN</td>\n      <td>United States. Congress. House. Committee on E...</td>\n      <td>0160391008</td>\n      <td>1992.</td>\n      <td>U.S. G.P.O. : For sale by the U.S. G.P.O., Sup...</td>\n      <td>Deaf Education United States States, Education...</td>\n      <td>acbk</td>\n      <td>cadoc</td>\n      <td>NaN</td>\n      <td>cen</td>\n      <td>01/01/2020</td>\n      <td>1</td>\n    </tr>\n  </tbody>\n</table>\n</div>"
     },
     "execution_count": 15,
     "metadata": {},
     "output_type": "execute_result"
    }
   ],
   "source": [
    "books[books['Title'].isna()]"
   ],
   "metadata": {
    "collapsed": false,
    "ExecuteTime": {
     "end_time": "2023-11-08T18:39:15.805662900Z",
     "start_time": "2023-11-08T18:39:15.794450100Z"
    }
   },
   "id": "8bdb3873c38a4f85"
  },
  {
   "cell_type": "code",
   "execution_count": 16,
   "outputs": [
    {
     "data": {
      "text/plain": "        BibNum                                              Title  \\\n90     3339231  What will soon take place : poems / Tania Runyan.   \n128    1807927  Patient A, and other plays : five plays / by L...   \n228    3209449          Against everything : essays / Mark Greif.   \n279     361525                Catalogue of officers and students.   \n311     247665  Parables for the theatre; two plays: The good ...   \n...        ...                                                ...   \n99622  3493384                            Silences / Martha Ronk.   \n99755  2213992  Suki's kimono / written by Chieri Uegaki ; ill...   \n99782  1838041  The Bible : Authorized King James Version / ed...   \n99789  1291517  The elephant vanishes / stories by Haruki Mura...   \n99866  1920357  Numerical Simulation of Vertical Ground-Water ...   \n\n                           Author                                   ISBN  \\\n90                  Runyan, Tania              161261857X, 9781612618579   \n128                 Blessing, Lee                             0435086626   \n228            Greif, Mark, 1975-              1101871156, 9781101871157   \n279            Harvard University                                    NaN   \n311    Brecht, Bertolt, 1898-1956                                    NaN   \n...                           ...                                    ...   \n99622          Ronk, Martha Clare              1632430754, 9781632430755   \n99755              Uegaki, Chieri                             1553370848   \n99782                         NaN  0192835254, 0199535949, 9780199535941   \n99789     Murakami, Haruki, 1949-                 0679420576, 0679750533   \n99866                         NaN                                    NaN   \n\n      PublicationYear                                   Publisher Subjects  \\\n90     [2017], c2018.                            Paraclete Press,      NaN   \n128            [1995]                                  Heinemann,      NaN   \n228            [2016]                             Pantheon Books,      NaN   \n279               NaN                                         NaN      NaN   \n311            [1961]                                Grove Press,      NaN   \n...               ...                                         ...      ...   \n99622           2019.                        Omnidawn Publishing,      NaN   \n99755          [2003]                             Kids Can Press,      NaN   \n99782           1998.                    Oxford University Press,      NaN   \n99789           1993.  A. A. Knopf : Distributed by Random House,      NaN   \n99866         [1999?]                 [publisher not identified],      NaN   \n\n      ItemType ItemCollection FloatingItem ItemLocation  ReportDate  ItemCount  \n90        acbk           nanf          NaN          glk  02/01/2020          1  \n128       acbk           canf          NaN          cen  01/01/2020          1  \n228       acbk           nanf          NaN          wts  10/01/2020          1  \n279       arbk           cs6r          NaN          cen  02/01/2020          1  \n311       acbk           canf          NaN          cen  11/01/2020          1  \n...        ...            ...          ...          ...         ...        ...  \n99622     acbk          nanew          NaN          cap  04/01/2020          1  \n99755     jcbk          ccpic          NaN          cen  02/01/2020          1  \n99782     acbk           nanf          NaN          fre  02/01/2020          1  \n99789     acbk          nafic          NaN          bro  10/01/2020          1  \n99866     acbk          cadoc          NaN          cen  12/01/2020          1  \n\n[1610 rows x 13 columns]",
      "text/html": "<div>\n<style scoped>\n    .dataframe tbody tr th:only-of-type {\n        vertical-align: middle;\n    }\n\n    .dataframe tbody tr th {\n        vertical-align: top;\n    }\n\n    .dataframe thead th {\n        text-align: right;\n    }\n</style>\n<table border=\"1\" class=\"dataframe\">\n  <thead>\n    <tr style=\"text-align: right;\">\n      <th></th>\n      <th>BibNum</th>\n      <th>Title</th>\n      <th>Author</th>\n      <th>ISBN</th>\n      <th>PublicationYear</th>\n      <th>Publisher</th>\n      <th>Subjects</th>\n      <th>ItemType</th>\n      <th>ItemCollection</th>\n      <th>FloatingItem</th>\n      <th>ItemLocation</th>\n      <th>ReportDate</th>\n      <th>ItemCount</th>\n    </tr>\n  </thead>\n  <tbody>\n    <tr>\n      <th>90</th>\n      <td>3339231</td>\n      <td>What will soon take place : poems / Tania Runyan.</td>\n      <td>Runyan, Tania</td>\n      <td>161261857X, 9781612618579</td>\n      <td>[2017], c2018.</td>\n      <td>Paraclete Press,</td>\n      <td>NaN</td>\n      <td>acbk</td>\n      <td>nanf</td>\n      <td>NaN</td>\n      <td>glk</td>\n      <td>02/01/2020</td>\n      <td>1</td>\n    </tr>\n    <tr>\n      <th>128</th>\n      <td>1807927</td>\n      <td>Patient A, and other plays : five plays / by L...</td>\n      <td>Blessing, Lee</td>\n      <td>0435086626</td>\n      <td>[1995]</td>\n      <td>Heinemann,</td>\n      <td>NaN</td>\n      <td>acbk</td>\n      <td>canf</td>\n      <td>NaN</td>\n      <td>cen</td>\n      <td>01/01/2020</td>\n      <td>1</td>\n    </tr>\n    <tr>\n      <th>228</th>\n      <td>3209449</td>\n      <td>Against everything : essays / Mark Greif.</td>\n      <td>Greif, Mark, 1975-</td>\n      <td>1101871156, 9781101871157</td>\n      <td>[2016]</td>\n      <td>Pantheon Books,</td>\n      <td>NaN</td>\n      <td>acbk</td>\n      <td>nanf</td>\n      <td>NaN</td>\n      <td>wts</td>\n      <td>10/01/2020</td>\n      <td>1</td>\n    </tr>\n    <tr>\n      <th>279</th>\n      <td>361525</td>\n      <td>Catalogue of officers and students.</td>\n      <td>Harvard University</td>\n      <td>NaN</td>\n      <td>NaN</td>\n      <td>NaN</td>\n      <td>NaN</td>\n      <td>arbk</td>\n      <td>cs6r</td>\n      <td>NaN</td>\n      <td>cen</td>\n      <td>02/01/2020</td>\n      <td>1</td>\n    </tr>\n    <tr>\n      <th>311</th>\n      <td>247665</td>\n      <td>Parables for the theatre; two plays: The good ...</td>\n      <td>Brecht, Bertolt, 1898-1956</td>\n      <td>NaN</td>\n      <td>[1961]</td>\n      <td>Grove Press,</td>\n      <td>NaN</td>\n      <td>acbk</td>\n      <td>canf</td>\n      <td>NaN</td>\n      <td>cen</td>\n      <td>11/01/2020</td>\n      <td>1</td>\n    </tr>\n    <tr>\n      <th>...</th>\n      <td>...</td>\n      <td>...</td>\n      <td>...</td>\n      <td>...</td>\n      <td>...</td>\n      <td>...</td>\n      <td>...</td>\n      <td>...</td>\n      <td>...</td>\n      <td>...</td>\n      <td>...</td>\n      <td>...</td>\n      <td>...</td>\n    </tr>\n    <tr>\n      <th>99622</th>\n      <td>3493384</td>\n      <td>Silences / Martha Ronk.</td>\n      <td>Ronk, Martha Clare</td>\n      <td>1632430754, 9781632430755</td>\n      <td>2019.</td>\n      <td>Omnidawn Publishing,</td>\n      <td>NaN</td>\n      <td>acbk</td>\n      <td>nanew</td>\n      <td>NaN</td>\n      <td>cap</td>\n      <td>04/01/2020</td>\n      <td>1</td>\n    </tr>\n    <tr>\n      <th>99755</th>\n      <td>2213992</td>\n      <td>Suki's kimono / written by Chieri Uegaki ; ill...</td>\n      <td>Uegaki, Chieri</td>\n      <td>1553370848</td>\n      <td>[2003]</td>\n      <td>Kids Can Press,</td>\n      <td>NaN</td>\n      <td>jcbk</td>\n      <td>ccpic</td>\n      <td>NaN</td>\n      <td>cen</td>\n      <td>02/01/2020</td>\n      <td>1</td>\n    </tr>\n    <tr>\n      <th>99782</th>\n      <td>1838041</td>\n      <td>The Bible : Authorized King James Version / ed...</td>\n      <td>NaN</td>\n      <td>0192835254, 0199535949, 9780199535941</td>\n      <td>1998.</td>\n      <td>Oxford University Press,</td>\n      <td>NaN</td>\n      <td>acbk</td>\n      <td>nanf</td>\n      <td>NaN</td>\n      <td>fre</td>\n      <td>02/01/2020</td>\n      <td>1</td>\n    </tr>\n    <tr>\n      <th>99789</th>\n      <td>1291517</td>\n      <td>The elephant vanishes / stories by Haruki Mura...</td>\n      <td>Murakami, Haruki, 1949-</td>\n      <td>0679420576, 0679750533</td>\n      <td>1993.</td>\n      <td>A. A. Knopf : Distributed by Random House,</td>\n      <td>NaN</td>\n      <td>acbk</td>\n      <td>nafic</td>\n      <td>NaN</td>\n      <td>bro</td>\n      <td>10/01/2020</td>\n      <td>1</td>\n    </tr>\n    <tr>\n      <th>99866</th>\n      <td>1920357</td>\n      <td>Numerical Simulation of Vertical Ground-Water ...</td>\n      <td>NaN</td>\n      <td>NaN</td>\n      <td>[1999?]</td>\n      <td>[publisher not identified],</td>\n      <td>NaN</td>\n      <td>acbk</td>\n      <td>cadoc</td>\n      <td>NaN</td>\n      <td>cen</td>\n      <td>12/01/2020</td>\n      <td>1</td>\n    </tr>\n  </tbody>\n</table>\n<p>1610 rows × 13 columns</p>\n</div>"
     },
     "execution_count": 16,
     "metadata": {},
     "output_type": "execute_result"
    }
   ],
   "source": [
    "books[books['Subjects'].isna()]"
   ],
   "metadata": {
    "collapsed": false,
    "ExecuteTime": {
     "end_time": "2023-11-08T18:39:18.952183500Z",
     "start_time": "2023-11-08T18:39:18.936428100Z"
    }
   },
   "id": "e64f8ea4fc5b30a6"
  },
  {
   "cell_type": "code",
   "execution_count": 17,
   "outputs": [
    {
     "data": {
      "text/plain": "         BibNum                                              Title  \\\n3       2638616  Lean-to shelters for family protection in an a...   \n5        506641  Legends of the Haddock family / compiled by Hu...   \n11      3119888                          Art directors ... annual.   \n13       227139              The old forts of Winnipeg (1738-1927)   \n25      2114909                            The rough guide to Goa.   \n...         ...                                                ...   \n99983    338034  Warner's dictionary of authors ancient and mod...   \n99997   2616953  Special analysis revenue sharing / Goals and P...   \n100011   370347                                     Annual report.   \n100015  1312658  Tracking stations : agreement between the Unit...   \n100019   358837  Ottonis de Guericke Experimenta nova (ut vocan...   \n\n                                                   Author ISBN  \\\n3                                                     NaN  NaN   \n5                             Haddock, Hugh Ransom, 1903-  NaN   \n11                                                    NaN  NaN   \n13           Bell, Charles N. (Charles Napier), 1854-1936  NaN   \n25                                                    NaN  NaN   \n...                                                   ...  ...   \n99983                   Warner, Charles Dudley, 1829-1900  NaN   \n99997   Seattle (Wash.). Department of Community Devel...  NaN   \n100011            North Vancouver (B.C.). Board of Trade.  NaN   \n100015                                        Seychelles.  NaN   \n100019                      Guericke, Otto von, 1602-1686  NaN   \n\n       PublicationYear                                          Publisher  \\\n3              [1953?]  Federal Civil Defense Administration : For sal...   \n5               [1978]                                           Haddock,   \n11               1942.                       Watson-Guptill Publications,   \n13               1927.              Dawson Richardson Publications, Ltd.,   \n25               2005-   Rough Guides : Distributed by the Penguin Group,   \n...                ...                                                ...   \n99983            1910.                                        Werner Co.,   \n99997           [1971]                                       [The Dept.],   \n100011             NaN                                                NaN   \n100015         [1993?]  Dept. of State : For sale by the Supt. of Docs...   \n100019           1672.                    apud J. Janssonium à Waesberge,   \n\n                                                 Subjects ItemType  \\\n3       Air raid shelters Design and construction, Ato...     acbk   \n5                 Haddock family, United States Genealogy     arbk   \n11      Art Directors Club New York N Y Exhibitions, C...     arbk   \n13               Fur trade Manitoba, Winnipeg Man History     arbk   \n25                             Goa India State Guidebooks     arbk   \n...                                                   ...      ...   \n99983                                             Authors     arbk   \n99997   Community development Washington State Seattle...     arbk   \n100011                        Industries British Columbia     arbk   \n100015  Artificial satellites Tracking, Space vehicles...     acbk   \n100019  Science Early works to 1800, Pneumatics, Magde...     arbk   \n\n       ItemCollection FloatingItem ItemLocation  ReportDate  ItemCount  \n3               cadoc          NaN          cen  03/01/2020          1  \n5               caref          NaN          cen  04/01/2020          1  \n11               cs8r          NaN          cen  06/01/2020          1  \n13               cs8r          NaN          cen  10/01/2020          1  \n25               cs8r          NaN          cen  09/01/2020          1  \n...               ...          ...          ...         ...        ...  \n99983            cabr          NaN          cen  08/01/2020          1  \n99997           casea          NaN          cen  11/01/2020          1  \n100011           cs6r          NaN          cen  08/01/2020          1  \n100015          cadoc          NaN          cen  11/01/2020          1  \n100019         cavalo          NaN          cen  11/01/2020          1  \n\n[15796 rows x 13 columns]",
      "text/html": "<div>\n<style scoped>\n    .dataframe tbody tr th:only-of-type {\n        vertical-align: middle;\n    }\n\n    .dataframe tbody tr th {\n        vertical-align: top;\n    }\n\n    .dataframe thead th {\n        text-align: right;\n    }\n</style>\n<table border=\"1\" class=\"dataframe\">\n  <thead>\n    <tr style=\"text-align: right;\">\n      <th></th>\n      <th>BibNum</th>\n      <th>Title</th>\n      <th>Author</th>\n      <th>ISBN</th>\n      <th>PublicationYear</th>\n      <th>Publisher</th>\n      <th>Subjects</th>\n      <th>ItemType</th>\n      <th>ItemCollection</th>\n      <th>FloatingItem</th>\n      <th>ItemLocation</th>\n      <th>ReportDate</th>\n      <th>ItemCount</th>\n    </tr>\n  </thead>\n  <tbody>\n    <tr>\n      <th>3</th>\n      <td>2638616</td>\n      <td>Lean-to shelters for family protection in an a...</td>\n      <td>NaN</td>\n      <td>NaN</td>\n      <td>[1953?]</td>\n      <td>Federal Civil Defense Administration : For sal...</td>\n      <td>Air raid shelters Design and construction, Ato...</td>\n      <td>acbk</td>\n      <td>cadoc</td>\n      <td>NaN</td>\n      <td>cen</td>\n      <td>03/01/2020</td>\n      <td>1</td>\n    </tr>\n    <tr>\n      <th>5</th>\n      <td>506641</td>\n      <td>Legends of the Haddock family / compiled by Hu...</td>\n      <td>Haddock, Hugh Ransom, 1903-</td>\n      <td>NaN</td>\n      <td>[1978]</td>\n      <td>Haddock,</td>\n      <td>Haddock family, United States Genealogy</td>\n      <td>arbk</td>\n      <td>caref</td>\n      <td>NaN</td>\n      <td>cen</td>\n      <td>04/01/2020</td>\n      <td>1</td>\n    </tr>\n    <tr>\n      <th>11</th>\n      <td>3119888</td>\n      <td>Art directors ... annual.</td>\n      <td>NaN</td>\n      <td>NaN</td>\n      <td>1942.</td>\n      <td>Watson-Guptill Publications,</td>\n      <td>Art Directors Club New York N Y Exhibitions, C...</td>\n      <td>arbk</td>\n      <td>cs8r</td>\n      <td>NaN</td>\n      <td>cen</td>\n      <td>06/01/2020</td>\n      <td>1</td>\n    </tr>\n    <tr>\n      <th>13</th>\n      <td>227139</td>\n      <td>The old forts of Winnipeg (1738-1927)</td>\n      <td>Bell, Charles N. (Charles Napier), 1854-1936</td>\n      <td>NaN</td>\n      <td>1927.</td>\n      <td>Dawson Richardson Publications, Ltd.,</td>\n      <td>Fur trade Manitoba, Winnipeg Man History</td>\n      <td>arbk</td>\n      <td>cs8r</td>\n      <td>NaN</td>\n      <td>cen</td>\n      <td>10/01/2020</td>\n      <td>1</td>\n    </tr>\n    <tr>\n      <th>25</th>\n      <td>2114909</td>\n      <td>The rough guide to Goa.</td>\n      <td>NaN</td>\n      <td>NaN</td>\n      <td>2005-</td>\n      <td>Rough Guides : Distributed by the Penguin Group,</td>\n      <td>Goa India State Guidebooks</td>\n      <td>arbk</td>\n      <td>cs8r</td>\n      <td>NaN</td>\n      <td>cen</td>\n      <td>09/01/2020</td>\n      <td>1</td>\n    </tr>\n    <tr>\n      <th>...</th>\n      <td>...</td>\n      <td>...</td>\n      <td>...</td>\n      <td>...</td>\n      <td>...</td>\n      <td>...</td>\n      <td>...</td>\n      <td>...</td>\n      <td>...</td>\n      <td>...</td>\n      <td>...</td>\n      <td>...</td>\n      <td>...</td>\n    </tr>\n    <tr>\n      <th>99983</th>\n      <td>338034</td>\n      <td>Warner's dictionary of authors ancient and mod...</td>\n      <td>Warner, Charles Dudley, 1829-1900</td>\n      <td>NaN</td>\n      <td>1910.</td>\n      <td>Werner Co.,</td>\n      <td>Authors</td>\n      <td>arbk</td>\n      <td>cabr</td>\n      <td>NaN</td>\n      <td>cen</td>\n      <td>08/01/2020</td>\n      <td>1</td>\n    </tr>\n    <tr>\n      <th>99997</th>\n      <td>2616953</td>\n      <td>Special analysis revenue sharing / Goals and P...</td>\n      <td>Seattle (Wash.). Department of Community Devel...</td>\n      <td>NaN</td>\n      <td>[1971]</td>\n      <td>[The Dept.],</td>\n      <td>Community development Washington State Seattle...</td>\n      <td>arbk</td>\n      <td>casea</td>\n      <td>NaN</td>\n      <td>cen</td>\n      <td>11/01/2020</td>\n      <td>1</td>\n    </tr>\n    <tr>\n      <th>100011</th>\n      <td>370347</td>\n      <td>Annual report.</td>\n      <td>North Vancouver (B.C.). Board of Trade.</td>\n      <td>NaN</td>\n      <td>NaN</td>\n      <td>NaN</td>\n      <td>Industries British Columbia</td>\n      <td>arbk</td>\n      <td>cs6r</td>\n      <td>NaN</td>\n      <td>cen</td>\n      <td>08/01/2020</td>\n      <td>1</td>\n    </tr>\n    <tr>\n      <th>100015</th>\n      <td>1312658</td>\n      <td>Tracking stations : agreement between the Unit...</td>\n      <td>Seychelles.</td>\n      <td>NaN</td>\n      <td>[1993?]</td>\n      <td>Dept. of State : For sale by the Supt. of Docs...</td>\n      <td>Artificial satellites Tracking, Space vehicles...</td>\n      <td>acbk</td>\n      <td>cadoc</td>\n      <td>NaN</td>\n      <td>cen</td>\n      <td>11/01/2020</td>\n      <td>1</td>\n    </tr>\n    <tr>\n      <th>100019</th>\n      <td>358837</td>\n      <td>Ottonis de Guericke Experimenta nova (ut vocan...</td>\n      <td>Guericke, Otto von, 1602-1686</td>\n      <td>NaN</td>\n      <td>1672.</td>\n      <td>apud J. Janssonium à Waesberge,</td>\n      <td>Science Early works to 1800, Pneumatics, Magde...</td>\n      <td>arbk</td>\n      <td>cavalo</td>\n      <td>NaN</td>\n      <td>cen</td>\n      <td>11/01/2020</td>\n      <td>1</td>\n    </tr>\n  </tbody>\n</table>\n<p>15796 rows × 13 columns</p>\n</div>"
     },
     "execution_count": 17,
     "metadata": {},
     "output_type": "execute_result"
    }
   ],
   "source": [
    "books[books['ISBN'].isna()]"
   ],
   "metadata": {
    "collapsed": false,
    "ExecuteTime": {
     "end_time": "2023-11-08T18:44:52.377163500Z",
     "start_time": "2023-11-08T18:44:52.354890400Z"
    }
   },
   "id": "c2bb775f51163090"
  },
  {
   "cell_type": "code",
   "execution_count": 18,
   "outputs": [],
   "source": [
    "books_1 = books[books['ISBN'].notna()]"
   ],
   "metadata": {
    "collapsed": false,
    "ExecuteTime": {
     "end_time": "2023-11-08T20:01:19.132245800Z",
     "start_time": "2023-11-08T20:01:18.960926200Z"
    }
   },
   "id": "1b4cdcee895aa1bf"
  },
  {
   "cell_type": "code",
   "execution_count": 19,
   "outputs": [
    {
     "data": {
      "text/plain": "         BibNum                                              Title  \\\n0       3479509  Franklin and Luna and the book of fairy tales ...   \n1       2737917  Holiday dinners with Bradley Ogden : 150 festi...   \n2       3359831  Cuzco, Machu Picchu & the Inca heartland / Rob...   \n4       3298424  Sleeping Beauty / retold by Cynthia Rylant ; p...   \n6       3203995  How to escape from a leper colony : a novella ...   \n...         ...                                                ...   \n100021  2702124  The mystery girl / created by Gertrude Chandle...   \n100022  3295422                       Gone to dust / Matt Goldman.   \n100023  2375893  Asterix and the laurel wreath / written by Ren...   \n100024  2479947  T. Rex and the Mother's Day hug / by Lois G. G...   \n100025  2816364  Graphic design : now in production / edited by...   \n\n                                      Author  \\\n0                              Campbell, Jen   \n1                             Ogden, Bradley   \n2                        Kunstaetter, Robert   \n4                            Rylant, Cynthia   \n6                          Yanique, Tiphanie   \n...                                      ...   \n100021  Warner, Gertrude Chandler, 1890-1979   \n100022                  Goldman, Matt, 1962-   \n100023                   Goscinny, 1926-1977   \n100024                    Grambling, Lois G.   \n100025                                   NaN   \n\n                                                     ISBN PublicationYear  \\\n0                               0500651752, 9780500651759           2019.   \n1                               0762439157, 9780762439157          [2011]   \n2                               1911082256, 9781911082255           2017.   \n4                               1423121082, 9781423121084          [2015]   \n6                               155597550X, 9781555975500           2010.   \n...                                                   ...             ...   \n100021                          0807553719, 9780807553718           1992.   \n100022  0765391287, 0765391295, 9780765391285, 9780765...           2017.   \n100023              0752866362, 0752866370, 9780752866369           2004.   \n100024  0060531266, 0060531274, 9780060531263, 9780060...           2008.   \n100025                          0935640983, 9780935640984          [2011]   \n\n                                                Publisher  \\\n0                                      Thames and Hudson,   \n1                                          Running Press,   \n2                                              Footprint,   \n4                                        Disney Hyperion,   \n6                                         Graywolf Press,   \n...                                                   ...   \n100021                                  A. Whitman & Co.,   \n100022                                             Forge,   \n100023  Orion Books ; Distributed in the United States...   \n100024                             Katherine Tegen Books,   \n100025                                 Walker Art Center,   \n\n                                                 Subjects ItemType  \\\n0       Dragons Juvenile fiction, Characters and chara...     jcbk   \n1                                Cooking, Holiday cooking     acbk   \n2       Peru Guidebooks, Cuzco Peru Guidebooks, Machu ...     acbk   \n4       Sleeping Beauty Tale Juvenile literature, Folk...     jcbk   \n6       United States Virgin Islands Fiction, Short st...     acbk   \n...                                                   ...      ...   \n100021  Boxcar children Fictitious characters Juvenile...     jcbk   \n100022  Private investigators Fiction, Murder Investig...     acbk   \n100023  Ast‚rix Fictitious character Comic books strip...     acbk   \n100024  Tyrannosaurus rex Juvenile fiction, Mothers Da...     jcbk   \n100025  Commercial art History 21st century Exhibition...     acbk   \n\n       ItemCollection FloatingItem ItemLocation  ReportDate  ItemCount  \n0               ncnew          NaN          net  03/01/2020          1  \n1                nanf          NaN          swt  12/01/2020          1  \n2                nanf          NaN          wts  03/01/2020          1  \n4               ncfft          NaN          mag  11/01/2020          1  \n6               cafic          NaN          cen  05/01/2020          1  \n...               ...          ...          ...         ...        ...  \n100021          ncser          NaN          mag  05/01/2020          1  \n100022          namys     Floating          mag  01/01/2020          2  \n100023        nacomic          NaN          mag  09/01/2020          1  \n100024          nchol          NaN          cap  05/01/2020          1  \n100025           canf          NaN          cen  04/01/2020          1  \n\n[84230 rows x 13 columns]",
      "text/html": "<div>\n<style scoped>\n    .dataframe tbody tr th:only-of-type {\n        vertical-align: middle;\n    }\n\n    .dataframe tbody tr th {\n        vertical-align: top;\n    }\n\n    .dataframe thead th {\n        text-align: right;\n    }\n</style>\n<table border=\"1\" class=\"dataframe\">\n  <thead>\n    <tr style=\"text-align: right;\">\n      <th></th>\n      <th>BibNum</th>\n      <th>Title</th>\n      <th>Author</th>\n      <th>ISBN</th>\n      <th>PublicationYear</th>\n      <th>Publisher</th>\n      <th>Subjects</th>\n      <th>ItemType</th>\n      <th>ItemCollection</th>\n      <th>FloatingItem</th>\n      <th>ItemLocation</th>\n      <th>ReportDate</th>\n      <th>ItemCount</th>\n    </tr>\n  </thead>\n  <tbody>\n    <tr>\n      <th>0</th>\n      <td>3479509</td>\n      <td>Franklin and Luna and the book of fairy tales ...</td>\n      <td>Campbell, Jen</td>\n      <td>0500651752, 9780500651759</td>\n      <td>2019.</td>\n      <td>Thames and Hudson,</td>\n      <td>Dragons Juvenile fiction, Characters and chara...</td>\n      <td>jcbk</td>\n      <td>ncnew</td>\n      <td>NaN</td>\n      <td>net</td>\n      <td>03/01/2020</td>\n      <td>1</td>\n    </tr>\n    <tr>\n      <th>1</th>\n      <td>2737917</td>\n      <td>Holiday dinners with Bradley Ogden : 150 festi...</td>\n      <td>Ogden, Bradley</td>\n      <td>0762439157, 9780762439157</td>\n      <td>[2011]</td>\n      <td>Running Press,</td>\n      <td>Cooking, Holiday cooking</td>\n      <td>acbk</td>\n      <td>nanf</td>\n      <td>NaN</td>\n      <td>swt</td>\n      <td>12/01/2020</td>\n      <td>1</td>\n    </tr>\n    <tr>\n      <th>2</th>\n      <td>3359831</td>\n      <td>Cuzco, Machu Picchu &amp; the Inca heartland / Rob...</td>\n      <td>Kunstaetter, Robert</td>\n      <td>1911082256, 9781911082255</td>\n      <td>2017.</td>\n      <td>Footprint,</td>\n      <td>Peru Guidebooks, Cuzco Peru Guidebooks, Machu ...</td>\n      <td>acbk</td>\n      <td>nanf</td>\n      <td>NaN</td>\n      <td>wts</td>\n      <td>03/01/2020</td>\n      <td>1</td>\n    </tr>\n    <tr>\n      <th>4</th>\n      <td>3298424</td>\n      <td>Sleeping Beauty / retold by Cynthia Rylant ; p...</td>\n      <td>Rylant, Cynthia</td>\n      <td>1423121082, 9781423121084</td>\n      <td>[2015]</td>\n      <td>Disney Hyperion,</td>\n      <td>Sleeping Beauty Tale Juvenile literature, Folk...</td>\n      <td>jcbk</td>\n      <td>ncfft</td>\n      <td>NaN</td>\n      <td>mag</td>\n      <td>11/01/2020</td>\n      <td>1</td>\n    </tr>\n    <tr>\n      <th>6</th>\n      <td>3203995</td>\n      <td>How to escape from a leper colony : a novella ...</td>\n      <td>Yanique, Tiphanie</td>\n      <td>155597550X, 9781555975500</td>\n      <td>2010.</td>\n      <td>Graywolf Press,</td>\n      <td>United States Virgin Islands Fiction, Short st...</td>\n      <td>acbk</td>\n      <td>cafic</td>\n      <td>NaN</td>\n      <td>cen</td>\n      <td>05/01/2020</td>\n      <td>1</td>\n    </tr>\n    <tr>\n      <th>...</th>\n      <td>...</td>\n      <td>...</td>\n      <td>...</td>\n      <td>...</td>\n      <td>...</td>\n      <td>...</td>\n      <td>...</td>\n      <td>...</td>\n      <td>...</td>\n      <td>...</td>\n      <td>...</td>\n      <td>...</td>\n      <td>...</td>\n    </tr>\n    <tr>\n      <th>100021</th>\n      <td>2702124</td>\n      <td>The mystery girl / created by Gertrude Chandle...</td>\n      <td>Warner, Gertrude Chandler, 1890-1979</td>\n      <td>0807553719, 9780807553718</td>\n      <td>1992.</td>\n      <td>A. Whitman &amp; Co.,</td>\n      <td>Boxcar children Fictitious characters Juvenile...</td>\n      <td>jcbk</td>\n      <td>ncser</td>\n      <td>NaN</td>\n      <td>mag</td>\n      <td>05/01/2020</td>\n      <td>1</td>\n    </tr>\n    <tr>\n      <th>100022</th>\n      <td>3295422</td>\n      <td>Gone to dust / Matt Goldman.</td>\n      <td>Goldman, Matt, 1962-</td>\n      <td>0765391287, 0765391295, 9780765391285, 9780765...</td>\n      <td>2017.</td>\n      <td>Forge,</td>\n      <td>Private investigators Fiction, Murder Investig...</td>\n      <td>acbk</td>\n      <td>namys</td>\n      <td>Floating</td>\n      <td>mag</td>\n      <td>01/01/2020</td>\n      <td>2</td>\n    </tr>\n    <tr>\n      <th>100023</th>\n      <td>2375893</td>\n      <td>Asterix and the laurel wreath / written by Ren...</td>\n      <td>Goscinny, 1926-1977</td>\n      <td>0752866362, 0752866370, 9780752866369</td>\n      <td>2004.</td>\n      <td>Orion Books ; Distributed in the United States...</td>\n      <td>Ast‚rix Fictitious character Comic books strip...</td>\n      <td>acbk</td>\n      <td>nacomic</td>\n      <td>NaN</td>\n      <td>mag</td>\n      <td>09/01/2020</td>\n      <td>1</td>\n    </tr>\n    <tr>\n      <th>100024</th>\n      <td>2479947</td>\n      <td>T. Rex and the Mother's Day hug / by Lois G. G...</td>\n      <td>Grambling, Lois G.</td>\n      <td>0060531266, 0060531274, 9780060531263, 9780060...</td>\n      <td>2008.</td>\n      <td>Katherine Tegen Books,</td>\n      <td>Tyrannosaurus rex Juvenile fiction, Mothers Da...</td>\n      <td>jcbk</td>\n      <td>nchol</td>\n      <td>NaN</td>\n      <td>cap</td>\n      <td>05/01/2020</td>\n      <td>1</td>\n    </tr>\n    <tr>\n      <th>100025</th>\n      <td>2816364</td>\n      <td>Graphic design : now in production / edited by...</td>\n      <td>NaN</td>\n      <td>0935640983, 9780935640984</td>\n      <td>[2011]</td>\n      <td>Walker Art Center,</td>\n      <td>Commercial art History 21st century Exhibition...</td>\n      <td>acbk</td>\n      <td>canf</td>\n      <td>NaN</td>\n      <td>cen</td>\n      <td>04/01/2020</td>\n      <td>1</td>\n    </tr>\n  </tbody>\n</table>\n<p>84230 rows × 13 columns</p>\n</div>"
     },
     "execution_count": 19,
     "metadata": {},
     "output_type": "execute_result"
    }
   ],
   "source": [
    "books_1"
   ],
   "metadata": {
    "collapsed": false,
    "ExecuteTime": {
     "end_time": "2023-11-08T20:01:24.547552500Z",
     "start_time": "2023-11-08T20:01:24.541093800Z"
    }
   },
   "id": "246dd6ffaaff0675"
  },
  {
   "cell_type": "code",
   "execution_count": 20,
   "outputs": [
    {
     "data": {
      "text/plain": "BibNum                 0\nTitle                  1\nAuthor              4571\nISBN                   0\nPublicationYear       10\nPublisher             23\nSubjects             881\nItemType               0\nItemCollection         0\nFloatingItem       80790\nItemLocation           0\nReportDate             0\nItemCount              0\ndtype: int64"
     },
     "execution_count": 20,
     "metadata": {},
     "output_type": "execute_result"
    }
   ],
   "source": [
    "books_1.isna().sum()"
   ],
   "metadata": {
    "collapsed": false,
    "ExecuteTime": {
     "end_time": "2023-11-08T20:01:43.966470Z",
     "start_time": "2023-11-08T20:01:43.957701Z"
    }
   },
   "id": "d006bb7e000b64bc"
  },
  {
   "cell_type": "code",
   "execution_count": 27,
   "outputs": [],
   "source": [
    "books = pd.read_csv('sample1.csv')"
   ],
   "metadata": {
    "collapsed": false,
    "ExecuteTime": {
     "end_time": "2023-11-08T20:13:24.195767600Z",
     "start_time": "2023-11-08T20:13:23.852938400Z"
    }
   },
   "id": "2ffcb5fa52b9f4f9"
  },
  {
   "cell_type": "code",
   "execution_count": 28,
   "outputs": [
    {
     "data": {
      "text/plain": "         BibNum                                              Title  \\\n0       3479509  Franklin and Luna and the book of fairy tales ...   \n1       2737917  Holiday dinners with Bradley Ogden : 150 festi...   \n2       3359831  Cuzco, Machu Picchu & the Inca heartland / Rob...   \n3       3298424  Sleeping Beauty / retold by Cynthia Rylant ; p...   \n4       3203995  How to escape from a leper colony : a novella ...   \n...         ...                                                ...   \n100486  3369144  Have you filled a bucket today? : a guide to d...   \n100487  3277778  The new annotated Frankenstein / Mary Shelley ...   \n100488  3230595                          Antarctica / by Wil Mara.   \n100489   203644  Building small boats, surf craft, and canoes i...   \n100490  2190872                  Kissed by shadows / Jane Feather.   \n\n                                         Author  \\\n0                                 Campbell, Jen   \n1                                Ogden, Bradley   \n2                           Kunstaetter, Robert   \n3                               Rylant, Cynthia   \n4                             Yanique, Tiphanie   \n...                                         ...   \n100486                           McCloud, Carol   \n100487  Shelley, Mary Wollstonecraft, 1797-1851   \n100488                                Mara, Wil   \n100489                         Toghill, Jeff E.   \n100490                            Feather, Jane   \n\n                                                     ISBN PublicationYear  \\\n0                               0500651752, 9780500651759           2019.   \n1                               0762439157, 9780762439157          [2011]   \n2                               1911082256, 9781911082255           2017.   \n3                               1423121082, 9781423121084          [2015]   \n4                               155597550X, 9781555975500           2010.   \n...                                                   ...             ...   \n100486  099609993X, 0996099948, 9780996099936, 9780996...          [2016]   \n100487                          0871409496, 9780871409492           2017.   \n100488                          0531220826, 9780531220825           2017.   \n100489                                         0442284152           1981.   \n100490                                         0786254211           2003.   \n\n                                                Publisher  \\\n0                                      Thames and Hudson,   \n1                                          Running Press,   \n2                                              Footprint,   \n3                                        Disney Hyperion,   \n4                                         Graywolf Press,   \n...                                                   ...   \n100486  Bucket Fillosophy, is an imprint of Bucket Fil...   \n100487                  Liveright Publishing Corporation,   \n100488   Children's Press, an imprint of Scholastic Inc.,   \n100489                         Van Nostrand Reinhold Co.,   \n100490                                   Thorndike Press,   \n\n                                                 Subjects ItemType  \\\n0       Dragons Juvenile fiction, Characters and chara...     jcbk   \n1                                Cooking, Holiday cooking     acbk   \n2       Peru Guidebooks, Cuzco Peru Guidebooks, Machu ...     acbk   \n3       Sleeping Beauty Tale Juvenile literature, Folk...     jcbk   \n4       United States Virgin Islands Fiction, Short st...     acbk   \n...                                                   ...      ...   \n100486  Happiness Juvenile literature, Kindness Juveni...     jcbk   \n100487  Frankenstein Victor Fictitious character Ficti...     acbk   \n100488                     Antarctica Juvenile literature     jcbk   \n100489                     Fiberglass boats, Boatbuilding     acbk   \n100490  Large type books, Great Britain History Mary I...     acbk   \n\n       ItemCollection FloatingItem ItemLocation  ReportDate  ItemCount  \n0               ncnew          NaN          net  03/01/2020          1  \n1                nanf          NaN          swt  12/01/2020          1  \n2                nanf          NaN          wts  03/01/2020          1  \n3               ncfft          NaN          mag  11/01/2020          1  \n4               cafic          NaN          cen  05/01/2020          1  \n...               ...          ...          ...         ...        ...  \n100486          ncenf          NaN          bea  04/01/2020          1  \n100487           nanf          NaN          swt  02/01/2020          1  \n100488           ncnf          NaN          bal  03/01/2020          1  \n100489           canf          NaN          cen  08/01/2020          1  \n100490        cs1malf          NaN          cen  08/01/2020          1  \n\n[100491 rows x 13 columns]",
      "text/html": "<div>\n<style scoped>\n    .dataframe tbody tr th:only-of-type {\n        vertical-align: middle;\n    }\n\n    .dataframe tbody tr th {\n        vertical-align: top;\n    }\n\n    .dataframe thead th {\n        text-align: right;\n    }\n</style>\n<table border=\"1\" class=\"dataframe\">\n  <thead>\n    <tr style=\"text-align: right;\">\n      <th></th>\n      <th>BibNum</th>\n      <th>Title</th>\n      <th>Author</th>\n      <th>ISBN</th>\n      <th>PublicationYear</th>\n      <th>Publisher</th>\n      <th>Subjects</th>\n      <th>ItemType</th>\n      <th>ItemCollection</th>\n      <th>FloatingItem</th>\n      <th>ItemLocation</th>\n      <th>ReportDate</th>\n      <th>ItemCount</th>\n    </tr>\n  </thead>\n  <tbody>\n    <tr>\n      <th>0</th>\n      <td>3479509</td>\n      <td>Franklin and Luna and the book of fairy tales ...</td>\n      <td>Campbell, Jen</td>\n      <td>0500651752, 9780500651759</td>\n      <td>2019.</td>\n      <td>Thames and Hudson,</td>\n      <td>Dragons Juvenile fiction, Characters and chara...</td>\n      <td>jcbk</td>\n      <td>ncnew</td>\n      <td>NaN</td>\n      <td>net</td>\n      <td>03/01/2020</td>\n      <td>1</td>\n    </tr>\n    <tr>\n      <th>1</th>\n      <td>2737917</td>\n      <td>Holiday dinners with Bradley Ogden : 150 festi...</td>\n      <td>Ogden, Bradley</td>\n      <td>0762439157, 9780762439157</td>\n      <td>[2011]</td>\n      <td>Running Press,</td>\n      <td>Cooking, Holiday cooking</td>\n      <td>acbk</td>\n      <td>nanf</td>\n      <td>NaN</td>\n      <td>swt</td>\n      <td>12/01/2020</td>\n      <td>1</td>\n    </tr>\n    <tr>\n      <th>2</th>\n      <td>3359831</td>\n      <td>Cuzco, Machu Picchu &amp; the Inca heartland / Rob...</td>\n      <td>Kunstaetter, Robert</td>\n      <td>1911082256, 9781911082255</td>\n      <td>2017.</td>\n      <td>Footprint,</td>\n      <td>Peru Guidebooks, Cuzco Peru Guidebooks, Machu ...</td>\n      <td>acbk</td>\n      <td>nanf</td>\n      <td>NaN</td>\n      <td>wts</td>\n      <td>03/01/2020</td>\n      <td>1</td>\n    </tr>\n    <tr>\n      <th>3</th>\n      <td>3298424</td>\n      <td>Sleeping Beauty / retold by Cynthia Rylant ; p...</td>\n      <td>Rylant, Cynthia</td>\n      <td>1423121082, 9781423121084</td>\n      <td>[2015]</td>\n      <td>Disney Hyperion,</td>\n      <td>Sleeping Beauty Tale Juvenile literature, Folk...</td>\n      <td>jcbk</td>\n      <td>ncfft</td>\n      <td>NaN</td>\n      <td>mag</td>\n      <td>11/01/2020</td>\n      <td>1</td>\n    </tr>\n    <tr>\n      <th>4</th>\n      <td>3203995</td>\n      <td>How to escape from a leper colony : a novella ...</td>\n      <td>Yanique, Tiphanie</td>\n      <td>155597550X, 9781555975500</td>\n      <td>2010.</td>\n      <td>Graywolf Press,</td>\n      <td>United States Virgin Islands Fiction, Short st...</td>\n      <td>acbk</td>\n      <td>cafic</td>\n      <td>NaN</td>\n      <td>cen</td>\n      <td>05/01/2020</td>\n      <td>1</td>\n    </tr>\n    <tr>\n      <th>...</th>\n      <td>...</td>\n      <td>...</td>\n      <td>...</td>\n      <td>...</td>\n      <td>...</td>\n      <td>...</td>\n      <td>...</td>\n      <td>...</td>\n      <td>...</td>\n      <td>...</td>\n      <td>...</td>\n      <td>...</td>\n      <td>...</td>\n    </tr>\n    <tr>\n      <th>100486</th>\n      <td>3369144</td>\n      <td>Have you filled a bucket today? : a guide to d...</td>\n      <td>McCloud, Carol</td>\n      <td>099609993X, 0996099948, 9780996099936, 9780996...</td>\n      <td>[2016]</td>\n      <td>Bucket Fillosophy, is an imprint of Bucket Fil...</td>\n      <td>Happiness Juvenile literature, Kindness Juveni...</td>\n      <td>jcbk</td>\n      <td>ncenf</td>\n      <td>NaN</td>\n      <td>bea</td>\n      <td>04/01/2020</td>\n      <td>1</td>\n    </tr>\n    <tr>\n      <th>100487</th>\n      <td>3277778</td>\n      <td>The new annotated Frankenstein / Mary Shelley ...</td>\n      <td>Shelley, Mary Wollstonecraft, 1797-1851</td>\n      <td>0871409496, 9780871409492</td>\n      <td>2017.</td>\n      <td>Liveright Publishing Corporation,</td>\n      <td>Frankenstein Victor Fictitious character Ficti...</td>\n      <td>acbk</td>\n      <td>nanf</td>\n      <td>NaN</td>\n      <td>swt</td>\n      <td>02/01/2020</td>\n      <td>1</td>\n    </tr>\n    <tr>\n      <th>100488</th>\n      <td>3230595</td>\n      <td>Antarctica / by Wil Mara.</td>\n      <td>Mara, Wil</td>\n      <td>0531220826, 9780531220825</td>\n      <td>2017.</td>\n      <td>Children's Press, an imprint of Scholastic Inc.,</td>\n      <td>Antarctica Juvenile literature</td>\n      <td>jcbk</td>\n      <td>ncnf</td>\n      <td>NaN</td>\n      <td>bal</td>\n      <td>03/01/2020</td>\n      <td>1</td>\n    </tr>\n    <tr>\n      <th>100489</th>\n      <td>203644</td>\n      <td>Building small boats, surf craft, and canoes i...</td>\n      <td>Toghill, Jeff E.</td>\n      <td>0442284152</td>\n      <td>1981.</td>\n      <td>Van Nostrand Reinhold Co.,</td>\n      <td>Fiberglass boats, Boatbuilding</td>\n      <td>acbk</td>\n      <td>canf</td>\n      <td>NaN</td>\n      <td>cen</td>\n      <td>08/01/2020</td>\n      <td>1</td>\n    </tr>\n    <tr>\n      <th>100490</th>\n      <td>2190872</td>\n      <td>Kissed by shadows / Jane Feather.</td>\n      <td>Feather, Jane</td>\n      <td>0786254211</td>\n      <td>2003.</td>\n      <td>Thorndike Press,</td>\n      <td>Large type books, Great Britain History Mary I...</td>\n      <td>acbk</td>\n      <td>cs1malf</td>\n      <td>NaN</td>\n      <td>cen</td>\n      <td>08/01/2020</td>\n      <td>1</td>\n    </tr>\n  </tbody>\n</table>\n<p>100491 rows × 13 columns</p>\n</div>"
     },
     "execution_count": 28,
     "metadata": {},
     "output_type": "execute_result"
    }
   ],
   "source": [
    "books"
   ],
   "metadata": {
    "collapsed": false,
    "ExecuteTime": {
     "end_time": "2023-11-08T20:13:25.648890900Z",
     "start_time": "2023-11-08T20:13:25.636336700Z"
    }
   },
   "id": "6b34a13530030df5"
  },
  {
   "cell_type": "code",
   "execution_count": 29,
   "outputs": [
    {
     "data": {
      "text/plain": "BibNum                 0\nTitle                  1\nAuthor              5417\nISBN                   0\nPublicationYear       11\nPublisher             29\nSubjects            1063\nItemType               0\nItemCollection         0\nFloatingItem       96363\nItemLocation           0\nReportDate             0\nItemCount              0\ndtype: int64"
     },
     "execution_count": 29,
     "metadata": {},
     "output_type": "execute_result"
    }
   ],
   "source": [
    "books.isna().sum()"
   ],
   "metadata": {
    "collapsed": false,
    "ExecuteTime": {
     "end_time": "2023-11-08T20:13:28.511758800Z",
     "start_time": "2023-11-08T20:13:28.507142700Z"
    }
   },
   "id": "cbceef62104bfc1f"
  },
  {
   "cell_type": "code",
   "execution_count": 30,
   "outputs": [],
   "source": [
    "books_1 = books[books['Subjects'].notna()]"
   ],
   "metadata": {
    "collapsed": false,
    "ExecuteTime": {
     "end_time": "2023-11-08T20:16:44.962375200Z",
     "start_time": "2023-11-08T20:16:44.935286900Z"
    }
   },
   "id": "658695367312e518"
  },
  {
   "cell_type": "code",
   "execution_count": 31,
   "outputs": [
    {
     "data": {
      "text/plain": "         BibNum                                              Title  \\\n0       3479509  Franklin and Luna and the book of fairy tales ...   \n1       2737917  Holiday dinners with Bradley Ogden : 150 festi...   \n2       3359831  Cuzco, Machu Picchu & the Inca heartland / Rob...   \n3       3298424  Sleeping Beauty / retold by Cynthia Rylant ; p...   \n4       3203995  How to escape from a leper colony : a novella ...   \n...         ...                                                ...   \n100486  3369144  Have you filled a bucket today? : a guide to d...   \n100487  3277778  The new annotated Frankenstein / Mary Shelley ...   \n100488  3230595                          Antarctica / by Wil Mara.   \n100489   203644  Building small boats, surf craft, and canoes i...   \n100490  2190872                  Kissed by shadows / Jane Feather.   \n\n                                         Author  \\\n0                                 Campbell, Jen   \n1                                Ogden, Bradley   \n2                           Kunstaetter, Robert   \n3                               Rylant, Cynthia   \n4                             Yanique, Tiphanie   \n...                                         ...   \n100486                           McCloud, Carol   \n100487  Shelley, Mary Wollstonecraft, 1797-1851   \n100488                                Mara, Wil   \n100489                         Toghill, Jeff E.   \n100490                            Feather, Jane   \n\n                                                     ISBN PublicationYear  \\\n0                               0500651752, 9780500651759           2019.   \n1                               0762439157, 9780762439157          [2011]   \n2                               1911082256, 9781911082255           2017.   \n3                               1423121082, 9781423121084          [2015]   \n4                               155597550X, 9781555975500           2010.   \n...                                                   ...             ...   \n100486  099609993X, 0996099948, 9780996099936, 9780996...          [2016]   \n100487                          0871409496, 9780871409492           2017.   \n100488                          0531220826, 9780531220825           2017.   \n100489                                         0442284152           1981.   \n100490                                         0786254211           2003.   \n\n                                                Publisher  \\\n0                                      Thames and Hudson,   \n1                                          Running Press,   \n2                                              Footprint,   \n3                                        Disney Hyperion,   \n4                                         Graywolf Press,   \n...                                                   ...   \n100486  Bucket Fillosophy, is an imprint of Bucket Fil...   \n100487                  Liveright Publishing Corporation,   \n100488   Children's Press, an imprint of Scholastic Inc.,   \n100489                         Van Nostrand Reinhold Co.,   \n100490                                   Thorndike Press,   \n\n                                                 Subjects ItemType  \\\n0       Dragons Juvenile fiction, Characters and chara...     jcbk   \n1                                Cooking, Holiday cooking     acbk   \n2       Peru Guidebooks, Cuzco Peru Guidebooks, Machu ...     acbk   \n3       Sleeping Beauty Tale Juvenile literature, Folk...     jcbk   \n4       United States Virgin Islands Fiction, Short st...     acbk   \n...                                                   ...      ...   \n100486  Happiness Juvenile literature, Kindness Juveni...     jcbk   \n100487  Frankenstein Victor Fictitious character Ficti...     acbk   \n100488                     Antarctica Juvenile literature     jcbk   \n100489                     Fiberglass boats, Boatbuilding     acbk   \n100490  Large type books, Great Britain History Mary I...     acbk   \n\n       ItemCollection FloatingItem ItemLocation  ReportDate  ItemCount  \n0               ncnew          NaN          net  03/01/2020          1  \n1                nanf          NaN          swt  12/01/2020          1  \n2                nanf          NaN          wts  03/01/2020          1  \n3               ncfft          NaN          mag  11/01/2020          1  \n4               cafic          NaN          cen  05/01/2020          1  \n...               ...          ...          ...         ...        ...  \n100486          ncenf          NaN          bea  04/01/2020          1  \n100487           nanf          NaN          swt  02/01/2020          1  \n100488           ncnf          NaN          bal  03/01/2020          1  \n100489           canf          NaN          cen  08/01/2020          1  \n100490        cs1malf          NaN          cen  08/01/2020          1  \n\n[99428 rows x 13 columns]",
      "text/html": "<div>\n<style scoped>\n    .dataframe tbody tr th:only-of-type {\n        vertical-align: middle;\n    }\n\n    .dataframe tbody tr th {\n        vertical-align: top;\n    }\n\n    .dataframe thead th {\n        text-align: right;\n    }\n</style>\n<table border=\"1\" class=\"dataframe\">\n  <thead>\n    <tr style=\"text-align: right;\">\n      <th></th>\n      <th>BibNum</th>\n      <th>Title</th>\n      <th>Author</th>\n      <th>ISBN</th>\n      <th>PublicationYear</th>\n      <th>Publisher</th>\n      <th>Subjects</th>\n      <th>ItemType</th>\n      <th>ItemCollection</th>\n      <th>FloatingItem</th>\n      <th>ItemLocation</th>\n      <th>ReportDate</th>\n      <th>ItemCount</th>\n    </tr>\n  </thead>\n  <tbody>\n    <tr>\n      <th>0</th>\n      <td>3479509</td>\n      <td>Franklin and Luna and the book of fairy tales ...</td>\n      <td>Campbell, Jen</td>\n      <td>0500651752, 9780500651759</td>\n      <td>2019.</td>\n      <td>Thames and Hudson,</td>\n      <td>Dragons Juvenile fiction, Characters and chara...</td>\n      <td>jcbk</td>\n      <td>ncnew</td>\n      <td>NaN</td>\n      <td>net</td>\n      <td>03/01/2020</td>\n      <td>1</td>\n    </tr>\n    <tr>\n      <th>1</th>\n      <td>2737917</td>\n      <td>Holiday dinners with Bradley Ogden : 150 festi...</td>\n      <td>Ogden, Bradley</td>\n      <td>0762439157, 9780762439157</td>\n      <td>[2011]</td>\n      <td>Running Press,</td>\n      <td>Cooking, Holiday cooking</td>\n      <td>acbk</td>\n      <td>nanf</td>\n      <td>NaN</td>\n      <td>swt</td>\n      <td>12/01/2020</td>\n      <td>1</td>\n    </tr>\n    <tr>\n      <th>2</th>\n      <td>3359831</td>\n      <td>Cuzco, Machu Picchu &amp; the Inca heartland / Rob...</td>\n      <td>Kunstaetter, Robert</td>\n      <td>1911082256, 9781911082255</td>\n      <td>2017.</td>\n      <td>Footprint,</td>\n      <td>Peru Guidebooks, Cuzco Peru Guidebooks, Machu ...</td>\n      <td>acbk</td>\n      <td>nanf</td>\n      <td>NaN</td>\n      <td>wts</td>\n      <td>03/01/2020</td>\n      <td>1</td>\n    </tr>\n    <tr>\n      <th>3</th>\n      <td>3298424</td>\n      <td>Sleeping Beauty / retold by Cynthia Rylant ; p...</td>\n      <td>Rylant, Cynthia</td>\n      <td>1423121082, 9781423121084</td>\n      <td>[2015]</td>\n      <td>Disney Hyperion,</td>\n      <td>Sleeping Beauty Tale Juvenile literature, Folk...</td>\n      <td>jcbk</td>\n      <td>ncfft</td>\n      <td>NaN</td>\n      <td>mag</td>\n      <td>11/01/2020</td>\n      <td>1</td>\n    </tr>\n    <tr>\n      <th>4</th>\n      <td>3203995</td>\n      <td>How to escape from a leper colony : a novella ...</td>\n      <td>Yanique, Tiphanie</td>\n      <td>155597550X, 9781555975500</td>\n      <td>2010.</td>\n      <td>Graywolf Press,</td>\n      <td>United States Virgin Islands Fiction, Short st...</td>\n      <td>acbk</td>\n      <td>cafic</td>\n      <td>NaN</td>\n      <td>cen</td>\n      <td>05/01/2020</td>\n      <td>1</td>\n    </tr>\n    <tr>\n      <th>...</th>\n      <td>...</td>\n      <td>...</td>\n      <td>...</td>\n      <td>...</td>\n      <td>...</td>\n      <td>...</td>\n      <td>...</td>\n      <td>...</td>\n      <td>...</td>\n      <td>...</td>\n      <td>...</td>\n      <td>...</td>\n      <td>...</td>\n    </tr>\n    <tr>\n      <th>100486</th>\n      <td>3369144</td>\n      <td>Have you filled a bucket today? : a guide to d...</td>\n      <td>McCloud, Carol</td>\n      <td>099609993X, 0996099948, 9780996099936, 9780996...</td>\n      <td>[2016]</td>\n      <td>Bucket Fillosophy, is an imprint of Bucket Fil...</td>\n      <td>Happiness Juvenile literature, Kindness Juveni...</td>\n      <td>jcbk</td>\n      <td>ncenf</td>\n      <td>NaN</td>\n      <td>bea</td>\n      <td>04/01/2020</td>\n      <td>1</td>\n    </tr>\n    <tr>\n      <th>100487</th>\n      <td>3277778</td>\n      <td>The new annotated Frankenstein / Mary Shelley ...</td>\n      <td>Shelley, Mary Wollstonecraft, 1797-1851</td>\n      <td>0871409496, 9780871409492</td>\n      <td>2017.</td>\n      <td>Liveright Publishing Corporation,</td>\n      <td>Frankenstein Victor Fictitious character Ficti...</td>\n      <td>acbk</td>\n      <td>nanf</td>\n      <td>NaN</td>\n      <td>swt</td>\n      <td>02/01/2020</td>\n      <td>1</td>\n    </tr>\n    <tr>\n      <th>100488</th>\n      <td>3230595</td>\n      <td>Antarctica / by Wil Mara.</td>\n      <td>Mara, Wil</td>\n      <td>0531220826, 9780531220825</td>\n      <td>2017.</td>\n      <td>Children's Press, an imprint of Scholastic Inc.,</td>\n      <td>Antarctica Juvenile literature</td>\n      <td>jcbk</td>\n      <td>ncnf</td>\n      <td>NaN</td>\n      <td>bal</td>\n      <td>03/01/2020</td>\n      <td>1</td>\n    </tr>\n    <tr>\n      <th>100489</th>\n      <td>203644</td>\n      <td>Building small boats, surf craft, and canoes i...</td>\n      <td>Toghill, Jeff E.</td>\n      <td>0442284152</td>\n      <td>1981.</td>\n      <td>Van Nostrand Reinhold Co.,</td>\n      <td>Fiberglass boats, Boatbuilding</td>\n      <td>acbk</td>\n      <td>canf</td>\n      <td>NaN</td>\n      <td>cen</td>\n      <td>08/01/2020</td>\n      <td>1</td>\n    </tr>\n    <tr>\n      <th>100490</th>\n      <td>2190872</td>\n      <td>Kissed by shadows / Jane Feather.</td>\n      <td>Feather, Jane</td>\n      <td>0786254211</td>\n      <td>2003.</td>\n      <td>Thorndike Press,</td>\n      <td>Large type books, Great Britain History Mary I...</td>\n      <td>acbk</td>\n      <td>cs1malf</td>\n      <td>NaN</td>\n      <td>cen</td>\n      <td>08/01/2020</td>\n      <td>1</td>\n    </tr>\n  </tbody>\n</table>\n<p>99428 rows × 13 columns</p>\n</div>"
     },
     "execution_count": 31,
     "metadata": {},
     "output_type": "execute_result"
    }
   ],
   "source": [
    "books_1"
   ],
   "metadata": {
    "collapsed": false,
    "ExecuteTime": {
     "end_time": "2023-11-08T20:16:49.372048Z",
     "start_time": "2023-11-08T20:16:49.354692900Z"
    }
   },
   "id": "732fb6886bdc4b4e"
  },
  {
   "cell_type": "code",
   "execution_count": 34,
   "outputs": [
    {
     "data": {
      "text/plain": "BibNum                0\nTitle                 1\nAuthor             5402\nISBN                  0\nPublicationYear       7\nPublisher            26\nSubjects              0\nItemType              0\nItemCollection        0\nItemLocation          0\nReportDate            0\nItemCount             0\ndtype: int64"
     },
     "execution_count": 34,
     "metadata": {},
     "output_type": "execute_result"
    }
   ],
   "source": [
    "books_1.isna().sum()"
   ],
   "metadata": {
    "collapsed": false,
    "ExecuteTime": {
     "end_time": "2023-11-08T20:19:39.125949100Z",
     "start_time": "2023-11-08T20:19:39.116570900Z"
    }
   },
   "id": "7c7b21cbbe2f093d"
  },
  {
   "cell_type": "code",
   "execution_count": 33,
   "outputs": [
    {
     "name": "stderr",
     "output_type": "stream",
     "text": [
      "C:\\Users\\trush\\AppData\\Local\\Temp\\ipykernel_4372\\93772709.py:1: SettingWithCopyWarning: \n",
      "A value is trying to be set on a copy of a slice from a DataFrame\n",
      "\n",
      "See the caveats in the documentation: https://pandas.pydata.org/pandas-docs/stable/user_guide/indexing.html#returning-a-view-versus-a-copy\n",
      "  books_1.drop('FloatingItem', axis='columns', inplace=True)\n"
     ]
    }
   ],
   "source": [
    "books_1.drop('FloatingItem', axis='columns', inplace=True)"
   ],
   "metadata": {
    "collapsed": false,
    "ExecuteTime": {
     "end_time": "2023-11-08T20:19:19.387569200Z",
     "start_time": "2023-11-08T20:19:19.355207200Z"
    }
   },
   "id": "24144f2ba83f6c61"
  },
  {
   "cell_type": "code",
   "execution_count": 36,
   "outputs": [
    {
     "data": {
      "text/plain": "         BibNum                                              Title  \\\n0       3479509  Franklin and Luna and the book of fairy tales ...   \n1       2737917  Holiday dinners with Bradley Ogden : 150 festi...   \n2       3359831  Cuzco, Machu Picchu & the Inca heartland / Rob...   \n3       3298424  Sleeping Beauty / retold by Cynthia Rylant ; p...   \n4       3203995  How to escape from a leper colony : a novella ...   \n...         ...                                                ...   \n100486  3369144  Have you filled a bucket today? : a guide to d...   \n100487  3277778  The new annotated Frankenstein / Mary Shelley ...   \n100488  3230595                          Antarctica / by Wil Mara.   \n100489   203644  Building small boats, surf craft, and canoes i...   \n100490  2190872                  Kissed by shadows / Jane Feather.   \n\n                                         Author  \\\n0                                 Campbell, Jen   \n1                                Ogden, Bradley   \n2                           Kunstaetter, Robert   \n3                               Rylant, Cynthia   \n4                             Yanique, Tiphanie   \n...                                         ...   \n100486                           McCloud, Carol   \n100487  Shelley, Mary Wollstonecraft, 1797-1851   \n100488                                Mara, Wil   \n100489                         Toghill, Jeff E.   \n100490                            Feather, Jane   \n\n                                                     ISBN PublicationYear  \\\n0                               0500651752, 9780500651759           2019.   \n1                               0762439157, 9780762439157          [2011]   \n2                               1911082256, 9781911082255           2017.   \n3                               1423121082, 9781423121084          [2015]   \n4                               155597550X, 9781555975500           2010.   \n...                                                   ...             ...   \n100486  099609993X, 0996099948, 9780996099936, 9780996...          [2016]   \n100487                          0871409496, 9780871409492           2017.   \n100488                          0531220826, 9780531220825           2017.   \n100489                                         0442284152           1981.   \n100490                                         0786254211           2003.   \n\n                                                Publisher  \\\n0                                      Thames and Hudson,   \n1                                          Running Press,   \n2                                              Footprint,   \n3                                        Disney Hyperion,   \n4                                         Graywolf Press,   \n...                                                   ...   \n100486  Bucket Fillosophy, is an imprint of Bucket Fil...   \n100487                  Liveright Publishing Corporation,   \n100488   Children's Press, an imprint of Scholastic Inc.,   \n100489                         Van Nostrand Reinhold Co.,   \n100490                                   Thorndike Press,   \n\n                                                 Subjects ItemType  \\\n0       Dragons Juvenile fiction, Characters and chara...     jcbk   \n1                                Cooking, Holiday cooking     acbk   \n2       Peru Guidebooks, Cuzco Peru Guidebooks, Machu ...     acbk   \n3       Sleeping Beauty Tale Juvenile literature, Folk...     jcbk   \n4       United States Virgin Islands Fiction, Short st...     acbk   \n...                                                   ...      ...   \n100486  Happiness Juvenile literature, Kindness Juveni...     jcbk   \n100487  Frankenstein Victor Fictitious character Ficti...     acbk   \n100488                     Antarctica Juvenile literature     jcbk   \n100489                     Fiberglass boats, Boatbuilding     acbk   \n100490  Large type books, Great Britain History Mary I...     acbk   \n\n       ItemCollection ItemLocation  ReportDate  ItemCount  \n0               ncnew          net  03/01/2020          1  \n1                nanf          swt  12/01/2020          1  \n2                nanf          wts  03/01/2020          1  \n3               ncfft          mag  11/01/2020          1  \n4               cafic          cen  05/01/2020          1  \n...               ...          ...         ...        ...  \n100486          ncenf          bea  04/01/2020          1  \n100487           nanf          swt  02/01/2020          1  \n100488           ncnf          bal  03/01/2020          1  \n100489           canf          cen  08/01/2020          1  \n100490        cs1malf          cen  08/01/2020          1  \n\n[99428 rows x 12 columns]",
      "text/html": "<div>\n<style scoped>\n    .dataframe tbody tr th:only-of-type {\n        vertical-align: middle;\n    }\n\n    .dataframe tbody tr th {\n        vertical-align: top;\n    }\n\n    .dataframe thead th {\n        text-align: right;\n    }\n</style>\n<table border=\"1\" class=\"dataframe\">\n  <thead>\n    <tr style=\"text-align: right;\">\n      <th></th>\n      <th>BibNum</th>\n      <th>Title</th>\n      <th>Author</th>\n      <th>ISBN</th>\n      <th>PublicationYear</th>\n      <th>Publisher</th>\n      <th>Subjects</th>\n      <th>ItemType</th>\n      <th>ItemCollection</th>\n      <th>ItemLocation</th>\n      <th>ReportDate</th>\n      <th>ItemCount</th>\n    </tr>\n  </thead>\n  <tbody>\n    <tr>\n      <th>0</th>\n      <td>3479509</td>\n      <td>Franklin and Luna and the book of fairy tales ...</td>\n      <td>Campbell, Jen</td>\n      <td>0500651752, 9780500651759</td>\n      <td>2019.</td>\n      <td>Thames and Hudson,</td>\n      <td>Dragons Juvenile fiction, Characters and chara...</td>\n      <td>jcbk</td>\n      <td>ncnew</td>\n      <td>net</td>\n      <td>03/01/2020</td>\n      <td>1</td>\n    </tr>\n    <tr>\n      <th>1</th>\n      <td>2737917</td>\n      <td>Holiday dinners with Bradley Ogden : 150 festi...</td>\n      <td>Ogden, Bradley</td>\n      <td>0762439157, 9780762439157</td>\n      <td>[2011]</td>\n      <td>Running Press,</td>\n      <td>Cooking, Holiday cooking</td>\n      <td>acbk</td>\n      <td>nanf</td>\n      <td>swt</td>\n      <td>12/01/2020</td>\n      <td>1</td>\n    </tr>\n    <tr>\n      <th>2</th>\n      <td>3359831</td>\n      <td>Cuzco, Machu Picchu &amp; the Inca heartland / Rob...</td>\n      <td>Kunstaetter, Robert</td>\n      <td>1911082256, 9781911082255</td>\n      <td>2017.</td>\n      <td>Footprint,</td>\n      <td>Peru Guidebooks, Cuzco Peru Guidebooks, Machu ...</td>\n      <td>acbk</td>\n      <td>nanf</td>\n      <td>wts</td>\n      <td>03/01/2020</td>\n      <td>1</td>\n    </tr>\n    <tr>\n      <th>3</th>\n      <td>3298424</td>\n      <td>Sleeping Beauty / retold by Cynthia Rylant ; p...</td>\n      <td>Rylant, Cynthia</td>\n      <td>1423121082, 9781423121084</td>\n      <td>[2015]</td>\n      <td>Disney Hyperion,</td>\n      <td>Sleeping Beauty Tale Juvenile literature, Folk...</td>\n      <td>jcbk</td>\n      <td>ncfft</td>\n      <td>mag</td>\n      <td>11/01/2020</td>\n      <td>1</td>\n    </tr>\n    <tr>\n      <th>4</th>\n      <td>3203995</td>\n      <td>How to escape from a leper colony : a novella ...</td>\n      <td>Yanique, Tiphanie</td>\n      <td>155597550X, 9781555975500</td>\n      <td>2010.</td>\n      <td>Graywolf Press,</td>\n      <td>United States Virgin Islands Fiction, Short st...</td>\n      <td>acbk</td>\n      <td>cafic</td>\n      <td>cen</td>\n      <td>05/01/2020</td>\n      <td>1</td>\n    </tr>\n    <tr>\n      <th>...</th>\n      <td>...</td>\n      <td>...</td>\n      <td>...</td>\n      <td>...</td>\n      <td>...</td>\n      <td>...</td>\n      <td>...</td>\n      <td>...</td>\n      <td>...</td>\n      <td>...</td>\n      <td>...</td>\n      <td>...</td>\n    </tr>\n    <tr>\n      <th>100486</th>\n      <td>3369144</td>\n      <td>Have you filled a bucket today? : a guide to d...</td>\n      <td>McCloud, Carol</td>\n      <td>099609993X, 0996099948, 9780996099936, 9780996...</td>\n      <td>[2016]</td>\n      <td>Bucket Fillosophy, is an imprint of Bucket Fil...</td>\n      <td>Happiness Juvenile literature, Kindness Juveni...</td>\n      <td>jcbk</td>\n      <td>ncenf</td>\n      <td>bea</td>\n      <td>04/01/2020</td>\n      <td>1</td>\n    </tr>\n    <tr>\n      <th>100487</th>\n      <td>3277778</td>\n      <td>The new annotated Frankenstein / Mary Shelley ...</td>\n      <td>Shelley, Mary Wollstonecraft, 1797-1851</td>\n      <td>0871409496, 9780871409492</td>\n      <td>2017.</td>\n      <td>Liveright Publishing Corporation,</td>\n      <td>Frankenstein Victor Fictitious character Ficti...</td>\n      <td>acbk</td>\n      <td>nanf</td>\n      <td>swt</td>\n      <td>02/01/2020</td>\n      <td>1</td>\n    </tr>\n    <tr>\n      <th>100488</th>\n      <td>3230595</td>\n      <td>Antarctica / by Wil Mara.</td>\n      <td>Mara, Wil</td>\n      <td>0531220826, 9780531220825</td>\n      <td>2017.</td>\n      <td>Children's Press, an imprint of Scholastic Inc.,</td>\n      <td>Antarctica Juvenile literature</td>\n      <td>jcbk</td>\n      <td>ncnf</td>\n      <td>bal</td>\n      <td>03/01/2020</td>\n      <td>1</td>\n    </tr>\n    <tr>\n      <th>100489</th>\n      <td>203644</td>\n      <td>Building small boats, surf craft, and canoes i...</td>\n      <td>Toghill, Jeff E.</td>\n      <td>0442284152</td>\n      <td>1981.</td>\n      <td>Van Nostrand Reinhold Co.,</td>\n      <td>Fiberglass boats, Boatbuilding</td>\n      <td>acbk</td>\n      <td>canf</td>\n      <td>cen</td>\n      <td>08/01/2020</td>\n      <td>1</td>\n    </tr>\n    <tr>\n      <th>100490</th>\n      <td>2190872</td>\n      <td>Kissed by shadows / Jane Feather.</td>\n      <td>Feather, Jane</td>\n      <td>0786254211</td>\n      <td>2003.</td>\n      <td>Thorndike Press,</td>\n      <td>Large type books, Great Britain History Mary I...</td>\n      <td>acbk</td>\n      <td>cs1malf</td>\n      <td>cen</td>\n      <td>08/01/2020</td>\n      <td>1</td>\n    </tr>\n  </tbody>\n</table>\n<p>99428 rows × 12 columns</p>\n</div>"
     },
     "execution_count": 36,
     "metadata": {},
     "output_type": "execute_result"
    }
   ],
   "source": [
    "books_1"
   ],
   "metadata": {
    "collapsed": false,
    "ExecuteTime": {
     "end_time": "2023-11-08T22:21:42.528002400Z",
     "start_time": "2023-11-08T22:21:42.505024700Z"
    }
   },
   "id": "c7fb5b5bd9ddcfbd"
  },
  {
   "cell_type": "code",
   "execution_count": 43,
   "outputs": [
    {
     "name": "stdout",
     "output_type": "stream",
     "text": [
      "<class 'pandas.core.frame.DataFrame'>\n",
      "Index: 99428 entries, 0 to 100490\n",
      "Data columns (total 12 columns):\n",
      " #   Column           Non-Null Count  Dtype \n",
      "---  ------           --------------  ----- \n",
      " 0   BibNum           99428 non-null  int64 \n",
      " 1   Title            99427 non-null  object\n",
      " 2   Author           94026 non-null  object\n",
      " 3   ISBN             99428 non-null  object\n",
      " 4   PublicationYear  99421 non-null  object\n",
      " 5   Publisher        99402 non-null  object\n",
      " 6   Subjects         99428 non-null  object\n",
      " 7   ItemType         99428 non-null  object\n",
      " 8   ItemCollection   99428 non-null  object\n",
      " 9   ItemLocation     99428 non-null  object\n",
      " 10  ReportDate       99428 non-null  object\n",
      " 11  ItemCount        99428 non-null  int64 \n",
      "dtypes: int64(2), object(10)\n",
      "memory usage: 9.9+ MB\n"
     ]
    }
   ],
   "source": [
    "books_1.info()"
   ],
   "metadata": {
    "collapsed": false,
    "ExecuteTime": {
     "end_time": "2023-11-09T19:47:01.875869900Z",
     "start_time": "2023-11-09T19:47:01.691781100Z"
    }
   },
   "id": "c9fd407c272b5632"
  },
  {
   "cell_type": "code",
   "execution_count": 70,
   "outputs": [],
   "source": [
    "ISBN_dirty = pd.DataFrame()\n",
    "ISBN_dirty[['ISBN']] = books_1[['ISBN']].astype(str)"
   ],
   "metadata": {
    "collapsed": false,
    "ExecuteTime": {
     "end_time": "2023-11-09T20:07:05.534309300Z",
     "start_time": "2023-11-09T20:07:05.518253800Z"
    }
   },
   "id": "a8d9f99dc1f7065f"
  },
  {
   "cell_type": "code",
   "execution_count": 71,
   "outputs": [
    {
     "data": {
      "text/plain": "                                                     ISBN\n0                               0500651752, 9780500651759\n1                               0762439157, 9780762439157\n2                               1911082256, 9781911082255\n3                               1423121082, 9781423121084\n4                               155597550X, 9781555975500\n...                                                   ...\n100486  099609993X, 0996099948, 9780996099936, 9780996...\n100487                          0871409496, 9780871409492\n100488                          0531220826, 9780531220825\n100489                                         0442284152\n100490                                         0786254211\n\n[99428 rows x 1 columns]",
      "text/html": "<div>\n<style scoped>\n    .dataframe tbody tr th:only-of-type {\n        vertical-align: middle;\n    }\n\n    .dataframe tbody tr th {\n        vertical-align: top;\n    }\n\n    .dataframe thead th {\n        text-align: right;\n    }\n</style>\n<table border=\"1\" class=\"dataframe\">\n  <thead>\n    <tr style=\"text-align: right;\">\n      <th></th>\n      <th>ISBN</th>\n    </tr>\n  </thead>\n  <tbody>\n    <tr>\n      <th>0</th>\n      <td>0500651752, 9780500651759</td>\n    </tr>\n    <tr>\n      <th>1</th>\n      <td>0762439157, 9780762439157</td>\n    </tr>\n    <tr>\n      <th>2</th>\n      <td>1911082256, 9781911082255</td>\n    </tr>\n    <tr>\n      <th>3</th>\n      <td>1423121082, 9781423121084</td>\n    </tr>\n    <tr>\n      <th>4</th>\n      <td>155597550X, 9781555975500</td>\n    </tr>\n    <tr>\n      <th>...</th>\n      <td>...</td>\n    </tr>\n    <tr>\n      <th>100486</th>\n      <td>099609993X, 0996099948, 9780996099936, 9780996...</td>\n    </tr>\n    <tr>\n      <th>100487</th>\n      <td>0871409496, 9780871409492</td>\n    </tr>\n    <tr>\n      <th>100488</th>\n      <td>0531220826, 9780531220825</td>\n    </tr>\n    <tr>\n      <th>100489</th>\n      <td>0442284152</td>\n    </tr>\n    <tr>\n      <th>100490</th>\n      <td>0786254211</td>\n    </tr>\n  </tbody>\n</table>\n<p>99428 rows × 1 columns</p>\n</div>"
     },
     "execution_count": 71,
     "metadata": {},
     "output_type": "execute_result"
    }
   ],
   "source": [
    "ISBN_dirty"
   ],
   "metadata": {
    "collapsed": false,
    "ExecuteTime": {
     "end_time": "2023-11-09T20:07:06.689886900Z",
     "start_time": "2023-11-09T20:07:06.686635200Z"
    }
   },
   "id": "717b14e300599229"
  },
  {
   "cell_type": "code",
   "execution_count": 72,
   "outputs": [
    {
     "name": "stdout",
     "output_type": "stream",
     "text": [
      "<class 'pandas.core.frame.DataFrame'>\n",
      "Index: 99428 entries, 0 to 100490\n",
      "Data columns (total 1 columns):\n",
      " #   Column  Non-Null Count  Dtype \n",
      "---  ------  --------------  ----- \n",
      " 0   ISBN    99428 non-null  object\n",
      "dtypes: object(1)\n",
      "memory usage: 3.5+ MB\n"
     ]
    }
   ],
   "source": [
    "ISBN_dirty.info()"
   ],
   "metadata": {
    "collapsed": false,
    "ExecuteTime": {
     "end_time": "2023-11-09T20:07:09.063081Z",
     "start_time": "2023-11-09T20:07:09.061571100Z"
    }
   },
   "id": "de0416d121f049ce"
  },
  {
   "cell_type": "code",
   "execution_count": 87,
   "outputs": [
    {
     "data": {
      "text/plain": "                                                     ISBN  \\\n0                               0500651752, 9780500651759   \n1                               0762439157, 9780762439157   \n2                               1911082256, 9781911082255   \n3                               1423121082, 9781423121084   \n4                               155597550X, 9781555975500   \n...                                                   ...   \n100486  099609993X, 0996099948, 9780996099936, 9780996...   \n100487                          0871409496, 9780871409492   \n100488                          0531220826, 9780531220825   \n100489                                         0442284152   \n100490                                         0786254211   \n\n                                               ISBN_array  \n0                            [0500651752,  9780500651759]  \n1                            [0762439157,  9780762439157]  \n2                            [1911082256,  9781911082255]  \n3                            [1423121082,  9781423121084]  \n4                            [155597550X,  9781555975500]  \n...                                                   ...  \n100486  [099609993X,  0996099948,  9780996099936,  978...  \n100487                       [0871409496,  9780871409492]  \n100488                       [0531220826,  9780531220825]  \n100489                                       [0442284152]  \n100490                                       [0786254211]  \n\n[99428 rows x 2 columns]",
      "text/html": "<div>\n<style scoped>\n    .dataframe tbody tr th:only-of-type {\n        vertical-align: middle;\n    }\n\n    .dataframe tbody tr th {\n        vertical-align: top;\n    }\n\n    .dataframe thead th {\n        text-align: right;\n    }\n</style>\n<table border=\"1\" class=\"dataframe\">\n  <thead>\n    <tr style=\"text-align: right;\">\n      <th></th>\n      <th>ISBN</th>\n      <th>ISBN_array</th>\n    </tr>\n  </thead>\n  <tbody>\n    <tr>\n      <th>0</th>\n      <td>0500651752, 9780500651759</td>\n      <td>[0500651752,  9780500651759]</td>\n    </tr>\n    <tr>\n      <th>1</th>\n      <td>0762439157, 9780762439157</td>\n      <td>[0762439157,  9780762439157]</td>\n    </tr>\n    <tr>\n      <th>2</th>\n      <td>1911082256, 9781911082255</td>\n      <td>[1911082256,  9781911082255]</td>\n    </tr>\n    <tr>\n      <th>3</th>\n      <td>1423121082, 9781423121084</td>\n      <td>[1423121082,  9781423121084]</td>\n    </tr>\n    <tr>\n      <th>4</th>\n      <td>155597550X, 9781555975500</td>\n      <td>[155597550X,  9781555975500]</td>\n    </tr>\n    <tr>\n      <th>...</th>\n      <td>...</td>\n      <td>...</td>\n    </tr>\n    <tr>\n      <th>100486</th>\n      <td>099609993X, 0996099948, 9780996099936, 9780996...</td>\n      <td>[099609993X,  0996099948,  9780996099936,  978...</td>\n    </tr>\n    <tr>\n      <th>100487</th>\n      <td>0871409496, 9780871409492</td>\n      <td>[0871409496,  9780871409492]</td>\n    </tr>\n    <tr>\n      <th>100488</th>\n      <td>0531220826, 9780531220825</td>\n      <td>[0531220826,  9780531220825]</td>\n    </tr>\n    <tr>\n      <th>100489</th>\n      <td>0442284152</td>\n      <td>[0442284152]</td>\n    </tr>\n    <tr>\n      <th>100490</th>\n      <td>0786254211</td>\n      <td>[0786254211]</td>\n    </tr>\n  </tbody>\n</table>\n<p>99428 rows × 2 columns</p>\n</div>"
     },
     "execution_count": 87,
     "metadata": {},
     "output_type": "execute_result"
    }
   ],
   "source": [
    "ISBN_dirty['ISBN_array'] = ISBN_dirty['ISBN'].apply(str).str.split(',').tolist()\n",
    "ISBN_dirty"
   ],
   "metadata": {
    "collapsed": false,
    "ExecuteTime": {
     "end_time": "2023-11-09T22:29:12.514969Z",
     "start_time": "2023-11-09T22:29:12.455750700Z"
    }
   },
   "id": "a34b855c13d4c32c"
  },
  {
   "cell_type": "code",
   "execution_count": 86,
   "outputs": [
    {
     "name": "stdout",
     "output_type": "stream",
     "text": [
      "<class 'pandas.core.frame.DataFrame'>\n",
      "Index: 99428 entries, 0 to 100490\n",
      "Data columns (total 2 columns):\n",
      " #   Column      Non-Null Count  Dtype \n",
      "---  ------      --------------  ----- \n",
      " 0   ISBN        99428 non-null  object\n",
      " 1   ISBN_array  99428 non-null  object\n",
      "dtypes: object(2)\n",
      "memory usage: 4.3+ MB\n"
     ]
    }
   ],
   "source": [
    "ISBN_dirty.info()"
   ],
   "metadata": {
    "collapsed": false,
    "ExecuteTime": {
     "end_time": "2023-11-09T22:29:12.461419800Z",
     "start_time": "2023-11-09T22:29:12.445990300Z"
    }
   },
   "id": "24ef97bd3616586"
  },
  {
   "cell_type": "code",
   "execution_count": 81,
   "outputs": [
    {
     "data": {
      "text/plain": "                                                     ISBN  \\\n0                               0500651752, 9780500651759   \n1                               0762439157, 9780762439157   \n2                               1911082256, 9781911082255   \n3                               1423121082, 9781423121084   \n4                               155597550X, 9781555975500   \n...                                                   ...   \n100486  099609993X, 0996099948, 9780996099936, 9780996...   \n100487                          0871409496, 9780871409492   \n100488                          0531220826, 9780531220825   \n100489                                         0442284152   \n100490                                         0786254211   \n\n                                               ISBN_array  \n0                             [0500651752, 9780500651759]  \n1                             [0762439157, 9780762439157]  \n2                             [1911082256, 9781911082255]  \n3                             [1423121082, 9781423121084]  \n4                             [155597550X, 9781555975500]  \n...                                                   ...  \n100486  [099609993X, 0996099948, 9780996099936, 978099...  \n100487                        [0871409496, 9780871409492]  \n100488                        [0531220826, 9780531220825]  \n100489                                       [0442284152]  \n100490                                       [0786254211]  \n\n[99428 rows x 2 columns]",
      "text/html": "<div>\n<style scoped>\n    .dataframe tbody tr th:only-of-type {\n        vertical-align: middle;\n    }\n\n    .dataframe tbody tr th {\n        vertical-align: top;\n    }\n\n    .dataframe thead th {\n        text-align: right;\n    }\n</style>\n<table border=\"1\" class=\"dataframe\">\n  <thead>\n    <tr style=\"text-align: right;\">\n      <th></th>\n      <th>ISBN</th>\n      <th>ISBN_array</th>\n    </tr>\n  </thead>\n  <tbody>\n    <tr>\n      <th>0</th>\n      <td>0500651752, 9780500651759</td>\n      <td>[0500651752, 9780500651759]</td>\n    </tr>\n    <tr>\n      <th>1</th>\n      <td>0762439157, 9780762439157</td>\n      <td>[0762439157, 9780762439157]</td>\n    </tr>\n    <tr>\n      <th>2</th>\n      <td>1911082256, 9781911082255</td>\n      <td>[1911082256, 9781911082255]</td>\n    </tr>\n    <tr>\n      <th>3</th>\n      <td>1423121082, 9781423121084</td>\n      <td>[1423121082, 9781423121084]</td>\n    </tr>\n    <tr>\n      <th>4</th>\n      <td>155597550X, 9781555975500</td>\n      <td>[155597550X, 9781555975500]</td>\n    </tr>\n    <tr>\n      <th>...</th>\n      <td>...</td>\n      <td>...</td>\n    </tr>\n    <tr>\n      <th>100486</th>\n      <td>099609993X, 0996099948, 9780996099936, 9780996...</td>\n      <td>[099609993X, 0996099948, 9780996099936, 978099...</td>\n    </tr>\n    <tr>\n      <th>100487</th>\n      <td>0871409496, 9780871409492</td>\n      <td>[0871409496, 9780871409492]</td>\n    </tr>\n    <tr>\n      <th>100488</th>\n      <td>0531220826, 9780531220825</td>\n      <td>[0531220826, 9780531220825]</td>\n    </tr>\n    <tr>\n      <th>100489</th>\n      <td>0442284152</td>\n      <td>[0442284152]</td>\n    </tr>\n    <tr>\n      <th>100490</th>\n      <td>0786254211</td>\n      <td>[0786254211]</td>\n    </tr>\n  </tbody>\n</table>\n<p>99428 rows × 2 columns</p>\n</div>"
     },
     "execution_count": 81,
     "metadata": {},
     "output_type": "execute_result"
    }
   ],
   "source": [
    "ISBN_dirty['ISBN_array'] = ISBN_dirty['ISBN_array'].str.split(', ')\n",
    "ISBN_dirty"
   ],
   "metadata": {
    "collapsed": false,
    "ExecuteTime": {
     "end_time": "2023-11-09T22:16:48.068346Z",
     "start_time": "2023-11-09T22:16:47.895221200Z"
    }
   },
   "id": "2295598e130ee62"
  }
 ],
 "metadata": {
  "kernelspec": {
   "display_name": "Python 3",
   "language": "python",
   "name": "python3"
  },
  "language_info": {
   "codemirror_mode": {
    "name": "ipython",
    "version": 2
   },
   "file_extension": ".py",
   "mimetype": "text/x-python",
   "name": "python",
   "nbconvert_exporter": "python",
   "pygments_lexer": "ipython2",
   "version": "2.7.6"
  }
 },
 "nbformat": 4,
 "nbformat_minor": 5
}
