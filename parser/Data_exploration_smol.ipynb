{
 "cells": [
  {
   "cell_type": "code",
   "execution_count": 1,
   "id": "initial_id",
   "metadata": {
    "collapsed": true,
    "ExecuteTime": {
     "end_time": "2023-11-26T13:51:20.246846400Z",
     "start_time": "2023-11-26T13:51:17.704954200Z"
    }
   },
   "outputs": [],
   "source": [
    "import pandas as pd"
   ]
  },
  {
   "cell_type": "code",
   "execution_count": 126,
   "outputs": [
    {
     "data": {
      "text/plain": "        BibNum                                              Title  \\\n0      3479509  Franklin and Luna and the book of fairy tales ...   \n1      2737917  Holiday dinners with Bradley Ogden : 150 festi...   \n2      3359831  Cuzco, Machu Picchu & the Inca heartland / Rob...   \n3      3298424  Sleeping Beauty / retold by Cynthia Rylant ; p...   \n4      3203995  How to escape from a leper colony : a novella ...   \n...        ...                                                ...   \n10469  2760306                          Lover reborn / J.R. Ward.   \n10470  2724228            Experimental drawing / Robert Kaupelis.   \n10471  3364815  The bad guys in Alien vs. Bad Guys / Aaron Bla...   \n10472  3227571  English for everyone. Course book. Level 3 int...   \n10473  2128679  Jazz modernism : from Ellington and Armstrong ...   \n\n                     Author  \\\n0             Campbell, Jen   \n1            Ogden, Bradley   \n2       Kunstaetter, Robert   \n3           Rylant, Cynthia   \n4         Yanique, Tiphanie   \n...                     ...   \n10469    Ward, J. R., 1969-   \n10470      Kaupelis, Robert   \n10471         Blabey, Aaron   \n10472  Johnson, Gill, 1964-   \n10473         Appel, Alfred   \n\n                                                    ISBN PublicationYear  \\\n0                              0500651752, 9780500651759           2019.   \n1                              0762439157, 9780762439157          [2011]   \n2                              1911082256, 9781911082255           2017.   \n3                              1423121082, 9781423121084          [2015]   \n4                              155597550X, 9781555975500           2010.   \n...                                                  ...             ...   \n10469                          0451235843, 9780451235848          [2012]   \n10470  0823016188, 0823016226, 9780823016181, 9780823...          [1980]   \n10471                          133818959X, 9781338189599          [2018]   \n10472  1465447636, 1465449418, 9781465447630, 9781465...           2016.   \n10473                                         0394533933           2002.   \n\n                                            Publisher  \\\n0                                  Thames and Hudson,   \n1                                      Running Press,   \n2                                          Footprint,   \n3                                    Disney Hyperion,   \n4                                     Graywolf Press,   \n...                                               ...   \n10469                           New American Library,   \n10470                    Watson-Guptill Publications,   \n10471                                Scholastic Inc.,   \n10472                                  DK Publishing,   \n10473  Alfred A. Knopf : Distributed by Random House,   \n\n                                                Subjects ItemType  \\\n0      Dragons Juvenile fiction, Characters and chara...     jcbk   \n1                               Cooking, Holiday cooking     acbk   \n2      Peru Guidebooks, Cuzco Peru Guidebooks, Machu ...     acbk   \n3      Sleeping Beauty Tale Juvenile literature, Folk...     jcbk   \n4      United States Virgin Islands Fiction, Short st...     acbk   \n...                                                  ...      ...   \n10469  Vampires Fiction, Paranormal romance stories, ...     acbk   \n10470      Drawing Study and teaching, Drawing Technique     acbk   \n10471  Extraterrestrial beings Juvenile fiction, Kidn...     jcbk   \n10472  English language Self instruction, English lan...     bcbk   \n10473  Jazz History and criticism, Music and literatu...     acbk   \n\n      ItemCollection FloatingItem ItemLocation  ReportDate  ItemCount  \n0              ncnew          NaN          net  03/01/2020          1  \n1               nanf          NaN          swt  12/01/2020          1  \n2               nanf          NaN          wts  03/01/2020          1  \n3              ncfft          NaN          mag  11/01/2020          1  \n4              cafic          NaN          cen  05/01/2020          1  \n...              ...          ...          ...         ...        ...  \n10469          nafic          NaN          dlr  10/01/2020          1  \n10470           nanf          NaN          rbe  09/01/2020          1  \n10471           ncef          NaN          glk  10/01/2020          1  \n10472         naesli          NaN          col  03/01/2020          1  \n10473           canf          NaN          cen  08/01/2020          1  \n\n[10474 rows x 13 columns]",
      "text/html": "<div>\n<style scoped>\n    .dataframe tbody tr th:only-of-type {\n        vertical-align: middle;\n    }\n\n    .dataframe tbody tr th {\n        vertical-align: top;\n    }\n\n    .dataframe thead th {\n        text-align: right;\n    }\n</style>\n<table border=\"1\" class=\"dataframe\">\n  <thead>\n    <tr style=\"text-align: right;\">\n      <th></th>\n      <th>BibNum</th>\n      <th>Title</th>\n      <th>Author</th>\n      <th>ISBN</th>\n      <th>PublicationYear</th>\n      <th>Publisher</th>\n      <th>Subjects</th>\n      <th>ItemType</th>\n      <th>ItemCollection</th>\n      <th>FloatingItem</th>\n      <th>ItemLocation</th>\n      <th>ReportDate</th>\n      <th>ItemCount</th>\n    </tr>\n  </thead>\n  <tbody>\n    <tr>\n      <th>0</th>\n      <td>3479509</td>\n      <td>Franklin and Luna and the book of fairy tales ...</td>\n      <td>Campbell, Jen</td>\n      <td>0500651752, 9780500651759</td>\n      <td>2019.</td>\n      <td>Thames and Hudson,</td>\n      <td>Dragons Juvenile fiction, Characters and chara...</td>\n      <td>jcbk</td>\n      <td>ncnew</td>\n      <td>NaN</td>\n      <td>net</td>\n      <td>03/01/2020</td>\n      <td>1</td>\n    </tr>\n    <tr>\n      <th>1</th>\n      <td>2737917</td>\n      <td>Holiday dinners with Bradley Ogden : 150 festi...</td>\n      <td>Ogden, Bradley</td>\n      <td>0762439157, 9780762439157</td>\n      <td>[2011]</td>\n      <td>Running Press,</td>\n      <td>Cooking, Holiday cooking</td>\n      <td>acbk</td>\n      <td>nanf</td>\n      <td>NaN</td>\n      <td>swt</td>\n      <td>12/01/2020</td>\n      <td>1</td>\n    </tr>\n    <tr>\n      <th>2</th>\n      <td>3359831</td>\n      <td>Cuzco, Machu Picchu &amp; the Inca heartland / Rob...</td>\n      <td>Kunstaetter, Robert</td>\n      <td>1911082256, 9781911082255</td>\n      <td>2017.</td>\n      <td>Footprint,</td>\n      <td>Peru Guidebooks, Cuzco Peru Guidebooks, Machu ...</td>\n      <td>acbk</td>\n      <td>nanf</td>\n      <td>NaN</td>\n      <td>wts</td>\n      <td>03/01/2020</td>\n      <td>1</td>\n    </tr>\n    <tr>\n      <th>3</th>\n      <td>3298424</td>\n      <td>Sleeping Beauty / retold by Cynthia Rylant ; p...</td>\n      <td>Rylant, Cynthia</td>\n      <td>1423121082, 9781423121084</td>\n      <td>[2015]</td>\n      <td>Disney Hyperion,</td>\n      <td>Sleeping Beauty Tale Juvenile literature, Folk...</td>\n      <td>jcbk</td>\n      <td>ncfft</td>\n      <td>NaN</td>\n      <td>mag</td>\n      <td>11/01/2020</td>\n      <td>1</td>\n    </tr>\n    <tr>\n      <th>4</th>\n      <td>3203995</td>\n      <td>How to escape from a leper colony : a novella ...</td>\n      <td>Yanique, Tiphanie</td>\n      <td>155597550X, 9781555975500</td>\n      <td>2010.</td>\n      <td>Graywolf Press,</td>\n      <td>United States Virgin Islands Fiction, Short st...</td>\n      <td>acbk</td>\n      <td>cafic</td>\n      <td>NaN</td>\n      <td>cen</td>\n      <td>05/01/2020</td>\n      <td>1</td>\n    </tr>\n    <tr>\n      <th>...</th>\n      <td>...</td>\n      <td>...</td>\n      <td>...</td>\n      <td>...</td>\n      <td>...</td>\n      <td>...</td>\n      <td>...</td>\n      <td>...</td>\n      <td>...</td>\n      <td>...</td>\n      <td>...</td>\n      <td>...</td>\n      <td>...</td>\n    </tr>\n    <tr>\n      <th>10469</th>\n      <td>2760306</td>\n      <td>Lover reborn / J.R. Ward.</td>\n      <td>Ward, J. R., 1969-</td>\n      <td>0451235843, 9780451235848</td>\n      <td>[2012]</td>\n      <td>New American Library,</td>\n      <td>Vampires Fiction, Paranormal romance stories, ...</td>\n      <td>acbk</td>\n      <td>nafic</td>\n      <td>NaN</td>\n      <td>dlr</td>\n      <td>10/01/2020</td>\n      <td>1</td>\n    </tr>\n    <tr>\n      <th>10470</th>\n      <td>2724228</td>\n      <td>Experimental drawing / Robert Kaupelis.</td>\n      <td>Kaupelis, Robert</td>\n      <td>0823016188, 0823016226, 9780823016181, 9780823...</td>\n      <td>[1980]</td>\n      <td>Watson-Guptill Publications,</td>\n      <td>Drawing Study and teaching, Drawing Technique</td>\n      <td>acbk</td>\n      <td>nanf</td>\n      <td>NaN</td>\n      <td>rbe</td>\n      <td>09/01/2020</td>\n      <td>1</td>\n    </tr>\n    <tr>\n      <th>10471</th>\n      <td>3364815</td>\n      <td>The bad guys in Alien vs. Bad Guys / Aaron Bla...</td>\n      <td>Blabey, Aaron</td>\n      <td>133818959X, 9781338189599</td>\n      <td>[2018]</td>\n      <td>Scholastic Inc.,</td>\n      <td>Extraterrestrial beings Juvenile fiction, Kidn...</td>\n      <td>jcbk</td>\n      <td>ncef</td>\n      <td>NaN</td>\n      <td>glk</td>\n      <td>10/01/2020</td>\n      <td>1</td>\n    </tr>\n    <tr>\n      <th>10472</th>\n      <td>3227571</td>\n      <td>English for everyone. Course book. Level 3 int...</td>\n      <td>Johnson, Gill, 1964-</td>\n      <td>1465447636, 1465449418, 9781465447630, 9781465...</td>\n      <td>2016.</td>\n      <td>DK Publishing,</td>\n      <td>English language Self instruction, English lan...</td>\n      <td>bcbk</td>\n      <td>naesli</td>\n      <td>NaN</td>\n      <td>col</td>\n      <td>03/01/2020</td>\n      <td>1</td>\n    </tr>\n    <tr>\n      <th>10473</th>\n      <td>2128679</td>\n      <td>Jazz modernism : from Ellington and Armstrong ...</td>\n      <td>Appel, Alfred</td>\n      <td>0394533933</td>\n      <td>2002.</td>\n      <td>Alfred A. Knopf : Distributed by Random House,</td>\n      <td>Jazz History and criticism, Music and literatu...</td>\n      <td>acbk</td>\n      <td>canf</td>\n      <td>NaN</td>\n      <td>cen</td>\n      <td>08/01/2020</td>\n      <td>1</td>\n    </tr>\n  </tbody>\n</table>\n<p>10474 rows × 13 columns</p>\n</div>"
     },
     "execution_count": 126,
     "metadata": {},
     "output_type": "execute_result"
    }
   ],
   "source": [
    "books = pd.read_csv('sample_smol.csv')\n",
    "books"
   ],
   "metadata": {
    "collapsed": false,
    "ExecuteTime": {
     "end_time": "2023-11-26T20:55:10.294095100Z",
     "start_time": "2023-11-26T20:55:10.202135500Z"
    }
   },
   "id": "e347fc12ba369bf7"
  },
  {
   "cell_type": "code",
   "execution_count": 3,
   "outputs": [
    {
     "data": {
      "text/plain": "BibNum                 0\nTitle                  0\nAuthor               565\nISBN                   0\nPublicationYear        1\nPublisher              6\nSubjects              94\nItemType               0\nItemCollection         0\nFloatingItem       10027\nItemLocation           0\nReportDate             0\nItemCount              0\ndtype: int64"
     },
     "execution_count": 3,
     "metadata": {},
     "output_type": "execute_result"
    }
   ],
   "source": [
    "books.isna().sum()"
   ],
   "metadata": {
    "collapsed": false,
    "ExecuteTime": {
     "end_time": "2023-11-26T13:51:20.247845700Z",
     "start_time": "2023-11-26T13:51:18.128128300Z"
    }
   },
   "id": "4e278bfa5d38e5bf"
  },
  {
   "cell_type": "code",
   "execution_count": 4,
   "outputs": [
    {
     "data": {
      "text/plain": "        BibNum                                              Title  \\\n0      3479509  Franklin and Luna and the book of fairy tales ...   \n1      2737917  Holiday dinners with Bradley Ogden : 150 festi...   \n2      3359831  Cuzco, Machu Picchu & the Inca heartland / Rob...   \n3      3298424  Sleeping Beauty / retold by Cynthia Rylant ; p...   \n4      3203995  How to escape from a leper colony : a novella ...   \n...        ...                                                ...   \n10469  2760306                          Lover reborn / J.R. Ward.   \n10470  2724228            Experimental drawing / Robert Kaupelis.   \n10471  3364815  The bad guys in Alien vs. Bad Guys / Aaron Bla...   \n10472  3227571  English for everyone. Course book. Level 3 int...   \n10473  2128679  Jazz modernism : from Ellington and Armstrong ...   \n\n                     Author  \\\n0             Campbell, Jen   \n1            Ogden, Bradley   \n2       Kunstaetter, Robert   \n3           Rylant, Cynthia   \n4         Yanique, Tiphanie   \n...                     ...   \n10469    Ward, J. R., 1969-   \n10470      Kaupelis, Robert   \n10471         Blabey, Aaron   \n10472  Johnson, Gill, 1964-   \n10473         Appel, Alfred   \n\n                                                    ISBN PublicationYear  \\\n0                              0500651752, 9780500651759           2019.   \n1                              0762439157, 9780762439157          [2011]   \n2                              1911082256, 9781911082255           2017.   \n3                              1423121082, 9781423121084          [2015]   \n4                              155597550X, 9781555975500           2010.   \n...                                                  ...             ...   \n10469                          0451235843, 9780451235848          [2012]   \n10470  0823016188, 0823016226, 9780823016181, 9780823...          [1980]   \n10471                          133818959X, 9781338189599          [2018]   \n10472  1465447636, 1465449418, 9781465447630, 9781465...           2016.   \n10473                                         0394533933           2002.   \n\n                                            Publisher  \\\n0                                  Thames and Hudson,   \n1                                      Running Press,   \n2                                          Footprint,   \n3                                    Disney Hyperion,   \n4                                     Graywolf Press,   \n...                                               ...   \n10469                           New American Library,   \n10470                    Watson-Guptill Publications,   \n10471                                Scholastic Inc.,   \n10472                                  DK Publishing,   \n10473  Alfred A. Knopf : Distributed by Random House,   \n\n                                                Subjects ItemType  \\\n0      Dragons Juvenile fiction, Characters and chara...     jcbk   \n1                               Cooking, Holiday cooking     acbk   \n2      Peru Guidebooks, Cuzco Peru Guidebooks, Machu ...     acbk   \n3      Sleeping Beauty Tale Juvenile literature, Folk...     jcbk   \n4      United States Virgin Islands Fiction, Short st...     acbk   \n...                                                  ...      ...   \n10469  Vampires Fiction, Paranormal romance stories, ...     acbk   \n10470      Drawing Study and teaching, Drawing Technique     acbk   \n10471  Extraterrestrial beings Juvenile fiction, Kidn...     jcbk   \n10472  English language Self instruction, English lan...     bcbk   \n10473  Jazz History and criticism, Music and literatu...     acbk   \n\n      ItemCollection ItemLocation  ReportDate  ItemCount  \n0              ncnew          net  03/01/2020          1  \n1               nanf          swt  12/01/2020          1  \n2               nanf          wts  03/01/2020          1  \n3              ncfft          mag  11/01/2020          1  \n4              cafic          cen  05/01/2020          1  \n...              ...          ...         ...        ...  \n10469          nafic          dlr  10/01/2020          1  \n10470           nanf          rbe  09/01/2020          1  \n10471           ncef          glk  10/01/2020          1  \n10472         naesli          col  03/01/2020          1  \n10473           canf          cen  08/01/2020          1  \n\n[10474 rows x 12 columns]",
      "text/html": "<div>\n<style scoped>\n    .dataframe tbody tr th:only-of-type {\n        vertical-align: middle;\n    }\n\n    .dataframe tbody tr th {\n        vertical-align: top;\n    }\n\n    .dataframe thead th {\n        text-align: right;\n    }\n</style>\n<table border=\"1\" class=\"dataframe\">\n  <thead>\n    <tr style=\"text-align: right;\">\n      <th></th>\n      <th>BibNum</th>\n      <th>Title</th>\n      <th>Author</th>\n      <th>ISBN</th>\n      <th>PublicationYear</th>\n      <th>Publisher</th>\n      <th>Subjects</th>\n      <th>ItemType</th>\n      <th>ItemCollection</th>\n      <th>ItemLocation</th>\n      <th>ReportDate</th>\n      <th>ItemCount</th>\n    </tr>\n  </thead>\n  <tbody>\n    <tr>\n      <th>0</th>\n      <td>3479509</td>\n      <td>Franklin and Luna and the book of fairy tales ...</td>\n      <td>Campbell, Jen</td>\n      <td>0500651752, 9780500651759</td>\n      <td>2019.</td>\n      <td>Thames and Hudson,</td>\n      <td>Dragons Juvenile fiction, Characters and chara...</td>\n      <td>jcbk</td>\n      <td>ncnew</td>\n      <td>net</td>\n      <td>03/01/2020</td>\n      <td>1</td>\n    </tr>\n    <tr>\n      <th>1</th>\n      <td>2737917</td>\n      <td>Holiday dinners with Bradley Ogden : 150 festi...</td>\n      <td>Ogden, Bradley</td>\n      <td>0762439157, 9780762439157</td>\n      <td>[2011]</td>\n      <td>Running Press,</td>\n      <td>Cooking, Holiday cooking</td>\n      <td>acbk</td>\n      <td>nanf</td>\n      <td>swt</td>\n      <td>12/01/2020</td>\n      <td>1</td>\n    </tr>\n    <tr>\n      <th>2</th>\n      <td>3359831</td>\n      <td>Cuzco, Machu Picchu &amp; the Inca heartland / Rob...</td>\n      <td>Kunstaetter, Robert</td>\n      <td>1911082256, 9781911082255</td>\n      <td>2017.</td>\n      <td>Footprint,</td>\n      <td>Peru Guidebooks, Cuzco Peru Guidebooks, Machu ...</td>\n      <td>acbk</td>\n      <td>nanf</td>\n      <td>wts</td>\n      <td>03/01/2020</td>\n      <td>1</td>\n    </tr>\n    <tr>\n      <th>3</th>\n      <td>3298424</td>\n      <td>Sleeping Beauty / retold by Cynthia Rylant ; p...</td>\n      <td>Rylant, Cynthia</td>\n      <td>1423121082, 9781423121084</td>\n      <td>[2015]</td>\n      <td>Disney Hyperion,</td>\n      <td>Sleeping Beauty Tale Juvenile literature, Folk...</td>\n      <td>jcbk</td>\n      <td>ncfft</td>\n      <td>mag</td>\n      <td>11/01/2020</td>\n      <td>1</td>\n    </tr>\n    <tr>\n      <th>4</th>\n      <td>3203995</td>\n      <td>How to escape from a leper colony : a novella ...</td>\n      <td>Yanique, Tiphanie</td>\n      <td>155597550X, 9781555975500</td>\n      <td>2010.</td>\n      <td>Graywolf Press,</td>\n      <td>United States Virgin Islands Fiction, Short st...</td>\n      <td>acbk</td>\n      <td>cafic</td>\n      <td>cen</td>\n      <td>05/01/2020</td>\n      <td>1</td>\n    </tr>\n    <tr>\n      <th>...</th>\n      <td>...</td>\n      <td>...</td>\n      <td>...</td>\n      <td>...</td>\n      <td>...</td>\n      <td>...</td>\n      <td>...</td>\n      <td>...</td>\n      <td>...</td>\n      <td>...</td>\n      <td>...</td>\n      <td>...</td>\n    </tr>\n    <tr>\n      <th>10469</th>\n      <td>2760306</td>\n      <td>Lover reborn / J.R. Ward.</td>\n      <td>Ward, J. R., 1969-</td>\n      <td>0451235843, 9780451235848</td>\n      <td>[2012]</td>\n      <td>New American Library,</td>\n      <td>Vampires Fiction, Paranormal romance stories, ...</td>\n      <td>acbk</td>\n      <td>nafic</td>\n      <td>dlr</td>\n      <td>10/01/2020</td>\n      <td>1</td>\n    </tr>\n    <tr>\n      <th>10470</th>\n      <td>2724228</td>\n      <td>Experimental drawing / Robert Kaupelis.</td>\n      <td>Kaupelis, Robert</td>\n      <td>0823016188, 0823016226, 9780823016181, 9780823...</td>\n      <td>[1980]</td>\n      <td>Watson-Guptill Publications,</td>\n      <td>Drawing Study and teaching, Drawing Technique</td>\n      <td>acbk</td>\n      <td>nanf</td>\n      <td>rbe</td>\n      <td>09/01/2020</td>\n      <td>1</td>\n    </tr>\n    <tr>\n      <th>10471</th>\n      <td>3364815</td>\n      <td>The bad guys in Alien vs. Bad Guys / Aaron Bla...</td>\n      <td>Blabey, Aaron</td>\n      <td>133818959X, 9781338189599</td>\n      <td>[2018]</td>\n      <td>Scholastic Inc.,</td>\n      <td>Extraterrestrial beings Juvenile fiction, Kidn...</td>\n      <td>jcbk</td>\n      <td>ncef</td>\n      <td>glk</td>\n      <td>10/01/2020</td>\n      <td>1</td>\n    </tr>\n    <tr>\n      <th>10472</th>\n      <td>3227571</td>\n      <td>English for everyone. Course book. Level 3 int...</td>\n      <td>Johnson, Gill, 1964-</td>\n      <td>1465447636, 1465449418, 9781465447630, 9781465...</td>\n      <td>2016.</td>\n      <td>DK Publishing,</td>\n      <td>English language Self instruction, English lan...</td>\n      <td>bcbk</td>\n      <td>naesli</td>\n      <td>col</td>\n      <td>03/01/2020</td>\n      <td>1</td>\n    </tr>\n    <tr>\n      <th>10473</th>\n      <td>2128679</td>\n      <td>Jazz modernism : from Ellington and Armstrong ...</td>\n      <td>Appel, Alfred</td>\n      <td>0394533933</td>\n      <td>2002.</td>\n      <td>Alfred A. Knopf : Distributed by Random House,</td>\n      <td>Jazz History and criticism, Music and literatu...</td>\n      <td>acbk</td>\n      <td>canf</td>\n      <td>cen</td>\n      <td>08/01/2020</td>\n      <td>1</td>\n    </tr>\n  </tbody>\n</table>\n<p>10474 rows × 12 columns</p>\n</div>"
     },
     "execution_count": 4,
     "metadata": {},
     "output_type": "execute_result"
    }
   ],
   "source": [
    "books_1 = books.drop('FloatingItem', axis='columns')\n",
    "books_1"
   ],
   "metadata": {
    "collapsed": false,
    "ExecuteTime": {
     "end_time": "2023-11-26T13:51:20.248846300Z",
     "start_time": "2023-11-26T13:51:18.138081500Z"
    }
   },
   "id": "f4cc68a4273a04ec"
  },
  {
   "cell_type": "code",
   "execution_count": 5,
   "outputs": [
    {
     "data": {
      "text/plain": "                                                    ISBN\n0                              0500651752, 9780500651759\n1                              0762439157, 9780762439157\n2                              1911082256, 9781911082255\n3                              1423121082, 9781423121084\n4                              155597550X, 9781555975500\n...                                                  ...\n10469                          0451235843, 9780451235848\n10470  0823016188, 0823016226, 9780823016181, 9780823...\n10471                          133818959X, 9781338189599\n10472  1465447636, 1465449418, 9781465447630, 9781465...\n10473                                         0394533933\n\n[10474 rows x 1 columns]",
      "text/html": "<div>\n<style scoped>\n    .dataframe tbody tr th:only-of-type {\n        vertical-align: middle;\n    }\n\n    .dataframe tbody tr th {\n        vertical-align: top;\n    }\n\n    .dataframe thead th {\n        text-align: right;\n    }\n</style>\n<table border=\"1\" class=\"dataframe\">\n  <thead>\n    <tr style=\"text-align: right;\">\n      <th></th>\n      <th>ISBN</th>\n    </tr>\n  </thead>\n  <tbody>\n    <tr>\n      <th>0</th>\n      <td>0500651752, 9780500651759</td>\n    </tr>\n    <tr>\n      <th>1</th>\n      <td>0762439157, 9780762439157</td>\n    </tr>\n    <tr>\n      <th>2</th>\n      <td>1911082256, 9781911082255</td>\n    </tr>\n    <tr>\n      <th>3</th>\n      <td>1423121082, 9781423121084</td>\n    </tr>\n    <tr>\n      <th>4</th>\n      <td>155597550X, 9781555975500</td>\n    </tr>\n    <tr>\n      <th>...</th>\n      <td>...</td>\n    </tr>\n    <tr>\n      <th>10469</th>\n      <td>0451235843, 9780451235848</td>\n    </tr>\n    <tr>\n      <th>10470</th>\n      <td>0823016188, 0823016226, 9780823016181, 9780823...</td>\n    </tr>\n    <tr>\n      <th>10471</th>\n      <td>133818959X, 9781338189599</td>\n    </tr>\n    <tr>\n      <th>10472</th>\n      <td>1465447636, 1465449418, 9781465447630, 9781465...</td>\n    </tr>\n    <tr>\n      <th>10473</th>\n      <td>0394533933</td>\n    </tr>\n  </tbody>\n</table>\n<p>10474 rows × 1 columns</p>\n</div>"
     },
     "execution_count": 5,
     "metadata": {},
     "output_type": "execute_result"
    }
   ],
   "source": [
    "ISBN_dirty = pd.DataFrame()\n",
    "ISBN_dirty[['ISBN']] = books_1[['ISBN']]\n",
    "ISBN_dirty"
   ],
   "metadata": {
    "collapsed": false,
    "ExecuteTime": {
     "end_time": "2023-11-26T13:51:20.248846300Z",
     "start_time": "2023-11-26T13:51:18.151900300Z"
    }
   },
   "id": "4cfa8a362fa42e4a"
  },
  {
   "cell_type": "code",
   "execution_count": 6,
   "outputs": [
    {
     "name": "stdout",
     "output_type": "stream",
     "text": [
      "<class 'pandas.core.frame.DataFrame'>\n",
      "RangeIndex: 10474 entries, 0 to 10473\n",
      "Data columns (total 1 columns):\n",
      " #   Column  Non-Null Count  Dtype \n",
      "---  ------  --------------  ----- \n",
      " 0   ISBN    10474 non-null  string\n",
      "dtypes: string(1)\n",
      "memory usage: 82.0 KB\n"
     ]
    }
   ],
   "source": [
    "ISBN_dirty['ISBN'] = ISBN_dirty['ISBN'].astype('string')\n",
    "ISBN_dirty.info()"
   ],
   "metadata": {
    "collapsed": false,
    "ExecuteTime": {
     "end_time": "2023-11-26T13:51:20.248846300Z",
     "start_time": "2023-11-26T13:51:18.159653800Z"
    }
   },
   "id": "fbc9ca23bdd2ac16"
  },
  {
   "cell_type": "code",
   "execution_count": 7,
   "outputs": [
    {
     "data": {
      "text/plain": "                                                    ISBN  \\\n0                              0500651752, 9780500651759   \n1                              0762439157, 9780762439157   \n2                              1911082256, 9781911082255   \n3                              1423121082, 9781423121084   \n4                              155597550X, 9781555975500   \n...                                                  ...   \n10469                          0451235843, 9780451235848   \n10470  0823016188, 0823016226, 9780823016181, 9780823...   \n10471                          133818959X, 9781338189599   \n10472  1465447636, 1465449418, 9781465447630, 9781465...   \n10473                                         0394533933   \n\n                                               ISBN_list  \n0                            [0500651752, 9780500651759]  \n1                            [0762439157, 9780762439157]  \n2                            [1911082256, 9781911082255]  \n3                            [1423121082, 9781423121084]  \n4                            [155597550X, 9781555975500]  \n...                                                  ...  \n10469                        [0451235843, 9780451235848]  \n10470  [0823016188, 0823016226, 9780823016181, 978082...  \n10471                        [133818959X, 9781338189599]  \n10472  [1465447636, 1465449418, 9781465447630, 978146...  \n10473                                       [0394533933]  \n\n[10474 rows x 2 columns]",
      "text/html": "<div>\n<style scoped>\n    .dataframe tbody tr th:only-of-type {\n        vertical-align: middle;\n    }\n\n    .dataframe tbody tr th {\n        vertical-align: top;\n    }\n\n    .dataframe thead th {\n        text-align: right;\n    }\n</style>\n<table border=\"1\" class=\"dataframe\">\n  <thead>\n    <tr style=\"text-align: right;\">\n      <th></th>\n      <th>ISBN</th>\n      <th>ISBN_list</th>\n    </tr>\n  </thead>\n  <tbody>\n    <tr>\n      <th>0</th>\n      <td>0500651752, 9780500651759</td>\n      <td>[0500651752, 9780500651759]</td>\n    </tr>\n    <tr>\n      <th>1</th>\n      <td>0762439157, 9780762439157</td>\n      <td>[0762439157, 9780762439157]</td>\n    </tr>\n    <tr>\n      <th>2</th>\n      <td>1911082256, 9781911082255</td>\n      <td>[1911082256, 9781911082255]</td>\n    </tr>\n    <tr>\n      <th>3</th>\n      <td>1423121082, 9781423121084</td>\n      <td>[1423121082, 9781423121084]</td>\n    </tr>\n    <tr>\n      <th>4</th>\n      <td>155597550X, 9781555975500</td>\n      <td>[155597550X, 9781555975500]</td>\n    </tr>\n    <tr>\n      <th>...</th>\n      <td>...</td>\n      <td>...</td>\n    </tr>\n    <tr>\n      <th>10469</th>\n      <td>0451235843, 9780451235848</td>\n      <td>[0451235843, 9780451235848]</td>\n    </tr>\n    <tr>\n      <th>10470</th>\n      <td>0823016188, 0823016226, 9780823016181, 9780823...</td>\n      <td>[0823016188, 0823016226, 9780823016181, 978082...</td>\n    </tr>\n    <tr>\n      <th>10471</th>\n      <td>133818959X, 9781338189599</td>\n      <td>[133818959X, 9781338189599]</td>\n    </tr>\n    <tr>\n      <th>10472</th>\n      <td>1465447636, 1465449418, 9781465447630, 9781465...</td>\n      <td>[1465447636, 1465449418, 9781465447630, 978146...</td>\n    </tr>\n    <tr>\n      <th>10473</th>\n      <td>0394533933</td>\n      <td>[0394533933]</td>\n    </tr>\n  </tbody>\n</table>\n<p>10474 rows × 2 columns</p>\n</div>"
     },
     "execution_count": 7,
     "metadata": {},
     "output_type": "execute_result"
    }
   ],
   "source": [
    "ISBN_dirty['ISBN_list'] = ISBN_dirty['ISBN'].str.split(', ').tolist()\n",
    "ISBN_dirty"
   ],
   "metadata": {
    "collapsed": false,
    "ExecuteTime": {
     "end_time": "2023-11-26T13:51:20.249846400Z",
     "start_time": "2023-11-26T13:51:18.168805700Z"
    }
   },
   "id": "3c1f30e1ae213b9e"
  },
  {
   "cell_type": "code",
   "execution_count": 8,
   "outputs": [],
   "source": [
    "import re"
   ],
   "metadata": {
    "collapsed": false,
    "ExecuteTime": {
     "end_time": "2023-11-26T13:51:20.249846400Z",
     "start_time": "2023-11-26T13:51:18.183481900Z"
    }
   },
   "id": "1cc65233d241b8f1"
  },
  {
   "cell_type": "code",
   "execution_count": 9,
   "outputs": [],
   "source": [
    "def check_isbn_10(isbn_list):\n",
    "    isbn_10 = r\"^(?:ISBN(?:-10)?:?\\ )?(?=[0-9X]{10}$|(?=(?:[0-9]+[-\\ ]){3})[-\\ 0-9X]{13}$)[0-9]{1,5}[-\\ ]?[0-9]+[-\\ ]?[0-9]+[-\\ ]?[0-9X]$\"\n",
    "    isbn_13 = r\"^(?:ISBN(?:-13)?:?\\ )?(?=[0-9]{13}$|(?=(?:[0-9]+[-\\ ]){4})[-\\ 0-9]{17}$)97[89][-\\ ]?[0-9]{1,5}[-\\ ]?[0-9]+[-\\ ]?[0-9]+[-\\ ]?[0-9]$\"\n",
    "    for i in range(len(isbn_list)):\n",
    "        if ((re.search(isbn_10, isbn_list[i]) is not None) and (re.search(isbn_13, isbn_list[i]) is None)):\n",
    "            return isbn_list[i]\n",
    "    return None"
   ],
   "metadata": {
    "collapsed": false,
    "ExecuteTime": {
     "end_time": "2023-11-26T13:51:20.249846400Z",
     "start_time": "2023-11-26T13:51:18.185990700Z"
    }
   },
   "id": "4f7a2a7651353016"
  },
  {
   "cell_type": "code",
   "execution_count": 10,
   "outputs": [],
   "source": [
    "ISBN_dirty['ISBN_10'] = ISBN_dirty['ISBN_list'].apply(check_isbn_10)"
   ],
   "metadata": {
    "collapsed": false,
    "ExecuteTime": {
     "end_time": "2023-11-26T13:51:20.249846400Z",
     "start_time": "2023-11-26T13:51:18.189430700Z"
    }
   },
   "id": "93d61f8f22651dc3"
  },
  {
   "cell_type": "code",
   "execution_count": 11,
   "outputs": [
    {
     "data": {
      "text/plain": "                                                    ISBN  \\\n0                              0500651752, 9780500651759   \n1                              0762439157, 9780762439157   \n2                              1911082256, 9781911082255   \n3                              1423121082, 9781423121084   \n4                              155597550X, 9781555975500   \n...                                                  ...   \n10469                          0451235843, 9780451235848   \n10470  0823016188, 0823016226, 9780823016181, 9780823...   \n10471                          133818959X, 9781338189599   \n10472  1465447636, 1465449418, 9781465447630, 9781465...   \n10473                                         0394533933   \n\n                                               ISBN_list     ISBN_10  \n0                            [0500651752, 9780500651759]  0500651752  \n1                            [0762439157, 9780762439157]  0762439157  \n2                            [1911082256, 9781911082255]  1911082256  \n3                            [1423121082, 9781423121084]  1423121082  \n4                            [155597550X, 9781555975500]  155597550X  \n...                                                  ...         ...  \n10469                        [0451235843, 9780451235848]  0451235843  \n10470  [0823016188, 0823016226, 9780823016181, 978082...  0823016188  \n10471                        [133818959X, 9781338189599]  133818959X  \n10472  [1465447636, 1465449418, 9781465447630, 978146...  1465447636  \n10473                                       [0394533933]  0394533933  \n\n[10474 rows x 3 columns]",
      "text/html": "<div>\n<style scoped>\n    .dataframe tbody tr th:only-of-type {\n        vertical-align: middle;\n    }\n\n    .dataframe tbody tr th {\n        vertical-align: top;\n    }\n\n    .dataframe thead th {\n        text-align: right;\n    }\n</style>\n<table border=\"1\" class=\"dataframe\">\n  <thead>\n    <tr style=\"text-align: right;\">\n      <th></th>\n      <th>ISBN</th>\n      <th>ISBN_list</th>\n      <th>ISBN_10</th>\n    </tr>\n  </thead>\n  <tbody>\n    <tr>\n      <th>0</th>\n      <td>0500651752, 9780500651759</td>\n      <td>[0500651752, 9780500651759]</td>\n      <td>0500651752</td>\n    </tr>\n    <tr>\n      <th>1</th>\n      <td>0762439157, 9780762439157</td>\n      <td>[0762439157, 9780762439157]</td>\n      <td>0762439157</td>\n    </tr>\n    <tr>\n      <th>2</th>\n      <td>1911082256, 9781911082255</td>\n      <td>[1911082256, 9781911082255]</td>\n      <td>1911082256</td>\n    </tr>\n    <tr>\n      <th>3</th>\n      <td>1423121082, 9781423121084</td>\n      <td>[1423121082, 9781423121084]</td>\n      <td>1423121082</td>\n    </tr>\n    <tr>\n      <th>4</th>\n      <td>155597550X, 9781555975500</td>\n      <td>[155597550X, 9781555975500]</td>\n      <td>155597550X</td>\n    </tr>\n    <tr>\n      <th>...</th>\n      <td>...</td>\n      <td>...</td>\n      <td>...</td>\n    </tr>\n    <tr>\n      <th>10469</th>\n      <td>0451235843, 9780451235848</td>\n      <td>[0451235843, 9780451235848]</td>\n      <td>0451235843</td>\n    </tr>\n    <tr>\n      <th>10470</th>\n      <td>0823016188, 0823016226, 9780823016181, 9780823...</td>\n      <td>[0823016188, 0823016226, 9780823016181, 978082...</td>\n      <td>0823016188</td>\n    </tr>\n    <tr>\n      <th>10471</th>\n      <td>133818959X, 9781338189599</td>\n      <td>[133818959X, 9781338189599]</td>\n      <td>133818959X</td>\n    </tr>\n    <tr>\n      <th>10472</th>\n      <td>1465447636, 1465449418, 9781465447630, 9781465...</td>\n      <td>[1465447636, 1465449418, 9781465447630, 978146...</td>\n      <td>1465447636</td>\n    </tr>\n    <tr>\n      <th>10473</th>\n      <td>0394533933</td>\n      <td>[0394533933]</td>\n      <td>0394533933</td>\n    </tr>\n  </tbody>\n</table>\n<p>10474 rows × 3 columns</p>\n</div>"
     },
     "execution_count": 11,
     "metadata": {},
     "output_type": "execute_result"
    }
   ],
   "source": [
    "ISBN_dirty"
   ],
   "metadata": {
    "collapsed": false,
    "ExecuteTime": {
     "end_time": "2023-11-26T13:51:20.249846400Z",
     "start_time": "2023-11-26T13:51:18.210245100Z"
    }
   },
   "id": "6488052a0e82d15e"
  },
  {
   "cell_type": "code",
   "execution_count": 12,
   "outputs": [],
   "source": [
    "def check_isbn_13(isbn_list):\n",
    "    isbn_10 = r\"^(?:ISBN(?:-10)?:?\\ )?(?=[0-9X]{10}$|(?=(?:[0-9]+[-\\ ]){3})[-\\ 0-9X]{13}$)[0-9]{1,5}[-\\ ]?[0-9]+[-\\ ]?[0-9]+[-\\ ]?[0-9X]$\"\n",
    "    isbn_13 = r\"^(?:ISBN(?:-13)?:?\\ )?(?=[0-9]{13}$|(?=(?:[0-9]+[-\\ ]){4})[-\\ 0-9]{17}$)97[89][-\\ ]?[0-9]{1,5}[-\\ ]?[0-9]+[-\\ ]?[0-9]+[-\\ ]?[0-9]$\"\n",
    "    for i in range(len(isbn_list)):\n",
    "        if ((re.search(isbn_10, isbn_list[i]) is None) and (re.search(isbn_13, isbn_list[i]) is not None)):\n",
    "            return isbn_list[i]\n",
    "    return None"
   ],
   "metadata": {
    "collapsed": false,
    "ExecuteTime": {
     "end_time": "2023-11-26T13:51:20.249846400Z",
     "start_time": "2023-11-26T13:51:18.219462200Z"
    }
   },
   "id": "f7bdf10788d32f39"
  },
  {
   "cell_type": "code",
   "execution_count": 13,
   "outputs": [],
   "source": [
    "ISBN_dirty['ISBN_13'] = ISBN_dirty['ISBN_list'].apply(check_isbn_13)"
   ],
   "metadata": {
    "collapsed": false,
    "ExecuteTime": {
     "end_time": "2023-11-26T13:51:20.249846400Z",
     "start_time": "2023-11-26T13:51:18.223020800Z"
    }
   },
   "id": "24d0d4bb64885aa"
  },
  {
   "cell_type": "code",
   "execution_count": 14,
   "outputs": [
    {
     "data": {
      "text/plain": "                                                    ISBN  \\\n0                              0500651752, 9780500651759   \n1                              0762439157, 9780762439157   \n2                              1911082256, 9781911082255   \n3                              1423121082, 9781423121084   \n4                              155597550X, 9781555975500   \n...                                                  ...   \n10469                          0451235843, 9780451235848   \n10470  0823016188, 0823016226, 9780823016181, 9780823...   \n10471                          133818959X, 9781338189599   \n10472  1465447636, 1465449418, 9781465447630, 9781465...   \n10473                                         0394533933   \n\n                                               ISBN_list     ISBN_10  \\\n0                            [0500651752, 9780500651759]  0500651752   \n1                            [0762439157, 9780762439157]  0762439157   \n2                            [1911082256, 9781911082255]  1911082256   \n3                            [1423121082, 9781423121084]  1423121082   \n4                            [155597550X, 9781555975500]  155597550X   \n...                                                  ...         ...   \n10469                        [0451235843, 9780451235848]  0451235843   \n10470  [0823016188, 0823016226, 9780823016181, 978082...  0823016188   \n10471                        [133818959X, 9781338189599]  133818959X   \n10472  [1465447636, 1465449418, 9781465447630, 978146...  1465447636   \n10473                                       [0394533933]  0394533933   \n\n             ISBN_13  \n0      9780500651759  \n1      9780762439157  \n2      9781911082255  \n3      9781423121084  \n4      9781555975500  \n...              ...  \n10469  9780451235848  \n10470  9780823016181  \n10471  9781338189599  \n10472  9781465447630  \n10473           None  \n\n[10474 rows x 4 columns]",
      "text/html": "<div>\n<style scoped>\n    .dataframe tbody tr th:only-of-type {\n        vertical-align: middle;\n    }\n\n    .dataframe tbody tr th {\n        vertical-align: top;\n    }\n\n    .dataframe thead th {\n        text-align: right;\n    }\n</style>\n<table border=\"1\" class=\"dataframe\">\n  <thead>\n    <tr style=\"text-align: right;\">\n      <th></th>\n      <th>ISBN</th>\n      <th>ISBN_list</th>\n      <th>ISBN_10</th>\n      <th>ISBN_13</th>\n    </tr>\n  </thead>\n  <tbody>\n    <tr>\n      <th>0</th>\n      <td>0500651752, 9780500651759</td>\n      <td>[0500651752, 9780500651759]</td>\n      <td>0500651752</td>\n      <td>9780500651759</td>\n    </tr>\n    <tr>\n      <th>1</th>\n      <td>0762439157, 9780762439157</td>\n      <td>[0762439157, 9780762439157]</td>\n      <td>0762439157</td>\n      <td>9780762439157</td>\n    </tr>\n    <tr>\n      <th>2</th>\n      <td>1911082256, 9781911082255</td>\n      <td>[1911082256, 9781911082255]</td>\n      <td>1911082256</td>\n      <td>9781911082255</td>\n    </tr>\n    <tr>\n      <th>3</th>\n      <td>1423121082, 9781423121084</td>\n      <td>[1423121082, 9781423121084]</td>\n      <td>1423121082</td>\n      <td>9781423121084</td>\n    </tr>\n    <tr>\n      <th>4</th>\n      <td>155597550X, 9781555975500</td>\n      <td>[155597550X, 9781555975500]</td>\n      <td>155597550X</td>\n      <td>9781555975500</td>\n    </tr>\n    <tr>\n      <th>...</th>\n      <td>...</td>\n      <td>...</td>\n      <td>...</td>\n      <td>...</td>\n    </tr>\n    <tr>\n      <th>10469</th>\n      <td>0451235843, 9780451235848</td>\n      <td>[0451235843, 9780451235848]</td>\n      <td>0451235843</td>\n      <td>9780451235848</td>\n    </tr>\n    <tr>\n      <th>10470</th>\n      <td>0823016188, 0823016226, 9780823016181, 9780823...</td>\n      <td>[0823016188, 0823016226, 9780823016181, 978082...</td>\n      <td>0823016188</td>\n      <td>9780823016181</td>\n    </tr>\n    <tr>\n      <th>10471</th>\n      <td>133818959X, 9781338189599</td>\n      <td>[133818959X, 9781338189599]</td>\n      <td>133818959X</td>\n      <td>9781338189599</td>\n    </tr>\n    <tr>\n      <th>10472</th>\n      <td>1465447636, 1465449418, 9781465447630, 9781465...</td>\n      <td>[1465447636, 1465449418, 9781465447630, 978146...</td>\n      <td>1465447636</td>\n      <td>9781465447630</td>\n    </tr>\n    <tr>\n      <th>10473</th>\n      <td>0394533933</td>\n      <td>[0394533933]</td>\n      <td>0394533933</td>\n      <td>None</td>\n    </tr>\n  </tbody>\n</table>\n<p>10474 rows × 4 columns</p>\n</div>"
     },
     "execution_count": 14,
     "metadata": {},
     "output_type": "execute_result"
    }
   ],
   "source": [
    "ISBN_dirty"
   ],
   "metadata": {
    "collapsed": false,
    "ExecuteTime": {
     "end_time": "2023-11-26T13:51:20.262353Z",
     "start_time": "2023-11-26T13:51:18.252397500Z"
    }
   },
   "id": "892658a36cf61c6"
  },
  {
   "cell_type": "code",
   "execution_count": 15,
   "outputs": [
    {
     "data": {
      "text/plain": "                                            Publisher\n0                                  Thames and Hudson,\n1                                      Running Press,\n2                                          Footprint,\n3                                    Disney Hyperion,\n4                                     Graywolf Press,\n...                                               ...\n10469                           New American Library,\n10470                    Watson-Guptill Publications,\n10471                                Scholastic Inc.,\n10472                                  DK Publishing,\n10473  Alfred A. Knopf : Distributed by Random House,\n\n[10474 rows x 1 columns]",
      "text/html": "<div>\n<style scoped>\n    .dataframe tbody tr th:only-of-type {\n        vertical-align: middle;\n    }\n\n    .dataframe tbody tr th {\n        vertical-align: top;\n    }\n\n    .dataframe thead th {\n        text-align: right;\n    }\n</style>\n<table border=\"1\" class=\"dataframe\">\n  <thead>\n    <tr style=\"text-align: right;\">\n      <th></th>\n      <th>Publisher</th>\n    </tr>\n  </thead>\n  <tbody>\n    <tr>\n      <th>0</th>\n      <td>Thames and Hudson,</td>\n    </tr>\n    <tr>\n      <th>1</th>\n      <td>Running Press,</td>\n    </tr>\n    <tr>\n      <th>2</th>\n      <td>Footprint,</td>\n    </tr>\n    <tr>\n      <th>3</th>\n      <td>Disney Hyperion,</td>\n    </tr>\n    <tr>\n      <th>4</th>\n      <td>Graywolf Press,</td>\n    </tr>\n    <tr>\n      <th>...</th>\n      <td>...</td>\n    </tr>\n    <tr>\n      <th>10469</th>\n      <td>New American Library,</td>\n    </tr>\n    <tr>\n      <th>10470</th>\n      <td>Watson-Guptill Publications,</td>\n    </tr>\n    <tr>\n      <th>10471</th>\n      <td>Scholastic Inc.,</td>\n    </tr>\n    <tr>\n      <th>10472</th>\n      <td>DK Publishing,</td>\n    </tr>\n    <tr>\n      <th>10473</th>\n      <td>Alfred A. Knopf : Distributed by Random House,</td>\n    </tr>\n  </tbody>\n</table>\n<p>10474 rows × 1 columns</p>\n</div>"
     },
     "execution_count": 15,
     "metadata": {},
     "output_type": "execute_result"
    }
   ],
   "source": [
    "publishers_dirty = pd.DataFrame()\n",
    "publishers_dirty[['Publisher']] = books_1[['Publisher']]\n",
    "publishers_dirty"
   ],
   "metadata": {
    "collapsed": false,
    "ExecuteTime": {
     "end_time": "2023-11-26T13:51:20.263352600Z",
     "start_time": "2023-11-26T13:51:18.261165700Z"
    }
   },
   "id": "80b46fcb46518f7"
  },
  {
   "cell_type": "code",
   "execution_count": 16,
   "outputs": [],
   "source": [
    "publishers_dirty_unique = pd.DataFrame()"
   ],
   "metadata": {
    "collapsed": false,
    "ExecuteTime": {
     "end_time": "2023-11-26T13:51:20.263352600Z",
     "start_time": "2023-11-26T13:51:18.265364500Z"
    }
   },
   "id": "7f0e0a0e708daa03"
  },
  {
   "cell_type": "code",
   "execution_count": 17,
   "outputs": [
    {
     "data": {
      "text/plain": "                                           Publisher\n0                                  Thames and Hudson\n1                                      Running Press\n2                                          Footprint\n3                                    Disney Hyperion\n4                                     Graywolf Press\n...                                              ...\n10469                           New American Library\n10470                    Watson-Guptill Publications\n10471                                Scholastic Inc.\n10472                                  DK Publishing\n10473  Alfred A. Knopf : Distributed by Random House\n\n[10474 rows x 1 columns]",
      "text/html": "<div>\n<style scoped>\n    .dataframe tbody tr th:only-of-type {\n        vertical-align: middle;\n    }\n\n    .dataframe tbody tr th {\n        vertical-align: top;\n    }\n\n    .dataframe thead th {\n        text-align: right;\n    }\n</style>\n<table border=\"1\" class=\"dataframe\">\n  <thead>\n    <tr style=\"text-align: right;\">\n      <th></th>\n      <th>Publisher</th>\n    </tr>\n  </thead>\n  <tbody>\n    <tr>\n      <th>0</th>\n      <td>Thames and Hudson</td>\n    </tr>\n    <tr>\n      <th>1</th>\n      <td>Running Press</td>\n    </tr>\n    <tr>\n      <th>2</th>\n      <td>Footprint</td>\n    </tr>\n    <tr>\n      <th>3</th>\n      <td>Disney Hyperion</td>\n    </tr>\n    <tr>\n      <th>4</th>\n      <td>Graywolf Press</td>\n    </tr>\n    <tr>\n      <th>...</th>\n      <td>...</td>\n    </tr>\n    <tr>\n      <th>10469</th>\n      <td>New American Library</td>\n    </tr>\n    <tr>\n      <th>10470</th>\n      <td>Watson-Guptill Publications</td>\n    </tr>\n    <tr>\n      <th>10471</th>\n      <td>Scholastic Inc.</td>\n    </tr>\n    <tr>\n      <th>10472</th>\n      <td>DK Publishing</td>\n    </tr>\n    <tr>\n      <th>10473</th>\n      <td>Alfred A. Knopf : Distributed by Random House</td>\n    </tr>\n  </tbody>\n</table>\n<p>10474 rows × 1 columns</p>\n</div>"
     },
     "execution_count": 17,
     "metadata": {},
     "output_type": "execute_result"
    }
   ],
   "source": [
    "publishers_dirty_unique['Publisher'] = publishers_dirty['Publisher'].astype('string')\n",
    "publishers_dirty_unique['Publisher'] = publishers_dirty_unique['Publisher'].str.strip(',')\n",
    "publishers_dirty_unique"
   ],
   "metadata": {
    "collapsed": false,
    "ExecuteTime": {
     "end_time": "2023-11-26T13:51:20.263352600Z",
     "start_time": "2023-11-26T13:51:18.269129100Z"
    }
   },
   "id": "8db6810b0a3d94a9"
  },
  {
   "cell_type": "code",
   "execution_count": 18,
   "outputs": [
    {
     "data": {
      "text/plain": "3230"
     },
     "execution_count": 18,
     "metadata": {},
     "output_type": "execute_result"
    }
   ],
   "source": [
    "len(publishers_dirty_unique['Publisher'].unique())"
   ],
   "metadata": {
    "collapsed": false,
    "ExecuteTime": {
     "end_time": "2023-11-26T13:51:20.264353200Z",
     "start_time": "2023-11-26T13:51:18.280151700Z"
    }
   },
   "id": "a5d89122a1c8315e"
  },
  {
   "cell_type": "code",
   "execution_count": 19,
   "outputs": [
    {
     "name": "stdout",
     "output_type": "stream",
     "text": [
      "<StringArray>\n",
      "[                                           'Thames and Hudson',\n",
      "                                                'Running Press',\n",
      "                                                    'Footprint',\n",
      "                                              'Disney Hyperion',\n",
      "                                               'Graywolf Press',\n",
      "                                                  'McGraw-Hill',\n",
      "                                          'Skyhorse Publishing',\n",
      "                                                'Penguin Press',\n",
      "                                                    'DC Comics',\n",
      "               'Hanuman Foundation : Distributed by Crown Pub.',\n",
      " ...\n",
      "                                                    'Charnwood',\n",
      " 'Combat Studies Institute Press, US Army Combined Arms Center',\n",
      "       'Philomel Books, an imprint of Penguin Random House LLC',\n",
      "                                     'Chatto & Windus ; Norton',\n",
      "                         'Catholic University of America Press',\n",
      "                                           'The Modern Library',\n",
      "                                               'Conran Octopus',\n",
      "                'New Press : Distributed by W. W. Norton & Co.',\n",
      "                                'HistoryLink/Documentary Media',\n",
      "              'Christy Ottaviano Books, Henry Holt and Company']\n",
      "Length: 3230, dtype: string\n"
     ]
    }
   ],
   "source": [
    "print(publishers_dirty_unique['Publisher'].unique())"
   ],
   "metadata": {
    "collapsed": false,
    "ExecuteTime": {
     "end_time": "2023-11-26T13:51:20.264353200Z",
     "start_time": "2023-11-26T13:51:18.283665800Z"
    }
   },
   "id": "bb081d2cb4ba7137"
  },
  {
   "cell_type": "code",
   "execution_count": 20,
   "outputs": [
    {
     "data": {
      "text/plain": "                                           Publisher\n0                                  thames and hudson\n1                                      running press\n2                                          footprint\n3                                    disney hyperion\n4                                     graywolf press\n...                                              ...\n10469                           new american library\n10470                    watson-guptill publications\n10471                                scholastic inc.\n10472                                  dk publishing\n10473  alfred a. knopf : distributed by random house\n\n[10474 rows x 1 columns]",
      "text/html": "<div>\n<style scoped>\n    .dataframe tbody tr th:only-of-type {\n        vertical-align: middle;\n    }\n\n    .dataframe tbody tr th {\n        vertical-align: top;\n    }\n\n    .dataframe thead th {\n        text-align: right;\n    }\n</style>\n<table border=\"1\" class=\"dataframe\">\n  <thead>\n    <tr style=\"text-align: right;\">\n      <th></th>\n      <th>Publisher</th>\n    </tr>\n  </thead>\n  <tbody>\n    <tr>\n      <th>0</th>\n      <td>thames and hudson</td>\n    </tr>\n    <tr>\n      <th>1</th>\n      <td>running press</td>\n    </tr>\n    <tr>\n      <th>2</th>\n      <td>footprint</td>\n    </tr>\n    <tr>\n      <th>3</th>\n      <td>disney hyperion</td>\n    </tr>\n    <tr>\n      <th>4</th>\n      <td>graywolf press</td>\n    </tr>\n    <tr>\n      <th>...</th>\n      <td>...</td>\n    </tr>\n    <tr>\n      <th>10469</th>\n      <td>new american library</td>\n    </tr>\n    <tr>\n      <th>10470</th>\n      <td>watson-guptill publications</td>\n    </tr>\n    <tr>\n      <th>10471</th>\n      <td>scholastic inc.</td>\n    </tr>\n    <tr>\n      <th>10472</th>\n      <td>dk publishing</td>\n    </tr>\n    <tr>\n      <th>10473</th>\n      <td>alfred a. knopf : distributed by random house</td>\n    </tr>\n  </tbody>\n</table>\n<p>10474 rows × 1 columns</p>\n</div>"
     },
     "execution_count": 20,
     "metadata": {},
     "output_type": "execute_result"
    }
   ],
   "source": [
    "publishers_dirty_unique['Publisher'] = publishers_dirty_unique['Publisher'].str.lower()\n",
    "publishers_dirty_unique"
   ],
   "metadata": {
    "collapsed": false,
    "ExecuteTime": {
     "end_time": "2023-11-26T13:51:20.264353200Z",
     "start_time": "2023-11-26T13:51:18.287927700Z"
    }
   },
   "id": "b783258471ef5127"
  },
  {
   "cell_type": "code",
   "execution_count": 21,
   "outputs": [],
   "source": [
    "publishers_dirty_unique['Publisher'] = publishers_dirty_unique['Publisher'].str.split('/')"
   ],
   "metadata": {
    "collapsed": false,
    "ExecuteTime": {
     "end_time": "2023-11-26T13:51:20.264353200Z",
     "start_time": "2023-11-26T13:51:18.298533900Z"
    }
   },
   "id": "305d55c3db421629"
  },
  {
   "cell_type": "code",
   "execution_count": 22,
   "outputs": [
    {
     "data": {
      "text/plain": "                                             Publisher DivPublisher\n0                                  [thames and hudson]            /\n1                                      [running press]            /\n2                                          [footprint]            /\n3                                    [disney hyperion]            /\n4                                     [graywolf press]            /\n...                                                ...          ...\n10469                           [new american library]            /\n10470                    [watson-guptill publications]            /\n10471                                [scholastic inc.]            /\n10472                                  [dk publishing]            /\n10473  [alfred a. knopf : distributed by random house]            /\n\n[10474 rows x 2 columns]",
      "text/html": "<div>\n<style scoped>\n    .dataframe tbody tr th:only-of-type {\n        vertical-align: middle;\n    }\n\n    .dataframe tbody tr th {\n        vertical-align: top;\n    }\n\n    .dataframe thead th {\n        text-align: right;\n    }\n</style>\n<table border=\"1\" class=\"dataframe\">\n  <thead>\n    <tr style=\"text-align: right;\">\n      <th></th>\n      <th>Publisher</th>\n      <th>DivPublisher</th>\n    </tr>\n  </thead>\n  <tbody>\n    <tr>\n      <th>0</th>\n      <td>[thames and hudson]</td>\n      <td>/</td>\n    </tr>\n    <tr>\n      <th>1</th>\n      <td>[running press]</td>\n      <td>/</td>\n    </tr>\n    <tr>\n      <th>2</th>\n      <td>[footprint]</td>\n      <td>/</td>\n    </tr>\n    <tr>\n      <th>3</th>\n      <td>[disney hyperion]</td>\n      <td>/</td>\n    </tr>\n    <tr>\n      <th>4</th>\n      <td>[graywolf press]</td>\n      <td>/</td>\n    </tr>\n    <tr>\n      <th>...</th>\n      <td>...</td>\n      <td>...</td>\n    </tr>\n    <tr>\n      <th>10469</th>\n      <td>[new american library]</td>\n      <td>/</td>\n    </tr>\n    <tr>\n      <th>10470</th>\n      <td>[watson-guptill publications]</td>\n      <td>/</td>\n    </tr>\n    <tr>\n      <th>10471</th>\n      <td>[scholastic inc.]</td>\n      <td>/</td>\n    </tr>\n    <tr>\n      <th>10472</th>\n      <td>[dk publishing]</td>\n      <td>/</td>\n    </tr>\n    <tr>\n      <th>10473</th>\n      <td>[alfred a. knopf : distributed by random house]</td>\n      <td>/</td>\n    </tr>\n  </tbody>\n</table>\n<p>10474 rows × 2 columns</p>\n</div>"
     },
     "execution_count": 22,
     "metadata": {},
     "output_type": "execute_result"
    }
   ],
   "source": [
    "publishers_dirty_unique['DivPublisher'] = publishers_dirty_unique['Publisher'].apply(lambda x : str.split(\"/\")[0])\n",
    "publishers_dirty_unique"
   ],
   "metadata": {
    "collapsed": false,
    "ExecuteTime": {
     "end_time": "2023-11-26T13:51:20.264353200Z",
     "start_time": "2023-11-26T13:51:18.301042600Z"
    }
   },
   "id": "5b6d9f7e26d086b4"
  },
  {
   "cell_type": "code",
   "execution_count": 23,
   "outputs": [
    {
     "data": {
      "text/plain": "                                             Publisher DivPublisher  \\\n0                                  [thames and hudson]            /   \n1                                      [running press]            /   \n2                                          [footprint]            /   \n3                                    [disney hyperion]            /   \n4                                     [graywolf press]            /   \n...                                                ...          ...   \n10469                           [new american library]            /   \n10470                    [watson-guptill publications]            /   \n10471                                [scholastic inc.]            /   \n10472                                  [dk publishing]            /   \n10473  [alfred a. knopf : distributed by random house]            /   \n\n                                          CleanPub  \n0                                thames and hudson  \n1                                    running press  \n2                                        footprint  \n3                                  disney hyperion  \n4                                   graywolf press  \n...                                            ...  \n10469                         new american library  \n10470                   watsonguptill publications  \n10471                               scholastic inc  \n10472                                dk publishing  \n10473  alfred a knopf  distributed by random house  \n\n[10474 rows x 3 columns]",
      "text/html": "<div>\n<style scoped>\n    .dataframe tbody tr th:only-of-type {\n        vertical-align: middle;\n    }\n\n    .dataframe tbody tr th {\n        vertical-align: top;\n    }\n\n    .dataframe thead th {\n        text-align: right;\n    }\n</style>\n<table border=\"1\" class=\"dataframe\">\n  <thead>\n    <tr style=\"text-align: right;\">\n      <th></th>\n      <th>Publisher</th>\n      <th>DivPublisher</th>\n      <th>CleanPub</th>\n    </tr>\n  </thead>\n  <tbody>\n    <tr>\n      <th>0</th>\n      <td>[thames and hudson]</td>\n      <td>/</td>\n      <td>thames and hudson</td>\n    </tr>\n    <tr>\n      <th>1</th>\n      <td>[running press]</td>\n      <td>/</td>\n      <td>running press</td>\n    </tr>\n    <tr>\n      <th>2</th>\n      <td>[footprint]</td>\n      <td>/</td>\n      <td>footprint</td>\n    </tr>\n    <tr>\n      <th>3</th>\n      <td>[disney hyperion]</td>\n      <td>/</td>\n      <td>disney hyperion</td>\n    </tr>\n    <tr>\n      <th>4</th>\n      <td>[graywolf press]</td>\n      <td>/</td>\n      <td>graywolf press</td>\n    </tr>\n    <tr>\n      <th>...</th>\n      <td>...</td>\n      <td>...</td>\n      <td>...</td>\n    </tr>\n    <tr>\n      <th>10469</th>\n      <td>[new american library]</td>\n      <td>/</td>\n      <td>new american library</td>\n    </tr>\n    <tr>\n      <th>10470</th>\n      <td>[watson-guptill publications]</td>\n      <td>/</td>\n      <td>watsonguptill publications</td>\n    </tr>\n    <tr>\n      <th>10471</th>\n      <td>[scholastic inc.]</td>\n      <td>/</td>\n      <td>scholastic inc</td>\n    </tr>\n    <tr>\n      <th>10472</th>\n      <td>[dk publishing]</td>\n      <td>/</td>\n      <td>dk publishing</td>\n    </tr>\n    <tr>\n      <th>10473</th>\n      <td>[alfred a. knopf : distributed by random house]</td>\n      <td>/</td>\n      <td>alfred a knopf  distributed by random house</td>\n    </tr>\n  </tbody>\n</table>\n<p>10474 rows × 3 columns</p>\n</div>"
     },
     "execution_count": 23,
     "metadata": {},
     "output_type": "execute_result"
    }
   ],
   "source": [
    "publishers_dirty_unique['CleanPub'] = publishers_dirty_unique['Publisher'].apply(lambda x : re.sub(r\"(@\\[A-Za-z0-9]+)|([^0-9A-Za-z \\t])|(\\w+:\\/\\/\\S+)|^rt|http.+?\", \"\", str(x)))\n",
    "publishers_dirty_unique"
   ],
   "metadata": {
    "collapsed": false,
    "ExecuteTime": {
     "end_time": "2023-11-26T13:51:20.265353400Z",
     "start_time": "2023-11-26T13:51:18.310207600Z"
    }
   },
   "id": "c88b38fd36ee642f"
  },
  {
   "cell_type": "code",
   "execution_count": 24,
   "outputs": [
    {
     "data": {
      "text/plain": "                                             Publisher DivPublisher  \\\n0                                  [thames and hudson]            /   \n1                                      [running press]            /   \n2                                          [footprint]            /   \n3                                    [disney hyperion]            /   \n4                                     [graywolf press]            /   \n...                                                ...          ...   \n10469                           [new american library]            /   \n10470                    [watson-guptill publications]            /   \n10471                                [scholastic inc.]            /   \n10472                                  [dk publishing]            /   \n10473  [alfred a. knopf : distributed by random house]            /   \n\n                                         CleanPub  \n0                               thames and hudson  \n1                                   running press  \n2                                       footprint  \n3                                 disney hyperion  \n4                                  graywolf press  \n...                                           ...  \n10469                        new american library  \n10470                  watsonguptill publications  \n10471                              scholastic inc  \n10472                               dk publishing  \n10473  alfred a knopf distributed by random house  \n\n[10474 rows x 3 columns]",
      "text/html": "<div>\n<style scoped>\n    .dataframe tbody tr th:only-of-type {\n        vertical-align: middle;\n    }\n\n    .dataframe tbody tr th {\n        vertical-align: top;\n    }\n\n    .dataframe thead th {\n        text-align: right;\n    }\n</style>\n<table border=\"1\" class=\"dataframe\">\n  <thead>\n    <tr style=\"text-align: right;\">\n      <th></th>\n      <th>Publisher</th>\n      <th>DivPublisher</th>\n      <th>CleanPub</th>\n    </tr>\n  </thead>\n  <tbody>\n    <tr>\n      <th>0</th>\n      <td>[thames and hudson]</td>\n      <td>/</td>\n      <td>thames and hudson</td>\n    </tr>\n    <tr>\n      <th>1</th>\n      <td>[running press]</td>\n      <td>/</td>\n      <td>running press</td>\n    </tr>\n    <tr>\n      <th>2</th>\n      <td>[footprint]</td>\n      <td>/</td>\n      <td>footprint</td>\n    </tr>\n    <tr>\n      <th>3</th>\n      <td>[disney hyperion]</td>\n      <td>/</td>\n      <td>disney hyperion</td>\n    </tr>\n    <tr>\n      <th>4</th>\n      <td>[graywolf press]</td>\n      <td>/</td>\n      <td>graywolf press</td>\n    </tr>\n    <tr>\n      <th>...</th>\n      <td>...</td>\n      <td>...</td>\n      <td>...</td>\n    </tr>\n    <tr>\n      <th>10469</th>\n      <td>[new american library]</td>\n      <td>/</td>\n      <td>new american library</td>\n    </tr>\n    <tr>\n      <th>10470</th>\n      <td>[watson-guptill publications]</td>\n      <td>/</td>\n      <td>watsonguptill publications</td>\n    </tr>\n    <tr>\n      <th>10471</th>\n      <td>[scholastic inc.]</td>\n      <td>/</td>\n      <td>scholastic inc</td>\n    </tr>\n    <tr>\n      <th>10472</th>\n      <td>[dk publishing]</td>\n      <td>/</td>\n      <td>dk publishing</td>\n    </tr>\n    <tr>\n      <th>10473</th>\n      <td>[alfred a. knopf : distributed by random house]</td>\n      <td>/</td>\n      <td>alfred a knopf distributed by random house</td>\n    </tr>\n  </tbody>\n</table>\n<p>10474 rows × 3 columns</p>\n</div>"
     },
     "execution_count": 24,
     "metadata": {},
     "output_type": "execute_result"
    }
   ],
   "source": [
    "publishers_dirty_unique['CleanPub'] = publishers_dirty_unique['CleanPub'].apply(lambda x: re.sub(r\" +\", \" \", str(x)))\n",
    "publishers_dirty_unique"
   ],
   "metadata": {
    "collapsed": false,
    "ExecuteTime": {
     "end_time": "2023-11-26T13:51:20.266411200Z",
     "start_time": "2023-11-26T13:51:18.349831700Z"
    }
   },
   "id": "ef6df2583da937e4"
  },
  {
   "cell_type": "code",
   "execution_count": 25,
   "outputs": [
    {
     "name": "stdout",
     "output_type": "stream",
     "text": [
      "Requirement already satisfied: thefuzz in c:\\users\\trush\\anaconda3\\envs\\parser\\lib\\site-packages (0.20.0)\n",
      "Requirement already satisfied: rapidfuzz<4.0.0,>=3.0.0 in c:\\users\\trush\\anaconda3\\envs\\parser\\lib\\site-packages (from thefuzz) (3.5.2)\n"
     ]
    }
   ],
   "source": [
    "!pip install thefuzz"
   ],
   "metadata": {
    "collapsed": false,
    "ExecuteTime": {
     "end_time": "2023-11-26T13:51:20.658341400Z",
     "start_time": "2023-11-26T13:51:18.367609700Z"
    }
   },
   "id": "baaca7243c31c596"
  },
  {
   "cell_type": "code",
   "execution_count": 26,
   "outputs": [],
   "source": [
    "count_pub = 0"
   ],
   "metadata": {
    "collapsed": false,
    "ExecuteTime": {
     "end_time": "2023-11-26T13:51:20.659341600Z",
     "start_time": "2023-11-26T13:51:20.518244600Z"
    }
   },
   "id": "d44b5003c81b9390"
  },
  {
   "cell_type": "code",
   "execution_count": 27,
   "outputs": [],
   "source": [
    "def clean_publisher(publisher_name_dirty):\n",
    "    publisher_name_clean = \"None\"\n",
    "    if not publisher_name_dirty is None:\n",
    "        publisher_name_clean = publisher_name_dirty.strip(',')\n",
    "        publisher_name_clean = publisher_name_clean.lower()\n",
    "        publisher_name_clean = publisher_name_clean.split(\"/\")[0]\n",
    "        publisher_name_clean = re.sub(r\"(@\\[A-Za-z0-9]+)|([^0-9A-Za-z \\t])|(\\w+:\\/\\/\\S+)|^rt|http.+?\", \" \", publisher_name_clean)\n",
    "        publisher_name_clean = re.sub(r\" +\", \" \", publisher_name_clean)\n",
    "        #print(publisher_name_clean)\n",
    "    return publisher_name_clean"
   ],
   "metadata": {
    "collapsed": false,
    "ExecuteTime": {
     "end_time": "2023-11-26T13:51:20.679341800Z",
     "start_time": "2023-11-26T13:51:20.520753800Z"
    }
   },
   "id": "e6ba43fb7384178b"
  },
  {
   "cell_type": "code",
   "execution_count": 28,
   "outputs": [
    {
     "data": {
      "text/plain": "                                            Publisher\n0                                  Thames and Hudson,\n1                                      Running Press,\n2                                          Footprint,\n3                                    Disney Hyperion,\n4                                     Graywolf Press,\n...                                               ...\n10469                           New American Library,\n10470                    Watson-Guptill Publications,\n10471                                Scholastic Inc.,\n10472                                  DK Publishing,\n10473  Alfred A. Knopf : Distributed by Random House,\n\n[10474 rows x 1 columns]",
      "text/html": "<div>\n<style scoped>\n    .dataframe tbody tr th:only-of-type {\n        vertical-align: middle;\n    }\n\n    .dataframe tbody tr th {\n        vertical-align: top;\n    }\n\n    .dataframe thead th {\n        text-align: right;\n    }\n</style>\n<table border=\"1\" class=\"dataframe\">\n  <thead>\n    <tr style=\"text-align: right;\">\n      <th></th>\n      <th>Publisher</th>\n    </tr>\n  </thead>\n  <tbody>\n    <tr>\n      <th>0</th>\n      <td>Thames and Hudson,</td>\n    </tr>\n    <tr>\n      <th>1</th>\n      <td>Running Press,</td>\n    </tr>\n    <tr>\n      <th>2</th>\n      <td>Footprint,</td>\n    </tr>\n    <tr>\n      <th>3</th>\n      <td>Disney Hyperion,</td>\n    </tr>\n    <tr>\n      <th>4</th>\n      <td>Graywolf Press,</td>\n    </tr>\n    <tr>\n      <th>...</th>\n      <td>...</td>\n    </tr>\n    <tr>\n      <th>10469</th>\n      <td>New American Library,</td>\n    </tr>\n    <tr>\n      <th>10470</th>\n      <td>Watson-Guptill Publications,</td>\n    </tr>\n    <tr>\n      <th>10471</th>\n      <td>Scholastic Inc.,</td>\n    </tr>\n    <tr>\n      <th>10472</th>\n      <td>DK Publishing,</td>\n    </tr>\n    <tr>\n      <th>10473</th>\n      <td>Alfred A. Knopf : Distributed by Random House,</td>\n    </tr>\n  </tbody>\n</table>\n<p>10474 rows × 1 columns</p>\n</div>"
     },
     "execution_count": 28,
     "metadata": {},
     "output_type": "execute_result"
    }
   ],
   "source": [
    "publishers_dirty = pd.DataFrame()\n",
    "publishers_dirty[['Publisher']] = books_1[['Publisher']]\n",
    "publishers_dirty['Publisher'] = publishers_dirty['Publisher'].astype('string')\n",
    "publishers_dirty"
   ],
   "metadata": {
    "collapsed": false,
    "ExecuteTime": {
     "end_time": "2023-11-26T13:51:20.775341800Z",
     "start_time": "2023-11-26T13:51:20.524396800Z"
    }
   },
   "id": "8b07338f1bb86b22"
  },
  {
   "cell_type": "code",
   "execution_count": 29,
   "outputs": [
    {
     "data": {
      "text/plain": "Publisher    6\ndtype: int64"
     },
     "execution_count": 29,
     "metadata": {},
     "output_type": "execute_result"
    }
   ],
   "source": [
    "publishers_dirty.isna().sum()"
   ],
   "metadata": {
    "collapsed": false,
    "ExecuteTime": {
     "end_time": "2023-11-26T13:51:20.776342600Z",
     "start_time": "2023-11-26T13:51:20.534115600Z"
    }
   },
   "id": "a17bb8d58921b89a"
  },
  {
   "cell_type": "code",
   "execution_count": 30,
   "outputs": [],
   "source": [
    "publishers_dirty['Publisher'] = publishers_dirty['Publisher'].fillna('None')"
   ],
   "metadata": {
    "collapsed": false,
    "ExecuteTime": {
     "end_time": "2023-11-26T13:51:20.800343400Z",
     "start_time": "2023-11-26T13:51:20.539114100Z"
    }
   },
   "id": "6e50a8bafc3d4faf"
  },
  {
   "cell_type": "code",
   "execution_count": 31,
   "outputs": [
    {
     "data": {
      "text/plain": "Publisher    0\ndtype: int64"
     },
     "execution_count": 31,
     "metadata": {},
     "output_type": "execute_result"
    }
   ],
   "source": [
    "publishers_dirty.isna().sum()"
   ],
   "metadata": {
    "collapsed": false,
    "ExecuteTime": {
     "end_time": "2023-11-26T13:51:20.831341600Z",
     "start_time": "2023-11-26T13:51:20.544768300Z"
    }
   },
   "id": "f3b4918a6669a019"
  },
  {
   "cell_type": "code",
   "execution_count": 32,
   "outputs": [
    {
     "data": {
      "text/plain": "                                            Publisher  \\\n0                                  Thames and Hudson,   \n1                                      Running Press,   \n2                                          Footprint,   \n3                                    Disney Hyperion,   \n4                                     Graywolf Press,   \n...                                               ...   \n10469                           New American Library,   \n10470                    Watson-Guptill Publications,   \n10471                                Scholastic Inc.,   \n10472                                  DK Publishing,   \n10473  Alfred A. Knopf : Distributed by Random House,   \n\n                                  Publisher Clean  \n0                               thames and hudson  \n1                                   running press  \n2                                       footprint  \n3                                 disney hyperion  \n4                                  graywolf press  \n...                                           ...  \n10469                        new american library  \n10470                 watson guptill publications  \n10471                             scholastic inc   \n10472                               dk publishing  \n10473  alfred a knopf distributed by random house  \n\n[10474 rows x 2 columns]",
      "text/html": "<div>\n<style scoped>\n    .dataframe tbody tr th:only-of-type {\n        vertical-align: middle;\n    }\n\n    .dataframe tbody tr th {\n        vertical-align: top;\n    }\n\n    .dataframe thead th {\n        text-align: right;\n    }\n</style>\n<table border=\"1\" class=\"dataframe\">\n  <thead>\n    <tr style=\"text-align: right;\">\n      <th></th>\n      <th>Publisher</th>\n      <th>Publisher Clean</th>\n    </tr>\n  </thead>\n  <tbody>\n    <tr>\n      <th>0</th>\n      <td>Thames and Hudson,</td>\n      <td>thames and hudson</td>\n    </tr>\n    <tr>\n      <th>1</th>\n      <td>Running Press,</td>\n      <td>running press</td>\n    </tr>\n    <tr>\n      <th>2</th>\n      <td>Footprint,</td>\n      <td>footprint</td>\n    </tr>\n    <tr>\n      <th>3</th>\n      <td>Disney Hyperion,</td>\n      <td>disney hyperion</td>\n    </tr>\n    <tr>\n      <th>4</th>\n      <td>Graywolf Press,</td>\n      <td>graywolf press</td>\n    </tr>\n    <tr>\n      <th>...</th>\n      <td>...</td>\n      <td>...</td>\n    </tr>\n    <tr>\n      <th>10469</th>\n      <td>New American Library,</td>\n      <td>new american library</td>\n    </tr>\n    <tr>\n      <th>10470</th>\n      <td>Watson-Guptill Publications,</td>\n      <td>watson guptill publications</td>\n    </tr>\n    <tr>\n      <th>10471</th>\n      <td>Scholastic Inc.,</td>\n      <td>scholastic inc</td>\n    </tr>\n    <tr>\n      <th>10472</th>\n      <td>DK Publishing,</td>\n      <td>dk publishing</td>\n    </tr>\n    <tr>\n      <th>10473</th>\n      <td>Alfred A. Knopf : Distributed by Random House,</td>\n      <td>alfred a knopf distributed by random house</td>\n    </tr>\n  </tbody>\n</table>\n<p>10474 rows × 2 columns</p>\n</div>"
     },
     "execution_count": 32,
     "metadata": {},
     "output_type": "execute_result"
    }
   ],
   "source": [
    "publishers_dirty['Publisher Clean'] = publishers_dirty['Publisher'].apply(clean_publisher)\n",
    "publishers_dirty"
   ],
   "metadata": {
    "collapsed": false,
    "ExecuteTime": {
     "end_time": "2023-11-26T13:51:21.016703200Z",
     "start_time": "2023-11-26T13:51:20.548747200Z"
    }
   },
   "id": "bbe48ad6ad0807f9"
  },
  {
   "cell_type": "code",
   "execution_count": 33,
   "outputs": [
    {
     "data": {
      "text/plain": "array(['thames and hudson', 'running press', 'footprint', ...,\n       'new press distributed by w w norton co ', 'historylink',\n       'christy ottaviano books henry holt and company'], dtype=object)"
     },
     "execution_count": 33,
     "metadata": {},
     "output_type": "execute_result"
    }
   ],
   "source": [
    "publishers_dirty['Publisher Clean'].unique()"
   ],
   "metadata": {
    "collapsed": false,
    "ExecuteTime": {
     "end_time": "2023-11-26T13:51:21.016703200Z",
     "start_time": "2023-11-26T13:51:20.593891100Z"
    }
   },
   "id": "9c582eff42f7e1d1"
  },
  {
   "cell_type": "code",
   "execution_count": 34,
   "outputs": [
    {
     "ename": "NameError",
     "evalue": "name 'publishers_unique' is not defined",
     "output_type": "error",
     "traceback": [
      "\u001B[1;31m---------------------------------------------------------------------------\u001B[0m",
      "\u001B[1;31mNameError\u001B[0m                                 Traceback (most recent call last)",
      "Cell \u001B[1;32mIn[34], line 1\u001B[0m\n\u001B[1;32m----> 1\u001B[0m publishers_unique\n",
      "\u001B[1;31mNameError\u001B[0m: name 'publishers_unique' is not defined"
     ]
    }
   ],
   "source": [
    "publishers_unique"
   ],
   "metadata": {
    "collapsed": false,
    "ExecuteTime": {
     "end_time": "2023-11-26T13:51:21.402662300Z",
     "start_time": "2023-11-26T13:51:20.598343400Z"
    }
   },
   "id": "bf6b1d01d88ccbaf"
  },
  {
   "cell_type": "code",
   "execution_count": null,
   "outputs": [],
   "source": [
    "publishers_unique = pd.DataFrame()\n",
    "publishers_dirty['Publisher Dirty Id'], publishers_unique['Publisher'] = pd.factorize(publishers_dirty['Publisher Clean'])\n",
    "publishers_dirty"
   ],
   "metadata": {
    "collapsed": false,
    "ExecuteTime": {
     "start_time": "2023-11-26T13:51:20.990704200Z"
    }
   },
   "id": "f5f8fcc8f7a67a13"
  },
  {
   "cell_type": "code",
   "execution_count": null,
   "outputs": [],
   "source": [
    "from difflib import get_close_matches"
   ],
   "metadata": {
    "collapsed": false,
    "ExecuteTime": {
     "start_time": "2023-11-26T13:51:20.991703200Z"
    }
   },
   "id": "e7d2a9a8ffa7c660"
  },
  {
   "cell_type": "code",
   "execution_count": null,
   "outputs": [],
   "source": [
    "publishers_unique_mapped = publishers_unique['Publisher'].map(lambda x: get_close_matches(x, publishers_unique.Publisher, n=2, cutoff=0.85)).apply(pd.Series)\n",
    "publishers_unique_mapped"
   ],
   "metadata": {
    "collapsed": false,
    "ExecuteTime": {
     "start_time": "2023-11-26T13:51:20.992704500Z"
    }
   },
   "id": "ceb1909a39dce729"
  },
  {
   "cell_type": "code",
   "execution_count": null,
   "outputs": [],
   "source": [
    "print(publishers_unique_mapped.apply(lambda x: x.str.len().min(), axis=1))"
   ],
   "metadata": {
    "collapsed": false,
    "ExecuteTime": {
     "start_time": "2023-11-26T13:51:20.993703400Z"
    }
   },
   "id": "5466eddfc866aa69"
  },
  {
   "cell_type": "code",
   "execution_count": null,
   "outputs": [],
   "source": [
    "publishers_unique_mapped"
   ],
   "metadata": {
    "collapsed": false,
    "ExecuteTime": {
     "start_time": "2023-11-26T13:51:20.994704Z"
    }
   },
   "id": "46ca6f60c067eb32"
  },
  {
   "cell_type": "code",
   "execution_count": null,
   "outputs": [],
   "source": [
    "publishers_unique_mapped[1].unique()"
   ],
   "metadata": {
    "collapsed": false,
    "ExecuteTime": {
     "start_time": "2023-11-26T13:51:20.994704Z"
    }
   },
   "id": "8fadda6c63d60b8f"
  },
  {
   "cell_type": "code",
   "execution_count": null,
   "outputs": [],
   "source": [
    "def select_shorter(str1, str2):\n",
    "    if (len(str1) > len(str2)):\n",
    "        return str2\n",
    "    else:\n",
    "        return str1"
   ],
   "metadata": {
    "collapsed": false,
    "ExecuteTime": {
     "start_time": "2023-11-26T13:51:20.995703900Z"
    }
   },
   "id": "8f6f85cb4873fc77"
  },
  {
   "cell_type": "code",
   "execution_count": null,
   "outputs": [],
   "source": [
    "publishers_unique_mapped['It-1'] = publishers_unique_mapped.apply(select_shorter)\n",
    "publishers_unique_mapped"
   ],
   "metadata": {
    "collapsed": false,
    "ExecuteTime": {
     "start_time": "2023-11-26T13:51:20.996704300Z"
    }
   },
   "id": "2031794ee1e0eee"
  },
  {
   "cell_type": "code",
   "execution_count": null,
   "outputs": [],
   "source": [
    "publishers_unique_mapped['It-1'] = publishers_unique_mapped[0].where(publishers_unique_mapped[0] < publishers_unique_mapped[1], publishers_unique_mapped[1])\n",
    "publishers_unique_mapped"
   ],
   "metadata": {
    "collapsed": false,
    "ExecuteTime": {
     "start_time": "2023-11-26T13:51:20.997703100Z"
    }
   },
   "id": "55c4518bb14799be"
  },
  {
   "cell_type": "code",
   "execution_count": null,
   "outputs": [],
   "source": [
    "publishers_unique_mapped['Filled-1'] = publishers_unique_mapped[1].fillna(publishers_unique_mapped[0])\n",
    "publishers_unique_mapped"
   ],
   "metadata": {
    "collapsed": false,
    "ExecuteTime": {
     "start_time": "2023-11-26T13:51:20.998703500Z"
    }
   },
   "id": "7ab0bd3ddf06ef2d"
  },
  {
   "cell_type": "code",
   "execution_count": null,
   "outputs": [],
   "source": [
    "publishers_unique_mapped.dtypes"
   ],
   "metadata": {
    "collapsed": false,
    "ExecuteTime": {
     "start_time": "2023-11-26T13:51:20.999704Z"
    }
   },
   "id": "3dc23ece5458e647"
  },
  {
   "cell_type": "code",
   "execution_count": null,
   "outputs": [],
   "source": [
    "publishers_unique_mapped['It-1'] = publishers_unique_mapped[0].where(publishers_unique_mapped[0].str.len() < publishers_unique_mapped['Filled-1'].str.len(), publishers_unique_mapped['Filled-1'])\n",
    "publishers_unique_mapped"
   ],
   "metadata": {
    "collapsed": false,
    "ExecuteTime": {
     "start_time": "2023-11-26T13:51:21.000704100Z"
    }
   },
   "id": "fa88ed92c1afdbef"
  },
  {
   "cell_type": "code",
   "execution_count": null,
   "outputs": [],
   "source": [
    "publishers_unique_1 = pd.DataFrame()\n",
    "publishers_unique_mapped['It-2 Id'], publishers_unique_1['Publisher'] = pd.factorize(publishers_unique_mapped['It-1'])\n",
    "publishers_unique_mapped"
   ],
   "metadata": {
    "collapsed": false,
    "ExecuteTime": {
     "start_time": "2023-11-26T13:51:21.001703900Z"
    }
   },
   "id": "c4a0c8586ad8754b"
  },
  {
   "cell_type": "code",
   "execution_count": null,
   "outputs": [],
   "source": [
    "publishers_unique_1"
   ],
   "metadata": {
    "collapsed": false,
    "ExecuteTime": {
     "start_time": "2023-11-26T13:51:21.002703600Z"
    }
   },
   "id": "c7dfa9b581171af7"
  },
  {
   "cell_type": "code",
   "execution_count": null,
   "outputs": [],
   "source": [
    "publishers_unique_mapped_1 = pd.DataFrame()\n",
    "publishers_unique_mapped_1 = publishers_unique_1['Publisher'].map(lambda x: get_close_matches(x, publishers_unique_1.Publisher, n=2, cutoff=0.8)).apply(pd.Series)\n",
    "publishers_unique_mapped_1"
   ],
   "metadata": {
    "collapsed": false,
    "ExecuteTime": {
     "start_time": "2023-11-26T13:51:21.002703600Z"
    }
   },
   "id": "f125469932fa54d0"
  },
  {
   "cell_type": "code",
   "execution_count": null,
   "outputs": [],
   "source": [
    "publishers_unique_mapped_1.isna().sum()"
   ],
   "metadata": {
    "collapsed": false,
    "ExecuteTime": {
     "start_time": "2023-11-26T13:51:21.004704100Z"
    }
   },
   "id": "4c9340deb4db3f22"
  },
  {
   "cell_type": "code",
   "execution_count": null,
   "outputs": [],
   "source": [
    "publishers_unique_1 = pd.DataFrame()\n",
    "publishers_unique_1['Publisher'] = publishers_unique['Publisher']\n",
    "publishers_unique_1"
   ],
   "metadata": {
    "collapsed": false,
    "ExecuteTime": {
     "start_time": "2023-11-26T13:51:21.004704100Z"
    }
   },
   "id": "1d33971c577f3dc"
  },
  {
   "cell_type": "code",
   "execution_count": null,
   "outputs": [],
   "source": [
    "publisher_suffixes = ['publishing', 'press', 'books', 'co', 'book', 'publishers', 'pub', 'press', 'entertainment', 'media', 'publications', 'production', 'company', 'collection', 'illustrated', 'ink', 'ltd', 'publication', 'group', 'paperback', 'house', 'inc', 'company', 'productions', 'llc', 's', 'an', 'a']\n",
    "publisher_imprint = ['imprint', 'an imprint', 'a division', 'published', 'books', 'in association', 'distributed', 'are imprints', 'a member', 'press of']"
   ],
   "metadata": {
    "collapsed": false,
    "ExecuteTime": {
     "start_time": "2023-11-26T13:51:21.005704100Z"
    }
   },
   "id": "11cb54410c503b3c"
  },
  {
   "cell_type": "code",
   "execution_count": null,
   "outputs": [],
   "source": [
    "publishers_unique_1['Pub_cut'] = publishers_unique_1['Publisher']\n",
    "for pub_suf in publisher_imprint:\n",
    "    pattern = re.compile(f'\\\\b{pub_suf}\\\\b.*$')\n",
    "    publishers_unique_1['Pub_cut'] = publishers_unique_1['Pub_cut'].apply(lambda x: re.sub(pattern, '', str(x)))\n",
    "\n",
    "publishers_unique_1"
   ],
   "metadata": {
    "collapsed": false,
    "ExecuteTime": {
     "start_time": "2023-11-26T13:51:21.006703Z"
    }
   },
   "id": "e5206cd1981e62c"
  },
  {
   "cell_type": "code",
   "execution_count": null,
   "outputs": [],
   "source": [
    "publishers_unique_1['Pub_cut_1'].unique()"
   ],
   "metadata": {
    "collapsed": false,
    "ExecuteTime": {
     "start_time": "2023-11-26T13:51:21.007703400Z"
    }
   },
   "id": "620f5e5cfb0ed77"
  },
  {
   "cell_type": "code",
   "execution_count": null,
   "outputs": [],
   "source": [
    "publisher_find_similar = pd.DataFrame()\n",
    "publishers_unique_1['Next id'], publisher_find_similar['Publisher'] = pd.factorize(publishers_unique_1['Pub_cut_1'])\n",
    "publishers_unique_1"
   ],
   "metadata": {
    "collapsed": false,
    "ExecuteTime": {
     "start_time": "2023-11-26T13:51:21.008703900Z"
    }
   },
   "id": "9bcf2a4f5888494e"
  },
  {
   "cell_type": "code",
   "execution_count": null,
   "outputs": [],
   "source": [
    "publishers_unique_1['Pub_cut_1'] = publishers_unique_1['Pub_cut']\n",
    "for pub_suf_1 in publisher_suffixes:\n",
    "    pattern_1 = re.compile(f'\\\\b{pub_suf_1}\\\\b')\n",
    "    publishers_unique_1['Pub_cut_1'] = publishers_unique_1['Pub_cut_1'].apply(lambda x: re.sub(pattern_1, '', str(x)))\n",
    "\n",
    "publishers_unique_1"
   ],
   "metadata": {
    "collapsed": false,
    "ExecuteTime": {
     "start_time": "2023-11-26T13:51:21.009704200Z"
    }
   },
   "id": "6002e34a9f8423a3"
  },
  {
   "cell_type": "code",
   "execution_count": null,
   "outputs": [],
   "source": [
    "publishers_unique_1['Pub_cut_1'] = publishers_unique_1['Pub_cut_1'].str.strip()\n",
    "publishers_unique_1['Pub_cut_1'] = publishers_unique_1['Pub_cut_1'].apply(lambda x: re.sub(r\" +\", ' ', str(x)))"
   ],
   "metadata": {
    "collapsed": false,
    "ExecuteTime": {
     "start_time": "2023-11-26T13:51:21.010703200Z"
    }
   },
   "id": "d27afe863cb1615b"
  },
  {
   "cell_type": "code",
   "execution_count": null,
   "outputs": [],
   "source": [
    "publisher_find_similar"
   ],
   "metadata": {
    "collapsed": false,
    "ExecuteTime": {
     "start_time": "2023-11-26T13:51:21.011703600Z"
    }
   },
   "id": "724befd05a7ee4e"
  },
  {
   "cell_type": "code",
   "execution_count": null,
   "outputs": [],
   "source": [
    "publisher_find_similar_1 = pd.DataFrame()\n",
    "publisher_find_similar_1 = publisher_find_similar['Publisher'].map(lambda x: get_close_matches(x, publisher_find_similar.Publisher, n=2, cutoff=0.8)).apply(pd.Series)\n",
    "publisher_find_similar_1"
   ],
   "metadata": {
    "collapsed": false,
    "ExecuteTime": {
     "start_time": "2023-11-26T13:51:21.011703600Z"
    }
   },
   "id": "d80e66fc22a2c036"
  },
  {
   "cell_type": "code",
   "execution_count": null,
   "outputs": [],
   "source": [
    "publisher_find_similar_1['Filled-1'] = publisher_find_similar_1[1].fillna(publisher_find_similar_1[0])\n",
    "publisher_find_similar_1['It-1'] = publisher_find_similar_1[0].where(publisher_find_similar_1[0].str.len() < publisher_find_similar_1['Filled-1'].str.len(), publisher_find_similar_1['Filled-1'])\n",
    "publisher_find_similar_1"
   ],
   "metadata": {
    "collapsed": false,
    "ExecuteTime": {
     "start_time": "2023-11-26T13:51:21.012703900Z"
    }
   },
   "id": "ab74cec4807284e4"
  },
  {
   "cell_type": "code",
   "execution_count": null,
   "outputs": [],
   "source": [
    "publisher_find_similar_1['It-1'].unique()"
   ],
   "metadata": {
    "collapsed": false,
    "ExecuteTime": {
     "start_time": "2023-11-26T13:51:21.013703900Z"
    }
   },
   "id": "56137a3d8e92a51a"
  },
  {
   "cell_type": "code",
   "execution_count": null,
   "outputs": [],
   "source": [
    "publisher_find_similar_2 = pd.DataFrame()\n",
    "publisher_find_similar_3 = pd.DataFrame()\n",
    "publisher_find_similar_1['Next id'], publisher_find_similar_2['Publisher'] = pd.factorize(publisher_find_similar_1['It-1'])\n",
    "publisher_find_similar_3 = publisher_find_similar_2['Publisher'].map(lambda x: get_close_matches(x, publisher_find_similar_2.Publisher, n=2, cutoff=0.8)).apply(pd.Series)\n",
    "publisher_find_similar_3"
   ],
   "metadata": {
    "collapsed": false,
    "ExecuteTime": {
     "start_time": "2023-11-26T13:51:21.014704400Z"
    }
   },
   "id": "5cfb3fc726736a29"
  },
  {
   "cell_type": "code",
   "execution_count": null,
   "outputs": [],
   "source": [
    "from fuzzywuzzy import process"
   ],
   "metadata": {
    "collapsed": false,
    "ExecuteTime": {
     "start_time": "2023-11-26T13:51:21.015703800Z"
    }
   },
   "id": "3048678ed4d0df6c"
  },
  {
   "cell_type": "code",
   "execution_count": null,
   "outputs": [],
   "source": [
    "!pip install fuzzywuzzy"
   ],
   "metadata": {
    "collapsed": false,
    "ExecuteTime": {
     "start_time": "2023-11-26T13:51:21.016703200Z"
    }
   },
   "id": "a3b204e8fa74251c"
  },
  {
   "cell_type": "code",
   "execution_count": null,
   "outputs": [],
   "source": [
    "!pip install python-Levenshtein"
   ],
   "metadata": {
    "collapsed": false,
    "ExecuteTime": {
     "start_time": "2023-11-26T13:51:21.017704Z"
    }
   },
   "id": "74e753e2a7a4d119"
  },
  {
   "cell_type": "code",
   "execution_count": null,
   "outputs": [],
   "source": [
    "def get_best_match(pub, choices):\n",
    "    match, score = process.extractOne(pub, choices)\n",
    "    return match, score"
   ],
   "metadata": {
    "collapsed": false,
    "ExecuteTime": {
     "start_time": "2023-11-26T13:51:21.018703700Z"
    }
   },
   "id": "c75d258a4ce31d05"
  },
  {
   "cell_type": "code",
   "execution_count": null,
   "outputs": [],
   "source": [
    "grouped_publishers = {}"
   ],
   "metadata": {
    "collapsed": false,
    "ExecuteTime": {
     "start_time": "2023-11-26T13:51:21.019705Z"
    }
   },
   "id": "6cea4160149da20e"
  },
  {
   "cell_type": "code",
   "execution_count": null,
   "outputs": [],
   "source": [
    "for publisher in publisher_find_similar:\n",
    "    if publisher not in grouped_publishers:\n",
    "        similar_publishers = [p for p in publisher_find_similar if p not in grouped_publishers]\n",
    "        best_match, score = get_best_match(publisher, similar_publishers)\n",
    "        \n",
    "        if score >= 10:\n",
    "            grouped_publishers[publisher] = best_match\n",
    "\n",
    "publisher_find_similar['Grouped Pub'] = publisher_find_similar['Publisher'].map(grouped_publishers)\n",
    "publisher_find_similar"
   ],
   "metadata": {
    "collapsed": false,
    "ExecuteTime": {
     "start_time": "2023-11-26T13:51:21.020704200Z"
    }
   },
   "id": "a1cb59eeaf269619"
  },
  {
   "cell_type": "code",
   "execution_count": null,
   "outputs": [],
   "source": [
    "!pip install scikit-learn"
   ],
   "metadata": {
    "collapsed": false,
    "ExecuteTime": {
     "start_time": "2023-11-26T13:51:21.021703400Z"
    }
   },
   "id": "bcb2ea2acfff0ada"
  },
  {
   "cell_type": "code",
   "execution_count": null,
   "outputs": [],
   "source": [
    "from fuzzywuzzy import fuzz\n",
    "from sklearn.cluster import AffinityPropagation\n",
    "from sklearn.metrics import pairwise_distances"
   ],
   "metadata": {
    "collapsed": false,
    "ExecuteTime": {
     "start_time": "2023-11-26T13:51:21.022705500Z"
    }
   },
   "id": "beedacf5baf090c9"
  },
  {
   "cell_type": "code",
   "execution_count": null,
   "outputs": [],
   "source": [
    "df = publisher_find_similar\n",
    "# Function to compute similarity between publishers using fuzzywuzzy\n",
    "def compute_similarity(publisher1, publisher2):\n",
    "    return 100 - fuzz.ratio(publisher1, publisher2)\n",
    "\n",
    "# Create a list of unique publishers\n",
    "unique_publishers = df['Publisher'].unique()\n",
    "\n",
    "# Create a similarity matrix\n",
    "similarity_matrix = pairwise_distances(unique_publishers.reshape(-1, 1), metric=compute_similarity)\n",
    "\n",
    "# Use Affinity Propagation to cluster the publishers\n",
    "affinity_propagation = AffinityPropagation(affinity='precomputed', damping=0.5)\n",
    "affinity_propagation.fit(similarity_matrix)\n",
    "\n",
    "# Get cluster labels\n",
    "cluster_labels = affinity_propagation.labels_\n",
    "\n",
    "# Map cluster labels back to publishers\n",
    "df['Cluster'] = df['Publisher'].map(dict(zip(unique_publishers, cluster_labels)))\n",
    "df"
   ],
   "metadata": {
    "collapsed": false,
    "ExecuteTime": {
     "start_time": "2023-11-26T13:51:21.024703700Z"
    }
   },
   "id": "5b83c69f31e1aed5"
  },
  {
   "cell_type": "code",
   "execution_count": null,
   "outputs": [],
   "source": [
    "# Function to compute similarity between publishers using fuzzywuzzy\n",
    "def compute_similarity(publisher1, publisher2):\n",
    "    return 100 - fuzz.ratio(publisher1, publisher2)\n",
    "\n",
    "# Create a list of unique publishers\n",
    "unique_publishers = df['Publisher'].unique()\n",
    "\n",
    "# Create a similarity matrix\n",
    "similarity_matrix = pd.DataFrame(index=unique_publishers, columns=unique_publishers)\n",
    "for publisher1 in unique_publishers:\n",
    "    for publisher2 in unique_publishers:\n",
    "        similarity_matrix.loc[publisher1, publisher2] = compute_similarity(publisher1, publisher2)\n",
    "\n",
    "# Use Affinity Propagation to cluster the publishers\n",
    "affinity_propagation = AffinityPropagation(affinity='precomputed', damping=0.5, preference=-15)\n",
    "affinity_propagation.fit(similarity_matrix)\n",
    "\n",
    "# Get cluster labels\n",
    "cluster_labels = affinity_propagation.labels_\n",
    "\n",
    "# Map cluster labels back to publishers\n",
    "df['Cluster'] = df['Publisher'].map(dict(zip(unique_publishers, cluster_labels)))\n",
    "df"
   ],
   "metadata": {
    "collapsed": false,
    "ExecuteTime": {
     "start_time": "2023-11-26T13:51:21.025703700Z"
    }
   },
   "id": "4304b7b73be9c72a"
  },
  {
   "cell_type": "code",
   "execution_count": null,
   "outputs": [],
   "source": [
    "cluster_labels"
   ],
   "metadata": {
    "collapsed": false,
    "ExecuteTime": {
     "start_time": "2023-11-26T13:51:21.026704200Z"
    }
   },
   "id": "1d6151eb0ab7588"
  },
  {
   "cell_type": "code",
   "execution_count": null,
   "outputs": [],
   "source": [
    "from sklearn.feature_extraction.text import TfidfVectorizer\n",
    "from sklearn.cluster import KMeans"
   ],
   "metadata": {
    "collapsed": false,
    "ExecuteTime": {
     "start_time": "2023-11-26T13:51:21.027704200Z"
    }
   },
   "id": "f339ecb26a32546a"
  },
  {
   "cell_type": "code",
   "execution_count": null,
   "outputs": [],
   "source": [
    "similarity_matrix = pd.DataFrame(index=unique_publishers, columns=unique_publishers)\n",
    "for publisher1 in unique_publishers:\n",
    "    for publisher2 in unique_publishers:\n",
    "        similarity_matrix.loc[publisher1, publisher2] = compute_similarity(publisher1, publisher2)\n",
    "\n",
    "# Use TF-IDF to convert the similarity matrix to a numeric representation\n",
    "vectorizer = TfidfVectorizer()\n",
    "tfidf_matrix = vectorizer.fit_transform(unique_publishers)\n",
    "\n",
    "# Use KMeans clustering to cluster the publishers\n",
    "num_clusters = 1000  # Adjust the number of clusters as needed\n",
    "kmeans = KMeans(n_clusters=num_clusters, random_state=42)\n",
    "cluster_labels = kmeans.fit_predict(tfidf_matrix)\n",
    "\n",
    "# Map cluster labels back to publishers\n",
    "df['Cluster'] = df['Publisher'].map(dict(zip(unique_publishers, cluster_labels)))\n",
    "\n",
    "df"
   ],
   "metadata": {
    "collapsed": false,
    "ExecuteTime": {
     "start_time": "2023-11-26T13:51:21.027704200Z"
    }
   },
   "id": "772a8d12e8ea89d5"
  },
  {
   "cell_type": "code",
   "execution_count": null,
   "outputs": [],
   "source": [
    "exclude_cluster = 9\n",
    "shortest_strings = []\n",
    "\n",
    "for cluster_label in range(num_clusters):\n",
    "    if cluster_label != exclude_cluster:\n",
    "        cluster_indices = (df['Cluster'] == cluster_label)\n",
    "        cluster_strings = df.loc[cluster_indices, 'Publisher']\n",
    "        shortest_string = min(cluster_strings, key=len, default=None)\n",
    "        shortest_strings.append(shortest_string)\n",
    "    else:\n",
    "        shortest_strings.append(None)\n",
    "\n",
    "# Map cluster labels back to publishers\n",
    "df['Shortest_String_In_Cluster'] = df['Cluster'].map(dict(enumerate(shortest_strings)))\n",
    "\n",
    "df"
   ],
   "metadata": {
    "collapsed": false,
    "ExecuteTime": {
     "start_time": "2023-11-26T13:51:21.029703600Z"
    }
   },
   "id": "e631b2d2acb988be"
  },
  {
   "cell_type": "code",
   "execution_count": null,
   "outputs": [],
   "source": [
    "df['Shortest_String_In_Cluster'].isna()"
   ],
   "metadata": {
    "collapsed": false,
    "ExecuteTime": {
     "start_time": "2023-11-26T13:51:21.029703600Z"
    }
   },
   "id": "27f4faba77b18b31"
  },
  {
   "cell_type": "code",
   "execution_count": null,
   "outputs": [],
   "source": [
    "df['Shortest_String_In_Cluster'] = df['Shortest_String_In_Cluster'].fillna(df['Publisher'])\n",
    "df"
   ],
   "metadata": {
    "collapsed": false,
    "ExecuteTime": {
     "start_time": "2023-11-26T13:51:21.030704200Z"
    }
   },
   "id": "5b41c94955bf3f54"
  },
  {
   "cell_type": "code",
   "execution_count": null,
   "outputs": [],
   "source": [
    "for val in range(len(df)):\n",
    "    publishers_unique_1.loc[publishers_unique_1['Next id'] == val, ['Cluster Pub']] = df.at[val, 'Shortest_String_In_Cluster']"
   ],
   "metadata": {
    "collapsed": false,
    "ExecuteTime": {
     "start_time": "2023-11-26T13:51:21.031704Z"
    }
   },
   "id": "fcc36ada6deb0a2c"
  },
  {
   "cell_type": "code",
   "execution_count": null,
   "outputs": [],
   "source": [
    "publishers_unique_1"
   ],
   "metadata": {
    "collapsed": false,
    "ExecuteTime": {
     "start_time": "2023-11-26T13:51:21.033703400Z"
    }
   },
   "id": "cc8c7abb40e7a00d"
  },
  {
   "cell_type": "code",
   "execution_count": null,
   "outputs": [],
   "source": [
    "publisher_find_similar"
   ],
   "metadata": {
    "collapsed": false,
    "ExecuteTime": {
     "start_time": "2023-11-26T13:51:21.034703200Z"
    }
   },
   "id": "3b776e2f2201799b"
  },
  {
   "cell_type": "code",
   "execution_count": null,
   "outputs": [],
   "source": [
    "publishers_unique_1['Cluster Pub'].unique()"
   ],
   "metadata": {
    "collapsed": false,
    "ExecuteTime": {
     "start_time": "2023-11-26T13:51:21.034703200Z"
    }
   },
   "id": "1e3ca14a4d7aa9e6"
  },
  {
   "cell_type": "code",
   "execution_count": null,
   "outputs": [],
   "source": [
    "publishers_dirty"
   ],
   "metadata": {
    "collapsed": false,
    "ExecuteTime": {
     "start_time": "2023-11-26T13:51:21.036703300Z"
    }
   },
   "id": "fce3adc41737d304"
  },
  {
   "cell_type": "markdown",
   "source": [
    "publishers_unique = pd.DataFrame()\n",
    "publishers_dirty['Publisher Dirty Id'], publishers_unique['Publisher'] = pd.factorize(publishers_dirty['Publisher Clean'])\n",
    "publishers_dirty"
   ],
   "metadata": {
    "collapsed": false
   },
   "id": "4b26dd9fef0c8fe"
  },
  {
   "cell_type": "code",
   "execution_count": null,
   "outputs": [],
   "source": [
    "for val in range(len(publishers_unique_1)):\n",
    "    publishers_dirty.loc[publishers_dirty['Publisher Dirty Id'] == val, ['Cluster Pub']] = publishers_unique_1.at[val, 'Cluster Pub']\n",
    "    \n",
    "publishers_dirty"
   ],
   "metadata": {
    "collapsed": false,
    "ExecuteTime": {
     "start_time": "2023-11-26T13:51:21.036703300Z"
    }
   },
   "id": "7cdeb3078727c5c8"
  },
  {
   "cell_type": "code",
   "execution_count": null,
   "outputs": [],
   "source": [
    "publishers_dirty['Cluster Pub'].value_counts()"
   ],
   "metadata": {
    "collapsed": false,
    "ExecuteTime": {
     "start_time": "2023-11-26T13:51:21.037704Z"
    }
   },
   "id": "d775eb41b51e4315"
  },
  {
   "cell_type": "code",
   "execution_count": null,
   "outputs": [],
   "source": [
    "books['PublicationYear'] = books['PublicationYear'].str.replace(r'\\D', '', regex=True)\n",
    "books"
   ],
   "metadata": {
    "collapsed": false,
    "ExecuteTime": {
     "start_time": "2023-11-26T13:51:21.038703500Z"
    }
   },
   "id": "7c089571ca582726"
  },
  {
   "cell_type": "code",
   "execution_count": null,
   "outputs": [],
   "source": [
    "books_1"
   ],
   "metadata": {
    "collapsed": false,
    "ExecuteTime": {
     "start_time": "2023-11-26T13:51:21.040703400Z"
    }
   },
   "id": "d735d7590395d9a2"
  },
  {
   "cell_type": "code",
   "execution_count": null,
   "outputs": [],
   "source": [
    "books_2 = books_1.copy()\n",
    "books_2"
   ],
   "metadata": {
    "collapsed": false,
    "ExecuteTime": {
     "start_time": "2023-11-26T13:51:21.040703400Z"
    }
   },
   "id": "5dc6c666bf664708"
  },
  {
   "cell_type": "code",
   "execution_count": null,
   "outputs": [],
   "source": [
    "import matplotlib.pyplot as plt"
   ],
   "metadata": {
    "collapsed": false,
    "ExecuteTime": {
     "start_time": "2023-11-26T13:51:21.041704200Z"
    }
   },
   "id": "259ea9bb6c84fad1"
  },
  {
   "cell_type": "code",
   "execution_count": null,
   "outputs": [],
   "source": [
    "!pip install matplotlib"
   ],
   "metadata": {
    "collapsed": false,
    "ExecuteTime": {
     "start_time": "2023-11-26T13:51:21.042703300Z"
    }
   },
   "id": "751ef623ee478c5"
  },
  {
   "cell_type": "code",
   "execution_count": null,
   "outputs": [],
   "source": [
    "publisher_counts = publishers_dirty['Cluster Pub'].value_counts()\n",
    "top_publishers = publisher_counts.head(50)"
   ],
   "metadata": {
    "collapsed": false,
    "ExecuteTime": {
     "start_time": "2023-11-26T13:51:21.043704200Z"
    }
   },
   "id": "2fcf011b3320a76c"
  },
  {
   "cell_type": "code",
   "execution_count": null,
   "outputs": [],
   "source": [
    "plt.figure(figsize=(10, 6))\n",
    "top_publishers.plot(kind='bar', color='green')\n",
    "plt.title('Top 50 most frequent publishers')\n",
    "plt.xlabel('Publisher')\n",
    "plt.ylabel('Frequency')\n",
    "plt.show()"
   ],
   "metadata": {
    "collapsed": false,
    "ExecuteTime": {
     "start_time": "2023-11-26T13:51:21.044707900Z"
    }
   },
   "id": "874370375622ea46"
  },
  {
   "cell_type": "code",
   "execution_count": 124,
   "outputs": [],
   "source": [
    "titles_and_authors = pd.DataFrame()"
   ],
   "metadata": {
    "collapsed": false,
    "ExecuteTime": {
     "end_time": "2023-11-26T16:27:38.239257600Z",
     "start_time": "2023-11-26T16:27:38.213452400Z"
    }
   },
   "id": "eafbdff9a43dd63b"
  },
  {
   "cell_type": "code",
   "execution_count": 125,
   "outputs": [
    {
     "ename": "NameError",
     "evalue": "name 'books_2' is not defined",
     "output_type": "error",
     "traceback": [
      "\u001B[1;31m---------------------------------------------------------------------------\u001B[0m",
      "\u001B[1;31mNameError\u001B[0m                                 Traceback (most recent call last)",
      "Cell \u001B[1;32mIn[125], line 1\u001B[0m\n\u001B[1;32m----> 1\u001B[0m titles_and_authors[[\u001B[38;5;124m'\u001B[39m\u001B[38;5;124mTitle\u001B[39m\u001B[38;5;124m'\u001B[39m, \u001B[38;5;124m'\u001B[39m\u001B[38;5;124mAuthor\u001B[39m\u001B[38;5;124m'\u001B[39m]] \u001B[38;5;241m=\u001B[39m books_2[[\u001B[38;5;124m'\u001B[39m\u001B[38;5;124mTitle\u001B[39m\u001B[38;5;124m'\u001B[39m, \u001B[38;5;124m'\u001B[39m\u001B[38;5;124mAuthor\u001B[39m\u001B[38;5;124m'\u001B[39m]]\n\u001B[0;32m      2\u001B[0m titles_and_authors\n",
      "\u001B[1;31mNameError\u001B[0m: name 'books_2' is not defined"
     ]
    }
   ],
   "source": [
    "titles_and_authors[['Title', 'Author']] = books_2[['Title', 'Author']]\n",
    "titles_and_authors"
   ],
   "metadata": {
    "collapsed": false,
    "ExecuteTime": {
     "end_time": "2023-11-26T16:27:40.717620Z",
     "start_time": "2023-11-26T16:27:40.692399500Z"
    }
   },
   "id": "1faeaf51f4dfe248"
  },
  {
   "cell_type": "code",
   "execution_count": null,
   "outputs": [],
   "source": [
    "titles_and_authors['TitleMain'], titles_and_authors['Subtitle'], *_ = titles_and_authors['Title'].apply(lambda x : str.split(\"/\"))\n",
    "titles_and_authors"
   ],
   "metadata": {
    "collapsed": false,
    "ExecuteTime": {
     "start_time": "2023-11-26T13:51:21.047703800Z"
    }
   },
   "id": "3b6d47827c13ef0d"
  },
  {
   "cell_type": "code",
   "execution_count": null,
   "outputs": [],
   "source": [
    "def title_subtitle_split(full_title_column):\n",
    "    title = []\n",
    "    subtitle = []\n",
    "    for i in range(len(full_title_column)):\n",
    "        title_split = full_title_column[i].split('/')\n",
    "        title.append(title_split[0])\n",
    "        subtitle.append(None)\n",
    "        if len(title_split) > 1:\n",
    "            subtitle[i] = title_split[1]\n",
    "    return title, subtitle"
   ],
   "metadata": {
    "collapsed": false,
    "ExecuteTime": {
     "start_time": "2023-11-26T13:51:21.048704600Z"
    }
   },
   "id": "6881d404dacb8e69"
  },
  {
   "cell_type": "code",
   "execution_count": null,
   "outputs": [],
   "source": [
    "titles_and_authors['TitleMain'], titles_and_authors['Subtitle'] = titles_and_authors['Title'].apply(title_subtitle_split)\n",
    "titles_and_authors"
   ],
   "metadata": {
    "collapsed": false,
    "ExecuteTime": {
     "start_time": "2023-11-26T13:51:21.049703500Z"
    }
   },
   "id": "cb4851e1bb4d658e"
  },
  {
   "cell_type": "code",
   "execution_count": null,
   "outputs": [],
   "source": [
    "titles_and_authors[['TitleMain', 'Subtitle']] = titles_and_authors['Title'].str.split('/', expand=True)\n",
    "titles_and_authors"
   ],
   "metadata": {
    "collapsed": false,
    "ExecuteTime": {
     "start_time": "2023-11-26T13:51:21.049703500Z"
    }
   },
   "id": "9f620304dc751c02"
  },
  {
   "cell_type": "code",
   "execution_count": null,
   "outputs": [],
   "source": [
    "def find_title(title_list):\n",
    "    for i in range(len(title_list)):\n",
    "        if not title_list[i].split('\\/')[1] is None:\n",
    "            return title_list[i].split('\\/')[1]\n",
    "        else:\n",
    "            return None"
   ],
   "metadata": {
    "collapsed": false,
    "ExecuteTime": {
     "start_time": "2023-11-26T13:51:21.050706400Z"
    }
   },
   "id": "a81df8a86a97de30"
  },
  {
   "cell_type": "code",
   "execution_count": null,
   "outputs": [],
   "source": [
    "titles_and_authors['TitleMain'] = titles_and_authors['Title'].apply(find_title)\n",
    "titles_and_authors"
   ],
   "metadata": {
    "collapsed": false,
    "ExecuteTime": {
     "start_time": "2023-11-26T13:51:21.051703200Z"
    }
   },
   "id": "5d548c2724ffbc2b"
  },
  {
   "cell_type": "code",
   "execution_count": null,
   "outputs": [],
   "source": [
    "titles_and_authors[['TitleMain', 'Subtitle']] = titles_and_authors['Title'].str.split('/', n=1, expand=True)\n",
    "titles_and_authors"
   ],
   "metadata": {
    "collapsed": false,
    "ExecuteTime": {
     "start_time": "2023-11-26T13:51:21.051703200Z"
    }
   },
   "id": "ac5df97dd36a0e8e"
  },
  {
   "cell_type": "code",
   "execution_count": null,
   "outputs": [],
   "source": [
    "rows_without_author = titles_and_authors[titles_and_authors['Author'].isna()]\n",
    "rows_without_author"
   ],
   "metadata": {
    "collapsed": false,
    "ExecuteTime": {
     "start_time": "2023-11-26T13:51:21.052704900Z"
    }
   },
   "id": "a903f1c4753b02ca"
  },
  {
   "cell_type": "code",
   "execution_count": 53,
   "outputs": [
    {
     "data": {
      "text/plain": "     Unnamed: 0                                              Title  Author  \\\n0             5  Crucial conversations : tools for talking when...     NaN   \n1             9                             Be here now, remember.     NaN   \n2            23  A very merry temptation / Kimberly Kaye Terry,...     NaN   \n3            65  Crossing the frontier : photographs of the dev...     NaN   \n4            78  What's wrong with mindfulness (and what isn't)...     NaN   \n..          ...                                                ...     ...   \n540       10089  Contemporary American religion / Wade Clark Ro...     NaN   \n541       10102  ¡Manteca!: : an anthology of Afro-Latin@ poets...     NaN   \n542       10115  Here comes Mother Goose / edited by Iona Opie ...     NaN   \n543       10175  The best American comics 2009 / edited and wit...     NaN   \n544       10221  Wanat : combat action in Afghanistan, 2008 / t...     NaN   \n\n                                             TitleMain  \\\n0    Crucial conversations : tools for talking when...   \n1                               Be here now, remember.   \n2                             A very merry temptation    \n3    Crossing the frontier : photographs of the dev...   \n4    What's wrong with mindfulness (and what isn't)...   \n..                                                 ...   \n540                    Contemporary American religion    \n541    ¡Manteca!: : an anthology of Afro-Latin@ poets    \n542                           Here comes Mother Goose    \n543                     The best American comics 2009    \n544        Wanat : combat action in Afghanistan, 2008    \n\n                                              Subtitle  \n0                    Kerry Patterson ... [and others].  \n1                                                  NaN  \n2     Kimberly Kaye Terry, Pamela Yaye, Farrah Rochon.  \n3                 Sandra S. Phillips ... [and others].  \n4     edited by Robert Meikyo Rosenbaum and Barry M...  \n..                                                 ...  \n540                  Wade Clark Roof, editor in chief.  \n541                 edited by Melissa Castillo-Garsow.  \n542   edited by Iona Opie ; illustrated by Rosemary...  \n543   edited and with an introduction by Charles Bu...  \n544   the staff of the US Army Combat Studies Insti...  \n\n[545 rows x 5 columns]",
      "text/html": "<div>\n<style scoped>\n    .dataframe tbody tr th:only-of-type {\n        vertical-align: middle;\n    }\n\n    .dataframe tbody tr th {\n        vertical-align: top;\n    }\n\n    .dataframe thead th {\n        text-align: right;\n    }\n</style>\n<table border=\"1\" class=\"dataframe\">\n  <thead>\n    <tr style=\"text-align: right;\">\n      <th></th>\n      <th>Unnamed: 0</th>\n      <th>Title</th>\n      <th>Author</th>\n      <th>TitleMain</th>\n      <th>Subtitle</th>\n    </tr>\n  </thead>\n  <tbody>\n    <tr>\n      <th>0</th>\n      <td>5</td>\n      <td>Crucial conversations : tools for talking when...</td>\n      <td>NaN</td>\n      <td>Crucial conversations : tools for talking when...</td>\n      <td>Kerry Patterson ... [and others].</td>\n    </tr>\n    <tr>\n      <th>1</th>\n      <td>9</td>\n      <td>Be here now, remember.</td>\n      <td>NaN</td>\n      <td>Be here now, remember.</td>\n      <td>NaN</td>\n    </tr>\n    <tr>\n      <th>2</th>\n      <td>23</td>\n      <td>A very merry temptation / Kimberly Kaye Terry,...</td>\n      <td>NaN</td>\n      <td>A very merry temptation</td>\n      <td>Kimberly Kaye Terry, Pamela Yaye, Farrah Rochon.</td>\n    </tr>\n    <tr>\n      <th>3</th>\n      <td>65</td>\n      <td>Crossing the frontier : photographs of the dev...</td>\n      <td>NaN</td>\n      <td>Crossing the frontier : photographs of the dev...</td>\n      <td>Sandra S. Phillips ... [and others].</td>\n    </tr>\n    <tr>\n      <th>4</th>\n      <td>78</td>\n      <td>What's wrong with mindfulness (and what isn't)...</td>\n      <td>NaN</td>\n      <td>What's wrong with mindfulness (and what isn't)...</td>\n      <td>edited by Robert Meikyo Rosenbaum and Barry M...</td>\n    </tr>\n    <tr>\n      <th>...</th>\n      <td>...</td>\n      <td>...</td>\n      <td>...</td>\n      <td>...</td>\n      <td>...</td>\n    </tr>\n    <tr>\n      <th>540</th>\n      <td>10089</td>\n      <td>Contemporary American religion / Wade Clark Ro...</td>\n      <td>NaN</td>\n      <td>Contemporary American religion</td>\n      <td>Wade Clark Roof, editor in chief.</td>\n    </tr>\n    <tr>\n      <th>541</th>\n      <td>10102</td>\n      <td>¡Manteca!: : an anthology of Afro-Latin@ poets...</td>\n      <td>NaN</td>\n      <td>¡Manteca!: : an anthology of Afro-Latin@ poets</td>\n      <td>edited by Melissa Castillo-Garsow.</td>\n    </tr>\n    <tr>\n      <th>542</th>\n      <td>10115</td>\n      <td>Here comes Mother Goose / edited by Iona Opie ...</td>\n      <td>NaN</td>\n      <td>Here comes Mother Goose</td>\n      <td>edited by Iona Opie ; illustrated by Rosemary...</td>\n    </tr>\n    <tr>\n      <th>543</th>\n      <td>10175</td>\n      <td>The best American comics 2009 / edited and wit...</td>\n      <td>NaN</td>\n      <td>The best American comics 2009</td>\n      <td>edited and with an introduction by Charles Bu...</td>\n    </tr>\n    <tr>\n      <th>544</th>\n      <td>10221</td>\n      <td>Wanat : combat action in Afghanistan, 2008 / t...</td>\n      <td>NaN</td>\n      <td>Wanat : combat action in Afghanistan, 2008</td>\n      <td>the staff of the US Army Combat Studies Insti...</td>\n    </tr>\n  </tbody>\n</table>\n<p>545 rows × 5 columns</p>\n</div>"
     },
     "execution_count": 53,
     "metadata": {},
     "output_type": "execute_result"
    }
   ],
   "source": [
    "no_auth = pd.read_csv('no_author.csv')\n",
    "no_auth"
   ],
   "metadata": {
    "collapsed": false,
    "ExecuteTime": {
     "end_time": "2023-11-26T14:05:51.961080300Z",
     "start_time": "2023-11-26T14:05:51.941461600Z"
    }
   },
   "id": "bd10785b6c33ea81"
  },
  {
   "cell_type": "code",
   "execution_count": 89,
   "outputs": [],
   "source": [
    "take_everything_after = ['by', 'by ', 'by\\]']\n",
    "remove_if_at_the_end = ['editor', 'creative team', 'editor in chief', 'Editor', 'editors']\n",
    "remove_everything_before_first = ['authors, ', 'general editor, ', 'editor-in-chief: ', 'editor, ', 'writers, ', 'senior editor, ', 'edited by ', 'created by ', 'contributors, ', '\\[project editors, ', '\\[text, ', '\\[senior editor, ', '\\[senior designer and illustrator, ', '\\[main contributers, ', '\\[hensha ']\n",
    "ignore_completely_if_starts_with = ['the staff of', 'the editors at', 'published by', 'illustrated by the', 'from the editors of ', 'editors of ', 'developed by ', 'compiled from', 'by the editors of ', 'by WSI staff', 'all illustrations by the', '\\[by editors of ', 'U.S. Department', 'Smithsonian Books', 'Sivananda Yoga', 'Savannah Unit', 'Researches in ', \"Reader\", 'Prepared by the staff of', 'McGraw\\-Hill Education', 'LearningExpress', 'Good housekeeping', 'Anonymous', 'American Museum', \"America\\'s\", 'ULI office', 'nurse aide', 'Northwest Environment', 'National']"
   ],
   "metadata": {
    "collapsed": false,
    "ExecuteTime": {
     "end_time": "2023-11-26T14:25:07.793566200Z",
     "start_time": "2023-11-26T14:25:07.769926900Z"
    }
   },
   "id": "bb59a551a566c185"
  },
  {
   "cell_type": "code",
   "execution_count": 37,
   "outputs": [],
   "source": [
    "def subtitle_no_organizations(dataframe, column_name, new_column_name, not_start_with_list):\n",
    "    pattern_2 = f\"^(?!{'|'.join(not_start_with_list)}).*\"\n",
    "    mask = dataframe[column_name].str.contains(pattern_2, na=False)\n",
    "    dataframe[new_column_name] = dataframe.loc[mask, column_name]\n",
    "    return dataframe"
   ],
   "metadata": {
    "collapsed": false,
    "ExecuteTime": {
     "end_time": "2023-11-26T13:52:07.863880800Z",
     "start_time": "2023-11-26T13:52:07.853707400Z"
    }
   },
   "id": "8dd4037cffd28921"
  },
  {
   "cell_type": "code",
   "execution_count": 57,
   "outputs": [
    {
     "data": {
      "text/plain": "     Unnamed: 0                                              Title  Author  \\\n0             5  Crucial conversations : tools for talking when...     NaN   \n1             9                             Be here now, remember.     NaN   \n2            23  A very merry temptation / Kimberly Kaye Terry,...     NaN   \n3            65  Crossing the frontier : photographs of the dev...     NaN   \n4            78  What's wrong with mindfulness (and what isn't)...     NaN   \n..          ...                                                ...     ...   \n540       10089  Contemporary American religion / Wade Clark Ro...     NaN   \n541       10102  ¡Manteca!: : an anthology of Afro-Latin@ poets...     NaN   \n542       10115  Here comes Mother Goose / edited by Iona Opie ...     NaN   \n543       10175  The best American comics 2009 / edited and wit...     NaN   \n544       10221  Wanat : combat action in Afghanistan, 2008 / t...     NaN   \n\n                                             TitleMain  \\\n0    Crucial conversations : tools for talking when...   \n1                               Be here now, remember.   \n2                             A very merry temptation    \n3    Crossing the frontier : photographs of the dev...   \n4    What's wrong with mindfulness (and what isn't)...   \n..                                                 ...   \n540                    Contemporary American religion    \n541    ¡Manteca!: : an anthology of Afro-Latin@ poets    \n542                           Here comes Mother Goose    \n543                     The best American comics 2009    \n544        Wanat : combat action in Afghanistan, 2008    \n\n                                              Subtitle  \\\n0                    Kerry Patterson ... [and others].   \n1                                                  NaN   \n2     Kimberly Kaye Terry, Pamela Yaye, Farrah Rochon.   \n3                 Sandra S. Phillips ... [and others].   \n4     edited by Robert Meikyo Rosenbaum and Barry M...   \n..                                                 ...   \n540                  Wade Clark Roof, editor in chief.   \n541                 edited by Melissa Castillo-Garsow.   \n542   edited by Iona Opie ; illustrated by Rosemary...   \n543   edited and with an introduction by Charles Bu...   \n544   the staff of the US Army Combat Studies Insti...   \n\n                                         SubtitleNoOrg  \n0                    Kerry Patterson ... [and others].  \n1                                                  NaN  \n2     Kimberly Kaye Terry, Pamela Yaye, Farrah Rochon.  \n3                 Sandra S. Phillips ... [and others].  \n4     edited by Robert Meikyo Rosenbaum and Barry M...  \n..                                                 ...  \n540                  Wade Clark Roof, editor in chief.  \n541                 edited by Melissa Castillo-Garsow.  \n542   edited by Iona Opie ; illustrated by Rosemary...  \n543   edited and with an introduction by Charles Bu...  \n544   the staff of the US Army Combat Studies Insti...  \n\n[545 rows x 6 columns]",
      "text/html": "<div>\n<style scoped>\n    .dataframe tbody tr th:only-of-type {\n        vertical-align: middle;\n    }\n\n    .dataframe tbody tr th {\n        vertical-align: top;\n    }\n\n    .dataframe thead th {\n        text-align: right;\n    }\n</style>\n<table border=\"1\" class=\"dataframe\">\n  <thead>\n    <tr style=\"text-align: right;\">\n      <th></th>\n      <th>Unnamed: 0</th>\n      <th>Title</th>\n      <th>Author</th>\n      <th>TitleMain</th>\n      <th>Subtitle</th>\n      <th>SubtitleNoOrg</th>\n    </tr>\n  </thead>\n  <tbody>\n    <tr>\n      <th>0</th>\n      <td>5</td>\n      <td>Crucial conversations : tools for talking when...</td>\n      <td>NaN</td>\n      <td>Crucial conversations : tools for talking when...</td>\n      <td>Kerry Patterson ... [and others].</td>\n      <td>Kerry Patterson ... [and others].</td>\n    </tr>\n    <tr>\n      <th>1</th>\n      <td>9</td>\n      <td>Be here now, remember.</td>\n      <td>NaN</td>\n      <td>Be here now, remember.</td>\n      <td>NaN</td>\n      <td>NaN</td>\n    </tr>\n    <tr>\n      <th>2</th>\n      <td>23</td>\n      <td>A very merry temptation / Kimberly Kaye Terry,...</td>\n      <td>NaN</td>\n      <td>A very merry temptation</td>\n      <td>Kimberly Kaye Terry, Pamela Yaye, Farrah Rochon.</td>\n      <td>Kimberly Kaye Terry, Pamela Yaye, Farrah Rochon.</td>\n    </tr>\n    <tr>\n      <th>3</th>\n      <td>65</td>\n      <td>Crossing the frontier : photographs of the dev...</td>\n      <td>NaN</td>\n      <td>Crossing the frontier : photographs of the dev...</td>\n      <td>Sandra S. Phillips ... [and others].</td>\n      <td>Sandra S. Phillips ... [and others].</td>\n    </tr>\n    <tr>\n      <th>4</th>\n      <td>78</td>\n      <td>What's wrong with mindfulness (and what isn't)...</td>\n      <td>NaN</td>\n      <td>What's wrong with mindfulness (and what isn't)...</td>\n      <td>edited by Robert Meikyo Rosenbaum and Barry M...</td>\n      <td>edited by Robert Meikyo Rosenbaum and Barry M...</td>\n    </tr>\n    <tr>\n      <th>...</th>\n      <td>...</td>\n      <td>...</td>\n      <td>...</td>\n      <td>...</td>\n      <td>...</td>\n      <td>...</td>\n    </tr>\n    <tr>\n      <th>540</th>\n      <td>10089</td>\n      <td>Contemporary American religion / Wade Clark Ro...</td>\n      <td>NaN</td>\n      <td>Contemporary American religion</td>\n      <td>Wade Clark Roof, editor in chief.</td>\n      <td>Wade Clark Roof, editor in chief.</td>\n    </tr>\n    <tr>\n      <th>541</th>\n      <td>10102</td>\n      <td>¡Manteca!: : an anthology of Afro-Latin@ poets...</td>\n      <td>NaN</td>\n      <td>¡Manteca!: : an anthology of Afro-Latin@ poets</td>\n      <td>edited by Melissa Castillo-Garsow.</td>\n      <td>edited by Melissa Castillo-Garsow.</td>\n    </tr>\n    <tr>\n      <th>542</th>\n      <td>10115</td>\n      <td>Here comes Mother Goose / edited by Iona Opie ...</td>\n      <td>NaN</td>\n      <td>Here comes Mother Goose</td>\n      <td>edited by Iona Opie ; illustrated by Rosemary...</td>\n      <td>edited by Iona Opie ; illustrated by Rosemary...</td>\n    </tr>\n    <tr>\n      <th>543</th>\n      <td>10175</td>\n      <td>The best American comics 2009 / edited and wit...</td>\n      <td>NaN</td>\n      <td>The best American comics 2009</td>\n      <td>edited and with an introduction by Charles Bu...</td>\n      <td>edited and with an introduction by Charles Bu...</td>\n    </tr>\n    <tr>\n      <th>544</th>\n      <td>10221</td>\n      <td>Wanat : combat action in Afghanistan, 2008 / t...</td>\n      <td>NaN</td>\n      <td>Wanat : combat action in Afghanistan, 2008</td>\n      <td>the staff of the US Army Combat Studies Insti...</td>\n      <td>the staff of the US Army Combat Studies Insti...</td>\n    </tr>\n  </tbody>\n</table>\n<p>545 rows × 6 columns</p>\n</div>"
     },
     "execution_count": 57,
     "metadata": {},
     "output_type": "execute_result"
    }
   ],
   "source": [
    "no_auth_1 = subtitle_no_organizations(no_auth, 'Subtitle', 'SubtitleNoOrg', ignore_completely_if_starts_with)\n",
    "no_auth_1"
   ],
   "metadata": {
    "collapsed": false,
    "ExecuteTime": {
     "end_time": "2023-11-26T14:06:51.562040900Z",
     "start_time": "2023-11-26T14:06:51.544563300Z"
    }
   },
   "id": "d732cdc9c71bac5c"
  },
  {
   "cell_type": "code",
   "execution_count": 55,
   "outputs": [
    {
     "data": {
      "text/plain": "     Unnamed: 0                                              Title  Author  \\\n0             5  Crucial conversations : tools for talking when...     NaN   \n1             9                             Be here now, remember.     NaN   \n2            23  A very merry temptation / Kimberly Kaye Terry,...     NaN   \n3            65  Crossing the frontier : photographs of the dev...     NaN   \n4            78  What's wrong with mindfulness (and what isn't)...     NaN   \n..          ...                                                ...     ...   \n540       10089  Contemporary American religion / Wade Clark Ro...     NaN   \n541       10102  ¡Manteca!: : an anthology of Afro-Latin@ poets...     NaN   \n542       10115  Here comes Mother Goose / edited by Iona Opie ...     NaN   \n543       10175  The best American comics 2009 / edited and wit...     NaN   \n544       10221  Wanat : combat action in Afghanistan, 2008 / t...     NaN   \n\n                                             TitleMain  \\\n0    Crucial conversations : tools for talking when...   \n1                               Be here now, remember.   \n2                             A very merry temptation    \n3    Crossing the frontier : photographs of the dev...   \n4    What's wrong with mindfulness (and what isn't)...   \n..                                                 ...   \n540                    Contemporary American religion    \n541    ¡Manteca!: : an anthology of Afro-Latin@ poets    \n542                           Here comes Mother Goose    \n543                     The best American comics 2009    \n544        Wanat : combat action in Afghanistan, 2008    \n\n                                              Subtitle  \\\n0                    Kerry Patterson ... [and others].   \n1                                                  NaN   \n2     Kimberly Kaye Terry, Pamela Yaye, Farrah Rochon.   \n3                 Sandra S. Phillips ... [and others].   \n4     edited by Robert Meikyo Rosenbaum and Barry M...   \n..                                                 ...   \n540                  Wade Clark Roof, editor in chief.   \n541                 edited by Melissa Castillo-Garsow.   \n542   edited by Iona Opie ; illustrated by Rosemary...   \n543   edited and with an introduction by Charles Bu...   \n544   the staff of the US Army Combat Studies Insti...   \n\n                                         SubtitleNoOrg  \n0                    Kerry Patterson ... [and others].  \n1                                                  nan  \n2     Kimberly Kaye Terry, Pamela Yaye, Farrah Rochon.  \n3                 Sandra S. Phillips ... [and others].  \n4     edited by Robert Meikyo Rosenbaum and Barry M...  \n..                                                 ...  \n540                  Wade Clark Roof, editor in chief.  \n541                 edited by Melissa Castillo-Garsow.  \n542   edited by Iona Opie ; illustrated by Rosemary...  \n543   edited and with an introduction by Charles Bu...  \n544              the US Army Combat Studies Institute.  \n\n[545 rows x 6 columns]",
      "text/html": "<div>\n<style scoped>\n    .dataframe tbody tr th:only-of-type {\n        vertical-align: middle;\n    }\n\n    .dataframe tbody tr th {\n        vertical-align: top;\n    }\n\n    .dataframe thead th {\n        text-align: right;\n    }\n</style>\n<table border=\"1\" class=\"dataframe\">\n  <thead>\n    <tr style=\"text-align: right;\">\n      <th></th>\n      <th>Unnamed: 0</th>\n      <th>Title</th>\n      <th>Author</th>\n      <th>TitleMain</th>\n      <th>Subtitle</th>\n      <th>SubtitleNoOrg</th>\n    </tr>\n  </thead>\n  <tbody>\n    <tr>\n      <th>0</th>\n      <td>5</td>\n      <td>Crucial conversations : tools for talking when...</td>\n      <td>NaN</td>\n      <td>Crucial conversations : tools for talking when...</td>\n      <td>Kerry Patterson ... [and others].</td>\n      <td>Kerry Patterson ... [and others].</td>\n    </tr>\n    <tr>\n      <th>1</th>\n      <td>9</td>\n      <td>Be here now, remember.</td>\n      <td>NaN</td>\n      <td>Be here now, remember.</td>\n      <td>NaN</td>\n      <td>nan</td>\n    </tr>\n    <tr>\n      <th>2</th>\n      <td>23</td>\n      <td>A very merry temptation / Kimberly Kaye Terry,...</td>\n      <td>NaN</td>\n      <td>A very merry temptation</td>\n      <td>Kimberly Kaye Terry, Pamela Yaye, Farrah Rochon.</td>\n      <td>Kimberly Kaye Terry, Pamela Yaye, Farrah Rochon.</td>\n    </tr>\n    <tr>\n      <th>3</th>\n      <td>65</td>\n      <td>Crossing the frontier : photographs of the dev...</td>\n      <td>NaN</td>\n      <td>Crossing the frontier : photographs of the dev...</td>\n      <td>Sandra S. Phillips ... [and others].</td>\n      <td>Sandra S. Phillips ... [and others].</td>\n    </tr>\n    <tr>\n      <th>4</th>\n      <td>78</td>\n      <td>What's wrong with mindfulness (and what isn't)...</td>\n      <td>NaN</td>\n      <td>What's wrong with mindfulness (and what isn't)...</td>\n      <td>edited by Robert Meikyo Rosenbaum and Barry M...</td>\n      <td>edited by Robert Meikyo Rosenbaum and Barry M...</td>\n    </tr>\n    <tr>\n      <th>...</th>\n      <td>...</td>\n      <td>...</td>\n      <td>...</td>\n      <td>...</td>\n      <td>...</td>\n      <td>...</td>\n    </tr>\n    <tr>\n      <th>540</th>\n      <td>10089</td>\n      <td>Contemporary American religion / Wade Clark Ro...</td>\n      <td>NaN</td>\n      <td>Contemporary American religion</td>\n      <td>Wade Clark Roof, editor in chief.</td>\n      <td>Wade Clark Roof, editor in chief.</td>\n    </tr>\n    <tr>\n      <th>541</th>\n      <td>10102</td>\n      <td>¡Manteca!: : an anthology of Afro-Latin@ poets...</td>\n      <td>NaN</td>\n      <td>¡Manteca!: : an anthology of Afro-Latin@ poets</td>\n      <td>edited by Melissa Castillo-Garsow.</td>\n      <td>edited by Melissa Castillo-Garsow.</td>\n    </tr>\n    <tr>\n      <th>542</th>\n      <td>10115</td>\n      <td>Here comes Mother Goose / edited by Iona Opie ...</td>\n      <td>NaN</td>\n      <td>Here comes Mother Goose</td>\n      <td>edited by Iona Opie ; illustrated by Rosemary...</td>\n      <td>edited by Iona Opie ; illustrated by Rosemary...</td>\n    </tr>\n    <tr>\n      <th>543</th>\n      <td>10175</td>\n      <td>The best American comics 2009 / edited and wit...</td>\n      <td>NaN</td>\n      <td>The best American comics 2009</td>\n      <td>edited and with an introduction by Charles Bu...</td>\n      <td>edited and with an introduction by Charles Bu...</td>\n    </tr>\n    <tr>\n      <th>544</th>\n      <td>10221</td>\n      <td>Wanat : combat action in Afghanistan, 2008 / t...</td>\n      <td>NaN</td>\n      <td>Wanat : combat action in Afghanistan, 2008</td>\n      <td>the staff of the US Army Combat Studies Insti...</td>\n      <td>the US Army Combat Studies Institute.</td>\n    </tr>\n  </tbody>\n</table>\n<p>545 rows × 6 columns</p>\n</div>"
     },
     "execution_count": 55,
     "metadata": {},
     "output_type": "execute_result"
    }
   ],
   "source": [
    "no_auth_1['SubtitleNoOrg'] = no_auth_1['Subtitle']\n",
    "for org_starts in ignore_completely_if_starts_with:\n",
    "    pattern_1 = re.compile(f'\\\\b{org_starts}\\\\b')\n",
    "    no_auth_1['SubtitleNoOrg'] = no_auth_1['SubtitleNoOrg'].apply(lambda x: re.sub(pattern_1, '', str(x)))\n",
    "no_auth_1"
   ],
   "metadata": {
    "collapsed": false,
    "ExecuteTime": {
     "end_time": "2023-11-26T14:06:18.925438100Z",
     "start_time": "2023-11-26T14:06:18.918152900Z"
    }
   },
   "id": "7a2f2e669f53366d"
  },
  {
   "cell_type": "code",
   "execution_count": 59,
   "outputs": [
    {
     "data": {
      "text/plain": "     Unnamed: 0                                              Title  Author  \\\n0             5  Crucial conversations : tools for talking when...     NaN   \n1             9                             Be here now, remember.     NaN   \n2            23  A very merry temptation / Kimberly Kaye Terry,...     NaN   \n3            65  Crossing the frontier : photographs of the dev...     NaN   \n4            78  What's wrong with mindfulness (and what isn't)...     NaN   \n..          ...                                                ...     ...   \n540       10089  Contemporary American religion / Wade Clark Ro...     NaN   \n541       10102  ¡Manteca!: : an anthology of Afro-Latin@ poets...     NaN   \n542       10115  Here comes Mother Goose / edited by Iona Opie ...     NaN   \n543       10175  The best American comics 2009 / edited and wit...     NaN   \n544       10221  Wanat : combat action in Afghanistan, 2008 / t...     NaN   \n\n                                             TitleMain  \\\n0    Crucial conversations : tools for talking when...   \n1                               Be here now, remember.   \n2                             A very merry temptation    \n3    Crossing the frontier : photographs of the dev...   \n4    What's wrong with mindfulness (and what isn't)...   \n..                                                 ...   \n540                    Contemporary American religion    \n541    ¡Manteca!: : an anthology of Afro-Latin@ poets    \n542                           Here comes Mother Goose    \n543                     The best American comics 2009    \n544        Wanat : combat action in Afghanistan, 2008    \n\n                                              Subtitle  \\\n0                    Kerry Patterson ... [and others].   \n1                                                  NaN   \n2     Kimberly Kaye Terry, Pamela Yaye, Farrah Rochon.   \n3                 Sandra S. Phillips ... [and others].   \n4     edited by Robert Meikyo Rosenbaum and Barry M...   \n..                                                 ...   \n540                  Wade Clark Roof, editor in chief.   \n541                 edited by Melissa Castillo-Garsow.   \n542   edited by Iona Opie ; illustrated by Rosemary...   \n543   edited and with an introduction by Charles Bu...   \n544   the staff of the US Army Combat Studies Insti...   \n\n                                         SubtitleNoOrg  \n0                    Kerry Patterson ... [and others].  \n1                                                  NaN  \n2     Kimberly Kaye Terry, Pamela Yaye, Farrah Rochon.  \n3                 Sandra S. Phillips ... [and others].  \n4     edited by Robert Meikyo Rosenbaum and Barry M...  \n..                                                 ...  \n540                  Wade Clark Roof, editor in chief.  \n541                 edited by Melissa Castillo-Garsow.  \n542   edited by Iona Opie ; illustrated by Rosemary...  \n543   edited and with an introduction by Charles Bu...  \n544   the staff of the US Army Combat Studies Insti...  \n\n[543 rows x 6 columns]",
      "text/html": "<div>\n<style scoped>\n    .dataframe tbody tr th:only-of-type {\n        vertical-align: middle;\n    }\n\n    .dataframe tbody tr th {\n        vertical-align: top;\n    }\n\n    .dataframe thead th {\n        text-align: right;\n    }\n</style>\n<table border=\"1\" class=\"dataframe\">\n  <thead>\n    <tr style=\"text-align: right;\">\n      <th></th>\n      <th>Unnamed: 0</th>\n      <th>Title</th>\n      <th>Author</th>\n      <th>TitleMain</th>\n      <th>Subtitle</th>\n      <th>SubtitleNoOrg</th>\n    </tr>\n  </thead>\n  <tbody>\n    <tr>\n      <th>0</th>\n      <td>5</td>\n      <td>Crucial conversations : tools for talking when...</td>\n      <td>NaN</td>\n      <td>Crucial conversations : tools for talking when...</td>\n      <td>Kerry Patterson ... [and others].</td>\n      <td>Kerry Patterson ... [and others].</td>\n    </tr>\n    <tr>\n      <th>1</th>\n      <td>9</td>\n      <td>Be here now, remember.</td>\n      <td>NaN</td>\n      <td>Be here now, remember.</td>\n      <td>NaN</td>\n      <td>NaN</td>\n    </tr>\n    <tr>\n      <th>2</th>\n      <td>23</td>\n      <td>A very merry temptation / Kimberly Kaye Terry,...</td>\n      <td>NaN</td>\n      <td>A very merry temptation</td>\n      <td>Kimberly Kaye Terry, Pamela Yaye, Farrah Rochon.</td>\n      <td>Kimberly Kaye Terry, Pamela Yaye, Farrah Rochon.</td>\n    </tr>\n    <tr>\n      <th>3</th>\n      <td>65</td>\n      <td>Crossing the frontier : photographs of the dev...</td>\n      <td>NaN</td>\n      <td>Crossing the frontier : photographs of the dev...</td>\n      <td>Sandra S. Phillips ... [and others].</td>\n      <td>Sandra S. Phillips ... [and others].</td>\n    </tr>\n    <tr>\n      <th>4</th>\n      <td>78</td>\n      <td>What's wrong with mindfulness (and what isn't)...</td>\n      <td>NaN</td>\n      <td>What's wrong with mindfulness (and what isn't)...</td>\n      <td>edited by Robert Meikyo Rosenbaum and Barry M...</td>\n      <td>edited by Robert Meikyo Rosenbaum and Barry M...</td>\n    </tr>\n    <tr>\n      <th>...</th>\n      <td>...</td>\n      <td>...</td>\n      <td>...</td>\n      <td>...</td>\n      <td>...</td>\n      <td>...</td>\n    </tr>\n    <tr>\n      <th>540</th>\n      <td>10089</td>\n      <td>Contemporary American religion / Wade Clark Ro...</td>\n      <td>NaN</td>\n      <td>Contemporary American religion</td>\n      <td>Wade Clark Roof, editor in chief.</td>\n      <td>Wade Clark Roof, editor in chief.</td>\n    </tr>\n    <tr>\n      <th>541</th>\n      <td>10102</td>\n      <td>¡Manteca!: : an anthology of Afro-Latin@ poets...</td>\n      <td>NaN</td>\n      <td>¡Manteca!: : an anthology of Afro-Latin@ poets</td>\n      <td>edited by Melissa Castillo-Garsow.</td>\n      <td>edited by Melissa Castillo-Garsow.</td>\n    </tr>\n    <tr>\n      <th>542</th>\n      <td>10115</td>\n      <td>Here comes Mother Goose / edited by Iona Opie ...</td>\n      <td>NaN</td>\n      <td>Here comes Mother Goose</td>\n      <td>edited by Iona Opie ; illustrated by Rosemary...</td>\n      <td>edited by Iona Opie ; illustrated by Rosemary...</td>\n    </tr>\n    <tr>\n      <th>543</th>\n      <td>10175</td>\n      <td>The best American comics 2009 / edited and wit...</td>\n      <td>NaN</td>\n      <td>The best American comics 2009</td>\n      <td>edited and with an introduction by Charles Bu...</td>\n      <td>edited and with an introduction by Charles Bu...</td>\n    </tr>\n    <tr>\n      <th>544</th>\n      <td>10221</td>\n      <td>Wanat : combat action in Afghanistan, 2008 / t...</td>\n      <td>NaN</td>\n      <td>Wanat : combat action in Afghanistan, 2008</td>\n      <td>the staff of the US Army Combat Studies Insti...</td>\n      <td>the staff of the US Army Combat Studies Insti...</td>\n    </tr>\n  </tbody>\n</table>\n<p>543 rows × 6 columns</p>\n</div>"
     },
     "execution_count": 59,
     "metadata": {},
     "output_type": "execute_result"
    }
   ],
   "source": [
    "no_auth_1['SubtitleNoOrg'] = no_auth_1['Subtitle']\n",
    "for org_starts in ignore_completely_if_starts_with:\n",
    "    pattern_1 = re.compile(f'^\\\\b{org_starts}.*\\\\b')\n",
    "    mask = ~no_auth_1['SubtitleNoOrg'].str.contains(pattern_1, na=False, regex=True)\n",
    "    no_auth_1 = no_auth_1.loc[mask]\n",
    "no_auth_1"
   ],
   "metadata": {
    "collapsed": false,
    "ExecuteTime": {
     "end_time": "2023-11-26T14:07:53.839418300Z",
     "start_time": "2023-11-26T14:07:53.810562400Z"
    }
   },
   "id": "8de4c074a3eeda05"
  },
  {
   "cell_type": "code",
   "execution_count": 42,
   "outputs": [],
   "source": [
    "import numpy as np"
   ],
   "metadata": {
    "collapsed": false,
    "ExecuteTime": {
     "end_time": "2023-11-26T13:52:23.853442Z",
     "start_time": "2023-11-26T13:52:23.838561900Z"
    }
   },
   "id": "5825d48023b97985"
  },
  {
   "cell_type": "code",
   "execution_count": 43,
   "outputs": [
    {
     "data": {
      "text/plain": "     Unnamed: 0                                              Title  Author  \\\n0             5  Crucial conversations : tools for talking when...     NaN   \n1             9                             Be here now, remember.     NaN   \n2            23  A very merry temptation / Kimberly Kaye Terry,...     NaN   \n3            65  Crossing the frontier : photographs of the dev...     NaN   \n4            78  What's wrong with mindfulness (and what isn't)...     NaN   \n..          ...                                                ...     ...   \n540       10089  Contemporary American religion / Wade Clark Ro...     NaN   \n541       10102  ¡Manteca!: : an anthology of Afro-Latin@ poets...     NaN   \n542       10115  Here comes Mother Goose / edited by Iona Opie ...     NaN   \n543       10175  The best American comics 2009 / edited and wit...     NaN   \n544       10221  Wanat : combat action in Afghanistan, 2008 / t...     NaN   \n\n                                             TitleMain  \\\n0    Crucial conversations : tools for talking when...   \n1                               Be here now, remember.   \n2                             A very merry temptation    \n3    Crossing the frontier : photographs of the dev...   \n4    What's wrong with mindfulness (and what isn't)...   \n..                                                 ...   \n540                    Contemporary American religion    \n541    ¡Manteca!: : an anthology of Afro-Latin@ poets    \n542                           Here comes Mother Goose    \n543                     The best American comics 2009    \n544        Wanat : combat action in Afghanistan, 2008    \n\n                                              Subtitle  \\\n0                    Kerry Patterson ... [and others].   \n1                                                  NaN   \n2     Kimberly Kaye Terry, Pamela Yaye, Farrah Rochon.   \n3                 Sandra S. Phillips ... [and others].   \n4     edited by Robert Meikyo Rosenbaum and Barry M...   \n..                                                 ...   \n540                  Wade Clark Roof, editor in chief.   \n541                 edited by Melissa Castillo-Garsow.   \n542   edited by Iona Opie ; illustrated by Rosemary...   \n543   edited and with an introduction by Charles Bu...   \n544   the staff of the US Army Combat Studies Insti...   \n\n                                         SubtitleNoOrg  \n0                    Kerry Patterson ... [and others].  \n1                                                 <NA>  \n2     Kimberly Kaye Terry, Pamela Yaye, Farrah Rochon.  \n3                 Sandra S. Phillips ... [and others].  \n4     edited by Robert Meikyo Rosenbaum and Barry M...  \n..                                                 ...  \n540                  Wade Clark Roof, editor in chief.  \n541                 edited by Melissa Castillo-Garsow.  \n542   edited by Iona Opie ; illustrated by Rosemary...  \n543   edited and with an introduction by Charles Bu...  \n544   the staff of the US Army Combat Studies Insti...  \n\n[543 rows x 6 columns]",
      "text/html": "<div>\n<style scoped>\n    .dataframe tbody tr th:only-of-type {\n        vertical-align: middle;\n    }\n\n    .dataframe tbody tr th {\n        vertical-align: top;\n    }\n\n    .dataframe thead th {\n        text-align: right;\n    }\n</style>\n<table border=\"1\" class=\"dataframe\">\n  <thead>\n    <tr style=\"text-align: right;\">\n      <th></th>\n      <th>Unnamed: 0</th>\n      <th>Title</th>\n      <th>Author</th>\n      <th>TitleMain</th>\n      <th>Subtitle</th>\n      <th>SubtitleNoOrg</th>\n    </tr>\n  </thead>\n  <tbody>\n    <tr>\n      <th>0</th>\n      <td>5</td>\n      <td>Crucial conversations : tools for talking when...</td>\n      <td>NaN</td>\n      <td>Crucial conversations : tools for talking when...</td>\n      <td>Kerry Patterson ... [and others].</td>\n      <td>Kerry Patterson ... [and others].</td>\n    </tr>\n    <tr>\n      <th>1</th>\n      <td>9</td>\n      <td>Be here now, remember.</td>\n      <td>NaN</td>\n      <td>Be here now, remember.</td>\n      <td>NaN</td>\n      <td>&lt;NA&gt;</td>\n    </tr>\n    <tr>\n      <th>2</th>\n      <td>23</td>\n      <td>A very merry temptation / Kimberly Kaye Terry,...</td>\n      <td>NaN</td>\n      <td>A very merry temptation</td>\n      <td>Kimberly Kaye Terry, Pamela Yaye, Farrah Rochon.</td>\n      <td>Kimberly Kaye Terry, Pamela Yaye, Farrah Rochon.</td>\n    </tr>\n    <tr>\n      <th>3</th>\n      <td>65</td>\n      <td>Crossing the frontier : photographs of the dev...</td>\n      <td>NaN</td>\n      <td>Crossing the frontier : photographs of the dev...</td>\n      <td>Sandra S. Phillips ... [and others].</td>\n      <td>Sandra S. Phillips ... [and others].</td>\n    </tr>\n    <tr>\n      <th>4</th>\n      <td>78</td>\n      <td>What's wrong with mindfulness (and what isn't)...</td>\n      <td>NaN</td>\n      <td>What's wrong with mindfulness (and what isn't)...</td>\n      <td>edited by Robert Meikyo Rosenbaum and Barry M...</td>\n      <td>edited by Robert Meikyo Rosenbaum and Barry M...</td>\n    </tr>\n    <tr>\n      <th>...</th>\n      <td>...</td>\n      <td>...</td>\n      <td>...</td>\n      <td>...</td>\n      <td>...</td>\n      <td>...</td>\n    </tr>\n    <tr>\n      <th>540</th>\n      <td>10089</td>\n      <td>Contemporary American religion / Wade Clark Ro...</td>\n      <td>NaN</td>\n      <td>Contemporary American religion</td>\n      <td>Wade Clark Roof, editor in chief.</td>\n      <td>Wade Clark Roof, editor in chief.</td>\n    </tr>\n    <tr>\n      <th>541</th>\n      <td>10102</td>\n      <td>¡Manteca!: : an anthology of Afro-Latin@ poets...</td>\n      <td>NaN</td>\n      <td>¡Manteca!: : an anthology of Afro-Latin@ poets</td>\n      <td>edited by Melissa Castillo-Garsow.</td>\n      <td>edited by Melissa Castillo-Garsow.</td>\n    </tr>\n    <tr>\n      <th>542</th>\n      <td>10115</td>\n      <td>Here comes Mother Goose / edited by Iona Opie ...</td>\n      <td>NaN</td>\n      <td>Here comes Mother Goose</td>\n      <td>edited by Iona Opie ; illustrated by Rosemary...</td>\n      <td>edited by Iona Opie ; illustrated by Rosemary...</td>\n    </tr>\n    <tr>\n      <th>543</th>\n      <td>10175</td>\n      <td>The best American comics 2009 / edited and wit...</td>\n      <td>NaN</td>\n      <td>The best American comics 2009</td>\n      <td>edited and with an introduction by Charles Bu...</td>\n      <td>edited and with an introduction by Charles Bu...</td>\n    </tr>\n    <tr>\n      <th>544</th>\n      <td>10221</td>\n      <td>Wanat : combat action in Afghanistan, 2008 / t...</td>\n      <td>NaN</td>\n      <td>Wanat : combat action in Afghanistan, 2008</td>\n      <td>the staff of the US Army Combat Studies Insti...</td>\n      <td>the staff of the US Army Combat Studies Insti...</td>\n    </tr>\n  </tbody>\n</table>\n<p>543 rows × 6 columns</p>\n</div>"
     },
     "execution_count": 43,
     "metadata": {},
     "output_type": "execute_result"
    }
   ],
   "source": [
    "no_auth_1['SubtitleNoOrg'] = no_auth_1['SubtitleNoOrg'].astype('string')\n",
    "\n",
    "for ignore in ignore_completely_if_starts_with:\n",
    "    no_auth_1['SubtitleNoOrg'] = np.where(no_auth_1['SubtitleNoOrg'].str.startswith(ignore, na=False), None, no_auth_1['SubtitleNoOrg'])\n",
    "\n",
    "no_auth_1"
   ],
   "metadata": {
    "collapsed": false,
    "ExecuteTime": {
     "end_time": "2023-11-26T13:52:25.905240300Z",
     "start_time": "2023-11-26T13:52:25.883668500Z"
    }
   },
   "id": "5b831eaeb227afa0"
  },
  {
   "cell_type": "code",
   "execution_count": 44,
   "outputs": [
    {
     "data": {
      "text/plain": "     Unnamed: 0                                              Title  Author  \\\n0             5  Crucial conversations : tools for talking when...     NaN   \n1             9                             Be here now, remember.     NaN   \n2            23  A very merry temptation / Kimberly Kaye Terry,...     NaN   \n3            65  Crossing the frontier : photographs of the dev...     NaN   \n4            78  What's wrong with mindfulness (and what isn't)...     NaN   \n..          ...                                                ...     ...   \n540       10089  Contemporary American religion / Wade Clark Ro...     NaN   \n541       10102  ¡Manteca!: : an anthology of Afro-Latin@ poets...     NaN   \n542       10115  Here comes Mother Goose / edited by Iona Opie ...     NaN   \n543       10175  The best American comics 2009 / edited and wit...     NaN   \n544       10221  Wanat : combat action in Afghanistan, 2008 / t...     NaN   \n\n                                             TitleMain  \\\n0    Crucial conversations : tools for talking when...   \n1                               Be here now, remember.   \n2                             A very merry temptation    \n3    Crossing the frontier : photographs of the dev...   \n4    What's wrong with mindfulness (and what isn't)...   \n..                                                 ...   \n540                    Contemporary American religion    \n541    ¡Manteca!: : an anthology of Afro-Latin@ poets    \n542                           Here comes Mother Goose    \n543                     The best American comics 2009    \n544        Wanat : combat action in Afghanistan, 2008    \n\n                                              Subtitle  \\\n0                    Kerry Patterson ... [and others].   \n1                                                  NaN   \n2     Kimberly Kaye Terry, Pamela Yaye, Farrah Rochon.   \n3                 Sandra S. Phillips ... [and others].   \n4     edited by Robert Meikyo Rosenbaum and Barry M...   \n..                                                 ...   \n540                  Wade Clark Roof, editor in chief.   \n541                 edited by Melissa Castillo-Garsow.   \n542   edited by Iona Opie ; illustrated by Rosemary...   \n543   edited and with an introduction by Charles Bu...   \n544   the staff of the US Army Combat Studies Insti...   \n\n                                         SubtitleNoOrg  \n0                    Kerry Patterson ... [and others].  \n1                                                  NaN  \n2     Kimberly Kaye Terry, Pamela Yaye, Farrah Rochon.  \n3                 Sandra S. Phillips ... [and others].  \n4     edited by Robert Meikyo Rosenbaum and Barry M...  \n..                                                 ...  \n540                  Wade Clark Roof, editor in chief.  \n541                 edited by Melissa Castillo-Garsow.  \n542   edited by Iona Opie ; illustrated by Rosemary...  \n543   edited and with an introduction by Charles Bu...  \n544   the staff of the US Army Combat Studies Insti...  \n\n[545 rows x 6 columns]",
      "text/html": "<div>\n<style scoped>\n    .dataframe tbody tr th:only-of-type {\n        vertical-align: middle;\n    }\n\n    .dataframe tbody tr th {\n        vertical-align: top;\n    }\n\n    .dataframe thead th {\n        text-align: right;\n    }\n</style>\n<table border=\"1\" class=\"dataframe\">\n  <thead>\n    <tr style=\"text-align: right;\">\n      <th></th>\n      <th>Unnamed: 0</th>\n      <th>Title</th>\n      <th>Author</th>\n      <th>TitleMain</th>\n      <th>Subtitle</th>\n      <th>SubtitleNoOrg</th>\n    </tr>\n  </thead>\n  <tbody>\n    <tr>\n      <th>0</th>\n      <td>5</td>\n      <td>Crucial conversations : tools for talking when...</td>\n      <td>NaN</td>\n      <td>Crucial conversations : tools for talking when...</td>\n      <td>Kerry Patterson ... [and others].</td>\n      <td>Kerry Patterson ... [and others].</td>\n    </tr>\n    <tr>\n      <th>1</th>\n      <td>9</td>\n      <td>Be here now, remember.</td>\n      <td>NaN</td>\n      <td>Be here now, remember.</td>\n      <td>NaN</td>\n      <td>NaN</td>\n    </tr>\n    <tr>\n      <th>2</th>\n      <td>23</td>\n      <td>A very merry temptation / Kimberly Kaye Terry,...</td>\n      <td>NaN</td>\n      <td>A very merry temptation</td>\n      <td>Kimberly Kaye Terry, Pamela Yaye, Farrah Rochon.</td>\n      <td>Kimberly Kaye Terry, Pamela Yaye, Farrah Rochon.</td>\n    </tr>\n    <tr>\n      <th>3</th>\n      <td>65</td>\n      <td>Crossing the frontier : photographs of the dev...</td>\n      <td>NaN</td>\n      <td>Crossing the frontier : photographs of the dev...</td>\n      <td>Sandra S. Phillips ... [and others].</td>\n      <td>Sandra S. Phillips ... [and others].</td>\n    </tr>\n    <tr>\n      <th>4</th>\n      <td>78</td>\n      <td>What's wrong with mindfulness (and what isn't)...</td>\n      <td>NaN</td>\n      <td>What's wrong with mindfulness (and what isn't)...</td>\n      <td>edited by Robert Meikyo Rosenbaum and Barry M...</td>\n      <td>edited by Robert Meikyo Rosenbaum and Barry M...</td>\n    </tr>\n    <tr>\n      <th>...</th>\n      <td>...</td>\n      <td>...</td>\n      <td>...</td>\n      <td>...</td>\n      <td>...</td>\n      <td>...</td>\n    </tr>\n    <tr>\n      <th>540</th>\n      <td>10089</td>\n      <td>Contemporary American religion / Wade Clark Ro...</td>\n      <td>NaN</td>\n      <td>Contemporary American religion</td>\n      <td>Wade Clark Roof, editor in chief.</td>\n      <td>Wade Clark Roof, editor in chief.</td>\n    </tr>\n    <tr>\n      <th>541</th>\n      <td>10102</td>\n      <td>¡Manteca!: : an anthology of Afro-Latin@ poets...</td>\n      <td>NaN</td>\n      <td>¡Manteca!: : an anthology of Afro-Latin@ poets</td>\n      <td>edited by Melissa Castillo-Garsow.</td>\n      <td>edited by Melissa Castillo-Garsow.</td>\n    </tr>\n    <tr>\n      <th>542</th>\n      <td>10115</td>\n      <td>Here comes Mother Goose / edited by Iona Opie ...</td>\n      <td>NaN</td>\n      <td>Here comes Mother Goose</td>\n      <td>edited by Iona Opie ; illustrated by Rosemary...</td>\n      <td>edited by Iona Opie ; illustrated by Rosemary...</td>\n    </tr>\n    <tr>\n      <th>543</th>\n      <td>10175</td>\n      <td>The best American comics 2009 / edited and wit...</td>\n      <td>NaN</td>\n      <td>The best American comics 2009</td>\n      <td>edited and with an introduction by Charles Bu...</td>\n      <td>edited and with an introduction by Charles Bu...</td>\n    </tr>\n    <tr>\n      <th>544</th>\n      <td>10221</td>\n      <td>Wanat : combat action in Afghanistan, 2008 / t...</td>\n      <td>NaN</td>\n      <td>Wanat : combat action in Afghanistan, 2008</td>\n      <td>the staff of the US Army Combat Studies Insti...</td>\n      <td>the staff of the US Army Combat Studies Insti...</td>\n    </tr>\n  </tbody>\n</table>\n<p>545 rows × 6 columns</p>\n</div>"
     },
     "execution_count": 44,
     "metadata": {},
     "output_type": "execute_result"
    }
   ],
   "source": [
    "no_auth['SubtitleNoOrg'] = no_auth['Subtitle']\n",
    "no_auth"
   ],
   "metadata": {
    "collapsed": false,
    "ExecuteTime": {
     "end_time": "2023-11-26T13:52:28.891293300Z",
     "start_time": "2023-11-26T13:52:28.876283800Z"
    }
   },
   "id": "4ee59972a0222238"
  },
  {
   "cell_type": "code",
   "execution_count": 60,
   "outputs": [
    {
     "data": {
      "text/plain": "     Unnamed: 0                                              Title  Author  \\\n0             5  Crucial conversations : tools for talking when...     NaN   \n1             9                             Be here now, remember.     NaN   \n2            23  A very merry temptation / Kimberly Kaye Terry,...     NaN   \n3            65  Crossing the frontier : photographs of the dev...     NaN   \n4            78  What's wrong with mindfulness (and what isn't)...     NaN   \n..          ...                                                ...     ...   \n540       10089  Contemporary American religion / Wade Clark Ro...     NaN   \n541       10102  ¡Manteca!: : an anthology of Afro-Latin@ poets...     NaN   \n542       10115  Here comes Mother Goose / edited by Iona Opie ...     NaN   \n543       10175  The best American comics 2009 / edited and wit...     NaN   \n544       10221  Wanat : combat action in Afghanistan, 2008 / t...     NaN   \n\n                                             TitleMain  \\\n0    Crucial conversations : tools for talking when...   \n1                               Be here now, remember.   \n2                             A very merry temptation    \n3    Crossing the frontier : photographs of the dev...   \n4    What's wrong with mindfulness (and what isn't)...   \n..                                                 ...   \n540                    Contemporary American religion    \n541    ¡Manteca!: : an anthology of Afro-Latin@ poets    \n542                           Here comes Mother Goose    \n543                     The best American comics 2009    \n544        Wanat : combat action in Afghanistan, 2008    \n\n                                              Subtitle  \\\n0                    Kerry Patterson ... [and others].   \n1                                                  NaN   \n2     Kimberly Kaye Terry, Pamela Yaye, Farrah Rochon.   \n3                 Sandra S. Phillips ... [and others].   \n4     edited by Robert Meikyo Rosenbaum and Barry M...   \n..                                                 ...   \n540                  Wade Clark Roof, editor in chief.   \n541                 edited by Melissa Castillo-Garsow.   \n542   edited by Iona Opie ; illustrated by Rosemary...   \n543   edited and with an introduction by Charles Bu...   \n544   the staff of the US Army Combat Studies Insti...   \n\n                                         SubtitleNoOrg  \n0                    Kerry Patterson ... [and others].  \n1                                                  NaN  \n2     Kimberly Kaye Terry, Pamela Yaye, Farrah Rochon.  \n3                 Sandra S. Phillips ... [and others].  \n4     edited by Robert Meikyo Rosenbaum and Barry M...  \n..                                                 ...  \n540                  Wade Clark Roof, editor in chief.  \n541                 edited by Melissa Castillo-Garsow.  \n542   edited by Iona Opie ; illustrated by Rosemary...  \n543   edited and with an introduction by Charles Bu...  \n544   the staff of the US Army Combat Studies Insti...  \n\n[545 rows x 6 columns]",
      "text/html": "<div>\n<style scoped>\n    .dataframe tbody tr th:only-of-type {\n        vertical-align: middle;\n    }\n\n    .dataframe tbody tr th {\n        vertical-align: top;\n    }\n\n    .dataframe thead th {\n        text-align: right;\n    }\n</style>\n<table border=\"1\" class=\"dataframe\">\n  <thead>\n    <tr style=\"text-align: right;\">\n      <th></th>\n      <th>Unnamed: 0</th>\n      <th>Title</th>\n      <th>Author</th>\n      <th>TitleMain</th>\n      <th>Subtitle</th>\n      <th>SubtitleNoOrg</th>\n    </tr>\n  </thead>\n  <tbody>\n    <tr>\n      <th>0</th>\n      <td>5</td>\n      <td>Crucial conversations : tools for talking when...</td>\n      <td>NaN</td>\n      <td>Crucial conversations : tools for talking when...</td>\n      <td>Kerry Patterson ... [and others].</td>\n      <td>Kerry Patterson ... [and others].</td>\n    </tr>\n    <tr>\n      <th>1</th>\n      <td>9</td>\n      <td>Be here now, remember.</td>\n      <td>NaN</td>\n      <td>Be here now, remember.</td>\n      <td>NaN</td>\n      <td>NaN</td>\n    </tr>\n    <tr>\n      <th>2</th>\n      <td>23</td>\n      <td>A very merry temptation / Kimberly Kaye Terry,...</td>\n      <td>NaN</td>\n      <td>A very merry temptation</td>\n      <td>Kimberly Kaye Terry, Pamela Yaye, Farrah Rochon.</td>\n      <td>Kimberly Kaye Terry, Pamela Yaye, Farrah Rochon.</td>\n    </tr>\n    <tr>\n      <th>3</th>\n      <td>65</td>\n      <td>Crossing the frontier : photographs of the dev...</td>\n      <td>NaN</td>\n      <td>Crossing the frontier : photographs of the dev...</td>\n      <td>Sandra S. Phillips ... [and others].</td>\n      <td>Sandra S. Phillips ... [and others].</td>\n    </tr>\n    <tr>\n      <th>4</th>\n      <td>78</td>\n      <td>What's wrong with mindfulness (and what isn't)...</td>\n      <td>NaN</td>\n      <td>What's wrong with mindfulness (and what isn't)...</td>\n      <td>edited by Robert Meikyo Rosenbaum and Barry M...</td>\n      <td>edited by Robert Meikyo Rosenbaum and Barry M...</td>\n    </tr>\n    <tr>\n      <th>...</th>\n      <td>...</td>\n      <td>...</td>\n      <td>...</td>\n      <td>...</td>\n      <td>...</td>\n      <td>...</td>\n    </tr>\n    <tr>\n      <th>540</th>\n      <td>10089</td>\n      <td>Contemporary American religion / Wade Clark Ro...</td>\n      <td>NaN</td>\n      <td>Contemporary American religion</td>\n      <td>Wade Clark Roof, editor in chief.</td>\n      <td>Wade Clark Roof, editor in chief.</td>\n    </tr>\n    <tr>\n      <th>541</th>\n      <td>10102</td>\n      <td>¡Manteca!: : an anthology of Afro-Latin@ poets...</td>\n      <td>NaN</td>\n      <td>¡Manteca!: : an anthology of Afro-Latin@ poets</td>\n      <td>edited by Melissa Castillo-Garsow.</td>\n      <td>edited by Melissa Castillo-Garsow.</td>\n    </tr>\n    <tr>\n      <th>542</th>\n      <td>10115</td>\n      <td>Here comes Mother Goose / edited by Iona Opie ...</td>\n      <td>NaN</td>\n      <td>Here comes Mother Goose</td>\n      <td>edited by Iona Opie ; illustrated by Rosemary...</td>\n      <td>edited by Iona Opie ; illustrated by Rosemary...</td>\n    </tr>\n    <tr>\n      <th>543</th>\n      <td>10175</td>\n      <td>The best American comics 2009 / edited and wit...</td>\n      <td>NaN</td>\n      <td>The best American comics 2009</td>\n      <td>edited and with an introduction by Charles Bu...</td>\n      <td>edited and with an introduction by Charles Bu...</td>\n    </tr>\n    <tr>\n      <th>544</th>\n      <td>10221</td>\n      <td>Wanat : combat action in Afghanistan, 2008 / t...</td>\n      <td>NaN</td>\n      <td>Wanat : combat action in Afghanistan, 2008</td>\n      <td>the staff of the US Army Combat Studies Insti...</td>\n      <td>the staff of the US Army Combat Studies Insti...</td>\n    </tr>\n  </tbody>\n</table>\n<p>545 rows × 6 columns</p>\n</div>"
     },
     "execution_count": 60,
     "metadata": {},
     "output_type": "execute_result"
    }
   ],
   "source": [
    "for ign in ignore_completely_if_starts_with:\n",
    "    pattern_1 = re.compile(f'^\\\\b{ign}\\\\b')\n",
    "    no_auth['SubtitleNoOrg'].str.strip().replace(to_replace=pattern_1, value=pd.NA, regex=True)\n",
    "no_auth"
   ],
   "metadata": {
    "collapsed": false,
    "ExecuteTime": {
     "end_time": "2023-11-26T14:08:22.595553600Z",
     "start_time": "2023-11-26T14:08:22.579020200Z"
    }
   },
   "id": "f5389b9d1648209c"
  },
  {
   "cell_type": "code",
   "execution_count": 74,
   "outputs": [],
   "source": [
    "def remove_records_start_with(dataframe, column_name, words_to_remove):\n",
    "    pattern = '|'.join(r'^{}\\b.*'.format(word) for word in words_to_remove)\n",
    "    dataframe[column_name] = dataframe[column_name].str.replace(pattern, '', regex=True)\n",
    "    return dataframe"
   ],
   "metadata": {
    "collapsed": false,
    "ExecuteTime": {
     "end_time": "2023-11-26T14:16:29.275457300Z",
     "start_time": "2023-11-26T14:16:29.257448900Z"
    }
   },
   "id": "a2c27ed015a0f30c"
  },
  {
   "cell_type": "code",
   "execution_count": 75,
   "outputs": [
    {
     "data": {
      "text/plain": "     Unnamed: 0                                              Title  Author  \\\n0             5  Crucial conversations : tools for talking when...     NaN   \n1             9                             Be here now, remember.     NaN   \n2            23  A very merry temptation / Kimberly Kaye Terry,...     NaN   \n3            65  Crossing the frontier : photographs of the dev...     NaN   \n4            78  What's wrong with mindfulness (and what isn't)...     NaN   \n..          ...                                                ...     ...   \n540       10089  Contemporary American religion / Wade Clark Ro...     NaN   \n541       10102  ¡Manteca!: : an anthology of Afro-Latin@ poets...     NaN   \n542       10115  Here comes Mother Goose / edited by Iona Opie ...     NaN   \n543       10175  The best American comics 2009 / edited and wit...     NaN   \n544       10221  Wanat : combat action in Afghanistan, 2008 / t...     NaN   \n\n                                             TitleMain  \\\n0    Crucial conversations : tools for talking when...   \n1                               Be here now, remember.   \n2                             A very merry temptation    \n3    Crossing the frontier : photographs of the dev...   \n4    What's wrong with mindfulness (and what isn't)...   \n..                                                 ...   \n540                    Contemporary American religion    \n541    ¡Manteca!: : an anthology of Afro-Latin@ poets    \n542                           Here comes Mother Goose    \n543                     The best American comics 2009    \n544        Wanat : combat action in Afghanistan, 2008    \n\n                                              Subtitle  \\\n0                    Kerry Patterson ... [and others].   \n1                                                 <NA>   \n2     Kimberly Kaye Terry, Pamela Yaye, Farrah Rochon.   \n3                 Sandra S. Phillips ... [and others].   \n4     edited by Robert Meikyo Rosenbaum and Barry M...   \n..                                                 ...   \n540                  Wade Clark Roof, editor in chief.   \n541                 edited by Melissa Castillo-Garsow.   \n542   edited by Iona Opie ; illustrated by Rosemary...   \n543   edited and with an introduction by Charles Bu...   \n544   the staff of the US Army Combat Studies Insti...   \n\n                                         SubtitleNoOrg  \\\n0                    Kerry Patterson ... [and others].   \n1                                                 <NA>   \n2     Kimberly Kaye Terry, Pamela Yaye, Farrah Rochon.   \n3                 Sandra S. Phillips ... [and others].   \n4    edited by Robert Meikyo Rosenbaum and Barry Ma...   \n..                                                 ...   \n540                  Wade Clark Roof, editor in chief.   \n541                 edited by Melissa Castillo-Garsow.   \n542  edited by Iona Opie ; illustrated by Rosemary ...   \n543  edited and with an introduction by Charles Bur...   \n544                                                      \n\n                                     SubtitleNoOrgPref  \n0                    Kerry Patterson ... [and others].  \n1                                                 <NA>  \n2     Kimberly Kaye Terry, Pamela Yaye, Farrah Rochon.  \n3                 Sandra S. Phillips ... [and others].  \n4    edited by Robert Meikyo Rosenbaum and Barry Ma...  \n..                                                 ...  \n540                  Wade Clark Roof, editor in chief.  \n541                 edited by Melissa Castillo-Garsow.  \n542  edited by Iona Opie ; illustrated by Rosemary ...  \n543  edited and with an introduction by Charles Bur...  \n544                                                     \n\n[545 rows x 7 columns]",
      "text/html": "<div>\n<style scoped>\n    .dataframe tbody tr th:only-of-type {\n        vertical-align: middle;\n    }\n\n    .dataframe tbody tr th {\n        vertical-align: top;\n    }\n\n    .dataframe thead th {\n        text-align: right;\n    }\n</style>\n<table border=\"1\" class=\"dataframe\">\n  <thead>\n    <tr style=\"text-align: right;\">\n      <th></th>\n      <th>Unnamed: 0</th>\n      <th>Title</th>\n      <th>Author</th>\n      <th>TitleMain</th>\n      <th>Subtitle</th>\n      <th>SubtitleNoOrg</th>\n      <th>SubtitleNoOrgPref</th>\n    </tr>\n  </thead>\n  <tbody>\n    <tr>\n      <th>0</th>\n      <td>5</td>\n      <td>Crucial conversations : tools for talking when...</td>\n      <td>NaN</td>\n      <td>Crucial conversations : tools for talking when...</td>\n      <td>Kerry Patterson ... [and others].</td>\n      <td>Kerry Patterson ... [and others].</td>\n      <td>Kerry Patterson ... [and others].</td>\n    </tr>\n    <tr>\n      <th>1</th>\n      <td>9</td>\n      <td>Be here now, remember.</td>\n      <td>NaN</td>\n      <td>Be here now, remember.</td>\n      <td>&lt;NA&gt;</td>\n      <td>&lt;NA&gt;</td>\n      <td>&lt;NA&gt;</td>\n    </tr>\n    <tr>\n      <th>2</th>\n      <td>23</td>\n      <td>A very merry temptation / Kimberly Kaye Terry,...</td>\n      <td>NaN</td>\n      <td>A very merry temptation</td>\n      <td>Kimberly Kaye Terry, Pamela Yaye, Farrah Rochon.</td>\n      <td>Kimberly Kaye Terry, Pamela Yaye, Farrah Rochon.</td>\n      <td>Kimberly Kaye Terry, Pamela Yaye, Farrah Rochon.</td>\n    </tr>\n    <tr>\n      <th>3</th>\n      <td>65</td>\n      <td>Crossing the frontier : photographs of the dev...</td>\n      <td>NaN</td>\n      <td>Crossing the frontier : photographs of the dev...</td>\n      <td>Sandra S. Phillips ... [and others].</td>\n      <td>Sandra S. Phillips ... [and others].</td>\n      <td>Sandra S. Phillips ... [and others].</td>\n    </tr>\n    <tr>\n      <th>4</th>\n      <td>78</td>\n      <td>What's wrong with mindfulness (and what isn't)...</td>\n      <td>NaN</td>\n      <td>What's wrong with mindfulness (and what isn't)...</td>\n      <td>edited by Robert Meikyo Rosenbaum and Barry M...</td>\n      <td>edited by Robert Meikyo Rosenbaum and Barry Ma...</td>\n      <td>edited by Robert Meikyo Rosenbaum and Barry Ma...</td>\n    </tr>\n    <tr>\n      <th>...</th>\n      <td>...</td>\n      <td>...</td>\n      <td>...</td>\n      <td>...</td>\n      <td>...</td>\n      <td>...</td>\n      <td>...</td>\n    </tr>\n    <tr>\n      <th>540</th>\n      <td>10089</td>\n      <td>Contemporary American religion / Wade Clark Ro...</td>\n      <td>NaN</td>\n      <td>Contemporary American religion</td>\n      <td>Wade Clark Roof, editor in chief.</td>\n      <td>Wade Clark Roof, editor in chief.</td>\n      <td>Wade Clark Roof, editor in chief.</td>\n    </tr>\n    <tr>\n      <th>541</th>\n      <td>10102</td>\n      <td>¡Manteca!: : an anthology of Afro-Latin@ poets...</td>\n      <td>NaN</td>\n      <td>¡Manteca!: : an anthology of Afro-Latin@ poets</td>\n      <td>edited by Melissa Castillo-Garsow.</td>\n      <td>edited by Melissa Castillo-Garsow.</td>\n      <td>edited by Melissa Castillo-Garsow.</td>\n    </tr>\n    <tr>\n      <th>542</th>\n      <td>10115</td>\n      <td>Here comes Mother Goose / edited by Iona Opie ...</td>\n      <td>NaN</td>\n      <td>Here comes Mother Goose</td>\n      <td>edited by Iona Opie ; illustrated by Rosemary...</td>\n      <td>edited by Iona Opie ; illustrated by Rosemary ...</td>\n      <td>edited by Iona Opie ; illustrated by Rosemary ...</td>\n    </tr>\n    <tr>\n      <th>543</th>\n      <td>10175</td>\n      <td>The best American comics 2009 / edited and wit...</td>\n      <td>NaN</td>\n      <td>The best American comics 2009</td>\n      <td>edited and with an introduction by Charles Bu...</td>\n      <td>edited and with an introduction by Charles Bur...</td>\n      <td>edited and with an introduction by Charles Bur...</td>\n    </tr>\n    <tr>\n      <th>544</th>\n      <td>10221</td>\n      <td>Wanat : combat action in Afghanistan, 2008 / t...</td>\n      <td>NaN</td>\n      <td>Wanat : combat action in Afghanistan, 2008</td>\n      <td>the staff of the US Army Combat Studies Insti...</td>\n      <td></td>\n      <td></td>\n    </tr>\n  </tbody>\n</table>\n<p>545 rows × 7 columns</p>\n</div>"
     },
     "execution_count": 75,
     "metadata": {},
     "output_type": "execute_result"
    }
   ],
   "source": [
    "no_auth['Subtitle'] = no_auth['Subtitle'].astype('string')\n",
    "no_auth"
   ],
   "metadata": {
    "collapsed": false,
    "ExecuteTime": {
     "end_time": "2023-11-26T14:16:35.395585400Z",
     "start_time": "2023-11-26T14:16:35.371078900Z"
    }
   },
   "id": "8e6ab4ae6778b04c"
  },
  {
   "cell_type": "code",
   "execution_count": 76,
   "outputs": [
    {
     "data": {
      "text/plain": "     Unnamed: 0                                              Title  Author  \\\n0             5  Crucial conversations : tools for talking when...     NaN   \n1             9                             Be here now, remember.     NaN   \n2            23  A very merry temptation / Kimberly Kaye Terry,...     NaN   \n3            65  Crossing the frontier : photographs of the dev...     NaN   \n4            78  What's wrong with mindfulness (and what isn't)...     NaN   \n..          ...                                                ...     ...   \n540       10089  Contemporary American religion / Wade Clark Ro...     NaN   \n541       10102  ¡Manteca!: : an anthology of Afro-Latin@ poets...     NaN   \n542       10115  Here comes Mother Goose / edited by Iona Opie ...     NaN   \n543       10175  The best American comics 2009 / edited and wit...     NaN   \n544       10221  Wanat : combat action in Afghanistan, 2008 / t...     NaN   \n\n                                             TitleMain  \\\n0    Crucial conversations : tools for talking when...   \n1                               Be here now, remember.   \n2                             A very merry temptation    \n3    Crossing the frontier : photographs of the dev...   \n4    What's wrong with mindfulness (and what isn't)...   \n..                                                 ...   \n540                    Contemporary American religion    \n541    ¡Manteca!: : an anthology of Afro-Latin@ poets    \n542                           Here comes Mother Goose    \n543                     The best American comics 2009    \n544        Wanat : combat action in Afghanistan, 2008    \n\n                                              Subtitle  \\\n0                    Kerry Patterson ... [and others].   \n1                                                 <NA>   \n2     Kimberly Kaye Terry, Pamela Yaye, Farrah Rochon.   \n3                 Sandra S. Phillips ... [and others].   \n4     edited by Robert Meikyo Rosenbaum and Barry M...   \n..                                                 ...   \n540                  Wade Clark Roof, editor in chief.   \n541                 edited by Melissa Castillo-Garsow.   \n542   edited by Iona Opie ; illustrated by Rosemary...   \n543   edited and with an introduction by Charles Bu...   \n544   the staff of the US Army Combat Studies Insti...   \n\n                                         SubtitleNoOrg  \\\n0                    Kerry Patterson ... [and others].   \n1                                                 <NA>   \n2     Kimberly Kaye Terry, Pamela Yaye, Farrah Rochon.   \n3                 Sandra S. Phillips ... [and others].   \n4    edited by Robert Meikyo Rosenbaum and Barry Ma...   \n..                                                 ...   \n540                  Wade Clark Roof, editor in chief.   \n541                 edited by Melissa Castillo-Garsow.   \n542  edited by Iona Opie ; illustrated by Rosemary ...   \n543  edited and with an introduction by Charles Bur...   \n544  the staff of the US Army Combat Studies Instit...   \n\n                                     SubtitleNoOrgPref  \n0                    Kerry Patterson ... [and others].  \n1                                                 <NA>  \n2     Kimberly Kaye Terry, Pamela Yaye, Farrah Rochon.  \n3                 Sandra S. Phillips ... [and others].  \n4    edited by Robert Meikyo Rosenbaum and Barry Ma...  \n..                                                 ...  \n540                  Wade Clark Roof, editor in chief.  \n541                 edited by Melissa Castillo-Garsow.  \n542  edited by Iona Opie ; illustrated by Rosemary ...  \n543  edited and with an introduction by Charles Bur...  \n544                                                     \n\n[545 rows x 7 columns]",
      "text/html": "<div>\n<style scoped>\n    .dataframe tbody tr th:only-of-type {\n        vertical-align: middle;\n    }\n\n    .dataframe tbody tr th {\n        vertical-align: top;\n    }\n\n    .dataframe thead th {\n        text-align: right;\n    }\n</style>\n<table border=\"1\" class=\"dataframe\">\n  <thead>\n    <tr style=\"text-align: right;\">\n      <th></th>\n      <th>Unnamed: 0</th>\n      <th>Title</th>\n      <th>Author</th>\n      <th>TitleMain</th>\n      <th>Subtitle</th>\n      <th>SubtitleNoOrg</th>\n      <th>SubtitleNoOrgPref</th>\n    </tr>\n  </thead>\n  <tbody>\n    <tr>\n      <th>0</th>\n      <td>5</td>\n      <td>Crucial conversations : tools for talking when...</td>\n      <td>NaN</td>\n      <td>Crucial conversations : tools for talking when...</td>\n      <td>Kerry Patterson ... [and others].</td>\n      <td>Kerry Patterson ... [and others].</td>\n      <td>Kerry Patterson ... [and others].</td>\n    </tr>\n    <tr>\n      <th>1</th>\n      <td>9</td>\n      <td>Be here now, remember.</td>\n      <td>NaN</td>\n      <td>Be here now, remember.</td>\n      <td>&lt;NA&gt;</td>\n      <td>&lt;NA&gt;</td>\n      <td>&lt;NA&gt;</td>\n    </tr>\n    <tr>\n      <th>2</th>\n      <td>23</td>\n      <td>A very merry temptation / Kimberly Kaye Terry,...</td>\n      <td>NaN</td>\n      <td>A very merry temptation</td>\n      <td>Kimberly Kaye Terry, Pamela Yaye, Farrah Rochon.</td>\n      <td>Kimberly Kaye Terry, Pamela Yaye, Farrah Rochon.</td>\n      <td>Kimberly Kaye Terry, Pamela Yaye, Farrah Rochon.</td>\n    </tr>\n    <tr>\n      <th>3</th>\n      <td>65</td>\n      <td>Crossing the frontier : photographs of the dev...</td>\n      <td>NaN</td>\n      <td>Crossing the frontier : photographs of the dev...</td>\n      <td>Sandra S. Phillips ... [and others].</td>\n      <td>Sandra S. Phillips ... [and others].</td>\n      <td>Sandra S. Phillips ... [and others].</td>\n    </tr>\n    <tr>\n      <th>4</th>\n      <td>78</td>\n      <td>What's wrong with mindfulness (and what isn't)...</td>\n      <td>NaN</td>\n      <td>What's wrong with mindfulness (and what isn't)...</td>\n      <td>edited by Robert Meikyo Rosenbaum and Barry M...</td>\n      <td>edited by Robert Meikyo Rosenbaum and Barry Ma...</td>\n      <td>edited by Robert Meikyo Rosenbaum and Barry Ma...</td>\n    </tr>\n    <tr>\n      <th>...</th>\n      <td>...</td>\n      <td>...</td>\n      <td>...</td>\n      <td>...</td>\n      <td>...</td>\n      <td>...</td>\n      <td>...</td>\n    </tr>\n    <tr>\n      <th>540</th>\n      <td>10089</td>\n      <td>Contemporary American religion / Wade Clark Ro...</td>\n      <td>NaN</td>\n      <td>Contemporary American religion</td>\n      <td>Wade Clark Roof, editor in chief.</td>\n      <td>Wade Clark Roof, editor in chief.</td>\n      <td>Wade Clark Roof, editor in chief.</td>\n    </tr>\n    <tr>\n      <th>541</th>\n      <td>10102</td>\n      <td>¡Manteca!: : an anthology of Afro-Latin@ poets...</td>\n      <td>NaN</td>\n      <td>¡Manteca!: : an anthology of Afro-Latin@ poets</td>\n      <td>edited by Melissa Castillo-Garsow.</td>\n      <td>edited by Melissa Castillo-Garsow.</td>\n      <td>edited by Melissa Castillo-Garsow.</td>\n    </tr>\n    <tr>\n      <th>542</th>\n      <td>10115</td>\n      <td>Here comes Mother Goose / edited by Iona Opie ...</td>\n      <td>NaN</td>\n      <td>Here comes Mother Goose</td>\n      <td>edited by Iona Opie ; illustrated by Rosemary...</td>\n      <td>edited by Iona Opie ; illustrated by Rosemary ...</td>\n      <td>edited by Iona Opie ; illustrated by Rosemary ...</td>\n    </tr>\n    <tr>\n      <th>543</th>\n      <td>10175</td>\n      <td>The best American comics 2009 / edited and wit...</td>\n      <td>NaN</td>\n      <td>The best American comics 2009</td>\n      <td>edited and with an introduction by Charles Bu...</td>\n      <td>edited and with an introduction by Charles Bur...</td>\n      <td>edited and with an introduction by Charles Bur...</td>\n    </tr>\n    <tr>\n      <th>544</th>\n      <td>10221</td>\n      <td>Wanat : combat action in Afghanistan, 2008 / t...</td>\n      <td>NaN</td>\n      <td>Wanat : combat action in Afghanistan, 2008</td>\n      <td>the staff of the US Army Combat Studies Insti...</td>\n      <td>the staff of the US Army Combat Studies Instit...</td>\n      <td></td>\n    </tr>\n  </tbody>\n</table>\n<p>545 rows × 7 columns</p>\n</div>"
     },
     "execution_count": 76,
     "metadata": {},
     "output_type": "execute_result"
    }
   ],
   "source": [
    "no_auth['SubtitleNoOrg'] = no_auth['Subtitle'].str.strip()\n",
    "no_auth"
   ],
   "metadata": {
    "collapsed": false,
    "ExecuteTime": {
     "end_time": "2023-11-26T14:16:37.178796500Z",
     "start_time": "2023-11-26T14:16:37.166285Z"
    }
   },
   "id": "7e919e1b5c8909c8"
  },
  {
   "cell_type": "code",
   "execution_count": 77,
   "outputs": [
    {
     "data": {
      "text/plain": "     Unnamed: 0                                              Title  Author  \\\n0             5  Crucial conversations : tools for talking when...     NaN   \n1             9                             Be here now, remember.     NaN   \n2            23  A very merry temptation / Kimberly Kaye Terry,...     NaN   \n3            65  Crossing the frontier : photographs of the dev...     NaN   \n4            78  What's wrong with mindfulness (and what isn't)...     NaN   \n..          ...                                                ...     ...   \n540       10089  Contemporary American religion / Wade Clark Ro...     NaN   \n541       10102  ¡Manteca!: : an anthology of Afro-Latin@ poets...     NaN   \n542       10115  Here comes Mother Goose / edited by Iona Opie ...     NaN   \n543       10175  The best American comics 2009 / edited and wit...     NaN   \n544       10221  Wanat : combat action in Afghanistan, 2008 / t...     NaN   \n\n                                             TitleMain  \\\n0    Crucial conversations : tools for talking when...   \n1                               Be here now, remember.   \n2                             A very merry temptation    \n3    Crossing the frontier : photographs of the dev...   \n4    What's wrong with mindfulness (and what isn't)...   \n..                                                 ...   \n540                    Contemporary American religion    \n541    ¡Manteca!: : an anthology of Afro-Latin@ poets    \n542                           Here comes Mother Goose    \n543                     The best American comics 2009    \n544        Wanat : combat action in Afghanistan, 2008    \n\n                                              Subtitle  \\\n0                    Kerry Patterson ... [and others].   \n1                                                 <NA>   \n2     Kimberly Kaye Terry, Pamela Yaye, Farrah Rochon.   \n3                 Sandra S. Phillips ... [and others].   \n4     edited by Robert Meikyo Rosenbaum and Barry M...   \n..                                                 ...   \n540                  Wade Clark Roof, editor in chief.   \n541                 edited by Melissa Castillo-Garsow.   \n542   edited by Iona Opie ; illustrated by Rosemary...   \n543   edited and with an introduction by Charles Bu...   \n544   the staff of the US Army Combat Studies Insti...   \n\n                                         SubtitleNoOrg  \\\n0                    Kerry Patterson ... [and others].   \n1                                                 <NA>   \n2     Kimberly Kaye Terry, Pamela Yaye, Farrah Rochon.   \n3                 Sandra S. Phillips ... [and others].   \n4    edited by Robert Meikyo Rosenbaum and Barry Ma...   \n..                                                 ...   \n540                  Wade Clark Roof, editor in chief.   \n541                 edited by Melissa Castillo-Garsow.   \n542  edited by Iona Opie ; illustrated by Rosemary ...   \n543  edited and with an introduction by Charles Bur...   \n544                                                      \n\n                                     SubtitleNoOrgPref  \n0                    Kerry Patterson ... [and others].  \n1                                                 <NA>  \n2     Kimberly Kaye Terry, Pamela Yaye, Farrah Rochon.  \n3                 Sandra S. Phillips ... [and others].  \n4    edited by Robert Meikyo Rosenbaum and Barry Ma...  \n..                                                 ...  \n540                  Wade Clark Roof, editor in chief.  \n541                 edited by Melissa Castillo-Garsow.  \n542  edited by Iona Opie ; illustrated by Rosemary ...  \n543  edited and with an introduction by Charles Bur...  \n544                                                     \n\n[545 rows x 7 columns]",
      "text/html": "<div>\n<style scoped>\n    .dataframe tbody tr th:only-of-type {\n        vertical-align: middle;\n    }\n\n    .dataframe tbody tr th {\n        vertical-align: top;\n    }\n\n    .dataframe thead th {\n        text-align: right;\n    }\n</style>\n<table border=\"1\" class=\"dataframe\">\n  <thead>\n    <tr style=\"text-align: right;\">\n      <th></th>\n      <th>Unnamed: 0</th>\n      <th>Title</th>\n      <th>Author</th>\n      <th>TitleMain</th>\n      <th>Subtitle</th>\n      <th>SubtitleNoOrg</th>\n      <th>SubtitleNoOrgPref</th>\n    </tr>\n  </thead>\n  <tbody>\n    <tr>\n      <th>0</th>\n      <td>5</td>\n      <td>Crucial conversations : tools for talking when...</td>\n      <td>NaN</td>\n      <td>Crucial conversations : tools for talking when...</td>\n      <td>Kerry Patterson ... [and others].</td>\n      <td>Kerry Patterson ... [and others].</td>\n      <td>Kerry Patterson ... [and others].</td>\n    </tr>\n    <tr>\n      <th>1</th>\n      <td>9</td>\n      <td>Be here now, remember.</td>\n      <td>NaN</td>\n      <td>Be here now, remember.</td>\n      <td>&lt;NA&gt;</td>\n      <td>&lt;NA&gt;</td>\n      <td>&lt;NA&gt;</td>\n    </tr>\n    <tr>\n      <th>2</th>\n      <td>23</td>\n      <td>A very merry temptation / Kimberly Kaye Terry,...</td>\n      <td>NaN</td>\n      <td>A very merry temptation</td>\n      <td>Kimberly Kaye Terry, Pamela Yaye, Farrah Rochon.</td>\n      <td>Kimberly Kaye Terry, Pamela Yaye, Farrah Rochon.</td>\n      <td>Kimberly Kaye Terry, Pamela Yaye, Farrah Rochon.</td>\n    </tr>\n    <tr>\n      <th>3</th>\n      <td>65</td>\n      <td>Crossing the frontier : photographs of the dev...</td>\n      <td>NaN</td>\n      <td>Crossing the frontier : photographs of the dev...</td>\n      <td>Sandra S. Phillips ... [and others].</td>\n      <td>Sandra S. Phillips ... [and others].</td>\n      <td>Sandra S. Phillips ... [and others].</td>\n    </tr>\n    <tr>\n      <th>4</th>\n      <td>78</td>\n      <td>What's wrong with mindfulness (and what isn't)...</td>\n      <td>NaN</td>\n      <td>What's wrong with mindfulness (and what isn't)...</td>\n      <td>edited by Robert Meikyo Rosenbaum and Barry M...</td>\n      <td>edited by Robert Meikyo Rosenbaum and Barry Ma...</td>\n      <td>edited by Robert Meikyo Rosenbaum and Barry Ma...</td>\n    </tr>\n    <tr>\n      <th>...</th>\n      <td>...</td>\n      <td>...</td>\n      <td>...</td>\n      <td>...</td>\n      <td>...</td>\n      <td>...</td>\n      <td>...</td>\n    </tr>\n    <tr>\n      <th>540</th>\n      <td>10089</td>\n      <td>Contemporary American religion / Wade Clark Ro...</td>\n      <td>NaN</td>\n      <td>Contemporary American religion</td>\n      <td>Wade Clark Roof, editor in chief.</td>\n      <td>Wade Clark Roof, editor in chief.</td>\n      <td>Wade Clark Roof, editor in chief.</td>\n    </tr>\n    <tr>\n      <th>541</th>\n      <td>10102</td>\n      <td>¡Manteca!: : an anthology of Afro-Latin@ poets...</td>\n      <td>NaN</td>\n      <td>¡Manteca!: : an anthology of Afro-Latin@ poets</td>\n      <td>edited by Melissa Castillo-Garsow.</td>\n      <td>edited by Melissa Castillo-Garsow.</td>\n      <td>edited by Melissa Castillo-Garsow.</td>\n    </tr>\n    <tr>\n      <th>542</th>\n      <td>10115</td>\n      <td>Here comes Mother Goose / edited by Iona Opie ...</td>\n      <td>NaN</td>\n      <td>Here comes Mother Goose</td>\n      <td>edited by Iona Opie ; illustrated by Rosemary...</td>\n      <td>edited by Iona Opie ; illustrated by Rosemary ...</td>\n      <td>edited by Iona Opie ; illustrated by Rosemary ...</td>\n    </tr>\n    <tr>\n      <th>543</th>\n      <td>10175</td>\n      <td>The best American comics 2009 / edited and wit...</td>\n      <td>NaN</td>\n      <td>The best American comics 2009</td>\n      <td>edited and with an introduction by Charles Bu...</td>\n      <td>edited and with an introduction by Charles Bur...</td>\n      <td>edited and with an introduction by Charles Bur...</td>\n    </tr>\n    <tr>\n      <th>544</th>\n      <td>10221</td>\n      <td>Wanat : combat action in Afghanistan, 2008 / t...</td>\n      <td>NaN</td>\n      <td>Wanat : combat action in Afghanistan, 2008</td>\n      <td>the staff of the US Army Combat Studies Insti...</td>\n      <td></td>\n      <td></td>\n    </tr>\n  </tbody>\n</table>\n<p>545 rows × 7 columns</p>\n</div>"
     },
     "execution_count": 77,
     "metadata": {},
     "output_type": "execute_result"
    }
   ],
   "source": [
    "no_auth_modified = remove_records_start_with(no_auth, 'SubtitleNoOrg', ignore_completely_if_starts_with)\n",
    "no_auth_modified"
   ],
   "metadata": {
    "collapsed": false,
    "ExecuteTime": {
     "end_time": "2023-11-26T14:16:40.338943800Z",
     "start_time": "2023-11-26T14:16:40.325019200Z"
    }
   },
   "id": "155cc35c10641905"
  },
  {
   "cell_type": "code",
   "execution_count": 81,
   "outputs": [],
   "source": [
    "def remove_prefixes(dataframe, column_name, last_word_to_remove):\n",
    "    pattern = '|'.join(r'^.*{}\\b'.format(word) for word in last_word_to_remove)\n",
    "    dataframe[column_name] = dataframe[column_name].str.replace(pattern, '', regex=True)\n",
    "    return dataframe"
   ],
   "metadata": {
    "collapsed": false,
    "ExecuteTime": {
     "end_time": "2023-11-26T14:18:06.066978600Z",
     "start_time": "2023-11-26T14:18:06.052168Z"
    }
   },
   "id": "1c0d1b8504c5b897"
  },
  {
   "cell_type": "code",
   "execution_count": 82,
   "outputs": [
    {
     "data": {
      "text/plain": "     Unnamed: 0                                              Title  Author  \\\n0             5  Crucial conversations : tools for talking when...     NaN   \n1             9                             Be here now, remember.     NaN   \n2            23  A very merry temptation / Kimberly Kaye Terry,...     NaN   \n3            65  Crossing the frontier : photographs of the dev...     NaN   \n4            78  What's wrong with mindfulness (and what isn't)...     NaN   \n..          ...                                                ...     ...   \n540       10089  Contemporary American religion / Wade Clark Ro...     NaN   \n541       10102  ¡Manteca!: : an anthology of Afro-Latin@ poets...     NaN   \n542       10115  Here comes Mother Goose / edited by Iona Opie ...     NaN   \n543       10175  The best American comics 2009 / edited and wit...     NaN   \n544       10221  Wanat : combat action in Afghanistan, 2008 / t...     NaN   \n\n                                             TitleMain  \\\n0    Crucial conversations : tools for talking when...   \n1                               Be here now, remember.   \n2                             A very merry temptation    \n3    Crossing the frontier : photographs of the dev...   \n4    What's wrong with mindfulness (and what isn't)...   \n..                                                 ...   \n540                    Contemporary American religion    \n541    ¡Manteca!: : an anthology of Afro-Latin@ poets    \n542                           Here comes Mother Goose    \n543                     The best American comics 2009    \n544        Wanat : combat action in Afghanistan, 2008    \n\n                                              Subtitle  \\\n0                    Kerry Patterson ... [and others].   \n1                                                 <NA>   \n2     Kimberly Kaye Terry, Pamela Yaye, Farrah Rochon.   \n3                 Sandra S. Phillips ... [and others].   \n4     edited by Robert Meikyo Rosenbaum and Barry M...   \n..                                                 ...   \n540                  Wade Clark Roof, editor in chief.   \n541                 edited by Melissa Castillo-Garsow.   \n542   edited by Iona Opie ; illustrated by Rosemary...   \n543   edited and with an introduction by Charles Bu...   \n544   the staff of the US Army Combat Studies Insti...   \n\n                                         SubtitleNoOrg  \\\n0                    Kerry Patterson ... [and others].   \n1                                                 <NA>   \n2     Kimberly Kaye Terry, Pamela Yaye, Farrah Rochon.   \n3                 Sandra S. Phillips ... [and others].   \n4    edited by Robert Meikyo Rosenbaum and Barry Ma...   \n..                                                 ...   \n540                  Wade Clark Roof, editor in chief.   \n541                 edited by Melissa Castillo-Garsow.   \n542  edited by Iona Opie ; illustrated by Rosemary ...   \n543  edited and with an introduction by Charles Bur...   \n544                                                      \n\n                                     SubtitleNoOrgPref  \n0                    Kerry Patterson ... [and others].  \n1                                                 <NA>  \n2     Kimberly Kaye Terry, Pamela Yaye, Farrah Rochon.  \n3                 Sandra S. Phillips ... [and others].  \n4    edited by Robert Meikyo Rosenbaum and Barry Ma...  \n..                                                 ...  \n540                  Wade Clark Roof, editor in chief.  \n541                 edited by Melissa Castillo-Garsow.  \n542  edited by Iona Opie ; illustrated by Rosemary ...  \n543  edited and with an introduction by Charles Bur...  \n544                                                     \n\n[545 rows x 7 columns]",
      "text/html": "<div>\n<style scoped>\n    .dataframe tbody tr th:only-of-type {\n        vertical-align: middle;\n    }\n\n    .dataframe tbody tr th {\n        vertical-align: top;\n    }\n\n    .dataframe thead th {\n        text-align: right;\n    }\n</style>\n<table border=\"1\" class=\"dataframe\">\n  <thead>\n    <tr style=\"text-align: right;\">\n      <th></th>\n      <th>Unnamed: 0</th>\n      <th>Title</th>\n      <th>Author</th>\n      <th>TitleMain</th>\n      <th>Subtitle</th>\n      <th>SubtitleNoOrg</th>\n      <th>SubtitleNoOrgPref</th>\n    </tr>\n  </thead>\n  <tbody>\n    <tr>\n      <th>0</th>\n      <td>5</td>\n      <td>Crucial conversations : tools for talking when...</td>\n      <td>NaN</td>\n      <td>Crucial conversations : tools for talking when...</td>\n      <td>Kerry Patterson ... [and others].</td>\n      <td>Kerry Patterson ... [and others].</td>\n      <td>Kerry Patterson ... [and others].</td>\n    </tr>\n    <tr>\n      <th>1</th>\n      <td>9</td>\n      <td>Be here now, remember.</td>\n      <td>NaN</td>\n      <td>Be here now, remember.</td>\n      <td>&lt;NA&gt;</td>\n      <td>&lt;NA&gt;</td>\n      <td>&lt;NA&gt;</td>\n    </tr>\n    <tr>\n      <th>2</th>\n      <td>23</td>\n      <td>A very merry temptation / Kimberly Kaye Terry,...</td>\n      <td>NaN</td>\n      <td>A very merry temptation</td>\n      <td>Kimberly Kaye Terry, Pamela Yaye, Farrah Rochon.</td>\n      <td>Kimberly Kaye Terry, Pamela Yaye, Farrah Rochon.</td>\n      <td>Kimberly Kaye Terry, Pamela Yaye, Farrah Rochon.</td>\n    </tr>\n    <tr>\n      <th>3</th>\n      <td>65</td>\n      <td>Crossing the frontier : photographs of the dev...</td>\n      <td>NaN</td>\n      <td>Crossing the frontier : photographs of the dev...</td>\n      <td>Sandra S. Phillips ... [and others].</td>\n      <td>Sandra S. Phillips ... [and others].</td>\n      <td>Sandra S. Phillips ... [and others].</td>\n    </tr>\n    <tr>\n      <th>4</th>\n      <td>78</td>\n      <td>What's wrong with mindfulness (and what isn't)...</td>\n      <td>NaN</td>\n      <td>What's wrong with mindfulness (and what isn't)...</td>\n      <td>edited by Robert Meikyo Rosenbaum and Barry M...</td>\n      <td>edited by Robert Meikyo Rosenbaum and Barry Ma...</td>\n      <td>edited by Robert Meikyo Rosenbaum and Barry Ma...</td>\n    </tr>\n    <tr>\n      <th>...</th>\n      <td>...</td>\n      <td>...</td>\n      <td>...</td>\n      <td>...</td>\n      <td>...</td>\n      <td>...</td>\n      <td>...</td>\n    </tr>\n    <tr>\n      <th>540</th>\n      <td>10089</td>\n      <td>Contemporary American religion / Wade Clark Ro...</td>\n      <td>NaN</td>\n      <td>Contemporary American religion</td>\n      <td>Wade Clark Roof, editor in chief.</td>\n      <td>Wade Clark Roof, editor in chief.</td>\n      <td>Wade Clark Roof, editor in chief.</td>\n    </tr>\n    <tr>\n      <th>541</th>\n      <td>10102</td>\n      <td>¡Manteca!: : an anthology of Afro-Latin@ poets...</td>\n      <td>NaN</td>\n      <td>¡Manteca!: : an anthology of Afro-Latin@ poets</td>\n      <td>edited by Melissa Castillo-Garsow.</td>\n      <td>edited by Melissa Castillo-Garsow.</td>\n      <td>edited by Melissa Castillo-Garsow.</td>\n    </tr>\n    <tr>\n      <th>542</th>\n      <td>10115</td>\n      <td>Here comes Mother Goose / edited by Iona Opie ...</td>\n      <td>NaN</td>\n      <td>Here comes Mother Goose</td>\n      <td>edited by Iona Opie ; illustrated by Rosemary...</td>\n      <td>edited by Iona Opie ; illustrated by Rosemary ...</td>\n      <td>edited by Iona Opie ; illustrated by Rosemary ...</td>\n    </tr>\n    <tr>\n      <th>543</th>\n      <td>10175</td>\n      <td>The best American comics 2009 / edited and wit...</td>\n      <td>NaN</td>\n      <td>The best American comics 2009</td>\n      <td>edited and with an introduction by Charles Bu...</td>\n      <td>edited and with an introduction by Charles Bur...</td>\n      <td>edited and with an introduction by Charles Bur...</td>\n    </tr>\n    <tr>\n      <th>544</th>\n      <td>10221</td>\n      <td>Wanat : combat action in Afghanistan, 2008 / t...</td>\n      <td>NaN</td>\n      <td>Wanat : combat action in Afghanistan, 2008</td>\n      <td>the staff of the US Army Combat Studies Insti...</td>\n      <td></td>\n      <td></td>\n    </tr>\n  </tbody>\n</table>\n<p>545 rows × 7 columns</p>\n</div>"
     },
     "execution_count": 82,
     "metadata": {},
     "output_type": "execute_result"
    }
   ],
   "source": [
    "no_auth_modified['SubtitleNoOrgPref'] = no_auth_modified['SubtitleNoOrg']\n",
    "no_auth_modified"
   ],
   "metadata": {
    "collapsed": false,
    "ExecuteTime": {
     "end_time": "2023-11-26T14:18:08.702113200Z",
     "start_time": "2023-11-26T14:18:08.680288800Z"
    }
   },
   "id": "bb210243caf285ba"
  },
  {
   "cell_type": "code",
   "execution_count": 83,
   "outputs": [
    {
     "data": {
      "text/plain": "     Unnamed: 0                                              Title  Author  \\\n0             5  Crucial conversations : tools for talking when...     NaN   \n1             9                             Be here now, remember.     NaN   \n2            23  A very merry temptation / Kimberly Kaye Terry,...     NaN   \n3            65  Crossing the frontier : photographs of the dev...     NaN   \n4            78  What's wrong with mindfulness (and what isn't)...     NaN   \n..          ...                                                ...     ...   \n540       10089  Contemporary American religion / Wade Clark Ro...     NaN   \n541       10102  ¡Manteca!: : an anthology of Afro-Latin@ poets...     NaN   \n542       10115  Here comes Mother Goose / edited by Iona Opie ...     NaN   \n543       10175  The best American comics 2009 / edited and wit...     NaN   \n544       10221  Wanat : combat action in Afghanistan, 2008 / t...     NaN   \n\n                                             TitleMain  \\\n0    Crucial conversations : tools for talking when...   \n1                               Be here now, remember.   \n2                             A very merry temptation    \n3    Crossing the frontier : photographs of the dev...   \n4    What's wrong with mindfulness (and what isn't)...   \n..                                                 ...   \n540                    Contemporary American religion    \n541    ¡Manteca!: : an anthology of Afro-Latin@ poets    \n542                           Here comes Mother Goose    \n543                     The best American comics 2009    \n544        Wanat : combat action in Afghanistan, 2008    \n\n                                              Subtitle  \\\n0                    Kerry Patterson ... [and others].   \n1                                                 <NA>   \n2     Kimberly Kaye Terry, Pamela Yaye, Farrah Rochon.   \n3                 Sandra S. Phillips ... [and others].   \n4     edited by Robert Meikyo Rosenbaum and Barry M...   \n..                                                 ...   \n540                  Wade Clark Roof, editor in chief.   \n541                 edited by Melissa Castillo-Garsow.   \n542   edited by Iona Opie ; illustrated by Rosemary...   \n543   edited and with an introduction by Charles Bu...   \n544   the staff of the US Army Combat Studies Insti...   \n\n                                         SubtitleNoOrg  \\\n0                    Kerry Patterson ... [and others].   \n1                                                 <NA>   \n2     Kimberly Kaye Terry, Pamela Yaye, Farrah Rochon.   \n3                 Sandra S. Phillips ... [and others].   \n4    edited by Robert Meikyo Rosenbaum and Barry Ma...   \n..                                                 ...   \n540                  Wade Clark Roof, editor in chief.   \n541                 edited by Melissa Castillo-Garsow.   \n542  edited by Iona Opie ; illustrated by Rosemary ...   \n543  edited and with an introduction by Charles Bur...   \n544                                                      \n\n                                     SubtitleNoOrgPref  \n0                    Kerry Patterson ... [and others].  \n1                                                 <NA>  \n2     Kimberly Kaye Terry, Pamela Yaye, Farrah Rochon.  \n3                 Sandra S. Phillips ... [and others].  \n4             Robert Meikyo Rosenbaum and Barry Magid.  \n..                                                 ...  \n540                  Wade Clark Roof, editor in chief.  \n541                           Melissa Castillo-Garsow.  \n542         Iona Opie ; illustrated by Rosemary Wells.  \n543  edited and with an introduction by Charles Bur...  \n544                                                     \n\n[545 rows x 7 columns]",
      "text/html": "<div>\n<style scoped>\n    .dataframe tbody tr th:only-of-type {\n        vertical-align: middle;\n    }\n\n    .dataframe tbody tr th {\n        vertical-align: top;\n    }\n\n    .dataframe thead th {\n        text-align: right;\n    }\n</style>\n<table border=\"1\" class=\"dataframe\">\n  <thead>\n    <tr style=\"text-align: right;\">\n      <th></th>\n      <th>Unnamed: 0</th>\n      <th>Title</th>\n      <th>Author</th>\n      <th>TitleMain</th>\n      <th>Subtitle</th>\n      <th>SubtitleNoOrg</th>\n      <th>SubtitleNoOrgPref</th>\n    </tr>\n  </thead>\n  <tbody>\n    <tr>\n      <th>0</th>\n      <td>5</td>\n      <td>Crucial conversations : tools for talking when...</td>\n      <td>NaN</td>\n      <td>Crucial conversations : tools for talking when...</td>\n      <td>Kerry Patterson ... [and others].</td>\n      <td>Kerry Patterson ... [and others].</td>\n      <td>Kerry Patterson ... [and others].</td>\n    </tr>\n    <tr>\n      <th>1</th>\n      <td>9</td>\n      <td>Be here now, remember.</td>\n      <td>NaN</td>\n      <td>Be here now, remember.</td>\n      <td>&lt;NA&gt;</td>\n      <td>&lt;NA&gt;</td>\n      <td>&lt;NA&gt;</td>\n    </tr>\n    <tr>\n      <th>2</th>\n      <td>23</td>\n      <td>A very merry temptation / Kimberly Kaye Terry,...</td>\n      <td>NaN</td>\n      <td>A very merry temptation</td>\n      <td>Kimberly Kaye Terry, Pamela Yaye, Farrah Rochon.</td>\n      <td>Kimberly Kaye Terry, Pamela Yaye, Farrah Rochon.</td>\n      <td>Kimberly Kaye Terry, Pamela Yaye, Farrah Rochon.</td>\n    </tr>\n    <tr>\n      <th>3</th>\n      <td>65</td>\n      <td>Crossing the frontier : photographs of the dev...</td>\n      <td>NaN</td>\n      <td>Crossing the frontier : photographs of the dev...</td>\n      <td>Sandra S. Phillips ... [and others].</td>\n      <td>Sandra S. Phillips ... [and others].</td>\n      <td>Sandra S. Phillips ... [and others].</td>\n    </tr>\n    <tr>\n      <th>4</th>\n      <td>78</td>\n      <td>What's wrong with mindfulness (and what isn't)...</td>\n      <td>NaN</td>\n      <td>What's wrong with mindfulness (and what isn't)...</td>\n      <td>edited by Robert Meikyo Rosenbaum and Barry M...</td>\n      <td>edited by Robert Meikyo Rosenbaum and Barry Ma...</td>\n      <td>Robert Meikyo Rosenbaum and Barry Magid.</td>\n    </tr>\n    <tr>\n      <th>...</th>\n      <td>...</td>\n      <td>...</td>\n      <td>...</td>\n      <td>...</td>\n      <td>...</td>\n      <td>...</td>\n      <td>...</td>\n    </tr>\n    <tr>\n      <th>540</th>\n      <td>10089</td>\n      <td>Contemporary American religion / Wade Clark Ro...</td>\n      <td>NaN</td>\n      <td>Contemporary American religion</td>\n      <td>Wade Clark Roof, editor in chief.</td>\n      <td>Wade Clark Roof, editor in chief.</td>\n      <td>Wade Clark Roof, editor in chief.</td>\n    </tr>\n    <tr>\n      <th>541</th>\n      <td>10102</td>\n      <td>¡Manteca!: : an anthology of Afro-Latin@ poets...</td>\n      <td>NaN</td>\n      <td>¡Manteca!: : an anthology of Afro-Latin@ poets</td>\n      <td>edited by Melissa Castillo-Garsow.</td>\n      <td>edited by Melissa Castillo-Garsow.</td>\n      <td>Melissa Castillo-Garsow.</td>\n    </tr>\n    <tr>\n      <th>542</th>\n      <td>10115</td>\n      <td>Here comes Mother Goose / edited by Iona Opie ...</td>\n      <td>NaN</td>\n      <td>Here comes Mother Goose</td>\n      <td>edited by Iona Opie ; illustrated by Rosemary...</td>\n      <td>edited by Iona Opie ; illustrated by Rosemary ...</td>\n      <td>Iona Opie ; illustrated by Rosemary Wells.</td>\n    </tr>\n    <tr>\n      <th>543</th>\n      <td>10175</td>\n      <td>The best American comics 2009 / edited and wit...</td>\n      <td>NaN</td>\n      <td>The best American comics 2009</td>\n      <td>edited and with an introduction by Charles Bu...</td>\n      <td>edited and with an introduction by Charles Bur...</td>\n      <td>edited and with an introduction by Charles Bur...</td>\n    </tr>\n    <tr>\n      <th>544</th>\n      <td>10221</td>\n      <td>Wanat : combat action in Afghanistan, 2008 / t...</td>\n      <td>NaN</td>\n      <td>Wanat : combat action in Afghanistan, 2008</td>\n      <td>the staff of the US Army Combat Studies Insti...</td>\n      <td></td>\n      <td></td>\n    </tr>\n  </tbody>\n</table>\n<p>545 rows × 7 columns</p>\n</div>"
     },
     "execution_count": 83,
     "metadata": {},
     "output_type": "execute_result"
    }
   ],
   "source": [
    "no_auth_modified = remove_prefixes(no_auth_modified, 'SubtitleNoOrgPref', remove_everything_before_first)\n",
    "no_auth_modified"
   ],
   "metadata": {
    "collapsed": false,
    "ExecuteTime": {
     "end_time": "2023-11-26T14:19:25.215596700Z",
     "start_time": "2023-11-26T14:19:25.200096400Z"
    }
   },
   "id": "954c632eba85d320"
  },
  {
   "cell_type": "code",
   "execution_count": 84,
   "outputs": [],
   "source": [
    "def remove_subtitle_suffixes(dataframe, column_name, ending_to_remove):\n",
    "    pattern = '|'.join(r'{}\\b$'.format(word) for word in ending_to_remove)\n",
    "    dataframe[column_name] = dataframe[column_name].str.replace(pattern, '', regex=True)\n",
    "    return dataframe"
   ],
   "metadata": {
    "collapsed": false,
    "ExecuteTime": {
     "end_time": "2023-11-26T14:20:37.389861500Z",
     "start_time": "2023-11-26T14:20:37.332817800Z"
    }
   },
   "id": "1eeaf3b20944b4f4"
  },
  {
   "cell_type": "code",
   "execution_count": 88,
   "outputs": [
    {
     "data": {
      "text/plain": "     Unnamed: 0                                              Title  Author  \\\n0             5  Crucial conversations : tools for talking when...     NaN   \n1             9                             Be here now, remember.     NaN   \n2            23  A very merry temptation / Kimberly Kaye Terry,...     NaN   \n3            65  Crossing the frontier : photographs of the dev...     NaN   \n4            78  What's wrong with mindfulness (and what isn't)...     NaN   \n..          ...                                                ...     ...   \n540       10089  Contemporary American religion / Wade Clark Ro...     NaN   \n541       10102  ¡Manteca!: : an anthology of Afro-Latin@ poets...     NaN   \n542       10115  Here comes Mother Goose / edited by Iona Opie ...     NaN   \n543       10175  The best American comics 2009 / edited and wit...     NaN   \n544       10221  Wanat : combat action in Afghanistan, 2008 / t...     NaN   \n\n                                             TitleMain  \\\n0    Crucial conversations : tools for talking when...   \n1                               Be here now, remember.   \n2                             A very merry temptation    \n3    Crossing the frontier : photographs of the dev...   \n4    What's wrong with mindfulness (and what isn't)...   \n..                                                 ...   \n540                    Contemporary American religion    \n541    ¡Manteca!: : an anthology of Afro-Latin@ poets    \n542                           Here comes Mother Goose    \n543                     The best American comics 2009    \n544        Wanat : combat action in Afghanistan, 2008    \n\n                                              Subtitle  \\\n0                    Kerry Patterson ... [and others].   \n1                                                 <NA>   \n2     Kimberly Kaye Terry, Pamela Yaye, Farrah Rochon.   \n3                 Sandra S. Phillips ... [and others].   \n4     edited by Robert Meikyo Rosenbaum and Barry M...   \n..                                                 ...   \n540                  Wade Clark Roof, editor in chief.   \n541                 edited by Melissa Castillo-Garsow.   \n542   edited by Iona Opie ; illustrated by Rosemary...   \n543   edited and with an introduction by Charles Bu...   \n544   the staff of the US Army Combat Studies Insti...   \n\n                                         SubtitleNoOrg  \\\n0                    Kerry Patterson ... [and others].   \n1                                                 <NA>   \n2     Kimberly Kaye Terry, Pamela Yaye, Farrah Rochon.   \n3                 Sandra S. Phillips ... [and others].   \n4    edited by Robert Meikyo Rosenbaum and Barry Ma...   \n..                                                 ...   \n540                  Wade Clark Roof, editor in chief.   \n541                 edited by Melissa Castillo-Garsow.   \n542  edited by Iona Opie ; illustrated by Rosemary ...   \n543  edited and with an introduction by Charles Bur...   \n544                                                      \n\n                                     SubtitleNoOrgPref  \\\n0                    Kerry Patterson ... [and others].   \n1                                                 <NA>   \n2     Kimberly Kaye Terry, Pamela Yaye, Farrah Rochon.   \n3                 Sandra S. Phillips ... [and others].   \n4             Robert Meikyo Rosenbaum and Barry Magid.   \n..                                                 ...   \n540                  Wade Clark Roof, editor in chief.   \n541                           Melissa Castillo-Garsow.   \n542         Iona Opie ; illustrated by Rosemary Wells.   \n543  edited and with an introduction by Charles Bur...   \n544                                                      \n\n                                  SubtitleNoOrgPrefSuf  \n0                     Kerry Patterson ... [and others]  \n1                                                 <NA>  \n2      Kimberly Kaye Terry, Pamela Yaye, Farrah Rochon  \n3                  Sandra S. Phillips ... [and others]  \n4              Robert Meikyo Rosenbaum and Barry Magid  \n..                                                 ...  \n540                   Wade Clark Roof, editor in chief  \n541                            Melissa Castillo-Garsow  \n542          Iona Opie ; illustrated by Rosemary Wells  \n543  edited and with an introduction by Charles Bur...  \n544                                                     \n\n[545 rows x 8 columns]",
      "text/html": "<div>\n<style scoped>\n    .dataframe tbody tr th:only-of-type {\n        vertical-align: middle;\n    }\n\n    .dataframe tbody tr th {\n        vertical-align: top;\n    }\n\n    .dataframe thead th {\n        text-align: right;\n    }\n</style>\n<table border=\"1\" class=\"dataframe\">\n  <thead>\n    <tr style=\"text-align: right;\">\n      <th></th>\n      <th>Unnamed: 0</th>\n      <th>Title</th>\n      <th>Author</th>\n      <th>TitleMain</th>\n      <th>Subtitle</th>\n      <th>SubtitleNoOrg</th>\n      <th>SubtitleNoOrgPref</th>\n      <th>SubtitleNoOrgPrefSuf</th>\n    </tr>\n  </thead>\n  <tbody>\n    <tr>\n      <th>0</th>\n      <td>5</td>\n      <td>Crucial conversations : tools for talking when...</td>\n      <td>NaN</td>\n      <td>Crucial conversations : tools for talking when...</td>\n      <td>Kerry Patterson ... [and others].</td>\n      <td>Kerry Patterson ... [and others].</td>\n      <td>Kerry Patterson ... [and others].</td>\n      <td>Kerry Patterson ... [and others]</td>\n    </tr>\n    <tr>\n      <th>1</th>\n      <td>9</td>\n      <td>Be here now, remember.</td>\n      <td>NaN</td>\n      <td>Be here now, remember.</td>\n      <td>&lt;NA&gt;</td>\n      <td>&lt;NA&gt;</td>\n      <td>&lt;NA&gt;</td>\n      <td>&lt;NA&gt;</td>\n    </tr>\n    <tr>\n      <th>2</th>\n      <td>23</td>\n      <td>A very merry temptation / Kimberly Kaye Terry,...</td>\n      <td>NaN</td>\n      <td>A very merry temptation</td>\n      <td>Kimberly Kaye Terry, Pamela Yaye, Farrah Rochon.</td>\n      <td>Kimberly Kaye Terry, Pamela Yaye, Farrah Rochon.</td>\n      <td>Kimberly Kaye Terry, Pamela Yaye, Farrah Rochon.</td>\n      <td>Kimberly Kaye Terry, Pamela Yaye, Farrah Rochon</td>\n    </tr>\n    <tr>\n      <th>3</th>\n      <td>65</td>\n      <td>Crossing the frontier : photographs of the dev...</td>\n      <td>NaN</td>\n      <td>Crossing the frontier : photographs of the dev...</td>\n      <td>Sandra S. Phillips ... [and others].</td>\n      <td>Sandra S. Phillips ... [and others].</td>\n      <td>Sandra S. Phillips ... [and others].</td>\n      <td>Sandra S. Phillips ... [and others]</td>\n    </tr>\n    <tr>\n      <th>4</th>\n      <td>78</td>\n      <td>What's wrong with mindfulness (and what isn't)...</td>\n      <td>NaN</td>\n      <td>What's wrong with mindfulness (and what isn't)...</td>\n      <td>edited by Robert Meikyo Rosenbaum and Barry M...</td>\n      <td>edited by Robert Meikyo Rosenbaum and Barry Ma...</td>\n      <td>Robert Meikyo Rosenbaum and Barry Magid.</td>\n      <td>Robert Meikyo Rosenbaum and Barry Magid</td>\n    </tr>\n    <tr>\n      <th>...</th>\n      <td>...</td>\n      <td>...</td>\n      <td>...</td>\n      <td>...</td>\n      <td>...</td>\n      <td>...</td>\n      <td>...</td>\n      <td>...</td>\n    </tr>\n    <tr>\n      <th>540</th>\n      <td>10089</td>\n      <td>Contemporary American religion / Wade Clark Ro...</td>\n      <td>NaN</td>\n      <td>Contemporary American religion</td>\n      <td>Wade Clark Roof, editor in chief.</td>\n      <td>Wade Clark Roof, editor in chief.</td>\n      <td>Wade Clark Roof, editor in chief.</td>\n      <td>Wade Clark Roof, editor in chief</td>\n    </tr>\n    <tr>\n      <th>541</th>\n      <td>10102</td>\n      <td>¡Manteca!: : an anthology of Afro-Latin@ poets...</td>\n      <td>NaN</td>\n      <td>¡Manteca!: : an anthology of Afro-Latin@ poets</td>\n      <td>edited by Melissa Castillo-Garsow.</td>\n      <td>edited by Melissa Castillo-Garsow.</td>\n      <td>Melissa Castillo-Garsow.</td>\n      <td>Melissa Castillo-Garsow</td>\n    </tr>\n    <tr>\n      <th>542</th>\n      <td>10115</td>\n      <td>Here comes Mother Goose / edited by Iona Opie ...</td>\n      <td>NaN</td>\n      <td>Here comes Mother Goose</td>\n      <td>edited by Iona Opie ; illustrated by Rosemary...</td>\n      <td>edited by Iona Opie ; illustrated by Rosemary ...</td>\n      <td>Iona Opie ; illustrated by Rosemary Wells.</td>\n      <td>Iona Opie ; illustrated by Rosemary Wells</td>\n    </tr>\n    <tr>\n      <th>543</th>\n      <td>10175</td>\n      <td>The best American comics 2009 / edited and wit...</td>\n      <td>NaN</td>\n      <td>The best American comics 2009</td>\n      <td>edited and with an introduction by Charles Bu...</td>\n      <td>edited and with an introduction by Charles Bur...</td>\n      <td>edited and with an introduction by Charles Bur...</td>\n      <td>edited and with an introduction by Charles Bur...</td>\n    </tr>\n    <tr>\n      <th>544</th>\n      <td>10221</td>\n      <td>Wanat : combat action in Afghanistan, 2008 / t...</td>\n      <td>NaN</td>\n      <td>Wanat : combat action in Afghanistan, 2008</td>\n      <td>the staff of the US Army Combat Studies Insti...</td>\n      <td></td>\n      <td></td>\n      <td></td>\n    </tr>\n  </tbody>\n</table>\n<p>545 rows × 8 columns</p>\n</div>"
     },
     "execution_count": 88,
     "metadata": {},
     "output_type": "execute_result"
    }
   ],
   "source": [
    "no_auth_modified['SubtitleNoOrgPrefSuf'] = no_auth_modified['SubtitleNoOrgPref'].str.strip('.')\n",
    "no_auth_modified"
   ],
   "metadata": {
    "collapsed": false,
    "ExecuteTime": {
     "end_time": "2023-11-26T14:24:41.948637800Z",
     "start_time": "2023-11-26T14:24:41.925177900Z"
    }
   },
   "id": "c0bb65cf7f03705b"
  },
  {
   "cell_type": "code",
   "execution_count": 90,
   "outputs": [
    {
     "data": {
      "text/plain": "     Unnamed: 0                                              Title  Author  \\\n0             5  Crucial conversations : tools for talking when...     NaN   \n1             9                             Be here now, remember.     NaN   \n2            23  A very merry temptation / Kimberly Kaye Terry,...     NaN   \n3            65  Crossing the frontier : photographs of the dev...     NaN   \n4            78  What's wrong with mindfulness (and what isn't)...     NaN   \n..          ...                                                ...     ...   \n540       10089  Contemporary American religion / Wade Clark Ro...     NaN   \n541       10102  ¡Manteca!: : an anthology of Afro-Latin@ poets...     NaN   \n542       10115  Here comes Mother Goose / edited by Iona Opie ...     NaN   \n543       10175  The best American comics 2009 / edited and wit...     NaN   \n544       10221  Wanat : combat action in Afghanistan, 2008 / t...     NaN   \n\n                                             TitleMain  \\\n0    Crucial conversations : tools for talking when...   \n1                               Be here now, remember.   \n2                             A very merry temptation    \n3    Crossing the frontier : photographs of the dev...   \n4    What's wrong with mindfulness (and what isn't)...   \n..                                                 ...   \n540                    Contemporary American religion    \n541    ¡Manteca!: : an anthology of Afro-Latin@ poets    \n542                           Here comes Mother Goose    \n543                     The best American comics 2009    \n544        Wanat : combat action in Afghanistan, 2008    \n\n                                              Subtitle  \\\n0                    Kerry Patterson ... [and others].   \n1                                                 <NA>   \n2     Kimberly Kaye Terry, Pamela Yaye, Farrah Rochon.   \n3                 Sandra S. Phillips ... [and others].   \n4     edited by Robert Meikyo Rosenbaum and Barry M...   \n..                                                 ...   \n540                  Wade Clark Roof, editor in chief.   \n541                 edited by Melissa Castillo-Garsow.   \n542   edited by Iona Opie ; illustrated by Rosemary...   \n543   edited and with an introduction by Charles Bu...   \n544   the staff of the US Army Combat Studies Insti...   \n\n                                         SubtitleNoOrg  \\\n0                    Kerry Patterson ... [and others].   \n1                                                 <NA>   \n2     Kimberly Kaye Terry, Pamela Yaye, Farrah Rochon.   \n3                 Sandra S. Phillips ... [and others].   \n4    edited by Robert Meikyo Rosenbaum and Barry Ma...   \n..                                                 ...   \n540                  Wade Clark Roof, editor in chief.   \n541                 edited by Melissa Castillo-Garsow.   \n542  edited by Iona Opie ; illustrated by Rosemary ...   \n543  edited and with an introduction by Charles Bur...   \n544                                                      \n\n                                     SubtitleNoOrgPref  \\\n0                    Kerry Patterson ... [and others].   \n1                                                 <NA>   \n2     Kimberly Kaye Terry, Pamela Yaye, Farrah Rochon.   \n3                 Sandra S. Phillips ... [and others].   \n4             Robert Meikyo Rosenbaum and Barry Magid.   \n..                                                 ...   \n540                  Wade Clark Roof, editor in chief.   \n541                           Melissa Castillo-Garsow.   \n542         Iona Opie ; illustrated by Rosemary Wells.   \n543  edited and with an introduction by Charles Bur...   \n544                                                      \n\n                                  SubtitleNoOrgPrefSuf  \n0                     Kerry Patterson ... [and others]  \n1                                                 <NA>  \n2      Kimberly Kaye Terry, Pamela Yaye, Farrah Rochon  \n3                  Sandra S. Phillips ... [and others]  \n4              Robert Meikyo Rosenbaum and Barry Magid  \n..                                                 ...  \n540                                  Wade Clark Roof,   \n541                            Melissa Castillo-Garsow  \n542          Iona Opie ; illustrated by Rosemary Wells  \n543  edited and with an introduction by Charles Bur...  \n544                                                     \n\n[545 rows x 8 columns]",
      "text/html": "<div>\n<style scoped>\n    .dataframe tbody tr th:only-of-type {\n        vertical-align: middle;\n    }\n\n    .dataframe tbody tr th {\n        vertical-align: top;\n    }\n\n    .dataframe thead th {\n        text-align: right;\n    }\n</style>\n<table border=\"1\" class=\"dataframe\">\n  <thead>\n    <tr style=\"text-align: right;\">\n      <th></th>\n      <th>Unnamed: 0</th>\n      <th>Title</th>\n      <th>Author</th>\n      <th>TitleMain</th>\n      <th>Subtitle</th>\n      <th>SubtitleNoOrg</th>\n      <th>SubtitleNoOrgPref</th>\n      <th>SubtitleNoOrgPrefSuf</th>\n    </tr>\n  </thead>\n  <tbody>\n    <tr>\n      <th>0</th>\n      <td>5</td>\n      <td>Crucial conversations : tools for talking when...</td>\n      <td>NaN</td>\n      <td>Crucial conversations : tools for talking when...</td>\n      <td>Kerry Patterson ... [and others].</td>\n      <td>Kerry Patterson ... [and others].</td>\n      <td>Kerry Patterson ... [and others].</td>\n      <td>Kerry Patterson ... [and others]</td>\n    </tr>\n    <tr>\n      <th>1</th>\n      <td>9</td>\n      <td>Be here now, remember.</td>\n      <td>NaN</td>\n      <td>Be here now, remember.</td>\n      <td>&lt;NA&gt;</td>\n      <td>&lt;NA&gt;</td>\n      <td>&lt;NA&gt;</td>\n      <td>&lt;NA&gt;</td>\n    </tr>\n    <tr>\n      <th>2</th>\n      <td>23</td>\n      <td>A very merry temptation / Kimberly Kaye Terry,...</td>\n      <td>NaN</td>\n      <td>A very merry temptation</td>\n      <td>Kimberly Kaye Terry, Pamela Yaye, Farrah Rochon.</td>\n      <td>Kimberly Kaye Terry, Pamela Yaye, Farrah Rochon.</td>\n      <td>Kimberly Kaye Terry, Pamela Yaye, Farrah Rochon.</td>\n      <td>Kimberly Kaye Terry, Pamela Yaye, Farrah Rochon</td>\n    </tr>\n    <tr>\n      <th>3</th>\n      <td>65</td>\n      <td>Crossing the frontier : photographs of the dev...</td>\n      <td>NaN</td>\n      <td>Crossing the frontier : photographs of the dev...</td>\n      <td>Sandra S. Phillips ... [and others].</td>\n      <td>Sandra S. Phillips ... [and others].</td>\n      <td>Sandra S. Phillips ... [and others].</td>\n      <td>Sandra S. Phillips ... [and others]</td>\n    </tr>\n    <tr>\n      <th>4</th>\n      <td>78</td>\n      <td>What's wrong with mindfulness (and what isn't)...</td>\n      <td>NaN</td>\n      <td>What's wrong with mindfulness (and what isn't)...</td>\n      <td>edited by Robert Meikyo Rosenbaum and Barry M...</td>\n      <td>edited by Robert Meikyo Rosenbaum and Barry Ma...</td>\n      <td>Robert Meikyo Rosenbaum and Barry Magid.</td>\n      <td>Robert Meikyo Rosenbaum and Barry Magid</td>\n    </tr>\n    <tr>\n      <th>...</th>\n      <td>...</td>\n      <td>...</td>\n      <td>...</td>\n      <td>...</td>\n      <td>...</td>\n      <td>...</td>\n      <td>...</td>\n      <td>...</td>\n    </tr>\n    <tr>\n      <th>540</th>\n      <td>10089</td>\n      <td>Contemporary American religion / Wade Clark Ro...</td>\n      <td>NaN</td>\n      <td>Contemporary American religion</td>\n      <td>Wade Clark Roof, editor in chief.</td>\n      <td>Wade Clark Roof, editor in chief.</td>\n      <td>Wade Clark Roof, editor in chief.</td>\n      <td>Wade Clark Roof,</td>\n    </tr>\n    <tr>\n      <th>541</th>\n      <td>10102</td>\n      <td>¡Manteca!: : an anthology of Afro-Latin@ poets...</td>\n      <td>NaN</td>\n      <td>¡Manteca!: : an anthology of Afro-Latin@ poets</td>\n      <td>edited by Melissa Castillo-Garsow.</td>\n      <td>edited by Melissa Castillo-Garsow.</td>\n      <td>Melissa Castillo-Garsow.</td>\n      <td>Melissa Castillo-Garsow</td>\n    </tr>\n    <tr>\n      <th>542</th>\n      <td>10115</td>\n      <td>Here comes Mother Goose / edited by Iona Opie ...</td>\n      <td>NaN</td>\n      <td>Here comes Mother Goose</td>\n      <td>edited by Iona Opie ; illustrated by Rosemary...</td>\n      <td>edited by Iona Opie ; illustrated by Rosemary ...</td>\n      <td>Iona Opie ; illustrated by Rosemary Wells.</td>\n      <td>Iona Opie ; illustrated by Rosemary Wells</td>\n    </tr>\n    <tr>\n      <th>543</th>\n      <td>10175</td>\n      <td>The best American comics 2009 / edited and wit...</td>\n      <td>NaN</td>\n      <td>The best American comics 2009</td>\n      <td>edited and with an introduction by Charles Bu...</td>\n      <td>edited and with an introduction by Charles Bur...</td>\n      <td>edited and with an introduction by Charles Bur...</td>\n      <td>edited and with an introduction by Charles Bur...</td>\n    </tr>\n    <tr>\n      <th>544</th>\n      <td>10221</td>\n      <td>Wanat : combat action in Afghanistan, 2008 / t...</td>\n      <td>NaN</td>\n      <td>Wanat : combat action in Afghanistan, 2008</td>\n      <td>the staff of the US Army Combat Studies Insti...</td>\n      <td></td>\n      <td></td>\n      <td></td>\n    </tr>\n  </tbody>\n</table>\n<p>545 rows × 8 columns</p>\n</div>"
     },
     "execution_count": 90,
     "metadata": {},
     "output_type": "execute_result"
    }
   ],
   "source": [
    "no_auth_modified = remove_subtitle_suffixes(no_auth_modified, 'SubtitleNoOrgPrefSuf', remove_if_at_the_end)\n",
    "no_auth_modified"
   ],
   "metadata": {
    "collapsed": false,
    "ExecuteTime": {
     "end_time": "2023-11-26T14:25:13.229436700Z",
     "start_time": "2023-11-26T14:25:13.211204Z"
    }
   },
   "id": "bcee4f3553f8f47e"
  },
  {
   "cell_type": "code",
   "execution_count": 93,
   "outputs": [],
   "source": [
    "def strip_everything(dataframe, column_name):\n",
    "    pattern = r'^[^\\w]+|[^\\w]+$'\n",
    "    dataframe[column_name] = dataframe[column_name].str.replace(pattern, '', regex=True)\n",
    "    return dataframe"
   ],
   "metadata": {
    "collapsed": false,
    "ExecuteTime": {
     "end_time": "2023-11-26T14:36:53.021934700Z",
     "start_time": "2023-11-26T14:36:53.006908200Z"
    }
   },
   "id": "4dfaa396ebe734c7"
  },
  {
   "cell_type": "code",
   "execution_count": 94,
   "outputs": [
    {
     "data": {
      "text/plain": "     Unnamed: 0                                              Title  Author  \\\n0             5  Crucial conversations : tools for talking when...     NaN   \n1             9                             Be here now, remember.     NaN   \n2            23  A very merry temptation / Kimberly Kaye Terry,...     NaN   \n3            65  Crossing the frontier : photographs of the dev...     NaN   \n4            78  What's wrong with mindfulness (and what isn't)...     NaN   \n..          ...                                                ...     ...   \n540       10089  Contemporary American religion / Wade Clark Ro...     NaN   \n541       10102  ¡Manteca!: : an anthology of Afro-Latin@ poets...     NaN   \n542       10115  Here comes Mother Goose / edited by Iona Opie ...     NaN   \n543       10175  The best American comics 2009 / edited and wit...     NaN   \n544       10221  Wanat : combat action in Afghanistan, 2008 / t...     NaN   \n\n                                             TitleMain  \\\n0    Crucial conversations : tools for talking when...   \n1                               Be here now, remember.   \n2                             A very merry temptation    \n3    Crossing the frontier : photographs of the dev...   \n4    What's wrong with mindfulness (and what isn't)...   \n..                                                 ...   \n540                    Contemporary American religion    \n541    ¡Manteca!: : an anthology of Afro-Latin@ poets    \n542                           Here comes Mother Goose    \n543                     The best American comics 2009    \n544        Wanat : combat action in Afghanistan, 2008    \n\n                                              Subtitle  \\\n0                    Kerry Patterson ... [and others].   \n1                                                 <NA>   \n2     Kimberly Kaye Terry, Pamela Yaye, Farrah Rochon.   \n3                 Sandra S. Phillips ... [and others].   \n4     edited by Robert Meikyo Rosenbaum and Barry M...   \n..                                                 ...   \n540                  Wade Clark Roof, editor in chief.   \n541                 edited by Melissa Castillo-Garsow.   \n542   edited by Iona Opie ; illustrated by Rosemary...   \n543   edited and with an introduction by Charles Bu...   \n544   the staff of the US Army Combat Studies Insti...   \n\n                                         SubtitleNoOrg  \\\n0                    Kerry Patterson ... [and others].   \n1                                                 <NA>   \n2     Kimberly Kaye Terry, Pamela Yaye, Farrah Rochon.   \n3                 Sandra S. Phillips ... [and others].   \n4    edited by Robert Meikyo Rosenbaum and Barry Ma...   \n..                                                 ...   \n540                  Wade Clark Roof, editor in chief.   \n541                 edited by Melissa Castillo-Garsow.   \n542  edited by Iona Opie ; illustrated by Rosemary ...   \n543  edited and with an introduction by Charles Bur...   \n544                                                      \n\n                                     SubtitleNoOrgPref  \\\n0                    Kerry Patterson ... [and others].   \n1                                                 <NA>   \n2     Kimberly Kaye Terry, Pamela Yaye, Farrah Rochon.   \n3                 Sandra S. Phillips ... [and others].   \n4             Robert Meikyo Rosenbaum and Barry Magid.   \n..                                                 ...   \n540                  Wade Clark Roof, editor in chief.   \n541                           Melissa Castillo-Garsow.   \n542         Iona Opie ; illustrated by Rosemary Wells.   \n543  edited and with an introduction by Charles Bur...   \n544                                                      \n\n                                  SubtitleNoOrgPrefSuf  \n0                      Kerry Patterson ... [and others  \n1                                                 <NA>  \n2      Kimberly Kaye Terry, Pamela Yaye, Farrah Rochon  \n3                   Sandra S. Phillips ... [and others  \n4              Robert Meikyo Rosenbaum and Barry Magid  \n..                                                 ...  \n540                                    Wade Clark Roof  \n541                            Melissa Castillo-Garsow  \n542          Iona Opie ; illustrated by Rosemary Wells  \n543  edited and with an introduction by Charles Bur...  \n544                                                     \n\n[545 rows x 8 columns]",
      "text/html": "<div>\n<style scoped>\n    .dataframe tbody tr th:only-of-type {\n        vertical-align: middle;\n    }\n\n    .dataframe tbody tr th {\n        vertical-align: top;\n    }\n\n    .dataframe thead th {\n        text-align: right;\n    }\n</style>\n<table border=\"1\" class=\"dataframe\">\n  <thead>\n    <tr style=\"text-align: right;\">\n      <th></th>\n      <th>Unnamed: 0</th>\n      <th>Title</th>\n      <th>Author</th>\n      <th>TitleMain</th>\n      <th>Subtitle</th>\n      <th>SubtitleNoOrg</th>\n      <th>SubtitleNoOrgPref</th>\n      <th>SubtitleNoOrgPrefSuf</th>\n    </tr>\n  </thead>\n  <tbody>\n    <tr>\n      <th>0</th>\n      <td>5</td>\n      <td>Crucial conversations : tools for talking when...</td>\n      <td>NaN</td>\n      <td>Crucial conversations : tools for talking when...</td>\n      <td>Kerry Patterson ... [and others].</td>\n      <td>Kerry Patterson ... [and others].</td>\n      <td>Kerry Patterson ... [and others].</td>\n      <td>Kerry Patterson ... [and others</td>\n    </tr>\n    <tr>\n      <th>1</th>\n      <td>9</td>\n      <td>Be here now, remember.</td>\n      <td>NaN</td>\n      <td>Be here now, remember.</td>\n      <td>&lt;NA&gt;</td>\n      <td>&lt;NA&gt;</td>\n      <td>&lt;NA&gt;</td>\n      <td>&lt;NA&gt;</td>\n    </tr>\n    <tr>\n      <th>2</th>\n      <td>23</td>\n      <td>A very merry temptation / Kimberly Kaye Terry,...</td>\n      <td>NaN</td>\n      <td>A very merry temptation</td>\n      <td>Kimberly Kaye Terry, Pamela Yaye, Farrah Rochon.</td>\n      <td>Kimberly Kaye Terry, Pamela Yaye, Farrah Rochon.</td>\n      <td>Kimberly Kaye Terry, Pamela Yaye, Farrah Rochon.</td>\n      <td>Kimberly Kaye Terry, Pamela Yaye, Farrah Rochon</td>\n    </tr>\n    <tr>\n      <th>3</th>\n      <td>65</td>\n      <td>Crossing the frontier : photographs of the dev...</td>\n      <td>NaN</td>\n      <td>Crossing the frontier : photographs of the dev...</td>\n      <td>Sandra S. Phillips ... [and others].</td>\n      <td>Sandra S. Phillips ... [and others].</td>\n      <td>Sandra S. Phillips ... [and others].</td>\n      <td>Sandra S. Phillips ... [and others</td>\n    </tr>\n    <tr>\n      <th>4</th>\n      <td>78</td>\n      <td>What's wrong with mindfulness (and what isn't)...</td>\n      <td>NaN</td>\n      <td>What's wrong with mindfulness (and what isn't)...</td>\n      <td>edited by Robert Meikyo Rosenbaum and Barry M...</td>\n      <td>edited by Robert Meikyo Rosenbaum and Barry Ma...</td>\n      <td>Robert Meikyo Rosenbaum and Barry Magid.</td>\n      <td>Robert Meikyo Rosenbaum and Barry Magid</td>\n    </tr>\n    <tr>\n      <th>...</th>\n      <td>...</td>\n      <td>...</td>\n      <td>...</td>\n      <td>...</td>\n      <td>...</td>\n      <td>...</td>\n      <td>...</td>\n      <td>...</td>\n    </tr>\n    <tr>\n      <th>540</th>\n      <td>10089</td>\n      <td>Contemporary American religion / Wade Clark Ro...</td>\n      <td>NaN</td>\n      <td>Contemporary American religion</td>\n      <td>Wade Clark Roof, editor in chief.</td>\n      <td>Wade Clark Roof, editor in chief.</td>\n      <td>Wade Clark Roof, editor in chief.</td>\n      <td>Wade Clark Roof</td>\n    </tr>\n    <tr>\n      <th>541</th>\n      <td>10102</td>\n      <td>¡Manteca!: : an anthology of Afro-Latin@ poets...</td>\n      <td>NaN</td>\n      <td>¡Manteca!: : an anthology of Afro-Latin@ poets</td>\n      <td>edited by Melissa Castillo-Garsow.</td>\n      <td>edited by Melissa Castillo-Garsow.</td>\n      <td>Melissa Castillo-Garsow.</td>\n      <td>Melissa Castillo-Garsow</td>\n    </tr>\n    <tr>\n      <th>542</th>\n      <td>10115</td>\n      <td>Here comes Mother Goose / edited by Iona Opie ...</td>\n      <td>NaN</td>\n      <td>Here comes Mother Goose</td>\n      <td>edited by Iona Opie ; illustrated by Rosemary...</td>\n      <td>edited by Iona Opie ; illustrated by Rosemary ...</td>\n      <td>Iona Opie ; illustrated by Rosemary Wells.</td>\n      <td>Iona Opie ; illustrated by Rosemary Wells</td>\n    </tr>\n    <tr>\n      <th>543</th>\n      <td>10175</td>\n      <td>The best American comics 2009 / edited and wit...</td>\n      <td>NaN</td>\n      <td>The best American comics 2009</td>\n      <td>edited and with an introduction by Charles Bu...</td>\n      <td>edited and with an introduction by Charles Bur...</td>\n      <td>edited and with an introduction by Charles Bur...</td>\n      <td>edited and with an introduction by Charles Bur...</td>\n    </tr>\n    <tr>\n      <th>544</th>\n      <td>10221</td>\n      <td>Wanat : combat action in Afghanistan, 2008 / t...</td>\n      <td>NaN</td>\n      <td>Wanat : combat action in Afghanistan, 2008</td>\n      <td>the staff of the US Army Combat Studies Insti...</td>\n      <td></td>\n      <td></td>\n      <td></td>\n    </tr>\n  </tbody>\n</table>\n<p>545 rows × 8 columns</p>\n</div>"
     },
     "execution_count": 94,
     "metadata": {},
     "output_type": "execute_result"
    }
   ],
   "source": [
    "no_auth_modified = strip_everything(no_auth_modified, 'SubtitleNoOrgPrefSuf')\n",
    "no_auth_modified"
   ],
   "metadata": {
    "collapsed": false,
    "ExecuteTime": {
     "end_time": "2023-11-26T14:36:55.502714500Z",
     "start_time": "2023-11-26T14:36:55.485901100Z"
    }
   },
   "id": "67a468eb7e2cf0"
  },
  {
   "cell_type": "code",
   "execution_count": 115,
   "outputs": [
    {
     "data": {
      "text/plain": "     Unnamed: 0                                              Title  Author  \\\n0             5  Crucial conversations : tools for talking when...     NaN   \n1             9                             Be here now, remember.     NaN   \n2            23  A very merry temptation / Kimberly Kaye Terry,...     NaN   \n3            65  Crossing the frontier : photographs of the dev...     NaN   \n4            78  What's wrong with mindfulness (and what isn't)...     NaN   \n..          ...                                                ...     ...   \n540       10089  Contemporary American religion / Wade Clark Ro...     NaN   \n541       10102  ¡Manteca!: : an anthology of Afro-Latin@ poets...     NaN   \n542       10115  Here comes Mother Goose / edited by Iona Opie ...     NaN   \n543       10175  The best American comics 2009 / edited and wit...     NaN   \n544       10221  Wanat : combat action in Afghanistan, 2008 / t...     NaN   \n\n                                             TitleMain  \\\n0    Crucial conversations : tools for talking when...   \n1                               Be here now, remember.   \n2                             A very merry temptation    \n3    Crossing the frontier : photographs of the dev...   \n4    What's wrong with mindfulness (and what isn't)...   \n..                                                 ...   \n540                    Contemporary American religion    \n541    ¡Manteca!: : an anthology of Afro-Latin@ poets    \n542                           Here comes Mother Goose    \n543                     The best American comics 2009    \n544        Wanat : combat action in Afghanistan, 2008    \n\n                                              Subtitle  \n0                    Kerry Patterson ... [and others].  \n1                                                  NaN  \n2     Kimberly Kaye Terry, Pamela Yaye, Farrah Rochon.  \n3                 Sandra S. Phillips ... [and others].  \n4     edited by Robert Meikyo Rosenbaum and Barry M...  \n..                                                 ...  \n540                  Wade Clark Roof, editor in chief.  \n541                 edited by Melissa Castillo-Garsow.  \n542   edited by Iona Opie ; illustrated by Rosemary...  \n543   edited and with an introduction by Charles Bu...  \n544   the staff of the US Army Combat Studies Insti...  \n\n[545 rows x 5 columns]",
      "text/html": "<div>\n<style scoped>\n    .dataframe tbody tr th:only-of-type {\n        vertical-align: middle;\n    }\n\n    .dataframe tbody tr th {\n        vertical-align: top;\n    }\n\n    .dataframe thead th {\n        text-align: right;\n    }\n</style>\n<table border=\"1\" class=\"dataframe\">\n  <thead>\n    <tr style=\"text-align: right;\">\n      <th></th>\n      <th>Unnamed: 0</th>\n      <th>Title</th>\n      <th>Author</th>\n      <th>TitleMain</th>\n      <th>Subtitle</th>\n    </tr>\n  </thead>\n  <tbody>\n    <tr>\n      <th>0</th>\n      <td>5</td>\n      <td>Crucial conversations : tools for talking when...</td>\n      <td>NaN</td>\n      <td>Crucial conversations : tools for talking when...</td>\n      <td>Kerry Patterson ... [and others].</td>\n    </tr>\n    <tr>\n      <th>1</th>\n      <td>9</td>\n      <td>Be here now, remember.</td>\n      <td>NaN</td>\n      <td>Be here now, remember.</td>\n      <td>NaN</td>\n    </tr>\n    <tr>\n      <th>2</th>\n      <td>23</td>\n      <td>A very merry temptation / Kimberly Kaye Terry,...</td>\n      <td>NaN</td>\n      <td>A very merry temptation</td>\n      <td>Kimberly Kaye Terry, Pamela Yaye, Farrah Rochon.</td>\n    </tr>\n    <tr>\n      <th>3</th>\n      <td>65</td>\n      <td>Crossing the frontier : photographs of the dev...</td>\n      <td>NaN</td>\n      <td>Crossing the frontier : photographs of the dev...</td>\n      <td>Sandra S. Phillips ... [and others].</td>\n    </tr>\n    <tr>\n      <th>4</th>\n      <td>78</td>\n      <td>What's wrong with mindfulness (and what isn't)...</td>\n      <td>NaN</td>\n      <td>What's wrong with mindfulness (and what isn't)...</td>\n      <td>edited by Robert Meikyo Rosenbaum and Barry M...</td>\n    </tr>\n    <tr>\n      <th>...</th>\n      <td>...</td>\n      <td>...</td>\n      <td>...</td>\n      <td>...</td>\n      <td>...</td>\n    </tr>\n    <tr>\n      <th>540</th>\n      <td>10089</td>\n      <td>Contemporary American religion / Wade Clark Ro...</td>\n      <td>NaN</td>\n      <td>Contemporary American religion</td>\n      <td>Wade Clark Roof, editor in chief.</td>\n    </tr>\n    <tr>\n      <th>541</th>\n      <td>10102</td>\n      <td>¡Manteca!: : an anthology of Afro-Latin@ poets...</td>\n      <td>NaN</td>\n      <td>¡Manteca!: : an anthology of Afro-Latin@ poets</td>\n      <td>edited by Melissa Castillo-Garsow.</td>\n    </tr>\n    <tr>\n      <th>542</th>\n      <td>10115</td>\n      <td>Here comes Mother Goose / edited by Iona Opie ...</td>\n      <td>NaN</td>\n      <td>Here comes Mother Goose</td>\n      <td>edited by Iona Opie ; illustrated by Rosemary...</td>\n    </tr>\n    <tr>\n      <th>543</th>\n      <td>10175</td>\n      <td>The best American comics 2009 / edited and wit...</td>\n      <td>NaN</td>\n      <td>The best American comics 2009</td>\n      <td>edited and with an introduction by Charles Bu...</td>\n    </tr>\n    <tr>\n      <th>544</th>\n      <td>10221</td>\n      <td>Wanat : combat action in Afghanistan, 2008 / t...</td>\n      <td>NaN</td>\n      <td>Wanat : combat action in Afghanistan, 2008</td>\n      <td>the staff of the US Army Combat Studies Insti...</td>\n    </tr>\n  </tbody>\n</table>\n<p>545 rows × 5 columns</p>\n</div>"
     },
     "execution_count": 115,
     "metadata": {},
     "output_type": "execute_result"
    }
   ],
   "source": [
    "no_auth = pd.read_csv('no_author.csv')\n",
    "no_auth"
   ],
   "metadata": {
    "collapsed": false,
    "ExecuteTime": {
     "end_time": "2023-11-26T15:28:01.796265700Z",
     "start_time": "2023-11-26T15:28:01.770668400Z"
    }
   },
   "id": "7b915e5fb4defead"
  },
  {
   "cell_type": "code",
   "execution_count": 96,
   "outputs": [
    {
     "name": "stdout",
     "output_type": "stream",
     "text": [
      "Collecting spacy\n",
      "  Downloading spacy-3.7.2-cp311-cp311-win_amd64.whl.metadata (26 kB)\n",
      "Collecting spacy-legacy<3.1.0,>=3.0.11 (from spacy)\n",
      "  Downloading spacy_legacy-3.0.12-py2.py3-none-any.whl (29 kB)\n",
      "Collecting spacy-loggers<2.0.0,>=1.0.0 (from spacy)\n",
      "  Downloading spacy_loggers-1.0.5-py3-none-any.whl.metadata (23 kB)\n",
      "Collecting murmurhash<1.1.0,>=0.28.0 (from spacy)\n",
      "  Downloading murmurhash-1.0.10-cp311-cp311-win_amd64.whl.metadata (2.0 kB)\n",
      "Collecting cymem<2.1.0,>=2.0.2 (from spacy)\n",
      "  Downloading cymem-2.0.8-cp311-cp311-win_amd64.whl.metadata (8.6 kB)\n",
      "Collecting preshed<3.1.0,>=3.0.2 (from spacy)\n",
      "  Downloading preshed-3.0.9-cp311-cp311-win_amd64.whl.metadata (2.2 kB)\n",
      "Collecting thinc<8.3.0,>=8.1.8 (from spacy)\n",
      "  Downloading thinc-8.2.1-cp311-cp311-win_amd64.whl.metadata (15 kB)\n",
      "Collecting wasabi<1.2.0,>=0.9.1 (from spacy)\n",
      "  Downloading wasabi-1.1.2-py3-none-any.whl.metadata (28 kB)\n",
      "Collecting srsly<3.0.0,>=2.4.3 (from spacy)\n",
      "  Downloading srsly-2.4.8-cp311-cp311-win_amd64.whl.metadata (20 kB)\n",
      "Collecting catalogue<2.1.0,>=2.0.6 (from spacy)\n",
      "  Downloading catalogue-2.0.10-py3-none-any.whl.metadata (14 kB)\n",
      "Collecting weasel<0.4.0,>=0.1.0 (from spacy)\n",
      "  Downloading weasel-0.3.4-py3-none-any.whl.metadata (4.7 kB)\n",
      "Collecting typer<0.10.0,>=0.3.0 (from spacy)\n",
      "  Downloading typer-0.9.0-py3-none-any.whl (45 kB)\n",
      "     ---------------------------------------- 0.0/45.9 kB ? eta -:--:--\n",
      "     ---------------------------------------- 45.9/45.9 kB 2.2 MB/s eta 0:00:00\n",
      "Collecting smart-open<7.0.0,>=5.2.1 (from spacy)\n",
      "  Downloading smart_open-6.4.0-py3-none-any.whl.metadata (21 kB)\n",
      "Collecting tqdm<5.0.0,>=4.38.0 (from spacy)\n",
      "  Downloading tqdm-4.66.1-py3-none-any.whl.metadata (57 kB)\n",
      "     ---------------------------------------- 0.0/57.6 kB ? eta -:--:--\n",
      "     ---------------------------------------- 57.6/57.6 kB 3.0 MB/s eta 0:00:00\n",
      "Requirement already satisfied: requests<3.0.0,>=2.13.0 in c:\\users\\trush\\anaconda3\\envs\\parser\\lib\\site-packages (from spacy) (2.31.0)\n",
      "Collecting pydantic!=1.8,!=1.8.1,<3.0.0,>=1.7.4 (from spacy)\n",
      "  Downloading pydantic-2.5.2-py3-none-any.whl.metadata (65 kB)\n",
      "     ---------------------------------------- 0.0/65.2 kB ? eta -:--:--\n",
      "     ---------------------------------------- 65.2/65.2 kB 3.4 MB/s eta 0:00:00\n",
      "Requirement already satisfied: jinja2 in c:\\users\\trush\\anaconda3\\envs\\parser\\lib\\site-packages (from spacy) (3.1.2)\n",
      "Requirement already satisfied: setuptools in c:\\users\\trush\\anaconda3\\envs\\parser\\lib\\site-packages (from spacy) (68.0.0)\n",
      "Requirement already satisfied: packaging>=20.0 in c:\\users\\trush\\anaconda3\\envs\\parser\\lib\\site-packages (from spacy) (23.1)\n",
      "Collecting langcodes<4.0.0,>=3.2.0 (from spacy)\n",
      "  Downloading langcodes-3.3.0-py3-none-any.whl (181 kB)\n",
      "     ---------------------------------------- 0.0/181.6 kB ? eta -:--:--\n",
      "     ------------------------- ------------ 122.9/181.6 kB 3.6 MB/s eta 0:00:01\n",
      "     -------------------------------------- 181.6/181.6 kB 2.2 MB/s eta 0:00:00\n",
      "Requirement already satisfied: numpy>=1.19.0 in c:\\users\\trush\\anaconda3\\envs\\parser\\lib\\site-packages (from spacy) (1.26.0)\n",
      "Collecting annotated-types>=0.4.0 (from pydantic!=1.8,!=1.8.1,<3.0.0,>=1.7.4->spacy)\n",
      "  Downloading annotated_types-0.6.0-py3-none-any.whl.metadata (12 kB)\n",
      "Collecting pydantic-core==2.14.5 (from pydantic!=1.8,!=1.8.1,<3.0.0,>=1.7.4->spacy)\n",
      "  Downloading pydantic_core-2.14.5-cp311-none-win_amd64.whl.metadata (6.6 kB)\n",
      "Requirement already satisfied: typing-extensions>=4.6.1 in c:\\users\\trush\\anaconda3\\envs\\parser\\lib\\site-packages (from pydantic!=1.8,!=1.8.1,<3.0.0,>=1.7.4->spacy) (4.7.1)\n",
      "Requirement already satisfied: charset-normalizer<4,>=2 in c:\\users\\trush\\anaconda3\\envs\\parser\\lib\\site-packages (from requests<3.0.0,>=2.13.0->spacy) (2.0.4)\n",
      "Requirement already satisfied: idna<4,>=2.5 in c:\\users\\trush\\anaconda3\\envs\\parser\\lib\\site-packages (from requests<3.0.0,>=2.13.0->spacy) (3.4)\n",
      "Requirement already satisfied: urllib3<3,>=1.21.1 in c:\\users\\trush\\anaconda3\\envs\\parser\\lib\\site-packages (from requests<3.0.0,>=2.13.0->spacy) (1.26.18)\n",
      "Requirement already satisfied: certifi>=2017.4.17 in c:\\users\\trush\\anaconda3\\envs\\parser\\lib\\site-packages (from requests<3.0.0,>=2.13.0->spacy) (2023.7.22)\n",
      "Collecting blis<0.8.0,>=0.7.8 (from thinc<8.3.0,>=8.1.8->spacy)\n",
      "  Downloading blis-0.7.11-cp311-cp311-win_amd64.whl.metadata (7.6 kB)\n",
      "Collecting confection<1.0.0,>=0.0.1 (from thinc<8.3.0,>=8.1.8->spacy)\n",
      "  Downloading confection-0.1.4-py3-none-any.whl.metadata (19 kB)\n",
      "Requirement already satisfied: colorama in c:\\users\\trush\\anaconda3\\envs\\parser\\lib\\site-packages (from tqdm<5.0.0,>=4.38.0->spacy) (0.4.6)\n",
      "Collecting click<9.0.0,>=7.1.1 (from typer<0.10.0,>=0.3.0->spacy)\n",
      "  Downloading click-8.1.7-py3-none-any.whl.metadata (3.0 kB)\n",
      "Collecting cloudpathlib<0.17.0,>=0.7.0 (from weasel<0.4.0,>=0.1.0->spacy)\n",
      "  Downloading cloudpathlib-0.16.0-py3-none-any.whl.metadata (14 kB)\n",
      "Requirement already satisfied: MarkupSafe>=2.0 in c:\\users\\trush\\anaconda3\\envs\\parser\\lib\\site-packages (from jinja2->spacy) (2.1.1)\n",
      "Downloading spacy-3.7.2-cp311-cp311-win_amd64.whl (12.1 MB)\n",
      "   ---------------------------------------- 0.0/12.1 MB ? eta -:--:--\n",
      "   ---------------------------------------- 0.1/12.1 MB 2.4 MB/s eta 0:00:05\n",
      "    --------------------------------------- 0.2/12.1 MB 2.5 MB/s eta 0:00:05\n",
      "   - -------------------------------------- 0.3/12.1 MB 2.5 MB/s eta 0:00:05\n",
      "   - -------------------------------------- 0.4/12.1 MB 2.6 MB/s eta 0:00:05\n",
      "   - -------------------------------------- 0.5/12.1 MB 2.1 MB/s eta 0:00:06\n",
      "   -- ------------------------------------- 0.6/12.1 MB 2.1 MB/s eta 0:00:06\n",
      "   -- ------------------------------------- 0.7/12.1 MB 2.2 MB/s eta 0:00:06\n",
      "   -- ------------------------------------- 0.8/12.1 MB 2.2 MB/s eta 0:00:06\n",
      "   --- ------------------------------------ 1.0/12.1 MB 2.3 MB/s eta 0:00:05\n",
      "   --- ------------------------------------ 1.0/12.1 MB 2.4 MB/s eta 0:00:05\n",
      "   --- ------------------------------------ 1.0/12.1 MB 2.4 MB/s eta 0:00:05\n",
      "   --- ------------------------------------ 1.2/12.1 MB 2.1 MB/s eta 0:00:06\n",
      "   ---- ----------------------------------- 1.3/12.1 MB 2.1 MB/s eta 0:00:06\n",
      "   ---- ----------------------------------- 1.4/12.1 MB 2.1 MB/s eta 0:00:06\n",
      "   ---- ----------------------------------- 1.5/12.1 MB 2.1 MB/s eta 0:00:05\n",
      "   ----- ---------------------------------- 1.7/12.1 MB 2.2 MB/s eta 0:00:05\n",
      "   ----- ---------------------------------- 1.7/12.1 MB 2.2 MB/s eta 0:00:05\n",
      "   ------ --------------------------------- 1.9/12.1 MB 2.1 MB/s eta 0:00:05\n",
      "   ------ --------------------------------- 1.9/12.1 MB 2.2 MB/s eta 0:00:05\n",
      "   ------ --------------------------------- 2.0/12.1 MB 2.1 MB/s eta 0:00:05\n",
      "   ------- -------------------------------- 2.2/12.1 MB 2.2 MB/s eta 0:00:05\n",
      "   ------- -------------------------------- 2.3/12.1 MB 2.2 MB/s eta 0:00:05\n",
      "   -------- ------------------------------- 2.5/12.1 MB 2.3 MB/s eta 0:00:05\n",
      "   -------- ------------------------------- 2.6/12.1 MB 2.3 MB/s eta 0:00:05\n",
      "   --------- ------------------------------ 2.8/12.1 MB 2.3 MB/s eta 0:00:04\n",
      "   --------- ------------------------------ 2.9/12.1 MB 2.3 MB/s eta 0:00:04\n",
      "   --------- ------------------------------ 3.0/12.1 MB 2.4 MB/s eta 0:00:04\n",
      "   --------- ------------------------------ 3.0/12.1 MB 2.3 MB/s eta 0:00:04\n",
      "   ---------- ----------------------------- 3.1/12.1 MB 2.2 MB/s eta 0:00:05\n",
      "   ---------- ----------------------------- 3.3/12.1 MB 2.3 MB/s eta 0:00:04\n",
      "   ----------- ---------------------------- 3.5/12.1 MB 2.4 MB/s eta 0:00:04\n",
      "   ------------ --------------------------- 3.6/12.1 MB 2.4 MB/s eta 0:00:04\n",
      "   ------------ --------------------------- 3.9/12.1 MB 2.5 MB/s eta 0:00:04\n",
      "   ------------- -------------------------- 4.0/12.1 MB 2.5 MB/s eta 0:00:04\n",
      "   ------------- -------------------------- 4.1/12.1 MB 2.5 MB/s eta 0:00:04\n",
      "   -------------- ------------------------- 4.3/12.1 MB 2.5 MB/s eta 0:00:04\n",
      "   -------------- ------------------------- 4.4/12.1 MB 2.5 MB/s eta 0:00:04\n",
      "   -------------- ------------------------- 4.5/12.1 MB 2.5 MB/s eta 0:00:04\n",
      "   --------------- ------------------------ 4.7/12.1 MB 2.5 MB/s eta 0:00:03\n",
      "   --------------- ------------------------ 4.8/12.1 MB 2.5 MB/s eta 0:00:03\n",
      "   ---------------- ----------------------- 4.9/12.1 MB 2.6 MB/s eta 0:00:03\n",
      "   ---------------- ----------------------- 5.1/12.1 MB 2.5 MB/s eta 0:00:03\n",
      "   ----------------- ---------------------- 5.2/12.1 MB 2.6 MB/s eta 0:00:03\n",
      "   ----------------- ---------------------- 5.4/12.1 MB 2.6 MB/s eta 0:00:03\n",
      "   ------------------ --------------------- 5.5/12.1 MB 2.6 MB/s eta 0:00:03\n",
      "   ------------------ --------------------- 5.7/12.1 MB 2.6 MB/s eta 0:00:03\n",
      "   ------------------- -------------------- 5.8/12.1 MB 2.6 MB/s eta 0:00:03\n",
      "   ------------------- -------------------- 5.9/12.1 MB 2.6 MB/s eta 0:00:03\n",
      "   -------------------- ------------------- 6.2/12.1 MB 2.7 MB/s eta 0:00:03\n",
      "   -------------------- ------------------- 6.3/12.1 MB 2.7 MB/s eta 0:00:03\n",
      "   --------------------- ------------------ 6.3/12.1 MB 2.6 MB/s eta 0:00:03\n",
      "   --------------------- ------------------ 6.5/12.1 MB 2.6 MB/s eta 0:00:03\n",
      "   ---------------------- ----------------- 6.7/12.1 MB 2.7 MB/s eta 0:00:03\n",
      "   ---------------------- ----------------- 6.8/12.1 MB 2.6 MB/s eta 0:00:03\n",
      "   ---------------------- ----------------- 6.9/12.1 MB 2.6 MB/s eta 0:00:02\n",
      "   ----------------------- ---------------- 7.0/12.1 MB 2.6 MB/s eta 0:00:02\n",
      "   ----------------------- ---------------- 7.2/12.1 MB 2.7 MB/s eta 0:00:02\n",
      "   ------------------------ --------------- 7.4/12.1 MB 2.7 MB/s eta 0:00:02\n",
      "   ------------------------ --------------- 7.5/12.1 MB 2.7 MB/s eta 0:00:02\n",
      "   ------------------------- -------------- 7.6/12.1 MB 2.7 MB/s eta 0:00:02\n",
      "   -------------------------- ------------- 7.9/12.1 MB 2.7 MB/s eta 0:00:02\n",
      "   -------------------------- ------------- 8.0/12.1 MB 2.7 MB/s eta 0:00:02\n",
      "   -------------------------- ------------- 8.1/12.1 MB 2.7 MB/s eta 0:00:02\n",
      "   --------------------------- ------------ 8.3/12.1 MB 2.7 MB/s eta 0:00:02\n",
      "   --------------------------- ------------ 8.3/12.1 MB 2.7 MB/s eta 0:00:02\n",
      "   --------------------------- ------------ 8.3/12.1 MB 2.6 MB/s eta 0:00:02\n",
      "   --------------------------- ------------ 8.3/12.1 MB 2.6 MB/s eta 0:00:02\n",
      "   ---------------------------- ----------- 8.5/12.1 MB 2.6 MB/s eta 0:00:02\n",
      "   ---------------------------- ----------- 8.6/12.1 MB 2.6 MB/s eta 0:00:02\n",
      "   ----------------------------- ---------- 8.8/12.1 MB 2.6 MB/s eta 0:00:02\n",
      "   ----------------------------- ---------- 8.9/12.1 MB 2.6 MB/s eta 0:00:02\n",
      "   ------------------------------ --------- 9.2/12.1 MB 2.7 MB/s eta 0:00:02\n",
      "   ------------------------------ --------- 9.2/12.1 MB 2.7 MB/s eta 0:00:02\n",
      "   ------------------------------ --------- 9.3/12.1 MB 2.6 MB/s eta 0:00:02\n",
      "   ------------------------------ --------- 9.3/12.1 MB 2.6 MB/s eta 0:00:02\n",
      "   ------------------------------- -------- 9.5/12.1 MB 2.6 MB/s eta 0:00:01\n",
      "   -------------------------------- ------- 9.7/12.1 MB 2.6 MB/s eta 0:00:01\n",
      "   -------------------------------- ------- 9.8/12.1 MB 2.6 MB/s eta 0:00:01\n",
      "   --------------------------------- ------ 10.1/12.1 MB 2.7 MB/s eta 0:00:01\n",
      "   ---------------------------------- ----- 10.3/12.1 MB 2.7 MB/s eta 0:00:01\n",
      "   ---------------------------------- ----- 10.5/12.1 MB 2.7 MB/s eta 0:00:01\n",
      "   ----------------------------------- ---- 10.7/12.1 MB 2.8 MB/s eta 0:00:01\n",
      "   ----------------------------------- ---- 10.8/12.1 MB 2.8 MB/s eta 0:00:01\n",
      "   ------------------------------------ --- 10.9/12.1 MB 2.8 MB/s eta 0:00:01\n",
      "   ------------------------------------ --- 11.0/12.1 MB 2.7 MB/s eta 0:00:01\n",
      "   ------------------------------------ --- 11.0/12.1 MB 2.7 MB/s eta 0:00:01\n",
      "   ------------------------------------ --- 11.1/12.1 MB 2.7 MB/s eta 0:00:01\n",
      "   ------------------------------------ --- 11.1/12.1 MB 2.7 MB/s eta 0:00:01\n",
      "   ------------------------------------ --- 11.2/12.1 MB 2.7 MB/s eta 0:00:01\n",
      "   ------------------------------------- -- 11.3/12.1 MB 2.6 MB/s eta 0:00:01\n",
      "   ------------------------------------- -- 11.4/12.1 MB 2.7 MB/s eta 0:00:01\n",
      "   -------------------------------------- - 11.5/12.1 MB 2.7 MB/s eta 0:00:01\n",
      "   -------------------------------------- - 11.6/12.1 MB 2.7 MB/s eta 0:00:01\n",
      "   ---------------------------------------  11.8/12.1 MB 2.7 MB/s eta 0:00:01\n",
      "   ---------------------------------------  11.9/12.1 MB 2.7 MB/s eta 0:00:01\n",
      "   ---------------------------------------  12.0/12.1 MB 2.7 MB/s eta 0:00:01\n",
      "   ---------------------------------------  12.1/12.1 MB 2.7 MB/s eta 0:00:01\n",
      "   ---------------------------------------- 12.1/12.1 MB 2.7 MB/s eta 0:00:00\n",
      "Downloading catalogue-2.0.10-py3-none-any.whl (17 kB)\n",
      "Downloading cymem-2.0.8-cp311-cp311-win_amd64.whl (39 kB)\n",
      "Downloading murmurhash-1.0.10-cp311-cp311-win_amd64.whl (25 kB)\n",
      "Downloading preshed-3.0.9-cp311-cp311-win_amd64.whl (122 kB)\n",
      "   ---------------------------------------- 0.0/122.3 kB ? eta -:--:--\n",
      "   ---------------------------------------- 122.3/122.3 kB 2.4 MB/s eta 0:00:00\n",
      "Downloading pydantic-2.5.2-py3-none-any.whl (381 kB)\n",
      "   ---------------------------------------- 0.0/381.9 kB ? eta -:--:--\n",
      "   ------------------ --------------------- 174.1/381.9 kB 5.3 MB/s eta 0:00:01\n",
      "   ----------------------------------- ---- 337.9/381.9 kB 4.2 MB/s eta 0:00:01\n",
      "   ---------------------------------------- 381.9/381.9 kB 3.4 MB/s eta 0:00:00\n",
      "Downloading pydantic_core-2.14.5-cp311-none-win_amd64.whl (1.9 MB)\n",
      "   ---------------------------------------- 0.0/1.9 MB ? eta -:--:--\n",
      "   ---- ----------------------------------- 0.2/1.9 MB 7.3 MB/s eta 0:00:01\n",
      "   ------- -------------------------------- 0.4/1.9 MB 5.5 MB/s eta 0:00:01\n",
      "   ---------- ----------------------------- 0.5/1.9 MB 3.9 MB/s eta 0:00:01\n",
      "   -------------- ------------------------- 0.7/1.9 MB 4.0 MB/s eta 0:00:01\n",
      "   ----------------- ---------------------- 0.8/1.9 MB 3.8 MB/s eta 0:00:01\n",
      "   ------------------- -------------------- 0.9/1.9 MB 3.6 MB/s eta 0:00:01\n",
      "   ----------------------- ---------------- 1.1/1.9 MB 3.5 MB/s eta 0:00:01\n",
      "   ------------------------ --------------- 1.2/1.9 MB 3.2 MB/s eta 0:00:01\n",
      "   -------------------------- ------------- 1.2/1.9 MB 3.2 MB/s eta 0:00:01\n",
      "   ----------------------------- ---------- 1.4/1.9 MB 3.0 MB/s eta 0:00:01\n",
      "   -------------------------------- ------- 1.5/1.9 MB 3.0 MB/s eta 0:00:01\n",
      "   ---------------------------------- ----- 1.6/1.9 MB 3.0 MB/s eta 0:00:01\n",
      "   ------------------------------------ --- 1.7/1.9 MB 2.9 MB/s eta 0:00:01\n",
      "   ---------------------------------------- 1.9/1.9 MB 2.9 MB/s eta 0:00:00\n",
      "Downloading smart_open-6.4.0-py3-none-any.whl (57 kB)\n",
      "   ---------------------------------------- 0.0/57.0 kB ? eta -:--:--\n",
      "   ---------------------------------------- 57.0/57.0 kB 3.1 MB/s eta 0:00:00\n",
      "Downloading spacy_loggers-1.0.5-py3-none-any.whl (22 kB)\n",
      "Downloading srsly-2.4.8-cp311-cp311-win_amd64.whl (479 kB)\n",
      "   ---------------------------------------- 0.0/479.7 kB ? eta -:--:--\n",
      "   ------------------ --------------------- 225.3/479.7 kB 4.6 MB/s eta 0:00:01\n",
      "   ----------------------------- ---------- 358.4/479.7 kB 3.7 MB/s eta 0:00:01\n",
      "   ---------------------------------------- 479.7/479.7 kB 3.8 MB/s eta 0:00:00\n",
      "Downloading thinc-8.2.1-cp311-cp311-win_amd64.whl (1.5 MB)\n",
      "   ---------------------------------------- 0.0/1.5 MB ? eta -:--:--\n",
      "   --- ------------------------------------ 0.1/1.5 MB 8.3 MB/s eta 0:00:01\n",
      "   ------ --------------------------------- 0.2/1.5 MB 3.5 MB/s eta 0:00:01\n",
      "   ------------ --------------------------- 0.5/1.5 MB 4.1 MB/s eta 0:00:01\n",
      "   ---------------- ----------------------- 0.6/1.5 MB 4.1 MB/s eta 0:00:01\n",
      "   --------------------- ------------------ 0.8/1.5 MB 3.6 MB/s eta 0:00:01\n",
      "   ------------------------ --------------- 0.9/1.5 MB 3.3 MB/s eta 0:00:01\n",
      "   ------------------------------ --------- 1.1/1.5 MB 3.7 MB/s eta 0:00:01\n",
      "   ---------------------------------- ----- 1.3/1.5 MB 3.9 MB/s eta 0:00:01\n",
      "   ------------------------------------ --- 1.3/1.5 MB 3.3 MB/s eta 0:00:01\n",
      "   ---------------------------------------  1.5/1.5 MB 3.2 MB/s eta 0:00:01\n",
      "   ---------------------------------------- 1.5/1.5 MB 3.1 MB/s eta 0:00:00\n",
      "Downloading tqdm-4.66.1-py3-none-any.whl (78 kB)\n",
      "   ---------------------------------------- 0.0/78.3 kB ? eta -:--:--\n",
      "   ---------------------------------------- 78.3/78.3 kB 2.2 MB/s eta 0:00:00\n",
      "Downloading wasabi-1.1.2-py3-none-any.whl (27 kB)\n",
      "Downloading weasel-0.3.4-py3-none-any.whl (50 kB)\n",
      "   ---------------------------------------- 0.0/50.1 kB ? eta -:--:--\n",
      "   ---------------------------------------- 50.1/50.1 kB ? eta 0:00:00\n",
      "Downloading annotated_types-0.6.0-py3-none-any.whl (12 kB)\n",
      "Downloading blis-0.7.11-cp311-cp311-win_amd64.whl (6.6 MB)\n",
      "   ---------------------------------------- 0.0/6.6 MB ? eta -:--:--\n",
      "    --------------------------------------- 0.2/6.6 MB 5.0 MB/s eta 0:00:02\n",
      "   -- ------------------------------------- 0.3/6.6 MB 3.6 MB/s eta 0:00:02\n",
      "   -- ------------------------------------- 0.5/6.6 MB 3.9 MB/s eta 0:00:02\n",
      "   --- ------------------------------------ 0.6/6.6 MB 3.7 MB/s eta 0:00:02\n",
      "   ---- ----------------------------------- 0.8/6.6 MB 3.7 MB/s eta 0:00:02\n",
      "   ----- ---------------------------------- 1.0/6.6 MB 3.4 MB/s eta 0:00:02\n",
      "   ------ --------------------------------- 1.1/6.6 MB 3.6 MB/s eta 0:00:02\n",
      "   ------- -------------------------------- 1.2/6.6 MB 3.6 MB/s eta 0:00:02\n",
      "   -------- ------------------------------- 1.4/6.6 MB 3.3 MB/s eta 0:00:02\n",
      "   --------- ------------------------------ 1.5/6.6 MB 3.3 MB/s eta 0:00:02\n",
      "   ---------- ----------------------------- 1.7/6.6 MB 3.2 MB/s eta 0:00:02\n",
      "   ----------- ---------------------------- 1.9/6.6 MB 3.4 MB/s eta 0:00:02\n",
      "   ----------- ---------------------------- 1.9/6.6 MB 3.2 MB/s eta 0:00:02\n",
      "   ------------ --------------------------- 2.0/6.6 MB 3.1 MB/s eta 0:00:02\n",
      "   ------------ --------------------------- 2.1/6.6 MB 3.0 MB/s eta 0:00:02\n",
      "   ------------- -------------------------- 2.2/6.6 MB 3.1 MB/s eta 0:00:02\n",
      "   ------------- -------------------------- 2.3/6.6 MB 3.0 MB/s eta 0:00:02\n",
      "   -------------- ------------------------- 2.5/6.6 MB 2.9 MB/s eta 0:00:02\n",
      "   --------------- ------------------------ 2.6/6.6 MB 2.9 MB/s eta 0:00:02\n",
      "   --------------- ------------------------ 2.6/6.6 MB 2.9 MB/s eta 0:00:02\n",
      "   ---------------- ----------------------- 2.8/6.6 MB 2.8 MB/s eta 0:00:02\n",
      "   ----------------- ---------------------- 3.0/6.6 MB 2.9 MB/s eta 0:00:02\n",
      "   ------------------- -------------------- 3.2/6.6 MB 2.9 MB/s eta 0:00:02\n",
      "   -------------------- ------------------- 3.3/6.6 MB 2.9 MB/s eta 0:00:02\n",
      "   -------------------- ------------------- 3.4/6.6 MB 3.0 MB/s eta 0:00:02\n",
      "   --------------------- ------------------ 3.5/6.6 MB 2.9 MB/s eta 0:00:02\n",
      "   --------------------- ------------------ 3.6/6.6 MB 2.9 MB/s eta 0:00:02\n",
      "   ---------------------- ----------------- 3.7/6.6 MB 2.8 MB/s eta 0:00:02\n",
      "   ----------------------- ---------------- 3.8/6.6 MB 2.8 MB/s eta 0:00:01\n",
      "   ----------------------- ---------------- 3.9/6.6 MB 2.8 MB/s eta 0:00:01\n",
      "   ------------------------ --------------- 4.0/6.6 MB 2.8 MB/s eta 0:00:01\n",
      "   ------------------------- -------------- 4.2/6.6 MB 2.8 MB/s eta 0:00:01\n",
      "   -------------------------- ------------- 4.3/6.6 MB 2.8 MB/s eta 0:00:01\n",
      "   --------------------------- ------------ 4.5/6.6 MB 2.8 MB/s eta 0:00:01\n",
      "   ---------------------------- ----------- 4.6/6.6 MB 2.8 MB/s eta 0:00:01\n",
      "   ---------------------------- ----------- 4.7/6.6 MB 2.8 MB/s eta 0:00:01\n",
      "   ----------------------------- ---------- 4.9/6.6 MB 2.8 MB/s eta 0:00:01\n",
      "   ------------------------------- -------- 5.1/6.6 MB 2.8 MB/s eta 0:00:01\n",
      "   -------------------------------- ------- 5.3/6.6 MB 2.9 MB/s eta 0:00:01\n",
      "   -------------------------------- ------- 5.4/6.6 MB 2.9 MB/s eta 0:00:01\n",
      "   --------------------------------- ------ 5.5/6.6 MB 2.9 MB/s eta 0:00:01\n",
      "   ---------------------------------- ----- 5.7/6.6 MB 2.8 MB/s eta 0:00:01\n",
      "   ---------------------------------- ----- 5.8/6.6 MB 2.9 MB/s eta 0:00:01\n",
      "   ----------------------------------- ---- 5.9/6.6 MB 2.8 MB/s eta 0:00:01\n",
      "   ------------------------------------ --- 6.1/6.6 MB 2.9 MB/s eta 0:00:01\n",
      "   ------------------------------------- -- 6.1/6.6 MB 2.8 MB/s eta 0:00:01\n",
      "   ------------------------------------- -- 6.2/6.6 MB 2.8 MB/s eta 0:00:01\n",
      "   -------------------------------------- - 6.3/6.6 MB 2.8 MB/s eta 0:00:01\n",
      "   ---------------------------------------  6.5/6.6 MB 2.8 MB/s eta 0:00:01\n",
      "   ---------------------------------------  6.6/6.6 MB 2.8 MB/s eta 0:00:01\n",
      "   ---------------------------------------- 6.6/6.6 MB 2.8 MB/s eta 0:00:00\n",
      "Downloading click-8.1.7-py3-none-any.whl (97 kB)\n",
      "   ---------------------------------------- 0.0/97.9 kB ? eta -:--:--\n",
      "   ------------------------------------- -- 92.2/97.9 kB 5.1 MB/s eta 0:00:01\n",
      "   ---------------------------------------- 97.9/97.9 kB 1.9 MB/s eta 0:00:00\n",
      "Downloading cloudpathlib-0.16.0-py3-none-any.whl (45 kB)\n",
      "   ---------------------------------------- 0.0/45.0 kB ? eta -:--:--\n",
      "   ---------------------------------------- 45.0/45.0 kB ? eta 0:00:00\n",
      "Downloading confection-0.1.4-py3-none-any.whl (35 kB)\n",
      "Installing collected packages: cymem, wasabi, tqdm, spacy-loggers, spacy-legacy, smart-open, pydantic-core, murmurhash, langcodes, cloudpathlib, click, catalogue, blis, annotated-types, typer, srsly, pydantic, preshed, confection, weasel, thinc, spacy\n",
      "Successfully installed annotated-types-0.6.0 blis-0.7.11 catalogue-2.0.10 click-8.1.7 cloudpathlib-0.16.0 confection-0.1.4 cymem-2.0.8 langcodes-3.3.0 murmurhash-1.0.10 preshed-3.0.9 pydantic-2.5.2 pydantic-core-2.14.5 smart-open-6.4.0 spacy-3.7.2 spacy-legacy-3.0.12 spacy-loggers-1.0.5 srsly-2.4.8 thinc-8.2.1 tqdm-4.66.1 typer-0.9.0 wasabi-1.1.2 weasel-0.3.4\n"
     ]
    }
   ],
   "source": [
    "!pip install spacy"
   ],
   "metadata": {
    "collapsed": false,
    "ExecuteTime": {
     "end_time": "2023-11-26T15:15:55.464885Z",
     "start_time": "2023-11-26T15:15:32.015396600Z"
    }
   },
   "id": "802e47578fc1322a"
  },
  {
   "cell_type": "code",
   "execution_count": 99,
   "outputs": [
    {
     "name": "stdout",
     "output_type": "stream",
     "text": [
      "Collecting en-core-web-sm==3.7.1\n",
      "  Downloading https://github.com/explosion/spacy-models/releases/download/en_core_web_sm-3.7.1/en_core_web_sm-3.7.1-py3-none-any.whl (12.8 MB)\n",
      "     ---------------------------------------- 0.0/12.8 MB ? eta -:--:--\n",
      "     ---------------------------------------- 0.0/12.8 MB ? eta -:--:--\n",
      "     --------------------------------------- 0.1/12.8 MB 762.6 kB/s eta 0:00:17\n",
      "      --------------------------------------- 0.2/12.8 MB 1.2 MB/s eta 0:00:11\n",
      "      --------------------------------------- 0.3/12.8 MB 1.6 MB/s eta 0:00:08\n",
      "     - -------------------------------------- 0.4/12.8 MB 2.0 MB/s eta 0:00:07\n",
      "     -- ------------------------------------- 0.7/12.8 MB 2.3 MB/s eta 0:00:06\n",
      "     -- ------------------------------------- 0.8/12.8 MB 2.4 MB/s eta 0:00:05\n",
      "     -- ------------------------------------- 1.0/12.8 MB 2.5 MB/s eta 0:00:05\n",
      "     --- ------------------------------------ 1.1/12.8 MB 2.6 MB/s eta 0:00:05\n",
      "     --- ------------------------------------ 1.2/12.8 MB 2.7 MB/s eta 0:00:05\n",
      "     ---- ----------------------------------- 1.3/12.8 MB 2.4 MB/s eta 0:00:05\n",
      "     ---- ----------------------------------- 1.4/12.8 MB 2.5 MB/s eta 0:00:05\n",
      "     ----- ---------------------------------- 1.6/12.8 MB 2.6 MB/s eta 0:00:05\n",
      "     ----- ---------------------------------- 1.8/12.8 MB 2.7 MB/s eta 0:00:05\n",
      "     ------ --------------------------------- 1.9/12.8 MB 2.7 MB/s eta 0:00:05\n",
      "     ------ --------------------------------- 2.1/12.8 MB 2.7 MB/s eta 0:00:04\n",
      "     ------ --------------------------------- 2.2/12.8 MB 2.7 MB/s eta 0:00:04\n",
      "     ------ --------------------------------- 2.2/12.8 MB 2.7 MB/s eta 0:00:04\n",
      "     ------ --------------------------------- 2.2/12.8 MB 2.5 MB/s eta 0:00:05\n",
      "     ------- -------------------------------- 2.3/12.8 MB 2.4 MB/s eta 0:00:05\n",
      "     ------- -------------------------------- 2.3/12.8 MB 2.4 MB/s eta 0:00:05\n",
      "     ------- -------------------------------- 2.5/12.8 MB 2.4 MB/s eta 0:00:05\n",
      "     -------- ------------------------------- 2.7/12.8 MB 2.4 MB/s eta 0:00:05\n",
      "     -------- ------------------------------- 2.8/12.8 MB 2.5 MB/s eta 0:00:05\n",
      "     --------- ------------------------------ 3.0/12.8 MB 2.5 MB/s eta 0:00:04\n",
      "     --------- ------------------------------ 3.2/12.8 MB 2.5 MB/s eta 0:00:04\n",
      "     ---------- ----------------------------- 3.4/12.8 MB 2.6 MB/s eta 0:00:04\n",
      "     ----------- ---------------------------- 3.6/12.8 MB 2.7 MB/s eta 0:00:04\n",
      "     ----------- ---------------------------- 3.8/12.8 MB 2.7 MB/s eta 0:00:04\n",
      "     ----------- ---------------------------- 3.8/12.8 MB 2.7 MB/s eta 0:00:04\n",
      "     ------------ --------------------------- 3.9/12.8 MB 2.7 MB/s eta 0:00:04\n",
      "     ------------ --------------------------- 4.0/12.8 MB 2.7 MB/s eta 0:00:04\n",
      "     ------------- -------------------------- 4.2/12.8 MB 2.7 MB/s eta 0:00:04\n",
      "     ------------- -------------------------- 4.3/12.8 MB 2.7 MB/s eta 0:00:04\n",
      "     -------------- ------------------------- 4.6/12.8 MB 2.8 MB/s eta 0:00:03\n",
      "     -------------- ------------------------- 4.7/12.8 MB 2.8 MB/s eta 0:00:03\n",
      "     --------------- ------------------------ 4.9/12.8 MB 2.8 MB/s eta 0:00:03\n",
      "     --------------- ------------------------ 5.0/12.8 MB 2.8 MB/s eta 0:00:03\n",
      "     ---------------- ----------------------- 5.1/12.8 MB 2.8 MB/s eta 0:00:03\n",
      "     ---------------- ----------------------- 5.3/12.8 MB 2.8 MB/s eta 0:00:03\n",
      "     ----------------- ---------------------- 5.6/12.8 MB 2.9 MB/s eta 0:00:03\n",
      "     ----------------- ---------------------- 5.7/12.8 MB 2.9 MB/s eta 0:00:03\n",
      "     ------------------ --------------------- 5.9/12.8 MB 2.9 MB/s eta 0:00:03\n",
      "     ------------------- -------------------- 6.2/12.8 MB 2.9 MB/s eta 0:00:03\n",
      "     ------------------- -------------------- 6.4/12.8 MB 3.0 MB/s eta 0:00:03\n",
      "     -------------------- ------------------- 6.6/12.8 MB 3.0 MB/s eta 0:00:03\n",
      "     -------------------- ------------------- 6.7/12.8 MB 3.0 MB/s eta 0:00:03\n",
      "     --------------------- ------------------ 7.0/12.8 MB 3.0 MB/s eta 0:00:02\n",
      "     ---------------------- ----------------- 7.2/12.8 MB 3.1 MB/s eta 0:00:02\n",
      "     ---------------------- ----------------- 7.2/12.8 MB 3.1 MB/s eta 0:00:02\n",
      "     ---------------------- ----------------- 7.3/12.8 MB 3.0 MB/s eta 0:00:02\n",
      "     ----------------------- ---------------- 7.4/12.8 MB 3.0 MB/s eta 0:00:02\n",
      "     ----------------------- ---------------- 7.5/12.8 MB 3.0 MB/s eta 0:00:02\n",
      "     ----------------------- ---------------- 7.6/12.8 MB 3.0 MB/s eta 0:00:02\n",
      "     ------------------------ --------------- 7.8/12.8 MB 3.0 MB/s eta 0:00:02\n",
      "     ------------------------ --------------- 8.0/12.8 MB 3.0 MB/s eta 0:00:02\n",
      "     ------------------------- -------------- 8.1/12.8 MB 3.0 MB/s eta 0:00:02\n",
      "     ------------------------- -------------- 8.3/12.8 MB 3.0 MB/s eta 0:00:02\n",
      "     -------------------------- ------------- 8.5/12.8 MB 3.0 MB/s eta 0:00:02\n",
      "     -------------------------- ------------- 8.6/12.8 MB 3.0 MB/s eta 0:00:02\n",
      "     --------------------------- ------------ 8.7/12.8 MB 3.0 MB/s eta 0:00:02\n",
      "     --------------------------- ------------ 8.9/12.8 MB 3.0 MB/s eta 0:00:02\n",
      "     ---------------------------- ----------- 9.0/12.8 MB 3.0 MB/s eta 0:00:02\n",
      "     ---------------------------- ----------- 9.1/12.8 MB 3.0 MB/s eta 0:00:02\n",
      "     ---------------------------- ----------- 9.3/12.8 MB 3.0 MB/s eta 0:00:02\n",
      "     ----------------------------- ---------- 9.3/12.8 MB 3.0 MB/s eta 0:00:02\n",
      "     ----------------------------- ---------- 9.5/12.8 MB 3.0 MB/s eta 0:00:02\n",
      "     ------------------------------ --------- 9.7/12.8 MB 3.0 MB/s eta 0:00:02\n",
      "     ------------------------------ --------- 9.8/12.8 MB 3.0 MB/s eta 0:00:01\n",
      "     ------------------------------ --------- 9.9/12.8 MB 3.0 MB/s eta 0:00:01\n",
      "     ------------------------------ --------- 9.9/12.8 MB 3.0 MB/s eta 0:00:01\n",
      "     ------------------------------- -------- 10.2/12.8 MB 3.0 MB/s eta 0:00:01\n",
      "     -------------------------------- ------- 10.4/12.8 MB 3.1 MB/s eta 0:00:01\n",
      "     --------------------------------- ------ 10.6/12.8 MB 3.1 MB/s eta 0:00:01\n",
      "     --------------------------------- ------ 10.8/12.8 MB 3.1 MB/s eta 0:00:01\n",
      "     ---------------------------------- ----- 11.0/12.8 MB 3.1 MB/s eta 0:00:01\n",
      "     ---------------------------------- ----- 11.2/12.8 MB 3.1 MB/s eta 0:00:01\n",
      "     ----------------------------------- ---- 11.4/12.8 MB 3.1 MB/s eta 0:00:01\n",
      "     ------------------------------------ --- 11.7/12.8 MB 3.2 MB/s eta 0:00:01\n",
      "     ------------------------------------ --- 11.8/12.8 MB 3.2 MB/s eta 0:00:01\n",
      "     ------------------------------------- -- 12.0/12.8 MB 3.2 MB/s eta 0:00:01\n",
      "     -------------------------------------- - 12.3/12.8 MB 3.3 MB/s eta 0:00:01\n",
      "     -------------------------------------- - 12.5/12.8 MB 3.4 MB/s eta 0:00:01\n",
      "     ---------------------------------------  12.7/12.8 MB 3.5 MB/s eta 0:00:01\n",
      "     ---------------------------------------  12.8/12.8 MB 3.5 MB/s eta 0:00:01\n",
      "     ---------------------------------------- 12.8/12.8 MB 3.4 MB/s eta 0:00:00\n",
      "Requirement already satisfied: spacy<3.8.0,>=3.7.2 in c:\\users\\trush\\anaconda3\\envs\\parser\\lib\\site-packages (from en-core-web-sm==3.7.1) (3.7.2)\n",
      "Requirement already satisfied: spacy-legacy<3.1.0,>=3.0.11 in c:\\users\\trush\\anaconda3\\envs\\parser\\lib\\site-packages (from spacy<3.8.0,>=3.7.2->en-core-web-sm==3.7.1) (3.0.12)\n",
      "Requirement already satisfied: spacy-loggers<2.0.0,>=1.0.0 in c:\\users\\trush\\anaconda3\\envs\\parser\\lib\\site-packages (from spacy<3.8.0,>=3.7.2->en-core-web-sm==3.7.1) (1.0.5)\n",
      "Requirement already satisfied: murmurhash<1.1.0,>=0.28.0 in c:\\users\\trush\\anaconda3\\envs\\parser\\lib\\site-packages (from spacy<3.8.0,>=3.7.2->en-core-web-sm==3.7.1) (1.0.10)\n",
      "Requirement already satisfied: cymem<2.1.0,>=2.0.2 in c:\\users\\trush\\anaconda3\\envs\\parser\\lib\\site-packages (from spacy<3.8.0,>=3.7.2->en-core-web-sm==3.7.1) (2.0.8)\n",
      "Requirement already satisfied: preshed<3.1.0,>=3.0.2 in c:\\users\\trush\\anaconda3\\envs\\parser\\lib\\site-packages (from spacy<3.8.0,>=3.7.2->en-core-web-sm==3.7.1) (3.0.9)\n",
      "Requirement already satisfied: thinc<8.3.0,>=8.1.8 in c:\\users\\trush\\anaconda3\\envs\\parser\\lib\\site-packages (from spacy<3.8.0,>=3.7.2->en-core-web-sm==3.7.1) (8.2.1)\n",
      "Requirement already satisfied: wasabi<1.2.0,>=0.9.1 in c:\\users\\trush\\anaconda3\\envs\\parser\\lib\\site-packages (from spacy<3.8.0,>=3.7.2->en-core-web-sm==3.7.1) (1.1.2)\n",
      "Requirement already satisfied: srsly<3.0.0,>=2.4.3 in c:\\users\\trush\\anaconda3\\envs\\parser\\lib\\site-packages (from spacy<3.8.0,>=3.7.2->en-core-web-sm==3.7.1) (2.4.8)\n",
      "Requirement already satisfied: catalogue<2.1.0,>=2.0.6 in c:\\users\\trush\\anaconda3\\envs\\parser\\lib\\site-packages (from spacy<3.8.0,>=3.7.2->en-core-web-sm==3.7.1) (2.0.10)\n",
      "Requirement already satisfied: weasel<0.4.0,>=0.1.0 in c:\\users\\trush\\anaconda3\\envs\\parser\\lib\\site-packages (from spacy<3.8.0,>=3.7.2->en-core-web-sm==3.7.1) (0.3.4)\n",
      "Requirement already satisfied: typer<0.10.0,>=0.3.0 in c:\\users\\trush\\anaconda3\\envs\\parser\\lib\\site-packages (from spacy<3.8.0,>=3.7.2->en-core-web-sm==3.7.1) (0.9.0)\n",
      "Requirement already satisfied: smart-open<7.0.0,>=5.2.1 in c:\\users\\trush\\anaconda3\\envs\\parser\\lib\\site-packages (from spacy<3.8.0,>=3.7.2->en-core-web-sm==3.7.1) (6.4.0)\n",
      "Requirement already satisfied: tqdm<5.0.0,>=4.38.0 in c:\\users\\trush\\anaconda3\\envs\\parser\\lib\\site-packages (from spacy<3.8.0,>=3.7.2->en-core-web-sm==3.7.1) (4.66.1)\n",
      "Requirement already satisfied: requests<3.0.0,>=2.13.0 in c:\\users\\trush\\anaconda3\\envs\\parser\\lib\\site-packages (from spacy<3.8.0,>=3.7.2->en-core-web-sm==3.7.1) (2.31.0)\n",
      "Requirement already satisfied: pydantic!=1.8,!=1.8.1,<3.0.0,>=1.7.4 in c:\\users\\trush\\anaconda3\\envs\\parser\\lib\\site-packages (from spacy<3.8.0,>=3.7.2->en-core-web-sm==3.7.1) (2.5.2)\n",
      "Requirement already satisfied: jinja2 in c:\\users\\trush\\anaconda3\\envs\\parser\\lib\\site-packages (from spacy<3.8.0,>=3.7.2->en-core-web-sm==3.7.1) (3.1.2)\n",
      "Requirement already satisfied: setuptools in c:\\users\\trush\\anaconda3\\envs\\parser\\lib\\site-packages (from spacy<3.8.0,>=3.7.2->en-core-web-sm==3.7.1) (68.0.0)\n",
      "Requirement already satisfied: packaging>=20.0 in c:\\users\\trush\\anaconda3\\envs\\parser\\lib\\site-packages (from spacy<3.8.0,>=3.7.2->en-core-web-sm==3.7.1) (23.1)\n",
      "Requirement already satisfied: langcodes<4.0.0,>=3.2.0 in c:\\users\\trush\\anaconda3\\envs\\parser\\lib\\site-packages (from spacy<3.8.0,>=3.7.2->en-core-web-sm==3.7.1) (3.3.0)\n",
      "Requirement already satisfied: numpy>=1.19.0 in c:\\users\\trush\\anaconda3\\envs\\parser\\lib\\site-packages (from spacy<3.8.0,>=3.7.2->en-core-web-sm==3.7.1) (1.26.0)\n",
      "Requirement already satisfied: annotated-types>=0.4.0 in c:\\users\\trush\\anaconda3\\envs\\parser\\lib\\site-packages (from pydantic!=1.8,!=1.8.1,<3.0.0,>=1.7.4->spacy<3.8.0,>=3.7.2->en-core-web-sm==3.7.1) (0.6.0)\n",
      "Requirement already satisfied: pydantic-core==2.14.5 in c:\\users\\trush\\anaconda3\\envs\\parser\\lib\\site-packages (from pydantic!=1.8,!=1.8.1,<3.0.0,>=1.7.4->spacy<3.8.0,>=3.7.2->en-core-web-sm==3.7.1) (2.14.5)\n",
      "Requirement already satisfied: typing-extensions>=4.6.1 in c:\\users\\trush\\anaconda3\\envs\\parser\\lib\\site-packages (from pydantic!=1.8,!=1.8.1,<3.0.0,>=1.7.4->spacy<3.8.0,>=3.7.2->en-core-web-sm==3.7.1) (4.7.1)\n",
      "Requirement already satisfied: charset-normalizer<4,>=2 in c:\\users\\trush\\anaconda3\\envs\\parser\\lib\\site-packages (from requests<3.0.0,>=2.13.0->spacy<3.8.0,>=3.7.2->en-core-web-sm==3.7.1) (2.0.4)\n",
      "Requirement already satisfied: idna<4,>=2.5 in c:\\users\\trush\\anaconda3\\envs\\parser\\lib\\site-packages (from requests<3.0.0,>=2.13.0->spacy<3.8.0,>=3.7.2->en-core-web-sm==3.7.1) (3.4)\n",
      "Requirement already satisfied: urllib3<3,>=1.21.1 in c:\\users\\trush\\anaconda3\\envs\\parser\\lib\\site-packages (from requests<3.0.0,>=2.13.0->spacy<3.8.0,>=3.7.2->en-core-web-sm==3.7.1) (1.26.18)\n",
      "Requirement already satisfied: certifi>=2017.4.17 in c:\\users\\trush\\anaconda3\\envs\\parser\\lib\\site-packages (from requests<3.0.0,>=2.13.0->spacy<3.8.0,>=3.7.2->en-core-web-sm==3.7.1) (2023.7.22)\n",
      "Requirement already satisfied: blis<0.8.0,>=0.7.8 in c:\\users\\trush\\anaconda3\\envs\\parser\\lib\\site-packages (from thinc<8.3.0,>=8.1.8->spacy<3.8.0,>=3.7.2->en-core-web-sm==3.7.1) (0.7.11)\n",
      "Requirement already satisfied: confection<1.0.0,>=0.0.1 in c:\\users\\trush\\anaconda3\\envs\\parser\\lib\\site-packages (from thinc<8.3.0,>=8.1.8->spacy<3.8.0,>=3.7.2->en-core-web-sm==3.7.1) (0.1.4)\n",
      "Requirement already satisfied: colorama in c:\\users\\trush\\anaconda3\\envs\\parser\\lib\\site-packages (from tqdm<5.0.0,>=4.38.0->spacy<3.8.0,>=3.7.2->en-core-web-sm==3.7.1) (0.4.6)\n",
      "Requirement already satisfied: click<9.0.0,>=7.1.1 in c:\\users\\trush\\anaconda3\\envs\\parser\\lib\\site-packages (from typer<0.10.0,>=0.3.0->spacy<3.8.0,>=3.7.2->en-core-web-sm==3.7.1) (8.1.7)\n",
      "Requirement already satisfied: cloudpathlib<0.17.0,>=0.7.0 in c:\\users\\trush\\anaconda3\\envs\\parser\\lib\\site-packages (from weasel<0.4.0,>=0.1.0->spacy<3.8.0,>=3.7.2->en-core-web-sm==3.7.1) (0.16.0)\n",
      "Requirement already satisfied: MarkupSafe>=2.0 in c:\\users\\trush\\anaconda3\\envs\\parser\\lib\\site-packages (from jinja2->spacy<3.8.0,>=3.7.2->en-core-web-sm==3.7.1) (2.1.1)\n",
      "Installing collected packages: en-core-web-sm\n",
      "Successfully installed en-core-web-sm-3.7.1\n",
      "\u001B[38;5;2m[+] Download and installation successful\u001B[0m\n",
      "You can now load the package via spacy.load('en_core_web_sm')\n"
     ]
    }
   ],
   "source": [
    "!python -m spacy download en_core_web_sm"
   ],
   "metadata": {
    "collapsed": false,
    "ExecuteTime": {
     "end_time": "2023-11-26T15:18:12.440420Z",
     "start_time": "2023-11-26T15:18:03.779108400Z"
    }
   },
   "id": "3ee524facc996a93"
  },
  {
   "cell_type": "code",
   "execution_count": 100,
   "outputs": [],
   "source": [
    "import spacy"
   ],
   "metadata": {
    "collapsed": false,
    "ExecuteTime": {
     "end_time": "2023-11-26T15:19:53.584048200Z",
     "start_time": "2023-11-26T15:19:52.718465600Z"
    }
   },
   "id": "681c7097057aa2b5"
  },
  {
   "cell_type": "code",
   "execution_count": 101,
   "outputs": [],
   "source": [
    "nlp = spacy.load('en_core_web_sm')"
   ],
   "metadata": {
    "collapsed": false,
    "ExecuteTime": {
     "end_time": "2023-11-26T15:20:18.471748200Z",
     "start_time": "2023-11-26T15:20:18.108039100Z"
    }
   },
   "id": "27b3c31728d2f30f"
  },
  {
   "cell_type": "code",
   "execution_count": 102,
   "outputs": [],
   "source": [
    "def extract_names(text):\n",
    "    if pd.notna(text):\n",
    "        doc = nlp(text)\n",
    "        names = [ent.text for ent in doc.ents if ent.label_ == 'PERSON']\n",
    "        return names\n",
    "    else:\n",
    "        return np.nan"
   ],
   "metadata": {
    "collapsed": false,
    "ExecuteTime": {
     "end_time": "2023-11-26T15:21:21.438764200Z",
     "start_time": "2023-11-26T15:21:21.339419800Z"
    }
   },
   "id": "cfc60bcac37fc56a"
  },
  {
   "cell_type": "code",
   "execution_count": 117,
   "outputs": [
    {
     "data": {
      "text/plain": "     Unnamed: 0                                              Title  Author  \\\n0             5  Crucial conversations : tools for talking when...     NaN   \n1             9                             Be here now, remember.     NaN   \n2            23  A very merry temptation / Kimberly Kaye Terry,...     NaN   \n3            65  Crossing the frontier : photographs of the dev...     NaN   \n4            78  What's wrong with mindfulness (and what isn't)...     NaN   \n..          ...                                                ...     ...   \n540       10089  Contemporary American religion / Wade Clark Ro...     NaN   \n541       10102  ¡Manteca!: : an anthology of Afro-Latin@ poets...     NaN   \n542       10115  Here comes Mother Goose / edited by Iona Opie ...     NaN   \n543       10175  The best American comics 2009 / edited and wit...     NaN   \n544       10221  Wanat : combat action in Afghanistan, 2008 / t...     NaN   \n\n                                             TitleMain  \\\n0    Crucial conversations : tools for talking when...   \n1                               Be here now, remember.   \n2                             A very merry temptation    \n3    Crossing the frontier : photographs of the dev...   \n4    What's wrong with mindfulness (and what isn't)...   \n..                                                 ...   \n540                    Contemporary American religion    \n541    ¡Manteca!: : an anthology of Afro-Latin@ poets    \n542                           Here comes Mother Goose    \n543                     The best American comics 2009    \n544        Wanat : combat action in Afghanistan, 2008    \n\n                                              Subtitle  \n0                    Kerry Patterson ... [and others].  \n1                                                  NaN  \n2     Kimberly Kaye Terry, Pamela Yaye, Farrah Rochon.  \n3                 Sandra S. Phillips ... [and others].  \n4     edited by Robert Meikyo Rosenbaum and Barry M...  \n..                                                 ...  \n540                  Wade Clark Roof, editor in chief.  \n541                 edited by Melissa Castillo-Garsow.  \n542   edited by Iona Opie ; illustrated by Rosemary...  \n543   edited and with an introduction by Charles Bu...  \n544   the staff of the US Army Combat Studies Insti...  \n\n[545 rows x 5 columns]",
      "text/html": "<div>\n<style scoped>\n    .dataframe tbody tr th:only-of-type {\n        vertical-align: middle;\n    }\n\n    .dataframe tbody tr th {\n        vertical-align: top;\n    }\n\n    .dataframe thead th {\n        text-align: right;\n    }\n</style>\n<table border=\"1\" class=\"dataframe\">\n  <thead>\n    <tr style=\"text-align: right;\">\n      <th></th>\n      <th>Unnamed: 0</th>\n      <th>Title</th>\n      <th>Author</th>\n      <th>TitleMain</th>\n      <th>Subtitle</th>\n    </tr>\n  </thead>\n  <tbody>\n    <tr>\n      <th>0</th>\n      <td>5</td>\n      <td>Crucial conversations : tools for talking when...</td>\n      <td>NaN</td>\n      <td>Crucial conversations : tools for talking when...</td>\n      <td>Kerry Patterson ... [and others].</td>\n    </tr>\n    <tr>\n      <th>1</th>\n      <td>9</td>\n      <td>Be here now, remember.</td>\n      <td>NaN</td>\n      <td>Be here now, remember.</td>\n      <td>NaN</td>\n    </tr>\n    <tr>\n      <th>2</th>\n      <td>23</td>\n      <td>A very merry temptation / Kimberly Kaye Terry,...</td>\n      <td>NaN</td>\n      <td>A very merry temptation</td>\n      <td>Kimberly Kaye Terry, Pamela Yaye, Farrah Rochon.</td>\n    </tr>\n    <tr>\n      <th>3</th>\n      <td>65</td>\n      <td>Crossing the frontier : photographs of the dev...</td>\n      <td>NaN</td>\n      <td>Crossing the frontier : photographs of the dev...</td>\n      <td>Sandra S. Phillips ... [and others].</td>\n    </tr>\n    <tr>\n      <th>4</th>\n      <td>78</td>\n      <td>What's wrong with mindfulness (and what isn't)...</td>\n      <td>NaN</td>\n      <td>What's wrong with mindfulness (and what isn't)...</td>\n      <td>edited by Robert Meikyo Rosenbaum and Barry M...</td>\n    </tr>\n    <tr>\n      <th>...</th>\n      <td>...</td>\n      <td>...</td>\n      <td>...</td>\n      <td>...</td>\n      <td>...</td>\n    </tr>\n    <tr>\n      <th>540</th>\n      <td>10089</td>\n      <td>Contemporary American religion / Wade Clark Ro...</td>\n      <td>NaN</td>\n      <td>Contemporary American religion</td>\n      <td>Wade Clark Roof, editor in chief.</td>\n    </tr>\n    <tr>\n      <th>541</th>\n      <td>10102</td>\n      <td>¡Manteca!: : an anthology of Afro-Latin@ poets...</td>\n      <td>NaN</td>\n      <td>¡Manteca!: : an anthology of Afro-Latin@ poets</td>\n      <td>edited by Melissa Castillo-Garsow.</td>\n    </tr>\n    <tr>\n      <th>542</th>\n      <td>10115</td>\n      <td>Here comes Mother Goose / edited by Iona Opie ...</td>\n      <td>NaN</td>\n      <td>Here comes Mother Goose</td>\n      <td>edited by Iona Opie ; illustrated by Rosemary...</td>\n    </tr>\n    <tr>\n      <th>543</th>\n      <td>10175</td>\n      <td>The best American comics 2009 / edited and wit...</td>\n      <td>NaN</td>\n      <td>The best American comics 2009</td>\n      <td>edited and with an introduction by Charles Bu...</td>\n    </tr>\n    <tr>\n      <th>544</th>\n      <td>10221</td>\n      <td>Wanat : combat action in Afghanistan, 2008 / t...</td>\n      <td>NaN</td>\n      <td>Wanat : combat action in Afghanistan, 2008</td>\n      <td>the staff of the US Army Combat Studies Insti...</td>\n    </tr>\n  </tbody>\n</table>\n<p>545 rows × 5 columns</p>\n</div>"
     },
     "execution_count": 117,
     "metadata": {},
     "output_type": "execute_result"
    }
   ],
   "source": [
    "no_auth"
   ],
   "metadata": {
    "collapsed": false,
    "ExecuteTime": {
     "end_time": "2023-11-26T15:29:43.591522600Z",
     "start_time": "2023-11-26T15:29:43.564106Z"
    }
   },
   "id": "5ffcbd9400e9e82b"
  },
  {
   "cell_type": "code",
   "execution_count": 121,
   "outputs": [],
   "source": [
    "no_auth['SubtitleStr'] = no_auth['Subtitle'].astype('str')\n",
    "no_auth['Names'] = no_auth['SubtitleStr'].apply(extract_names)"
   ],
   "metadata": {
    "collapsed": false,
    "ExecuteTime": {
     "end_time": "2023-11-26T15:34:53.336635700Z",
     "start_time": "2023-11-26T15:34:50.303542Z"
    }
   },
   "id": "f17d5c84d63f592e"
  },
  {
   "cell_type": "code",
   "execution_count": 122,
   "outputs": [
    {
     "data": {
      "text/plain": "     Unnamed: 0                                              Title  Author  \\\n0             5  Crucial conversations : tools for talking when...     NaN   \n1             9                             Be here now, remember.     NaN   \n2            23  A very merry temptation / Kimberly Kaye Terry,...     NaN   \n3            65  Crossing the frontier : photographs of the dev...     NaN   \n4            78  What's wrong with mindfulness (and what isn't)...     NaN   \n..          ...                                                ...     ...   \n540       10089  Contemporary American religion / Wade Clark Ro...     NaN   \n541       10102  ¡Manteca!: : an anthology of Afro-Latin@ poets...     NaN   \n542       10115  Here comes Mother Goose / edited by Iona Opie ...     NaN   \n543       10175  The best American comics 2009 / edited and wit...     NaN   \n544       10221  Wanat : combat action in Afghanistan, 2008 / t...     NaN   \n\n                                             TitleMain  \\\n0    Crucial conversations : tools for talking when...   \n1                               Be here now, remember.   \n2                             A very merry temptation    \n3    Crossing the frontier : photographs of the dev...   \n4    What's wrong with mindfulness (and what isn't)...   \n..                                                 ...   \n540                    Contemporary American religion    \n541    ¡Manteca!: : an anthology of Afro-Latin@ poets    \n542                           Here comes Mother Goose    \n543                     The best American comics 2009    \n544        Wanat : combat action in Afghanistan, 2008    \n\n                                              Subtitle  \\\n0                    Kerry Patterson ... [and others].   \n1                                                  NaN   \n2     Kimberly Kaye Terry, Pamela Yaye, Farrah Rochon.   \n3                 Sandra S. Phillips ... [and others].   \n4     edited by Robert Meikyo Rosenbaum and Barry M...   \n..                                                 ...   \n540                  Wade Clark Roof, editor in chief.   \n541                 edited by Melissa Castillo-Garsow.   \n542   edited by Iona Opie ; illustrated by Rosemary...   \n543   edited and with an introduction by Charles Bu...   \n544   the staff of the US Army Combat Studies Insti...   \n\n                                           SubtitleStr  \\\n0                    Kerry Patterson ... [and others].   \n1                                                  nan   \n2     Kimberly Kaye Terry, Pamela Yaye, Farrah Rochon.   \n3                 Sandra S. Phillips ... [and others].   \n4     edited by Robert Meikyo Rosenbaum and Barry M...   \n..                                                 ...   \n540                  Wade Clark Roof, editor in chief.   \n541                 edited by Melissa Castillo-Garsow.   \n542   edited by Iona Opie ; illustrated by Rosemary...   \n543   edited and with an introduction by Charles Bu...   \n544   the staff of the US Army Combat Studies Insti...   \n\n                                                 Names  \n0                                    [Kerry Patterson]  \n1                                                   []  \n2    [Kimberly Kaye Terry, Pamela Yaye, Farrah Rochon]  \n3                                 [Sandra S. Phillips]  \n4               [Robert Meikyo Rosenbaum, Barry Magid]  \n..                                                 ...  \n540                                  [Wade Clark Roof]  \n541                          [Melissa Castillo-Garsow]  \n542                        [Iona Opie, Rosemary Wells]  \n543       [Charles Burns, Jessica Abel &, Matt Madden]  \n544                                                 []  \n\n[545 rows x 7 columns]",
      "text/html": "<div>\n<style scoped>\n    .dataframe tbody tr th:only-of-type {\n        vertical-align: middle;\n    }\n\n    .dataframe tbody tr th {\n        vertical-align: top;\n    }\n\n    .dataframe thead th {\n        text-align: right;\n    }\n</style>\n<table border=\"1\" class=\"dataframe\">\n  <thead>\n    <tr style=\"text-align: right;\">\n      <th></th>\n      <th>Unnamed: 0</th>\n      <th>Title</th>\n      <th>Author</th>\n      <th>TitleMain</th>\n      <th>Subtitle</th>\n      <th>SubtitleStr</th>\n      <th>Names</th>\n    </tr>\n  </thead>\n  <tbody>\n    <tr>\n      <th>0</th>\n      <td>5</td>\n      <td>Crucial conversations : tools for talking when...</td>\n      <td>NaN</td>\n      <td>Crucial conversations : tools for talking when...</td>\n      <td>Kerry Patterson ... [and others].</td>\n      <td>Kerry Patterson ... [and others].</td>\n      <td>[Kerry Patterson]</td>\n    </tr>\n    <tr>\n      <th>1</th>\n      <td>9</td>\n      <td>Be here now, remember.</td>\n      <td>NaN</td>\n      <td>Be here now, remember.</td>\n      <td>NaN</td>\n      <td>nan</td>\n      <td>[]</td>\n    </tr>\n    <tr>\n      <th>2</th>\n      <td>23</td>\n      <td>A very merry temptation / Kimberly Kaye Terry,...</td>\n      <td>NaN</td>\n      <td>A very merry temptation</td>\n      <td>Kimberly Kaye Terry, Pamela Yaye, Farrah Rochon.</td>\n      <td>Kimberly Kaye Terry, Pamela Yaye, Farrah Rochon.</td>\n      <td>[Kimberly Kaye Terry, Pamela Yaye, Farrah Rochon]</td>\n    </tr>\n    <tr>\n      <th>3</th>\n      <td>65</td>\n      <td>Crossing the frontier : photographs of the dev...</td>\n      <td>NaN</td>\n      <td>Crossing the frontier : photographs of the dev...</td>\n      <td>Sandra S. Phillips ... [and others].</td>\n      <td>Sandra S. Phillips ... [and others].</td>\n      <td>[Sandra S. Phillips]</td>\n    </tr>\n    <tr>\n      <th>4</th>\n      <td>78</td>\n      <td>What's wrong with mindfulness (and what isn't)...</td>\n      <td>NaN</td>\n      <td>What's wrong with mindfulness (and what isn't)...</td>\n      <td>edited by Robert Meikyo Rosenbaum and Barry M...</td>\n      <td>edited by Robert Meikyo Rosenbaum and Barry M...</td>\n      <td>[Robert Meikyo Rosenbaum, Barry Magid]</td>\n    </tr>\n    <tr>\n      <th>...</th>\n      <td>...</td>\n      <td>...</td>\n      <td>...</td>\n      <td>...</td>\n      <td>...</td>\n      <td>...</td>\n      <td>...</td>\n    </tr>\n    <tr>\n      <th>540</th>\n      <td>10089</td>\n      <td>Contemporary American religion / Wade Clark Ro...</td>\n      <td>NaN</td>\n      <td>Contemporary American religion</td>\n      <td>Wade Clark Roof, editor in chief.</td>\n      <td>Wade Clark Roof, editor in chief.</td>\n      <td>[Wade Clark Roof]</td>\n    </tr>\n    <tr>\n      <th>541</th>\n      <td>10102</td>\n      <td>¡Manteca!: : an anthology of Afro-Latin@ poets...</td>\n      <td>NaN</td>\n      <td>¡Manteca!: : an anthology of Afro-Latin@ poets</td>\n      <td>edited by Melissa Castillo-Garsow.</td>\n      <td>edited by Melissa Castillo-Garsow.</td>\n      <td>[Melissa Castillo-Garsow]</td>\n    </tr>\n    <tr>\n      <th>542</th>\n      <td>10115</td>\n      <td>Here comes Mother Goose / edited by Iona Opie ...</td>\n      <td>NaN</td>\n      <td>Here comes Mother Goose</td>\n      <td>edited by Iona Opie ; illustrated by Rosemary...</td>\n      <td>edited by Iona Opie ; illustrated by Rosemary...</td>\n      <td>[Iona Opie, Rosemary Wells]</td>\n    </tr>\n    <tr>\n      <th>543</th>\n      <td>10175</td>\n      <td>The best American comics 2009 / edited and wit...</td>\n      <td>NaN</td>\n      <td>The best American comics 2009</td>\n      <td>edited and with an introduction by Charles Bu...</td>\n      <td>edited and with an introduction by Charles Bu...</td>\n      <td>[Charles Burns, Jessica Abel &amp;, Matt Madden]</td>\n    </tr>\n    <tr>\n      <th>544</th>\n      <td>10221</td>\n      <td>Wanat : combat action in Afghanistan, 2008 / t...</td>\n      <td>NaN</td>\n      <td>Wanat : combat action in Afghanistan, 2008</td>\n      <td>the staff of the US Army Combat Studies Insti...</td>\n      <td>the staff of the US Army Combat Studies Insti...</td>\n      <td>[]</td>\n    </tr>\n  </tbody>\n</table>\n<p>545 rows × 7 columns</p>\n</div>"
     },
     "execution_count": 122,
     "metadata": {},
     "output_type": "execute_result"
    }
   ],
   "source": [
    "no_auth"
   ],
   "metadata": {
    "collapsed": false,
    "ExecuteTime": {
     "end_time": "2023-11-26T15:35:01.004666300Z",
     "start_time": "2023-11-26T15:35:00.956110300Z"
    }
   },
   "id": "911f39d25e3670c3"
  },
  {
   "cell_type": "code",
   "execution_count": 123,
   "outputs": [
    {
     "ename": "NameError",
     "evalue": "name 'titles_and_authors' is not defined",
     "output_type": "error",
     "traceback": [
      "\u001B[1;31m---------------------------------------------------------------------------\u001B[0m",
      "\u001B[1;31mNameError\u001B[0m                                 Traceback (most recent call last)",
      "Cell \u001B[1;32mIn[123], line 1\u001B[0m\n\u001B[1;32m----> 1\u001B[0m titles_and_authors\n",
      "\u001B[1;31mNameError\u001B[0m: name 'titles_and_authors' is not defined"
     ]
    }
   ],
   "source": [
    "titles_and_authors"
   ],
   "metadata": {
    "collapsed": false,
    "ExecuteTime": {
     "end_time": "2023-11-26T16:27:15.780377600Z",
     "start_time": "2023-11-26T16:27:15.767892500Z"
    }
   },
   "id": "34731efe15979496"
  },
  {
   "cell_type": "code",
   "execution_count": 127,
   "outputs": [
    {
     "data": {
      "text/plain": "        BibNum                                              Title  \\\n0      3479509  Franklin and Luna and the book of fairy tales ...   \n1      2737917  Holiday dinners with Bradley Ogden : 150 festi...   \n2      3359831  Cuzco, Machu Picchu & the Inca heartland / Rob...   \n3      3298424  Sleeping Beauty / retold by Cynthia Rylant ; p...   \n4      3203995  How to escape from a leper colony : a novella ...   \n...        ...                                                ...   \n10469  2760306                          Lover reborn / J.R. Ward.   \n10470  2724228            Experimental drawing / Robert Kaupelis.   \n10471  3364815  The bad guys in Alien vs. Bad Guys / Aaron Bla...   \n10472  3227571  English for everyone. Course book. Level 3 int...   \n10473  2128679  Jazz modernism : from Ellington and Armstrong ...   \n\n                     Author  \\\n0             Campbell, Jen   \n1            Ogden, Bradley   \n2       Kunstaetter, Robert   \n3           Rylant, Cynthia   \n4         Yanique, Tiphanie   \n...                     ...   \n10469    Ward, J. R., 1969-   \n10470      Kaupelis, Robert   \n10471         Blabey, Aaron   \n10472  Johnson, Gill, 1964-   \n10473         Appel, Alfred   \n\n                                                    ISBN PublicationYear  \\\n0                              0500651752, 9780500651759           2019.   \n1                              0762439157, 9780762439157          [2011]   \n2                              1911082256, 9781911082255           2017.   \n3                              1423121082, 9781423121084          [2015]   \n4                              155597550X, 9781555975500           2010.   \n...                                                  ...             ...   \n10469                          0451235843, 9780451235848          [2012]   \n10470  0823016188, 0823016226, 9780823016181, 9780823...          [1980]   \n10471                          133818959X, 9781338189599          [2018]   \n10472  1465447636, 1465449418, 9781465447630, 9781465...           2016.   \n10473                                         0394533933           2002.   \n\n                                            Publisher  \\\n0                                  Thames and Hudson,   \n1                                      Running Press,   \n2                                          Footprint,   \n3                                    Disney Hyperion,   \n4                                     Graywolf Press,   \n...                                               ...   \n10469                           New American Library,   \n10470                    Watson-Guptill Publications,   \n10471                                Scholastic Inc.,   \n10472                                  DK Publishing,   \n10473  Alfred A. Knopf : Distributed by Random House,   \n\n                                                Subjects ItemType  \\\n0      Dragons Juvenile fiction, Characters and chara...     jcbk   \n1                               Cooking, Holiday cooking     acbk   \n2      Peru Guidebooks, Cuzco Peru Guidebooks, Machu ...     acbk   \n3      Sleeping Beauty Tale Juvenile literature, Folk...     jcbk   \n4      United States Virgin Islands Fiction, Short st...     acbk   \n...                                                  ...      ...   \n10469  Vampires Fiction, Paranormal romance stories, ...     acbk   \n10470      Drawing Study and teaching, Drawing Technique     acbk   \n10471  Extraterrestrial beings Juvenile fiction, Kidn...     jcbk   \n10472  English language Self instruction, English lan...     bcbk   \n10473  Jazz History and criticism, Music and literatu...     acbk   \n\n      ItemCollection FloatingItem ItemLocation  ReportDate  ItemCount  \n0              ncnew          NaN          net  03/01/2020          1  \n1               nanf          NaN          swt  12/01/2020          1  \n2               nanf          NaN          wts  03/01/2020          1  \n3              ncfft          NaN          mag  11/01/2020          1  \n4              cafic          NaN          cen  05/01/2020          1  \n...              ...          ...          ...         ...        ...  \n10469          nafic          NaN          dlr  10/01/2020          1  \n10470           nanf          NaN          rbe  09/01/2020          1  \n10471           ncef          NaN          glk  10/01/2020          1  \n10472         naesli          NaN          col  03/01/2020          1  \n10473           canf          NaN          cen  08/01/2020          1  \n\n[10474 rows x 13 columns]",
      "text/html": "<div>\n<style scoped>\n    .dataframe tbody tr th:only-of-type {\n        vertical-align: middle;\n    }\n\n    .dataframe tbody tr th {\n        vertical-align: top;\n    }\n\n    .dataframe thead th {\n        text-align: right;\n    }\n</style>\n<table border=\"1\" class=\"dataframe\">\n  <thead>\n    <tr style=\"text-align: right;\">\n      <th></th>\n      <th>BibNum</th>\n      <th>Title</th>\n      <th>Author</th>\n      <th>ISBN</th>\n      <th>PublicationYear</th>\n      <th>Publisher</th>\n      <th>Subjects</th>\n      <th>ItemType</th>\n      <th>ItemCollection</th>\n      <th>FloatingItem</th>\n      <th>ItemLocation</th>\n      <th>ReportDate</th>\n      <th>ItemCount</th>\n    </tr>\n  </thead>\n  <tbody>\n    <tr>\n      <th>0</th>\n      <td>3479509</td>\n      <td>Franklin and Luna and the book of fairy tales ...</td>\n      <td>Campbell, Jen</td>\n      <td>0500651752, 9780500651759</td>\n      <td>2019.</td>\n      <td>Thames and Hudson,</td>\n      <td>Dragons Juvenile fiction, Characters and chara...</td>\n      <td>jcbk</td>\n      <td>ncnew</td>\n      <td>NaN</td>\n      <td>net</td>\n      <td>03/01/2020</td>\n      <td>1</td>\n    </tr>\n    <tr>\n      <th>1</th>\n      <td>2737917</td>\n      <td>Holiday dinners with Bradley Ogden : 150 festi...</td>\n      <td>Ogden, Bradley</td>\n      <td>0762439157, 9780762439157</td>\n      <td>[2011]</td>\n      <td>Running Press,</td>\n      <td>Cooking, Holiday cooking</td>\n      <td>acbk</td>\n      <td>nanf</td>\n      <td>NaN</td>\n      <td>swt</td>\n      <td>12/01/2020</td>\n      <td>1</td>\n    </tr>\n    <tr>\n      <th>2</th>\n      <td>3359831</td>\n      <td>Cuzco, Machu Picchu &amp; the Inca heartland / Rob...</td>\n      <td>Kunstaetter, Robert</td>\n      <td>1911082256, 9781911082255</td>\n      <td>2017.</td>\n      <td>Footprint,</td>\n      <td>Peru Guidebooks, Cuzco Peru Guidebooks, Machu ...</td>\n      <td>acbk</td>\n      <td>nanf</td>\n      <td>NaN</td>\n      <td>wts</td>\n      <td>03/01/2020</td>\n      <td>1</td>\n    </tr>\n    <tr>\n      <th>3</th>\n      <td>3298424</td>\n      <td>Sleeping Beauty / retold by Cynthia Rylant ; p...</td>\n      <td>Rylant, Cynthia</td>\n      <td>1423121082, 9781423121084</td>\n      <td>[2015]</td>\n      <td>Disney Hyperion,</td>\n      <td>Sleeping Beauty Tale Juvenile literature, Folk...</td>\n      <td>jcbk</td>\n      <td>ncfft</td>\n      <td>NaN</td>\n      <td>mag</td>\n      <td>11/01/2020</td>\n      <td>1</td>\n    </tr>\n    <tr>\n      <th>4</th>\n      <td>3203995</td>\n      <td>How to escape from a leper colony : a novella ...</td>\n      <td>Yanique, Tiphanie</td>\n      <td>155597550X, 9781555975500</td>\n      <td>2010.</td>\n      <td>Graywolf Press,</td>\n      <td>United States Virgin Islands Fiction, Short st...</td>\n      <td>acbk</td>\n      <td>cafic</td>\n      <td>NaN</td>\n      <td>cen</td>\n      <td>05/01/2020</td>\n      <td>1</td>\n    </tr>\n    <tr>\n      <th>...</th>\n      <td>...</td>\n      <td>...</td>\n      <td>...</td>\n      <td>...</td>\n      <td>...</td>\n      <td>...</td>\n      <td>...</td>\n      <td>...</td>\n      <td>...</td>\n      <td>...</td>\n      <td>...</td>\n      <td>...</td>\n      <td>...</td>\n    </tr>\n    <tr>\n      <th>10469</th>\n      <td>2760306</td>\n      <td>Lover reborn / J.R. Ward.</td>\n      <td>Ward, J. R., 1969-</td>\n      <td>0451235843, 9780451235848</td>\n      <td>[2012]</td>\n      <td>New American Library,</td>\n      <td>Vampires Fiction, Paranormal romance stories, ...</td>\n      <td>acbk</td>\n      <td>nafic</td>\n      <td>NaN</td>\n      <td>dlr</td>\n      <td>10/01/2020</td>\n      <td>1</td>\n    </tr>\n    <tr>\n      <th>10470</th>\n      <td>2724228</td>\n      <td>Experimental drawing / Robert Kaupelis.</td>\n      <td>Kaupelis, Robert</td>\n      <td>0823016188, 0823016226, 9780823016181, 9780823...</td>\n      <td>[1980]</td>\n      <td>Watson-Guptill Publications,</td>\n      <td>Drawing Study and teaching, Drawing Technique</td>\n      <td>acbk</td>\n      <td>nanf</td>\n      <td>NaN</td>\n      <td>rbe</td>\n      <td>09/01/2020</td>\n      <td>1</td>\n    </tr>\n    <tr>\n      <th>10471</th>\n      <td>3364815</td>\n      <td>The bad guys in Alien vs. Bad Guys / Aaron Bla...</td>\n      <td>Blabey, Aaron</td>\n      <td>133818959X, 9781338189599</td>\n      <td>[2018]</td>\n      <td>Scholastic Inc.,</td>\n      <td>Extraterrestrial beings Juvenile fiction, Kidn...</td>\n      <td>jcbk</td>\n      <td>ncef</td>\n      <td>NaN</td>\n      <td>glk</td>\n      <td>10/01/2020</td>\n      <td>1</td>\n    </tr>\n    <tr>\n      <th>10472</th>\n      <td>3227571</td>\n      <td>English for everyone. Course book. Level 3 int...</td>\n      <td>Johnson, Gill, 1964-</td>\n      <td>1465447636, 1465449418, 9781465447630, 9781465...</td>\n      <td>2016.</td>\n      <td>DK Publishing,</td>\n      <td>English language Self instruction, English lan...</td>\n      <td>bcbk</td>\n      <td>naesli</td>\n      <td>NaN</td>\n      <td>col</td>\n      <td>03/01/2020</td>\n      <td>1</td>\n    </tr>\n    <tr>\n      <th>10473</th>\n      <td>2128679</td>\n      <td>Jazz modernism : from Ellington and Armstrong ...</td>\n      <td>Appel, Alfred</td>\n      <td>0394533933</td>\n      <td>2002.</td>\n      <td>Alfred A. Knopf : Distributed by Random House,</td>\n      <td>Jazz History and criticism, Music and literatu...</td>\n      <td>acbk</td>\n      <td>canf</td>\n      <td>NaN</td>\n      <td>cen</td>\n      <td>08/01/2020</td>\n      <td>1</td>\n    </tr>\n  </tbody>\n</table>\n<p>10474 rows × 13 columns</p>\n</div>"
     },
     "execution_count": 127,
     "metadata": {},
     "output_type": "execute_result"
    }
   ],
   "source": [
    "books"
   ],
   "metadata": {
    "collapsed": false,
    "ExecuteTime": {
     "end_time": "2023-11-26T20:55:58.366569500Z",
     "start_time": "2023-11-26T20:55:58.289158900Z"
    }
   },
   "id": "d6f24590f7f03516"
  },
  {
   "cell_type": "code",
   "execution_count": 128,
   "outputs": [
    {
     "name": "stdout",
     "output_type": "stream",
     "text": [
      "Collecting nltk\n",
      "  Downloading nltk-3.8.1-py3-none-any.whl (1.5 MB)\n",
      "     ---------------------------------------- 0.0/1.5 MB ? eta -:--:--\n",
      "     ---------------------------------------- 0.0/1.5 MB ? eta -:--:--\n",
      "     - -------------------------------------- 0.1/1.5 MB 656.4 kB/s eta 0:00:03\n",
      "     -- ------------------------------------- 0.1/1.5 MB 819.2 kB/s eta 0:00:02\n",
      "     ---- ----------------------------------- 0.2/1.5 MB 952.6 kB/s eta 0:00:02\n",
      "     ------- -------------------------------- 0.3/1.5 MB 1.1 MB/s eta 0:00:02\n",
      "     ----------- ---------------------------- 0.4/1.5 MB 1.4 MB/s eta 0:00:01\n",
      "     --------------- ------------------------ 0.6/1.5 MB 1.8 MB/s eta 0:00:01\n",
      "     ------------------ --------------------- 0.7/1.5 MB 1.8 MB/s eta 0:00:01\n",
      "     ----------------------- ---------------- 0.9/1.5 MB 2.0 MB/s eta 0:00:01\n",
      "     ------------------------- -------------- 1.0/1.5 MB 2.0 MB/s eta 0:00:01\n",
      "     --------------------------- ------------ 1.0/1.5 MB 1.9 MB/s eta 0:00:01\n",
      "     ------------------------------ --------- 1.1/1.5 MB 2.0 MB/s eta 0:00:01\n",
      "     ---------------------------------- ----- 1.3/1.5 MB 2.2 MB/s eta 0:00:01\n",
      "     ---------------------------------------  1.5/1.5 MB 2.3 MB/s eta 0:00:01\n",
      "     ---------------------------------------- 1.5/1.5 MB 2.2 MB/s eta 0:00:00\n",
      "Requirement already satisfied: click in c:\\users\\trush\\anaconda3\\envs\\parser\\lib\\site-packages (from nltk) (8.1.7)\n",
      "Requirement already satisfied: joblib in c:\\users\\trush\\anaconda3\\envs\\parser\\lib\\site-packages (from nltk) (1.3.2)\n",
      "Collecting regex>=2021.8.3 (from nltk)\n",
      "  Downloading regex-2023.10.3-cp311-cp311-win_amd64.whl.metadata (41 kB)\n",
      "     ---------------------------------------- 0.0/42.0 kB ? eta -:--:--\n",
      "     ---------------------------------------- 42.0/42.0 kB 2.1 MB/s eta 0:00:00\n",
      "Requirement already satisfied: tqdm in c:\\users\\trush\\anaconda3\\envs\\parser\\lib\\site-packages (from nltk) (4.66.1)\n",
      "Requirement already satisfied: colorama in c:\\users\\trush\\anaconda3\\envs\\parser\\lib\\site-packages (from click->nltk) (0.4.6)\n",
      "Downloading regex-2023.10.3-cp311-cp311-win_amd64.whl (269 kB)\n",
      "   ---------------------------------------- 0.0/269.6 kB ? eta -:--:--\n",
      "   ------------------------- -------------- 174.1/269.6 kB 5.3 MB/s eta 0:00:01\n",
      "   ---------------------------------------- 269.6/269.6 kB 4.2 MB/s eta 0:00:00\n",
      "Installing collected packages: regex, nltk\n",
      "Successfully installed nltk-3.8.1 regex-2023.10.3\n"
     ]
    }
   ],
   "source": [
    "!pip install nltk"
   ],
   "metadata": {
    "collapsed": false,
    "ExecuteTime": {
     "end_time": "2023-11-26T20:56:38.122066100Z",
     "start_time": "2023-11-26T20:56:32.136397700Z"
    }
   },
   "id": "2efc338ae9f1eb92"
  },
  {
   "cell_type": "code",
   "execution_count": 129,
   "outputs": [],
   "source": [
    "import nltk"
   ],
   "metadata": {
    "collapsed": false,
    "ExecuteTime": {
     "end_time": "2023-11-26T20:57:43.881746600Z",
     "start_time": "2023-11-26T20:57:42.488516100Z"
    }
   },
   "id": "8e8c0745c98f6956"
  },
  {
   "cell_type": "code",
   "execution_count": 130,
   "outputs": [
    {
     "name": "stderr",
     "output_type": "stream",
     "text": [
      "[nltk_data] Downloading package punkt to\n",
      "[nltk_data]     C:\\Users\\trush\\AppData\\Roaming\\nltk_data...\n",
      "[nltk_data]   Unzipping tokenizers\\punkt.zip.\n"
     ]
    },
    {
     "data": {
      "text/plain": "True"
     },
     "execution_count": 130,
     "metadata": {},
     "output_type": "execute_result"
    }
   ],
   "source": [
    "nltk.download('punkt')"
   ],
   "metadata": {
    "collapsed": false,
    "ExecuteTime": {
     "end_time": "2023-11-26T20:58:26.347871800Z",
     "start_time": "2023-11-26T20:58:21.058012800Z"
    }
   },
   "id": "936521391e8b2a99"
  },
  {
   "cell_type": "code",
   "execution_count": 131,
   "outputs": [
    {
     "name": "stderr",
     "output_type": "stream",
     "text": [
      "[nltk_data] Downloading package stopwords to\n",
      "[nltk_data]     C:\\Users\\trush\\AppData\\Roaming\\nltk_data...\n",
      "[nltk_data]   Unzipping corpora\\stopwords.zip.\n"
     ]
    },
    {
     "data": {
      "text/plain": "True"
     },
     "execution_count": 131,
     "metadata": {},
     "output_type": "execute_result"
    }
   ],
   "source": [
    "nltk.download('stopwords')"
   ],
   "metadata": {
    "collapsed": false,
    "ExecuteTime": {
     "end_time": "2023-11-26T20:58:40.213521800Z",
     "start_time": "2023-11-26T20:58:40.055387700Z"
    }
   },
   "id": "86aec868845e504c"
  },
  {
   "cell_type": "code",
   "execution_count": 132,
   "outputs": [],
   "source": [
    "from nltk.tokenize import word_tokenize"
   ],
   "metadata": {
    "collapsed": false,
    "ExecuteTime": {
     "end_time": "2023-11-26T20:59:06.984633100Z",
     "start_time": "2023-11-26T20:59:06.908617700Z"
    }
   },
   "id": "5d8e623cd25b738e"
  },
  {
   "cell_type": "code",
   "execution_count": 133,
   "outputs": [],
   "source": [
    "from nltk.corpus import stopwords"
   ],
   "metadata": {
    "collapsed": false,
    "ExecuteTime": {
     "end_time": "2023-11-26T20:59:25.908527Z",
     "start_time": "2023-11-26T20:59:25.827785200Z"
    }
   },
   "id": "bb2fdaad30e709be"
  },
  {
   "cell_type": "code",
   "execution_count": 134,
   "outputs": [],
   "source": [
    "def tokenize_subjects(subjects):\n",
    "    tokens = word_tokenize(subjects.lower())\n",
    "    tokens = [token for token in tokens if token.isalnum() and token not in stopwords.words('english')]\n",
    "    return tokens"
   ],
   "metadata": {
    "collapsed": false,
    "ExecuteTime": {
     "end_time": "2023-11-26T21:01:45.634717400Z",
     "start_time": "2023-11-26T21:01:45.542475Z"
    }
   },
   "id": "c4e409c77336b4b"
  },
  {
   "cell_type": "code",
   "execution_count": 135,
   "outputs": [],
   "source": [
    "books_3 = books_1.copy()"
   ],
   "metadata": {
    "collapsed": false,
    "ExecuteTime": {
     "end_time": "2023-11-26T21:02:09.138471800Z",
     "start_time": "2023-11-26T21:02:09.016619500Z"
    }
   },
   "id": "9070167e010ff412"
  },
  {
   "cell_type": "code",
   "execution_count": 137,
   "outputs": [
    {
     "data": {
      "text/plain": "        BibNum                                              Title  \\\n0      3479509  Franklin and Luna and the book of fairy tales ...   \n1      2737917  Holiday dinners with Bradley Ogden : 150 festi...   \n2      3359831  Cuzco, Machu Picchu & the Inca heartland / Rob...   \n3      3298424  Sleeping Beauty / retold by Cynthia Rylant ; p...   \n4      3203995  How to escape from a leper colony : a novella ...   \n...        ...                                                ...   \n10469  2760306                          Lover reborn / J.R. Ward.   \n10470  2724228            Experimental drawing / Robert Kaupelis.   \n10471  3364815  The bad guys in Alien vs. Bad Guys / Aaron Bla...   \n10472  3227571  English for everyone. Course book. Level 3 int...   \n10473  2128679  Jazz modernism : from Ellington and Armstrong ...   \n\n                     Author  \\\n0             Campbell, Jen   \n1            Ogden, Bradley   \n2       Kunstaetter, Robert   \n3           Rylant, Cynthia   \n4         Yanique, Tiphanie   \n...                     ...   \n10469    Ward, J. R., 1969-   \n10470      Kaupelis, Robert   \n10471         Blabey, Aaron   \n10472  Johnson, Gill, 1964-   \n10473         Appel, Alfred   \n\n                                                    ISBN PublicationYear  \\\n0                              0500651752, 9780500651759           2019.   \n1                              0762439157, 9780762439157          [2011]   \n2                              1911082256, 9781911082255           2017.   \n3                              1423121082, 9781423121084          [2015]   \n4                              155597550X, 9781555975500           2010.   \n...                                                  ...             ...   \n10469                          0451235843, 9780451235848          [2012]   \n10470  0823016188, 0823016226, 9780823016181, 9780823...          [1980]   \n10471                          133818959X, 9781338189599          [2018]   \n10472  1465447636, 1465449418, 9781465447630, 9781465...           2016.   \n10473                                         0394533933           2002.   \n\n                                            Publisher  \\\n0                                  Thames and Hudson,   \n1                                      Running Press,   \n2                                          Footprint,   \n3                                    Disney Hyperion,   \n4                                     Graywolf Press,   \n...                                               ...   \n10469                           New American Library,   \n10470                    Watson-Guptill Publications,   \n10471                                Scholastic Inc.,   \n10472                                  DK Publishing,   \n10473  Alfred A. Knopf : Distributed by Random House,   \n\n                                                Subjects ItemType  \\\n0      Dragons Juvenile fiction, Characters and chara...     jcbk   \n1                               Cooking, Holiday cooking     acbk   \n2      Peru Guidebooks, Cuzco Peru Guidebooks, Machu ...     acbk   \n3      Sleeping Beauty Tale Juvenile literature, Folk...     jcbk   \n4      United States Virgin Islands Fiction, Short st...     acbk   \n...                                                  ...      ...   \n10469  Vampires Fiction, Paranormal romance stories, ...     acbk   \n10470      Drawing Study and teaching, Drawing Technique     acbk   \n10471  Extraterrestrial beings Juvenile fiction, Kidn...     jcbk   \n10472  English language Self instruction, English lan...     bcbk   \n10473  Jazz History and criticism, Music and literatu...     acbk   \n\n      ItemCollection ItemLocation  ReportDate  ItemCount  \\\n0              ncnew          net  03/01/2020          1   \n1               nanf          swt  12/01/2020          1   \n2               nanf          wts  03/01/2020          1   \n3              ncfft          mag  11/01/2020          1   \n4              cafic          cen  05/01/2020          1   \n...              ...          ...         ...        ...   \n10469          nafic          dlr  10/01/2020          1   \n10470           nanf          rbe  09/01/2020          1   \n10471           ncef          glk  10/01/2020          1   \n10472         naesli          col  03/01/2020          1   \n10473           canf          cen  08/01/2020          1   \n\n                                            TokenizedSub  \n0      [dragons, juvenile, fiction, characters, chara...  \n1                            [cooking, holiday, cooking]  \n2      [peru, guidebooks, cuzco, peru, guidebooks, ma...  \n3      [sleeping, beauty, tale, juvenile, literature,...  \n4      [united, states, virgin, islands, fiction, sho...  \n...                                                  ...  \n10469  [vampires, fiction, paranormal, romance, stori...  \n10470     [drawing, study, teaching, drawing, technique]  \n10471  [extraterrestrial, beings, juvenile, fiction, ...  \n10472  [english, language, self, instruction, english...  \n10473  [jazz, history, criticism, music, literature, ...  \n\n[10474 rows x 13 columns]",
      "text/html": "<div>\n<style scoped>\n    .dataframe tbody tr th:only-of-type {\n        vertical-align: middle;\n    }\n\n    .dataframe tbody tr th {\n        vertical-align: top;\n    }\n\n    .dataframe thead th {\n        text-align: right;\n    }\n</style>\n<table border=\"1\" class=\"dataframe\">\n  <thead>\n    <tr style=\"text-align: right;\">\n      <th></th>\n      <th>BibNum</th>\n      <th>Title</th>\n      <th>Author</th>\n      <th>ISBN</th>\n      <th>PublicationYear</th>\n      <th>Publisher</th>\n      <th>Subjects</th>\n      <th>ItemType</th>\n      <th>ItemCollection</th>\n      <th>ItemLocation</th>\n      <th>ReportDate</th>\n      <th>ItemCount</th>\n      <th>TokenizedSub</th>\n    </tr>\n  </thead>\n  <tbody>\n    <tr>\n      <th>0</th>\n      <td>3479509</td>\n      <td>Franklin and Luna and the book of fairy tales ...</td>\n      <td>Campbell, Jen</td>\n      <td>0500651752, 9780500651759</td>\n      <td>2019.</td>\n      <td>Thames and Hudson,</td>\n      <td>Dragons Juvenile fiction, Characters and chara...</td>\n      <td>jcbk</td>\n      <td>ncnew</td>\n      <td>net</td>\n      <td>03/01/2020</td>\n      <td>1</td>\n      <td>[dragons, juvenile, fiction, characters, chara...</td>\n    </tr>\n    <tr>\n      <th>1</th>\n      <td>2737917</td>\n      <td>Holiday dinners with Bradley Ogden : 150 festi...</td>\n      <td>Ogden, Bradley</td>\n      <td>0762439157, 9780762439157</td>\n      <td>[2011]</td>\n      <td>Running Press,</td>\n      <td>Cooking, Holiday cooking</td>\n      <td>acbk</td>\n      <td>nanf</td>\n      <td>swt</td>\n      <td>12/01/2020</td>\n      <td>1</td>\n      <td>[cooking, holiday, cooking]</td>\n    </tr>\n    <tr>\n      <th>2</th>\n      <td>3359831</td>\n      <td>Cuzco, Machu Picchu &amp; the Inca heartland / Rob...</td>\n      <td>Kunstaetter, Robert</td>\n      <td>1911082256, 9781911082255</td>\n      <td>2017.</td>\n      <td>Footprint,</td>\n      <td>Peru Guidebooks, Cuzco Peru Guidebooks, Machu ...</td>\n      <td>acbk</td>\n      <td>nanf</td>\n      <td>wts</td>\n      <td>03/01/2020</td>\n      <td>1</td>\n      <td>[peru, guidebooks, cuzco, peru, guidebooks, ma...</td>\n    </tr>\n    <tr>\n      <th>3</th>\n      <td>3298424</td>\n      <td>Sleeping Beauty / retold by Cynthia Rylant ; p...</td>\n      <td>Rylant, Cynthia</td>\n      <td>1423121082, 9781423121084</td>\n      <td>[2015]</td>\n      <td>Disney Hyperion,</td>\n      <td>Sleeping Beauty Tale Juvenile literature, Folk...</td>\n      <td>jcbk</td>\n      <td>ncfft</td>\n      <td>mag</td>\n      <td>11/01/2020</td>\n      <td>1</td>\n      <td>[sleeping, beauty, tale, juvenile, literature,...</td>\n    </tr>\n    <tr>\n      <th>4</th>\n      <td>3203995</td>\n      <td>How to escape from a leper colony : a novella ...</td>\n      <td>Yanique, Tiphanie</td>\n      <td>155597550X, 9781555975500</td>\n      <td>2010.</td>\n      <td>Graywolf Press,</td>\n      <td>United States Virgin Islands Fiction, Short st...</td>\n      <td>acbk</td>\n      <td>cafic</td>\n      <td>cen</td>\n      <td>05/01/2020</td>\n      <td>1</td>\n      <td>[united, states, virgin, islands, fiction, sho...</td>\n    </tr>\n    <tr>\n      <th>...</th>\n      <td>...</td>\n      <td>...</td>\n      <td>...</td>\n      <td>...</td>\n      <td>...</td>\n      <td>...</td>\n      <td>...</td>\n      <td>...</td>\n      <td>...</td>\n      <td>...</td>\n      <td>...</td>\n      <td>...</td>\n      <td>...</td>\n    </tr>\n    <tr>\n      <th>10469</th>\n      <td>2760306</td>\n      <td>Lover reborn / J.R. Ward.</td>\n      <td>Ward, J. R., 1969-</td>\n      <td>0451235843, 9780451235848</td>\n      <td>[2012]</td>\n      <td>New American Library,</td>\n      <td>Vampires Fiction, Paranormal romance stories, ...</td>\n      <td>acbk</td>\n      <td>nafic</td>\n      <td>dlr</td>\n      <td>10/01/2020</td>\n      <td>1</td>\n      <td>[vampires, fiction, paranormal, romance, stori...</td>\n    </tr>\n    <tr>\n      <th>10470</th>\n      <td>2724228</td>\n      <td>Experimental drawing / Robert Kaupelis.</td>\n      <td>Kaupelis, Robert</td>\n      <td>0823016188, 0823016226, 9780823016181, 9780823...</td>\n      <td>[1980]</td>\n      <td>Watson-Guptill Publications,</td>\n      <td>Drawing Study and teaching, Drawing Technique</td>\n      <td>acbk</td>\n      <td>nanf</td>\n      <td>rbe</td>\n      <td>09/01/2020</td>\n      <td>1</td>\n      <td>[drawing, study, teaching, drawing, technique]</td>\n    </tr>\n    <tr>\n      <th>10471</th>\n      <td>3364815</td>\n      <td>The bad guys in Alien vs. Bad Guys / Aaron Bla...</td>\n      <td>Blabey, Aaron</td>\n      <td>133818959X, 9781338189599</td>\n      <td>[2018]</td>\n      <td>Scholastic Inc.,</td>\n      <td>Extraterrestrial beings Juvenile fiction, Kidn...</td>\n      <td>jcbk</td>\n      <td>ncef</td>\n      <td>glk</td>\n      <td>10/01/2020</td>\n      <td>1</td>\n      <td>[extraterrestrial, beings, juvenile, fiction, ...</td>\n    </tr>\n    <tr>\n      <th>10472</th>\n      <td>3227571</td>\n      <td>English for everyone. Course book. Level 3 int...</td>\n      <td>Johnson, Gill, 1964-</td>\n      <td>1465447636, 1465449418, 9781465447630, 9781465...</td>\n      <td>2016.</td>\n      <td>DK Publishing,</td>\n      <td>English language Self instruction, English lan...</td>\n      <td>bcbk</td>\n      <td>naesli</td>\n      <td>col</td>\n      <td>03/01/2020</td>\n      <td>1</td>\n      <td>[english, language, self, instruction, english...</td>\n    </tr>\n    <tr>\n      <th>10473</th>\n      <td>2128679</td>\n      <td>Jazz modernism : from Ellington and Armstrong ...</td>\n      <td>Appel, Alfred</td>\n      <td>0394533933</td>\n      <td>2002.</td>\n      <td>Alfred A. Knopf : Distributed by Random House,</td>\n      <td>Jazz History and criticism, Music and literatu...</td>\n      <td>acbk</td>\n      <td>canf</td>\n      <td>cen</td>\n      <td>08/01/2020</td>\n      <td>1</td>\n      <td>[jazz, history, criticism, music, literature, ...</td>\n    </tr>\n  </tbody>\n</table>\n<p>10474 rows × 13 columns</p>\n</div>"
     },
     "execution_count": 137,
     "metadata": {},
     "output_type": "execute_result"
    }
   ],
   "source": [
    "books_3['Subjects'] = books_3['Subjects'].astype('str')\n",
    "books_3['TokenizedSub'] = books_3['Subjects'].apply(tokenize_subjects)\n",
    "books_3"
   ],
   "metadata": {
    "collapsed": false,
    "ExecuteTime": {
     "end_time": "2023-11-26T21:03:45.782210300Z",
     "start_time": "2023-11-26T21:03:31.545103Z"
    }
   },
   "id": "361b1b18d837665"
  },
  {
   "cell_type": "code",
   "execution_count": 138,
   "outputs": [
    {
     "data": {
      "text/plain": "        BibNum                                              Title  \\\n0      3479509  Franklin and Luna and the book of fairy tales ...   \n1      2737917  Holiday dinners with Bradley Ogden : 150 festi...   \n2      3359831  Cuzco, Machu Picchu & the Inca heartland / Rob...   \n3      3298424  Sleeping Beauty / retold by Cynthia Rylant ; p...   \n4      3203995  How to escape from a leper colony : a novella ...   \n...        ...                                                ...   \n10469  2760306                          Lover reborn / J.R. Ward.   \n10470  2724228            Experimental drawing / Robert Kaupelis.   \n10471  3364815  The bad guys in Alien vs. Bad Guys / Aaron Bla...   \n10472  3227571  English for everyone. Course book. Level 3 int...   \n10473  2128679  Jazz modernism : from Ellington and Armstrong ...   \n\n                     Author  \\\n0             Campbell, Jen   \n1            Ogden, Bradley   \n2       Kunstaetter, Robert   \n3           Rylant, Cynthia   \n4         Yanique, Tiphanie   \n...                     ...   \n10469    Ward, J. R., 1969-   \n10470      Kaupelis, Robert   \n10471         Blabey, Aaron   \n10472  Johnson, Gill, 1964-   \n10473         Appel, Alfred   \n\n                                                    ISBN PublicationYear  \\\n0                              0500651752, 9780500651759           2019.   \n1                              0762439157, 9780762439157          [2011]   \n2                              1911082256, 9781911082255           2017.   \n3                              1423121082, 9781423121084          [2015]   \n4                              155597550X, 9781555975500           2010.   \n...                                                  ...             ...   \n10469                          0451235843, 9780451235848          [2012]   \n10470  0823016188, 0823016226, 9780823016181, 9780823...          [1980]   \n10471                          133818959X, 9781338189599          [2018]   \n10472  1465447636, 1465449418, 9781465447630, 9781465...           2016.   \n10473                                         0394533933           2002.   \n\n                                            Publisher  \\\n0                                  Thames and Hudson,   \n1                                      Running Press,   \n2                                          Footprint,   \n3                                    Disney Hyperion,   \n4                                     Graywolf Press,   \n...                                               ...   \n10469                           New American Library,   \n10470                    Watson-Guptill Publications,   \n10471                                Scholastic Inc.,   \n10472                                  DK Publishing,   \n10473  Alfred A. Knopf : Distributed by Random House,   \n\n                                                Subjects ItemType  \\\n0      Dragons Juvenile fiction, Characters and chara...     jcbk   \n1                               Cooking, Holiday cooking     acbk   \n2      Peru Guidebooks, Cuzco Peru Guidebooks, Machu ...     acbk   \n3      Sleeping Beauty Tale Juvenile literature, Folk...     jcbk   \n4      United States Virgin Islands Fiction, Short st...     acbk   \n...                                                  ...      ...   \n10469  Vampires Fiction, Paranormal romance stories, ...     acbk   \n10470      Drawing Study and teaching, Drawing Technique     acbk   \n10471  Extraterrestrial beings Juvenile fiction, Kidn...     jcbk   \n10472  English language Self instruction, English lan...     bcbk   \n10473  Jazz History and criticism, Music and literatu...     acbk   \n\n      ItemCollection FloatingItem ItemLocation  ReportDate  ItemCount  \n0              ncnew          NaN          net  03/01/2020          1  \n1               nanf          NaN          swt  12/01/2020          1  \n2               nanf          NaN          wts  03/01/2020          1  \n3              ncfft          NaN          mag  11/01/2020          1  \n4              cafic          NaN          cen  05/01/2020          1  \n...              ...          ...          ...         ...        ...  \n10469          nafic          NaN          dlr  10/01/2020          1  \n10470           nanf          NaN          rbe  09/01/2020          1  \n10471           ncef          NaN          glk  10/01/2020          1  \n10472         naesli          NaN          col  03/01/2020          1  \n10473           canf          NaN          cen  08/01/2020          1  \n\n[10474 rows x 13 columns]",
      "text/html": "<div>\n<style scoped>\n    .dataframe tbody tr th:only-of-type {\n        vertical-align: middle;\n    }\n\n    .dataframe tbody tr th {\n        vertical-align: top;\n    }\n\n    .dataframe thead th {\n        text-align: right;\n    }\n</style>\n<table border=\"1\" class=\"dataframe\">\n  <thead>\n    <tr style=\"text-align: right;\">\n      <th></th>\n      <th>BibNum</th>\n      <th>Title</th>\n      <th>Author</th>\n      <th>ISBN</th>\n      <th>PublicationYear</th>\n      <th>Publisher</th>\n      <th>Subjects</th>\n      <th>ItemType</th>\n      <th>ItemCollection</th>\n      <th>FloatingItem</th>\n      <th>ItemLocation</th>\n      <th>ReportDate</th>\n      <th>ItemCount</th>\n    </tr>\n  </thead>\n  <tbody>\n    <tr>\n      <th>0</th>\n      <td>3479509</td>\n      <td>Franklin and Luna and the book of fairy tales ...</td>\n      <td>Campbell, Jen</td>\n      <td>0500651752, 9780500651759</td>\n      <td>2019.</td>\n      <td>Thames and Hudson,</td>\n      <td>Dragons Juvenile fiction, Characters and chara...</td>\n      <td>jcbk</td>\n      <td>ncnew</td>\n      <td>NaN</td>\n      <td>net</td>\n      <td>03/01/2020</td>\n      <td>1</td>\n    </tr>\n    <tr>\n      <th>1</th>\n      <td>2737917</td>\n      <td>Holiday dinners with Bradley Ogden : 150 festi...</td>\n      <td>Ogden, Bradley</td>\n      <td>0762439157, 9780762439157</td>\n      <td>[2011]</td>\n      <td>Running Press,</td>\n      <td>Cooking, Holiday cooking</td>\n      <td>acbk</td>\n      <td>nanf</td>\n      <td>NaN</td>\n      <td>swt</td>\n      <td>12/01/2020</td>\n      <td>1</td>\n    </tr>\n    <tr>\n      <th>2</th>\n      <td>3359831</td>\n      <td>Cuzco, Machu Picchu &amp; the Inca heartland / Rob...</td>\n      <td>Kunstaetter, Robert</td>\n      <td>1911082256, 9781911082255</td>\n      <td>2017.</td>\n      <td>Footprint,</td>\n      <td>Peru Guidebooks, Cuzco Peru Guidebooks, Machu ...</td>\n      <td>acbk</td>\n      <td>nanf</td>\n      <td>NaN</td>\n      <td>wts</td>\n      <td>03/01/2020</td>\n      <td>1</td>\n    </tr>\n    <tr>\n      <th>3</th>\n      <td>3298424</td>\n      <td>Sleeping Beauty / retold by Cynthia Rylant ; p...</td>\n      <td>Rylant, Cynthia</td>\n      <td>1423121082, 9781423121084</td>\n      <td>[2015]</td>\n      <td>Disney Hyperion,</td>\n      <td>Sleeping Beauty Tale Juvenile literature, Folk...</td>\n      <td>jcbk</td>\n      <td>ncfft</td>\n      <td>NaN</td>\n      <td>mag</td>\n      <td>11/01/2020</td>\n      <td>1</td>\n    </tr>\n    <tr>\n      <th>4</th>\n      <td>3203995</td>\n      <td>How to escape from a leper colony : a novella ...</td>\n      <td>Yanique, Tiphanie</td>\n      <td>155597550X, 9781555975500</td>\n      <td>2010.</td>\n      <td>Graywolf Press,</td>\n      <td>United States Virgin Islands Fiction, Short st...</td>\n      <td>acbk</td>\n      <td>cafic</td>\n      <td>NaN</td>\n      <td>cen</td>\n      <td>05/01/2020</td>\n      <td>1</td>\n    </tr>\n    <tr>\n      <th>...</th>\n      <td>...</td>\n      <td>...</td>\n      <td>...</td>\n      <td>...</td>\n      <td>...</td>\n      <td>...</td>\n      <td>...</td>\n      <td>...</td>\n      <td>...</td>\n      <td>...</td>\n      <td>...</td>\n      <td>...</td>\n      <td>...</td>\n    </tr>\n    <tr>\n      <th>10469</th>\n      <td>2760306</td>\n      <td>Lover reborn / J.R. Ward.</td>\n      <td>Ward, J. R., 1969-</td>\n      <td>0451235843, 9780451235848</td>\n      <td>[2012]</td>\n      <td>New American Library,</td>\n      <td>Vampires Fiction, Paranormal romance stories, ...</td>\n      <td>acbk</td>\n      <td>nafic</td>\n      <td>NaN</td>\n      <td>dlr</td>\n      <td>10/01/2020</td>\n      <td>1</td>\n    </tr>\n    <tr>\n      <th>10470</th>\n      <td>2724228</td>\n      <td>Experimental drawing / Robert Kaupelis.</td>\n      <td>Kaupelis, Robert</td>\n      <td>0823016188, 0823016226, 9780823016181, 9780823...</td>\n      <td>[1980]</td>\n      <td>Watson-Guptill Publications,</td>\n      <td>Drawing Study and teaching, Drawing Technique</td>\n      <td>acbk</td>\n      <td>nanf</td>\n      <td>NaN</td>\n      <td>rbe</td>\n      <td>09/01/2020</td>\n      <td>1</td>\n    </tr>\n    <tr>\n      <th>10471</th>\n      <td>3364815</td>\n      <td>The bad guys in Alien vs. Bad Guys / Aaron Bla...</td>\n      <td>Blabey, Aaron</td>\n      <td>133818959X, 9781338189599</td>\n      <td>[2018]</td>\n      <td>Scholastic Inc.,</td>\n      <td>Extraterrestrial beings Juvenile fiction, Kidn...</td>\n      <td>jcbk</td>\n      <td>ncef</td>\n      <td>NaN</td>\n      <td>glk</td>\n      <td>10/01/2020</td>\n      <td>1</td>\n    </tr>\n    <tr>\n      <th>10472</th>\n      <td>3227571</td>\n      <td>English for everyone. Course book. Level 3 int...</td>\n      <td>Johnson, Gill, 1964-</td>\n      <td>1465447636, 1465449418, 9781465447630, 9781465...</td>\n      <td>2016.</td>\n      <td>DK Publishing,</td>\n      <td>English language Self instruction, English lan...</td>\n      <td>bcbk</td>\n      <td>naesli</td>\n      <td>NaN</td>\n      <td>col</td>\n      <td>03/01/2020</td>\n      <td>1</td>\n    </tr>\n    <tr>\n      <th>10473</th>\n      <td>2128679</td>\n      <td>Jazz modernism : from Ellington and Armstrong ...</td>\n      <td>Appel, Alfred</td>\n      <td>0394533933</td>\n      <td>2002.</td>\n      <td>Alfred A. Knopf : Distributed by Random House,</td>\n      <td>Jazz History and criticism, Music and literatu...</td>\n      <td>acbk</td>\n      <td>canf</td>\n      <td>NaN</td>\n      <td>cen</td>\n      <td>08/01/2020</td>\n      <td>1</td>\n    </tr>\n  </tbody>\n</table>\n<p>10474 rows × 13 columns</p>\n</div>"
     },
     "execution_count": 138,
     "metadata": {},
     "output_type": "execute_result"
    }
   ],
   "source": [
    "dfb = books.copy()\n",
    "dfb"
   ],
   "metadata": {
    "collapsed": false,
    "ExecuteTime": {
     "end_time": "2023-11-26T21:11:53.858111800Z",
     "start_time": "2023-11-26T21:11:53.776200600Z"
    }
   },
   "id": "98f81d4d7624b158"
  },
  {
   "cell_type": "code",
   "execution_count": 139,
   "outputs": [],
   "source": [
    "dfb['Subjects'] = dfb['Subjects'].astype('str')"
   ],
   "metadata": {
    "collapsed": false,
    "ExecuteTime": {
     "end_time": "2023-11-26T21:12:47.059173Z",
     "start_time": "2023-11-26T21:12:47.031664500Z"
    }
   },
   "id": "bbfda64e92986ea8"
  },
  {
   "cell_type": "code",
   "execution_count": 143,
   "outputs": [
    {
     "name": "stdout",
     "output_type": "stream",
     "text": [
      "Collecting sklearn\n",
      "  Using cached sklearn-0.0.post11.tar.gz (3.6 kB)\n",
      "  Preparing metadata (setup.py): started\n",
      "  Preparing metadata (setup.py): finished with status 'done'\n",
      "Building wheels for collected packages: sklearn\n",
      "  Building wheel for sklearn (setup.py): started\n",
      "  Building wheel for sklearn (setup.py): finished with status 'done'\n",
      "  Created wheel for sklearn: filename=sklearn-0.0.post11-py3-none-any.whl size=2979 sha256=a96319f799bf0e587260c527bd08aa6902a01409bed297c7168e6d0d760e2f74\n",
      "  Stored in directory: c:\\users\\trush\\appdata\\local\\pip\\cache\\wheels\\52\\cc\\47\\500a56407c060a5d18bda9aa3ec2daf4721b8448ee4b268840\n",
      "Successfully built sklearn\n",
      "Installing collected packages: sklearn\n",
      "Successfully installed sklearn-0.0.post11\n"
     ]
    }
   ],
   "source": [
    "!pip install sklearn"
   ],
   "metadata": {
    "collapsed": false,
    "ExecuteTime": {
     "end_time": "2023-11-26T21:21:01.217563800Z",
     "start_time": "2023-11-26T21:20:57.765832500Z"
    }
   },
   "id": "1324ee6a64bc5927"
  },
  {
   "cell_type": "code",
   "execution_count": 144,
   "outputs": [],
   "source": [
    "from sklearn.model_selection import train_test_split\n",
    "from sklearn.feature_extraction.text import TfidfVectorizer\n",
    "from sklearn.multioutput import MultiOutputClassifier\n",
    "from sklearn.linear_model import LogisticRegression\n",
    "from sklearn.metrics import classification_report"
   ],
   "metadata": {
    "collapsed": false,
    "ExecuteTime": {
     "end_time": "2023-11-26T21:21:06.040457700Z",
     "start_time": "2023-11-26T21:21:06.016432300Z"
    }
   },
   "id": "72e8383b6382792d"
  },
  {
   "cell_type": "code",
   "execution_count": 142,
   "outputs": [],
   "source": [
    "labels = dfb['Subjects'].str.get_dummies(', ')"
   ],
   "metadata": {
    "collapsed": false,
    "ExecuteTime": {
     "end_time": "2023-11-26T21:20:57.765832500Z",
     "start_time": "2023-11-26T21:20:06.621153200Z"
    }
   },
   "id": "44cdb30430bc805d"
  },
  {
   "cell_type": "code",
   "execution_count": 152,
   "outputs": [
    {
     "data": {
      "text/plain": "10474"
     },
     "execution_count": 152,
     "metadata": {},
     "output_type": "execute_result"
    }
   ],
   "source": [
    "labels.value_counts().sum()"
   ],
   "metadata": {
    "collapsed": false,
    "ExecuteTime": {
     "end_time": "2023-11-26T21:27:56.817518900Z",
     "start_time": "2023-11-26T21:27:41.538754900Z"
    }
   },
   "id": "89343e7186158bf9"
  },
  {
   "cell_type": "code",
   "execution_count": 145,
   "outputs": [],
   "source": [
    "X_train, X_test, y_train, y_test = train_test_split(dfb['Title'], labels, test_size=0.2, random_state=42)"
   ],
   "metadata": {
    "collapsed": false,
    "ExecuteTime": {
     "end_time": "2023-11-26T21:21:08.840140500Z",
     "start_time": "2023-11-26T21:21:08.476806200Z"
    }
   },
   "id": "de7914cb370281ef"
  },
  {
   "cell_type": "code",
   "execution_count": 146,
   "outputs": [],
   "source": [
    "vectorizer = TfidfVectorizer()\n",
    "X_train_vec = vectorizer.fit_transform(X_train)\n",
    "X_test_vec = vectorizer.transform(X_test)"
   ],
   "metadata": {
    "collapsed": false,
    "ExecuteTime": {
     "end_time": "2023-11-26T21:21:24.336263300Z",
     "start_time": "2023-11-26T21:21:24.267155200Z"
    }
   },
   "id": "cfc1a5a468781ccc"
  },
  {
   "cell_type": "code",
   "execution_count": 147,
   "outputs": [
    {
     "ename": "ValueError",
     "evalue": "This solver needs samples of at least 2 classes in the data, but the data contains only one class: 0",
     "output_type": "error",
     "traceback": [
      "\u001B[1;31m---------------------------------------------------------------------------\u001B[0m",
      "\u001B[1;31mValueError\u001B[0m                                Traceback (most recent call last)",
      "Cell \u001B[1;32mIn[147], line 2\u001B[0m\n\u001B[0;32m      1\u001B[0m classifier \u001B[38;5;241m=\u001B[39m MultiOutputClassifier(LogisticRegression())\n\u001B[1;32m----> 2\u001B[0m classifier\u001B[38;5;241m.\u001B[39mfit(X_train_vec, y_train)\n",
      "File \u001B[1;32m~\\anaconda3\\envs\\parser\\Lib\\site-packages\\sklearn\\multioutput.py:538\u001B[0m, in \u001B[0;36mMultiOutputClassifier.fit\u001B[1;34m(self, X, Y, sample_weight, **fit_params)\u001B[0m\n\u001B[0;32m    512\u001B[0m \u001B[38;5;28;01mdef\u001B[39;00m \u001B[38;5;21mfit\u001B[39m(\u001B[38;5;28mself\u001B[39m, X, Y, sample_weight\u001B[38;5;241m=\u001B[39m\u001B[38;5;28;01mNone\u001B[39;00m, \u001B[38;5;241m*\u001B[39m\u001B[38;5;241m*\u001B[39mfit_params):\n\u001B[0;32m    513\u001B[0m \u001B[38;5;250m    \u001B[39m\u001B[38;5;124;03m\"\"\"Fit the model to data matrix X and targets Y.\u001B[39;00m\n\u001B[0;32m    514\u001B[0m \n\u001B[0;32m    515\u001B[0m \u001B[38;5;124;03m    Parameters\u001B[39;00m\n\u001B[1;32m   (...)\u001B[0m\n\u001B[0;32m    536\u001B[0m \u001B[38;5;124;03m        Returns a fitted instance.\u001B[39;00m\n\u001B[0;32m    537\u001B[0m \u001B[38;5;124;03m    \"\"\"\u001B[39;00m\n\u001B[1;32m--> 538\u001B[0m     \u001B[38;5;28msuper\u001B[39m()\u001B[38;5;241m.\u001B[39mfit(X, Y, sample_weight\u001B[38;5;241m=\u001B[39msample_weight, \u001B[38;5;241m*\u001B[39m\u001B[38;5;241m*\u001B[39mfit_params)\n\u001B[0;32m    539\u001B[0m     \u001B[38;5;28mself\u001B[39m\u001B[38;5;241m.\u001B[39mclasses_ \u001B[38;5;241m=\u001B[39m [estimator\u001B[38;5;241m.\u001B[39mclasses_ \u001B[38;5;28;01mfor\u001B[39;00m estimator \u001B[38;5;129;01min\u001B[39;00m \u001B[38;5;28mself\u001B[39m\u001B[38;5;241m.\u001B[39mestimators_]\n\u001B[0;32m    540\u001B[0m     \u001B[38;5;28;01mreturn\u001B[39;00m \u001B[38;5;28mself\u001B[39m\n",
      "File \u001B[1;32m~\\anaconda3\\envs\\parser\\Lib\\site-packages\\sklearn\\base.py:1152\u001B[0m, in \u001B[0;36m_fit_context.<locals>.decorator.<locals>.wrapper\u001B[1;34m(estimator, *args, **kwargs)\u001B[0m\n\u001B[0;32m   1145\u001B[0m     estimator\u001B[38;5;241m.\u001B[39m_validate_params()\n\u001B[0;32m   1147\u001B[0m \u001B[38;5;28;01mwith\u001B[39;00m config_context(\n\u001B[0;32m   1148\u001B[0m     skip_parameter_validation\u001B[38;5;241m=\u001B[39m(\n\u001B[0;32m   1149\u001B[0m         prefer_skip_nested_validation \u001B[38;5;129;01mor\u001B[39;00m global_skip_validation\n\u001B[0;32m   1150\u001B[0m     )\n\u001B[0;32m   1151\u001B[0m ):\n\u001B[1;32m-> 1152\u001B[0m     \u001B[38;5;28;01mreturn\u001B[39;00m fit_method(estimator, \u001B[38;5;241m*\u001B[39margs, \u001B[38;5;241m*\u001B[39m\u001B[38;5;241m*\u001B[39mkwargs)\n",
      "File \u001B[1;32m~\\anaconda3\\envs\\parser\\Lib\\site-packages\\sklearn\\multioutput.py:273\u001B[0m, in \u001B[0;36m_MultiOutputEstimator.fit\u001B[1;34m(self, X, y, sample_weight, **fit_params)\u001B[0m\n\u001B[0;32m    270\u001B[0m     \u001B[38;5;28;01mif\u001B[39;00m sample_weight \u001B[38;5;129;01mis\u001B[39;00m \u001B[38;5;129;01mnot\u001B[39;00m \u001B[38;5;28;01mNone\u001B[39;00m:\n\u001B[0;32m    271\u001B[0m         routed_params\u001B[38;5;241m.\u001B[39mestimator\u001B[38;5;241m.\u001B[39mfit[\u001B[38;5;124m\"\u001B[39m\u001B[38;5;124msample_weight\u001B[39m\u001B[38;5;124m\"\u001B[39m] \u001B[38;5;241m=\u001B[39m sample_weight\n\u001B[1;32m--> 273\u001B[0m \u001B[38;5;28mself\u001B[39m\u001B[38;5;241m.\u001B[39mestimators_ \u001B[38;5;241m=\u001B[39m Parallel(n_jobs\u001B[38;5;241m=\u001B[39m\u001B[38;5;28mself\u001B[39m\u001B[38;5;241m.\u001B[39mn_jobs)(\n\u001B[0;32m    274\u001B[0m     delayed(_fit_estimator)(\n\u001B[0;32m    275\u001B[0m         \u001B[38;5;28mself\u001B[39m\u001B[38;5;241m.\u001B[39mestimator, X, y[:, i], \u001B[38;5;241m*\u001B[39m\u001B[38;5;241m*\u001B[39mrouted_params\u001B[38;5;241m.\u001B[39mestimator\u001B[38;5;241m.\u001B[39mfit\n\u001B[0;32m    276\u001B[0m     )\n\u001B[0;32m    277\u001B[0m     \u001B[38;5;28;01mfor\u001B[39;00m i \u001B[38;5;129;01min\u001B[39;00m \u001B[38;5;28mrange\u001B[39m(y\u001B[38;5;241m.\u001B[39mshape[\u001B[38;5;241m1\u001B[39m])\n\u001B[0;32m    278\u001B[0m )\n\u001B[0;32m    280\u001B[0m \u001B[38;5;28;01mif\u001B[39;00m \u001B[38;5;28mhasattr\u001B[39m(\u001B[38;5;28mself\u001B[39m\u001B[38;5;241m.\u001B[39mestimators_[\u001B[38;5;241m0\u001B[39m], \u001B[38;5;124m\"\u001B[39m\u001B[38;5;124mn_features_in_\u001B[39m\u001B[38;5;124m\"\u001B[39m):\n\u001B[0;32m    281\u001B[0m     \u001B[38;5;28mself\u001B[39m\u001B[38;5;241m.\u001B[39mn_features_in_ \u001B[38;5;241m=\u001B[39m \u001B[38;5;28mself\u001B[39m\u001B[38;5;241m.\u001B[39mestimators_[\u001B[38;5;241m0\u001B[39m]\u001B[38;5;241m.\u001B[39mn_features_in_\n",
      "File \u001B[1;32m~\\anaconda3\\envs\\parser\\Lib\\site-packages\\sklearn\\utils\\parallel.py:65\u001B[0m, in \u001B[0;36mParallel.__call__\u001B[1;34m(self, iterable)\u001B[0m\n\u001B[0;32m     60\u001B[0m config \u001B[38;5;241m=\u001B[39m get_config()\n\u001B[0;32m     61\u001B[0m iterable_with_config \u001B[38;5;241m=\u001B[39m (\n\u001B[0;32m     62\u001B[0m     (_with_config(delayed_func, config), args, kwargs)\n\u001B[0;32m     63\u001B[0m     \u001B[38;5;28;01mfor\u001B[39;00m delayed_func, args, kwargs \u001B[38;5;129;01min\u001B[39;00m iterable\n\u001B[0;32m     64\u001B[0m )\n\u001B[1;32m---> 65\u001B[0m \u001B[38;5;28;01mreturn\u001B[39;00m \u001B[38;5;28msuper\u001B[39m()\u001B[38;5;241m.\u001B[39m\u001B[38;5;21m__call__\u001B[39m(iterable_with_config)\n",
      "File \u001B[1;32m~\\anaconda3\\envs\\parser\\Lib\\site-packages\\joblib\\parallel.py:1863\u001B[0m, in \u001B[0;36mParallel.__call__\u001B[1;34m(self, iterable)\u001B[0m\n\u001B[0;32m   1861\u001B[0m     output \u001B[38;5;241m=\u001B[39m \u001B[38;5;28mself\u001B[39m\u001B[38;5;241m.\u001B[39m_get_sequential_output(iterable)\n\u001B[0;32m   1862\u001B[0m     \u001B[38;5;28mnext\u001B[39m(output)\n\u001B[1;32m-> 1863\u001B[0m     \u001B[38;5;28;01mreturn\u001B[39;00m output \u001B[38;5;28;01mif\u001B[39;00m \u001B[38;5;28mself\u001B[39m\u001B[38;5;241m.\u001B[39mreturn_generator \u001B[38;5;28;01melse\u001B[39;00m \u001B[38;5;28mlist\u001B[39m(output)\n\u001B[0;32m   1865\u001B[0m \u001B[38;5;66;03m# Let's create an ID that uniquely identifies the current call. If the\u001B[39;00m\n\u001B[0;32m   1866\u001B[0m \u001B[38;5;66;03m# call is interrupted early and that the same instance is immediately\u001B[39;00m\n\u001B[0;32m   1867\u001B[0m \u001B[38;5;66;03m# re-used, this id will be used to prevent workers that were\u001B[39;00m\n\u001B[0;32m   1868\u001B[0m \u001B[38;5;66;03m# concurrently finalizing a task from the previous call to run the\u001B[39;00m\n\u001B[0;32m   1869\u001B[0m \u001B[38;5;66;03m# callback.\u001B[39;00m\n\u001B[0;32m   1870\u001B[0m \u001B[38;5;28;01mwith\u001B[39;00m \u001B[38;5;28mself\u001B[39m\u001B[38;5;241m.\u001B[39m_lock:\n",
      "File \u001B[1;32m~\\anaconda3\\envs\\parser\\Lib\\site-packages\\joblib\\parallel.py:1792\u001B[0m, in \u001B[0;36mParallel._get_sequential_output\u001B[1;34m(self, iterable)\u001B[0m\n\u001B[0;32m   1790\u001B[0m \u001B[38;5;28mself\u001B[39m\u001B[38;5;241m.\u001B[39mn_dispatched_batches \u001B[38;5;241m+\u001B[39m\u001B[38;5;241m=\u001B[39m \u001B[38;5;241m1\u001B[39m\n\u001B[0;32m   1791\u001B[0m \u001B[38;5;28mself\u001B[39m\u001B[38;5;241m.\u001B[39mn_dispatched_tasks \u001B[38;5;241m+\u001B[39m\u001B[38;5;241m=\u001B[39m \u001B[38;5;241m1\u001B[39m\n\u001B[1;32m-> 1792\u001B[0m res \u001B[38;5;241m=\u001B[39m func(\u001B[38;5;241m*\u001B[39margs, \u001B[38;5;241m*\u001B[39m\u001B[38;5;241m*\u001B[39mkwargs)\n\u001B[0;32m   1793\u001B[0m \u001B[38;5;28mself\u001B[39m\u001B[38;5;241m.\u001B[39mn_completed_tasks \u001B[38;5;241m+\u001B[39m\u001B[38;5;241m=\u001B[39m \u001B[38;5;241m1\u001B[39m\n\u001B[0;32m   1794\u001B[0m \u001B[38;5;28mself\u001B[39m\u001B[38;5;241m.\u001B[39mprint_progress()\n",
      "File \u001B[1;32m~\\anaconda3\\envs\\parser\\Lib\\site-packages\\sklearn\\utils\\parallel.py:127\u001B[0m, in \u001B[0;36m_FuncWrapper.__call__\u001B[1;34m(self, *args, **kwargs)\u001B[0m\n\u001B[0;32m    125\u001B[0m     config \u001B[38;5;241m=\u001B[39m {}\n\u001B[0;32m    126\u001B[0m \u001B[38;5;28;01mwith\u001B[39;00m config_context(\u001B[38;5;241m*\u001B[39m\u001B[38;5;241m*\u001B[39mconfig):\n\u001B[1;32m--> 127\u001B[0m     \u001B[38;5;28;01mreturn\u001B[39;00m \u001B[38;5;28mself\u001B[39m\u001B[38;5;241m.\u001B[39mfunction(\u001B[38;5;241m*\u001B[39margs, \u001B[38;5;241m*\u001B[39m\u001B[38;5;241m*\u001B[39mkwargs)\n",
      "File \u001B[1;32m~\\anaconda3\\envs\\parser\\Lib\\site-packages\\sklearn\\multioutput.py:60\u001B[0m, in \u001B[0;36m_fit_estimator\u001B[1;34m(estimator, X, y, sample_weight, **fit_params)\u001B[0m\n\u001B[0;32m     58\u001B[0m     estimator\u001B[38;5;241m.\u001B[39mfit(X, y, sample_weight\u001B[38;5;241m=\u001B[39msample_weight, \u001B[38;5;241m*\u001B[39m\u001B[38;5;241m*\u001B[39mfit_params)\n\u001B[0;32m     59\u001B[0m \u001B[38;5;28;01melse\u001B[39;00m:\n\u001B[1;32m---> 60\u001B[0m     estimator\u001B[38;5;241m.\u001B[39mfit(X, y, \u001B[38;5;241m*\u001B[39m\u001B[38;5;241m*\u001B[39mfit_params)\n\u001B[0;32m     61\u001B[0m \u001B[38;5;28;01mreturn\u001B[39;00m estimator\n",
      "File \u001B[1;32m~\\anaconda3\\envs\\parser\\Lib\\site-packages\\sklearn\\base.py:1152\u001B[0m, in \u001B[0;36m_fit_context.<locals>.decorator.<locals>.wrapper\u001B[1;34m(estimator, *args, **kwargs)\u001B[0m\n\u001B[0;32m   1145\u001B[0m     estimator\u001B[38;5;241m.\u001B[39m_validate_params()\n\u001B[0;32m   1147\u001B[0m \u001B[38;5;28;01mwith\u001B[39;00m config_context(\n\u001B[0;32m   1148\u001B[0m     skip_parameter_validation\u001B[38;5;241m=\u001B[39m(\n\u001B[0;32m   1149\u001B[0m         prefer_skip_nested_validation \u001B[38;5;129;01mor\u001B[39;00m global_skip_validation\n\u001B[0;32m   1150\u001B[0m     )\n\u001B[0;32m   1151\u001B[0m ):\n\u001B[1;32m-> 1152\u001B[0m     \u001B[38;5;28;01mreturn\u001B[39;00m fit_method(estimator, \u001B[38;5;241m*\u001B[39margs, \u001B[38;5;241m*\u001B[39m\u001B[38;5;241m*\u001B[39mkwargs)\n",
      "File \u001B[1;32m~\\anaconda3\\envs\\parser\\Lib\\site-packages\\sklearn\\linear_model\\_logistic.py:1253\u001B[0m, in \u001B[0;36mLogisticRegression.fit\u001B[1;34m(self, X, y, sample_weight)\u001B[0m\n\u001B[0;32m   1251\u001B[0m classes_ \u001B[38;5;241m=\u001B[39m \u001B[38;5;28mself\u001B[39m\u001B[38;5;241m.\u001B[39mclasses_\n\u001B[0;32m   1252\u001B[0m \u001B[38;5;28;01mif\u001B[39;00m n_classes \u001B[38;5;241m<\u001B[39m \u001B[38;5;241m2\u001B[39m:\n\u001B[1;32m-> 1253\u001B[0m     \u001B[38;5;28;01mraise\u001B[39;00m \u001B[38;5;167;01mValueError\u001B[39;00m(\n\u001B[0;32m   1254\u001B[0m         \u001B[38;5;124m\"\u001B[39m\u001B[38;5;124mThis solver needs samples of at least 2 classes\u001B[39m\u001B[38;5;124m\"\u001B[39m\n\u001B[0;32m   1255\u001B[0m         \u001B[38;5;124m\"\u001B[39m\u001B[38;5;124m in the data, but the data contains only one\u001B[39m\u001B[38;5;124m\"\u001B[39m\n\u001B[0;32m   1256\u001B[0m         \u001B[38;5;124m\"\u001B[39m\u001B[38;5;124m class: \u001B[39m\u001B[38;5;132;01m%r\u001B[39;00m\u001B[38;5;124m\"\u001B[39m\n\u001B[0;32m   1257\u001B[0m         \u001B[38;5;241m%\u001B[39m classes_[\u001B[38;5;241m0\u001B[39m]\n\u001B[0;32m   1258\u001B[0m     )\n\u001B[0;32m   1260\u001B[0m \u001B[38;5;28;01mif\u001B[39;00m \u001B[38;5;28mlen\u001B[39m(\u001B[38;5;28mself\u001B[39m\u001B[38;5;241m.\u001B[39mclasses_) \u001B[38;5;241m==\u001B[39m \u001B[38;5;241m2\u001B[39m:\n\u001B[0;32m   1261\u001B[0m     n_classes \u001B[38;5;241m=\u001B[39m \u001B[38;5;241m1\u001B[39m\n",
      "\u001B[1;31mValueError\u001B[0m: This solver needs samples of at least 2 classes in the data, but the data contains only one class: 0"
     ]
    }
   ],
   "source": [
    "classifier = MultiOutputClassifier(LogisticRegression())\n",
    "classifier.fit(X_train_vec, y_train)"
   ],
   "metadata": {
    "collapsed": false,
    "ExecuteTime": {
     "end_time": "2023-11-26T21:21:36.506157800Z",
     "start_time": "2023-11-26T21:21:32.101212200Z"
    }
   },
   "id": "a2553be5acde0d94"
  },
  {
   "cell_type": "code",
   "execution_count": 154,
   "outputs": [
    {
     "data": {
      "text/plain": "        BibNum                                              Title  \\\n0      3479509     Franklin and Luna and the book of fairy tales    \n1      2737917                 Holiday dinners with Bradley Ogden   \n2      3359831          Cuzco, Machu Picchu & the Inca heartland    \n3      3298424                                   Sleeping Beauty    \n4      3203995                  How to escape from a leper colony   \n...        ...                                                ...   \n10244  2760306                                      Lover reborn    \n10245  2724228                              Experimental drawing    \n10246  3364815                The bad guys in Alien vs. Bad Guys    \n10247  3227571  English for everyone. Course book. Level 3 int...   \n10248  2128679                                     Jazz modernism   \n\n                                                Subtitle              Author  \\\n0                                                    NaN        Jen Campbell   \n1      150 festive recipes for bringing family & frie...       Bradley Ogden   \n2                                                    NaN  Robert Kunstaetter   \n3                                                    NaN      Cynthia Rylant   \n4                                 a novella and stories     Tiphanie Yanique   \n...                                                  ...                 ...   \n10244                                                NaN          J. R. Ward   \n10245                                                NaN     Robert Kaupelis   \n10246                                                NaN        Aaron Blabey   \n10247                                                NaN        Gill Johnson   \n10248  from Ellington and Armstrong to Matisse and Jo...        Alfred Appel   \n\n           ISBN10        ISBN13  PublicationYear             Publisher  \\\n0      0500651752  9.780501e+12           2019.0         thames hudson   \n1      0762439157  9.780762e+12           2011.0               running   \n2      1911082256  9.781911e+12           2017.0             footprint   \n3      1423121082  9.781423e+12           2015.0       disney hyperion   \n4      155597550X  9.781556e+12           2010.0              graywolf   \n...           ...           ...              ...                   ...   \n10244  0451235843  9.780451e+12           2012.0  new american library   \n10245  0823016188  9.780823e+12           1980.0        watson guptill   \n10246  133818959X  9.781338e+12           2018.0            scholastic   \n10247  1465447636  9.781465e+12           2016.0                    dk   \n10248  0394533933           NaN           2002.0                 knopf   \n\n                                                Subjects ItemType  \\\n0      Dragons Juvenile fiction, Characters and chara...     jcbk   \n1                               Cooking, Holiday cooking     acbk   \n2      Peru Guidebooks, Cuzco Peru Guidebooks, Machu ...     acbk   \n3      Sleeping Beauty Tale Juvenile literature, Folk...     jcbk   \n4      United States Virgin Islands Fiction, Short st...     acbk   \n...                                                  ...      ...   \n10244  Vampires Fiction, Paranormal romance stories, ...     acbk   \n10245      Drawing Study and teaching, Drawing Technique     acbk   \n10246  Extraterrestrial beings Juvenile fiction, Kidn...     jcbk   \n10247  English language Self instruction, English lan...     bcbk   \n10248  Jazz History and criticism, Music and literatu...     acbk   \n\n      ItemCollection ItemLocation  ReportDate  ItemCount  \n0              ncnew          net  03/01/2020          1  \n1               nanf          swt  12/01/2020          1  \n2               nanf          wts  03/01/2020          1  \n3              ncfft          mag  11/01/2020          1  \n4              cafic          cen  05/01/2020          1  \n...              ...          ...         ...        ...  \n10244          nafic          dlr  10/01/2020          1  \n10245           nanf          rbe  09/01/2020          1  \n10246           ncef          glk  10/01/2020          1  \n10247         naesli          col  03/01/2020          1  \n10248           canf          cen  08/01/2020          1  \n\n[10249 rows x 14 columns]",
      "text/html": "<div>\n<style scoped>\n    .dataframe tbody tr th:only-of-type {\n        vertical-align: middle;\n    }\n\n    .dataframe tbody tr th {\n        vertical-align: top;\n    }\n\n    .dataframe thead th {\n        text-align: right;\n    }\n</style>\n<table border=\"1\" class=\"dataframe\">\n  <thead>\n    <tr style=\"text-align: right;\">\n      <th></th>\n      <th>BibNum</th>\n      <th>Title</th>\n      <th>Subtitle</th>\n      <th>Author</th>\n      <th>ISBN10</th>\n      <th>ISBN13</th>\n      <th>PublicationYear</th>\n      <th>Publisher</th>\n      <th>Subjects</th>\n      <th>ItemType</th>\n      <th>ItemCollection</th>\n      <th>ItemLocation</th>\n      <th>ReportDate</th>\n      <th>ItemCount</th>\n    </tr>\n  </thead>\n  <tbody>\n    <tr>\n      <th>0</th>\n      <td>3479509</td>\n      <td>Franklin and Luna and the book of fairy tales</td>\n      <td>NaN</td>\n      <td>Jen Campbell</td>\n      <td>0500651752</td>\n      <td>9.780501e+12</td>\n      <td>2019.0</td>\n      <td>thames hudson</td>\n      <td>Dragons Juvenile fiction, Characters and chara...</td>\n      <td>jcbk</td>\n      <td>ncnew</td>\n      <td>net</td>\n      <td>03/01/2020</td>\n      <td>1</td>\n    </tr>\n    <tr>\n      <th>1</th>\n      <td>2737917</td>\n      <td>Holiday dinners with Bradley Ogden</td>\n      <td>150 festive recipes for bringing family &amp; frie...</td>\n      <td>Bradley Ogden</td>\n      <td>0762439157</td>\n      <td>9.780762e+12</td>\n      <td>2011.0</td>\n      <td>running</td>\n      <td>Cooking, Holiday cooking</td>\n      <td>acbk</td>\n      <td>nanf</td>\n      <td>swt</td>\n      <td>12/01/2020</td>\n      <td>1</td>\n    </tr>\n    <tr>\n      <th>2</th>\n      <td>3359831</td>\n      <td>Cuzco, Machu Picchu &amp; the Inca heartland</td>\n      <td>NaN</td>\n      <td>Robert Kunstaetter</td>\n      <td>1911082256</td>\n      <td>9.781911e+12</td>\n      <td>2017.0</td>\n      <td>footprint</td>\n      <td>Peru Guidebooks, Cuzco Peru Guidebooks, Machu ...</td>\n      <td>acbk</td>\n      <td>nanf</td>\n      <td>wts</td>\n      <td>03/01/2020</td>\n      <td>1</td>\n    </tr>\n    <tr>\n      <th>3</th>\n      <td>3298424</td>\n      <td>Sleeping Beauty</td>\n      <td>NaN</td>\n      <td>Cynthia Rylant</td>\n      <td>1423121082</td>\n      <td>9.781423e+12</td>\n      <td>2015.0</td>\n      <td>disney hyperion</td>\n      <td>Sleeping Beauty Tale Juvenile literature, Folk...</td>\n      <td>jcbk</td>\n      <td>ncfft</td>\n      <td>mag</td>\n      <td>11/01/2020</td>\n      <td>1</td>\n    </tr>\n    <tr>\n      <th>4</th>\n      <td>3203995</td>\n      <td>How to escape from a leper colony</td>\n      <td>a novella and stories</td>\n      <td>Tiphanie Yanique</td>\n      <td>155597550X</td>\n      <td>9.781556e+12</td>\n      <td>2010.0</td>\n      <td>graywolf</td>\n      <td>United States Virgin Islands Fiction, Short st...</td>\n      <td>acbk</td>\n      <td>cafic</td>\n      <td>cen</td>\n      <td>05/01/2020</td>\n      <td>1</td>\n    </tr>\n    <tr>\n      <th>...</th>\n      <td>...</td>\n      <td>...</td>\n      <td>...</td>\n      <td>...</td>\n      <td>...</td>\n      <td>...</td>\n      <td>...</td>\n      <td>...</td>\n      <td>...</td>\n      <td>...</td>\n      <td>...</td>\n      <td>...</td>\n      <td>...</td>\n      <td>...</td>\n    </tr>\n    <tr>\n      <th>10244</th>\n      <td>2760306</td>\n      <td>Lover reborn</td>\n      <td>NaN</td>\n      <td>J. R. Ward</td>\n      <td>0451235843</td>\n      <td>9.780451e+12</td>\n      <td>2012.0</td>\n      <td>new american library</td>\n      <td>Vampires Fiction, Paranormal romance stories, ...</td>\n      <td>acbk</td>\n      <td>nafic</td>\n      <td>dlr</td>\n      <td>10/01/2020</td>\n      <td>1</td>\n    </tr>\n    <tr>\n      <th>10245</th>\n      <td>2724228</td>\n      <td>Experimental drawing</td>\n      <td>NaN</td>\n      <td>Robert Kaupelis</td>\n      <td>0823016188</td>\n      <td>9.780823e+12</td>\n      <td>1980.0</td>\n      <td>watson guptill</td>\n      <td>Drawing Study and teaching, Drawing Technique</td>\n      <td>acbk</td>\n      <td>nanf</td>\n      <td>rbe</td>\n      <td>09/01/2020</td>\n      <td>1</td>\n    </tr>\n    <tr>\n      <th>10246</th>\n      <td>3364815</td>\n      <td>The bad guys in Alien vs. Bad Guys</td>\n      <td>NaN</td>\n      <td>Aaron Blabey</td>\n      <td>133818959X</td>\n      <td>9.781338e+12</td>\n      <td>2018.0</td>\n      <td>scholastic</td>\n      <td>Extraterrestrial beings Juvenile fiction, Kidn...</td>\n      <td>jcbk</td>\n      <td>ncef</td>\n      <td>glk</td>\n      <td>10/01/2020</td>\n      <td>1</td>\n    </tr>\n    <tr>\n      <th>10247</th>\n      <td>3227571</td>\n      <td>English for everyone. Course book. Level 3 int...</td>\n      <td>NaN</td>\n      <td>Gill Johnson</td>\n      <td>1465447636</td>\n      <td>9.781465e+12</td>\n      <td>2016.0</td>\n      <td>dk</td>\n      <td>English language Self instruction, English lan...</td>\n      <td>bcbk</td>\n      <td>naesli</td>\n      <td>col</td>\n      <td>03/01/2020</td>\n      <td>1</td>\n    </tr>\n    <tr>\n      <th>10248</th>\n      <td>2128679</td>\n      <td>Jazz modernism</td>\n      <td>from Ellington and Armstrong to Matisse and Jo...</td>\n      <td>Alfred Appel</td>\n      <td>0394533933</td>\n      <td>NaN</td>\n      <td>2002.0</td>\n      <td>knopf</td>\n      <td>Jazz History and criticism, Music and literatu...</td>\n      <td>acbk</td>\n      <td>canf</td>\n      <td>cen</td>\n      <td>08/01/2020</td>\n      <td>1</td>\n    </tr>\n  </tbody>\n</table>\n<p>10249 rows × 14 columns</p>\n</div>"
     },
     "execution_count": 154,
     "metadata": {},
     "output_type": "execute_result"
    }
   ],
   "source": [
    "books_4 = pd.read_csv('clean1.csv')\n",
    "books_4"
   ],
   "metadata": {
    "collapsed": false,
    "ExecuteTime": {
     "end_time": "2023-11-26T23:08:56.446856700Z",
     "start_time": "2023-11-26T23:08:56.292343Z"
    }
   },
   "id": "a9ab1508e0d787d6"
  },
  {
   "cell_type": "code",
   "execution_count": 156,
   "outputs": [
    {
     "data": {
      "text/plain": "BibNum                0\nTitle                 0\nSubtitle           5825\nAuthor              329\nISBN10               31\nISBN13             1498\nPublicationYear       1\nPublisher            21\nSubjects             94\nItemType              0\nItemCollection        0\nItemLocation          0\nReportDate            0\nItemCount             0\ndtype: int64"
     },
     "execution_count": 156,
     "metadata": {},
     "output_type": "execute_result"
    }
   ],
   "source": [
    "books_4.isna().sum()"
   ],
   "metadata": {
    "collapsed": false,
    "ExecuteTime": {
     "end_time": "2023-11-26T23:12:01.202784200Z",
     "start_time": "2023-11-26T23:12:01.168554200Z"
    }
   },
   "id": "203ccf625c201342"
  },
  {
   "cell_type": "code",
   "execution_count": 157,
   "outputs": [
    {
     "data": {
      "text/plain": "Subjects\nShort stories                                                                                                                                                                             27\nCooking, Cookbooks                                                                                                                                                                        17\nPoetry                                                                                                                                                                                     9\nFantasy                                                                                                                                                                                    8\nScience fiction                                                                                                                                                                            8\n                                                                                                                                                                                          ..\nAstor Brooke, Socialites New York State New York Biography, Philanthropists New York State New York Biography, New York N Y Biography                                                      1\nCake Juvenile fiction, Fathers and daughters Juvenile fiction, Families Juvenile fiction, Readers Publications                                                                             1\nSnakes Juvenile literature, Reptiles Juvenile literature                                                                                                                                   1\nTeenage girls Comic books strips etc, High school students Comic books strips etc, High schools Comic books strips etc, Interpersonal relations Comic books strips etc, Graphic novels     1\nJazz History and criticism, Music and literature History 20th century, Art and music History 20th century                                                                                  1\nName: count, Length: 9603, dtype: int64"
     },
     "execution_count": 157,
     "metadata": {},
     "output_type": "execute_result"
    }
   ],
   "source": [
    "books_4.Subjects.value_counts()"
   ],
   "metadata": {
    "collapsed": false,
    "ExecuteTime": {
     "end_time": "2023-11-26T23:13:19.253769400Z",
     "start_time": "2023-11-26T23:13:19.209650600Z"
    }
   },
   "id": "97d8c53c28d768f0"
  },
  {
   "cell_type": "code",
   "execution_count": 158,
   "outputs": [
    {
     "data": {
      "text/plain": "ItemCollection\nnanf       1764\ncanf       1613\nncpic       852\nnafic       697\nncnf        513\n           ... \ncaesli        1\ncs9go         1\ncclpfic       1\ncass          1\nnclp          1\nName: count, Length: 122, dtype: int64"
     },
     "execution_count": 158,
     "metadata": {},
     "output_type": "execute_result"
    }
   ],
   "source": [
    "books_4.ItemCollection.value_counts()"
   ],
   "metadata": {
    "collapsed": false,
    "ExecuteTime": {
     "end_time": "2023-11-26T23:18:49.934627600Z",
     "start_time": "2023-11-26T23:18:49.836086600Z"
    }
   },
   "id": "c875aa3083007ec4"
  },
  {
   "cell_type": "code",
   "execution_count": 159,
   "outputs": [
    {
     "data": {
      "text/plain": "count\n1    9478\n2     357\n3      15\n4       3\nName: count, dtype: int64"
     },
     "execution_count": 159,
     "metadata": {},
     "output_type": "execute_result"
    }
   ],
   "source": [
    "books_4['Title'].value_counts().value_counts()"
   ],
   "metadata": {
    "collapsed": false,
    "ExecuteTime": {
     "end_time": "2023-11-26T23:42:45.125095900Z",
     "start_time": "2023-11-26T23:42:45.029718300Z"
    }
   },
   "id": "159cb6f5b31e769a"
  },
  {
   "cell_type": "code",
   "execution_count": 160,
   "outputs": [
    {
     "data": {
      "text/plain": "count\n1     18\n2      9\n3      8\n4      6\n7      5\n      ..\n64     1\n63     1\n60     1\n49     1\n44     1\nName: count, Length: 66, dtype: int64"
     },
     "execution_count": 160,
     "metadata": {},
     "output_type": "execute_result"
    }
   ],
   "source": [
    "books_4['ItemCollection'].value_counts().value_counts()"
   ],
   "metadata": {
    "collapsed": false,
    "ExecuteTime": {
     "end_time": "2023-11-26T23:57:31.704587300Z",
     "start_time": "2023-11-26T23:57:31.527602900Z"
    }
   },
   "id": "72306d04dda78027"
  },
  {
   "cell_type": "code",
   "execution_count": 161,
   "outputs": [
    {
     "data": {
      "text/plain": "ItemCollection\nnanf       1764\ncanf       1613\nncpic       852\nnafic       697\nncnf        513\n           ... \ncaesli        1\ncs9go         1\ncclpfic       1\ncass          1\nnclp          1\nName: count, Length: 122, dtype: int64"
     },
     "execution_count": 161,
     "metadata": {},
     "output_type": "execute_result"
    }
   ],
   "source": [
    "books_4['ItemCollection'].value_counts()"
   ],
   "metadata": {
    "collapsed": false,
    "ExecuteTime": {
     "end_time": "2023-11-26T23:57:58.380857200Z",
     "start_time": "2023-11-26T23:57:58.336287500Z"
    }
   },
   "id": "11676ee1f8e60215"
  },
  {
   "cell_type": "code",
   "execution_count": 165,
   "outputs": [],
   "source": [
    "all_subjects = []\n",
    "def find_all_subjects(text):\n",
    "    if pd.notna(text):\n",
    "        for t in text.split(', '):\n",
    "            all_subjects.append(t.strip())"
   ],
   "metadata": {
    "collapsed": false,
    "ExecuteTime": {
     "end_time": "2023-11-27T00:07:31.726478300Z",
     "start_time": "2023-11-27T00:07:31.701969600Z"
    }
   },
   "id": "ee9ef15198e4a7b4"
  },
  {
   "cell_type": "code",
   "execution_count": 163,
   "outputs": [],
   "source": [
    "books_4['Subjects'] = books_4['Subjects'].astype('string')"
   ],
   "metadata": {
    "collapsed": false,
    "ExecuteTime": {
     "end_time": "2023-11-27T00:06:57.423420100Z",
     "start_time": "2023-11-27T00:06:57.295174300Z"
    }
   },
   "id": "34cd054c73d26bba"
  },
  {
   "cell_type": "code",
   "execution_count": 166,
   "outputs": [
    {
     "data": {
      "text/plain": "['Dragons Juvenile fiction',\n 'Characters and characteristics in literature Juvenile fiction',\n 'Surprise birthday parties Juvenile fiction',\n 'Books and reading Juvenile fiction',\n 'Cooking',\n 'Holiday cooking',\n 'Peru Guidebooks',\n 'Cuzco Peru Guidebooks',\n 'Machu Picchu Site Peru Guidebooks',\n 'Sleeping Beauty Tale Juvenile literature',\n 'Folklore Germany Juvenile literature',\n 'Fairy tales Adaptations Juvenile literature',\n 'Fairy tales',\n 'Folklore',\n 'United States Virgin Islands Fiction',\n 'Short stories',\n 'Interpersonal communication',\n 'Interpersonal relations',\n 'Mental illness',\n 'Psychology Pathological',\n 'Coaching Athletics',\n 'Basketball coaches United States',\n 'Football coaches United States',\n 'Aquaman Fictitious character Comic books strips etc',\n 'Superheroes Comic books strips etc',\n 'Superhero comics',\n 'Comics Graphic works',\n 'Graphic novels',\n 'Ram Dass',\n 'Spiritual life',\n 'New Age movement',\n 'Lynley Thomas Fiction',\n 'Havers Barbara Fictitious character Fiction',\n 'Police England Fiction',\n 'Murder Investigation Fiction',\n 'London England Fiction',\n 'Mystery fiction',\n 'New Zealand History',\n 'New Zealand Description and travel',\n 'Stinkbugs Juvenile fiction',\n 'Honeybee Juvenile fiction',\n 'Odors Juvenile fiction',\n 'Self confidence Juvenile fiction',\n 'Stinkbugs Fiction',\n 'Honeybee Fiction',\n 'Bees Fiction',\n 'Odors Fiction',\n 'Self confidence Fiction',\n 'Picture books',\n 'Shakespeare William 1564 1616 Romeo and Juliet Examinations Study guides',\n 'Tragedy Examinations Study guides',\n 'Macbeth King of Scotland active 11th century Juvenile literature',\n 'Shakespeare William 1564 1616 Adaptations Juvenile literature',\n 'Botany Dictionaries',\n 'Dinosaurs Juvenile fiction',\n 'Nursery schools Juvenile fiction',\n 'Schools Juvenile fiction',\n 'Humorous stories',\n 'Humorous fiction',\n 'Building Juvenile fiction',\n 'Beavers Habitations Juvenile fiction',\n 'House construction Juvenile fiction',\n 'Beavers Juvenile fiction',\n 'Loggers Juvenile fiction',\n 'Friendship Fiction',\n 'Tehran Iran Social conditions 21st century',\n 'Tehran Iran Social life and customs 21st century',\n 'Economic history 1945',\n 'United States Economic conditions 1945',\n 'United States Economic policy',\n 'Monsters Juvenile fiction',\n 'Blessing and cursing Juvenile fiction',\n 'Boarding schools Juvenile fiction',\n 'Schools Juvenile fiction',\n 'Mystery and detective stories',\n 'Reading Primary Juvenile literature',\n 'Reading readiness Juvenile literature',\n 'English language Study and teaching Primary Juvenile literature',\n 'Reading Primary Whole word method Juvenile literature',\n 'Phonetics Study and teaching Primary Juvenile literature',\n 'Vocabulary Juvenile literature',\n 'Readers Primary',\n 'Game theory',\n 'Strategic planning',\n 'Strategy',\n 'Love stories',\n 'Erotic fiction',\n 'Christmas fiction',\n 'Rabbits Juvenile fiction',\n 'Beaches Juvenile fiction',\n 'New York N Y History',\n 'New York N Y History Pictorial works',\n 'Multiverse History',\n 'Brothers Fiction',\n 'Ireland Fiction',\n 'Ghost stories',\n 'Young adult fiction',\n 'Theft Juvenile fiction',\n 'Painting Juvenile fiction',\n 'Stealing Fiction',\n 'Mutesi Phiona',\n 'Women chess players Uganda Kampala Biography',\n 'Religious leaders Fiction',\n 'Miracles Fiction',\n 'Faith Fiction',\n 'Hagiography Fiction',\n 'Albuquerque N M Fiction',\n 'Religious fiction',\n 'Secrecy Juvenile fiction',\n 'Identity Philosophical concept Juvenile fiction',\n 'Fathers and daughters Juvenile fiction',\n 'Single parent families Juvenile fiction',\n 'High schools Juvenile fiction',\n 'Schools Juvenile fiction',\n 'Young adult fiction',\n 'Funeral rites and ceremonies United States',\n 'African Americans Funeral customs and rites',\n 'African Americans Social life and customs',\n 'Undertakers and undertaking United States',\n 'United States Social life and customs',\n 'Jesus Christ Historicity',\n 'Forgiveness Juvenile fiction',\n 'Grandmothers Juvenile fiction',\n 'Picture books',\n 'Wetherall Tyler 1983',\n 'Children of criminals United States Biography',\n 'Fathers and daughters United States Biography',\n 'Fugitives from justice Family relationships United States',\n 'Women authors American Biography',\n 'Plato Influence',\n 'Philosophy History 21st century',\n 'Imaginary conversations',\n 'DisplayWrite 4 Computer file',\n 'Word processing',\n 'Kindergarten Juvenile fiction',\n 'Schools Juvenile fiction',\n 'Friendship Juvenile fiction',\n 'Imitation Juvenile fiction',\n 'Kindergarten Fiction',\n 'Schools Fiction',\n 'Friendship Fiction',\n 'Readers Publications',\n 'Harp Clint',\n 'Cabinetmakers United States Biography',\n 'Furniture making Anecdotes',\n 'Fairy tales',\n 'Characters in literature Fiction',\n 'Magic Fiction',\n 'Brothers and sisters Fiction',\n 'Twins Juvenile fiction',\n 'Bible Old Testament History of Biblical events Fiction',\n 'Christian fiction',\n 'Historical fiction',\n 'Bible fiction',\n 'Meditation Buddhism',\n 'Spiritual life Buddhism',\n 'Compassion Religious aspects Buddhism',\n 'Buddhism China Tibet Autonomous Region',\n 'Fiction Authorship',\n 'Fiction Technique',\n 'Creative writing',\n 'Plots Drama novel etc',\n 'United States History War of 1812',\n 'African American women Fiction',\n 'Women spies Fiction',\n 'Secret service Fiction',\n 'Man woman relationships Fiction',\n 'United States History Civil War 1861 1865 Participation Female Fiction',\n 'Spy fiction',\n 'Romance fiction',\n 'Historical fiction',\n 'School field trips Juvenile fiction',\n 'Bus drivers Juvenile fiction',\n 'Yeti Juvenile fiction',\n 'Humorous stories',\n 'Morrison Toni Quotations',\n 'Self actualization Psychology Quotations',\n 'Quotations',\n 'Reconstruction U S history 1865 1877 Juvenile literature',\n 'United States History 1865 1898 Juvenile literature',\n 'United States Social conditions 1865 1918 Juvenile literature',\n 'Building Juvenile fiction',\n 'Construction equipment Juvenile fiction',\n 'Construction workers Juvenile fiction',\n 'Picture books',\n 'Dating Social customs Juvenile fiction',\n 'Interpersonal relations Juvenile fiction',\n 'Dating Social customs Fiction',\n 'Interpersonal relations Fiction',\n 'Romance fiction',\n 'Big bang theory Juvenile literature',\n 'Big bang theory',\n 'Picture books',\n 'Corporations Corrupt practices',\n 'Bribery',\n 'Kasich John',\n 'Presidents United States Election 2016',\n 'Presidential candidates United States Biography',\n 'United States Politics and government 2009',\n 'Autobiographies',\n 'Dartmoor Prison Fiction',\n 'Napoleonic Wars 1800 1815 Participation American Fiction',\n 'Great Britain History 1800 1837 Fiction',\n 'Historical fiction',\n 'Moorjani Anita 1959 Health',\n 'Cancer Patients Biography',\n 'Cancer Psychological aspects',\n 'Plants Juvenile fiction',\n 'Galapagos Islands Juvenile fiction',\n 'Introduced organisms Juvenile fiction',\n 'Plants Fiction',\n 'Galapagos Islands Fiction',\n 'Daye October Fictitious character Fiction',\n 'Fairies Fiction',\n 'Debt Fiction',\n 'Murder Fiction',\n 'Selkies Fiction',\n 'Fantasy fiction',\n 'Fantasy fiction',\n 'Paranormal fiction',\n 'Husband and wife Fiction',\n 'Paramours Fiction',\n 'Romance fiction',\n 'Love stories',\n 'Animals Mythical Juvenile literature',\n 'Alphabet books',\n 'Alphabet',\n 'Picture books',\n 'Serial murder investigation Fiction',\n 'Mystery fiction',\n 'Young businesspeople Juvenile fiction',\n 'Contests Juvenile fiction',\n 'Inventors Juvenile fiction',\n 'Dogs Juvenile fiction',\n 'Human animal relationships Juvenile fiction',\n 'Humorous fiction',\n 'Dredd Judge Fictitious character Comic books strips etc',\n 'Science fiction comics',\n 'Graphic novels',\n 'Comics Graphic works',\n 'Adventure and adventurers Fiction',\n 'Minecraft Game Juvenile fiction',\n 'Video games Juvenile fiction',\n 'Landscape photography West U S Exhibitions',\n 'West U S History Exhibitions',\n 'Moon Juvenile poetry',\n 'Volvo automobile Maintenance and repair Handbooks manuals etc',\n 'Mudgett Herman W 1861 1896 Fiction',\n 'Worlds Columbian Exposition 1893 Chicago Ill Fiction',\n 'Kidnapping Investigation Fiction',\n 'Chicago Ill History 19th century Fiction',\n 'Detective and mystery fiction',\n 'Historical fiction',\n 'Christian fiction',\n 'Industrial management',\n 'Integrity',\n 'Conformity',\n 'Employee empowerment',\n 'Organizational effectiveness',\n 'Distress Psychology Juvenile fiction',\n 'Anxiety Juvenile fiction',\n 'Worry Juvenile fiction',\n 'Emotional intelligence Juvenile fiction',\n 'Boats and boating Juvenile fiction',\n 'Picture books',\n 'Nova Scotia Genealogy Handbooks manuals etc',\n 'Dog adoption Juvenile fiction',\n 'Animal shelters Juvenile fiction',\n 'Dogs Fiction',\n 'Animals Infancy Juvenile fiction',\n 'Christmas Fiction',\n 'English language Textbooks for foreign speakers',\n 'English language Grammar',\n 'English language Grammar Problems exercises etc',\n 'Platt John A',\n 'Frontier and pioneer life Idaho',\n 'Genesee Idaho History',\n 'Salmon River Valley Idaho History',\n 'Imaginary places Fiction',\n 'Magic Fiction',\n 'Library shelving Fiction',\n 'Man woman relationships Fiction',\n 'Seas Fiction',\n 'Rare books Fiction',\n 'Graduate students Fiction',\n 'Vermont Fiction',\n 'Large type books',\n 'Fantasy fiction',\n 'Romance fiction',\n 'Hudson River school of landscape painting',\n 'Landscape painting American Hudson River Valley N Y and N J',\n 'Landscape painting American Hudson River Valley N Y and N J 19th century',\n 'Hudson River Valley N Y and N J In art',\n 'Meditation Buddhism',\n 'Zen Buddhism Doctrines',\n 'Loggerhead turtle Juvenile literature',\n 'Turtles',\n 'Boyle Greg',\n 'Church work with juvenile delinquents California East Los Angeles',\n 'Christian life Anecdotes',\n 'Cartographers Fiction',\n 'Inquisition Spain Fiction',\n 'Voyages and travels Fiction',\n 'Spain History 711 1516 Fiction',\n 'Fantasy fiction',\n 'Historical fiction',\n 'Imagination Juvenile fiction',\n 'Books and reading Juvenile fiction',\n 'Stories without words',\n 'Beer',\n 'Beer tasting',\n 'SAT Educational test Study guides',\n 'Universities and colleges United States Entrance examinations Study guides',\n 'College entrance achievement tests Study guides',\n 'Study guides',\n 'Examinations',\n 'Dragons Juvenile fiction',\n 'Individuality Juvenile fiction',\n 'Self acceptance Juvenile fiction',\n 'Florida Guidebooks',\n 'Gods Comic books strips etc',\n 'Man woman relationships Comic books strips etc',\n 'Human sacrifice Comic books strips etc',\n 'Fantasy comics',\n 'Romance comics',\n 'Graphic novels',\n 'Vowell Sarah 1969 Anecdotes',\n 'National characteristics American Anecdotes',\n 'United States History Anecdotes',\n 'United States Politics and government Anecdotes',\n 'United States Description and travel Anecdotes',\n 'Mystery fiction',\n 'Peace Juvenile fiction',\n 'Stories in rhyme Juvenile fiction',\n 'Individuality Juvenile literature',\n 'Personality Juvenile literature',\n 'Culture Juvenile literature',\n 'Population Juvenile literature',\n 'Handler Chelsea Travel Humor',\n 'Travel Humor',\n 'Animals Juvenile fiction',\n 'Rain and rainfall Juvenile fiction',\n 'Hydrologic cycle Juvenile fiction',\n 'Water Juvenile fiction',\n 'Counting Juvenile fiction',\n 'Trees Juvenile fiction',\n 'Christmas stories',\n 'Forest animals Juvenile fiction',\n 'Christmas Fiction',\n 'Picture books',\n 'Worlds Columbian Exposition 1893 Chicago Ill Juvenile fiction',\n 'Serial murderers Juvenile fiction',\n 'Chicago Ill History 19th century Juvenile fiction',\n 'Mystery and detective stories',\n 'Young adult fiction',\n 'Oracle Team USA',\n 'Americas Cup 34th 2013 San Francisco Calif',\n 'Grandmothers Juvenile fiction',\n 'Baking Juvenile fiction',\n 'Storytelling Juvenile fiction',\n 'Old age Fiction',\n 'African Americans Juvenile fiction',\n 'Jonson Ben 1573 1637 Criticism and interpretation',\n 'English poetry Early modern 1500 1700',\n 'English poetry Early modern 1500 1700 History and criticism',\n 'Royalists Great Britain',\n 'Motion pictures American Germany History 20th century',\n 'Motion picture industry Germany History 20th century',\n 'Motion picture industry United States History 20th century',\n 'National socialism and motion pictures',\n 'Germany Civilization American influences',\n 'Crow Fictitious character Comic books strips etc',\n 'Horror comics',\n 'Paranormal fiction',\n 'Graphic novels',\n 'Occult fiction',\n 'Vietnam',\n 'Vietnam Description and travel',\n 'Friendship Fiction',\n 'Kindergarten Juvenile fiction',\n 'Schools Fiction',\n 'Dr John 1941 2019',\n 'Rock musicians United States Biography',\n 'Interplanetary voyages Fiction',\n 'Good and evil Fiction',\n 'Science fiction',\n 'Hamsters Juvenile fiction',\n 'Fireflies Juvenile fiction',\n 'Animals Juvenile fiction',\n 'Mystery and detective stories',\n 'Lost and found possessions Fiction',\n 'HAMSTERS Juvenile fiction',\n 'HAMSTERS Fiction',\n 'Suicide victims California San Francisco',\n 'Suicide California San Francisco',\n 'Golden Gate Bridge San Francisco Calif',\n 'Bertrand Carmela Fictitious character Fiction',\n 'Murder Investigation Fiction',\n 'New Orleans La Fiction',\n 'Jazz festivals Louisiana New Orleans Fiction',\n 'Detective and mystery fiction',\n 'Nutrition',\n 'Food industry and trade United States',\n 'Food industry and trade Political activity United States',\n 'Food habits United States',\n 'Food Composition',\n 'Jansen Cam Fictitious character Juvenile fiction',\n 'Theater Juvenile fiction',\n 'Schools Juvenile fiction',\n 'Mystery and detective stories',\n 'Imaginary places Fiction',\n 'Mothers and sons Fiction',\n 'Fantasy fiction',\n 'Psychological fiction',\n 'Captain Underpants Fictitious character Juvenile fiction',\n 'Schools Fiction',\n 'School principals Juvenile fiction',\n 'Heroes Juvenile fiction',\n 'Cartoons and comics',\n 'Humorous stories',\n 'Kashmir Saivism Doctrines Early works to 1800',\n 'Toad of Toad Hall Fictitious character Juvenile fiction',\n 'Moles Animals Juvenile fiction',\n 'Rats Juvenile fiction',\n 'Badgers Juvenile fiction',\n 'Toads Juvenile fiction',\n 'Animals Fiction',\n 'Country life England Juvenile fiction',\n 'Friendship Fiction',\n 'Jefferson Thomas 1743 1826 Quotations',\n 'Conduct of life Quotations maxims etc',\n 'Stilton Thea Juvenile fiction',\n 'Ice skating Fiction',\n 'Stealing Fiction',\n 'Mystery and detective stories',\n 'Mice Juvenile fiction',\n 'Skating Juvenile fiction',\n 'Contests Juvenile fiction',\n 'Theft Juvenile fiction',\n 'Sisters Juvenile fiction',\n 'Russia Federation Juvenile fiction',\n 'Animals Juvenile literature',\n 'Animals Encyclopedias Juvenile',\n 'Wally Fictitious character from Handford Juvenile fiction',\n 'Voyages and travels Juvenile fiction',\n 'Picture puzzles Juvenile fiction',\n 'Pressure cooking',\n 'One dish meals',\n 'Quick and easy cooking',\n 'Cooking',\n 'Smart cookers',\n 'Cookbooks',\n 'Raggedy Ann Fictitious character Juvenile fiction',\n 'Raggedy Andy Fictitious character Juvenile fiction',\n 'Friendship Juvenile fiction',\n 'Chickens Juvenile fiction',\n 'Hens Juvenile fiction',\n 'Love Fiction',\n 'Humorous stories',\n 'Oxen Juvenile fiction',\n 'Gazelles Juvenile fiction',\n 'Letters Juvenile fiction',\n 'Arabs Folklore',\n 'Folklore Arab countries',\n 'Fairy tales',\n 'Lane Liberty Fictitious character Fiction',\n 'Women private investigators Fiction',\n 'Murder Investigation England London Fiction',\n 'London England Social conditions 19th century Fiction',\n 'Historical fiction',\n 'Mystery fiction',\n 'United States Constitution Comic books strips etc',\n 'Constitutional history United States Comic books strips etc',\n 'Graphic novels',\n 'Nonfiction comics',\n 'Automobile travel Guidebooks Juvenile literature',\n 'Curiosities and wonders Guidebooks Juvenile literature',\n 'Toddlers Juvenile fiction',\n 'Thought and thinking Juvenile fiction',\n 'Humorous stories',\n 'Hussein Saddam 1937 2006',\n 'United States Army Special Forces',\n 'Iraq War 2003 2011',\n 'Women painters Ontario Toronto Fiction',\n 'Friendship Ontario Toronto Fiction',\n 'Girls Ontario Toronto Fiction',\n 'Toronto Ont Fiction',\n 'Psychological fiction',\n 'Braun Lilian Jackson Fiction',\n 'Humorous fiction',\n 'Detective and mystery fiction',\n 'Parodies Literature',\n 'Satirical literature',\n 'Space warfare Fiction',\n 'Imaginary wars and battles Fiction',\n 'Science fiction',\n 'Pirates Caribbean Area Fiction',\n 'Treasure troves Caribbean Area Fiction',\n 'Seafaring life Caribbean Sea Fiction',\n 'Readers Adult',\n 'Readers for new literates',\n 'High interest low vocabulary books',\n 'Reading comprehension Problems exercises etc',\n 'English language Textbooks for foreign speakers',\n 'Adventure fiction',\n 'Movie novels',\n 'Vampires Fiction',\n 'Man woman relationships Fiction',\n 'Paranormal romance stories',\n 'Slaves Comic books strips etc',\n 'Refugees Comic books strips etc',\n 'Interpersonal relations Comic books strips etc',\n 'Comics Graphic works',\n 'Graphic novels',\n 'Seamanship Handbooks manuals etc',\n 'Sailing Handbooks manuals etc',\n 'Compost',\n 'Kaiser Georg 1878 1945 Translations into English',\n 'Graham Lauren 1967',\n 'Actresses United States Biography',\n 'Earthquakes Juvenile literature',\n 'Schulman Andrew 1952',\n 'Guitarists United States Biography',\n 'Music therapists',\n 'Music therapy',\n 'Critical care medicine',\n 'Psychology Applied',\n 'Social psychology',\n 'Strangers',\n 'Trust',\n 'Conduct of life Miscellanea',\n 'Interpersonal relations Miscellanea',\n 'Large type books',\n 'Imagination Juvenile fiction',\n 'Rabbits Juvenile fiction',\n 'Brothers and sisters Juvenile fiction',\n 'Imagination Juvenile fiction',\n 'Jealousy Juvenile fiction',\n 'Humorous stories',\n 'Kings queens rulers etc Fiction',\n 'Babies Fiction',\n 'Picture books',\n 'Cavafy Constantine 1863 1933 Criticism and interpretation',\n 'Forster E M Edward Morgan 1879 1970 Criticism and interpretation',\n 'Durrell Lawrence Criticism and interpretation',\n 'Alexandria Egypt',\n 'Time travel Juvenile fiction',\n 'Magic Juvenile fiction',\n 'Selkies Juvenile fiction',\n 'Swords Juvenile fiction',\n 'Tree houses Juvenile fiction',\n 'Brothers and sisters Juvenile fiction',\n 'Houdini Harry 1874 1926 Juvenile literature',\n 'Escape artists United States Biography Juvenile literature',\n 'Magicians United States Biography Juvenile literature',\n 'Houdini Harry 1874 1926',\n 'Escape artists',\n 'Magicians',\n 'Biographies',\n 'Illustrated works',\n 'Sustainable living',\n 'Johnson Sirleaf Ellen 1938',\n 'Women presidents Liberia Biography',\n 'Presidents Liberia Biography',\n 'Liberia Politics and government 1980',\n 'Liberia Biography',\n 'Biographies',\n 'American wit and humor',\n 'Self actualization Psychology',\n 'Motivation Psychology',\n 'Pok‚mon Game Juvenile literature',\n 'Pok‚mon Fictitious characters Juvenile literature',\n 'Video games Juvenile literature',\n 'Bedtime Juvenile fiction',\n 'Fear of the dark Juvenile fiction',\n 'Monsters Juvenile fiction',\n 'Self reliance Juvenile fiction',\n 'Bierstadt Albert 1830 1902 Exhibitions',\n 'West U S In art Exhibitions',\n 'Mead History',\n 'Wine and wine making History',\n 'Gays Juvenile literature',\n 'Gay men Juvenile literature',\n 'Lesbians Juvenile literature',\n 'Bisexuals Juvenile literature',\n 'Asexual people Juvenile literature',\n 'Transgender people Juvenile literature',\n 'Gender identity Juvenile literature',\n 'Sexual minority youth Juvenile literature',\n 'East and West',\n 'Vienna Austria History Siege 1683',\n 'Turkey Foreign relations Europe',\n 'Europe Foreign relations Turkey',\n 'Europe Foreign relations 1648 1715',\n 'Cartography History',\n 'Cartography Social aspects',\n 'Diabetes Diet therapy Recipes',\n 'Cercopidae Canada',\n 'Insects Canada',\n 'Climatic changes Developing countries',\n 'Climatic changes Social aspects Developing countries',\n 'Climatic changes Government policy United States',\n 'Sustainable development International cooperation',\n 'Greenhouse gas mitigation Political aspects',\n 'Seattle Wash History',\n 'Seattle Wash History Pictorial works',\n 'Seattle Wash Social conditions',\n 'Knitting Patterns',\n 'Highlander Folk School Monteagle Tenn History',\n 'Adult education Tennessee History',\n 'Working class Education Tennessee History',\n 'Virus diseases Fiction',\n 'Survival Fiction',\n 'Wilderness survival Fiction',\n 'End of the world Fiction',\n 'Human experimentation in medicine Fiction',\n 'Vampires Fiction',\n 'Suspense fiction',\n 'Science fiction',\n 'Occult fiction',\n 'Fantasy fiction',\n 'Epic fiction',\n 'Community gardens Juvenile fiction',\n 'Gardening Juvenile fiction',\n 'Friendship Juvenile fiction',\n 'Readers Publications',\n 'Time travel Fiction',\n 'Time travel fiction',\n 'Science fiction',\n 'Precious stones',\n 'Gems',\n 'Jewelry',\n 'Reference works',\n 'Museums Israel',\n 'Stalag II B Comic books strips etc',\n 'World War 1939 1945 Prisoners and prisons German Comic books strips etc',\n 'World War 1939 1945 Personal narratives French Comic books strips etc',\n 'Prisoners of war France Biography Comic books strips etc',\n 'War stories',\n 'Graphic novels',\n 'Biographical comics',\n 'War comics',\n 'Historical comics',\n 'Nonfiction comics',\n 'Degas Edgar 1834 1917 Criticism and interpretation Juvenile literature',\n 'Paris France Social life and customs 19th century Juvenile literature',\n 'Women Fiction',\n 'Short stories',\n 'Hippopotamus Juvenile fiction',\n 'Friendship Fiction',\n 'Painters France',\n 'Painting French',\n 'Reading Primary Whole word method Juvenile literature',\n 'Phonetics Study and teaching Primary Juvenile literature',\n 'Vocabulary Juvenile literature',\n 'Foxes Juvenile fiction',\n 'Rabbits Juvenile fiction',\n 'Clothing and dress Juvenile fiction',\n 'Giants Comic books strips etc',\n 'Good and evil Comic books strips etc',\n 'Graphic novels',\n 'Science fiction comic books strips etc',\n 'Shrewsbury Anna Maria Brudenell Talbot Countess of 1642 1702',\n 'Villiers Elizabeth Countess of Orkney 1657 1733',\n 'Augusta Princess of Wales 1719 1772',\n 'Sutherland Harriet Elizabeth Georgiana Leveson Gower Duchess of 1806 1868',\n 'Astor Nancy Witcher Langhorne Astor Viscountess 1879 1964',\n 'Cliveden England History',\n 'Cliveden England Biography',\n 'Women England Biography',\n 'Nobility England Biography',\n 'Rich people England Biography',\n 'Biographies',\n 'Photography Fiction',\n 'Fathers and daughters Juvenile fiction',\n 'Friendship Fiction',\n 'New Hampshire Juvenile fiction',\n 'Amateur astronomy Observers manuals',\n 'Astronomy Amateurs manuals',\n 'Astronomy Observers manuals',\n 'Spouses Fiction',\n 'Divorced people Fiction',\n 'Married people Fiction',\n 'Man woman relationships Fiction',\n 'Authors Fiction',\n 'Thrillers Fiction',\n 'Psychological fiction',\n 'Worsley Henry',\n 'Explorers Great Britain Biography',\n 'Antarctica Discovery and exploration British',\n 'Biographies',\n 'Birthday parties Juvenile fiction',\n 'Friendship Juvenile fiction',\n 'Apologizing Juvenile fiction',\n 'Magic Juvenile fiction',\n 'Witches Juvenile fiction',\n 'Fossils Collection and preservation Antarctica Comic books strips etc',\n 'Scientific expeditions Comic books strips etc',\n 'Supernatural Comic books strips etc',\n 'Horror comics',\n 'Graphic novels',\n 'Fancy work',\n 'Handicraft',\n 'Christmas decorations',\n 'Fly tying',\n 'Poirot Hercule Fictitious character Fiction',\n 'Private investigators England Fiction',\n 'Mystery fiction',\n 'Short stories',\n 'Colors Juvenile fiction',\n 'Emotions Juvenile fiction',\n 'Moving Household Juvenile fiction',\n 'Turbans Juvenile fiction',\n 'Color Fiction',\n 'Picture books',\n 'Job satisfaction',\n 'Quality of work life',\n 'Vocational guidance',\n 'Hess Rudolf 1894 1987',\n 'Nazis Germany Biography',\n 'Families Comic books strips etc',\n 'Parent and child Comic books strips etc',\n 'Comics Graphic works',\n 'Humorous comics',\n 'Music Philosophy and aesthetics',\n 'Women heroes Folklore',\n 'Orphans Juvenile fiction',\n 'Brothers and sisters Fiction',\n 'Humorous stories',\n 'Cooking',\n 'Cookbooks',\n 'Peppa Pig Fictitious character Juvenile fiction',\n 'Wishes Juvenile fiction',\n 'Swine Juvenile fiction',\n 'Pigs Fiction',\n 'Christmas Fiction',\n 'Christmas stories',\n 'Schulz Charles M Charles Monroe 1922 2000',\n 'Schulz Charles M Charles Monroe 1922 2000 Peanuts',\n 'Cartoonists United States Biography',\n 'Presidents United States Biography Juvenile literature',\n 'Presidents United States Encyclopedias Juvenile',\n 'Presidents United States History Encyclopedias Juvenile',\n 'United States Politics and government Encyclopedias Juvenile',\n 'Baked Bakery',\n 'Baking',\n 'Desserts',\n 'Foxes Juvenile literature',\n 'Women pioneers West U S Biography',\n 'Overland journeys to the Pacific',\n 'Frontier and pioneer life West U S',\n 'West U S History',\n 'West U S Biography',\n 'Roland Fictitious character King Fiction',\n 'New York N Y Fiction',\n 'Maine Fiction',\n 'Fantasy fiction',\n 'Lopes Antonio Francisco Bonfim',\n 'Criminals Brazil Rio de Janeiro Biography',\n 'Drug dealers Brazil Rio de Janeiro Biography',\n 'Drug traffic Brazil Rio de Janeiro',\n 'Crime Brazil Rio de Janeiro',\n 'Kangaroos Juvenile fiction',\n 'Emotions Juvenile fiction',\n 'Sadness Juvenile fiction',\n 'Friendship Juvenile fiction',\n 'London England Fiction',\n 'Love stories',\n 'Historical fiction',\n 'Landscape painting Chinese',\n 'Fantasy',\n 'Geese Juvenile fiction',\n 'Conduct of life Fiction',\n 'Sweden Juvenile fiction',\n 'Married women Fiction',\n 'Single fathers Fiction',\n 'Teenagers Fiction',\n 'Domestic fiction',\n 'Economic assistance Africa',\n 'Poor Africa',\n 'Africa Economic conditions 21st century',\n 'Mythology Greek Miscellanea Juvenile literature',\n 'Gods Greek Miscellanea Juvenile literature',\n 'Greece Folklore Juvenile literature',\n 'McCullers Carson 1917 1967',\n 'Biographies',\n 'Authors American 20th century Biography',\n 'Substance abuse United States Prevention',\n 'Teenagers Drug use United States',\n 'Parenting United States',\n 'Parent and teenager United States',\n 'African American teenagers Fiction',\n 'Bereavement Fiction',\n 'High schools Fiction',\n 'Valentines Day Fiction',\n 'Romance fiction',\n 'Young adult fiction',\n 'African American women Fiction',\n 'Overweight women Fiction',\n 'Gangs Fiction',\n 'Street life Fiction',\n 'Urban fiction',\n 'Mental health Nutritional aspects',\n 'Intellect Nutritional aspects',\n 'Brain Diseases Prevention',\n 'Brain Aging Prevention',\n 'Cooking',\n 'Cookbooks',\n 'Coast Salish Indians Folklore',\n 'Skagit Indians Folklore',\n 'Indians of North America Washington State Folklore',\n 'Courtship History',\n 'Dating Social customs History',\n 'Sex customs History',\n 'Man woman relationships History',\n 'Murder Fiction',\n 'Rich people Fiction',\n 'Psychological fiction',\n 'Thrillers Fiction',\n 'Climatic changes Juvenile literature',\n 'Global warming Juvenile literature',\n 'Cats Comic books strips etc',\n 'Revenge Comic books strips etc',\n 'Cartoons and comics',\n 'Graphic novels',\n 'Travel Guidebooks',\n 'Wine and wine making Amateurs manuals',\n 'Mead Amateurs manuals',\n 'Moss Cynthia Juvenile literature',\n 'African elephant Kenya Amboseli National Park Juvenile literature',\n 'Amboseli National Park Kenya Juvenile literature',\n 'Polar bear Juvenile fiction',\n 'Environmental protection Juvenile fiction',\n 'Santa Claus Juvenile fiction',\n 'City and town life Fiction',\n 'College students Fiction',\n 'Young men Fiction',\n 'Pittsburgh Pa Fiction',\n 'Cooking American',\n 'Cooking Minnesota',\n 'Cookbooks',\n 'µlvarez de Toledo Luisa Isabel duquesa de Medina Sidonia 1936 2008',\n 'Political prisoners Spain Biography',\n 'Theseus King of Athens Juvenile literature',\n 'Gods Greek Juvenile literature',\n 'Goddesses Greek Juvenile literature',\n 'Mythology Greek Juvenile literature',\n 'Plot your own stories',\n 'Choose your own stories',\n 'Historical Records Survey U S',\n 'United States History Archival resources',\n 'World War 1939 1945 Denmark Juvenile fiction',\n 'World War 1939 1945 Jews Rescue Juvenile fiction',\n 'Friendship Juvenile fiction',\n 'Denmark Juvenile fiction',\n 'Garfield Fictitious character Comic books strips etc',\n 'Cats Comic books strips etc',\n 'Pets Comic books strips etc',\n 'Pet owners Comic books strips etc',\n 'Cartoons and comics',\n 'Humorous comics',\n 'Comics Graphic works',\n 'Graphic novels',\n 'Citizenship United States Examinations Study guides',\n 'Study guides',\n 'Animals Pictorial works',\n 'Wildlife photography',\n 'Violin makers United States Biography',\n 'Parent and child Juvenile fiction',\n 'Love Fiction',\n 'Foxes Juvenile fiction',\n 'Stories in rhyme Juvenile fiction',\n 'Cooking Scandinavian',\n 'Seasonal cooking Scandinavia',\n 'John Paul II Pope 1920 2005',\n 'Popes Biography',\n 'England Social life and customs 19th century Fiction',\n 'Historical fiction',\n 'Romance fiction',\n 'Regency fiction',\n 'World War 1939 1945 Great Britain Fiction',\n 'Intelligence officers Great Britain Fiction',\n 'Spy fiction',\n 'War fiction',\n 'Thrillers Fiction',\n 'Historical fiction',\n 'Carey Mariah',\n 'Singers United States Biography',\n 'Autobiographies',\n 'Delaney Sarah Booth Fictitious character Fiction',\n 'Women private investigators Fiction',\n 'Detective and mystery fiction',\n 'Women air pilots Biography Juvenile literature',\n 'Women air pilots History Juvenile literature',\n 'Women air pilots Juvenile literature',\n 'Christian women Religious life',\n 'Christian women Conduct of life',\n 'English language Etymology',\n 'English language Terms and phrases',\n 'Sailors Language',\n 'Luce Clare Boothe 1903 1987',\n 'Ambassadors United States Biography',\n 'Legislators United States Biography',\n 'Dramatists American 20th century Biography',\n 'Journalists United States Biography',\n 'Simonsen Konrad Fictitious character Fiction',\n 'Missing children Greenland Fiction',\n 'Murder Investigation Greenland Fiction',\n 'Police Greenland Fiction',\n 'Greenland Fiction',\n 'Detective and mystery fiction',\n 'Trees Fiction',\n 'Nature fiction',\n 'Canada Guidebooks',\n 'Canada Description and travel',\n 'Guidebooks',\n 'Mythology Norse Juvenile fiction',\n 'Short stories',\n 'Mythological fiction',\n 'Folklore France Juvenile literature',\n 'Fairy tales',\n 'Fairy tales',\n 'Cross Phil 1942',\n 'Motorcyclists California Biography',\n 'Motorcycle clubs California',\n 'Motorcycle gangs California',\n 'Container gardening',\n 'Enterprise Imaginary space vehicle Comic books strips etc',\n 'Space ships Comic books strips etc',\n 'Space and time Comic books strips etc',\n 'Interplanetary voyages Comic books strips etc',\n 'Science fiction comics',\n 'Graphic novels',\n 'Chernobyl Nuclear Accident Chornobyl Ukraine 1986',\n 'Nuclear power plants Accidents Ukraine Chornobyl',\n 'Boucicaut Master active 15th century',\n 'Berry Jean de France duc de 1340 1416',\n 'Folklore Africa Juvenile literature',\n 'Foxes Juvenile fiction',\n 'Chickens Juvenile fiction',\n 'Counting Juvenile fiction',\n 'Picture books',\n 'Critical theory',\n 'Negativity Philosophy',\n 'Emotions Social aspects',\n 'Neoliberalism',\n 'Feminist theory',\n 'Advice columnists Fiction',\n 'Female friendship Fiction',\n 'World War 1939 1945 England London Fiction',\n 'Historical fiction',\n 'Large type books',\n 'Hispanic American women Employment',\n 'Hispanic American women in the professions',\n 'Success in business',\n 'Hispanic American women Social conditions',\n 'Pacifists Biography',\n 'Political activists Biography',\n 'Wolverine Fictitious character Comic books strips etc',\n 'X Men Fictitious characters Comic books strips etc',\n 'Superheroes Comic books strips etc',\n 'Mutation Biology Comic books strips etc',\n 'Comic books strips etc',\n 'Superhero comic books strips etc',\n 'Science fiction comic books strips etc',\n 'Graphic novels',\n 'Architecture History Juvenile literature',\n 'Picture puzzles Juvenile literature',\n 'Architecture',\n 'Picture puzzles',\n 'Cats in art',\n 'Drawing Technique',\n 'ART Subjects Themes Plants Animals',\n 'ART Techniques Drawing',\n 'ART Techniques Pencil Drawing',\n 'Elephants Fiction',\n 'Parent and child Fiction',\n 'Love Fiction',\n 'Stories in rhyme',\n 'Communism Soviet Union History Juvenile literature',\n 'Communism Soviet Union Juvenile literature',\n 'Soviet Union Politics and government 1985 1991 Juvenile literature',\n 'Soviet Union History Juvenile literature',\n 'Bamboo',\n 'Ornamental grasses',\n 'United States Navy SEALs Task Unit Bruiser',\n 'United States Navy SEALs Officers Biography',\n 'Iraq War 2003 2011 Campaigns Iraq Anbar Province',\n 'Leadership United States',\n 'Iraq War 2003 2011 Personal narratives American',\n 'Bioengineering Fiction',\n 'Mutation Biology Fiction',\n 'Science fiction',\n 'Pinter Harold 1930 2008 Criticism and interpretation',\n 'Curious George Fictitious character Juvenile fiction',\n 'Monkeys Juvenile fiction',\n 'Bookstores Juvenile fiction',\n 'Books Juvenile fiction',\n 'Environmental protection Juvenile literature',\n 'Recycling Waste etc Juvenile literature',\n ...]"
     },
     "execution_count": 166,
     "metadata": {},
     "output_type": "execute_result"
    }
   ],
   "source": [
    "books_4['Subjects'].apply(find_all_subjects)\n",
    "all_subjects"
   ],
   "metadata": {
    "collapsed": false,
    "ExecuteTime": {
     "end_time": "2023-11-27T00:07:34.990025300Z",
     "start_time": "2023-11-27T00:07:34.934864400Z"
    }
   },
   "id": "49b9bb66f7759057"
  },
  {
   "cell_type": "code",
   "execution_count": 167,
   "outputs": [
    {
     "data": {
      "text/plain": "{'Group identity',\n 'Home schooling United States',\n 'Hazardous occupations United States',\n 'Sequoia National Park Calif Juvenile literature',\n 'Neighborhoods France Paris',\n 'Wit and humor Juvenile',\n 'Kilcher Atz 1947',\n 'Tiles History',\n 'English language United States Dictionaries',\n 'Photographers Fiction',\n 'Student government Juvenile fiction',\n 'Neighbors Comic books strips etc',\n 'Fredericksburg Va Genealogy',\n 'Lincoln Abraham 1809 1865 Gettysburg address Juvenile literature',\n 'Women ex convicts Fiction',\n 'Families New Mexico Fiction',\n 'Fairy tales Comic books strips etc',\n 'Finland Ilmavoimat History',\n 'Rockefeller Center Juvenile fiction',\n 'Baseball players United States Biography Juvenile literature',\n 'Spider webs Juvenile fiction',\n 'Water quality',\n 'Man woman relationships Humor',\n 'International broadcasting Political aspects United States',\n 'Simon Carly Friends and associates',\n 'Racially mixed people Juvenile literature',\n 'Boyle Ireland Fiction',\n 'Divorced men Fiction',\n 'Boone Theodore Fictitious character Juvenile fiction',\n 'Renkl Margaret',\n 'Marketing Management',\n 'Grave robbing Juvenile fiction',\n 'Constellations Mythology Juvenile literature',\n 'Buddhist stories English',\n 'Oregon Fiction',\n 'Discrimination in employment United States History 20th century',\n 'Keller Helen 1880 1968',\n 'Horse farms Fiction',\n 'Hedstr”m Patrik Fictitious character Fiction',\n 'Machu Picchu Site Peru Juvenile fiction',\n 'Stonehenge England Juvenile literature',\n 'Stieglitz Alfred 1864 1946 Exhibitions',\n 'Jesus Christ',\n 'African American judges Biography Juvenile literature',\n 'Locomotives United States',\n 'Sexual dominance and submission Fiction',\n 'Rings Juvenile fiction',\n 'Art deco Architecture Pictorial works',\n 'Baths Juvenile literature',\n 'Uncle Tom Fictitious character Fiction',\n 'Longworth Alice Roosevelt 1884 1980 Fiction',\n 'Europe Western Guidebooks',\n 'Bathing customs',\n 'Childrens atlases',\n 'Inuit art',\n 'Friendship in children Juvenile fiction',\n 'Underwear Juvenile fiction',\n 'Planned communities Washington State Seattle Region',\n 'Aging',\n 'Fear Juvenile fiction',\n 'Civil rights movements Alabama History 20th century',\n 'Deserts Comic books strips etc',\n 'Cults North Carolina Polk County',\n 'Optical illusions in art Pictorial works',\n 'Social justice United States',\n 'Brookins Cara Family',\n 'Children with social disabilities Education United States',\n 'Hurricane Katrina 2005 Fiction',\n 'China Fiction',\n 'Spiritual healing Christianity',\n 'Plantation life Southern States History Juvenile literature',\n 'Metal work',\n 'Months Juvenile poetry',\n 'Entertainers United States Biography',\n 'Characters and characteristics in literature Fiction',\n 'Farm life Merrimack River Valley N H and Mass',\n 'Connecticut History Revolution 1775 1783 Bibliography',\n 'Elkin Lauren Travel',\n 'Scientists Juvenile fiction',\n 'Women philosophers Fiction',\n 'Harmonica Fiction',\n 'Business consultants Computer network resources',\n 'Boys Books and reading United States',\n 'Brussels Belgium Juvenile fiction',\n 'Shapiro Walter Family',\n 'Youth Health and hygiene United States',\n 'Night people Psychology',\n 'Simon Peter',\n 'Environmental sciences History 20th century',\n 'Belongings Personal Fiction',\n 'Cults Juvenile fiction',\n 'Giraffe Fiction',\n 'McRae Logan Fictitious character Fiction',\n 'Collective behavior Fiction',\n 'Zagreb Croatia Fiction',\n 'Plato Dialogues',\n 'Swords Juvenile fiction',\n 'Management Mathematical models',\n 'Emotional intelligence',\n 'Stress Psychology',\n 'Poaching Alaska',\n 'Peninsular War 1807 1814 Fiction',\n 'Clans Scotland',\n 'Photography of insects',\n 'Williams Mary Mildred 1847 1921 Family',\n 'Technological innovations Forecasting',\n 'Change Fiction',\n 'Glass manufacture Ohio Lancaster History',\n 'Civil war Comic books strips etc',\n 'Journalists Yemen Republic Sana Biography',\n 'National libraries United States History 20th century',\n 'Indigenous peoples Portraits',\n 'Mexican Americans Juvenile fiction',\n 'Knights and knighthood Folklore',\n 'African Americans History 1863 1877 Sources',\n 'Siamese cat Fiction',\n 'Anxiety in women Prevention',\n 'Photography of families',\n 'Williams William Carlos 1883 1963',\n 'France Fiction',\n 'Hawk Jane Fictitious character Fiction',\n 'Chipmunks Juvenile fiction',\n 'Garfield Fictitious character Comic books strips etc',\n 'Photojournalists History',\n 'Economic history 21st century',\n 'Encyclopedias and dictionaries',\n 'Chimpanzees Tanzania Gombe Stream National Park Juvenile literature',\n 'Military weapons Research Egypt 20th century History',\n 'Fantasy',\n 'Donation of organs tissues etc United States',\n 'Trials Witchcraft Massachusetts Salem 17th century',\n 'Death threats Fiction',\n 'Seaside resorts Fiction',\n 'Nature Healing power of',\n 'Berlin Wall Berlin Germany 1961 1989 History',\n 'Animal diversity conservation',\n 'Dogs Evolution',\n 'Wine and wine making France Southwest',\n 'American essays 21st century',\n 'Unicorns Juvenile fiction',\n 'Job hunting',\n 'Animal welfare United States',\n 'Abused women Juvenile fiction',\n 'Illegal arms transfers Croatia Fiction',\n 'West Vancouver B C Guidebooks',\n 'Copyright Computer programs United States',\n 'United States Central Intelligence Agency Fiction',\n 'Fairy tales Korea',\n 'Toro Guillermo del 1964 Criticism and interpretation',\n 'Thomas … Becket Saint 1118 1170',\n 'Families United States',\n 'Governesses Fiction',\n 'Kawasaki Guy 1954',\n 'Odors Juvenile literature',\n 'American literature Asian American authors',\n 'Genies Fiction',\n 'Boating accidents Investigation Fiction',\n 'Scotland Juvenile fiction',\n 'Physicians Pennsylvania Philadelphia Biography',\n 'Hammerhead sharks Juvenile literature',\n 'Cold cases Criminal investigation Fiction',\n 'Pattern perception Juvenile fiction',\n 'Tracking and trailing Fiction',\n 'Costume design Italy History 20th century',\n 'Louie Fictitious character Disney Juvenile fiction',\n 'Butler Amy',\n 'Screenwriters',\n 'Snow leopard Juvenile literature',\n 'Hiking Washington State Spokane Region Guidebooks',\n 'Goodman Andrew 1943 1964 Juvenile literature',\n 'Geography Juvenile literature',\n 'Country life Alabama Fiction',\n 'Small cities Alaska Fiction',\n 'Television Lighting',\n 'Stick insects Fiction',\n 'African Americans Attitudes',\n 'Windsor Edward Duke of 1894 1972 Political and social views',\n 'African Americans Juvenile literature',\n 'World War 1939 1945 Secret service United States',\n 'Mississippi Race relations History 20th century Juvenile literature',\n 'Kydd Thomas Fictitious character Fiction',\n 'Small business Growth',\n 'Folklore Korea Juvenile literature',\n 'Tate Horace 1922 2002',\n 'Internet in cartography',\n 'Hunters Juvenile fiction',\n 'Painting Chinese Exhibitions',\n 'Vacation homes Fiction',\n 'Nineteen sixties Fiction',\n 'Rooney Andrew A',\n 'Freedmen Juvenile literature',\n 'Arthurian romances Adaptations Juvenile literature',\n 'Transgender people Civil rights United States',\n 'Animal behavior Comic books strips etc',\n 'Jewish scholars United States Biography',\n 'Women booksellers Fiction',\n 'Convenience foods Health aspects',\n 'Hotels motels etc Fiction',\n 'Racism Psychological aspects',\n 'Primates Juvenile literature',\n 'Virtual reality in management',\n 'Brain Juvenile literature',\n 'Presidents Day Juvenile literature',\n 'Childrens poetry Juvenile literature',\n 'Geographical perception',\n 'Francis Pope 1936 Interviews',\n 'Florida Genealogy',\n 'Human trafficking Prevention International cooperation',\n 'Legends Adaptations Comic books strips etc',\n 'Engle Margarita Juvenile literature',\n 'Water security',\n 'Students Fiction',\n 'Dogs Anecdotes',\n 'Digital cameras',\n 'Polarization Social sciences Political aspects United States',\n 'Library cats Fiction',\n 'Rings Fiction',\n 'Immigrants United States History',\n 'Bicycle trails France Guidebooks',\n 'Public records Colorado Boulder County Indexes',\n 'Rheology',\n 'Witches Juvenile fiction',\n 'Baker Laura Jean',\n 'Sound effects books Specimens',\n 'Voyages and travels Juvenile fiction',\n 'Wilderness areas Juvenile fiction',\n 'Firearms Law and legislation United States',\n 'Italy Politics and government 1994 2018',\n 'Public domain Copyright law',\n 'Fathers and sons Comic books strips etc',\n 'Washington Booker T 1856 1915 Juvenile literature',\n 'Eating disorders Patients United States Biography',\n 'Political corruption Belgium Fiction',\n 'Appliqu‚ Patterns',\n 'Spiritual life Fiction',\n 'United States Foreign public opinion Juvenile literature',\n 'Terrorism United States Religious aspects Islam',\n 'Families Nevada Juvenile fiction',\n 'Physicists Fiction',\n 'Automobile travel Comic books strips etc',\n 'Suicide victims Family relationships',\n 'Wildfire fighters',\n 'Bourbon whiskey Fiction',\n 'English language Dictionaries Italian',\n 'Smallville Kan Imaginary place Comic books strips etc',\n 'Food supply',\n 'Picture dictionaries Portuguese',\n 'Murder Investigation China Fiction',\n 'Spiritual life Shin Sect',\n 'Women psychics Fiction',\n 'Irish Americans Biography',\n 'Apple Computer Inc',\n 'Personal coaching',\n 'Shapeshifting Comic books strips etc',\n 'Scientists Comic books strips etc',\n 'Historic sites Guidebooks',\n 'Medical care United States',\n 'Man woman relationships Juvenile fiction',\n 'Peratrovich Elizabeth 1911 1958 Juvenile literature',\n 'Secretaries Fiction',\n 'Immigrants California Southern Juvenile fiction',\n 'Aikido Juvenile literature',\n 'War Forecasting',\n 'Vance J D',\n 'Addition Juvenile literature',\n 'Germans California Los Angeles Biography',\n 'Navarre Spain Guidebooks',\n 'Transgender people Psychology',\n 'Medicinal plants Encyclopedias Juvenile',\n 'Love Religious aspects',\n 'Binney Smith Co Juvenile literature',\n 'United States Politics and government 1901 1909',\n 'Bryson Bill Travel Appalachian Trail',\n 'Identity Psychology',\n 'Juvenile homicide Fiction',\n 'Europe History Examinations Study guides',\n 'Biotic communities Juvenile literature',\n 'Lichens North America Identification',\n 'Scottish terrier Juvenile fiction',\n 'National Rifle Association of America History',\n 'Heaney Seamus 1939 2013 Criticism and interpretation',\n 'Women private investigators Alaska Fiction',\n 'Monsters Juvenile literature',\n 'High school students Juvenile fiction',\n 'Social justice History',\n 'American literature Indian authors',\n 'Cooking Mushrooms History',\n 'Twentieth century Encyclopedias',\n 'Frankfurters Juvenile fiction',\n 'Authorship Vocational guidance',\n 'Appalachian Region Fiction',\n 'Statesmen Great Britain Biography',\n 'Nose',\n 'Horsemanship',\n 'Mexico History 1910 1946 Fiction',\n 'Geeks Computer enthusiasts',\n 'Murder Investigation Fiction',\n 'Lebanese Americans New York State New York Biography',\n 'Graphic arts Vocational guidance',\n 'Zoology Juvenile literature',\n 'Yorkshire England History 20th century Fiction',\n 'Fungi Therapeutic use',\n 'Peer pressure Juvenile literature',\n 'Mexico History Conquest 1519 1540 Juvenile literature',\n 'Schlitzie 1901 1971 Comic books strips etc',\n 'Sisters Southern States Fiction',\n 'Trials Riots Washington State Seattle',\n 'Nobility Fiction',\n 'Undocumented noncitizens England Sheffield Fiction',\n 'Families California San Diego Juvenile fiction',\n 'Women South Carolina Fiction',\n 'Cooking Italian',\n 'Women social workers Fiction',\n 'World War 1939 1945 Diplomatic history Juvenile literature',\n 'Red panda Fiction',\n 'Nomads Fiction',\n 'Mariners Museum Newport News Va Photograph collections',\n 'Bedtime Fiction',\n 'Mythological comics',\n 'Archaeology Case studies',\n 'Quakers United States Genealogy Indexes',\n 'Girls Africa West Comic books strips etc',\n 'Cooking Polish',\n 'Women heads of state Europe History 16th century',\n 'Trivia and miscellanea',\n 'Comic books strips etc Japan',\n 'Kindness Fiction',\n 'Internet searching',\n 'Goldberg Rube 1883 1970 Juvenile literature',\n 'Hens Juvenile fiction',\n 'Adventure and adventurers Fiction',\n 'Adventure stories',\n 'Gardeners Biography',\n 'Kidnapping Utah Salt Lake City',\n 'Kidnapping Juvenile fiction',\n 'Tapa Polynesia',\n 'Princes Great Britain',\n 'Middle East History 1914 1923 Fiction',\n 'Mystery and detective stories',\n 'Autoimmune diseases Popular works',\n 'Inheritance and succession',\n 'Monk William Fictitious character Fiction',\n 'Philosophy Renaissance',\n 'Russia Federation History Juvenile literature',\n 'Israel Fiction',\n 'Lesotho Guidebooks',\n 'Animal welfare Moral and ethical aspects',\n 'Environmental policy California San Francisquito Creek',\n 'Cookbooks',\n 'Discrimination in education Cross cultural studies',\n 'Historic buildings Washington State Seattle Guidebooks',\n 'Constitutional law United States',\n 'Cats Juvenile humor',\n 'Sosinski Anthony',\n 'Prisoners Maryland Biography',\n 'Animals in literature Juvenile literature',\n 'Music halls Variety theaters cabarets etc France',\n 'Vernon Leah',\n 'Castles Juvenile literature',\n 'Kakinada India Biography',\n 'Families India Biography',\n 'Boston Mass History 20th century Juvenile fiction',\n 'Islamic countries Politics and government 21st century',\n 'Debt Fiction',\n 'China Handbooks manuals etc',\n 'Self reliance',\n 'Older people Sexual behavior',\n 'Disaster relief Gulf States',\n 'Soldiers of fortune Fiction',\n 'Feminist theology',\n 'Gifts Juvenile fiction',\n 'Crime China Shanghai History 20th century',\n 'Lesbians United States Biography',\n 'Mountains Juvenile fiction',\n 'Naps Sleep Juvenile fiction',\n 'Sex change Psychological aspects',\n 'Pioneers Tennessee Biography',\n 'Romania History 19th century Juvenile fiction',\n 'Military assistance American South Asia',\n 'Spirituality',\n 'Antananarivo Antananarivo Madagascar Fiction',\n 'LEGO toys Pictorial works',\n 'Musicals New York State New York History 20th century',\n 'Comedians United States Pictorial works',\n 'Kangaroos as pets Juvenile fiction',\n 'Hudsons Bay Company Biography',\n 'Refugees Abuse of Europe',\n 'Tailoring',\n 'Earhart Amelia 1897 1937 Juvenile literature',\n 'Military intelligence Israel 20th century History',\n 'Older people Health and hygiene',\n 'Quests Expeditions Comic books strips etc',\n 'World records Soviet Union',\n 'Liability insurance United States Popular works',\n 'Soviet Union History Revolution 1917 1921 Influence',\n 'Angles Geometry Juvenile literature',\n 'Singapore Fiction',\n 'Warhol Andy 1928 1987',\n 'Reliability Fiction',\n 'Graphic novel adaptations',\n 'Joy Religious aspects Christianity',\n 'Child abuse United States Case studies',\n 'Food habits Literary collections',\n 'Boys Fiction',\n 'Separation anxiety Juvenile fiction',\n 'Suicidal behavior Juvenile fiction',\n 'Desert landscape architecture United States',\n 'Chincoteague pony Juvenile fiction',\n 'Exploitation Juvenile fiction',\n 'Mass media United States',\n 'Violinists Fiction',\n 'Transnationalism',\n 'Motion picture producers and directors United States',\n 'Ireland Guidebooks',\n 'Popular music United States Biography',\n 'Gautama Buddha',\n 'End of the world Biblical teaching',\n 'English language Textbooks for foreign speakers Spanish',\n 'Onassis Jacqueline Kennedy 1929 1994',\n 'Dogs Miscellanea',\n 'Dreams',\n 'Birds Northwest Pacific Identification',\n 'Washington State Boundaries British Columbia',\n 'Myth Juvenile fiction',\n 'Germany Juvenile literature',\n 'Comedians Fiction',\n 'Celestial mechanics History 17th century Juvenile literature',\n 'Paris France History Commune 1871',\n 'Munich Germany Intellectual life',\n 'Circus Pictorial works',\n 'Hazardous substances California Contra Costa County Safety measures',\n 'Geography Miscellanea',\n 'Indians of North America Wyoming Fiction',\n 'Karate Juvenile literature',\n 'Chicago Ill History To 1875 Juvenile literature',\n 'Military bases Northwestern States',\n 'Hand weaving Juvenile literature',\n 'Sculptors United States Interviews',\n 'Work environment',\n 'Television journalists Anecdotes',\n 'Morocco Description and travel',\n 'Jefferson Thomas 1743 1826 Quotations',\n 'Statesmen India Biography Juvenile literature',\n 'Teenage girls Psychology Juvenile literature',\n 'Cardiovascular system Diseases',\n 'Inuit Folklore',\n 'Atheism',\n 'Trees Fiction',\n 'Racially mixed people New York State New York Biography',\n 'African American children Fiction',\n 'Law reporters Fiction',\n 'Parks Juvenile fiction',\n 'Chinese Americans Genealogy Handbooks manuals etc',\n 'Vietnamese Americans History Juvenile literature',\n 'Coroners Fiction',\n 'Olympic Games 14th 1948 London England',\n 'Villages Juvenile fiction',\n 'Attorneys Fiction',\n 'Shah Tahir',\n 'Consumption Economics Juvenile fiction',\n 'Child labor Juvenile fiction',\n 'Swaziland Guidebooks',\n 'China Social conditions',\n 'Job hunting Computer network resources',\n 'Pata¤jali Yogasutra',\n 'Lee Harper Juvenile fiction',\n 'Humanitarian assistance Sudan Darfur',\n 'Baghdad Iraq Fiction',\n 'Redheads Comic books strips etc',\n 'Physicists',\n 'Classical dictionaries',\n 'Strategy Quotations maxims etc',\n 'Literature Appreciation',\n 'Billings family',\n 'African American children Texas Biography',\n 'Ellin Abby',\n 'Troubled Asset Relief Program U S',\n 'Laotian Americans Juvenile fiction',\n 'Advertising Brewing industry Collectors and collecting United States Catalogs',\n 'Holocaust Jewish 1939 1945 Poland Przemysl Personal narratives',\n 'Music appreciation',\n 'Plantation life Fiction',\n 'English language Dictionaries Juvenile Tagalog',\n 'Great Britain History Victoria 1837 1901 Fiction',\n 'African American women astronauts Biography Juvenile literature',\n 'Goya Francisco 1746 1828',\n 'Cold cases Criminal investigation Maryland Montgomery County',\n 'Trumpet players United States Biography',\n 'American literature Study and teaching New York State West Point',\n 'Wong Anna May 1905 1961 Juvenile literature',\n 'Honeybee Juvenile fiction',\n 'Indoor gardening',\n 'Experimental theater United States',\n 'Historical Records Survey U S',\n 'Nevada History 19th century Juvenile fiction',\n 'High school students Comic books strips etc',\n 'Disguise Juvenile fiction',\n 'Legends Italy Rome Fiction',\n 'Cirque du Soleil Pictorial works',\n 'Marley Bob Assassination attempts Fiction',\n 'Revere Paul 1735 1818 Juvenile poetry',\n 'Cooking Hot pepper sauces',\n 'Ponies',\n 'Novelists Fiction',\n 'Judicial corruption Prevention International cooperation Congresses',\n 'China Juvenile fiction',\n 'Volleyball Juvenile fiction',\n 'Friendship in adolescence Juvenile fiction',\n 'Hostages Somalia Biography',\n 'Animals Pictorial works',\n 'Choral conductors Fiction',\n 'Football players Juvenile fiction',\n 'Neopaganism Rituals',\n 'Seattle Wash Commerce History',\n 'Missing children Fiction',\n 'Livestock Climatic factors',\n 'Social justice Juvenile literature',\n 'Empathy Juvenile fiction',\n 'Confectionery',\n 'Islamic music History and criticism',\n 'Europe Social life and customs',\n 'Animals Experiments Juvenile fiction',\n 'Boats and boating British Columbia',\n 'Wildlife conservation',\n 'Caving Juvenile fiction',\n 'History teachers Fiction',\n 'Counting out rhymes',\n 'Radio broadcasters Fiction',\n 'Women Family relationships Fiction',\n 'Vyvyan Clara Coltman Rogers Lady Travel Northwest Canadian',\n 'Junior high schools Washington State Puget Sound Region Directories',\n 'Art thefts Europe History 20th century Fiction',\n 'Dersu Uzala',\n 'West U S History Exhibitions',\n 'Bible Old Testament History of Biblical events Fiction',\n 'Library shelving Fiction',\n 'African American women comedians Biography',\n 'Couples',\n 'Aliens China Shanghai History 20th century',\n 'African Americans in popular culture',\n 'Alliteration Juvenile literature',\n 'Tales Nigeria Juvenile literature',\n 'World War 1914 1918 Influence Fiction',\n 'United States Emigration and immigration History 20th century',\n 'Ghost stories',\n 'Backyard gardens Design',\n 'Worry',\n 'Steinbeck John 1902 1968 Influence',\n 'New York N Y Social life and customs 19th century Fiction',\n 'Republicanism United States History 21st century',\n 'Nonviolence',\n 'Bees Juvenile fiction',\n 'Sisters Ontario Biography Juvenile literature',\n 'Frederick County Va History Sources',\n 'Aeronautics Social aspects United States History',\n 'Bankers Fiction',\n 'Weapons industry Fiction',\n 'Marine animals Fiction',\n 'Economists',\n 'Mayas Juvenile literature',\n 'Fasts and feasts Judaism Juvenile fiction',\n 'Indians of South America Amazon River Region Pictorial works',\n 'Darling Max Fictitious character Fiction',\n 'Chick lit History and criticism',\n 'Literacy Dictionaries',\n 'Sijo',\n 'Drawing Study and teaching',\n 'Space vehicles Juvenile literature',\n 'Buddhism China Tibet Autonomous Region',\n 'Psychic ability Comic books strips etc',\n 'Architecture Victorian',\n 'Universe Juvenile literature',\n 'Humboldt Alexander von 1769 1859 Juvenile literature',\n 'Gays Family relationships California San Francisco',\n 'Kennedy Dan 1967',\n 'Decision making',\n 'Gannon Frank Family',\n 'Women and literature United States History 20th century',\n 'San Juan Airlines',\n 'War poetry',\n 'Explorers England Biography',\n 'African Americans History 20th century',\n 'Drug traffic Investigation Fiction',\n 'Fire chiefs North Carolina Fiction',\n 'Sheriffs Arizona Biography',\n 'German shepherd dog Juvenile fiction',\n 'Bear attacks North America Prevention',\n 'African Americans Social conditions To 1964 Fiction',\n 'Genesee Idaho History',\n 'Islamic law United States',\n 'Jews New York State New York Biography',\n 'Animals America History Juvenile literature',\n 'United States Internal Revenue Service Rules and practice',\n 'Bees Juvenile literature',\n 'Racism Juvenile fiction',\n 'Sisters Comic books strips etc',\n 'Teenagers Sexual behavior Juvenile fiction',\n 'Horseshoers Fiction',\n 'Internet games Fiction',\n 'United States Foreign relations Nicaragua',\n 'Young men Madagascar Fiction',\n 'Vassar College Fiction',\n 'Dysfunctional families Juvenile fiction',\n 'Worship programs',\n 'Legends North America Juvenile literature',\n 'Refugee children Tanzania Juvenile literature',\n 'Smartphones Handbooks manuals etc',\n 'Medicine Chinese',\n 'Geography Maps',\n 'Muslims Social conditions',\n 'White people',\n 'Rock musicians Crimes against Fiction',\n 'Christmas Humor',\n 'Inner cities Illinois Chicago Case studies',\n 'Male friendship Soviet Union Fiction',\n 'Romance comics',\n 'Revolutionaries Fiction',\n 'Card catalogs United States History',\n 'Travel writing Anecdotes',\n 'Cheating Education Juvenile fiction',\n 'House furnishings',\n 'Physical therapists Fiction',\n 'Freedom of speech',\n 'Dystopian',\n 'Elementary school teaching Mississippi Delta Region',\n 'Sanibel Island Fla Fiction',\n 'Baba Yaga Legendary character Juvenile fiction',\n 'Hats Juvenile fiction',\n 'Disneyland Calif Guidebooks',\n 'Agricultural ecology',\n 'Grants in aid Law and legislation United States Territories and possessions',\n 'Science in literature',\n 'Big Nate Comic books strips etc',\n 'Intercountry marriage France Paris',\n 'Adolescence Comic books strips etc',\n 'Bisexuality Fiction',\n 'Performing arts Biography',\n 'Suicide United States Case studies',\n 'Las Vegas Nev History 20th century',\n 'Energy consumption Alaska Costs',\n 'Technological innovations Fiction',\n 'Horn of Africa Fiction',\n 'Saint Louis Mo Social conditions 19th century',\n 'Monsters Canada Juvenile literature',\n 'Women and literature Canada History 20th century',\n 'Soldiers United States Social conditions 18th century',\n 'Korean Americans Biography',\n 'Christianity Juvenile literature',\n 'Wright Frank Lloyd 1867 1959 Juvenile literature',\n 'Cross Phil 1942',\n 'Country life Vermont Juvenile fiction',\n 'Mexico City Mexico History',\n 'Left and right handedness Juvenile fiction',\n 'Emotions Juvenile fiction',\n 'Insects Canada',\n 'Potatoes Comic books strips etc',\n 'Sutherland Harriet Elizabeth Georgiana Leveson Gower Duchess of 1806 1868',\n 'Russia Federation Foreign relations United States',\n 'Occultism Investigation Juvenile fiction',\n 'Hurston Zora Neale Correspondence',\n 'Youth Fiction',\n 'Germany',\n 'Mathews Va Biography',\n 'Fate and fatalism Juvenile fiction',\n 'Mazatec Indians Juvenile fiction',\n 'Ballets Juvenile fiction',\n 'Washtenaw County Mich History',\n 'Ideology Economic aspects',\n 'Christianity Essence genius nature Miscellanea',\n 'Death in literature',\n 'Children of military personnel United States Biography',\n 'Families C“te dIvoire Comic books strips etc',\n 'Authors French 20th century Biography',\n 'Climatic changes Antarctica',\n 'Punk rock musicians United States Interviews',\n 'Divorce Juvenile fiction',\n 'Homosexuality Humor',\n 'English language Prepositions Juvenile fiction',\n 'Cash Johnny',\n 'Electrical engineers United States Biography Juvenile literature',\n 'United States Navy SEALs Fiction',\n 'Site specific installations Art',\n 'Country musicians United States Biography',\n 'Human rights',\n 'Terminal care United States',\n 'Soldiers Germany Diaries',\n 'Kho Nancy Davis Correspondence',\n 'Historic buildings Conservation and restoration United States',\n 'Photograph collections England London Catalogs',\n 'Birthparents Fiction',\n 'North Carolina Genealogy Archival resources Handbooks manuals etc',\n 'Leave of absence Government policy United States',\n 'Individual retirement accounts United States',\n 'Private investigators India Fiction',\n 'Outer space Juvenile literature',\n 'Joan of Arc Saint 1412 1431 Juvenile literature',\n 'Motion pictures Characters',\n 'Theatrical posters New York State New York History 20th century',\n 'Chimpanzees Tanzania Gombe National Park Juvenile literature',\n 'World War 1939 1945 Women Great Britain',\n 'Catullus Gaius Valerius Translations into English',\n 'Letter carriers Juvenile fiction',\n 'Bible Prophecies End of the world',\n 'Kites Juvenile fiction',\n 'Political activists Washington State Seattle Biography',\n 'United States History Civil War 1861 1865 Regimental histories',\n 'Self esteem in adolescence Juvenile literature',\n 'Zen poetry Japanese Translations into English',\n 'Indian art North America Exhibitions',\n 'Paranormal romance stories',\n 'Wolves Alaska Biography',\n 'Indian art Northwest Coast of North America',\n 'Childrens poetry American',\n 'Jazz Social aspects United States',\n 'Roses',\n 'Transylvania Romania Guidebooks',\n 'Women novelists English 20th century Biography',\n 'Espionage American Germany History 20th century',\n 'Monarch butterfly Migration Juvenile literature',\n 'Magnusson Margareta Artist',\n 'Cromwell Oliver 1599 1658 Fiction',\n 'Fireboats Juvenile literature',\n 'Camino Franc‚s Spain Guidebooks',\n 'Internet videos',\n 'Readers Reducing diets',\n 'Natural history',\n 'Television personalities Fiction',\n 'Field Edward 1924 Friends and associates',\n 'Holliday M J Fictitious character Fiction',\n 'Decedents estates West Virginia',\n 'Jokes',\n 'Reality television programs Juvenile fiction',\n 'Handy W C William Christopher 1873 1958',\n 'Rap musicians Juvenile fiction',\n 'Ranchers Washington State Methow Valley Biography',\n 'Hurricane Rita 2005',\n 'Artists Northwest Pacific',\n 'Russia Federation History 20th century Juvenile fiction',\n 'Girls United States Social conditions 21st century',\n 'Art American West U S 20th century Dictionaries',\n 'Mate selection Fiction',\n 'Motels California Southern Juvenile fiction',\n 'Fetus Development Research',\n 'Women and war Iraq',\n 'Fans Persons Juvenile fiction',\n 'Vacher Joseph 1869 1898 Trials litigation etc',\n 'Great Britain History Norman period 1066 1154 Fiction',\n 'Dwellings Barrier free design United States',\n 'Coups d‚tat Comic books strips etc',\n 'Rajneesh Foundation International Controversial literature',\n 'Wine and wine making Humor',\n 'Women New York State New York Fiction',\n 'Self consciousness Awareness Juvenile fiction',\n 'Intelligence service Fiction',\n 'Ford Parker Family relationships',\n 'False personation Fiction',\n 'Cooks Fiction',\n 'Morgan Rachel Fictitious character Fiction',\n 'Fire stations Juvenile literature',\n 'African American lawyers History Juvenile literature',\n 'Fantasy games Handbooks manuals etc',\n 'California Northern Fiction',\n 'Business Computer programs',\n 'Wolves Juvenile fiction',\n 'Indians Treatment of United States History',\n 'Urban renewal Massachusetts Boston',\n 'Sideshows United States History 20th century Comic books strips etc',\n 'Textile printing',\n 'Prayers',\n 'Illegitimate children of royalty Great Britain Biography',\n 'Christmas Folklore',\n 'Literature and society France Paris History 19th century',\n 'IS Organization Juvenile literature',\n 'Immigrants California History',\n 'Video gamers Juvenile fiction',\n 'Sloan Alfred P Alfred Pritchard 1875 1966',\n 'Mice Fiction',\n 'Restaurants Employees Comic books strips etc',\n 'Investigative reporting Fiction',\n 'Biology Experimental Fiction',\n 'Action and adventure fiction',\n 'Great Britain Foreign relations United States Juvenile literature',\n 'Brothers Juvenile fiction',\n 'London England History 18th century Juvenile fiction',\n 'Yosemite National Park Calif Guidebooks',\n 'Nobility Italy Fiction',\n 'Congo Square New Orleans La History Juvenile literature',\n 'Art Medieval Jerusalem Exhibitions',\n 'Journalists Juvenile fiction',\n 'Mythological fiction',\n 'Commitment Psychology',\n 'Developing countries Commerce',\n 'North American Free Trade Agreement 1992 December 17',\n 'Sociobiology',\n 'Civil rights Juvenile literature',\n 'Death row California',\n 'Alaska History',\n 'Thebes Egypt Extinct city Juvenile fiction',\n 'Relativity Physics',\n 'London England Social conditions',\n 'Publishers catalogs England',\n 'School improvement programs United States',\n 'Burr Aaron 1756 1836 Juvenile fiction',\n 'Stars Mythology Juvenile literature',\n 'Hate groups United States',\n 'Anderson Alice 1966 Family',\n 'United States Social life and customs To 1775 Juvenile literature',\n 'Art Korean 21st century',\n 'Kings queens rulers etc',\n 'Dominican Americans New Jersey Fiction',\n 'Military interrogation United States',\n 'African Americans History',\n 'Diabetes Diet therapy Recipes',\n 'Phobias Juvenile fiction',\n 'New York N Y History 1865 1898 Juvenile literature',\n 'African Americans Diseases Popular works',\n 'Murder Investigation Germany Berlin Fiction',\n 'Mythology Norse Juvenile fiction',\n 'Landscapes in art Exhibitions',\n 'Natural history museums Pictorial works',\n 'Snakes as pets Juvenile fiction',\n 'Flute Juvenile fiction',\n 'Legislators United States Biography Juvenile literature',\n 'Experiments',\n 'Serial murderers California San Francisco Fiction',\n 'Lesbians Juvenile fiction',\n 'Dogs Training',\n 'Flaneurs History',\n 'Models Patents Private collections United States',\n 'Gratitude Fiction',\n 'Rome Italy Fiction',\n 'Gash Jim',\n 'Hyperboloid structures',\n 'Minneapolis Metropolitan Area Minn Fiction',\n 'Mittens Folklore Juvenile literature',\n 'April Fools Day Juvenile fiction',\n 'Civil rights workers United States Biography Juvenile literature',\n 'Hip hop',\n 'Cohen Kerry',\n 'Dresses History 20th century Pictorial works',\n 'Interplanetary voyages Fiction',\n 'Soldiers writings American',\n 'Fire fighters Juvenile literature',\n 'Powder Puff Derby Juvenile literature',\n 'Missions Africa Sub Saharan History 19th century',\n 'Online social networks',\n 'Newlyweds Fiction',\n 'Feminism Arab countries',\n 'United States Army Pennsylvania Infantry Regiment 23rd 1861 1864',\n 'Animal tracks California Kings Canyon National Park Juvenile literature',\n 'United States Foreign relations',\n 'Women teachers Fiction',\n 'Self confidence Fiction',\n 'Bullying Juvenile fiction',\n 'Lost children Fiction',\n 'Women educators Canada Biography',\n 'Child prostitution Prevention International cooperation',\n 'Restaurants France Fiction',\n 'Command of troops Case studies',\n 'Rape victims Delaware',\n 'Brassa‹ 1899 1984',\n 'Butterflies',\n 'Witch hunting Fiction',\n 'Royal houses Africa Comic books strips etc',\n 'Coffeehouses Fiction',\n 'Games Fiction',\n 'Art thefts Fiction',\n 'Drinking water Purification Washington D C',\n 'Brain Psychology Popular works',\n 'Herbs Therapeutic use',\n 'Electronics Juvenile fiction',\n 'Indians of North America Arizona Black Mesa Navajo County and Apache County Social conditions 20th century',\n 'South Bay High Imaginary organization Juvenile fiction',\n 'Railroad trains Juvenile literature',\n 'Lee Harper To kill a mockingbird Juvenile literature',\n 'Tattooing Pictorial works',\n 'Dogs Training Fiction',\n 'Lancaster Ohio Social life and customs History',\n 'Learning and scholarship',\n 'Families Tennessee Juvenile fiction',\n 'Sales executives',\n 'Mouth Surgery',\n 'Peale Charles Willson 1741 1827 Fiction',\n 'Sexual minorities Identity Juvenile literature',\n 'Adam James 1732 1794',\n 'Social classes United States',\n 'Wolves Northwest Pacific Pictorial works',\n 'Radio talk shows Fiction',\n 'Earhart Amelia 1897 1937 Comic books strips etc',\n 'Bounds Doris Swayze Ethnological collections',\n 'Big bang theory',\n 'Psychology Pathological',\n 'Racing Juvenile fiction',\n 'Kentucky Juvenile fiction',\n 'Climatic changes Social aspects',\n 'Abandoned mines Fiction',\n 'Orphans Fiction',\n 'Physical anthropology Southern States',\n 'Communication in science',\n 'United States Statistics Medical',\n 'Animal defenses Juvenile literature',\n 'Dude ranches Fiction',\n 'Art dealers Fiction',\n 'Mothers and sons United States Biography',\n 'Soviet Union Social conditions 1945 1991 Fiction',\n 'Bad Kitty Fictitious character from Nick Bruel Juvenile fiction',\n 'Schools Juvenile poetry',\n 'Couples Sexual behavior Psychological aspects',\n 'Deafness',\n 'Canton Ohio Economic conditions 20th century',\n 'Lucas George 1944',\n 'Occultism Fiction',\n 'Mulder Fox Fictitious character Comic books strips etc',\n 'Time management',\n 'Hong wei bing Juvenile fiction',\n 'Steegmuller Francis 1906 1994 Friends and associates',\n 'Women prisoners Fiction',\n 'Healing Anecdotes',\n 'Visual perception Juvenile literature',\n 'Hamilton Alexander 1757 1804 Family Juvenile literature',\n 'Glycemic index',\n 'Charlotte Augusta Princess of Great Britain 1796 1817',\n 'Mining leases United States',\n 'Natural areas Pacific Coast North America Guidebooks',\n 'War criminals Germany Biography',\n 'School comics',\n 'Horror comic books strips etc',\n 'African Americans Civil rights History 20th century Juvenile literature',\n 'Women gynecologists Poland Oswiecim Biography',\n 'Adoptees Fiction',\n 'Work Psychological aspects',\n 'Knitted lace',\n 'Soviet Union Intellectual life Fiction',\n 'Muybridge Eadweard 1830 1904 Juvenile literature',\n 'Korea South Juvenile literature',\n 'African Americans Education North Carolina Hyde County Case studies',\n 'Music theory Elementary works',\n 'Waste products Juvenile literature',\n 'Indians of North America Northwest Pacific Juvenile fiction',\n 'East Indian Americans Fiction',\n 'Tableware industry Ohio Lancaster History',\n 'Exhibitions Washington State Seattle Pictorial works',\n 'Graphic artists United States Interviews',\n 'Cardinals Birds Juvenile fiction',\n 'United States Territorial expansion Comic books strips etc',\n 'Tales Ireland Juvenile literature',\n 'English language Dictionaries Thai',\n 'Carbohydrates Metabolism',\n 'Down syndrome Patients United States Biography',\n 'Entrepreneurship United States',\n 'Delegated legislation United States Language',\n 'Prostitutes Washington State Seattle Biography Comic books strips etc',\n 'United States Central Intelligence Agency Officials and employees Biography',\n 'Communicable diseases History Juvenile literature',\n 'Peabody Museum of Archaeology and Ethnology',\n 'Plants Colombia Pictorial works',\n 'Adult children of aging parents',\n 'Bioremediation Fiction',\n 'New Jersey History 1775 1865 Juvenile fiction',\n 'Female friendship Japan Tokyo Comic books strips etc',\n 'Farewells Poetry',\n 'Natural history Washington State Olympic Mountains',\n 'Family life Massachusetts Fiction',\n 'Green Katie Illustrator Health Comic books strips etc',\n 'Ott Whealy Diane',\n 'African American women journalists Biography',\n 'Information society Political aspects',\n 'African American mathematicians Biography Juvenile literature',\n 'Mississippi Juvenile fiction',\n 'Skating Fiction',\n 'Judaism Customs and practices Juvenile fiction',\n 'Grandparent and child',\n 'Edsel automobile Social aspects',\n 'Cosmetics',\n 'Peak District England Fiction',\n 'Kennedy John F John Fitzgerald 1917 1963 Fiction',\n 'Partisanship',\n 'Epidemics Juvenile literature',\n 'Sejer Konrad Fictitious character Fiction',\n 'Hermits Fiction',\n 'Terminal care',\n 'Goose Elizabeth 1665 1758 Juvenile fiction',\n 'Cuba Economic conditions 1990',\n 'Body language',\n 'Vashon Island Wash',\n 'Wales Emigration and immigration History',\n 'Murder Pennsylvania Philadelphia Case studies',\n 'Buddhism and the arts New York State New York',\n 'Sports History Juvenile literature',\n 'Dell Michael 1965',\n 'English language Problems exercises etc',\n 'Fear',\n 'Kennedy Edward M Edward Moore 1932 2009',\n 'African American women Poetry',\n 'Assassins Fiction',\n 'Childrens songs English',\n 'Civil procedure United States Popular works',\n 'Transsexuals Surgery',\n 'Governmental investigations England London Fiction',\n 'Procyonidae Juvenile literature',\n ...}"
     },
     "execution_count": 167,
     "metadata": {},
     "output_type": "execute_result"
    }
   ],
   "source": [
    "unique_subject_set = set(all_subjects)\n",
    "unique_subject_set"
   ],
   "metadata": {
    "collapsed": false,
    "ExecuteTime": {
     "end_time": "2023-11-27T00:09:23.498508900Z",
     "start_time": "2023-11-27T00:09:23.242892900Z"
    }
   },
   "id": "ba03c59708973ad3"
  },
  {
   "cell_type": "code",
   "execution_count": 168,
   "outputs": [
    {
     "data": {
      "text/plain": "41278"
     },
     "execution_count": 168,
     "metadata": {},
     "output_type": "execute_result"
    }
   ],
   "source": [
    "len(all_subjects)"
   ],
   "metadata": {
    "collapsed": false,
    "ExecuteTime": {
     "end_time": "2023-11-27T00:09:40.288229Z",
     "start_time": "2023-11-27T00:09:40.178657300Z"
    }
   },
   "id": "4e5e9b940780432"
  },
  {
   "cell_type": "code",
   "execution_count": 169,
   "outputs": [
    {
     "data": {
      "text/plain": "19737"
     },
     "execution_count": 169,
     "metadata": {},
     "output_type": "execute_result"
    }
   ],
   "source": [
    "len(unique_subject_set)"
   ],
   "metadata": {
    "collapsed": false,
    "ExecuteTime": {
     "end_time": "2023-11-27T00:09:48.158925800Z",
     "start_time": "2023-11-27T00:09:48.130394300Z"
    }
   },
   "id": "261138121a65bb03"
  },
  {
   "cell_type": "code",
   "execution_count": 170,
   "outputs": [
    {
     "name": "stderr",
     "output_type": "stream",
     "text": [
      "C:\\Users\\trush\\AppData\\Local\\Temp\\ipykernel_18400\\1968602329.py:1: FutureWarning: unique with argument that is not not a Series, Index, ExtensionArray, or np.ndarray is deprecated and will raise in a future version.\n",
      "  unique_subject_pd = pd.unique(all_subjects)\n"
     ]
    },
    {
     "data": {
      "text/plain": "array(['Dragons Juvenile fiction',\n       'Characters and characteristics in literature Juvenile fiction',\n       'Surprise birthday parties Juvenile fiction', ...,\n       'Drawing Study and teaching',\n       'Music and literature History 20th century',\n       'Art and music History 20th century'], dtype=object)"
     },
     "execution_count": 170,
     "metadata": {},
     "output_type": "execute_result"
    }
   ],
   "source": [
    "unique_subject_pd = pd.unique(all_subjects)\n",
    "unique_subject_pd"
   ],
   "metadata": {
    "collapsed": false,
    "ExecuteTime": {
     "end_time": "2023-11-27T00:11:24.755816500Z",
     "start_time": "2023-11-27T00:11:24.621898500Z"
    }
   },
   "id": "96b002bd939f7c06"
  },
  {
   "cell_type": "code",
   "execution_count": 171,
   "outputs": [
    {
     "data": {
      "text/plain": "                                                 Subject\n0                               Dragons Juvenile fiction\n1      Characters and characteristics in literature J...\n2             Surprise birthday parties Juvenile fiction\n3                     Books and reading Juvenile fiction\n4                                                Cooking\n...                                                  ...\n41273            English language Programmed instruction\n41274                                          Textbooks\n41275                         Jazz History and criticism\n41276          Music and literature History 20th century\n41277                 Art and music History 20th century\n\n[41278 rows x 1 columns]",
      "text/html": "<div>\n<style scoped>\n    .dataframe tbody tr th:only-of-type {\n        vertical-align: middle;\n    }\n\n    .dataframe tbody tr th {\n        vertical-align: top;\n    }\n\n    .dataframe thead th {\n        text-align: right;\n    }\n</style>\n<table border=\"1\" class=\"dataframe\">\n  <thead>\n    <tr style=\"text-align: right;\">\n      <th></th>\n      <th>Subject</th>\n    </tr>\n  </thead>\n  <tbody>\n    <tr>\n      <th>0</th>\n      <td>Dragons Juvenile fiction</td>\n    </tr>\n    <tr>\n      <th>1</th>\n      <td>Characters and characteristics in literature J...</td>\n    </tr>\n    <tr>\n      <th>2</th>\n      <td>Surprise birthday parties Juvenile fiction</td>\n    </tr>\n    <tr>\n      <th>3</th>\n      <td>Books and reading Juvenile fiction</td>\n    </tr>\n    <tr>\n      <th>4</th>\n      <td>Cooking</td>\n    </tr>\n    <tr>\n      <th>...</th>\n      <td>...</td>\n    </tr>\n    <tr>\n      <th>41273</th>\n      <td>English language Programmed instruction</td>\n    </tr>\n    <tr>\n      <th>41274</th>\n      <td>Textbooks</td>\n    </tr>\n    <tr>\n      <th>41275</th>\n      <td>Jazz History and criticism</td>\n    </tr>\n    <tr>\n      <th>41276</th>\n      <td>Music and literature History 20th century</td>\n    </tr>\n    <tr>\n      <th>41277</th>\n      <td>Art and music History 20th century</td>\n    </tr>\n  </tbody>\n</table>\n<p>41278 rows × 1 columns</p>\n</div>"
     },
     "execution_count": 171,
     "metadata": {},
     "output_type": "execute_result"
    }
   ],
   "source": [
    "subjects_df = pd.DataFrame(all_subjects, columns=['Subject'])\n",
    "subjects_df"
   ],
   "metadata": {
    "collapsed": false,
    "ExecuteTime": {
     "end_time": "2023-11-27T01:14:28.542571400Z",
     "start_time": "2023-11-27T01:14:28.484936Z"
    }
   },
   "id": "964e887455e60083"
  },
  {
   "cell_type": "code",
   "execution_count": 175,
   "outputs": [
    {
     "ename": "ValueError",
     "evalue": "could not convert string to float: 'Author1'",
     "output_type": "error",
     "traceback": [
      "\u001B[1;31m---------------------------------------------------------------------------\u001B[0m",
      "\u001B[1;31mValueError\u001B[0m                                Traceback (most recent call last)",
      "\u001B[1;32m~\\AppData\\Local\\Temp\\ipykernel_18400\\856650260.py\u001B[0m in \u001B[0;36m?\u001B[1;34m()\u001B[0m\n\u001B[0;32m     33\u001B[0m \u001B[0mvectorizer\u001B[0m \u001B[1;33m=\u001B[0m \u001B[0mTfidfVectorizer\u001B[0m\u001B[1;33m(\u001B[0m\u001B[1;33m)\u001B[0m\u001B[1;33m\u001B[0m\u001B[1;33m\u001B[0m\u001B[0m\n\u001B[0;32m     34\u001B[0m \u001B[0mtext_features_matrix\u001B[0m \u001B[1;33m=\u001B[0m \u001B[0mvectorizer\u001B[0m\u001B[1;33m.\u001B[0m\u001B[0mfit_transform\u001B[0m\u001B[1;33m(\u001B[0m\u001B[0mdf\u001B[0m\u001B[1;33m[\u001B[0m\u001B[1;34m'Text_Features'\u001B[0m\u001B[1;33m]\u001B[0m\u001B[1;33m)\u001B[0m\u001B[1;33m\u001B[0m\u001B[1;33m\u001B[0m\u001B[0m\n\u001B[0;32m     35\u001B[0m \u001B[1;33m\u001B[0m\u001B[0m\n\u001B[0;32m     36\u001B[0m \u001B[1;31m# Standardize numerical features\u001B[0m\u001B[1;33m\u001B[0m\u001B[1;33m\u001B[0m\u001B[0m\n\u001B[1;32m---> 37\u001B[1;33m \u001B[0mnumerical_features_matrix\u001B[0m \u001B[1;33m=\u001B[0m \u001B[0mStandardScaler\u001B[0m\u001B[1;33m(\u001B[0m\u001B[1;33m)\u001B[0m\u001B[1;33m.\u001B[0m\u001B[0mfit_transform\u001B[0m\u001B[1;33m(\u001B[0m\u001B[0mdf\u001B[0m\u001B[1;33m[\u001B[0m\u001B[0mfeatures\u001B[0m\u001B[1;33m]\u001B[0m\u001B[1;33m)\u001B[0m\u001B[1;33m\u001B[0m\u001B[1;33m\u001B[0m\u001B[0m\n\u001B[0m\u001B[0;32m     38\u001B[0m \u001B[1;33m\u001B[0m\u001B[0m\n\u001B[0;32m     39\u001B[0m \u001B[1;31m# Extract additional features from the datetime column\u001B[0m\u001B[1;33m\u001B[0m\u001B[1;33m\u001B[0m\u001B[0m\n\u001B[0;32m     40\u001B[0m \u001B[0mdf\u001B[0m\u001B[1;33m[\u001B[0m\u001B[1;34m'Month'\u001B[0m\u001B[1;33m]\u001B[0m \u001B[1;33m=\u001B[0m \u001B[0mdf\u001B[0m\u001B[1;33m[\u001B[0m\u001B[1;34m'Report_Date'\u001B[0m\u001B[1;33m]\u001B[0m\u001B[1;33m.\u001B[0m\u001B[0mdt\u001B[0m\u001B[1;33m.\u001B[0m\u001B[0mmonth\u001B[0m\u001B[1;33m\u001B[0m\u001B[1;33m\u001B[0m\u001B[0m\n",
      "\u001B[1;32m~\\anaconda3\\envs\\parser\\Lib\\site-packages\\sklearn\\utils\\_set_output.py\u001B[0m in \u001B[0;36m?\u001B[1;34m(self, X, *args, **kwargs)\u001B[0m\n\u001B[0;32m    155\u001B[0m     \u001B[1;33m@\u001B[0m\u001B[0mwraps\u001B[0m\u001B[1;33m(\u001B[0m\u001B[0mf\u001B[0m\u001B[1;33m)\u001B[0m\u001B[1;33m\u001B[0m\u001B[1;33m\u001B[0m\u001B[0m\n\u001B[0;32m    156\u001B[0m     \u001B[1;32mdef\u001B[0m \u001B[0mwrapped\u001B[0m\u001B[1;33m(\u001B[0m\u001B[0mself\u001B[0m\u001B[1;33m,\u001B[0m \u001B[0mX\u001B[0m\u001B[1;33m,\u001B[0m \u001B[1;33m*\u001B[0m\u001B[0margs\u001B[0m\u001B[1;33m,\u001B[0m \u001B[1;33m**\u001B[0m\u001B[0mkwargs\u001B[0m\u001B[1;33m)\u001B[0m\u001B[1;33m:\u001B[0m\u001B[1;33m\u001B[0m\u001B[1;33m\u001B[0m\u001B[0m\n\u001B[1;32m--> 157\u001B[1;33m         \u001B[0mdata_to_wrap\u001B[0m \u001B[1;33m=\u001B[0m \u001B[0mf\u001B[0m\u001B[1;33m(\u001B[0m\u001B[0mself\u001B[0m\u001B[1;33m,\u001B[0m \u001B[0mX\u001B[0m\u001B[1;33m,\u001B[0m \u001B[1;33m*\u001B[0m\u001B[0margs\u001B[0m\u001B[1;33m,\u001B[0m \u001B[1;33m**\u001B[0m\u001B[0mkwargs\u001B[0m\u001B[1;33m)\u001B[0m\u001B[1;33m\u001B[0m\u001B[1;33m\u001B[0m\u001B[0m\n\u001B[0m\u001B[0;32m    158\u001B[0m         \u001B[1;32mif\u001B[0m \u001B[0misinstance\u001B[0m\u001B[1;33m(\u001B[0m\u001B[0mdata_to_wrap\u001B[0m\u001B[1;33m,\u001B[0m \u001B[0mtuple\u001B[0m\u001B[1;33m)\u001B[0m\u001B[1;33m:\u001B[0m\u001B[1;33m\u001B[0m\u001B[1;33m\u001B[0m\u001B[0m\n\u001B[0;32m    159\u001B[0m             \u001B[1;31m# only wrap the first output for cross decomposition\u001B[0m\u001B[1;33m\u001B[0m\u001B[1;33m\u001B[0m\u001B[0m\n\u001B[0;32m    160\u001B[0m             return_tuple = (\n",
      "\u001B[1;32m~\\anaconda3\\envs\\parser\\Lib\\site-packages\\sklearn\\base.py\u001B[0m in \u001B[0;36m?\u001B[1;34m(self, X, y, **fit_params)\u001B[0m\n\u001B[0;32m    912\u001B[0m         \u001B[1;31m# non-optimized default implementation; override when a better\u001B[0m\u001B[1;33m\u001B[0m\u001B[1;33m\u001B[0m\u001B[0m\n\u001B[0;32m    913\u001B[0m         \u001B[1;31m# method is possible for a given clustering algorithm\u001B[0m\u001B[1;33m\u001B[0m\u001B[1;33m\u001B[0m\u001B[0m\n\u001B[0;32m    914\u001B[0m         \u001B[1;32mif\u001B[0m \u001B[0my\u001B[0m \u001B[1;32mis\u001B[0m \u001B[1;32mNone\u001B[0m\u001B[1;33m:\u001B[0m\u001B[1;33m\u001B[0m\u001B[1;33m\u001B[0m\u001B[0m\n\u001B[0;32m    915\u001B[0m             \u001B[1;31m# fit method of arity 1 (unsupervised transformation)\u001B[0m\u001B[1;33m\u001B[0m\u001B[1;33m\u001B[0m\u001B[0m\n\u001B[1;32m--> 916\u001B[1;33m             \u001B[1;32mreturn\u001B[0m \u001B[0mself\u001B[0m\u001B[1;33m.\u001B[0m\u001B[0mfit\u001B[0m\u001B[1;33m(\u001B[0m\u001B[0mX\u001B[0m\u001B[1;33m,\u001B[0m \u001B[1;33m**\u001B[0m\u001B[0mfit_params\u001B[0m\u001B[1;33m)\u001B[0m\u001B[1;33m.\u001B[0m\u001B[0mtransform\u001B[0m\u001B[1;33m(\u001B[0m\u001B[0mX\u001B[0m\u001B[1;33m)\u001B[0m\u001B[1;33m\u001B[0m\u001B[1;33m\u001B[0m\u001B[0m\n\u001B[0m\u001B[0;32m    917\u001B[0m         \u001B[1;32melse\u001B[0m\u001B[1;33m:\u001B[0m\u001B[1;33m\u001B[0m\u001B[1;33m\u001B[0m\u001B[0m\n\u001B[0;32m    918\u001B[0m             \u001B[1;31m# fit method of arity 2 (supervised transformation)\u001B[0m\u001B[1;33m\u001B[0m\u001B[1;33m\u001B[0m\u001B[0m\n\u001B[0;32m    919\u001B[0m             \u001B[1;32mreturn\u001B[0m \u001B[0mself\u001B[0m\u001B[1;33m.\u001B[0m\u001B[0mfit\u001B[0m\u001B[1;33m(\u001B[0m\u001B[0mX\u001B[0m\u001B[1;33m,\u001B[0m \u001B[0my\u001B[0m\u001B[1;33m,\u001B[0m \u001B[1;33m**\u001B[0m\u001B[0mfit_params\u001B[0m\u001B[1;33m)\u001B[0m\u001B[1;33m.\u001B[0m\u001B[0mtransform\u001B[0m\u001B[1;33m(\u001B[0m\u001B[0mX\u001B[0m\u001B[1;33m)\u001B[0m\u001B[1;33m\u001B[0m\u001B[1;33m\u001B[0m\u001B[0m\n",
      "\u001B[1;32m~\\anaconda3\\envs\\parser\\Lib\\site-packages\\sklearn\\preprocessing\\_data.py\u001B[0m in \u001B[0;36m?\u001B[1;34m(self, X, y, sample_weight)\u001B[0m\n\u001B[0;32m    835\u001B[0m             \u001B[0mFitted\u001B[0m \u001B[0mscaler\u001B[0m\u001B[1;33m.\u001B[0m\u001B[1;33m\u001B[0m\u001B[1;33m\u001B[0m\u001B[0m\n\u001B[0;32m    836\u001B[0m         \"\"\"\n\u001B[0;32m    837\u001B[0m         \u001B[1;31m# Reset internal state before fitting\u001B[0m\u001B[1;33m\u001B[0m\u001B[1;33m\u001B[0m\u001B[0m\n\u001B[0;32m    838\u001B[0m         \u001B[0mself\u001B[0m\u001B[1;33m.\u001B[0m\u001B[0m_reset\u001B[0m\u001B[1;33m(\u001B[0m\u001B[1;33m)\u001B[0m\u001B[1;33m\u001B[0m\u001B[1;33m\u001B[0m\u001B[0m\n\u001B[1;32m--> 839\u001B[1;33m         \u001B[1;32mreturn\u001B[0m \u001B[0mself\u001B[0m\u001B[1;33m.\u001B[0m\u001B[0mpartial_fit\u001B[0m\u001B[1;33m(\u001B[0m\u001B[0mX\u001B[0m\u001B[1;33m,\u001B[0m \u001B[0my\u001B[0m\u001B[1;33m,\u001B[0m \u001B[0msample_weight\u001B[0m\u001B[1;33m)\u001B[0m\u001B[1;33m\u001B[0m\u001B[1;33m\u001B[0m\u001B[0m\n\u001B[0m",
      "\u001B[1;32m~\\anaconda3\\envs\\parser\\Lib\\site-packages\\sklearn\\base.py\u001B[0m in \u001B[0;36m?\u001B[1;34m(estimator, *args, **kwargs)\u001B[0m\n\u001B[0;32m   1148\u001B[0m                 skip_parameter_validation=(\n\u001B[0;32m   1149\u001B[0m                     \u001B[0mprefer_skip_nested_validation\u001B[0m \u001B[1;32mor\u001B[0m \u001B[0mglobal_skip_validation\u001B[0m\u001B[1;33m\u001B[0m\u001B[1;33m\u001B[0m\u001B[0m\n\u001B[0;32m   1150\u001B[0m                 )\n\u001B[0;32m   1151\u001B[0m             ):\n\u001B[1;32m-> 1152\u001B[1;33m                 \u001B[1;32mreturn\u001B[0m \u001B[0mfit_method\u001B[0m\u001B[1;33m(\u001B[0m\u001B[0mestimator\u001B[0m\u001B[1;33m,\u001B[0m \u001B[1;33m*\u001B[0m\u001B[0margs\u001B[0m\u001B[1;33m,\u001B[0m \u001B[1;33m**\u001B[0m\u001B[0mkwargs\u001B[0m\u001B[1;33m)\u001B[0m\u001B[1;33m\u001B[0m\u001B[1;33m\u001B[0m\u001B[0m\n\u001B[0m",
      "\u001B[1;32m~\\anaconda3\\envs\\parser\\Lib\\site-packages\\sklearn\\preprocessing\\_data.py\u001B[0m in \u001B[0;36m?\u001B[1;34m(self, X, y, sample_weight)\u001B[0m\n\u001B[0;32m    871\u001B[0m         \u001B[0mself\u001B[0m \u001B[1;33m:\u001B[0m \u001B[0mobject\u001B[0m\u001B[1;33m\u001B[0m\u001B[1;33m\u001B[0m\u001B[0m\n\u001B[0;32m    872\u001B[0m             \u001B[0mFitted\u001B[0m \u001B[0mscaler\u001B[0m\u001B[1;33m.\u001B[0m\u001B[1;33m\u001B[0m\u001B[1;33m\u001B[0m\u001B[0m\n\u001B[0;32m    873\u001B[0m         \"\"\"\n\u001B[0;32m    874\u001B[0m         \u001B[0mfirst_call\u001B[0m \u001B[1;33m=\u001B[0m \u001B[1;32mnot\u001B[0m \u001B[0mhasattr\u001B[0m\u001B[1;33m(\u001B[0m\u001B[0mself\u001B[0m\u001B[1;33m,\u001B[0m \u001B[1;34m\"n_samples_seen_\"\u001B[0m\u001B[1;33m)\u001B[0m\u001B[1;33m\u001B[0m\u001B[1;33m\u001B[0m\u001B[0m\n\u001B[1;32m--> 875\u001B[1;33m         X = self._validate_data(\n\u001B[0m\u001B[0;32m    876\u001B[0m             \u001B[0mX\u001B[0m\u001B[1;33m,\u001B[0m\u001B[1;33m\u001B[0m\u001B[1;33m\u001B[0m\u001B[0m\n\u001B[0;32m    877\u001B[0m             \u001B[0maccept_sparse\u001B[0m\u001B[1;33m=\u001B[0m\u001B[1;33m(\u001B[0m\u001B[1;34m\"csr\"\u001B[0m\u001B[1;33m,\u001B[0m \u001B[1;34m\"csc\"\u001B[0m\u001B[1;33m)\u001B[0m\u001B[1;33m,\u001B[0m\u001B[1;33m\u001B[0m\u001B[1;33m\u001B[0m\u001B[0m\n\u001B[0;32m    878\u001B[0m             \u001B[0mdtype\u001B[0m\u001B[1;33m=\u001B[0m\u001B[0mFLOAT_DTYPES\u001B[0m\u001B[1;33m,\u001B[0m\u001B[1;33m\u001B[0m\u001B[1;33m\u001B[0m\u001B[0m\n",
      "\u001B[1;32m~\\anaconda3\\envs\\parser\\Lib\\site-packages\\sklearn\\base.py\u001B[0m in \u001B[0;36m?\u001B[1;34m(self, X, y, reset, validate_separately, cast_to_ndarray, **check_params)\u001B[0m\n\u001B[0;32m    601\u001B[0m                 \u001B[0mout\u001B[0m \u001B[1;33m=\u001B[0m \u001B[0my\u001B[0m\u001B[1;33m\u001B[0m\u001B[1;33m\u001B[0m\u001B[0m\n\u001B[0;32m    602\u001B[0m             \u001B[1;32melse\u001B[0m\u001B[1;33m:\u001B[0m\u001B[1;33m\u001B[0m\u001B[1;33m\u001B[0m\u001B[0m\n\u001B[0;32m    603\u001B[0m                 \u001B[0mout\u001B[0m \u001B[1;33m=\u001B[0m \u001B[0mX\u001B[0m\u001B[1;33m,\u001B[0m \u001B[0my\u001B[0m\u001B[1;33m\u001B[0m\u001B[1;33m\u001B[0m\u001B[0m\n\u001B[0;32m    604\u001B[0m         \u001B[1;32melif\u001B[0m \u001B[1;32mnot\u001B[0m \u001B[0mno_val_X\u001B[0m \u001B[1;32mand\u001B[0m \u001B[0mno_val_y\u001B[0m\u001B[1;33m:\u001B[0m\u001B[1;33m\u001B[0m\u001B[1;33m\u001B[0m\u001B[0m\n\u001B[1;32m--> 605\u001B[1;33m             \u001B[0mout\u001B[0m \u001B[1;33m=\u001B[0m \u001B[0mcheck_array\u001B[0m\u001B[1;33m(\u001B[0m\u001B[0mX\u001B[0m\u001B[1;33m,\u001B[0m \u001B[0minput_name\u001B[0m\u001B[1;33m=\u001B[0m\u001B[1;34m\"X\"\u001B[0m\u001B[1;33m,\u001B[0m \u001B[1;33m**\u001B[0m\u001B[0mcheck_params\u001B[0m\u001B[1;33m)\u001B[0m\u001B[1;33m\u001B[0m\u001B[1;33m\u001B[0m\u001B[0m\n\u001B[0m\u001B[0;32m    606\u001B[0m         \u001B[1;32melif\u001B[0m \u001B[0mno_val_X\u001B[0m \u001B[1;32mand\u001B[0m \u001B[1;32mnot\u001B[0m \u001B[0mno_val_y\u001B[0m\u001B[1;33m:\u001B[0m\u001B[1;33m\u001B[0m\u001B[1;33m\u001B[0m\u001B[0m\n\u001B[0;32m    607\u001B[0m             \u001B[0mout\u001B[0m \u001B[1;33m=\u001B[0m \u001B[0m_check_y\u001B[0m\u001B[1;33m(\u001B[0m\u001B[0my\u001B[0m\u001B[1;33m,\u001B[0m \u001B[1;33m**\u001B[0m\u001B[0mcheck_params\u001B[0m\u001B[1;33m)\u001B[0m\u001B[1;33m\u001B[0m\u001B[1;33m\u001B[0m\u001B[0m\n\u001B[0;32m    608\u001B[0m         \u001B[1;32melse\u001B[0m\u001B[1;33m:\u001B[0m\u001B[1;33m\u001B[0m\u001B[1;33m\u001B[0m\u001B[0m\n",
      "\u001B[1;32m~\\anaconda3\\envs\\parser\\Lib\\site-packages\\sklearn\\utils\\validation.py\u001B[0m in \u001B[0;36m?\u001B[1;34m(array, accept_sparse, accept_large_sparse, dtype, order, copy, force_all_finite, ensure_2d, allow_nd, ensure_min_samples, ensure_min_features, estimator, input_name)\u001B[0m\n\u001B[0;32m    912\u001B[0m                         )\n\u001B[0;32m    913\u001B[0m                     \u001B[0marray\u001B[0m \u001B[1;33m=\u001B[0m \u001B[0mxp\u001B[0m\u001B[1;33m.\u001B[0m\u001B[0mastype\u001B[0m\u001B[1;33m(\u001B[0m\u001B[0marray\u001B[0m\u001B[1;33m,\u001B[0m \u001B[0mdtype\u001B[0m\u001B[1;33m,\u001B[0m \u001B[0mcopy\u001B[0m\u001B[1;33m=\u001B[0m\u001B[1;32mFalse\u001B[0m\u001B[1;33m)\u001B[0m\u001B[1;33m\u001B[0m\u001B[1;33m\u001B[0m\u001B[0m\n\u001B[0;32m    914\u001B[0m                 \u001B[1;32melse\u001B[0m\u001B[1;33m:\u001B[0m\u001B[1;33m\u001B[0m\u001B[1;33m\u001B[0m\u001B[0m\n\u001B[0;32m    915\u001B[0m                     \u001B[0marray\u001B[0m \u001B[1;33m=\u001B[0m \u001B[0m_asarray_with_order\u001B[0m\u001B[1;33m(\u001B[0m\u001B[0marray\u001B[0m\u001B[1;33m,\u001B[0m \u001B[0morder\u001B[0m\u001B[1;33m=\u001B[0m\u001B[0morder\u001B[0m\u001B[1;33m,\u001B[0m \u001B[0mdtype\u001B[0m\u001B[1;33m=\u001B[0m\u001B[0mdtype\u001B[0m\u001B[1;33m,\u001B[0m \u001B[0mxp\u001B[0m\u001B[1;33m=\u001B[0m\u001B[0mxp\u001B[0m\u001B[1;33m)\u001B[0m\u001B[1;33m\u001B[0m\u001B[1;33m\u001B[0m\u001B[0m\n\u001B[1;32m--> 916\u001B[1;33m             \u001B[1;32mexcept\u001B[0m \u001B[0mComplexWarning\u001B[0m \u001B[1;32mas\u001B[0m \u001B[0mcomplex_warning\u001B[0m\u001B[1;33m:\u001B[0m\u001B[1;33m\u001B[0m\u001B[1;33m\u001B[0m\u001B[0m\n\u001B[0m\u001B[0;32m    917\u001B[0m                 raise ValueError(\n\u001B[0;32m    918\u001B[0m                     \u001B[1;34m\"Complex data not supported\\n{}\\n\"\u001B[0m\u001B[1;33m.\u001B[0m\u001B[0mformat\u001B[0m\u001B[1;33m(\u001B[0m\u001B[0marray\u001B[0m\u001B[1;33m)\u001B[0m\u001B[1;33m\u001B[0m\u001B[1;33m\u001B[0m\u001B[0m\n\u001B[0;32m    919\u001B[0m                 ) from complex_warning\n",
      "\u001B[1;32m~\\anaconda3\\envs\\parser\\Lib\\site-packages\\sklearn\\utils\\_array_api.py\u001B[0m in \u001B[0;36m?\u001B[1;34m(array, dtype, order, copy, xp)\u001B[0m\n\u001B[0;32m    376\u001B[0m         \u001B[1;31m# Use NumPy API to support order\u001B[0m\u001B[1;33m\u001B[0m\u001B[1;33m\u001B[0m\u001B[0m\n\u001B[0;32m    377\u001B[0m         \u001B[1;32mif\u001B[0m \u001B[0mcopy\u001B[0m \u001B[1;32mis\u001B[0m \u001B[1;32mTrue\u001B[0m\u001B[1;33m:\u001B[0m\u001B[1;33m\u001B[0m\u001B[1;33m\u001B[0m\u001B[0m\n\u001B[0;32m    378\u001B[0m             \u001B[0marray\u001B[0m \u001B[1;33m=\u001B[0m \u001B[0mnumpy\u001B[0m\u001B[1;33m.\u001B[0m\u001B[0marray\u001B[0m\u001B[1;33m(\u001B[0m\u001B[0marray\u001B[0m\u001B[1;33m,\u001B[0m \u001B[0morder\u001B[0m\u001B[1;33m=\u001B[0m\u001B[0morder\u001B[0m\u001B[1;33m,\u001B[0m \u001B[0mdtype\u001B[0m\u001B[1;33m=\u001B[0m\u001B[0mdtype\u001B[0m\u001B[1;33m)\u001B[0m\u001B[1;33m\u001B[0m\u001B[1;33m\u001B[0m\u001B[0m\n\u001B[0;32m    379\u001B[0m         \u001B[1;32melse\u001B[0m\u001B[1;33m:\u001B[0m\u001B[1;33m\u001B[0m\u001B[1;33m\u001B[0m\u001B[0m\n\u001B[1;32m--> 380\u001B[1;33m             \u001B[0marray\u001B[0m \u001B[1;33m=\u001B[0m \u001B[0mnumpy\u001B[0m\u001B[1;33m.\u001B[0m\u001B[0masarray\u001B[0m\u001B[1;33m(\u001B[0m\u001B[0marray\u001B[0m\u001B[1;33m,\u001B[0m \u001B[0morder\u001B[0m\u001B[1;33m=\u001B[0m\u001B[0morder\u001B[0m\u001B[1;33m,\u001B[0m \u001B[0mdtype\u001B[0m\u001B[1;33m=\u001B[0m\u001B[0mdtype\u001B[0m\u001B[1;33m)\u001B[0m\u001B[1;33m\u001B[0m\u001B[1;33m\u001B[0m\u001B[0m\n\u001B[0m\u001B[0;32m    381\u001B[0m \u001B[1;33m\u001B[0m\u001B[0m\n\u001B[0;32m    382\u001B[0m         \u001B[1;31m# At this point array is a NumPy ndarray. We convert it to an array\u001B[0m\u001B[1;33m\u001B[0m\u001B[1;33m\u001B[0m\u001B[0m\n\u001B[0;32m    383\u001B[0m         \u001B[1;31m# container that is consistent with the input's namespace.\u001B[0m\u001B[1;33m\u001B[0m\u001B[1;33m\u001B[0m\u001B[0m\n",
      "\u001B[1;32m~\\anaconda3\\envs\\parser\\Lib\\site-packages\\pandas\\core\\generic.py\u001B[0m in \u001B[0;36m?\u001B[1;34m(self, dtype)\u001B[0m\n\u001B[0;32m   2082\u001B[0m     \u001B[1;32mdef\u001B[0m \u001B[0m__array__\u001B[0m\u001B[1;33m(\u001B[0m\u001B[0mself\u001B[0m\u001B[1;33m,\u001B[0m \u001B[0mdtype\u001B[0m\u001B[1;33m:\u001B[0m \u001B[0mnpt\u001B[0m\u001B[1;33m.\u001B[0m\u001B[0mDTypeLike\u001B[0m \u001B[1;33m|\u001B[0m \u001B[1;32mNone\u001B[0m \u001B[1;33m=\u001B[0m \u001B[1;32mNone\u001B[0m\u001B[1;33m)\u001B[0m \u001B[1;33m->\u001B[0m \u001B[0mnp\u001B[0m\u001B[1;33m.\u001B[0m\u001B[0mndarray\u001B[0m\u001B[1;33m:\u001B[0m\u001B[1;33m\u001B[0m\u001B[1;33m\u001B[0m\u001B[0m\n\u001B[0;32m   2083\u001B[0m         \u001B[0mvalues\u001B[0m \u001B[1;33m=\u001B[0m \u001B[0mself\u001B[0m\u001B[1;33m.\u001B[0m\u001B[0m_values\u001B[0m\u001B[1;33m\u001B[0m\u001B[1;33m\u001B[0m\u001B[0m\n\u001B[1;32m-> 2084\u001B[1;33m         \u001B[0marr\u001B[0m \u001B[1;33m=\u001B[0m \u001B[0mnp\u001B[0m\u001B[1;33m.\u001B[0m\u001B[0masarray\u001B[0m\u001B[1;33m(\u001B[0m\u001B[0mvalues\u001B[0m\u001B[1;33m,\u001B[0m \u001B[0mdtype\u001B[0m\u001B[1;33m=\u001B[0m\u001B[0mdtype\u001B[0m\u001B[1;33m)\u001B[0m\u001B[1;33m\u001B[0m\u001B[1;33m\u001B[0m\u001B[0m\n\u001B[0m\u001B[0;32m   2085\u001B[0m         if (\n\u001B[0;32m   2086\u001B[0m             \u001B[0mastype_is_view\u001B[0m\u001B[1;33m(\u001B[0m\u001B[0mvalues\u001B[0m\u001B[1;33m.\u001B[0m\u001B[0mdtype\u001B[0m\u001B[1;33m,\u001B[0m \u001B[0marr\u001B[0m\u001B[1;33m.\u001B[0m\u001B[0mdtype\u001B[0m\u001B[1;33m)\u001B[0m\u001B[1;33m\u001B[0m\u001B[1;33m\u001B[0m\u001B[0m\n\u001B[0;32m   2087\u001B[0m             \u001B[1;32mand\u001B[0m \u001B[0musing_copy_on_write\u001B[0m\u001B[1;33m(\u001B[0m\u001B[1;33m)\u001B[0m\u001B[1;33m\u001B[0m\u001B[1;33m\u001B[0m\u001B[0m\n",
      "\u001B[1;31mValueError\u001B[0m: could not convert string to float: 'Author1'"
     ]
    }
   ],
   "source": [
    "import pandas as pd\n",
    "from sklearn.feature_extraction.text import TfidfVectorizer\n",
    "from sklearn.cluster import DBSCAN\n",
    "from sklearn.preprocessing import StandardScaler\n",
    "import matplotlib.pyplot as plt\n",
    "import seaborn as sns\n",
    "\n",
    "# Create a synthetic dataset with report date as datetime format\n",
    "data = {\n",
    "    'Title': ['Book A', 'Book B', 'Book C', 'Book D', 'Book E'],\n",
    "    'Author': ['Author1', 'Author2', 'Author1', 'Author3', 'Author2'],\n",
    "    'Publisher': ['Pub1', 'Pub2', 'Pub1', 'Pub3', 'Pub2'],\n",
    "    'Subjects': [['Fiction', 'Mystery'], ['Science Fiction'], ['Fiction'], ['Non-Fiction'], []],\n",
    "    'Publication_Year': [2010, 2015, 2010, 2005, 2018],\n",
    "    'Item_Type_Code': ['Type1', 'Type2', 'Type1', 'Type3', 'Type2'],\n",
    "    'Item_Collection_Code': ['Collection1', 'Collection2', 'Collection1', 'Collection3', 'Collection2'],\n",
    "    'Report_Date': ['2023-01-15', '2023-01-10', '2023-01-12', '2023-01-20', '2023-01-18']\n",
    "}\n",
    "\n",
    "df = pd.DataFrame(data)\n",
    "\n",
    "# Convert 'Report_Date' to datetime format\n",
    "df['Report_Date'] = pd.to_datetime(df['Report_Date'])\n",
    "\n",
    "# Extract features for clustering\n",
    "features = ['Author', 'Publisher', 'Publication_Year', 'Item_Type_Code', 'Item_Collection_Code']\n",
    "text_features = ['Title']\n",
    "\n",
    "# Combine text features into a single column\n",
    "df['Text_Features'] = df[text_features].apply(lambda x: ' '.join(x), axis=1)\n",
    "\n",
    "# Create a TF-IDF vectorizer for text features\n",
    "vectorizer = TfidfVectorizer()\n",
    "text_features_matrix = vectorizer.fit_transform(df['Text_Features'])\n",
    "\n",
    "# Standardize numerical features\n",
    "numerical_features_matrix = StandardScaler().fit_transform(df[features])\n",
    "\n",
    "# Extract additional features from the datetime column\n",
    "df['Month'] = df['Report_Date'].dt.month\n",
    "df['DayOfWeek'] = df['Report_Date'].dt.dayofweek\n",
    "df['Hour'] = df['Report_Date'].dt.hour\n",
    "\n",
    "# Concatenate TF-IDF matrix, numerical features matrix, and additional datetime features\n",
    "combined_matrix = pd.concat([\n",
    "    pd.DataFrame(text_features_matrix.toarray(), columns=vectorizer.get_feature_names_out()),\n",
    "    pd.DataFrame(numerical_features_matrix, columns=features),\n",
    "    df[['Month', 'DayOfWeek', 'Hour']]\n",
    "], axis=1)\n",
    "\n",
    "# Perform DBSCAN clustering\n",
    "dbscan = DBSCAN(eps=0.5, min_samples=2)\n",
    "df['Cluster'] = dbscan.fit_predict(combined_matrix)\n",
    "\n",
    "# Visualize the clustering\n",
    "sns.scatterplot(x='Publication_Year', y='Item_Type_Code', hue='Cluster', data=df, palette='viridis')\n",
    "plt.xlabel('Publication Year')\n",
    "plt.ylabel('Item Type Code')\n",
    "plt.title('DBSCAN Clustering of Library Books with Datetime Features')\n",
    "plt.legend(title='Cluster')\n",
    "plt.show()\n",
    "\n",
    "# Display the clustered dataframe\n",
    "print(df[['Title', 'Cluster']])\n"
   ],
   "metadata": {
    "collapsed": false,
    "ExecuteTime": {
     "end_time": "2023-11-27T02:32:45.327216900Z",
     "start_time": "2023-11-27T02:32:45.270481500Z"
    }
   },
   "id": "9abde8366e5caf14"
  },
  {
   "cell_type": "code",
   "execution_count": 173,
   "outputs": [
    {
     "name": "stdout",
     "output_type": "stream",
     "text": [
      "Collecting seaborn\n",
      "  Downloading seaborn-0.13.0-py3-none-any.whl.metadata (5.3 kB)\n",
      "Requirement already satisfied: numpy!=1.24.0,>=1.20 in c:\\users\\trush\\anaconda3\\envs\\parser\\lib\\site-packages (from seaborn) (1.26.0)\n",
      "Requirement already satisfied: pandas>=1.2 in c:\\users\\trush\\anaconda3\\envs\\parser\\lib\\site-packages (from seaborn) (2.1.1)\n",
      "Requirement already satisfied: matplotlib!=3.6.1,>=3.3 in c:\\users\\trush\\anaconda3\\envs\\parser\\lib\\site-packages (from seaborn) (3.8.2)\n",
      "Requirement already satisfied: contourpy>=1.0.1 in c:\\users\\trush\\anaconda3\\envs\\parser\\lib\\site-packages (from matplotlib!=3.6.1,>=3.3->seaborn) (1.2.0)\n",
      "Requirement already satisfied: cycler>=0.10 in c:\\users\\trush\\anaconda3\\envs\\parser\\lib\\site-packages (from matplotlib!=3.6.1,>=3.3->seaborn) (0.12.1)\n",
      "Requirement already satisfied: fonttools>=4.22.0 in c:\\users\\trush\\anaconda3\\envs\\parser\\lib\\site-packages (from matplotlib!=3.6.1,>=3.3->seaborn) (4.45.1)\n",
      "Requirement already satisfied: kiwisolver>=1.3.1 in c:\\users\\trush\\anaconda3\\envs\\parser\\lib\\site-packages (from matplotlib!=3.6.1,>=3.3->seaborn) (1.4.5)\n",
      "Requirement already satisfied: packaging>=20.0 in c:\\users\\trush\\anaconda3\\envs\\parser\\lib\\site-packages (from matplotlib!=3.6.1,>=3.3->seaborn) (23.1)\n",
      "Requirement already satisfied: pillow>=8 in c:\\users\\trush\\anaconda3\\envs\\parser\\lib\\site-packages (from matplotlib!=3.6.1,>=3.3->seaborn) (10.1.0)\n",
      "Requirement already satisfied: pyparsing>=2.3.1 in c:\\users\\trush\\anaconda3\\envs\\parser\\lib\\site-packages (from matplotlib!=3.6.1,>=3.3->seaborn) (3.1.1)\n",
      "Requirement already satisfied: python-dateutil>=2.7 in c:\\users\\trush\\anaconda3\\envs\\parser\\lib\\site-packages (from matplotlib!=3.6.1,>=3.3->seaborn) (2.8.2)\n",
      "Requirement already satisfied: pytz>=2020.1 in c:\\users\\trush\\anaconda3\\envs\\parser\\lib\\site-packages (from pandas>=1.2->seaborn) (2023.3.post1)\n",
      "Requirement already satisfied: tzdata>=2022.1 in c:\\users\\trush\\anaconda3\\envs\\parser\\lib\\site-packages (from pandas>=1.2->seaborn) (2023.3)\n",
      "Requirement already satisfied: six>=1.5 in c:\\users\\trush\\anaconda3\\envs\\parser\\lib\\site-packages (from python-dateutil>=2.7->matplotlib!=3.6.1,>=3.3->seaborn) (1.16.0)\n",
      "Downloading seaborn-0.13.0-py3-none-any.whl (294 kB)\n",
      "   ---------------------------------------- 0.0/294.6 kB ? eta -:--:--\n",
      "   - -------------------------------------- 10.2/294.6 kB ? eta -:--:--\n",
      "   ---- ---------------------------------- 30.7/294.6 kB 435.7 kB/s eta 0:00:01\n",
      "   -------- ------------------------------ 61.4/294.6 kB 656.4 kB/s eta 0:00:01\n",
      "   ----------------------- ---------------- 174.1/294.6 kB 1.3 MB/s eta 0:00:01\n",
      "   ---------------------------------------- 294.6/294.6 kB 1.5 MB/s eta 0:00:00\n",
      "Installing collected packages: seaborn\n",
      "Successfully installed seaborn-0.13.0\n"
     ]
    }
   ],
   "source": [
    "!pip install seaborn"
   ],
   "metadata": {
    "collapsed": false,
    "ExecuteTime": {
     "end_time": "2023-11-27T02:32:17.981087300Z",
     "start_time": "2023-11-27T02:32:13.550765400Z"
    }
   },
   "id": "f601fe6dd0f3da"
  },
  {
   "cell_type": "code",
   "execution_count": 176,
   "outputs": [
    {
     "ename": "ValueError",
     "evalue": "could not convert string to float: 'Author1'",
     "output_type": "error",
     "traceback": [
      "\u001B[1;31m---------------------------------------------------------------------------\u001B[0m",
      "\u001B[1;31mValueError\u001B[0m                                Traceback (most recent call last)",
      "\u001B[1;32m~\\AppData\\Local\\Temp\\ipykernel_18400\\3108362486.py\u001B[0m in \u001B[0;36m?\u001B[1;34m()\u001B[0m\n\u001B[0;32m     32\u001B[0m \u001B[0mvectorizer\u001B[0m \u001B[1;33m=\u001B[0m \u001B[0mTfidfVectorizer\u001B[0m\u001B[1;33m(\u001B[0m\u001B[1;33m)\u001B[0m\u001B[1;33m\u001B[0m\u001B[1;33m\u001B[0m\u001B[0m\n\u001B[0;32m     33\u001B[0m \u001B[0mtext_features_matrix\u001B[0m \u001B[1;33m=\u001B[0m \u001B[0mvectorizer\u001B[0m\u001B[1;33m.\u001B[0m\u001B[0mfit_transform\u001B[0m\u001B[1;33m(\u001B[0m\u001B[0mdf\u001B[0m\u001B[1;33m[\u001B[0m\u001B[1;34m'Text_Features'\u001B[0m\u001B[1;33m]\u001B[0m\u001B[1;33m)\u001B[0m\u001B[1;33m\u001B[0m\u001B[1;33m\u001B[0m\u001B[0m\n\u001B[0;32m     34\u001B[0m \u001B[1;33m\u001B[0m\u001B[0m\n\u001B[0;32m     35\u001B[0m \u001B[1;31m# Standardize numerical features\u001B[0m\u001B[1;33m\u001B[0m\u001B[1;33m\u001B[0m\u001B[0m\n\u001B[1;32m---> 36\u001B[1;33m \u001B[0mnumerical_features_matrix\u001B[0m \u001B[1;33m=\u001B[0m \u001B[0mStandardScaler\u001B[0m\u001B[1;33m(\u001B[0m\u001B[1;33m)\u001B[0m\u001B[1;33m.\u001B[0m\u001B[0mfit_transform\u001B[0m\u001B[1;33m(\u001B[0m\u001B[0mdf\u001B[0m\u001B[1;33m[\u001B[0m\u001B[0mfeatures\u001B[0m\u001B[1;33m]\u001B[0m\u001B[1;33m)\u001B[0m\u001B[1;33m\u001B[0m\u001B[1;33m\u001B[0m\u001B[0m\n\u001B[0m\u001B[0;32m     37\u001B[0m \u001B[1;33m\u001B[0m\u001B[0m\n\u001B[0;32m     38\u001B[0m \u001B[1;31m# Concatenate TF-IDF matrix, numerical features matrix, and datetime features\u001B[0m\u001B[1;33m\u001B[0m\u001B[1;33m\u001B[0m\u001B[0m\n\u001B[0;32m     39\u001B[0m combined_matrix = pd.concat([\n",
      "\u001B[1;32m~\\anaconda3\\envs\\parser\\Lib\\site-packages\\sklearn\\utils\\_set_output.py\u001B[0m in \u001B[0;36m?\u001B[1;34m(self, X, *args, **kwargs)\u001B[0m\n\u001B[0;32m    155\u001B[0m     \u001B[1;33m@\u001B[0m\u001B[0mwraps\u001B[0m\u001B[1;33m(\u001B[0m\u001B[0mf\u001B[0m\u001B[1;33m)\u001B[0m\u001B[1;33m\u001B[0m\u001B[1;33m\u001B[0m\u001B[0m\n\u001B[0;32m    156\u001B[0m     \u001B[1;32mdef\u001B[0m \u001B[0mwrapped\u001B[0m\u001B[1;33m(\u001B[0m\u001B[0mself\u001B[0m\u001B[1;33m,\u001B[0m \u001B[0mX\u001B[0m\u001B[1;33m,\u001B[0m \u001B[1;33m*\u001B[0m\u001B[0margs\u001B[0m\u001B[1;33m,\u001B[0m \u001B[1;33m**\u001B[0m\u001B[0mkwargs\u001B[0m\u001B[1;33m)\u001B[0m\u001B[1;33m:\u001B[0m\u001B[1;33m\u001B[0m\u001B[1;33m\u001B[0m\u001B[0m\n\u001B[1;32m--> 157\u001B[1;33m         \u001B[0mdata_to_wrap\u001B[0m \u001B[1;33m=\u001B[0m \u001B[0mf\u001B[0m\u001B[1;33m(\u001B[0m\u001B[0mself\u001B[0m\u001B[1;33m,\u001B[0m \u001B[0mX\u001B[0m\u001B[1;33m,\u001B[0m \u001B[1;33m*\u001B[0m\u001B[0margs\u001B[0m\u001B[1;33m,\u001B[0m \u001B[1;33m**\u001B[0m\u001B[0mkwargs\u001B[0m\u001B[1;33m)\u001B[0m\u001B[1;33m\u001B[0m\u001B[1;33m\u001B[0m\u001B[0m\n\u001B[0m\u001B[0;32m    158\u001B[0m         \u001B[1;32mif\u001B[0m \u001B[0misinstance\u001B[0m\u001B[1;33m(\u001B[0m\u001B[0mdata_to_wrap\u001B[0m\u001B[1;33m,\u001B[0m \u001B[0mtuple\u001B[0m\u001B[1;33m)\u001B[0m\u001B[1;33m:\u001B[0m\u001B[1;33m\u001B[0m\u001B[1;33m\u001B[0m\u001B[0m\n\u001B[0;32m    159\u001B[0m             \u001B[1;31m# only wrap the first output for cross decomposition\u001B[0m\u001B[1;33m\u001B[0m\u001B[1;33m\u001B[0m\u001B[0m\n\u001B[0;32m    160\u001B[0m             return_tuple = (\n",
      "\u001B[1;32m~\\anaconda3\\envs\\parser\\Lib\\site-packages\\sklearn\\base.py\u001B[0m in \u001B[0;36m?\u001B[1;34m(self, X, y, **fit_params)\u001B[0m\n\u001B[0;32m    912\u001B[0m         \u001B[1;31m# non-optimized default implementation; override when a better\u001B[0m\u001B[1;33m\u001B[0m\u001B[1;33m\u001B[0m\u001B[0m\n\u001B[0;32m    913\u001B[0m         \u001B[1;31m# method is possible for a given clustering algorithm\u001B[0m\u001B[1;33m\u001B[0m\u001B[1;33m\u001B[0m\u001B[0m\n\u001B[0;32m    914\u001B[0m         \u001B[1;32mif\u001B[0m \u001B[0my\u001B[0m \u001B[1;32mis\u001B[0m \u001B[1;32mNone\u001B[0m\u001B[1;33m:\u001B[0m\u001B[1;33m\u001B[0m\u001B[1;33m\u001B[0m\u001B[0m\n\u001B[0;32m    915\u001B[0m             \u001B[1;31m# fit method of arity 1 (unsupervised transformation)\u001B[0m\u001B[1;33m\u001B[0m\u001B[1;33m\u001B[0m\u001B[0m\n\u001B[1;32m--> 916\u001B[1;33m             \u001B[1;32mreturn\u001B[0m \u001B[0mself\u001B[0m\u001B[1;33m.\u001B[0m\u001B[0mfit\u001B[0m\u001B[1;33m(\u001B[0m\u001B[0mX\u001B[0m\u001B[1;33m,\u001B[0m \u001B[1;33m**\u001B[0m\u001B[0mfit_params\u001B[0m\u001B[1;33m)\u001B[0m\u001B[1;33m.\u001B[0m\u001B[0mtransform\u001B[0m\u001B[1;33m(\u001B[0m\u001B[0mX\u001B[0m\u001B[1;33m)\u001B[0m\u001B[1;33m\u001B[0m\u001B[1;33m\u001B[0m\u001B[0m\n\u001B[0m\u001B[0;32m    917\u001B[0m         \u001B[1;32melse\u001B[0m\u001B[1;33m:\u001B[0m\u001B[1;33m\u001B[0m\u001B[1;33m\u001B[0m\u001B[0m\n\u001B[0;32m    918\u001B[0m             \u001B[1;31m# fit method of arity 2 (supervised transformation)\u001B[0m\u001B[1;33m\u001B[0m\u001B[1;33m\u001B[0m\u001B[0m\n\u001B[0;32m    919\u001B[0m             \u001B[1;32mreturn\u001B[0m \u001B[0mself\u001B[0m\u001B[1;33m.\u001B[0m\u001B[0mfit\u001B[0m\u001B[1;33m(\u001B[0m\u001B[0mX\u001B[0m\u001B[1;33m,\u001B[0m \u001B[0my\u001B[0m\u001B[1;33m,\u001B[0m \u001B[1;33m**\u001B[0m\u001B[0mfit_params\u001B[0m\u001B[1;33m)\u001B[0m\u001B[1;33m.\u001B[0m\u001B[0mtransform\u001B[0m\u001B[1;33m(\u001B[0m\u001B[0mX\u001B[0m\u001B[1;33m)\u001B[0m\u001B[1;33m\u001B[0m\u001B[1;33m\u001B[0m\u001B[0m\n",
      "\u001B[1;32m~\\anaconda3\\envs\\parser\\Lib\\site-packages\\sklearn\\preprocessing\\_data.py\u001B[0m in \u001B[0;36m?\u001B[1;34m(self, X, y, sample_weight)\u001B[0m\n\u001B[0;32m    835\u001B[0m             \u001B[0mFitted\u001B[0m \u001B[0mscaler\u001B[0m\u001B[1;33m.\u001B[0m\u001B[1;33m\u001B[0m\u001B[1;33m\u001B[0m\u001B[0m\n\u001B[0;32m    836\u001B[0m         \"\"\"\n\u001B[0;32m    837\u001B[0m         \u001B[1;31m# Reset internal state before fitting\u001B[0m\u001B[1;33m\u001B[0m\u001B[1;33m\u001B[0m\u001B[0m\n\u001B[0;32m    838\u001B[0m         \u001B[0mself\u001B[0m\u001B[1;33m.\u001B[0m\u001B[0m_reset\u001B[0m\u001B[1;33m(\u001B[0m\u001B[1;33m)\u001B[0m\u001B[1;33m\u001B[0m\u001B[1;33m\u001B[0m\u001B[0m\n\u001B[1;32m--> 839\u001B[1;33m         \u001B[1;32mreturn\u001B[0m \u001B[0mself\u001B[0m\u001B[1;33m.\u001B[0m\u001B[0mpartial_fit\u001B[0m\u001B[1;33m(\u001B[0m\u001B[0mX\u001B[0m\u001B[1;33m,\u001B[0m \u001B[0my\u001B[0m\u001B[1;33m,\u001B[0m \u001B[0msample_weight\u001B[0m\u001B[1;33m)\u001B[0m\u001B[1;33m\u001B[0m\u001B[1;33m\u001B[0m\u001B[0m\n\u001B[0m",
      "\u001B[1;32m~\\anaconda3\\envs\\parser\\Lib\\site-packages\\sklearn\\base.py\u001B[0m in \u001B[0;36m?\u001B[1;34m(estimator, *args, **kwargs)\u001B[0m\n\u001B[0;32m   1148\u001B[0m                 skip_parameter_validation=(\n\u001B[0;32m   1149\u001B[0m                     \u001B[0mprefer_skip_nested_validation\u001B[0m \u001B[1;32mor\u001B[0m \u001B[0mglobal_skip_validation\u001B[0m\u001B[1;33m\u001B[0m\u001B[1;33m\u001B[0m\u001B[0m\n\u001B[0;32m   1150\u001B[0m                 )\n\u001B[0;32m   1151\u001B[0m             ):\n\u001B[1;32m-> 1152\u001B[1;33m                 \u001B[1;32mreturn\u001B[0m \u001B[0mfit_method\u001B[0m\u001B[1;33m(\u001B[0m\u001B[0mestimator\u001B[0m\u001B[1;33m,\u001B[0m \u001B[1;33m*\u001B[0m\u001B[0margs\u001B[0m\u001B[1;33m,\u001B[0m \u001B[1;33m**\u001B[0m\u001B[0mkwargs\u001B[0m\u001B[1;33m)\u001B[0m\u001B[1;33m\u001B[0m\u001B[1;33m\u001B[0m\u001B[0m\n\u001B[0m",
      "\u001B[1;32m~\\anaconda3\\envs\\parser\\Lib\\site-packages\\sklearn\\preprocessing\\_data.py\u001B[0m in \u001B[0;36m?\u001B[1;34m(self, X, y, sample_weight)\u001B[0m\n\u001B[0;32m    871\u001B[0m         \u001B[0mself\u001B[0m \u001B[1;33m:\u001B[0m \u001B[0mobject\u001B[0m\u001B[1;33m\u001B[0m\u001B[1;33m\u001B[0m\u001B[0m\n\u001B[0;32m    872\u001B[0m             \u001B[0mFitted\u001B[0m \u001B[0mscaler\u001B[0m\u001B[1;33m.\u001B[0m\u001B[1;33m\u001B[0m\u001B[1;33m\u001B[0m\u001B[0m\n\u001B[0;32m    873\u001B[0m         \"\"\"\n\u001B[0;32m    874\u001B[0m         \u001B[0mfirst_call\u001B[0m \u001B[1;33m=\u001B[0m \u001B[1;32mnot\u001B[0m \u001B[0mhasattr\u001B[0m\u001B[1;33m(\u001B[0m\u001B[0mself\u001B[0m\u001B[1;33m,\u001B[0m \u001B[1;34m\"n_samples_seen_\"\u001B[0m\u001B[1;33m)\u001B[0m\u001B[1;33m\u001B[0m\u001B[1;33m\u001B[0m\u001B[0m\n\u001B[1;32m--> 875\u001B[1;33m         X = self._validate_data(\n\u001B[0m\u001B[0;32m    876\u001B[0m             \u001B[0mX\u001B[0m\u001B[1;33m,\u001B[0m\u001B[1;33m\u001B[0m\u001B[1;33m\u001B[0m\u001B[0m\n\u001B[0;32m    877\u001B[0m             \u001B[0maccept_sparse\u001B[0m\u001B[1;33m=\u001B[0m\u001B[1;33m(\u001B[0m\u001B[1;34m\"csr\"\u001B[0m\u001B[1;33m,\u001B[0m \u001B[1;34m\"csc\"\u001B[0m\u001B[1;33m)\u001B[0m\u001B[1;33m,\u001B[0m\u001B[1;33m\u001B[0m\u001B[1;33m\u001B[0m\u001B[0m\n\u001B[0;32m    878\u001B[0m             \u001B[0mdtype\u001B[0m\u001B[1;33m=\u001B[0m\u001B[0mFLOAT_DTYPES\u001B[0m\u001B[1;33m,\u001B[0m\u001B[1;33m\u001B[0m\u001B[1;33m\u001B[0m\u001B[0m\n",
      "\u001B[1;32m~\\anaconda3\\envs\\parser\\Lib\\site-packages\\sklearn\\base.py\u001B[0m in \u001B[0;36m?\u001B[1;34m(self, X, y, reset, validate_separately, cast_to_ndarray, **check_params)\u001B[0m\n\u001B[0;32m    601\u001B[0m                 \u001B[0mout\u001B[0m \u001B[1;33m=\u001B[0m \u001B[0my\u001B[0m\u001B[1;33m\u001B[0m\u001B[1;33m\u001B[0m\u001B[0m\n\u001B[0;32m    602\u001B[0m             \u001B[1;32melse\u001B[0m\u001B[1;33m:\u001B[0m\u001B[1;33m\u001B[0m\u001B[1;33m\u001B[0m\u001B[0m\n\u001B[0;32m    603\u001B[0m                 \u001B[0mout\u001B[0m \u001B[1;33m=\u001B[0m \u001B[0mX\u001B[0m\u001B[1;33m,\u001B[0m \u001B[0my\u001B[0m\u001B[1;33m\u001B[0m\u001B[1;33m\u001B[0m\u001B[0m\n\u001B[0;32m    604\u001B[0m         \u001B[1;32melif\u001B[0m \u001B[1;32mnot\u001B[0m \u001B[0mno_val_X\u001B[0m \u001B[1;32mand\u001B[0m \u001B[0mno_val_y\u001B[0m\u001B[1;33m:\u001B[0m\u001B[1;33m\u001B[0m\u001B[1;33m\u001B[0m\u001B[0m\n\u001B[1;32m--> 605\u001B[1;33m             \u001B[0mout\u001B[0m \u001B[1;33m=\u001B[0m \u001B[0mcheck_array\u001B[0m\u001B[1;33m(\u001B[0m\u001B[0mX\u001B[0m\u001B[1;33m,\u001B[0m \u001B[0minput_name\u001B[0m\u001B[1;33m=\u001B[0m\u001B[1;34m\"X\"\u001B[0m\u001B[1;33m,\u001B[0m \u001B[1;33m**\u001B[0m\u001B[0mcheck_params\u001B[0m\u001B[1;33m)\u001B[0m\u001B[1;33m\u001B[0m\u001B[1;33m\u001B[0m\u001B[0m\n\u001B[0m\u001B[0;32m    606\u001B[0m         \u001B[1;32melif\u001B[0m \u001B[0mno_val_X\u001B[0m \u001B[1;32mand\u001B[0m \u001B[1;32mnot\u001B[0m \u001B[0mno_val_y\u001B[0m\u001B[1;33m:\u001B[0m\u001B[1;33m\u001B[0m\u001B[1;33m\u001B[0m\u001B[0m\n\u001B[0;32m    607\u001B[0m             \u001B[0mout\u001B[0m \u001B[1;33m=\u001B[0m \u001B[0m_check_y\u001B[0m\u001B[1;33m(\u001B[0m\u001B[0my\u001B[0m\u001B[1;33m,\u001B[0m \u001B[1;33m**\u001B[0m\u001B[0mcheck_params\u001B[0m\u001B[1;33m)\u001B[0m\u001B[1;33m\u001B[0m\u001B[1;33m\u001B[0m\u001B[0m\n\u001B[0;32m    608\u001B[0m         \u001B[1;32melse\u001B[0m\u001B[1;33m:\u001B[0m\u001B[1;33m\u001B[0m\u001B[1;33m\u001B[0m\u001B[0m\n",
      "\u001B[1;32m~\\anaconda3\\envs\\parser\\Lib\\site-packages\\sklearn\\utils\\validation.py\u001B[0m in \u001B[0;36m?\u001B[1;34m(array, accept_sparse, accept_large_sparse, dtype, order, copy, force_all_finite, ensure_2d, allow_nd, ensure_min_samples, ensure_min_features, estimator, input_name)\u001B[0m\n\u001B[0;32m    912\u001B[0m                         )\n\u001B[0;32m    913\u001B[0m                     \u001B[0marray\u001B[0m \u001B[1;33m=\u001B[0m \u001B[0mxp\u001B[0m\u001B[1;33m.\u001B[0m\u001B[0mastype\u001B[0m\u001B[1;33m(\u001B[0m\u001B[0marray\u001B[0m\u001B[1;33m,\u001B[0m \u001B[0mdtype\u001B[0m\u001B[1;33m,\u001B[0m \u001B[0mcopy\u001B[0m\u001B[1;33m=\u001B[0m\u001B[1;32mFalse\u001B[0m\u001B[1;33m)\u001B[0m\u001B[1;33m\u001B[0m\u001B[1;33m\u001B[0m\u001B[0m\n\u001B[0;32m    914\u001B[0m                 \u001B[1;32melse\u001B[0m\u001B[1;33m:\u001B[0m\u001B[1;33m\u001B[0m\u001B[1;33m\u001B[0m\u001B[0m\n\u001B[0;32m    915\u001B[0m                     \u001B[0marray\u001B[0m \u001B[1;33m=\u001B[0m \u001B[0m_asarray_with_order\u001B[0m\u001B[1;33m(\u001B[0m\u001B[0marray\u001B[0m\u001B[1;33m,\u001B[0m \u001B[0morder\u001B[0m\u001B[1;33m=\u001B[0m\u001B[0morder\u001B[0m\u001B[1;33m,\u001B[0m \u001B[0mdtype\u001B[0m\u001B[1;33m=\u001B[0m\u001B[0mdtype\u001B[0m\u001B[1;33m,\u001B[0m \u001B[0mxp\u001B[0m\u001B[1;33m=\u001B[0m\u001B[0mxp\u001B[0m\u001B[1;33m)\u001B[0m\u001B[1;33m\u001B[0m\u001B[1;33m\u001B[0m\u001B[0m\n\u001B[1;32m--> 916\u001B[1;33m             \u001B[1;32mexcept\u001B[0m \u001B[0mComplexWarning\u001B[0m \u001B[1;32mas\u001B[0m \u001B[0mcomplex_warning\u001B[0m\u001B[1;33m:\u001B[0m\u001B[1;33m\u001B[0m\u001B[1;33m\u001B[0m\u001B[0m\n\u001B[0m\u001B[0;32m    917\u001B[0m                 raise ValueError(\n\u001B[0;32m    918\u001B[0m                     \u001B[1;34m\"Complex data not supported\\n{}\\n\"\u001B[0m\u001B[1;33m.\u001B[0m\u001B[0mformat\u001B[0m\u001B[1;33m(\u001B[0m\u001B[0marray\u001B[0m\u001B[1;33m)\u001B[0m\u001B[1;33m\u001B[0m\u001B[1;33m\u001B[0m\u001B[0m\n\u001B[0;32m    919\u001B[0m                 ) from complex_warning\n",
      "\u001B[1;32m~\\anaconda3\\envs\\parser\\Lib\\site-packages\\sklearn\\utils\\_array_api.py\u001B[0m in \u001B[0;36m?\u001B[1;34m(array, dtype, order, copy, xp)\u001B[0m\n\u001B[0;32m    376\u001B[0m         \u001B[1;31m# Use NumPy API to support order\u001B[0m\u001B[1;33m\u001B[0m\u001B[1;33m\u001B[0m\u001B[0m\n\u001B[0;32m    377\u001B[0m         \u001B[1;32mif\u001B[0m \u001B[0mcopy\u001B[0m \u001B[1;32mis\u001B[0m \u001B[1;32mTrue\u001B[0m\u001B[1;33m:\u001B[0m\u001B[1;33m\u001B[0m\u001B[1;33m\u001B[0m\u001B[0m\n\u001B[0;32m    378\u001B[0m             \u001B[0marray\u001B[0m \u001B[1;33m=\u001B[0m \u001B[0mnumpy\u001B[0m\u001B[1;33m.\u001B[0m\u001B[0marray\u001B[0m\u001B[1;33m(\u001B[0m\u001B[0marray\u001B[0m\u001B[1;33m,\u001B[0m \u001B[0morder\u001B[0m\u001B[1;33m=\u001B[0m\u001B[0morder\u001B[0m\u001B[1;33m,\u001B[0m \u001B[0mdtype\u001B[0m\u001B[1;33m=\u001B[0m\u001B[0mdtype\u001B[0m\u001B[1;33m)\u001B[0m\u001B[1;33m\u001B[0m\u001B[1;33m\u001B[0m\u001B[0m\n\u001B[0;32m    379\u001B[0m         \u001B[1;32melse\u001B[0m\u001B[1;33m:\u001B[0m\u001B[1;33m\u001B[0m\u001B[1;33m\u001B[0m\u001B[0m\n\u001B[1;32m--> 380\u001B[1;33m             \u001B[0marray\u001B[0m \u001B[1;33m=\u001B[0m \u001B[0mnumpy\u001B[0m\u001B[1;33m.\u001B[0m\u001B[0masarray\u001B[0m\u001B[1;33m(\u001B[0m\u001B[0marray\u001B[0m\u001B[1;33m,\u001B[0m \u001B[0morder\u001B[0m\u001B[1;33m=\u001B[0m\u001B[0morder\u001B[0m\u001B[1;33m,\u001B[0m \u001B[0mdtype\u001B[0m\u001B[1;33m=\u001B[0m\u001B[0mdtype\u001B[0m\u001B[1;33m)\u001B[0m\u001B[1;33m\u001B[0m\u001B[1;33m\u001B[0m\u001B[0m\n\u001B[0m\u001B[0;32m    381\u001B[0m \u001B[1;33m\u001B[0m\u001B[0m\n\u001B[0;32m    382\u001B[0m         \u001B[1;31m# At this point array is a NumPy ndarray. We convert it to an array\u001B[0m\u001B[1;33m\u001B[0m\u001B[1;33m\u001B[0m\u001B[0m\n\u001B[0;32m    383\u001B[0m         \u001B[1;31m# container that is consistent with the input's namespace.\u001B[0m\u001B[1;33m\u001B[0m\u001B[1;33m\u001B[0m\u001B[0m\n",
      "\u001B[1;32m~\\anaconda3\\envs\\parser\\Lib\\site-packages\\pandas\\core\\generic.py\u001B[0m in \u001B[0;36m?\u001B[1;34m(self, dtype)\u001B[0m\n\u001B[0;32m   2082\u001B[0m     \u001B[1;32mdef\u001B[0m \u001B[0m__array__\u001B[0m\u001B[1;33m(\u001B[0m\u001B[0mself\u001B[0m\u001B[1;33m,\u001B[0m \u001B[0mdtype\u001B[0m\u001B[1;33m:\u001B[0m \u001B[0mnpt\u001B[0m\u001B[1;33m.\u001B[0m\u001B[0mDTypeLike\u001B[0m \u001B[1;33m|\u001B[0m \u001B[1;32mNone\u001B[0m \u001B[1;33m=\u001B[0m \u001B[1;32mNone\u001B[0m\u001B[1;33m)\u001B[0m \u001B[1;33m->\u001B[0m \u001B[0mnp\u001B[0m\u001B[1;33m.\u001B[0m\u001B[0mndarray\u001B[0m\u001B[1;33m:\u001B[0m\u001B[1;33m\u001B[0m\u001B[1;33m\u001B[0m\u001B[0m\n\u001B[0;32m   2083\u001B[0m         \u001B[0mvalues\u001B[0m \u001B[1;33m=\u001B[0m \u001B[0mself\u001B[0m\u001B[1;33m.\u001B[0m\u001B[0m_values\u001B[0m\u001B[1;33m\u001B[0m\u001B[1;33m\u001B[0m\u001B[0m\n\u001B[1;32m-> 2084\u001B[1;33m         \u001B[0marr\u001B[0m \u001B[1;33m=\u001B[0m \u001B[0mnp\u001B[0m\u001B[1;33m.\u001B[0m\u001B[0masarray\u001B[0m\u001B[1;33m(\u001B[0m\u001B[0mvalues\u001B[0m\u001B[1;33m,\u001B[0m \u001B[0mdtype\u001B[0m\u001B[1;33m=\u001B[0m\u001B[0mdtype\u001B[0m\u001B[1;33m)\u001B[0m\u001B[1;33m\u001B[0m\u001B[1;33m\u001B[0m\u001B[0m\n\u001B[0m\u001B[0;32m   2085\u001B[0m         if (\n\u001B[0;32m   2086\u001B[0m             \u001B[0mastype_is_view\u001B[0m\u001B[1;33m(\u001B[0m\u001B[0mvalues\u001B[0m\u001B[1;33m.\u001B[0m\u001B[0mdtype\u001B[0m\u001B[1;33m,\u001B[0m \u001B[0marr\u001B[0m\u001B[1;33m.\u001B[0m\u001B[0mdtype\u001B[0m\u001B[1;33m)\u001B[0m\u001B[1;33m\u001B[0m\u001B[1;33m\u001B[0m\u001B[0m\n\u001B[0;32m   2087\u001B[0m             \u001B[1;32mand\u001B[0m \u001B[0musing_copy_on_write\u001B[0m\u001B[1;33m(\u001B[0m\u001B[1;33m)\u001B[0m\u001B[1;33m\u001B[0m\u001B[1;33m\u001B[0m\u001B[0m\n",
      "\u001B[1;31mValueError\u001B[0m: could not convert string to float: 'Author1'"
     ]
    }
   ],
   "source": [
    "import pandas as pd\n",
    "from sklearn.feature_extraction.text import TfidfVectorizer\n",
    "from sklearn.cluster import KMeans\n",
    "from sklearn.preprocessing import StandardScaler\n",
    "import matplotlib.pyplot as plt\n",
    "\n",
    "# Create a synthetic dataset with report date as datetime format\n",
    "data = {\n",
    "    'Title': ['Book A', 'Book B', 'Book C', 'Book D', 'Book E'],\n",
    "    'Author': ['Author1', 'Author2', 'Author1', 'Author3', 'Author2'],\n",
    "    'Publisher': ['Pub1', 'Pub2', 'Pub1', 'Pub3', 'Pub2'],\n",
    "    'Subjects': [['Fiction', 'Mystery'], ['Science Fiction'], ['Fiction'], ['Non-Fiction'], []],\n",
    "    'Publication_Year': [2010, 2015, 2010, 2005, 2018],\n",
    "    'Item_Type_Code': ['Type1', 'Type2', 'Type1', 'Type3', 'Type2'],\n",
    "    'Item_Collection_Code': ['Collection1', 'Collection2', 'Collection1', 'Collection3', 'Collection2'],\n",
    "    'Report_Date': ['2023-01-15', '2023-01-10', '2023-01-12', '2023-01-20', '2023-01-18']\n",
    "}\n",
    "\n",
    "df = pd.DataFrame(data)\n",
    "\n",
    "# Convert 'Report_Date' to datetime format\n",
    "df['Report_Date'] = pd.to_datetime(df['Report_Date'])\n",
    "\n",
    "# Extract features for clustering\n",
    "features = ['Author', 'Publisher', 'Publication_Year', 'Item_Type_Code', 'Item_Collection_Code']\n",
    "text_features = ['Title']\n",
    "\n",
    "# Combine text features into a single column\n",
    "df['Text_Features'] = df[text_features].apply(lambda x: ' '.join(x), axis=1)\n",
    "\n",
    "# Create a TF-IDF vectorizer for text features\n",
    "vectorizer = TfidfVectorizer()\n",
    "text_features_matrix = vectorizer.fit_transform(df['Text_Features'])\n",
    "\n",
    "# Standardize numerical features\n",
    "numerical_features_matrix = StandardScaler().fit_transform(df[features])\n",
    "\n",
    "# Concatenate TF-IDF matrix, numerical features matrix, and datetime features\n",
    "combined_matrix = pd.concat([\n",
    "    pd.DataFrame(text_features_matrix.toarray(), columns=vectorizer.get_feature_names_out()),\n",
    "    pd.DataFrame(numerical_features_matrix, columns=features),\n",
    "    pd.DataFrame(df['Report_Date'].dt.month, columns=['Month']),\n",
    "    pd.DataFrame(df['Report_Date'].dt.dayofweek, columns=['DayOfWeek']),\n",
    "    pd.DataFrame(df['Report_Date'].dt.hour, columns=['Hour'])\n",
    "], axis=1)\n",
    "\n",
    "# Perform K-Means clustering\n",
    "kmeans = KMeans(n_clusters=3, random_state=42)\n",
    "df['Cluster'] = kmeans.fit_predict(combined_matrix)\n",
    "\n",
    "# Visualize the clustering\n",
    "plt.scatter(df['Publication_Year'], df['Item_Type_Code'], c=df['Cluster'], cmap='viridis')\n",
    "plt.xlabel('Publication Year')\n",
    "plt.ylabel('Item Type Code')\n",
    "plt.title('K-Means Clustering of Library Books with Datetime Features')\n",
    "plt.show()\n",
    "\n",
    "# Display the clustered dataframe\n",
    "print(df[['Title', 'Cluster']])\n"
   ],
   "metadata": {
    "collapsed": false,
    "ExecuteTime": {
     "end_time": "2023-11-27T02:33:37.556568400Z",
     "start_time": "2023-11-27T02:33:37.507443300Z"
    }
   },
   "id": "5e46c66025383336"
  },
  {
   "cell_type": "code",
   "execution_count": null,
   "outputs": [],
   "source": [],
   "metadata": {
    "collapsed": false
   },
   "id": "45aeb14ce1292673"
  },
  {
   "cell_type": "code",
   "execution_count": 177,
   "outputs": [
    {
     "ename": "ValueError",
     "evalue": "could not convert string to float: 'Author1'",
     "output_type": "error",
     "traceback": [
      "\u001B[1;31m---------------------------------------------------------------------------\u001B[0m",
      "\u001B[1;31mValueError\u001B[0m                                Traceback (most recent call last)",
      "\u001B[1;32m~\\AppData\\Local\\Temp\\ipykernel_18400\\2209798604.py\u001B[0m in \u001B[0;36m?\u001B[1;34m()\u001B[0m\n\u001B[0;32m     33\u001B[0m \u001B[0mvectorizer\u001B[0m \u001B[1;33m=\u001B[0m \u001B[0mTfidfVectorizer\u001B[0m\u001B[1;33m(\u001B[0m\u001B[1;33m)\u001B[0m\u001B[1;33m\u001B[0m\u001B[1;33m\u001B[0m\u001B[0m\n\u001B[0;32m     34\u001B[0m \u001B[0mtext_features_matrix\u001B[0m \u001B[1;33m=\u001B[0m \u001B[0mvectorizer\u001B[0m\u001B[1;33m.\u001B[0m\u001B[0mfit_transform\u001B[0m\u001B[1;33m(\u001B[0m\u001B[0mdf\u001B[0m\u001B[1;33m[\u001B[0m\u001B[1;34m'Text_Features'\u001B[0m\u001B[1;33m]\u001B[0m\u001B[1;33m)\u001B[0m\u001B[1;33m\u001B[0m\u001B[1;33m\u001B[0m\u001B[0m\n\u001B[0;32m     35\u001B[0m \u001B[1;33m\u001B[0m\u001B[0m\n\u001B[0;32m     36\u001B[0m \u001B[1;31m# Standardize numerical features\u001B[0m\u001B[1;33m\u001B[0m\u001B[1;33m\u001B[0m\u001B[0m\n\u001B[1;32m---> 37\u001B[1;33m \u001B[0mnumerical_features_matrix\u001B[0m \u001B[1;33m=\u001B[0m \u001B[0mStandardScaler\u001B[0m\u001B[1;33m(\u001B[0m\u001B[1;33m)\u001B[0m\u001B[1;33m.\u001B[0m\u001B[0mfit_transform\u001B[0m\u001B[1;33m(\u001B[0m\u001B[0mdf\u001B[0m\u001B[1;33m[\u001B[0m\u001B[0mfeatures\u001B[0m\u001B[1;33m]\u001B[0m\u001B[1;33m)\u001B[0m\u001B[1;33m\u001B[0m\u001B[1;33m\u001B[0m\u001B[0m\n\u001B[0m\u001B[0;32m     38\u001B[0m \u001B[1;33m\u001B[0m\u001B[0m\n\u001B[0;32m     39\u001B[0m \u001B[1;31m# Concatenate TF-IDF matrix, numerical features matrix, and datetime features\u001B[0m\u001B[1;33m\u001B[0m\u001B[1;33m\u001B[0m\u001B[0m\n\u001B[0;32m     40\u001B[0m combined_matrix = pd.concat([\n",
      "\u001B[1;32m~\\anaconda3\\envs\\parser\\Lib\\site-packages\\sklearn\\utils\\_set_output.py\u001B[0m in \u001B[0;36m?\u001B[1;34m(self, X, *args, **kwargs)\u001B[0m\n\u001B[0;32m    155\u001B[0m     \u001B[1;33m@\u001B[0m\u001B[0mwraps\u001B[0m\u001B[1;33m(\u001B[0m\u001B[0mf\u001B[0m\u001B[1;33m)\u001B[0m\u001B[1;33m\u001B[0m\u001B[1;33m\u001B[0m\u001B[0m\n\u001B[0;32m    156\u001B[0m     \u001B[1;32mdef\u001B[0m \u001B[0mwrapped\u001B[0m\u001B[1;33m(\u001B[0m\u001B[0mself\u001B[0m\u001B[1;33m,\u001B[0m \u001B[0mX\u001B[0m\u001B[1;33m,\u001B[0m \u001B[1;33m*\u001B[0m\u001B[0margs\u001B[0m\u001B[1;33m,\u001B[0m \u001B[1;33m**\u001B[0m\u001B[0mkwargs\u001B[0m\u001B[1;33m)\u001B[0m\u001B[1;33m:\u001B[0m\u001B[1;33m\u001B[0m\u001B[1;33m\u001B[0m\u001B[0m\n\u001B[1;32m--> 157\u001B[1;33m         \u001B[0mdata_to_wrap\u001B[0m \u001B[1;33m=\u001B[0m \u001B[0mf\u001B[0m\u001B[1;33m(\u001B[0m\u001B[0mself\u001B[0m\u001B[1;33m,\u001B[0m \u001B[0mX\u001B[0m\u001B[1;33m,\u001B[0m \u001B[1;33m*\u001B[0m\u001B[0margs\u001B[0m\u001B[1;33m,\u001B[0m \u001B[1;33m**\u001B[0m\u001B[0mkwargs\u001B[0m\u001B[1;33m)\u001B[0m\u001B[1;33m\u001B[0m\u001B[1;33m\u001B[0m\u001B[0m\n\u001B[0m\u001B[0;32m    158\u001B[0m         \u001B[1;32mif\u001B[0m \u001B[0misinstance\u001B[0m\u001B[1;33m(\u001B[0m\u001B[0mdata_to_wrap\u001B[0m\u001B[1;33m,\u001B[0m \u001B[0mtuple\u001B[0m\u001B[1;33m)\u001B[0m\u001B[1;33m:\u001B[0m\u001B[1;33m\u001B[0m\u001B[1;33m\u001B[0m\u001B[0m\n\u001B[0;32m    159\u001B[0m             \u001B[1;31m# only wrap the first output for cross decomposition\u001B[0m\u001B[1;33m\u001B[0m\u001B[1;33m\u001B[0m\u001B[0m\n\u001B[0;32m    160\u001B[0m             return_tuple = (\n",
      "\u001B[1;32m~\\anaconda3\\envs\\parser\\Lib\\site-packages\\sklearn\\base.py\u001B[0m in \u001B[0;36m?\u001B[1;34m(self, X, y, **fit_params)\u001B[0m\n\u001B[0;32m    912\u001B[0m         \u001B[1;31m# non-optimized default implementation; override when a better\u001B[0m\u001B[1;33m\u001B[0m\u001B[1;33m\u001B[0m\u001B[0m\n\u001B[0;32m    913\u001B[0m         \u001B[1;31m# method is possible for a given clustering algorithm\u001B[0m\u001B[1;33m\u001B[0m\u001B[1;33m\u001B[0m\u001B[0m\n\u001B[0;32m    914\u001B[0m         \u001B[1;32mif\u001B[0m \u001B[0my\u001B[0m \u001B[1;32mis\u001B[0m \u001B[1;32mNone\u001B[0m\u001B[1;33m:\u001B[0m\u001B[1;33m\u001B[0m\u001B[1;33m\u001B[0m\u001B[0m\n\u001B[0;32m    915\u001B[0m             \u001B[1;31m# fit method of arity 1 (unsupervised transformation)\u001B[0m\u001B[1;33m\u001B[0m\u001B[1;33m\u001B[0m\u001B[0m\n\u001B[1;32m--> 916\u001B[1;33m             \u001B[1;32mreturn\u001B[0m \u001B[0mself\u001B[0m\u001B[1;33m.\u001B[0m\u001B[0mfit\u001B[0m\u001B[1;33m(\u001B[0m\u001B[0mX\u001B[0m\u001B[1;33m,\u001B[0m \u001B[1;33m**\u001B[0m\u001B[0mfit_params\u001B[0m\u001B[1;33m)\u001B[0m\u001B[1;33m.\u001B[0m\u001B[0mtransform\u001B[0m\u001B[1;33m(\u001B[0m\u001B[0mX\u001B[0m\u001B[1;33m)\u001B[0m\u001B[1;33m\u001B[0m\u001B[1;33m\u001B[0m\u001B[0m\n\u001B[0m\u001B[0;32m    917\u001B[0m         \u001B[1;32melse\u001B[0m\u001B[1;33m:\u001B[0m\u001B[1;33m\u001B[0m\u001B[1;33m\u001B[0m\u001B[0m\n\u001B[0;32m    918\u001B[0m             \u001B[1;31m# fit method of arity 2 (supervised transformation)\u001B[0m\u001B[1;33m\u001B[0m\u001B[1;33m\u001B[0m\u001B[0m\n\u001B[0;32m    919\u001B[0m             \u001B[1;32mreturn\u001B[0m \u001B[0mself\u001B[0m\u001B[1;33m.\u001B[0m\u001B[0mfit\u001B[0m\u001B[1;33m(\u001B[0m\u001B[0mX\u001B[0m\u001B[1;33m,\u001B[0m \u001B[0my\u001B[0m\u001B[1;33m,\u001B[0m \u001B[1;33m**\u001B[0m\u001B[0mfit_params\u001B[0m\u001B[1;33m)\u001B[0m\u001B[1;33m.\u001B[0m\u001B[0mtransform\u001B[0m\u001B[1;33m(\u001B[0m\u001B[0mX\u001B[0m\u001B[1;33m)\u001B[0m\u001B[1;33m\u001B[0m\u001B[1;33m\u001B[0m\u001B[0m\n",
      "\u001B[1;32m~\\anaconda3\\envs\\parser\\Lib\\site-packages\\sklearn\\preprocessing\\_data.py\u001B[0m in \u001B[0;36m?\u001B[1;34m(self, X, y, sample_weight)\u001B[0m\n\u001B[0;32m    835\u001B[0m             \u001B[0mFitted\u001B[0m \u001B[0mscaler\u001B[0m\u001B[1;33m.\u001B[0m\u001B[1;33m\u001B[0m\u001B[1;33m\u001B[0m\u001B[0m\n\u001B[0;32m    836\u001B[0m         \"\"\"\n\u001B[0;32m    837\u001B[0m         \u001B[1;31m# Reset internal state before fitting\u001B[0m\u001B[1;33m\u001B[0m\u001B[1;33m\u001B[0m\u001B[0m\n\u001B[0;32m    838\u001B[0m         \u001B[0mself\u001B[0m\u001B[1;33m.\u001B[0m\u001B[0m_reset\u001B[0m\u001B[1;33m(\u001B[0m\u001B[1;33m)\u001B[0m\u001B[1;33m\u001B[0m\u001B[1;33m\u001B[0m\u001B[0m\n\u001B[1;32m--> 839\u001B[1;33m         \u001B[1;32mreturn\u001B[0m \u001B[0mself\u001B[0m\u001B[1;33m.\u001B[0m\u001B[0mpartial_fit\u001B[0m\u001B[1;33m(\u001B[0m\u001B[0mX\u001B[0m\u001B[1;33m,\u001B[0m \u001B[0my\u001B[0m\u001B[1;33m,\u001B[0m \u001B[0msample_weight\u001B[0m\u001B[1;33m)\u001B[0m\u001B[1;33m\u001B[0m\u001B[1;33m\u001B[0m\u001B[0m\n\u001B[0m",
      "\u001B[1;32m~\\anaconda3\\envs\\parser\\Lib\\site-packages\\sklearn\\base.py\u001B[0m in \u001B[0;36m?\u001B[1;34m(estimator, *args, **kwargs)\u001B[0m\n\u001B[0;32m   1148\u001B[0m                 skip_parameter_validation=(\n\u001B[0;32m   1149\u001B[0m                     \u001B[0mprefer_skip_nested_validation\u001B[0m \u001B[1;32mor\u001B[0m \u001B[0mglobal_skip_validation\u001B[0m\u001B[1;33m\u001B[0m\u001B[1;33m\u001B[0m\u001B[0m\n\u001B[0;32m   1150\u001B[0m                 )\n\u001B[0;32m   1151\u001B[0m             ):\n\u001B[1;32m-> 1152\u001B[1;33m                 \u001B[1;32mreturn\u001B[0m \u001B[0mfit_method\u001B[0m\u001B[1;33m(\u001B[0m\u001B[0mestimator\u001B[0m\u001B[1;33m,\u001B[0m \u001B[1;33m*\u001B[0m\u001B[0margs\u001B[0m\u001B[1;33m,\u001B[0m \u001B[1;33m**\u001B[0m\u001B[0mkwargs\u001B[0m\u001B[1;33m)\u001B[0m\u001B[1;33m\u001B[0m\u001B[1;33m\u001B[0m\u001B[0m\n\u001B[0m",
      "\u001B[1;32m~\\anaconda3\\envs\\parser\\Lib\\site-packages\\sklearn\\preprocessing\\_data.py\u001B[0m in \u001B[0;36m?\u001B[1;34m(self, X, y, sample_weight)\u001B[0m\n\u001B[0;32m    871\u001B[0m         \u001B[0mself\u001B[0m \u001B[1;33m:\u001B[0m \u001B[0mobject\u001B[0m\u001B[1;33m\u001B[0m\u001B[1;33m\u001B[0m\u001B[0m\n\u001B[0;32m    872\u001B[0m             \u001B[0mFitted\u001B[0m \u001B[0mscaler\u001B[0m\u001B[1;33m.\u001B[0m\u001B[1;33m\u001B[0m\u001B[1;33m\u001B[0m\u001B[0m\n\u001B[0;32m    873\u001B[0m         \"\"\"\n\u001B[0;32m    874\u001B[0m         \u001B[0mfirst_call\u001B[0m \u001B[1;33m=\u001B[0m \u001B[1;32mnot\u001B[0m \u001B[0mhasattr\u001B[0m\u001B[1;33m(\u001B[0m\u001B[0mself\u001B[0m\u001B[1;33m,\u001B[0m \u001B[1;34m\"n_samples_seen_\"\u001B[0m\u001B[1;33m)\u001B[0m\u001B[1;33m\u001B[0m\u001B[1;33m\u001B[0m\u001B[0m\n\u001B[1;32m--> 875\u001B[1;33m         X = self._validate_data(\n\u001B[0m\u001B[0;32m    876\u001B[0m             \u001B[0mX\u001B[0m\u001B[1;33m,\u001B[0m\u001B[1;33m\u001B[0m\u001B[1;33m\u001B[0m\u001B[0m\n\u001B[0;32m    877\u001B[0m             \u001B[0maccept_sparse\u001B[0m\u001B[1;33m=\u001B[0m\u001B[1;33m(\u001B[0m\u001B[1;34m\"csr\"\u001B[0m\u001B[1;33m,\u001B[0m \u001B[1;34m\"csc\"\u001B[0m\u001B[1;33m)\u001B[0m\u001B[1;33m,\u001B[0m\u001B[1;33m\u001B[0m\u001B[1;33m\u001B[0m\u001B[0m\n\u001B[0;32m    878\u001B[0m             \u001B[0mdtype\u001B[0m\u001B[1;33m=\u001B[0m\u001B[0mFLOAT_DTYPES\u001B[0m\u001B[1;33m,\u001B[0m\u001B[1;33m\u001B[0m\u001B[1;33m\u001B[0m\u001B[0m\n",
      "\u001B[1;32m~\\anaconda3\\envs\\parser\\Lib\\site-packages\\sklearn\\base.py\u001B[0m in \u001B[0;36m?\u001B[1;34m(self, X, y, reset, validate_separately, cast_to_ndarray, **check_params)\u001B[0m\n\u001B[0;32m    601\u001B[0m                 \u001B[0mout\u001B[0m \u001B[1;33m=\u001B[0m \u001B[0my\u001B[0m\u001B[1;33m\u001B[0m\u001B[1;33m\u001B[0m\u001B[0m\n\u001B[0;32m    602\u001B[0m             \u001B[1;32melse\u001B[0m\u001B[1;33m:\u001B[0m\u001B[1;33m\u001B[0m\u001B[1;33m\u001B[0m\u001B[0m\n\u001B[0;32m    603\u001B[0m                 \u001B[0mout\u001B[0m \u001B[1;33m=\u001B[0m \u001B[0mX\u001B[0m\u001B[1;33m,\u001B[0m \u001B[0my\u001B[0m\u001B[1;33m\u001B[0m\u001B[1;33m\u001B[0m\u001B[0m\n\u001B[0;32m    604\u001B[0m         \u001B[1;32melif\u001B[0m \u001B[1;32mnot\u001B[0m \u001B[0mno_val_X\u001B[0m \u001B[1;32mand\u001B[0m \u001B[0mno_val_y\u001B[0m\u001B[1;33m:\u001B[0m\u001B[1;33m\u001B[0m\u001B[1;33m\u001B[0m\u001B[0m\n\u001B[1;32m--> 605\u001B[1;33m             \u001B[0mout\u001B[0m \u001B[1;33m=\u001B[0m \u001B[0mcheck_array\u001B[0m\u001B[1;33m(\u001B[0m\u001B[0mX\u001B[0m\u001B[1;33m,\u001B[0m \u001B[0minput_name\u001B[0m\u001B[1;33m=\u001B[0m\u001B[1;34m\"X\"\u001B[0m\u001B[1;33m,\u001B[0m \u001B[1;33m**\u001B[0m\u001B[0mcheck_params\u001B[0m\u001B[1;33m)\u001B[0m\u001B[1;33m\u001B[0m\u001B[1;33m\u001B[0m\u001B[0m\n\u001B[0m\u001B[0;32m    606\u001B[0m         \u001B[1;32melif\u001B[0m \u001B[0mno_val_X\u001B[0m \u001B[1;32mand\u001B[0m \u001B[1;32mnot\u001B[0m \u001B[0mno_val_y\u001B[0m\u001B[1;33m:\u001B[0m\u001B[1;33m\u001B[0m\u001B[1;33m\u001B[0m\u001B[0m\n\u001B[0;32m    607\u001B[0m             \u001B[0mout\u001B[0m \u001B[1;33m=\u001B[0m \u001B[0m_check_y\u001B[0m\u001B[1;33m(\u001B[0m\u001B[0my\u001B[0m\u001B[1;33m,\u001B[0m \u001B[1;33m**\u001B[0m\u001B[0mcheck_params\u001B[0m\u001B[1;33m)\u001B[0m\u001B[1;33m\u001B[0m\u001B[1;33m\u001B[0m\u001B[0m\n\u001B[0;32m    608\u001B[0m         \u001B[1;32melse\u001B[0m\u001B[1;33m:\u001B[0m\u001B[1;33m\u001B[0m\u001B[1;33m\u001B[0m\u001B[0m\n",
      "\u001B[1;32m~\\anaconda3\\envs\\parser\\Lib\\site-packages\\sklearn\\utils\\validation.py\u001B[0m in \u001B[0;36m?\u001B[1;34m(array, accept_sparse, accept_large_sparse, dtype, order, copy, force_all_finite, ensure_2d, allow_nd, ensure_min_samples, ensure_min_features, estimator, input_name)\u001B[0m\n\u001B[0;32m    912\u001B[0m                         )\n\u001B[0;32m    913\u001B[0m                     \u001B[0marray\u001B[0m \u001B[1;33m=\u001B[0m \u001B[0mxp\u001B[0m\u001B[1;33m.\u001B[0m\u001B[0mastype\u001B[0m\u001B[1;33m(\u001B[0m\u001B[0marray\u001B[0m\u001B[1;33m,\u001B[0m \u001B[0mdtype\u001B[0m\u001B[1;33m,\u001B[0m \u001B[0mcopy\u001B[0m\u001B[1;33m=\u001B[0m\u001B[1;32mFalse\u001B[0m\u001B[1;33m)\u001B[0m\u001B[1;33m\u001B[0m\u001B[1;33m\u001B[0m\u001B[0m\n\u001B[0;32m    914\u001B[0m                 \u001B[1;32melse\u001B[0m\u001B[1;33m:\u001B[0m\u001B[1;33m\u001B[0m\u001B[1;33m\u001B[0m\u001B[0m\n\u001B[0;32m    915\u001B[0m                     \u001B[0marray\u001B[0m \u001B[1;33m=\u001B[0m \u001B[0m_asarray_with_order\u001B[0m\u001B[1;33m(\u001B[0m\u001B[0marray\u001B[0m\u001B[1;33m,\u001B[0m \u001B[0morder\u001B[0m\u001B[1;33m=\u001B[0m\u001B[0morder\u001B[0m\u001B[1;33m,\u001B[0m \u001B[0mdtype\u001B[0m\u001B[1;33m=\u001B[0m\u001B[0mdtype\u001B[0m\u001B[1;33m,\u001B[0m \u001B[0mxp\u001B[0m\u001B[1;33m=\u001B[0m\u001B[0mxp\u001B[0m\u001B[1;33m)\u001B[0m\u001B[1;33m\u001B[0m\u001B[1;33m\u001B[0m\u001B[0m\n\u001B[1;32m--> 916\u001B[1;33m             \u001B[1;32mexcept\u001B[0m \u001B[0mComplexWarning\u001B[0m \u001B[1;32mas\u001B[0m \u001B[0mcomplex_warning\u001B[0m\u001B[1;33m:\u001B[0m\u001B[1;33m\u001B[0m\u001B[1;33m\u001B[0m\u001B[0m\n\u001B[0m\u001B[0;32m    917\u001B[0m                 raise ValueError(\n\u001B[0;32m    918\u001B[0m                     \u001B[1;34m\"Complex data not supported\\n{}\\n\"\u001B[0m\u001B[1;33m.\u001B[0m\u001B[0mformat\u001B[0m\u001B[1;33m(\u001B[0m\u001B[0marray\u001B[0m\u001B[1;33m)\u001B[0m\u001B[1;33m\u001B[0m\u001B[1;33m\u001B[0m\u001B[0m\n\u001B[0;32m    919\u001B[0m                 ) from complex_warning\n",
      "\u001B[1;32m~\\anaconda3\\envs\\parser\\Lib\\site-packages\\sklearn\\utils\\_array_api.py\u001B[0m in \u001B[0;36m?\u001B[1;34m(array, dtype, order, copy, xp)\u001B[0m\n\u001B[0;32m    376\u001B[0m         \u001B[1;31m# Use NumPy API to support order\u001B[0m\u001B[1;33m\u001B[0m\u001B[1;33m\u001B[0m\u001B[0m\n\u001B[0;32m    377\u001B[0m         \u001B[1;32mif\u001B[0m \u001B[0mcopy\u001B[0m \u001B[1;32mis\u001B[0m \u001B[1;32mTrue\u001B[0m\u001B[1;33m:\u001B[0m\u001B[1;33m\u001B[0m\u001B[1;33m\u001B[0m\u001B[0m\n\u001B[0;32m    378\u001B[0m             \u001B[0marray\u001B[0m \u001B[1;33m=\u001B[0m \u001B[0mnumpy\u001B[0m\u001B[1;33m.\u001B[0m\u001B[0marray\u001B[0m\u001B[1;33m(\u001B[0m\u001B[0marray\u001B[0m\u001B[1;33m,\u001B[0m \u001B[0morder\u001B[0m\u001B[1;33m=\u001B[0m\u001B[0morder\u001B[0m\u001B[1;33m,\u001B[0m \u001B[0mdtype\u001B[0m\u001B[1;33m=\u001B[0m\u001B[0mdtype\u001B[0m\u001B[1;33m)\u001B[0m\u001B[1;33m\u001B[0m\u001B[1;33m\u001B[0m\u001B[0m\n\u001B[0;32m    379\u001B[0m         \u001B[1;32melse\u001B[0m\u001B[1;33m:\u001B[0m\u001B[1;33m\u001B[0m\u001B[1;33m\u001B[0m\u001B[0m\n\u001B[1;32m--> 380\u001B[1;33m             \u001B[0marray\u001B[0m \u001B[1;33m=\u001B[0m \u001B[0mnumpy\u001B[0m\u001B[1;33m.\u001B[0m\u001B[0masarray\u001B[0m\u001B[1;33m(\u001B[0m\u001B[0marray\u001B[0m\u001B[1;33m,\u001B[0m \u001B[0morder\u001B[0m\u001B[1;33m=\u001B[0m\u001B[0morder\u001B[0m\u001B[1;33m,\u001B[0m \u001B[0mdtype\u001B[0m\u001B[1;33m=\u001B[0m\u001B[0mdtype\u001B[0m\u001B[1;33m)\u001B[0m\u001B[1;33m\u001B[0m\u001B[1;33m\u001B[0m\u001B[0m\n\u001B[0m\u001B[0;32m    381\u001B[0m \u001B[1;33m\u001B[0m\u001B[0m\n\u001B[0;32m    382\u001B[0m         \u001B[1;31m# At this point array is a NumPy ndarray. We convert it to an array\u001B[0m\u001B[1;33m\u001B[0m\u001B[1;33m\u001B[0m\u001B[0m\n\u001B[0;32m    383\u001B[0m         \u001B[1;31m# container that is consistent with the input's namespace.\u001B[0m\u001B[1;33m\u001B[0m\u001B[1;33m\u001B[0m\u001B[0m\n",
      "\u001B[1;32m~\\anaconda3\\envs\\parser\\Lib\\site-packages\\pandas\\core\\generic.py\u001B[0m in \u001B[0;36m?\u001B[1;34m(self, dtype)\u001B[0m\n\u001B[0;32m   2082\u001B[0m     \u001B[1;32mdef\u001B[0m \u001B[0m__array__\u001B[0m\u001B[1;33m(\u001B[0m\u001B[0mself\u001B[0m\u001B[1;33m,\u001B[0m \u001B[0mdtype\u001B[0m\u001B[1;33m:\u001B[0m \u001B[0mnpt\u001B[0m\u001B[1;33m.\u001B[0m\u001B[0mDTypeLike\u001B[0m \u001B[1;33m|\u001B[0m \u001B[1;32mNone\u001B[0m \u001B[1;33m=\u001B[0m \u001B[1;32mNone\u001B[0m\u001B[1;33m)\u001B[0m \u001B[1;33m->\u001B[0m \u001B[0mnp\u001B[0m\u001B[1;33m.\u001B[0m\u001B[0mndarray\u001B[0m\u001B[1;33m:\u001B[0m\u001B[1;33m\u001B[0m\u001B[1;33m\u001B[0m\u001B[0m\n\u001B[0;32m   2083\u001B[0m         \u001B[0mvalues\u001B[0m \u001B[1;33m=\u001B[0m \u001B[0mself\u001B[0m\u001B[1;33m.\u001B[0m\u001B[0m_values\u001B[0m\u001B[1;33m\u001B[0m\u001B[1;33m\u001B[0m\u001B[0m\n\u001B[1;32m-> 2084\u001B[1;33m         \u001B[0marr\u001B[0m \u001B[1;33m=\u001B[0m \u001B[0mnp\u001B[0m\u001B[1;33m.\u001B[0m\u001B[0masarray\u001B[0m\u001B[1;33m(\u001B[0m\u001B[0mvalues\u001B[0m\u001B[1;33m,\u001B[0m \u001B[0mdtype\u001B[0m\u001B[1;33m=\u001B[0m\u001B[0mdtype\u001B[0m\u001B[1;33m)\u001B[0m\u001B[1;33m\u001B[0m\u001B[1;33m\u001B[0m\u001B[0m\n\u001B[0m\u001B[0;32m   2085\u001B[0m         if (\n\u001B[0;32m   2086\u001B[0m             \u001B[0mastype_is_view\u001B[0m\u001B[1;33m(\u001B[0m\u001B[0mvalues\u001B[0m\u001B[1;33m.\u001B[0m\u001B[0mdtype\u001B[0m\u001B[1;33m,\u001B[0m \u001B[0marr\u001B[0m\u001B[1;33m.\u001B[0m\u001B[0mdtype\u001B[0m\u001B[1;33m)\u001B[0m\u001B[1;33m\u001B[0m\u001B[1;33m\u001B[0m\u001B[0m\n\u001B[0;32m   2087\u001B[0m             \u001B[1;32mand\u001B[0m \u001B[0musing_copy_on_write\u001B[0m\u001B[1;33m(\u001B[0m\u001B[1;33m)\u001B[0m\u001B[1;33m\u001B[0m\u001B[1;33m\u001B[0m\u001B[0m\n",
      "\u001B[1;31mValueError\u001B[0m: could not convert string to float: 'Author1'"
     ]
    }
   ],
   "source": [
    "import pandas as pd\n",
    "from sklearn.feature_extraction.text import TfidfVectorizer\n",
    "from sklearn.cluster import AgglomerativeClustering\n",
    "from sklearn.preprocessing import StandardScaler\n",
    "import matplotlib.pyplot as plt\n",
    "from scipy.cluster.hierarchy import dendrogram, linkage\n",
    "\n",
    "# Create a synthetic dataset with report date as datetime format\n",
    "data = {\n",
    "    'Title': ['Book A', 'Book B', 'Book C', 'Book D', 'Book E'],\n",
    "    'Author': ['Author1', 'Author2', 'Author1', 'Author3', 'Author2'],\n",
    "    'Publisher': ['Pub1', 'Pub2', 'Pub1', 'Pub3', 'Pub2'],\n",
    "    'Subjects': [['Fiction', 'Mystery'], ['Science Fiction'], ['Fiction'], ['Non-Fiction'], []],\n",
    "    'Publication_Year': [2010, 2015, 2010, 2005, 2018],\n",
    "    'Item_Type_Code': ['Type1', 'Type2', 'Type1', 'Type3', 'Type2'],\n",
    "    'Item_Collection_Code': ['Collection1', 'Collection2', 'Collection1', 'Collection3', 'Collection2'],\n",
    "    'Report_Date': ['2023-01-15', '2023-01-10', '2023-01-12', '2023-01-20', '2023-01-18']\n",
    "}\n",
    "\n",
    "df = pd.DataFrame(data)\n",
    "\n",
    "# Convert 'Report_Date' to datetime format\n",
    "df['Report_Date'] = pd.to_datetime(df['Report_Date'])\n",
    "\n",
    "# Extract features for clustering\n",
    "features = ['Author', 'Publisher', 'Publication_Year', 'Item_Type_Code', 'Item_Collection_Code']\n",
    "text_features = ['Title']\n",
    "\n",
    "# Combine text features into a single column\n",
    "df['Text_Features'] = df[text_features].apply(lambda x: ' '.join(x), axis=1)\n",
    "\n",
    "# Create a TF-IDF vectorizer for text features\n",
    "vectorizer = TfidfVectorizer()\n",
    "text_features_matrix = vectorizer.fit_transform(df['Text_Features'])\n",
    "\n",
    "# Standardize numerical features\n",
    "numerical_features_matrix = StandardScaler().fit_transform(df[features])\n",
    "\n",
    "# Concatenate TF-IDF matrix, numerical features matrix, and datetime features\n",
    "combined_matrix = pd.concat([\n",
    "    pd.DataFrame(text_features_matrix.toarray(), columns=vectorizer.get_feature_names_out()),\n",
    "    pd.DataFrame(numerical_features_matrix, columns=features),\n",
    "    pd.DataFrame(df['Report_Date'].dt.month, columns=['Month']),\n",
    "    pd.DataFrame(df['Report_Date'].dt.dayofweek, columns=['DayOfWeek']),\n",
    "    pd.DataFrame(df['Report_Date'].dt.hour, columns=['Hour'])\n",
    "], axis=1)\n",
    "\n",
    "# Perform Agglomerative Hierarchical Clustering\n",
    "agg_cluster = AgglomerativeClustering(n_clusters=3, affinity='euclidean', linkage='ward')\n",
    "df['Cluster'] = agg_cluster.fit_predict(combined_matrix)\n",
    "\n",
    "# Visualize the clustering using a dendrogram\n",
    "linked = linkage(combined_matrix, 'ward')\n",
    "dendrogram(linked, orientation='top', labels=df['Title'].tolist(), distance_sort='descending', show_leaf_counts=True)\n",
    "plt.title('Agglomerative Hierarchical Clustering Dendrogram with Datetime Features')\n",
    "plt.show()\n",
    "\n",
    "# Display the clustered dataframe\n",
    "print(df[['Title', 'Cluster']])\n"
   ],
   "metadata": {
    "collapsed": false,
    "ExecuteTime": {
     "end_time": "2023-11-27T02:33:51.440924500Z",
     "start_time": "2023-11-27T02:33:51.377237900Z"
    }
   },
   "id": "7ec2409b01bc14a5"
  },
  {
   "cell_type": "code",
   "execution_count": 178,
   "outputs": [
    {
     "name": "stderr",
     "output_type": "stream",
     "text": [
      "C:\\Users\\trush\\anaconda3\\envs\\parser\\Lib\\site-packages\\sklearn\\preprocessing\\_encoders.py:975: FutureWarning: `sparse` was renamed to `sparse_output` in version 1.2 and will be removed in 1.4. `sparse_output` is ignored unless you leave `sparse` to its default value.\n",
      "  warnings.warn(\n",
      "C:\\Users\\trush\\anaconda3\\envs\\parser\\Lib\\site-packages\\sklearn\\cluster\\_kmeans.py:1416: FutureWarning: The default value of `n_init` will change from 10 to 'auto' in 1.4. Set the value of `n_init` explicitly to suppress the warning\n",
      "  super()._check_params_vs_input(X, default_n_init=10)\n",
      "C:\\Users\\trush\\anaconda3\\envs\\parser\\Lib\\site-packages\\sklearn\\cluster\\_kmeans.py:1440: UserWarning: KMeans is known to have a memory leak on Windows with MKL, when there are less chunks than available threads. You can avoid it by setting the environment variable OMP_NUM_THREADS=1.\n",
      "  warnings.warn(\n"
     ]
    },
    {
     "data": {
      "text/plain": "<Figure size 640x480 with 1 Axes>",
      "image/png": "[encoded data removed]"
     },
     "metadata": {},
     "output_type": "display_data"
    },
    {
     "name": "stdout",
     "output_type": "stream",
     "text": [
      "    Title  Cluster\n",
      "0  Book A        2\n",
      "1  Book B        0\n",
      "2  Book C        2\n",
      "3  Book D        1\n",
      "4  Book E        0\n"
     ]
    }
   ],
   "source": [
    "import pandas as pd\n",
    "from sklearn.feature_extraction.text import TfidfVectorizer\n",
    "from sklearn.cluster import KMeans\n",
    "from sklearn.preprocessing import StandardScaler, OneHotEncoder\n",
    "import matplotlib.pyplot as plt\n",
    "\n",
    "# Create a synthetic dataset with report date as datetime format\n",
    "data = {\n",
    "    'Title': ['Book A', 'Book B', 'Book C', 'Book D', 'Book E'],\n",
    "    'Author': ['Author1', 'Author2', 'Author1', 'Author3', 'Author2'],\n",
    "    'Publisher': ['Pub1', 'Pub2', 'Pub1', 'Pub3', 'Pub2'],\n",
    "    'Subjects': [['Fiction', 'Mystery'], ['Science Fiction'], ['Fiction'], ['Non-Fiction'], []],\n",
    "    'Publication_Year': [2010, 2015, 2010, 2005, 2018],\n",
    "    'Item_Type_Code': ['Type1', 'Type2', 'Type1', 'Type3', 'Type2'],\n",
    "    'Item_Collection_Code': ['Collection1', 'Collection2', 'Collection1', 'Collection3', 'Collection2'],\n",
    "    'Report_Date': ['2023-01-15', '2023-01-10', '2023-01-12', '2023-01-20', '2023-01-18']\n",
    "}\n",
    "\n",
    "df = pd.DataFrame(data)\n",
    "\n",
    "# Convert 'Report_Date' to datetime format\n",
    "df['Report_Date'] = pd.to_datetime(df['Report_Date'])\n",
    "\n",
    "# Extract features for clustering\n",
    "numerical_features = ['Publication_Year']\n",
    "categorical_features = ['Author', 'Publisher', 'Item_Type_Code']\n",
    "\n",
    "# One-hot encode categorical features\n",
    "encoder = OneHotEncoder(sparse=False, drop='first')\n",
    "encoded_features = encoder.fit_transform(df[categorical_features])\n",
    "encoded_df = pd.DataFrame(encoded_features, columns=encoder.get_feature_names_out(categorical_features))\n",
    "\n",
    "# Combine encoded features with numerical features\n",
    "features = pd.concat([encoded_df, df[numerical_features]], axis=1)\n",
    "\n",
    "# Perform K-Means clustering\n",
    "kmeans = KMeans(n_clusters=3, random_state=42)\n",
    "df['Cluster'] = kmeans.fit_predict(features)\n",
    "\n",
    "# Visualize the clustering\n",
    "plt.scatter(df['Publication_Year'], df['Item_Type_Code'], c=df['Cluster'], cmap='viridis')\n",
    "plt.xlabel('Publication Year')\n",
    "plt.ylabel('Item Type Code')\n",
    "plt.title('K-Means Clustering of Library Books with One-Hot Encoding')\n",
    "plt.show()\n",
    "\n",
    "# Display the clustered dataframe\n",
    "print(df[['Title', 'Cluster']])"
   ],
   "metadata": {
    "collapsed": false,
    "ExecuteTime": {
     "end_time": "2023-11-27T02:37:52.124156700Z",
     "start_time": "2023-11-27T02:37:51.598918Z"
    }
   },
   "id": "6441acd2873b2aa7"
  },
  {
   "cell_type": "code",
   "execution_count": 179,
   "outputs": [
    {
     "data": {
      "text/plain": "<Figure size 640x480 with 1 Axes>",
      "image/png": "[encoded data removed]"
     },
     "metadata": {},
     "output_type": "display_data"
    }
   ],
   "source": [
    "plt.scatter(df['Report_Date'], df['Item_Type_Code'], c=df['Cluster'], cmap='viridis')\n",
    "plt.xlabel('Report Date')\n",
    "plt.ylabel('Item Type Code')\n",
    "plt.title('K-Means Clustering of Library Books with One-Hot Encoding')\n",
    "plt.show()"
   ],
   "metadata": {
    "collapsed": false,
    "ExecuteTime": {
     "end_time": "2023-11-27T02:41:12.452322700Z",
     "start_time": "2023-11-27T02:41:12.332309Z"
    }
   },
   "id": "fb6e219c927df613"
  },
  {
   "cell_type": "code",
   "execution_count": 180,
   "outputs": [
    {
     "name": "stdout",
     "output_type": "stream",
     "text": [
      "    Title  Cluster\n",
      "0  Book A        2\n",
      "1  Book B        0\n",
      "2  Book C        2\n",
      "3  Book D        1\n",
      "4  Book E        0\n"
     ]
    },
    {
     "name": "stderr",
     "output_type": "stream",
     "text": [
      "C:\\Users\\trush\\anaconda3\\envs\\parser\\Lib\\site-packages\\sklearn\\preprocessing\\_encoders.py:975: FutureWarning: `sparse` was renamed to `sparse_output` in version 1.2 and will be removed in 1.4. `sparse_output` is ignored unless you leave `sparse` to its default value.\n",
      "  warnings.warn(\n",
      "C:\\Users\\trush\\anaconda3\\envs\\parser\\Lib\\site-packages\\sklearn\\cluster\\_kmeans.py:1416: FutureWarning: The default value of `n_init` will change from 10 to 'auto' in 1.4. Set the value of `n_init` explicitly to suppress the warning\n",
      "  super()._check_params_vs_input(X, default_n_init=10)\n",
      "C:\\Users\\trush\\anaconda3\\envs\\parser\\Lib\\site-packages\\sklearn\\cluster\\_kmeans.py:1440: UserWarning: KMeans is known to have a memory leak on Windows with MKL, when there are less chunks than available threads. You can avoid it by setting the environment variable OMP_NUM_THREADS=1.\n",
      "  warnings.warn(\n"
     ]
    }
   ],
   "source": [
    "import pandas as pd\n",
    "from sklearn.feature_extraction.text import TfidfVectorizer\n",
    "from sklearn.cluster import KMeans\n",
    "from sklearn.preprocessing import StandardScaler, OneHotEncoder\n",
    "import matplotlib.pyplot as plt\n",
    "\n",
    "# Create a synthetic dataset with report date as datetime format\n",
    "data = {\n",
    "    'Title': ['Book A', 'Book B', 'Book C', 'Book D', 'Book E'],\n",
    "    'Author': ['Author1', 'Author2', 'Author1', 'Author3', 'Author2'],\n",
    "    'Publisher': ['Pub1', 'Pub2', 'Pub1', 'Pub3', 'Pub2'],\n",
    "    'Subjects': [['Fiction', 'Mystery'], ['Science Fiction'], ['Fiction'], ['Non-Fiction'], []],\n",
    "    'Publication_Year': [2010, 2015, 2010, 2005, 2018],\n",
    "    'Item_Type_Code': ['Type1', 'Type2', 'Type1', 'Type3', 'Type2'],\n",
    "    'Item_Collection_Code': ['Collection1', 'Collection2', 'Collection1', 'Collection3', 'Collection2'],\n",
    "    'Report_Date': ['2023-01-15', '2023-01-10', '2023-01-12', '2023-01-20', '2023-01-18']\n",
    "}\n",
    "\n",
    "df = pd.DataFrame(data)\n",
    "\n",
    "# Convert 'Report_Date' to datetime format\n",
    "df['Report_Date'] = pd.to_datetime(df['Report_Date'])\n",
    "\n",
    "# Extract features for clustering\n",
    "numerical_features = ['Publication_Year']\n",
    "categorical_features = ['Author']\n",
    "\n",
    "# One-hot encode categorical features\n",
    "encoder = OneHotEncoder(sparse=False, drop='first')\n",
    "encoded_features = encoder.fit_transform(df[categorical_features])\n",
    "encoded_df = pd.DataFrame(encoded_features, columns=encoder.get_feature_names_out(categorical_features))\n",
    "\n",
    "# Extract text features using TF-IDF vectorization\n",
    "vectorizer = TfidfVectorizer()\n",
    "text_features_matrix = vectorizer.fit_transform(df['Title'])\n",
    "text_features_df = pd.DataFrame(text_features_matrix.toarray(), columns=vectorizer.get_feature_names_out(['Title']))\n",
    "\n",
    "# Combine encoded features with numerical features and text features\n",
    "features = pd.concat([encoded_df, text_features_df, df[numerical_features]], axis=1)\n",
    "\n",
    "# Perform K-Means clustering\n",
    "kmeans = KMeans(n_clusters=3, random_state=42)\n",
    "df['Cluster'] = kmeans.fit_predict(features)\n",
    "\n",
    "# Display the clustered dataframe\n",
    "print(df[['Title', 'Cluster']])\n"
   ],
   "metadata": {
    "collapsed": false,
    "ExecuteTime": {
     "end_time": "2023-11-27T02:44:50.433947400Z",
     "start_time": "2023-11-27T02:44:50.355281300Z"
    }
   },
   "id": "9af0534bd85d0b6a"
  },
  {
   "cell_type": "code",
   "execution_count": 181,
   "outputs": [
    {
     "data": {
      "text/plain": "<Figure size 640x480 with 1 Axes>",
      "image/png": "[encoded data removed]"
     },
     "metadata": {},
     "output_type": "display_data"
    }
   ],
   "source": [
    "plt.scatter(df['Publication_Year'], df['Item_Type_Code'], c=df['Cluster'], cmap='viridis')\n",
    "plt.xlabel('Publication Year')\n",
    "plt.ylabel('Item Type Code')\n",
    "plt.title('K-Means Clustering of Library Books with One-Hot Encoding')\n",
    "plt.show()"
   ],
   "metadata": {
    "collapsed": false,
    "ExecuteTime": {
     "end_time": "2023-11-27T02:45:48.429748600Z",
     "start_time": "2023-11-27T02:45:48.354997300Z"
    }
   },
   "id": "5b43e29099b83962"
  },
  {
   "cell_type": "code",
   "execution_count": 182,
   "outputs": [
    {
     "name": "stdout",
     "output_type": "stream",
     "text": [
      "    Title  Cluster\n",
      "0  Book A        0\n",
      "1  Book B       -1\n",
      "2  Book C        0\n",
      "3  Book D       -1\n",
      "4  Book E       -1\n"
     ]
    },
    {
     "name": "stderr",
     "output_type": "stream",
     "text": [
      "C:\\Users\\trush\\anaconda3\\envs\\parser\\Lib\\site-packages\\sklearn\\preprocessing\\_encoders.py:975: FutureWarning: `sparse` was renamed to `sparse_output` in version 1.2 and will be removed in 1.4. `sparse_output` is ignored unless you leave `sparse` to its default value.\n",
      "  warnings.warn(\n"
     ]
    }
   ],
   "source": [
    "import pandas as pd\n",
    "from sklearn.feature_extraction.text import TfidfVectorizer\n",
    "from sklearn.cluster import DBSCAN\n",
    "from sklearn.preprocessing import StandardScaler, OneHotEncoder\n",
    "import matplotlib.pyplot as plt\n",
    "\n",
    "# Create a synthetic dataset with report date as datetime format\n",
    "data = {\n",
    "    'Title': ['Book A', 'Book B', 'Book C', 'Book D', 'Book E'],\n",
    "    'Author': ['Author1', 'Author2', 'Author1', 'Author3', 'Author2'],\n",
    "    'Publisher': ['Pub1', 'Pub2', 'Pub1', 'Pub3', 'Pub2'],\n",
    "    'Subjects': [['Fiction', 'Mystery'], ['Science Fiction'], ['Fiction'], ['Non-Fiction'], []],\n",
    "    'Publication_Year': [2010, 2015, 2010, 2005, 2018],\n",
    "    'Item_Type_Code': ['Type1', 'Type2', 'Type1', 'Type3', 'Type2'],\n",
    "    'Item_Collection_Code': ['Collection1', 'Collection2', 'Collection1', 'Collection3', 'Collection2'],\n",
    "    'Report_Date': ['2023-01-15', '2023-01-10', '2023-01-12', '2023-01-20', '2023-01-18']\n",
    "}\n",
    "\n",
    "df = pd.DataFrame(data)\n",
    "\n",
    "# Convert 'Report_Date' to datetime format\n",
    "df['Report_Date'] = pd.to_datetime(df['Report_Date'])\n",
    "\n",
    "# Extract features for clustering\n",
    "numerical_features = ['Publication_Year']\n",
    "categorical_features = ['Author']\n",
    "\n",
    "# One-hot encode categorical features\n",
    "encoder = OneHotEncoder(sparse=False, drop='first')\n",
    "encoded_features = encoder.fit_transform(df[categorical_features])\n",
    "encoded_df = pd.DataFrame(encoded_features, columns=encoder.get_feature_names_out(categorical_features))\n",
    "\n",
    "# Extract text features using TF-IDF vectorization\n",
    "vectorizer = TfidfVectorizer()\n",
    "text_features_matrix = vectorizer.fit_transform(df['Title'])\n",
    "text_features_df = pd.DataFrame(text_features_matrix.toarray(), columns=vectorizer.get_feature_names_out(['Title']))\n",
    "\n",
    "# Combine encoded features with numerical features and text features\n",
    "features = pd.concat([encoded_df, text_features_df, df[numerical_features]], axis=1)\n",
    "\n",
    "# Standardize features\n",
    "features_standardized = StandardScaler().fit_transform(features)\n",
    "\n",
    "# Perform DBSCAN clustering\n",
    "dbscan = DBSCAN(eps=0.5, min_samples=2)\n",
    "df['Cluster'] = dbscan.fit_predict(features_standardized)\n",
    "\n",
    "# Display the clustered dataframe\n",
    "print(df[['Title', 'Cluster']])\n"
   ],
   "metadata": {
    "collapsed": false,
    "ExecuteTime": {
     "end_time": "2023-11-27T02:52:02.875190700Z",
     "start_time": "2023-11-27T02:52:02.832974700Z"
    }
   },
   "id": "490d3ac972e42aee"
  },
  {
   "cell_type": "code",
   "execution_count": 183,
   "outputs": [
    {
     "name": "stderr",
     "output_type": "stream",
     "text": [
      "C:\\Users\\trush\\anaconda3\\envs\\parser\\Lib\\site-packages\\sklearn\\preprocessing\\_encoders.py:975: FutureWarning: `sparse` was renamed to `sparse_output` in version 1.2 and will be removed in 1.4. `sparse_output` is ignored unless you leave `sparse` to its default value.\n",
      "  warnings.warn(\n"
     ]
    },
    {
     "data": {
      "text/plain": "<Figure size 1000x600 with 1 Axes>",
      "image/png": "[encoded data removed]"
     },
     "metadata": {},
     "output_type": "display_data"
    },
    {
     "name": "stdout",
     "output_type": "stream",
     "text": [
      "    Title  Cluster\n",
      "0  Book A        0\n",
      "1  Book B       -1\n",
      "2  Book C        0\n",
      "3  Book D       -1\n",
      "4  Book E       -1\n"
     ]
    }
   ],
   "source": [
    "import pandas as pd\n",
    "from sklearn.feature_extraction.text import TfidfVectorizer\n",
    "from sklearn.cluster import DBSCAN\n",
    "from sklearn.preprocessing import StandardScaler, OneHotEncoder\n",
    "import matplotlib.pyplot as plt\n",
    "import seaborn as sns\n",
    "\n",
    "# Create a synthetic dataset with report date as datetime format\n",
    "data = {\n",
    "    'Title': ['Book A', 'Book B', 'Book C', 'Book D', 'Book E'],\n",
    "    'Author': ['Author1', 'Author2', 'Author1', 'Author3', 'Author2'],\n",
    "    'Publisher': ['Pub1', 'Pub2', 'Pub1', 'Pub3', 'Pub2'],\n",
    "    'Subjects': [['Fiction', 'Mystery'], ['Science Fiction'], ['Fiction'], ['Non-Fiction'], []],\n",
    "    'Publication_Year': [2010, 2015, 2010, 2005, 2018],\n",
    "    'Item_Type_Code': ['Type1', 'Type2', 'Type1', 'Type3', 'Type2'],\n",
    "    'Item_Collection_Code': ['Collection1', 'Collection2', 'Collection1', 'Collection3', 'Collection2'],\n",
    "    'Report_Date': ['2023-01-15', '2023-01-10', '2023-01-12', '2023-01-20', '2023-01-18']\n",
    "}\n",
    "\n",
    "df = pd.DataFrame(data)\n",
    "\n",
    "# Convert 'Report_Date' to datetime format\n",
    "df['Report_Date'] = pd.to_datetime(df['Report_Date'])\n",
    "\n",
    "# Extract features for clustering\n",
    "numerical_features = ['Publication_Year']\n",
    "categorical_features = ['Author']\n",
    "\n",
    "# One-hot encode categorical features\n",
    "encoder = OneHotEncoder(sparse=False, drop='first')\n",
    "encoded_features = encoder.fit_transform(df[categorical_features])\n",
    "encoded_df = pd.DataFrame(encoded_features, columns=encoder.get_feature_names_out(categorical_features))\n",
    "\n",
    "# Extract text features using TF-IDF vectorization\n",
    "vectorizer = TfidfVectorizer()\n",
    "text_features_matrix = vectorizer.fit_transform(df['Title'])\n",
    "text_features_df = pd.DataFrame(text_features_matrix.toarray(), columns=vectorizer.get_feature_names_out(['Title']))\n",
    "\n",
    "# Combine encoded features with numerical features and text features\n",
    "features = pd.concat([encoded_df, text_features_df, df[numerical_features]], axis=1)\n",
    "\n",
    "# Standardize features\n",
    "features_standardized = StandardScaler().fit_transform(features)\n",
    "\n",
    "# Perform DBSCAN clustering\n",
    "dbscan = DBSCAN(eps=0.5, min_samples=2)\n",
    "df['Cluster'] = dbscan.fit_predict(features_standardized)\n",
    "\n",
    "# Visualize the core samples and their connections\n",
    "core_samples_mask = np.zeros_like(dbscan.labels_, dtype=bool)\n",
    "core_samples_mask[dbscan.core_sample_indices_] = True\n",
    "labels = dbscan.labels_\n",
    "\n",
    "# Plot the core samples and their connections\n",
    "plt.figure(figsize=(10, 6))\n",
    "sns.scatterplot(x='Publication_Year', y='Item_Type_Code', hue=labels, palette='viridis', size=core_samples_mask, sizes=(30, 200), data=df)\n",
    "plt.xlabel('Publication Year')\n",
    "plt.ylabel('Item Type Code')\n",
    "plt.title('DBSCAN Core Samples and Connections Visualization')\n",
    "plt.legend(title='Cluster')\n",
    "plt.show()\n",
    "\n",
    "# Display the clustered dataframe\n",
    "print(df[['Title', 'Cluster']])\n"
   ],
   "metadata": {
    "collapsed": false,
    "ExecuteTime": {
     "end_time": "2023-11-27T02:53:20.384057800Z",
     "start_time": "2023-11-27T02:53:20.063736200Z"
    }
   },
   "id": "6f3108731e8b4cbf"
  },
  {
   "cell_type": "code",
   "execution_count": 184,
   "outputs": [
    {
     "name": "stderr",
     "output_type": "stream",
     "text": [
      "C:\\Users\\trush\\anaconda3\\envs\\parser\\Lib\\site-packages\\sklearn\\preprocessing\\_encoders.py:975: FutureWarning: `sparse` was renamed to `sparse_output` in version 1.2 and will be removed in 1.4. `sparse_output` is ignored unless you leave `sparse` to its default value.\n",
      "  warnings.warn(\n"
     ]
    },
    {
     "data": {
      "text/plain": "<Figure size 1000x600 with 1 Axes>",
      "image/png": "[encoded data removed]"
     },
     "metadata": {},
     "output_type": "display_data"
    },
    {
     "name": "stdout",
     "output_type": "stream",
     "text": [
      "    Title  Cluster_cut\n",
      "0  Book A            2\n",
      "1  Book B            2\n",
      "2  Book C            0\n",
      "3  Book D            1\n",
      "4  Book E            0\n"
     ]
    }
   ],
   "source": [
    "import pandas as pd\n",
    "from sklearn.feature_extraction.text import TfidfVectorizer\n",
    "from sklearn.cluster import AgglomerativeClustering\n",
    "from sklearn.preprocessing import StandardScaler, OneHotEncoder\n",
    "import matplotlib.pyplot as plt\n",
    "from scipy.cluster.hierarchy import dendrogram, linkage\n",
    "\n",
    "# Create a synthetic dataset with report date as datetime format\n",
    "data = {\n",
    "    'Title': ['Book A', 'Book B', 'Book C', 'Book D', 'Book E'],\n",
    "    'Author': ['Author1', 'Author2', 'Author1', 'Author3', 'Author2'],\n",
    "    'Publisher': ['Pub1', 'Pub2', 'Pub1', 'Pub3', 'Pub2'],\n",
    "    'Subjects': [['Fiction', 'Mystery'], ['Science Fiction'], ['Fiction'], ['Non-Fiction'], []],\n",
    "    'Publication_Year': [2010, 2015, 2010, 2005, 2018],\n",
    "    'Item_Type_Code': ['Type1', 'Type2', 'Type1', 'Type3', 'Type2'],\n",
    "    'Item_Collection_Code': ['Collection1', 'Collection2', 'Collection1', 'Collection3', 'Collection2'],\n",
    "    'Report_Date': ['2023-01-15', '2023-01-10', '2023-01-12', '2023-01-20', '2023-01-18']\n",
    "}\n",
    "\n",
    "df = pd.DataFrame(data)\n",
    "\n",
    "# Convert 'Report_Date' to datetime format\n",
    "df['Report_Date'] = pd.to_datetime(df['Report_Date'])\n",
    "\n",
    "# Extract features for clustering\n",
    "numerical_features = ['Publication_Year']\n",
    "categorical_features = ['Author']\n",
    "\n",
    "# One-hot encode categorical features\n",
    "encoder = OneHotEncoder(sparse=False, drop='first')\n",
    "encoded_features = encoder.fit_transform(df[categorical_features])\n",
    "encoded_df = pd.DataFrame(encoded_features, columns=encoder.get_feature_names_out(categorical_features))\n",
    "\n",
    "# Extract text features using TF-IDF vectorization\n",
    "vectorizer = TfidfVectorizer()\n",
    "text_features_matrix = vectorizer.fit_transform(df['Title'])\n",
    "text_features_df = pd.DataFrame(text_features_matrix.toarray(), columns=vectorizer.get_feature_names_out(['Title']))\n",
    "\n",
    "# Combine encoded features with numerical features and text features\n",
    "features = pd.concat([encoded_df, text_features_df, df[numerical_features]], axis=1)\n",
    "\n",
    "# Standardize features\n",
    "features_standardized = StandardScaler().fit_transform(features)\n",
    "\n",
    "# Perform Agglomerative Hierarchical Clustering\n",
    "agg_cluster = AgglomerativeClustering(n_clusters=None, distance_threshold=0, linkage='ward')\n",
    "df['Cluster'] = agg_cluster.fit_predict(features_standardized)\n",
    "\n",
    "# Visualize the clustering using a dendrogram\n",
    "linked = linkage(features_standardized, 'ward')\n",
    "plt.figure(figsize=(10, 6))\n",
    "dendrogram(linked, orientation='top', labels=df['Title'].tolist(), distance_sort='descending', show_leaf_counts=True)\n",
    "plt.title('Agglomerative Hierarchical Clustering Dendrogram')\n",
    "plt.show()\n",
    "\n",
    "# Cut the dendrogram to obtain a specific number of clusters\n",
    "num_clusters = 3\n",
    "df['Cluster_cut'] = pd.cut(df['Cluster'], bins=num_clusters, labels=False)\n",
    "\n",
    "# Visualize the clustered dataframe\n",
    "print(df[['Title', 'Cluster_cut']])\n"
   ],
   "metadata": {
    "collapsed": false,
    "ExecuteTime": {
     "end_time": "2023-11-27T02:55:47.064850400Z",
     "start_time": "2023-11-27T02:55:46.916165Z"
    }
   },
   "id": "833e4c4cef27fabe"
  },
  {
   "cell_type": "code",
   "execution_count": 185,
   "outputs": [
    {
     "name": "stdout",
     "output_type": "stream",
     "text": [
      "Accuracy: 1.00\n",
      "Classification Report:\n",
      "                  precision    recall  f1-score   support\n",
      "\n",
      "Science Fiction       1.00      1.00      1.00         1\n",
      "\n",
      "       accuracy                           1.00         1\n",
      "      macro avg       1.00      1.00      1.00         1\n",
      "   weighted avg       1.00      1.00      1.00         1\n"
     ]
    },
    {
     "name": "stderr",
     "output_type": "stream",
     "text": [
      "C:\\Users\\trush\\anaconda3\\envs\\parser\\Lib\\site-packages\\sklearn\\preprocessing\\_encoders.py:975: FutureWarning: `sparse` was renamed to `sparse_output` in version 1.2 and will be removed in 1.4. `sparse_output` is ignored unless you leave `sparse` to its default value.\n",
      "  warnings.warn(\n"
     ]
    }
   ],
   "source": [
    "import pandas as pd\n",
    "from sklearn.model_selection import train_test_split\n",
    "from sklearn.ensemble import RandomForestClassifier\n",
    "from sklearn.feature_extraction.text import TfidfVectorizer\n",
    "from sklearn.preprocessing import StandardScaler, OneHotEncoder\n",
    "from sklearn.metrics import classification_report, accuracy_score\n",
    "\n",
    "# Create a synthetic dataset with report date as datetime format\n",
    "data = {\n",
    "    'Title': ['Book A', 'Book B', 'Book C', 'Book D', 'Book E'],\n",
    "    'Author': ['Author1', 'Author2', 'Author1', 'Author3', 'Author2'],\n",
    "    'Publisher': ['Pub1', 'Pub2', 'Pub1', 'Pub3', 'Pub2'],\n",
    "    'Subjects': [['Fiction', 'Mystery'], ['Science Fiction'], ['Fiction'], ['Non-Fiction'], []],\n",
    "    'Publication_Year': [2010, 2015, 2010, 2005, 2018],\n",
    "    'Item_Type_Code': ['Type1', 'Type2', 'Type1', 'Type3', 'Type2'],\n",
    "    'Item_Collection_Code': ['Collection1', 'Collection2', 'Collection1', 'Collection3', 'Collection2'],\n",
    "    'Report_Date': ['2023-01-15', '2023-01-10', '2023-01-12', '2023-01-20', '2023-01-18'],\n",
    "    'Genre': ['Mystery', 'Science Fiction', 'Fiction', 'Non-Fiction', 'Science Fiction']\n",
    "}\n",
    "\n",
    "df = pd.DataFrame(data)\n",
    "\n",
    "# Convert 'Report_Date' to datetime format\n",
    "df['Report_Date'] = pd.to_datetime(df['Report_Date'])\n",
    "\n",
    "# Extract features for classification\n",
    "numerical_features = ['Publication_Year']\n",
    "categorical_features = ['Author', 'Publisher']\n",
    "\n",
    "# One-hot encode categorical features\n",
    "encoder = OneHotEncoder(sparse=False, drop='first')\n",
    "encoded_features = encoder.fit_transform(df[categorical_features])\n",
    "encoded_df = pd.DataFrame(encoded_features, columns=encoder.get_feature_names_out(categorical_features))\n",
    "\n",
    "# Extract text features using TF-IDF vectorization\n",
    "vectorizer = TfidfVectorizer()\n",
    "text_features_matrix = vectorizer.fit_transform(df['Title'])\n",
    "text_features_df = pd.DataFrame(text_features_matrix.toarray(), columns=vectorizer.get_feature_names_out(['Title']))\n",
    "\n",
    "# Combine encoded features with numerical features and text features\n",
    "features = pd.concat([encoded_df, text_features_df, df[numerical_features]], axis=1)\n",
    "\n",
    "# Standardize features\n",
    "features_standardized = StandardScaler().fit_transform(features)\n",
    "\n",
    "# Split the dataset into training and testing sets\n",
    "X_train, X_test, y_train, y_test = train_test_split(features_standardized, df['Genre'], test_size=0.2, random_state=42)\n",
    "\n",
    "# Create a Random Forest classifier\n",
    "rf_classifier = RandomForestClassifier(n_estimators=100, random_state=42)\n",
    "\n",
    "# Train the classifier\n",
    "rf_classifier.fit(X_train, y_train)\n",
    "\n",
    "# Make predictions on the test set\n",
    "y_pred = rf_classifier.predict(X_test)\n",
    "\n",
    "# Evaluate the performance\n",
    "accuracy = accuracy_score(y_test, y_pred)\n",
    "classification_rep = classification_report(y_test, y_pred)\n",
    "\n",
    "print(f\"Accuracy: {accuracy:.2f}\")\n",
    "print(\"Classification Report:\\n\", classification_rep)\n"
   ],
   "metadata": {
    "collapsed": false,
    "ExecuteTime": {
     "end_time": "2023-11-27T02:57:10.810685600Z",
     "start_time": "2023-11-27T02:57:10.603262900Z"
    }
   },
   "id": "c90d6fdc6ccacbf8"
  },
  {
   "cell_type": "code",
   "execution_count": 188,
   "outputs": [
    {
     "name": "stdout",
     "output_type": "stream",
     "text": [
      "Accuracy: 1.00\n",
      "Classification Report:\n",
      "                  precision    recall  f1-score   support\n",
      "\n",
      "Science Fiction       1.00      1.00      1.00         1\n",
      "\n",
      "       accuracy                           1.00         1\n",
      "      macro avg       1.00      1.00      1.00         1\n",
      "   weighted avg       1.00      1.00      1.00         1\n"
     ]
    },
    {
     "name": "stderr",
     "output_type": "stream",
     "text": [
      "C:\\Users\\trush\\anaconda3\\envs\\parser\\Lib\\site-packages\\sklearn\\preprocessing\\_encoders.py:975: FutureWarning: `sparse` was renamed to `sparse_output` in version 1.2 and will be removed in 1.4. `sparse_output` is ignored unless you leave `sparse` to its default value.\n",
      "  warnings.warn(\n"
     ]
    }
   ],
   "source": [
    "import pandas as pd\n",
    "from sklearn.model_selection import train_test_split\n",
    "from sklearn.svm import SVC\n",
    "from sklearn.feature_extraction.text import TfidfVectorizer\n",
    "from sklearn.preprocessing import StandardScaler, OneHotEncoder\n",
    "from sklearn.metrics import classification_report, accuracy_score\n",
    "\n",
    "# Create a synthetic dataset with report date as datetime format\n",
    "data = {\n",
    "    'Title': ['Book A', 'Book B', 'Book C', 'Book D', 'Book E'],\n",
    "    'Author': ['Author1', 'Author2', 'Author1', 'Author3', 'Author2'],\n",
    "    'Publisher': ['Pub1', 'Pub2', 'Pub1', 'Pub3', 'Pub2'],\n",
    "    'Subjects': [['Fiction', 'Mystery'], ['Science Fiction'], ['Fiction'], ['Non-Fiction'], []],\n",
    "    'Publication_Year': [2010, 2015, 2010, 2005, 2018],\n",
    "    'Item_Type_Code': ['Type1', 'Type2', 'Type1', 'Type3', 'Type2'],\n",
    "    'Item_Collection_Code': ['Collection1', 'Collection2', 'Collection1', 'Collection3', 'Collection2'],\n",
    "    'Report_Date': ['2023-01-15', '2023-01-10', '2023-01-12', '2023-01-20', '2023-01-18'],\n",
    "    'Genre': ['Mystery', 'Science Fiction', 'Fiction', 'Non-Fiction', 'Science Fiction']\n",
    "}\n",
    "\n",
    "df = pd.DataFrame(data)\n",
    "\n",
    "# Convert 'Report_Date' to datetime format\n",
    "df['Report_Date'] = pd.to_datetime(df['Report_Date'])\n",
    "\n",
    "# Extract features for classification\n",
    "numerical_features = ['Publication_Year']\n",
    "categorical_features = ['Author', 'Publisher']\n",
    "\n",
    "# One-hot encode categorical features\n",
    "encoder = OneHotEncoder(sparse=False, drop='first')\n",
    "encoded_features = encoder.fit_transform(df[categorical_features])\n",
    "encoded_df = pd.DataFrame(encoded_features, columns=encoder.get_feature_names_out(categorical_features))\n",
    "\n",
    "# Extract text features using TF-IDF vectorization\n",
    "vectorizer = TfidfVectorizer()\n",
    "text_features_matrix = vectorizer.fit_transform(df['Title'])\n",
    "text_features_df = pd.DataFrame(text_features_matrix.toarray(), columns=vectorizer.get_feature_names_out(['Title']))\n",
    "\n",
    "# Combine encoded features with numerical features and text features\n",
    "features = pd.concat([encoded_df, text_features_df, df[numerical_features]], axis=1)\n",
    "\n",
    "# Standardize features\n",
    "features_standardized = StandardScaler().fit_transform(features)\n",
    "\n",
    "# Split the dataset into training and testing sets\n",
    "X_train, X_test, y_train, y_test = train_test_split(features_standardized, df['Genre'], test_size=0.2, random_state=42)\n",
    "\n",
    "# Create a Support Vector Machines (SVM) classifier\n",
    "svm_classifier = SVC(kernel='linear', C=1.0, random_state=42)\n",
    "\n",
    "# Train the classifier\n",
    "svm_classifier.fit(X_train, y_train)\n",
    "\n",
    "# Make predictions on the test set\n",
    "y_pred = svm_classifier.predict(X_test)\n",
    "\n",
    "# Evaluate the performance\n",
    "accuracy = accuracy_score(y_test, y_pred)\n",
    "classification_rep = classification_report(y_test, y_pred)\n",
    "\n",
    "print(f\"Accuracy: {accuracy:.2f}\")\n",
    "print(\"Classification Report:\\n\", classification_rep)\n"
   ],
   "metadata": {
    "collapsed": false,
    "ExecuteTime": {
     "end_time": "2023-11-27T03:03:53.909266Z",
     "start_time": "2023-11-27T03:03:53.879118800Z"
    }
   },
   "id": "d0d74980a1c97c8d"
  },
  {
   "cell_type": "code",
   "execution_count": 189,
   "outputs": [
    {
     "name": "stderr",
     "output_type": "stream",
     "text": [
      "C:\\Users\\trush\\anaconda3\\envs\\parser\\Lib\\site-packages\\sklearn\\preprocessing\\_encoders.py:975: FutureWarning: `sparse` was renamed to `sparse_output` in version 1.2 and will be removed in 1.4. `sparse_output` is ignored unless you leave `sparse` to its default value.\n",
      "  warnings.warn(\n"
     ]
    },
    {
     "ename": "ValueError",
     "evalue": "Negative values in data passed to MultinomialNB (input X)",
     "output_type": "error",
     "traceback": [
      "\u001B[1;31m---------------------------------------------------------------------------\u001B[0m",
      "\u001B[1;31mValueError\u001B[0m                                Traceback (most recent call last)",
      "Cell \u001B[1;32mIn[189], line 49\u001B[0m\n\u001B[0;32m     46\u001B[0m nb_classifier \u001B[38;5;241m=\u001B[39m MultinomialNB()\n\u001B[0;32m     48\u001B[0m \u001B[38;5;66;03m# Train the classifier\u001B[39;00m\n\u001B[1;32m---> 49\u001B[0m nb_classifier\u001B[38;5;241m.\u001B[39mfit(X_train, y_train)\n\u001B[0;32m     51\u001B[0m \u001B[38;5;66;03m# Make predictions on the test set\u001B[39;00m\n\u001B[0;32m     52\u001B[0m y_pred \u001B[38;5;241m=\u001B[39m nb_classifier\u001B[38;5;241m.\u001B[39mpredict(X_test)\n",
      "File \u001B[1;32m~\\anaconda3\\envs\\parser\\Lib\\site-packages\\sklearn\\base.py:1152\u001B[0m, in \u001B[0;36m_fit_context.<locals>.decorator.<locals>.wrapper\u001B[1;34m(estimator, *args, **kwargs)\u001B[0m\n\u001B[0;32m   1145\u001B[0m     estimator\u001B[38;5;241m.\u001B[39m_validate_params()\n\u001B[0;32m   1147\u001B[0m \u001B[38;5;28;01mwith\u001B[39;00m config_context(\n\u001B[0;32m   1148\u001B[0m     skip_parameter_validation\u001B[38;5;241m=\u001B[39m(\n\u001B[0;32m   1149\u001B[0m         prefer_skip_nested_validation \u001B[38;5;129;01mor\u001B[39;00m global_skip_validation\n\u001B[0;32m   1150\u001B[0m     )\n\u001B[0;32m   1151\u001B[0m ):\n\u001B[1;32m-> 1152\u001B[0m     \u001B[38;5;28;01mreturn\u001B[39;00m fit_method(estimator, \u001B[38;5;241m*\u001B[39margs, \u001B[38;5;241m*\u001B[39m\u001B[38;5;241m*\u001B[39mkwargs)\n",
      "File \u001B[1;32m~\\anaconda3\\envs\\parser\\Lib\\site-packages\\sklearn\\naive_bayes.py:772\u001B[0m, in \u001B[0;36m_BaseDiscreteNB.fit\u001B[1;34m(self, X, y, sample_weight)\u001B[0m\n\u001B[0;32m    770\u001B[0m n_classes \u001B[38;5;241m=\u001B[39m Y\u001B[38;5;241m.\u001B[39mshape[\u001B[38;5;241m1\u001B[39m]\n\u001B[0;32m    771\u001B[0m \u001B[38;5;28mself\u001B[39m\u001B[38;5;241m.\u001B[39m_init_counters(n_classes, n_features)\n\u001B[1;32m--> 772\u001B[0m \u001B[38;5;28mself\u001B[39m\u001B[38;5;241m.\u001B[39m_count(X, Y)\n\u001B[0;32m    773\u001B[0m alpha \u001B[38;5;241m=\u001B[39m \u001B[38;5;28mself\u001B[39m\u001B[38;5;241m.\u001B[39m_check_alpha()\n\u001B[0;32m    774\u001B[0m \u001B[38;5;28mself\u001B[39m\u001B[38;5;241m.\u001B[39m_update_feature_log_prob(alpha)\n",
      "File \u001B[1;32m~\\anaconda3\\envs\\parser\\Lib\\site-packages\\sklearn\\naive_bayes.py:894\u001B[0m, in \u001B[0;36mMultinomialNB._count\u001B[1;34m(self, X, Y)\u001B[0m\n\u001B[0;32m    892\u001B[0m \u001B[38;5;28;01mdef\u001B[39;00m \u001B[38;5;21m_count\u001B[39m(\u001B[38;5;28mself\u001B[39m, X, Y):\n\u001B[0;32m    893\u001B[0m \u001B[38;5;250m    \u001B[39m\u001B[38;5;124;03m\"\"\"Count and smooth feature occurrences.\"\"\"\u001B[39;00m\n\u001B[1;32m--> 894\u001B[0m     check_non_negative(X, \u001B[38;5;124m\"\u001B[39m\u001B[38;5;124mMultinomialNB (input X)\u001B[39m\u001B[38;5;124m\"\u001B[39m)\n\u001B[0;32m    895\u001B[0m     \u001B[38;5;28mself\u001B[39m\u001B[38;5;241m.\u001B[39mfeature_count_ \u001B[38;5;241m+\u001B[39m\u001B[38;5;241m=\u001B[39m safe_sparse_dot(Y\u001B[38;5;241m.\u001B[39mT, X)\n\u001B[0;32m    896\u001B[0m     \u001B[38;5;28mself\u001B[39m\u001B[38;5;241m.\u001B[39mclass_count_ \u001B[38;5;241m+\u001B[39m\u001B[38;5;241m=\u001B[39m Y\u001B[38;5;241m.\u001B[39msum(axis\u001B[38;5;241m=\u001B[39m\u001B[38;5;241m0\u001B[39m)\n",
      "File \u001B[1;32m~\\anaconda3\\envs\\parser\\Lib\\site-packages\\sklearn\\utils\\validation.py:1489\u001B[0m, in \u001B[0;36mcheck_non_negative\u001B[1;34m(X, whom)\u001B[0m\n\u001B[0;32m   1486\u001B[0m     X_min \u001B[38;5;241m=\u001B[39m xp\u001B[38;5;241m.\u001B[39mmin(X)\n\u001B[0;32m   1488\u001B[0m \u001B[38;5;28;01mif\u001B[39;00m X_min \u001B[38;5;241m<\u001B[39m \u001B[38;5;241m0\u001B[39m:\n\u001B[1;32m-> 1489\u001B[0m     \u001B[38;5;28;01mraise\u001B[39;00m \u001B[38;5;167;01mValueError\u001B[39;00m(\u001B[38;5;124m\"\u001B[39m\u001B[38;5;124mNegative values in data passed to \u001B[39m\u001B[38;5;132;01m%s\u001B[39;00m\u001B[38;5;124m\"\u001B[39m \u001B[38;5;241m%\u001B[39m whom)\n",
      "\u001B[1;31mValueError\u001B[0m: Negative values in data passed to MultinomialNB (input X)"
     ]
    }
   ],
   "source": [
    "import pandas as pd\n",
    "from sklearn.model_selection import train_test_split\n",
    "from sklearn.feature_extraction.text import TfidfVectorizer\n",
    "from sklearn.naive_bayes import MultinomialNB\n",
    "from sklearn.preprocessing import StandardScaler, OneHotEncoder\n",
    "from sklearn.metrics import classification_report, accuracy_score\n",
    "\n",
    "# Create a synthetic dataset\n",
    "data = {\n",
    "    'Title': ['Book A', 'Book B', 'Book C', 'Book D', 'Book E'],\n",
    "    'Author': ['Author1', 'Author2', 'Author1', 'Author3', 'Author2'],\n",
    "    'Publisher': ['Pub1', 'Pub2', 'Pub1', 'Pub3', 'Pub2'],\n",
    "    'Subjects': [['Fiction', 'Mystery'], ['Science Fiction'], ['Fiction'], ['Non-Fiction'], []],\n",
    "    'Publication_Year': [2010, 2015, 2010, 2005, 2018],\n",
    "    'Item_Type_Code': ['Type1', 'Type2', 'Type1', 'Type3', 'Type2'],\n",
    "    'Item_Collection_Code': ['Collection1', 'Collection2', 'Collection1', 'Collection3', 'Collection2'],\n",
    "    'Genre': ['Mystery', 'Science Fiction', 'Fiction', 'Non-Fiction', 'Science Fiction']\n",
    "}\n",
    "\n",
    "df = pd.DataFrame(data)\n",
    "\n",
    "# Extract features for classification\n",
    "numerical_features = ['Publication_Year']\n",
    "categorical_features = ['Author', 'Publisher']\n",
    "\n",
    "# One-hot encode categorical features\n",
    "encoder = OneHotEncoder(sparse=False, drop='first')\n",
    "encoded_features = encoder.fit_transform(df[categorical_features])\n",
    "encoded_df = pd.DataFrame(encoded_features, columns=encoder.get_feature_names_out(categorical_features))\n",
    "\n",
    "# Extract text features using TF-IDF vectorization\n",
    "vectorizer = TfidfVectorizer()\n",
    "text_features_matrix = vectorizer.fit_transform(df['Title'])\n",
    "text_features_df = pd.DataFrame(text_features_matrix.toarray(), columns=vectorizer.get_feature_names_out(['Title']))\n",
    "\n",
    "# Combine encoded features with numerical features and text features\n",
    "features = pd.concat([encoded_df, text_features_df, df[numerical_features]], axis=1)\n",
    "\n",
    "# Standardize features (not always necessary for Naive Bayes)\n",
    "features_standardized = StandardScaler().fit_transform(features)\n",
    "\n",
    "# Split the dataset into training and testing sets\n",
    "X_train, X_test, y_train, y_test = train_test_split(features_standardized, df['Genre'], test_size=0.2, random_state=42)\n",
    "\n",
    "# Create a Multinomial Naive Bayes classifier\n",
    "nb_classifier = MultinomialNB()\n",
    "\n",
    "# Train the classifier\n",
    "nb_classifier.fit(X_train, y_train)\n",
    "\n",
    "# Make predictions on the test set\n",
    "y_pred = nb_classifier.predict(X_test)\n",
    "\n",
    "# Evaluate the performance\n",
    "accuracy = accuracy_score(y_test, y_pred)\n",
    "classification_rep = classification_report(y_test, y_pred)\n",
    "\n",
    "print(f\"Accuracy: {accuracy:.2f}\")\n",
    "print(\"Classification Report:\\n\", classification_rep)\n"
   ],
   "metadata": {
    "collapsed": false,
    "ExecuteTime": {
     "end_time": "2023-11-27T03:08:24.924564300Z",
     "start_time": "2023-11-27T03:08:24.714935600Z"
    }
   },
   "id": "dbd7ecf26a085414"
  },
  {
   "cell_type": "code",
   "execution_count": 190,
   "outputs": [
    {
     "name": "stdout",
     "output_type": "stream",
     "text": [
      "Accuracy: 0.00\n",
      "Classification Report:\n",
      "                  precision    recall  f1-score   support\n",
      "\n",
      "        Fiction       0.00      0.00      0.00       0.0\n",
      "Science Fiction       0.00      0.00      0.00       1.0\n",
      "\n",
      "       accuracy                           0.00       1.0\n",
      "      macro avg       0.00      0.00      0.00       1.0\n",
      "   weighted avg       0.00      0.00      0.00       1.0\n"
     ]
    },
    {
     "name": "stderr",
     "output_type": "stream",
     "text": [
      "C:\\Users\\trush\\anaconda3\\envs\\parser\\Lib\\site-packages\\sklearn\\preprocessing\\_encoders.py:975: FutureWarning: `sparse` was renamed to `sparse_output` in version 1.2 and will be removed in 1.4. `sparse_output` is ignored unless you leave `sparse` to its default value.\n",
      "  warnings.warn(\n",
      "C:\\Users\\trush\\anaconda3\\envs\\parser\\Lib\\site-packages\\sklearn\\metrics\\_classification.py:1471: UndefinedMetricWarning: Precision and F-score are ill-defined and being set to 0.0 in labels with no predicted samples. Use `zero_division` parameter to control this behavior.\n",
      "  _warn_prf(average, modifier, msg_start, len(result))\n",
      "C:\\Users\\trush\\anaconda3\\envs\\parser\\Lib\\site-packages\\sklearn\\metrics\\_classification.py:1471: UndefinedMetricWarning: Recall and F-score are ill-defined and being set to 0.0 in labels with no true samples. Use `zero_division` parameter to control this behavior.\n",
      "  _warn_prf(average, modifier, msg_start, len(result))\n",
      "C:\\Users\\trush\\anaconda3\\envs\\parser\\Lib\\site-packages\\sklearn\\metrics\\_classification.py:1471: UndefinedMetricWarning: Precision and F-score are ill-defined and being set to 0.0 in labels with no predicted samples. Use `zero_division` parameter to control this behavior.\n",
      "  _warn_prf(average, modifier, msg_start, len(result))\n",
      "C:\\Users\\trush\\anaconda3\\envs\\parser\\Lib\\site-packages\\sklearn\\metrics\\_classification.py:1471: UndefinedMetricWarning: Recall and F-score are ill-defined and being set to 0.0 in labels with no true samples. Use `zero_division` parameter to control this behavior.\n",
      "  _warn_prf(average, modifier, msg_start, len(result))\n",
      "C:\\Users\\trush\\anaconda3\\envs\\parser\\Lib\\site-packages\\sklearn\\metrics\\_classification.py:1471: UndefinedMetricWarning: Precision and F-score are ill-defined and being set to 0.0 in labels with no predicted samples. Use `zero_division` parameter to control this behavior.\n",
      "  _warn_prf(average, modifier, msg_start, len(result))\n",
      "C:\\Users\\trush\\anaconda3\\envs\\parser\\Lib\\site-packages\\sklearn\\metrics\\_classification.py:1471: UndefinedMetricWarning: Recall and F-score are ill-defined and being set to 0.0 in labels with no true samples. Use `zero_division` parameter to control this behavior.\n",
      "  _warn_prf(average, modifier, msg_start, len(result))\n"
     ]
    }
   ],
   "source": [
    "import pandas as pd\n",
    "from sklearn.model_selection import train_test_split\n",
    "from sklearn.feature_extraction.text import TfidfVectorizer\n",
    "from sklearn.naive_bayes import MultinomialNB\n",
    "from sklearn.preprocessing import OneHotEncoder\n",
    "from sklearn.metrics import classification_report, accuracy_score\n",
    "\n",
    "# Create a synthetic dataset\n",
    "data = {\n",
    "    'Title': ['Book A', 'Book B', 'Book C', 'Book D', 'Book E'],\n",
    "    'Author': ['Author1', 'Author2', 'Author1', 'Author3', 'Author2'],\n",
    "    'Publisher': ['Pub1', 'Pub2', 'Pub1', 'Pub3', 'Pub2'],\n",
    "    'Subjects': [['Fiction', 'Mystery'], ['Science Fiction'], ['Fiction'], ['Non-Fiction'], []],\n",
    "    'Publication_Year': [2010, 2015, 2010, 2005, 2018],\n",
    "    'Item_Type_Code': ['Type1', 'Type2', 'Type1', 'Type3', 'Type2'],\n",
    "    'Item_Collection_Code': ['Collection1', 'Collection2', 'Collection1', 'Collection3', 'Collection2'],\n",
    "    'Genre': ['Mystery', 'Science Fiction', 'Fiction', 'Non-Fiction', 'Science Fiction']\n",
    "}\n",
    "\n",
    "df = pd.DataFrame(data)\n",
    "\n",
    "# Extract features for classification\n",
    "numerical_features = ['Publication_Year']\n",
    "categorical_features = ['Author', 'Publisher']\n",
    "\n",
    "# One-hot encode categorical features\n",
    "encoder = OneHotEncoder(sparse=False, drop='first')\n",
    "encoded_features = encoder.fit_transform(df[categorical_features])\n",
    "encoded_df = pd.DataFrame(encoded_features, columns=encoder.get_feature_names_out(categorical_features))\n",
    "\n",
    "# Extract text features using TF-IDF vectorization\n",
    "vectorizer = TfidfVectorizer()\n",
    "text_features_matrix = vectorizer.fit_transform(df['Title'])\n",
    "text_features_df = pd.DataFrame(text_features_matrix.toarray(), columns=vectorizer.get_feature_names_out(['Title']))\n",
    "\n",
    "# Combine encoded features with numerical features and text features\n",
    "features = pd.concat([encoded_df, text_features_df, df[numerical_features]], axis=1)\n",
    "\n",
    "# Split the dataset into training and testing sets\n",
    "X_train, X_test, y_train, y_test = train_test_split(features, df['Genre'], test_size=0.2, random_state=42)\n",
    "\n",
    "# Create a Multinomial Naive Bayes classifier\n",
    "nb_classifier = MultinomialNB()\n",
    "\n",
    "# Train the classifier\n",
    "nb_classifier.fit(X_train, y_train)\n",
    "\n",
    "# Make predictions on the test set\n",
    "y_pred = nb_classifier.predict(X_test)\n",
    "\n",
    "# Evaluate the performance\n",
    "accuracy = accuracy_score(y_test, y_pred)\n",
    "classification_rep = classification_report(y_test, y_pred)\n",
    "\n",
    "print(f\"Accuracy: {accuracy:.2f}\")\n",
    "print(\"Classification Report:\\n\", classification_rep)\n"
   ],
   "metadata": {
    "collapsed": false,
    "ExecuteTime": {
     "end_time": "2023-11-27T03:11:01.128735200Z",
     "start_time": "2023-11-27T03:11:01.088330700Z"
    }
   },
   "id": "d095013d2b19581d"
  },
  {
   "cell_type": "code",
   "execution_count": 2,
   "outputs": [
    {
     "name": "stdout",
     "output_type": "stream",
     "text": [
      "       and  document     first        is      one    second       the  \\\n",
      "0  0.00000  0.469417  0.617227  0.364544  0.00000  0.000000  0.364544   \n",
      "1  0.00000  0.728445  0.000000  0.282851  0.00000  0.478909  0.282851   \n",
      "2  0.49712  0.000000  0.000000  0.293607  0.49712  0.000000  0.293607   \n",
      "\n",
      "     third      this  \n",
      "0  0.00000  0.364544  \n",
      "1  0.00000  0.282851  \n",
      "2  0.49712  0.293607  \n"
     ]
    }
   ],
   "source": [
    "import pandas as pd\n",
    "from sklearn.feature_extraction.text import TfidfVectorizer\n",
    "\n",
    "# Example text data\n",
    "documents = [\"This is the first document.\", \"This document is the second document.\", \"And this is the third one.\"]\n",
    "\n",
    "# Create a TfidfVectorizer instance\n",
    "tfidf_vectorizer = TfidfVectorizer()\n",
    "\n",
    "# Fit and transform the text data\n",
    "tfidf_matrix = tfidf_vectorizer.fit_transform(documents)\n",
    "\n",
    "# Convert the TF-IDF matrix to a DataFrame for better visualization\n",
    "df_tfidf = pd.DataFrame(tfidf_matrix.toarray(), columns=tfidf_vectorizer.get_feature_names_out())\n",
    "\n",
    "# Display the TF-IDF matrix\n",
    "print(df_tfidf)"
   ],
   "metadata": {
    "collapsed": false,
    "ExecuteTime": {
     "end_time": "2023-11-29T15:06:53.569053100Z",
     "start_time": "2023-11-29T15:06:53.527919100Z"
    }
   },
   "id": "ec997aba00fe0458"
  }
 ],
 "metadata": {
  "kernelspec": {
   "display_name": "Python 3",
   "language": "python",
   "name": "python3"
  },
  "language_info": {
   "codemirror_mode": {
    "name": "ipython",
    "version": 2
   },
   "file_extension": ".py",
   "mimetype": "text/x-python",
   "name": "python",
   "nbconvert_exporter": "python",
   "pygments_lexer": "ipython2",
   "version": "2.7.6"
  }
 },
 "nbformat": 4,
 "nbformat_minor": 5
}
